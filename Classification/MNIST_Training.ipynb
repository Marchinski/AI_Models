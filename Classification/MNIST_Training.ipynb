{
  "nbformat": 4,
  "nbformat_minor": 0,
  "metadata": {
    "accelerator": "GPU",
    "colab": {
      "name": "MNIST_Training.ipynb",
      "provenance": [],
      "collapsed_sections": [
        "z3EDSBqyns_y",
        "g-1iLxm5n78m",
        "gkp9TFTwoE7b",
        "5Mfgu-oYv7uq",
        "gKWaIaWk75l3",
        "xrEUrveORvRi",
        "cV-9-K8zSfSj",
        "HSySclCr75mn",
        "KRmLozJtpv8c",
        "5KYYSD11rWYc",
        "tkMvoml5rWYd",
        "PQEcL4bgrWYf",
        "3tCULFPfrWYg",
        "_Bvn1MugrWYh"
      ],
      "toc_visible": true,
      "machine_shape": "hm"
    },
    "kernelspec": {
      "display_name": "Python 3",
      "name": "python3"
    },
    "language_info": {
      "name": "python"
    },
    "widgets": {
      "application/vnd.jupyter.widget-state+json": {
        "aaf94ec660af46439edad265f75607e3": {
          "model_module": "@jupyter-widgets/controls",
          "model_name": "HBoxModel",
          "state": {
            "_view_name": "HBoxView",
            "_dom_classes": [],
            "_model_name": "HBoxModel",
            "_view_module": "@jupyter-widgets/controls",
            "_model_module_version": "1.5.0",
            "_view_count": null,
            "_view_module_version": "1.5.0",
            "box_style": "",
            "layout": "IPY_MODEL_87973c033b22481bbb55f82356364b95",
            "_model_module": "@jupyter-widgets/controls",
            "children": [
              "IPY_MODEL_793579afee194b2aa4dcbe6f043a04e3",
              "IPY_MODEL_d58f1217ed454594970faf80d2340f28"
            ]
          }
        },
        "87973c033b22481bbb55f82356364b95": {
          "model_module": "@jupyter-widgets/base",
          "model_name": "LayoutModel",
          "state": {
            "_view_name": "LayoutView",
            "grid_template_rows": null,
            "right": null,
            "justify_content": null,
            "_view_module": "@jupyter-widgets/base",
            "overflow": null,
            "_model_module_version": "1.2.0",
            "_view_count": null,
            "flex_flow": null,
            "width": null,
            "min_width": null,
            "border": null,
            "align_items": null,
            "bottom": null,
            "_model_module": "@jupyter-widgets/base",
            "top": null,
            "grid_column": null,
            "overflow_y": null,
            "overflow_x": null,
            "grid_auto_flow": null,
            "grid_area": null,
            "grid_template_columns": null,
            "flex": null,
            "_model_name": "LayoutModel",
            "justify_items": null,
            "grid_row": null,
            "max_height": null,
            "align_content": null,
            "visibility": null,
            "align_self": null,
            "height": null,
            "min_height": null,
            "padding": null,
            "grid_auto_rows": null,
            "grid_gap": null,
            "max_width": null,
            "order": null,
            "_view_module_version": "1.2.0",
            "grid_template_areas": null,
            "object_position": null,
            "object_fit": null,
            "grid_auto_columns": null,
            "margin": null,
            "display": null,
            "left": null
          }
        },
        "793579afee194b2aa4dcbe6f043a04e3": {
          "model_module": "@jupyter-widgets/controls",
          "model_name": "FloatProgressModel",
          "state": {
            "_view_name": "ProgressView",
            "style": "IPY_MODEL_123783b2d7fb476d817ca6b4e8b0b41e",
            "_dom_classes": [],
            "description": "",
            "_model_name": "FloatProgressModel",
            "bar_style": "success",
            "max": 9912422,
            "_view_module": "@jupyter-widgets/controls",
            "_model_module_version": "1.5.0",
            "value": 9912422,
            "_view_count": null,
            "_view_module_version": "1.5.0",
            "orientation": "horizontal",
            "min": 0,
            "description_tooltip": null,
            "_model_module": "@jupyter-widgets/controls",
            "layout": "IPY_MODEL_21831dbf0eaf4abe8660f1ee3a9b3c23"
          }
        },
        "d58f1217ed454594970faf80d2340f28": {
          "model_module": "@jupyter-widgets/controls",
          "model_name": "HTMLModel",
          "state": {
            "_view_name": "HTMLView",
            "style": "IPY_MODEL_aafa42358d9641229230b2d291dfe85a",
            "_dom_classes": [],
            "description": "",
            "_model_name": "HTMLModel",
            "placeholder": "​",
            "_view_module": "@jupyter-widgets/controls",
            "_model_module_version": "1.5.0",
            "value": " 9913344/? [00:04&lt;00:00, 2287556.74it/s]",
            "_view_count": null,
            "_view_module_version": "1.5.0",
            "description_tooltip": null,
            "_model_module": "@jupyter-widgets/controls",
            "layout": "IPY_MODEL_1e111ebf86944918a7f3ad0372bca38a"
          }
        },
        "123783b2d7fb476d817ca6b4e8b0b41e": {
          "model_module": "@jupyter-widgets/controls",
          "model_name": "ProgressStyleModel",
          "state": {
            "_view_name": "StyleView",
            "_model_name": "ProgressStyleModel",
            "description_width": "initial",
            "_view_module": "@jupyter-widgets/base",
            "_model_module_version": "1.5.0",
            "_view_count": null,
            "_view_module_version": "1.2.0",
            "bar_color": null,
            "_model_module": "@jupyter-widgets/controls"
          }
        },
        "21831dbf0eaf4abe8660f1ee3a9b3c23": {
          "model_module": "@jupyter-widgets/base",
          "model_name": "LayoutModel",
          "state": {
            "_view_name": "LayoutView",
            "grid_template_rows": null,
            "right": null,
            "justify_content": null,
            "_view_module": "@jupyter-widgets/base",
            "overflow": null,
            "_model_module_version": "1.2.0",
            "_view_count": null,
            "flex_flow": null,
            "width": null,
            "min_width": null,
            "border": null,
            "align_items": null,
            "bottom": null,
            "_model_module": "@jupyter-widgets/base",
            "top": null,
            "grid_column": null,
            "overflow_y": null,
            "overflow_x": null,
            "grid_auto_flow": null,
            "grid_area": null,
            "grid_template_columns": null,
            "flex": null,
            "_model_name": "LayoutModel",
            "justify_items": null,
            "grid_row": null,
            "max_height": null,
            "align_content": null,
            "visibility": null,
            "align_self": null,
            "height": null,
            "min_height": null,
            "padding": null,
            "grid_auto_rows": null,
            "grid_gap": null,
            "max_width": null,
            "order": null,
            "_view_module_version": "1.2.0",
            "grid_template_areas": null,
            "object_position": null,
            "object_fit": null,
            "grid_auto_columns": null,
            "margin": null,
            "display": null,
            "left": null
          }
        },
        "aafa42358d9641229230b2d291dfe85a": {
          "model_module": "@jupyter-widgets/controls",
          "model_name": "DescriptionStyleModel",
          "state": {
            "_view_name": "StyleView",
            "_model_name": "DescriptionStyleModel",
            "description_width": "",
            "_view_module": "@jupyter-widgets/base",
            "_model_module_version": "1.5.0",
            "_view_count": null,
            "_view_module_version": "1.2.0",
            "_model_module": "@jupyter-widgets/controls"
          }
        },
        "1e111ebf86944918a7f3ad0372bca38a": {
          "model_module": "@jupyter-widgets/base",
          "model_name": "LayoutModel",
          "state": {
            "_view_name": "LayoutView",
            "grid_template_rows": null,
            "right": null,
            "justify_content": null,
            "_view_module": "@jupyter-widgets/base",
            "overflow": null,
            "_model_module_version": "1.2.0",
            "_view_count": null,
            "flex_flow": null,
            "width": null,
            "min_width": null,
            "border": null,
            "align_items": null,
            "bottom": null,
            "_model_module": "@jupyter-widgets/base",
            "top": null,
            "grid_column": null,
            "overflow_y": null,
            "overflow_x": null,
            "grid_auto_flow": null,
            "grid_area": null,
            "grid_template_columns": null,
            "flex": null,
            "_model_name": "LayoutModel",
            "justify_items": null,
            "grid_row": null,
            "max_height": null,
            "align_content": null,
            "visibility": null,
            "align_self": null,
            "height": null,
            "min_height": null,
            "padding": null,
            "grid_auto_rows": null,
            "grid_gap": null,
            "max_width": null,
            "order": null,
            "_view_module_version": "1.2.0",
            "grid_template_areas": null,
            "object_position": null,
            "object_fit": null,
            "grid_auto_columns": null,
            "margin": null,
            "display": null,
            "left": null
          }
        },
        "af6c7914e38a49f8914b18528b13d2d8": {
          "model_module": "@jupyter-widgets/controls",
          "model_name": "HBoxModel",
          "state": {
            "_view_name": "HBoxView",
            "_dom_classes": [],
            "_model_name": "HBoxModel",
            "_view_module": "@jupyter-widgets/controls",
            "_model_module_version": "1.5.0",
            "_view_count": null,
            "_view_module_version": "1.5.0",
            "box_style": "",
            "layout": "IPY_MODEL_09f74e8121024ea3855953cb248f3619",
            "_model_module": "@jupyter-widgets/controls",
            "children": [
              "IPY_MODEL_4f8f9f5ae8334aed92dfc43485167cec",
              "IPY_MODEL_67faad44cf2042bc974f36bcd9ffe4a9"
            ]
          }
        },
        "09f74e8121024ea3855953cb248f3619": {
          "model_module": "@jupyter-widgets/base",
          "model_name": "LayoutModel",
          "state": {
            "_view_name": "LayoutView",
            "grid_template_rows": null,
            "right": null,
            "justify_content": null,
            "_view_module": "@jupyter-widgets/base",
            "overflow": null,
            "_model_module_version": "1.2.0",
            "_view_count": null,
            "flex_flow": null,
            "width": null,
            "min_width": null,
            "border": null,
            "align_items": null,
            "bottom": null,
            "_model_module": "@jupyter-widgets/base",
            "top": null,
            "grid_column": null,
            "overflow_y": null,
            "overflow_x": null,
            "grid_auto_flow": null,
            "grid_area": null,
            "grid_template_columns": null,
            "flex": null,
            "_model_name": "LayoutModel",
            "justify_items": null,
            "grid_row": null,
            "max_height": null,
            "align_content": null,
            "visibility": null,
            "align_self": null,
            "height": null,
            "min_height": null,
            "padding": null,
            "grid_auto_rows": null,
            "grid_gap": null,
            "max_width": null,
            "order": null,
            "_view_module_version": "1.2.0",
            "grid_template_areas": null,
            "object_position": null,
            "object_fit": null,
            "grid_auto_columns": null,
            "margin": null,
            "display": null,
            "left": null
          }
        },
        "4f8f9f5ae8334aed92dfc43485167cec": {
          "model_module": "@jupyter-widgets/controls",
          "model_name": "FloatProgressModel",
          "state": {
            "_view_name": "ProgressView",
            "style": "IPY_MODEL_723d159b48f94bccb111f68f4595b99f",
            "_dom_classes": [],
            "description": "",
            "_model_name": "FloatProgressModel",
            "bar_style": "success",
            "max": 28881,
            "_view_module": "@jupyter-widgets/controls",
            "_model_module_version": "1.5.0",
            "value": 28881,
            "_view_count": null,
            "_view_module_version": "1.5.0",
            "orientation": "horizontal",
            "min": 0,
            "description_tooltip": null,
            "_model_module": "@jupyter-widgets/controls",
            "layout": "IPY_MODEL_755458f4bc7c49649b491a59cbd50251"
          }
        },
        "67faad44cf2042bc974f36bcd9ffe4a9": {
          "model_module": "@jupyter-widgets/controls",
          "model_name": "HTMLModel",
          "state": {
            "_view_name": "HTMLView",
            "style": "IPY_MODEL_cc9bfa38e6aa4e96a327da2674f108af",
            "_dom_classes": [],
            "description": "",
            "_model_name": "HTMLModel",
            "placeholder": "​",
            "_view_module": "@jupyter-widgets/controls",
            "_model_module_version": "1.5.0",
            "value": " 29696/? [00:02&lt;00:00, 13141.56it/s]",
            "_view_count": null,
            "_view_module_version": "1.5.0",
            "description_tooltip": null,
            "_model_module": "@jupyter-widgets/controls",
            "layout": "IPY_MODEL_3f0d9b2a871d4953b47647b2e6a8550e"
          }
        },
        "723d159b48f94bccb111f68f4595b99f": {
          "model_module": "@jupyter-widgets/controls",
          "model_name": "ProgressStyleModel",
          "state": {
            "_view_name": "StyleView",
            "_model_name": "ProgressStyleModel",
            "description_width": "initial",
            "_view_module": "@jupyter-widgets/base",
            "_model_module_version": "1.5.0",
            "_view_count": null,
            "_view_module_version": "1.2.0",
            "bar_color": null,
            "_model_module": "@jupyter-widgets/controls"
          }
        },
        "755458f4bc7c49649b491a59cbd50251": {
          "model_module": "@jupyter-widgets/base",
          "model_name": "LayoutModel",
          "state": {
            "_view_name": "LayoutView",
            "grid_template_rows": null,
            "right": null,
            "justify_content": null,
            "_view_module": "@jupyter-widgets/base",
            "overflow": null,
            "_model_module_version": "1.2.0",
            "_view_count": null,
            "flex_flow": null,
            "width": null,
            "min_width": null,
            "border": null,
            "align_items": null,
            "bottom": null,
            "_model_module": "@jupyter-widgets/base",
            "top": null,
            "grid_column": null,
            "overflow_y": null,
            "overflow_x": null,
            "grid_auto_flow": null,
            "grid_area": null,
            "grid_template_columns": null,
            "flex": null,
            "_model_name": "LayoutModel",
            "justify_items": null,
            "grid_row": null,
            "max_height": null,
            "align_content": null,
            "visibility": null,
            "align_self": null,
            "height": null,
            "min_height": null,
            "padding": null,
            "grid_auto_rows": null,
            "grid_gap": null,
            "max_width": null,
            "order": null,
            "_view_module_version": "1.2.0",
            "grid_template_areas": null,
            "object_position": null,
            "object_fit": null,
            "grid_auto_columns": null,
            "margin": null,
            "display": null,
            "left": null
          }
        },
        "cc9bfa38e6aa4e96a327da2674f108af": {
          "model_module": "@jupyter-widgets/controls",
          "model_name": "DescriptionStyleModel",
          "state": {
            "_view_name": "StyleView",
            "_model_name": "DescriptionStyleModel",
            "description_width": "",
            "_view_module": "@jupyter-widgets/base",
            "_model_module_version": "1.5.0",
            "_view_count": null,
            "_view_module_version": "1.2.0",
            "_model_module": "@jupyter-widgets/controls"
          }
        },
        "3f0d9b2a871d4953b47647b2e6a8550e": {
          "model_module": "@jupyter-widgets/base",
          "model_name": "LayoutModel",
          "state": {
            "_view_name": "LayoutView",
            "grid_template_rows": null,
            "right": null,
            "justify_content": null,
            "_view_module": "@jupyter-widgets/base",
            "overflow": null,
            "_model_module_version": "1.2.0",
            "_view_count": null,
            "flex_flow": null,
            "width": null,
            "min_width": null,
            "border": null,
            "align_items": null,
            "bottom": null,
            "_model_module": "@jupyter-widgets/base",
            "top": null,
            "grid_column": null,
            "overflow_y": null,
            "overflow_x": null,
            "grid_auto_flow": null,
            "grid_area": null,
            "grid_template_columns": null,
            "flex": null,
            "_model_name": "LayoutModel",
            "justify_items": null,
            "grid_row": null,
            "max_height": null,
            "align_content": null,
            "visibility": null,
            "align_self": null,
            "height": null,
            "min_height": null,
            "padding": null,
            "grid_auto_rows": null,
            "grid_gap": null,
            "max_width": null,
            "order": null,
            "_view_module_version": "1.2.0",
            "grid_template_areas": null,
            "object_position": null,
            "object_fit": null,
            "grid_auto_columns": null,
            "margin": null,
            "display": null,
            "left": null
          }
        },
        "c649e69aa6314a04820d53940b4da37a": {
          "model_module": "@jupyter-widgets/controls",
          "model_name": "HBoxModel",
          "state": {
            "_view_name": "HBoxView",
            "_dom_classes": [],
            "_model_name": "HBoxModel",
            "_view_module": "@jupyter-widgets/controls",
            "_model_module_version": "1.5.0",
            "_view_count": null,
            "_view_module_version": "1.5.0",
            "box_style": "",
            "layout": "IPY_MODEL_7b7b9f92daa845b1ba66d90411ed4549",
            "_model_module": "@jupyter-widgets/controls",
            "children": [
              "IPY_MODEL_ed995dd9789b41bea3e48bb440c379c6",
              "IPY_MODEL_7bb5d6cb11764fddbb765a014180a2bd"
            ]
          }
        },
        "7b7b9f92daa845b1ba66d90411ed4549": {
          "model_module": "@jupyter-widgets/base",
          "model_name": "LayoutModel",
          "state": {
            "_view_name": "LayoutView",
            "grid_template_rows": null,
            "right": null,
            "justify_content": null,
            "_view_module": "@jupyter-widgets/base",
            "overflow": null,
            "_model_module_version": "1.2.0",
            "_view_count": null,
            "flex_flow": null,
            "width": null,
            "min_width": null,
            "border": null,
            "align_items": null,
            "bottom": null,
            "_model_module": "@jupyter-widgets/base",
            "top": null,
            "grid_column": null,
            "overflow_y": null,
            "overflow_x": null,
            "grid_auto_flow": null,
            "grid_area": null,
            "grid_template_columns": null,
            "flex": null,
            "_model_name": "LayoutModel",
            "justify_items": null,
            "grid_row": null,
            "max_height": null,
            "align_content": null,
            "visibility": null,
            "align_self": null,
            "height": null,
            "min_height": null,
            "padding": null,
            "grid_auto_rows": null,
            "grid_gap": null,
            "max_width": null,
            "order": null,
            "_view_module_version": "1.2.0",
            "grid_template_areas": null,
            "object_position": null,
            "object_fit": null,
            "grid_auto_columns": null,
            "margin": null,
            "display": null,
            "left": null
          }
        },
        "ed995dd9789b41bea3e48bb440c379c6": {
          "model_module": "@jupyter-widgets/controls",
          "model_name": "FloatProgressModel",
          "state": {
            "_view_name": "ProgressView",
            "style": "IPY_MODEL_70e6787f22124a07bda64dad57a7bcd6",
            "_dom_classes": [],
            "description": "",
            "_model_name": "FloatProgressModel",
            "bar_style": "success",
            "max": 1648877,
            "_view_module": "@jupyter-widgets/controls",
            "_model_module_version": "1.5.0",
            "value": 1648877,
            "_view_count": null,
            "_view_module_version": "1.5.0",
            "orientation": "horizontal",
            "min": 0,
            "description_tooltip": null,
            "_model_module": "@jupyter-widgets/controls",
            "layout": "IPY_MODEL_09a46a54a2d14a6a8a99f1823a3017fa"
          }
        },
        "7bb5d6cb11764fddbb765a014180a2bd": {
          "model_module": "@jupyter-widgets/controls",
          "model_name": "HTMLModel",
          "state": {
            "_view_name": "HTMLView",
            "style": "IPY_MODEL_c1a049ff1fba46d9bb01d50ff4bdba71",
            "_dom_classes": [],
            "description": "",
            "_model_name": "HTMLModel",
            "placeholder": "​",
            "_view_module": "@jupyter-widgets/controls",
            "_model_module_version": "1.5.0",
            "value": " 1649664/? [00:01&lt;00:00, 1578548.29it/s]",
            "_view_count": null,
            "_view_module_version": "1.5.0",
            "description_tooltip": null,
            "_model_module": "@jupyter-widgets/controls",
            "layout": "IPY_MODEL_510e70dcf9604c629dc7f19bb970976d"
          }
        },
        "70e6787f22124a07bda64dad57a7bcd6": {
          "model_module": "@jupyter-widgets/controls",
          "model_name": "ProgressStyleModel",
          "state": {
            "_view_name": "StyleView",
            "_model_name": "ProgressStyleModel",
            "description_width": "initial",
            "_view_module": "@jupyter-widgets/base",
            "_model_module_version": "1.5.0",
            "_view_count": null,
            "_view_module_version": "1.2.0",
            "bar_color": null,
            "_model_module": "@jupyter-widgets/controls"
          }
        },
        "09a46a54a2d14a6a8a99f1823a3017fa": {
          "model_module": "@jupyter-widgets/base",
          "model_name": "LayoutModel",
          "state": {
            "_view_name": "LayoutView",
            "grid_template_rows": null,
            "right": null,
            "justify_content": null,
            "_view_module": "@jupyter-widgets/base",
            "overflow": null,
            "_model_module_version": "1.2.0",
            "_view_count": null,
            "flex_flow": null,
            "width": null,
            "min_width": null,
            "border": null,
            "align_items": null,
            "bottom": null,
            "_model_module": "@jupyter-widgets/base",
            "top": null,
            "grid_column": null,
            "overflow_y": null,
            "overflow_x": null,
            "grid_auto_flow": null,
            "grid_area": null,
            "grid_template_columns": null,
            "flex": null,
            "_model_name": "LayoutModel",
            "justify_items": null,
            "grid_row": null,
            "max_height": null,
            "align_content": null,
            "visibility": null,
            "align_self": null,
            "height": null,
            "min_height": null,
            "padding": null,
            "grid_auto_rows": null,
            "grid_gap": null,
            "max_width": null,
            "order": null,
            "_view_module_version": "1.2.0",
            "grid_template_areas": null,
            "object_position": null,
            "object_fit": null,
            "grid_auto_columns": null,
            "margin": null,
            "display": null,
            "left": null
          }
        },
        "c1a049ff1fba46d9bb01d50ff4bdba71": {
          "model_module": "@jupyter-widgets/controls",
          "model_name": "DescriptionStyleModel",
          "state": {
            "_view_name": "StyleView",
            "_model_name": "DescriptionStyleModel",
            "description_width": "",
            "_view_module": "@jupyter-widgets/base",
            "_model_module_version": "1.5.0",
            "_view_count": null,
            "_view_module_version": "1.2.0",
            "_model_module": "@jupyter-widgets/controls"
          }
        },
        "510e70dcf9604c629dc7f19bb970976d": {
          "model_module": "@jupyter-widgets/base",
          "model_name": "LayoutModel",
          "state": {
            "_view_name": "LayoutView",
            "grid_template_rows": null,
            "right": null,
            "justify_content": null,
            "_view_module": "@jupyter-widgets/base",
            "overflow": null,
            "_model_module_version": "1.2.0",
            "_view_count": null,
            "flex_flow": null,
            "width": null,
            "min_width": null,
            "border": null,
            "align_items": null,
            "bottom": null,
            "_model_module": "@jupyter-widgets/base",
            "top": null,
            "grid_column": null,
            "overflow_y": null,
            "overflow_x": null,
            "grid_auto_flow": null,
            "grid_area": null,
            "grid_template_columns": null,
            "flex": null,
            "_model_name": "LayoutModel",
            "justify_items": null,
            "grid_row": null,
            "max_height": null,
            "align_content": null,
            "visibility": null,
            "align_self": null,
            "height": null,
            "min_height": null,
            "padding": null,
            "grid_auto_rows": null,
            "grid_gap": null,
            "max_width": null,
            "order": null,
            "_view_module_version": "1.2.0",
            "grid_template_areas": null,
            "object_position": null,
            "object_fit": null,
            "grid_auto_columns": null,
            "margin": null,
            "display": null,
            "left": null
          }
        },
        "a17dd5a9d11347aebe1c3af5d176294f": {
          "model_module": "@jupyter-widgets/controls",
          "model_name": "HBoxModel",
          "state": {
            "_view_name": "HBoxView",
            "_dom_classes": [],
            "_model_name": "HBoxModel",
            "_view_module": "@jupyter-widgets/controls",
            "_model_module_version": "1.5.0",
            "_view_count": null,
            "_view_module_version": "1.5.0",
            "box_style": "",
            "layout": "IPY_MODEL_ebda6fdff6e24de9ac2fb47feff80088",
            "_model_module": "@jupyter-widgets/controls",
            "children": [
              "IPY_MODEL_28c8d431e4234e7686e3cbb79c306811",
              "IPY_MODEL_3bd35ca888da4739ad473ad1d3c6326a"
            ]
          }
        },
        "ebda6fdff6e24de9ac2fb47feff80088": {
          "model_module": "@jupyter-widgets/base",
          "model_name": "LayoutModel",
          "state": {
            "_view_name": "LayoutView",
            "grid_template_rows": null,
            "right": null,
            "justify_content": null,
            "_view_module": "@jupyter-widgets/base",
            "overflow": null,
            "_model_module_version": "1.2.0",
            "_view_count": null,
            "flex_flow": null,
            "width": null,
            "min_width": null,
            "border": null,
            "align_items": null,
            "bottom": null,
            "_model_module": "@jupyter-widgets/base",
            "top": null,
            "grid_column": null,
            "overflow_y": null,
            "overflow_x": null,
            "grid_auto_flow": null,
            "grid_area": null,
            "grid_template_columns": null,
            "flex": null,
            "_model_name": "LayoutModel",
            "justify_items": null,
            "grid_row": null,
            "max_height": null,
            "align_content": null,
            "visibility": null,
            "align_self": null,
            "height": null,
            "min_height": null,
            "padding": null,
            "grid_auto_rows": null,
            "grid_gap": null,
            "max_width": null,
            "order": null,
            "_view_module_version": "1.2.0",
            "grid_template_areas": null,
            "object_position": null,
            "object_fit": null,
            "grid_auto_columns": null,
            "margin": null,
            "display": null,
            "left": null
          }
        },
        "28c8d431e4234e7686e3cbb79c306811": {
          "model_module": "@jupyter-widgets/controls",
          "model_name": "FloatProgressModel",
          "state": {
            "_view_name": "ProgressView",
            "style": "IPY_MODEL_afe901e6101c48cb8900bc1427e0ece3",
            "_dom_classes": [],
            "description": "",
            "_model_name": "FloatProgressModel",
            "bar_style": "success",
            "max": 4542,
            "_view_module": "@jupyter-widgets/controls",
            "_model_module_version": "1.5.0",
            "value": 4542,
            "_view_count": null,
            "_view_module_version": "1.5.0",
            "orientation": "horizontal",
            "min": 0,
            "description_tooltip": null,
            "_model_module": "@jupyter-widgets/controls",
            "layout": "IPY_MODEL_4aa1265302e54f0484b41470a908fac0"
          }
        },
        "3bd35ca888da4739ad473ad1d3c6326a": {
          "model_module": "@jupyter-widgets/controls",
          "model_name": "HTMLModel",
          "state": {
            "_view_name": "HTMLView",
            "style": "IPY_MODEL_7caba76469c947e7a6ebf43e42331ae6",
            "_dom_classes": [],
            "description": "",
            "_model_name": "HTMLModel",
            "placeholder": "​",
            "_view_module": "@jupyter-widgets/controls",
            "_model_module_version": "1.5.0",
            "value": " 5120/? [00:00&lt;00:00, 13095.76it/s]",
            "_view_count": null,
            "_view_module_version": "1.5.0",
            "description_tooltip": null,
            "_model_module": "@jupyter-widgets/controls",
            "layout": "IPY_MODEL_b5ed49081d9e44e99715ab2fcd454c7a"
          }
        },
        "afe901e6101c48cb8900bc1427e0ece3": {
          "model_module": "@jupyter-widgets/controls",
          "model_name": "ProgressStyleModel",
          "state": {
            "_view_name": "StyleView",
            "_model_name": "ProgressStyleModel",
            "description_width": "initial",
            "_view_module": "@jupyter-widgets/base",
            "_model_module_version": "1.5.0",
            "_view_count": null,
            "_view_module_version": "1.2.0",
            "bar_color": null,
            "_model_module": "@jupyter-widgets/controls"
          }
        },
        "4aa1265302e54f0484b41470a908fac0": {
          "model_module": "@jupyter-widgets/base",
          "model_name": "LayoutModel",
          "state": {
            "_view_name": "LayoutView",
            "grid_template_rows": null,
            "right": null,
            "justify_content": null,
            "_view_module": "@jupyter-widgets/base",
            "overflow": null,
            "_model_module_version": "1.2.0",
            "_view_count": null,
            "flex_flow": null,
            "width": null,
            "min_width": null,
            "border": null,
            "align_items": null,
            "bottom": null,
            "_model_module": "@jupyter-widgets/base",
            "top": null,
            "grid_column": null,
            "overflow_y": null,
            "overflow_x": null,
            "grid_auto_flow": null,
            "grid_area": null,
            "grid_template_columns": null,
            "flex": null,
            "_model_name": "LayoutModel",
            "justify_items": null,
            "grid_row": null,
            "max_height": null,
            "align_content": null,
            "visibility": null,
            "align_self": null,
            "height": null,
            "min_height": null,
            "padding": null,
            "grid_auto_rows": null,
            "grid_gap": null,
            "max_width": null,
            "order": null,
            "_view_module_version": "1.2.0",
            "grid_template_areas": null,
            "object_position": null,
            "object_fit": null,
            "grid_auto_columns": null,
            "margin": null,
            "display": null,
            "left": null
          }
        },
        "7caba76469c947e7a6ebf43e42331ae6": {
          "model_module": "@jupyter-widgets/controls",
          "model_name": "DescriptionStyleModel",
          "state": {
            "_view_name": "StyleView",
            "_model_name": "DescriptionStyleModel",
            "description_width": "",
            "_view_module": "@jupyter-widgets/base",
            "_model_module_version": "1.5.0",
            "_view_count": null,
            "_view_module_version": "1.2.0",
            "_model_module": "@jupyter-widgets/controls"
          }
        },
        "b5ed49081d9e44e99715ab2fcd454c7a": {
          "model_module": "@jupyter-widgets/base",
          "model_name": "LayoutModel",
          "state": {
            "_view_name": "LayoutView",
            "grid_template_rows": null,
            "right": null,
            "justify_content": null,
            "_view_module": "@jupyter-widgets/base",
            "overflow": null,
            "_model_module_version": "1.2.0",
            "_view_count": null,
            "flex_flow": null,
            "width": null,
            "min_width": null,
            "border": null,
            "align_items": null,
            "bottom": null,
            "_model_module": "@jupyter-widgets/base",
            "top": null,
            "grid_column": null,
            "overflow_y": null,
            "overflow_x": null,
            "grid_auto_flow": null,
            "grid_area": null,
            "grid_template_columns": null,
            "flex": null,
            "_model_name": "LayoutModel",
            "justify_items": null,
            "grid_row": null,
            "max_height": null,
            "align_content": null,
            "visibility": null,
            "align_self": null,
            "height": null,
            "min_height": null,
            "padding": null,
            "grid_auto_rows": null,
            "grid_gap": null,
            "max_width": null,
            "order": null,
            "_view_module_version": "1.2.0",
            "grid_template_areas": null,
            "object_position": null,
            "object_fit": null,
            "grid_auto_columns": null,
            "margin": null,
            "display": null,
            "left": null
          }
        }
      }
    }
  },
  "cells": [
    {
      "cell_type": "markdown",
      "metadata": {
        "id": "z3EDSBqyns_y"
      },
      "source": [
        "# Imports"
      ]
    },
    {
      "cell_type": "code",
      "metadata": {
        "id": "MFiZEybEDQ-B"
      },
      "source": [
        "import os\n",
        "import pickle\n",
        "import time, datetime\n",
        "\n",
        "import matplotlib.pyplot as plt\n",
        "import numpy as np\n",
        "import torch\n",
        "import torch.nn as nn\n",
        "import torch.optim as optim\n",
        "import torchvision.transforms as transforms\n",
        "import torchvision.datasets as datasets\n",
        "from torch.utils.data import DataLoader\n",
        "import torchvision\n",
        "from tqdm import tqdm\n",
        "import tensorflow as tf"
      ],
      "execution_count": 1,
      "outputs": []
    },
    {
      "cell_type": "markdown",
      "metadata": {
        "id": "g-1iLxm5n78m"
      },
      "source": [
        "# Save Methods"
      ]
    },
    {
      "cell_type": "code",
      "metadata": {
        "id": "TQEuSHwonncH"
      },
      "source": [
        "# Plot training loss\n",
        "def show_train_hist(hist, show=False, save=False, path='Train_hist.png'):\n",
        "    \"\"\"Loss tracker\n",
        "    \n",
        "    Plot the losses of the networks independently to see the trend\n",
        "    \n",
        "    Arguments:\n",
        "        hist {[dict]} -- Tracking variables\n",
        "    \n",
        "    Keyword Arguments:\n",
        "        show {bool} -- If to display the figure (default: {False})\n",
        "        save {bool} -- If to store the figure (default: {False})\n",
        "        path {str} -- path to store the figure (default: {'Train_hist.png'})\n",
        "    \"\"\"\n",
        "    x = range(len(hist['VGG_losses']))\n",
        "\n",
        "    y1 = hist['VGG_losses']\n",
        "    y2 = hist['ResNet_losses']\n",
        "    y3 = hist['GGL_Net_losses']\n",
        "\n",
        "    plt.plot(x, y1, label='VGG_loss')\n",
        "    plt.plot(x, y2, label='ResNet_loss')\n",
        "    plt.plot(x, y3, label='GoogLeNet_loss')\n",
        "\n",
        "    plt.xlabel('Epoch')\n",
        "    plt.ylabel('Loss')\n",
        "\n",
        "    plt.legend(loc=4)\n",
        "    plt.grid(True)\n",
        "    plt.tight_layout()\n",
        "\n",
        "    if save:\n",
        "        plt.savefig(path)\n",
        "\n",
        "    if show:\n",
        "        plt.show()\n",
        "    else:\n",
        "        plt.close()\n",
        "\n",
        "# Plot validation accuracy\n",
        "def show_accuracy_plot(hist, show=False, save=False, path='Accuracy_hist.png'):\n",
        "    \"\"\"Loss tracker\n",
        "    \n",
        "    Plot the losses of the networks independently to see the trend\n",
        "    \n",
        "    Arguments:\n",
        "        hist {[dict]} -- Tracking variables\n",
        "    \n",
        "    Keyword Arguments:\n",
        "        show {bool} -- If to display the figure (default: {False})\n",
        "        save {bool} -- If to store the figure (default: {False})\n",
        "        path {str} -- path to store the figure (default: {'Train_hist.png'})\n",
        "    \"\"\"\n",
        "    x = range(len(hist['VGG_accuracy']))\n",
        "\n",
        "    y1 = hist['VGG_accuracy']\n",
        "    y2 = hist['ResNet_accuracy']\n",
        "    y3 = hist['GGL_Net_accuracy']\n",
        "\n",
        "    plt.plot(x, y1, label='VGG_Accuracy')\n",
        "    plt.plot(x, y2, label='ResNet_Accuracy')\n",
        "    plt.plot(x, y3, label='GoogLeNet_Accuracy')\n",
        "\n",
        "    plt.xlabel('Epoch')\n",
        "    plt.ylabel('Accuracy')\n",
        "\n",
        "    plt.legend(loc=4)\n",
        "    plt.grid(True)\n",
        "    #plt.tight_layout()\n",
        "\n",
        "    if save:\n",
        "        plt.savefig(path)\n",
        "\n",
        "    if show:\n",
        "        plt.show()\n",
        "    else:\n",
        "        plt.close()"
      ],
      "execution_count": 2,
      "outputs": []
    },
    {
      "cell_type": "markdown",
      "metadata": {
        "id": "gkp9TFTwoE7b"
      },
      "source": [
        "# Initial Set-up"
      ]
    },
    {
      "cell_type": "code",
      "metadata": {
        "colab": {
          "base_uri": "https://localhost:8080/"
        },
        "id": "X-TpDoj0oJgJ",
        "outputId": "b298dc1b-d3af-42bb-fd40-5e49275aa227"
      },
      "source": [
        "# initialise the device for training, if gpu is available, device = 'cuda', else: device = 'cpu'\n",
        "device = torch.device('cuda' if torch.cuda.is_available() else 'cpu')\n",
        "print(device)\n",
        "\n",
        "save_dir = './Results/'\n",
        "model_dir = './Models/'\n",
        "# create folder if not exist\n",
        "if not os.path.exists(save_dir):\n",
        "    os.mkdir(save_dir)\n",
        "if not os.path.exists(model_dir):\n",
        "    os.mkdir(model_dir)"
      ],
      "execution_count": 3,
      "outputs": [
        {
          "output_type": "stream",
          "text": [
            "cuda\n"
          ],
          "name": "stdout"
        }
      ]
    },
    {
      "cell_type": "markdown",
      "metadata": {
        "id": "1jra7j6Z71h9"
      },
      "source": [
        "# Model loading\n",
        "Create Models and Model Training Methods"
      ]
    },
    {
      "cell_type": "markdown",
      "metadata": {
        "id": "RKNvCacrjM2C"
      },
      "source": [
        "### VGG Model methods"
      ]
    },
    {
      "cell_type": "code",
      "metadata": {
        "id": "bWPOrI3XvbxG"
      },
      "source": [
        "def LoadVGG(device):\n",
        "    VGG_net = torch.hub.load('pytorch/vision:v0.9.0', 'vgg19', pretrained=False)\n",
        "    VGG_net = VGG_net.to(device)\n",
        "\n",
        "    VGG_optimizer = optim.SGD(VGG_net.parameters(), lr=0.01, momentum=0.7, weight_decay=0.0005)\n",
        "    VGG_scheduler = optim.lr_scheduler.ReduceLROnPlateau(VGG_optimizer, mode='max', patience=5, verbose=True)\n",
        "\n",
        "    return VGG_net, VGG_optimizer, VGG_scheduler\n",
        "\n",
        "def TrainVGG(VGG_net, optimizer, scheduler, criterion, epochs, train_loader, validation_loader):\n",
        "    print('\\nTraining VGG')\n",
        "    train_hist['per_epoch_ptimes'].clear()\n",
        "    start_time = time.time()\n",
        "    now = datetime.datetime.now()\n",
        "    dt_string = now.strftime(\"%d/%m/%Y %H:%M:%S\")\n",
        "    print('Training starting ',str(dt_string))\n",
        "    for epoch in range(epochs):\n",
        "        Train_Loss = []\n",
        "        epoch_start_time = time.time()\n",
        "        now = datetime.datetime.now()\n",
        "        print('Epoch %d starting at: %02d:%02d:%02d'%(epoch+1, now.hour, now.minute, now.second))\n",
        "        VGG_net.train()\n",
        "        # Training\n",
        "        for (train_images, train_labels) in tqdm(train_loader):\n",
        "            train_images = train_images.to(device)\n",
        "            train_labels = train_labels.to(device)\n",
        "\n",
        "            # zero the parameter gradients\n",
        "            optimizer.zero_grad()\n",
        "\n",
        "            # forward + backward + optimize\n",
        "            train_outputs = VGG_net(train_images)\n",
        "            train_loss = criterion(train_outputs, train_labels)\n",
        "            train_loss.backward()\n",
        "            optimizer.step()\n",
        "\n",
        "            Train_Loss.append(train_loss.item())\n",
        "        \n",
        "        VGG_net.eval()\n",
        "        Val_Loss = []\n",
        "        total = 0\n",
        "        correct = 0\n",
        "        # Validation\n",
        "        for (val_images, val_labels) in tqdm(validation_loader):\n",
        "            val_images = val_images.to(device)\n",
        "            val_labels = val_labels.to(device)\n",
        "\n",
        "            # calculate outputs by running images through the network\n",
        "            val_outputs = VGG_net(val_images)\n",
        "            val_loss = criterion(val_outputs, val_labels)\n",
        "            \n",
        "            Val_Loss.append(val_loss.item())\n",
        "\n",
        "            # apply softmax function to get probabilities\n",
        "            s = nn.Softmax(dim=1)\n",
        "            probabilities = s(val_outputs)\n",
        "            # class with highest probability is the predicted class\n",
        "            _, predicted = torch.max(probabilities.data, 1)\n",
        "            total += val_labels.size(0)\n",
        "            correct += (predicted == val_labels).sum().item()\n",
        "\n",
        "        # validation accuracy\n",
        "        epoch_accuracy = 100 * correct / total\n",
        "\n",
        "        # Learning Rate Adaptation step\n",
        "        # changes LR on flat plateau\n",
        "        scheduler.step(epoch_accuracy)\n",
        "\n",
        "        epoch_loss = np.mean(Train_Loss)  # mean loss for the epoch\n",
        "        epoch_end_time = time.time()\n",
        "        per_epoch_ptime = epoch_end_time - epoch_start_time\n",
        "\n",
        "        print(\"\\nEpoch %d of %d, %.2f s, with average training loss: %.8f, and validation loss: %.8f, validation accuracy: %.2f\" \n",
        "              % (epoch + 1, epochs, per_epoch_ptime, epoch_loss, np.mean(Val_Loss), epoch_accuracy))\n",
        "\n",
        "        # record the loss for every epoch\n",
        "        train_hist['VGG_losses'].append(epoch_loss)\n",
        "        train_hist['VGG_accuracy'].append(epoch_accuracy)\n",
        "        train_hist['per_epoch_ptimes'].append(per_epoch_ptime)\n",
        "\n",
        "    now = datetime.datetime.now()\n",
        "    dt_string = now.strftime(\"%d/%m/%Y %H:%M:%S\")\n",
        "    print('Finished Training ',str(dt_string))\n",
        "\n",
        "    end_time = time.time()\n",
        "    total_ptime = end_time - start_time\n",
        "    train_hist['total_ptime'].append(total_ptime)\n",
        "\n",
        "    print('Avg per epoch ptime: %.2f, total %d epochs ptime: %.2f' % (np.mean(train_hist['per_epoch_ptimes']), epochs, total_ptime))"
      ],
      "execution_count": 4,
      "outputs": []
    },
    {
      "cell_type": "markdown",
      "metadata": {
        "id": "5Mfgu-oYv7uq"
      },
      "source": [
        "### ResNet Model methods"
      ]
    },
    {
      "cell_type": "code",
      "metadata": {
        "id": "xW43Edb-wBr8"
      },
      "source": [
        "def LoadResNet(device):\n",
        "    ResNet_net = torch.hub.load('pytorch/vision:v0.9.0', 'resnet34', pretrained=False)\n",
        "    ResNet_net = ResNet_net.to(device)\n",
        "\n",
        "    ResNet_optimizer = optim.SGD(ResNet_net.parameters(), lr=0.01, momentum=0.9, weight_decay=0.0001)\n",
        "    ResNet_scheduler = optim.lr_scheduler.ReduceLROnPlateau(ResNet_optimizer, mode='max', patience=5, verbose=True)\n",
        "\n",
        "    return ResNet_net, ResNet_optimizer, ResNet_scheduler\n",
        "\n",
        "def TrainResNet(ResNet_net, optimizer, scheduler, criterion, epochs, train_loader, validation_loader):\n",
        "    print('\\nTraining ResNet')\n",
        "    train_hist['per_epoch_ptimes'].clear()\n",
        "    start_time = time.time()\n",
        "    now = datetime.datetime.now()\n",
        "    dt_string = now.strftime(\"%d/%m/%Y %H:%M:%S\")\n",
        "    print('Training starting ',dt_string)\n",
        "    for epoch in range(epochs):\n",
        "        Train_Loss = []\n",
        "        epoch_start_time = time.time()\n",
        "        now = datetime.datetime.now()\n",
        "        print('Epoch %d starting at: %02d:%02d:%02d'%(epoch+1, now.hour, now.minute, now.second))\n",
        "        ResNet_net.train()\n",
        "        # Training\n",
        "        for (train_images, train_labels) in tqdm(train_loader):\n",
        "            train_images = train_images.to(device)\n",
        "            train_labels = train_labels.to(device)\n",
        "\n",
        "            # zero the parameter gradients\n",
        "            optimizer.zero_grad()\n",
        "\n",
        "            # forward + backward + optimize\n",
        "            train_outputs = ResNet_net(train_images)\n",
        "            train_loss = criterion(train_outputs, train_labels)\n",
        "            train_loss.backward()\n",
        "            optimizer.step()\n",
        "\n",
        "            Train_Loss.append(train_loss.item())\n",
        "        \n",
        "        ResNet_net.eval()\n",
        "        Val_Loss = []\n",
        "        total = 0\n",
        "        correct = 0\n",
        "        # Validation\n",
        "        for (val_images, val_labels) in tqdm(validation_loader):\n",
        "            val_images = val_images.to(device)\n",
        "            val_labels = val_labels.to(device)\n",
        "\n",
        "            # calculate outputs by running images through the network\n",
        "            val_outputs = ResNet_net(val_images)\n",
        "            val_loss = criterion(val_outputs, val_labels)\n",
        "            \n",
        "            Val_Loss.append(val_loss.item())\n",
        "\n",
        "            # apply softmax function to get probabilities\n",
        "            s = nn.Softmax(dim=1)\n",
        "            probabilities = s(val_outputs)\n",
        "            # class with highest probability is the predicted class\n",
        "            _, predicted = torch.max(probabilities.data, 1)\n",
        "            total += val_labels.size(0)\n",
        "            correct += (predicted == val_labels).sum().item()\n",
        "\n",
        "        # validation accuracy\n",
        "        epoch_accuracy = 100 * correct / total\n",
        "\n",
        "        # Learning Rate Adaptation step\n",
        "        # changes LR on flat plateau\n",
        "        scheduler.step(epoch_accuracy)\n",
        "\n",
        "        epoch_loss = np.mean(Train_Loss)  # mean generator loss for the epoch\n",
        "        epoch_end_time = time.time()\n",
        "        per_epoch_ptime = epoch_end_time - epoch_start_time\n",
        "\n",
        "        print(\"\\nEpoch %d of %d, %.2f s, with average training loss: %.8f, and validation loss: %.8f, validation accuracy: %.2f\" \n",
        "              % (epoch + 1, epochs, per_epoch_ptime, epoch_loss, np.mean(Val_Loss), epoch_accuracy))\n",
        "\n",
        "        # record the loss for every epoch\n",
        "        train_hist['ResNet_losses'].append(epoch_loss)\n",
        "        train_hist['ResNet_accuracy'].append(epoch_accuracy)\n",
        "        train_hist['per_epoch_ptimes'].append(per_epoch_ptime)\n",
        "\n",
        "    now = datetime.datetime.now()\n",
        "    dt_string = now.strftime(\"%d/%m/%Y %H:%M:%S\")\n",
        "    print('Finished Training ',str(dt_string))\n",
        "\n",
        "    end_time = time.time()\n",
        "    total_ptime = end_time - start_time\n",
        "    train_hist['total_ptime'].append(total_ptime)\n",
        "\n",
        "    print('Avg per epoch ptime: %.2f, total %d epochs ptime: %.2f' % (np.mean(train_hist['per_epoch_ptimes']), epochs, total_ptime))"
      ],
      "execution_count": 5,
      "outputs": []
    },
    {
      "cell_type": "markdown",
      "metadata": {
        "id": "gKWaIaWk75l3"
      },
      "source": [
        "### GoogLeNet Model Methods"
      ]
    },
    {
      "cell_type": "code",
      "metadata": {
        "id": "Bc5k9h537_-P"
      },
      "source": [
        "def LoadGLNet(device):\n",
        "    GLNet_net = torch.hub.load('pytorch/vision:v0.9.0', 'googlenet', pretrained=False)\n",
        "    GLNet_net = GLNet_net.to(device)\n",
        "\n",
        "    GLNet_optimizer = optim.SGD(GLNet_net.parameters(), lr=0.01, momentum=0.9)\n",
        "    GLNet_scheduler = optim.lr_scheduler.StepLR(GLNet_optimizer, step_size=8, gamma=0.96, verbose=True)\n",
        "\n",
        "    return GLNet_net, GLNet_optimizer, GLNet_scheduler\n",
        "\n",
        "def TrainGLNet(GLNet_net, optimizer, scheduler, criterion, epochs, train_loader):\n",
        "    print('\\nTraining GoogLeNet')\n",
        "    train_hist['per_epoch_ptimes'].clear()\n",
        "    start_time = time.time()\n",
        "    now = datetime.datetime.now()\n",
        "    dt_string = now.strftime(\"%d/%m/%Y %H:%M:%S\")\n",
        "    print('Training starting ',dt_string)\n",
        "    for epoch in range(epochs):\n",
        "        # Record epoch start time\n",
        "        epoch_start_time = time.time()\n",
        "        now = datetime.datetime.now()\n",
        "        print('Epoch %d starting at: %02d:%02d:%02d'%(epoch+1, now.hour, now.minute, now.second))\n",
        "\n",
        "        GLNet_net.train()\n",
        "        Train_Loss = []\n",
        "        # Training\n",
        "        for (train_images, train_labels) in tqdm(train_loader):\n",
        "            train_images = train_images.to(device)\n",
        "            train_labels = train_labels.to(device)\n",
        "\n",
        "            # zero the parameter gradients\n",
        "            optimizer.zero_grad()\n",
        "\n",
        "            # forward + backward + optimize\n",
        "            train_outputs = GLNet_net(train_images)\n",
        "            train_outputs = train_outputs.logits\n",
        "            train_loss = criterion(train_outputs, train_labels)\n",
        "            train_loss.backward()\n",
        "            optimizer.step()\n",
        "\n",
        "            Train_Loss.append(train_loss.item())\n",
        "\n",
        "        GLNet_net.eval()\n",
        "        Val_Loss = []\n",
        "        total = 0\n",
        "        correct = 0\n",
        "        # Validation\n",
        "        for (val_images, val_labels) in tqdm(validation_loader):\n",
        "            val_images = val_images.to(device)\n",
        "            val_labels = val_labels.to(device)\n",
        "\n",
        "            # calculate outputs by running images through the network\n",
        "            val_outputs = GLNet_net(val_images)\n",
        "\n",
        "            # apply softmax function to get probabilities\n",
        "            s = nn.Softmax(dim=1)\n",
        "            probabilities = s(val_outputs)\n",
        "            # class with highest probability is the predicted class\n",
        "            _, predicted = torch.max(probabilities.data, 1)\n",
        "            total += val_labels.size(0)\n",
        "            correct += (predicted == val_labels).sum().item()\n",
        "\n",
        "        # validation accuracy\n",
        "        epoch_accuracy = 100 * correct / total\n",
        "\n",
        "        # Learning Rate Adaptation step\n",
        "        # changes LR every 8 epochs\n",
        "        scheduler.step()\n",
        "\n",
        "        epoch_loss = np.mean(Train_Loss)  # mean generator loss for the epoch\n",
        "        epoch_end_time = time.time()\n",
        "        per_epoch_ptime = epoch_end_time - epoch_start_time\n",
        "\n",
        "        print(\"\\nEpoch %d of %d, %.2f s, with average training loss: %.8f, and validation loss: %.8f, validation accuracy: %.2f\" \n",
        "              % (epoch + 1, epochs, per_epoch_ptime, epoch_loss, np.mean(Val_Loss), epoch_accuracy))\n",
        "\n",
        "        # record the loss for every epoch\n",
        "        train_hist['GGL_Net_losses'].append(epoch_loss)\n",
        "        train_hist['GGL_Net_accuracy'].append(epoch_accuracy)\n",
        "        train_hist['per_epoch_ptimes'].append(per_epoch_ptime)\n",
        "\n",
        "    now = datetime.datetime.now()\n",
        "    dt_string = now.strftime(\"%d/%m/%Y %H:%M:%S\")\n",
        "    print('Finished Training ',str(dt_string))\n",
        "\n",
        "    end_time = time.time()\n",
        "    total_ptime = end_time - start_time\n",
        "    train_hist['total_ptime'].append(total_ptime)\n",
        "\n",
        "    print('Avg per epoch ptime: %.2f, total %d epochs ptime: %.2f' % (np.mean(train_hist['per_epoch_ptimes']), epochs, total_ptime))"
      ],
      "execution_count": 6,
      "outputs": []
    },
    {
      "cell_type": "markdown",
      "metadata": {
        "id": "15MBjF7rXfrQ"
      },
      "source": [
        "# Model Training"
      ]
    },
    {
      "cell_type": "markdown",
      "metadata": {
        "id": "_jHH-i_AopzY"
      },
      "source": [
        "## Train on MNIST"
      ]
    },
    {
      "cell_type": "markdown",
      "metadata": {
        "id": "ef0gK4QpRWX4"
      },
      "source": [
        "### Data Loading and Processing"
      ]
    },
    {
      "cell_type": "code",
      "metadata": {
        "colab": {
          "base_uri": "https://localhost:8080/",
          "height": 1000,
          "referenced_widgets": [
            "aaf94ec660af46439edad265f75607e3",
            "87973c033b22481bbb55f82356364b95",
            "793579afee194b2aa4dcbe6f043a04e3",
            "d58f1217ed454594970faf80d2340f28",
            "123783b2d7fb476d817ca6b4e8b0b41e",
            "21831dbf0eaf4abe8660f1ee3a9b3c23",
            "aafa42358d9641229230b2d291dfe85a",
            "1e111ebf86944918a7f3ad0372bca38a",
            "af6c7914e38a49f8914b18528b13d2d8",
            "09f74e8121024ea3855953cb248f3619",
            "4f8f9f5ae8334aed92dfc43485167cec",
            "67faad44cf2042bc974f36bcd9ffe4a9",
            "723d159b48f94bccb111f68f4595b99f",
            "755458f4bc7c49649b491a59cbd50251",
            "cc9bfa38e6aa4e96a327da2674f108af",
            "3f0d9b2a871d4953b47647b2e6a8550e",
            "c649e69aa6314a04820d53940b4da37a",
            "7b7b9f92daa845b1ba66d90411ed4549",
            "ed995dd9789b41bea3e48bb440c379c6",
            "7bb5d6cb11764fddbb765a014180a2bd",
            "70e6787f22124a07bda64dad57a7bcd6",
            "09a46a54a2d14a6a8a99f1823a3017fa",
            "c1a049ff1fba46d9bb01d50ff4bdba71",
            "510e70dcf9604c629dc7f19bb970976d",
            "a17dd5a9d11347aebe1c3af5d176294f",
            "ebda6fdff6e24de9ac2fb47feff80088",
            "28c8d431e4234e7686e3cbb79c306811",
            "3bd35ca888da4739ad473ad1d3c6326a",
            "afe901e6101c48cb8900bc1427e0ece3",
            "4aa1265302e54f0484b41470a908fac0",
            "7caba76469c947e7a6ebf43e42331ae6",
            "b5ed49081d9e44e99715ab2fcd454c7a"
          ]
        },
        "id": "EAJdjwcURVf0",
        "outputId": "5c7bc7f7-4ac6-4f58-851b-be04892d3155"
      },
      "source": [
        "data_dir = './MNIST_data/'\n",
        "\n",
        "# training parameters\n",
        "batch_size = 256\n",
        "epochs = 100\n",
        "\n",
        "tv_data = datasets.MNIST(root=data_dir, train=True, transform=transforms.Compose([\n",
        "        transforms.ToTensor()\n",
        "    ]), download=True)\n",
        "loader = DataLoader(tv_data, batch_size=len(tv_data))\n",
        "data = next(iter(loader))\n",
        "mean = data[0].mean()\n",
        "std = data[0].std()\n",
        "\n",
        "# construct the datasets and data loaders\n",
        "transform = transforms.Compose([transforms.Grayscale(3),\n",
        "                                transforms.Resize(64),\n",
        "                                transforms.RandomHorizontalFlip(0.5),\n",
        "                                transforms.ToTensor(),\n",
        "                                transforms.Normalize((mean, mean, mean), (std, std, std))])\n",
        "tv_data = datasets.MNIST(root=data_dir, train=True, transform=transform, download=True)\n",
        "train_data, validation_data = torch.utils.data.random_split(tv_data, [50000, 10000])\n",
        "\n",
        "train_loader = DataLoader(dataset=train_data, batch_size=batch_size, shuffle=True)\n",
        "validation_loader = DataLoader(dataset=validation_data, batch_size=batch_size, shuffle=True)\n",
        "\n",
        "def imshow(img):\n",
        "    plt.figure(figsize=(20,20))\n",
        "    npimg = img.numpy()\n",
        "    plt.imshow(np.transpose(npimg, (1, 2, 0)))\n",
        "    plt.show()\n",
        "\n",
        "\n",
        "# get some random training images\n",
        "dataiter = iter(train_loader)\n",
        "images, labels = dataiter.next()\n",
        "\n",
        "# show images\n",
        "imshow(torchvision.utils.make_grid(images))"
      ],
      "execution_count": 7,
      "outputs": [
        {
          "output_type": "stream",
          "text": [
            "Downloading http://yann.lecun.com/exdb/mnist/train-images-idx3-ubyte.gz\n",
            "Downloading http://yann.lecun.com/exdb/mnist/train-images-idx3-ubyte.gz to ./MNIST_data/MNIST/raw/train-images-idx3-ubyte.gz\n",
            "Failed to download (trying next):\n",
            "HTTP Error 503: Service Unavailable\n",
            "\n",
            "Downloading https://ossci-datasets.s3.amazonaws.com/mnist/train-images-idx3-ubyte.gz\n",
            "Downloading https://ossci-datasets.s3.amazonaws.com/mnist/train-images-idx3-ubyte.gz to ./MNIST_data/MNIST/raw/train-images-idx3-ubyte.gz\n"
          ],
          "name": "stdout"
        },
        {
          "output_type": "display_data",
          "data": {
            "application/vnd.jupyter.widget-view+json": {
              "model_id": "aaf94ec660af46439edad265f75607e3",
              "version_minor": 0,
              "version_major": 2
            },
            "text/plain": [
              "HBox(children=(FloatProgress(value=0.0, max=9912422.0), HTML(value='')))"
            ]
          },
          "metadata": {
            "tags": []
          }
        },
        {
          "output_type": "stream",
          "text": [
            "\n",
            "Extracting ./MNIST_data/MNIST/raw/train-images-idx3-ubyte.gz to ./MNIST_data/MNIST/raw\n",
            "\n",
            "Downloading http://yann.lecun.com/exdb/mnist/train-labels-idx1-ubyte.gz\n",
            "Downloading http://yann.lecun.com/exdb/mnist/train-labels-idx1-ubyte.gz to ./MNIST_data/MNIST/raw/train-labels-idx1-ubyte.gz\n"
          ],
          "name": "stdout"
        },
        {
          "output_type": "display_data",
          "data": {
            "application/vnd.jupyter.widget-view+json": {
              "model_id": "af6c7914e38a49f8914b18528b13d2d8",
              "version_minor": 0,
              "version_major": 2
            },
            "text/plain": [
              "HBox(children=(FloatProgress(value=0.0, max=28881.0), HTML(value='')))"
            ]
          },
          "metadata": {
            "tags": []
          }
        },
        {
          "output_type": "stream",
          "text": [
            "\n",
            "Extracting ./MNIST_data/MNIST/raw/train-labels-idx1-ubyte.gz to ./MNIST_data/MNIST/raw\n",
            "\n",
            "Downloading http://yann.lecun.com/exdb/mnist/t10k-images-idx3-ubyte.gz\n",
            "Downloading http://yann.lecun.com/exdb/mnist/t10k-images-idx3-ubyte.gz to ./MNIST_data/MNIST/raw/t10k-images-idx3-ubyte.gz\n",
            "Failed to download (trying next):\n",
            "HTTP Error 503: Service Unavailable\n",
            "\n",
            "Downloading https://ossci-datasets.s3.amazonaws.com/mnist/t10k-images-idx3-ubyte.gz\n",
            "Downloading https://ossci-datasets.s3.amazonaws.com/mnist/t10k-images-idx3-ubyte.gz to ./MNIST_data/MNIST/raw/t10k-images-idx3-ubyte.gz\n"
          ],
          "name": "stdout"
        },
        {
          "output_type": "display_data",
          "data": {
            "application/vnd.jupyter.widget-view+json": {
              "model_id": "c649e69aa6314a04820d53940b4da37a",
              "version_minor": 0,
              "version_major": 2
            },
            "text/plain": [
              "HBox(children=(FloatProgress(value=0.0, max=1648877.0), HTML(value='')))"
            ]
          },
          "metadata": {
            "tags": []
          }
        },
        {
          "output_type": "stream",
          "text": [
            "\n",
            "Extracting ./MNIST_data/MNIST/raw/t10k-images-idx3-ubyte.gz to ./MNIST_data/MNIST/raw\n",
            "\n",
            "Downloading http://yann.lecun.com/exdb/mnist/t10k-labels-idx1-ubyte.gz\n",
            "Downloading http://yann.lecun.com/exdb/mnist/t10k-labels-idx1-ubyte.gz to ./MNIST_data/MNIST/raw/t10k-labels-idx1-ubyte.gz\n"
          ],
          "name": "stdout"
        },
        {
          "output_type": "display_data",
          "data": {
            "application/vnd.jupyter.widget-view+json": {
              "model_id": "a17dd5a9d11347aebe1c3af5d176294f",
              "version_minor": 0,
              "version_major": 2
            },
            "text/plain": [
              "HBox(children=(FloatProgress(value=0.0, max=4542.0), HTML(value='')))"
            ]
          },
          "metadata": {
            "tags": []
          }
        },
        {
          "output_type": "stream",
          "text": [
            "\n",
            "Extracting ./MNIST_data/MNIST/raw/t10k-labels-idx1-ubyte.gz to ./MNIST_data/MNIST/raw\n",
            "\n",
            "Processing...\n",
            "Done!\n"
          ],
          "name": "stdout"
        },
        {
          "output_type": "stream",
          "text": [
            "/usr/local/lib/python3.7/dist-packages/torchvision/datasets/mnist.py:502: UserWarning: The given NumPy array is not writeable, and PyTorch does not support non-writeable tensors. This means you can write to the underlying (supposedly non-writeable) NumPy array using the tensor. You may want to copy the array to protect its data or make it writeable before converting it to a tensor. This type of warning will be suppressed for the rest of this program. (Triggered internally at  /pytorch/torch/csrc/utils/tensor_numpy.cpp:143.)\n",
            "  return torch.from_numpy(parsed.astype(m[2], copy=False)).view(*s)\n",
            "Clipping input data to the valid range for imshow with RGB data ([0..1] for floats or [0..255] for integers).\n"
          ],
          "name": "stderr"
        },
        {
          "output_type": "display_data",
          "data": {
            "image/png": "[encoded data removed]",
            "text/plain": [
              "<Figure size 1440x1440 with 1 Axes>"
            ]
          },
          "metadata": {
            "tags": [],
            "needs_background": "light"
          }
        }
      ]
    },
    {
      "cell_type": "markdown",
      "metadata": {
        "id": "xrEUrveORvRi"
      },
      "source": [
        "### Training Setup"
      ]
    },
    {
      "cell_type": "code",
      "metadata": {
        "id": "dN_HpJ6eRIuh"
      },
      "source": [
        "# tracking variables\n",
        "train_hist = {}\n",
        "train_hist['VGG_losses'] = []\n",
        "train_hist['VGG_accuracy'] = []\n",
        "train_hist['ResNet_losses'] = []\n",
        "train_hist['ResNet_accuracy'] = []\n",
        "train_hist['GGL_Net_losses'] = []\n",
        "train_hist['GGL_Net_accuracy'] = []\n",
        "train_hist['per_epoch_ptimes'] = []\n",
        "train_hist['total_ptime'] = []\n",
        "\n",
        "# Loss function\n",
        "criterion = nn.CrossEntropyLoss().to(device)\n",
        "\n",
        "# Classes\n",
        "classes = ('0', '1', '2', '3', '4', '5', '6', '7', '8', '9')"
      ],
      "execution_count": 8,
      "outputs": []
    },
    {
      "cell_type": "markdown",
      "metadata": {
        "id": "bPpgVF4iCdZh"
      },
      "source": [
        "### VGG Training"
      ]
    },
    {
      "cell_type": "code",
      "metadata": {
        "colab": {
          "base_uri": "https://localhost:8080/"
        },
        "id": "dbpcOGUlopTV",
        "outputId": "85ff4059-adfc-4065-87a4-5b806bf159b9"
      },
      "source": [
        "# Load and trian VGG\n",
        "net, optimizer, scheduler = LoadVGG(device)\n",
        "TrainVGG(net, optimizer, scheduler, criterion, epochs, train_loader, validation_loader)\n",
        "torch.save(net.state_dict(), model_dir + '/VGG_MNIST_model.pth')\n",
        "del net\n",
        "del optimizer\n",
        "del scheduler"
      ],
      "execution_count": 9,
      "outputs": [
        {
          "output_type": "stream",
          "text": [
            "Downloading: \"https://github.com/pytorch/vision/archive/v0.9.0.zip\" to /root/.cache/torch/hub/v0.9.0.zip\n",
            "  0%|          | 0/196 [00:00<?, ?it/s]"
          ],
          "name": "stderr"
        },
        {
          "output_type": "stream",
          "text": [
            "\n",
            "Training VGG\n",
            "Training starting  11/05/2021 17:28:43\n",
            "Epoch 1 starting at: 17:28:43\n"
          ],
          "name": "stdout"
        },
        {
          "output_type": "stream",
          "text": [
            "100%|██████████| 196/196 [00:51<00:00,  3.78it/s]\n",
            "100%|██████████| 40/40 [00:06<00:00,  6.41it/s]\n",
            "  0%|          | 0/196 [00:00<?, ?it/s]"
          ],
          "name": "stderr"
        },
        {
          "output_type": "stream",
          "text": [
            "\n",
            "Epoch 1 of 100, 58.06 s, with average training loss: 2.89111290, and validation loss: 0.78296236, validation accuracy: 74.76\n",
            "Epoch 2 starting at: 17:29:41\n"
          ],
          "name": "stdout"
        },
        {
          "output_type": "stream",
          "text": [
            "100%|██████████| 196/196 [00:51<00:00,  3.80it/s]\n",
            "100%|██████████| 40/40 [00:06<00:00,  6.40it/s]\n",
            "  0%|          | 0/196 [00:00<?, ?it/s]"
          ],
          "name": "stderr"
        },
        {
          "output_type": "stream",
          "text": [
            "\n",
            "Epoch 2 of 100, 57.79 s, with average training loss: 0.36325642, and validation loss: 0.18946756, validation accuracy: 93.89\n",
            "Epoch 3 starting at: 17:30:39\n"
          ],
          "name": "stdout"
        },
        {
          "output_type": "stream",
          "text": [
            "100%|██████████| 196/196 [00:51<00:00,  3.82it/s]\n",
            "100%|██████████| 40/40 [00:06<00:00,  6.47it/s]\n",
            "  0%|          | 0/196 [00:00<?, ?it/s]"
          ],
          "name": "stderr"
        },
        {
          "output_type": "stream",
          "text": [
            "\n",
            "Epoch 3 of 100, 57.56 s, with average training loss: 0.15467799, and validation loss: 0.12381925, validation accuracy: 96.28\n",
            "Epoch 4 starting at: 17:31:36\n"
          ],
          "name": "stdout"
        },
        {
          "output_type": "stream",
          "text": [
            "100%|██████████| 196/196 [00:51<00:00,  3.81it/s]\n",
            "100%|██████████| 40/40 [00:06<00:00,  6.51it/s]\n",
            "  0%|          | 0/196 [00:00<?, ?it/s]"
          ],
          "name": "stderr"
        },
        {
          "output_type": "stream",
          "text": [
            "\n",
            "Epoch 4 of 100, 57.66 s, with average training loss: 0.10781612, and validation loss: 0.14808131, validation accuracy: 95.44\n",
            "Epoch 5 starting at: 17:32:34\n"
          ],
          "name": "stdout"
        },
        {
          "output_type": "stream",
          "text": [
            "100%|██████████| 196/196 [00:51<00:00,  3.81it/s]\n",
            "100%|██████████| 40/40 [00:06<00:00,  6.44it/s]\n",
            "  0%|          | 0/196 [00:00<?, ?it/s]"
          ],
          "name": "stderr"
        },
        {
          "output_type": "stream",
          "text": [
            "\n",
            "Epoch 5 of 100, 57.69 s, with average training loss: 0.08515193, and validation loss: 0.09060719, validation accuracy: 97.04\n",
            "Epoch 6 starting at: 17:33:32\n"
          ],
          "name": "stdout"
        },
        {
          "output_type": "stream",
          "text": [
            "100%|██████████| 196/196 [00:51<00:00,  3.81it/s]\n",
            "100%|██████████| 40/40 [00:06<00:00,  6.30it/s]\n",
            "  0%|          | 0/196 [00:00<?, ?it/s]"
          ],
          "name": "stderr"
        },
        {
          "output_type": "stream",
          "text": [
            "\n",
            "Epoch 6 of 100, 57.84 s, with average training loss: 0.06827706, and validation loss: 0.07172707, validation accuracy: 97.89\n",
            "Epoch 7 starting at: 17:34:30\n"
          ],
          "name": "stdout"
        },
        {
          "output_type": "stream",
          "text": [
            "100%|██████████| 196/196 [00:51<00:00,  3.81it/s]\n",
            "100%|██████████| 40/40 [00:06<00:00,  6.27it/s]\n",
            "  0%|          | 0/196 [00:00<?, ?it/s]"
          ],
          "name": "stderr"
        },
        {
          "output_type": "stream",
          "text": [
            "\n",
            "Epoch 7 of 100, 57.87 s, with average training loss: 0.05726791, and validation loss: 0.08335207, validation accuracy: 97.48\n",
            "Epoch 8 starting at: 17:35:27\n"
          ],
          "name": "stdout"
        },
        {
          "output_type": "stream",
          "text": [
            "100%|██████████| 196/196 [00:51<00:00,  3.80it/s]\n",
            "100%|██████████| 40/40 [00:06<00:00,  6.39it/s]\n",
            "  0%|          | 0/196 [00:00<?, ?it/s]"
          ],
          "name": "stderr"
        },
        {
          "output_type": "stream",
          "text": [
            "\n",
            "Epoch 8 of 100, 57.85 s, with average training loss: 0.04871428, and validation loss: 0.05669854, validation accuracy: 98.36\n",
            "Epoch 9 starting at: 17:36:25\n"
          ],
          "name": "stdout"
        },
        {
          "output_type": "stream",
          "text": [
            "100%|██████████| 196/196 [00:51<00:00,  3.81it/s]\n",
            "100%|██████████| 40/40 [00:06<00:00,  6.34it/s]\n",
            "  0%|          | 0/196 [00:00<?, ?it/s]"
          ],
          "name": "stderr"
        },
        {
          "output_type": "stream",
          "text": [
            "\n",
            "Epoch 9 of 100, 57.77 s, with average training loss: 0.04178330, and validation loss: 0.06277497, validation accuracy: 98.16\n",
            "Epoch 10 starting at: 17:37:23\n"
          ],
          "name": "stdout"
        },
        {
          "output_type": "stream",
          "text": [
            "100%|██████████| 196/196 [00:51<00:00,  3.81it/s]\n",
            "100%|██████████| 40/40 [00:06<00:00,  6.38it/s]\n",
            "  0%|          | 0/196 [00:00<?, ?it/s]"
          ],
          "name": "stderr"
        },
        {
          "output_type": "stream",
          "text": [
            "\n",
            "Epoch 10 of 100, 57.78 s, with average training loss: 0.03929101, and validation loss: 0.07188922, validation accuracy: 98.02\n",
            "Epoch 11 starting at: 17:38:21\n"
          ],
          "name": "stdout"
        },
        {
          "output_type": "stream",
          "text": [
            "100%|██████████| 196/196 [00:51<00:00,  3.80it/s]\n",
            "100%|██████████| 40/40 [00:06<00:00,  6.32it/s]\n",
            "  0%|          | 0/196 [00:00<?, ?it/s]"
          ],
          "name": "stderr"
        },
        {
          "output_type": "stream",
          "text": [
            "\n",
            "Epoch 11 of 100, 57.90 s, with average training loss: 0.03446301, and validation loss: 0.06385594, validation accuracy: 98.25\n",
            "Epoch 12 starting at: 17:39:19\n"
          ],
          "name": "stdout"
        },
        {
          "output_type": "stream",
          "text": [
            "100%|██████████| 196/196 [00:51<00:00,  3.79it/s]\n",
            "100%|██████████| 40/40 [00:06<00:00,  6.32it/s]\n",
            "  0%|          | 0/196 [00:00<?, ?it/s]"
          ],
          "name": "stderr"
        },
        {
          "output_type": "stream",
          "text": [
            "\n",
            "Epoch 12 of 100, 58.03 s, with average training loss: 0.02742103, and validation loss: 0.09673293, validation accuracy: 97.76\n",
            "Epoch 13 starting at: 17:40:17\n"
          ],
          "name": "stdout"
        },
        {
          "output_type": "stream",
          "text": [
            "100%|██████████| 196/196 [00:51<00:00,  3.80it/s]\n",
            "100%|██████████| 40/40 [00:06<00:00,  6.43it/s]\n",
            "  0%|          | 0/196 [00:00<?, ?it/s]"
          ],
          "name": "stderr"
        },
        {
          "output_type": "stream",
          "text": [
            "\n",
            "Epoch 13 of 100, 57.75 s, with average training loss: 0.02706189, and validation loss: 0.06011772, validation accuracy: 98.26\n",
            "Epoch 14 starting at: 17:41:15\n"
          ],
          "name": "stdout"
        },
        {
          "output_type": "stream",
          "text": [
            "100%|██████████| 196/196 [00:51<00:00,  3.81it/s]\n",
            "100%|██████████| 40/40 [00:06<00:00,  6.36it/s]\n",
            "  0%|          | 0/196 [00:00<?, ?it/s]"
          ],
          "name": "stderr"
        },
        {
          "output_type": "stream",
          "text": [
            "\n",
            "Epoch 14 of 100, 57.75 s, with average training loss: 0.02448892, and validation loss: 0.04634999, validation accuracy: 98.80\n",
            "Epoch 15 starting at: 17:42:12\n"
          ],
          "name": "stdout"
        },
        {
          "output_type": "stream",
          "text": [
            "100%|██████████| 196/196 [00:51<00:00,  3.81it/s]\n",
            "100%|██████████| 40/40 [00:06<00:00,  6.37it/s]\n",
            "  0%|          | 0/196 [00:00<?, ?it/s]"
          ],
          "name": "stderr"
        },
        {
          "output_type": "stream",
          "text": [
            "\n",
            "Epoch 15 of 100, 57.69 s, with average training loss: 0.02132241, and validation loss: 0.05633526, validation accuracy: 98.50\n",
            "Epoch 16 starting at: 17:43:10\n"
          ],
          "name": "stdout"
        },
        {
          "output_type": "stream",
          "text": [
            "100%|██████████| 196/196 [00:51<00:00,  3.80it/s]\n",
            "100%|██████████| 40/40 [00:06<00:00,  6.35it/s]\n",
            "  0%|          | 0/196 [00:00<?, ?it/s]"
          ],
          "name": "stderr"
        },
        {
          "output_type": "stream",
          "text": [
            "\n",
            "Epoch 16 of 100, 57.85 s, with average training loss: 0.02140372, and validation loss: 0.04998369, validation accuracy: 98.49\n",
            "Epoch 17 starting at: 17:44:08\n"
          ],
          "name": "stdout"
        },
        {
          "output_type": "stream",
          "text": [
            "100%|██████████| 196/196 [00:51<00:00,  3.79it/s]\n",
            "100%|██████████| 40/40 [00:06<00:00,  6.35it/s]\n",
            "  0%|          | 0/196 [00:00<?, ?it/s]"
          ],
          "name": "stderr"
        },
        {
          "output_type": "stream",
          "text": [
            "\n",
            "Epoch 17 of 100, 57.97 s, with average training loss: 0.01612535, and validation loss: 0.05392812, validation accuracy: 98.63\n",
            "Epoch 18 starting at: 17:45:06\n"
          ],
          "name": "stdout"
        },
        {
          "output_type": "stream",
          "text": [
            "100%|██████████| 196/196 [00:51<00:00,  3.80it/s]\n",
            "100%|██████████| 40/40 [00:06<00:00,  6.39it/s]\n",
            "  0%|          | 0/196 [00:00<?, ?it/s]"
          ],
          "name": "stderr"
        },
        {
          "output_type": "stream",
          "text": [
            "\n",
            "Epoch 18 of 100, 57.78 s, with average training loss: 0.01616519, and validation loss: 0.04670524, validation accuracy: 98.79\n",
            "Epoch 19 starting at: 17:46:04\n"
          ],
          "name": "stdout"
        },
        {
          "output_type": "stream",
          "text": [
            "100%|██████████| 196/196 [00:51<00:00,  3.80it/s]\n",
            "100%|██████████| 40/40 [00:06<00:00,  6.32it/s]\n",
            "  0%|          | 0/196 [00:00<?, ?it/s]"
          ],
          "name": "stderr"
        },
        {
          "output_type": "stream",
          "text": [
            "\n",
            "Epoch 19 of 100, 57.92 s, with average training loss: 0.01384799, and validation loss: 0.05397854, validation accuracy: 98.52\n",
            "Epoch 20 starting at: 17:47:02\n"
          ],
          "name": "stdout"
        },
        {
          "output_type": "stream",
          "text": [
            "100%|██████████| 196/196 [00:51<00:00,  3.81it/s]\n",
            "100%|██████████| 40/40 [00:06<00:00,  6.50it/s]\n",
            "  0%|          | 0/196 [00:00<?, ?it/s]"
          ],
          "name": "stderr"
        },
        {
          "output_type": "stream",
          "text": [
            "Epoch    20: reducing learning rate of group 0 to 1.0000e-03.\n",
            "\n",
            "Epoch 20 of 100, 57.61 s, with average training loss: 0.01449348, and validation loss: 0.06654882, validation accuracy: 98.23\n",
            "Epoch 21 starting at: 17:47:59\n"
          ],
          "name": "stdout"
        },
        {
          "output_type": "stream",
          "text": [
            "100%|██████████| 196/196 [00:51<00:00,  3.80it/s]\n",
            "100%|██████████| 40/40 [00:06<00:00,  6.16it/s]\n",
            "  0%|          | 0/196 [00:00<?, ?it/s]"
          ],
          "name": "stderr"
        },
        {
          "output_type": "stream",
          "text": [
            "\n",
            "Epoch 21 of 100, 58.11 s, with average training loss: 0.00702809, and validation loss: 0.04448745, validation accuracy: 98.88\n",
            "Epoch 22 starting at: 17:48:57\n"
          ],
          "name": "stdout"
        },
        {
          "output_type": "stream",
          "text": [
            "100%|██████████| 196/196 [00:52<00:00,  3.77it/s]\n",
            "100%|██████████| 40/40 [00:06<00:00,  6.53it/s]\n",
            "  0%|          | 0/196 [00:00<?, ?it/s]"
          ],
          "name": "stderr"
        },
        {
          "output_type": "stream",
          "text": [
            "\n",
            "Epoch 22 of 100, 58.14 s, with average training loss: 0.00420818, and validation loss: 0.04972678, validation accuracy: 98.84\n",
            "Epoch 23 starting at: 17:49:55\n"
          ],
          "name": "stdout"
        },
        {
          "output_type": "stream",
          "text": [
            "100%|██████████| 196/196 [00:51<00:00,  3.82it/s]\n",
            "100%|██████████| 40/40 [00:06<00:00,  6.49it/s]\n",
            "  0%|          | 0/196 [00:00<?, ?it/s]"
          ],
          "name": "stderr"
        },
        {
          "output_type": "stream",
          "text": [
            "\n",
            "Epoch 23 of 100, 57.54 s, with average training loss: 0.00316183, and validation loss: 0.04631790, validation accuracy: 98.97\n",
            "Epoch 24 starting at: 17:50:53\n"
          ],
          "name": "stdout"
        },
        {
          "output_type": "stream",
          "text": [
            "100%|██████████| 196/196 [00:51<00:00,  3.80it/s]\n",
            "100%|██████████| 40/40 [00:06<00:00,  6.26it/s]\n",
            "  0%|          | 0/196 [00:00<?, ?it/s]"
          ],
          "name": "stderr"
        },
        {
          "output_type": "stream",
          "text": [
            "\n",
            "Epoch 24 of 100, 57.94 s, with average training loss: 0.00303326, and validation loss: 0.04424373, validation accuracy: 99.09\n",
            "Epoch 25 starting at: 17:51:51\n"
          ],
          "name": "stdout"
        },
        {
          "output_type": "stream",
          "text": [
            "100%|██████████| 196/196 [00:51<00:00,  3.81it/s]\n",
            "100%|██████████| 40/40 [00:06<00:00,  6.38it/s]\n",
            "  0%|          | 0/196 [00:00<?, ?it/s]"
          ],
          "name": "stderr"
        },
        {
          "output_type": "stream",
          "text": [
            "\n",
            "Epoch 25 of 100, 57.76 s, with average training loss: 0.00246060, and validation loss: 0.04457904, validation accuracy: 99.02\n",
            "Epoch 26 starting at: 17:52:49\n"
          ],
          "name": "stdout"
        },
        {
          "output_type": "stream",
          "text": [
            "100%|██████████| 196/196 [00:51<00:00,  3.80it/s]\n",
            "100%|██████████| 40/40 [00:06<00:00,  6.52it/s]\n",
            "  0%|          | 0/196 [00:00<?, ?it/s]"
          ],
          "name": "stderr"
        },
        {
          "output_type": "stream",
          "text": [
            "\n",
            "Epoch 26 of 100, 57.72 s, with average training loss: 0.00234894, and validation loss: 0.04822909, validation accuracy: 99.03\n",
            "Epoch 27 starting at: 17:53:46\n"
          ],
          "name": "stdout"
        },
        {
          "output_type": "stream",
          "text": [
            "100%|██████████| 196/196 [00:51<00:00,  3.80it/s]\n",
            "100%|██████████| 40/40 [00:06<00:00,  6.39it/s]\n",
            "  0%|          | 0/196 [00:00<?, ?it/s]"
          ],
          "name": "stderr"
        },
        {
          "output_type": "stream",
          "text": [
            "\n",
            "Epoch 27 of 100, 57.81 s, with average training loss: 0.00210077, and validation loss: 0.04806431, validation accuracy: 98.97\n",
            "Epoch 28 starting at: 17:54:44\n"
          ],
          "name": "stdout"
        },
        {
          "output_type": "stream",
          "text": [
            "100%|██████████| 196/196 [00:51<00:00,  3.78it/s]\n",
            "100%|██████████| 40/40 [00:06<00:00,  6.53it/s]\n",
            "  0%|          | 0/196 [00:00<?, ?it/s]"
          ],
          "name": "stderr"
        },
        {
          "output_type": "stream",
          "text": [
            "\n",
            "Epoch 28 of 100, 57.96 s, with average training loss: 0.00202745, and validation loss: 0.04883963, validation accuracy: 98.97\n",
            "Epoch 29 starting at: 17:55:42\n"
          ],
          "name": "stdout"
        },
        {
          "output_type": "stream",
          "text": [
            "100%|██████████| 196/196 [00:51<00:00,  3.78it/s]\n",
            "100%|██████████| 40/40 [00:06<00:00,  6.50it/s]\n",
            "  0%|          | 0/196 [00:00<?, ?it/s]"
          ],
          "name": "stderr"
        },
        {
          "output_type": "stream",
          "text": [
            "\n",
            "Epoch 29 of 100, 57.95 s, with average training loss: 0.00144026, and validation loss: 0.04780394, validation accuracy: 99.05\n",
            "Epoch 30 starting at: 17:56:40\n"
          ],
          "name": "stdout"
        },
        {
          "output_type": "stream",
          "text": [
            "100%|██████████| 196/196 [00:51<00:00,  3.80it/s]\n",
            "100%|██████████| 40/40 [00:06<00:00,  6.49it/s]\n",
            "  0%|          | 0/196 [00:00<?, ?it/s]"
          ],
          "name": "stderr"
        },
        {
          "output_type": "stream",
          "text": [
            "Epoch    30: reducing learning rate of group 0 to 1.0000e-04.\n",
            "\n",
            "Epoch 30 of 100, 57.74 s, with average training loss: 0.00126218, and validation loss: 0.04973347, validation accuracy: 98.99\n",
            "Epoch 31 starting at: 17:57:38\n"
          ],
          "name": "stdout"
        },
        {
          "output_type": "stream",
          "text": [
            "100%|██████████| 196/196 [00:51<00:00,  3.82it/s]\n",
            "100%|██████████| 40/40 [00:06<00:00,  6.32it/s]\n",
            "  0%|          | 0/196 [00:00<?, ?it/s]"
          ],
          "name": "stderr"
        },
        {
          "output_type": "stream",
          "text": [
            "\n",
            "Epoch 31 of 100, 57.68 s, with average training loss: 0.00121463, and validation loss: 0.05205583, validation accuracy: 98.96\n",
            "Epoch 32 starting at: 17:58:35\n"
          ],
          "name": "stdout"
        },
        {
          "output_type": "stream",
          "text": [
            "100%|██████████| 196/196 [00:51<00:00,  3.80it/s]\n",
            "100%|██████████| 40/40 [00:06<00:00,  6.34it/s]\n",
            "  0%|          | 0/196 [00:00<?, ?it/s]"
          ],
          "name": "stderr"
        },
        {
          "output_type": "stream",
          "text": [
            "\n",
            "Epoch 32 of 100, 57.87 s, with average training loss: 0.00116292, and validation loss: 0.04675572, validation accuracy: 99.07\n",
            "Epoch 33 starting at: 17:59:33\n"
          ],
          "name": "stdout"
        },
        {
          "output_type": "stream",
          "text": [
            "100%|██████████| 196/196 [00:52<00:00,  3.74it/s]\n",
            "100%|██████████| 40/40 [00:06<00:00,  6.22it/s]\n",
            "  0%|          | 0/196 [00:00<?, ?it/s]"
          ],
          "name": "stderr"
        },
        {
          "output_type": "stream",
          "text": [
            "\n",
            "Epoch 33 of 100, 58.84 s, with average training loss: 0.00133571, and validation loss: 0.04910563, validation accuracy: 99.00\n",
            "Epoch 34 starting at: 18:00:32\n"
          ],
          "name": "stdout"
        },
        {
          "output_type": "stream",
          "text": [
            "100%|██████████| 196/196 [00:51<00:00,  3.79it/s]\n",
            "100%|██████████| 40/40 [00:06<00:00,  6.33it/s]\n",
            "  0%|          | 0/196 [00:00<?, ?it/s]"
          ],
          "name": "stderr"
        },
        {
          "output_type": "stream",
          "text": [
            "\n",
            "Epoch 34 of 100, 58.03 s, with average training loss: 0.00104180, and validation loss: 0.04997877, validation accuracy: 98.99\n",
            "Epoch 35 starting at: 18:01:30\n"
          ],
          "name": "stdout"
        },
        {
          "output_type": "stream",
          "text": [
            "100%|██████████| 196/196 [00:51<00:00,  3.79it/s]\n",
            "100%|██████████| 40/40 [00:06<00:00,  6.15it/s]\n",
            "  0%|          | 0/196 [00:00<?, ?it/s]"
          ],
          "name": "stderr"
        },
        {
          "output_type": "stream",
          "text": [
            "\n",
            "Epoch 35 of 100, 58.19 s, with average training loss: 0.00105557, and validation loss: 0.05230391, validation accuracy: 99.01\n",
            "Epoch 36 starting at: 18:02:28\n"
          ],
          "name": "stdout"
        },
        {
          "output_type": "stream",
          "text": [
            "100%|██████████| 196/196 [00:51<00:00,  3.79it/s]\n",
            "100%|██████████| 40/40 [00:06<00:00,  6.30it/s]\n",
            "  0%|          | 0/196 [00:00<?, ?it/s]"
          ],
          "name": "stderr"
        },
        {
          "output_type": "stream",
          "text": [
            "Epoch    36: reducing learning rate of group 0 to 1.0000e-05.\n",
            "\n",
            "Epoch 36 of 100, 58.07 s, with average training loss: 0.00128898, and validation loss: 0.06022039, validation accuracy: 98.98\n",
            "Epoch 37 starting at: 18:03:26\n"
          ],
          "name": "stdout"
        },
        {
          "output_type": "stream",
          "text": [
            "100%|██████████| 196/196 [00:51<00:00,  3.80it/s]\n",
            "100%|██████████| 40/40 [00:06<00:00,  6.41it/s]\n",
            "  0%|          | 0/196 [00:00<?, ?it/s]"
          ],
          "name": "stderr"
        },
        {
          "output_type": "stream",
          "text": [
            "\n",
            "Epoch 37 of 100, 57.85 s, with average training loss: 0.00109616, and validation loss: 0.05014368, validation accuracy: 99.02\n",
            "Epoch 38 starting at: 18:04:24\n"
          ],
          "name": "stdout"
        },
        {
          "output_type": "stream",
          "text": [
            "100%|██████████| 196/196 [00:51<00:00,  3.79it/s]\n",
            "100%|██████████| 40/40 [00:06<00:00,  6.37it/s]\n",
            "  0%|          | 0/196 [00:00<?, ?it/s]"
          ],
          "name": "stderr"
        },
        {
          "output_type": "stream",
          "text": [
            "\n",
            "Epoch 38 of 100, 57.97 s, with average training loss: 0.00120406, and validation loss: 0.04877087, validation accuracy: 99.03\n",
            "Epoch 39 starting at: 18:05:22\n"
          ],
          "name": "stdout"
        },
        {
          "output_type": "stream",
          "text": [
            "100%|██████████| 196/196 [00:51<00:00,  3.81it/s]\n",
            "100%|██████████| 40/40 [00:06<00:00,  6.49it/s]\n",
            "  0%|          | 0/196 [00:00<?, ?it/s]"
          ],
          "name": "stderr"
        },
        {
          "output_type": "stream",
          "text": [
            "\n",
            "Epoch 39 of 100, 57.65 s, with average training loss: 0.00121112, and validation loss: 0.04832428, validation accuracy: 99.04\n",
            "Epoch 40 starting at: 18:06:20\n"
          ],
          "name": "stdout"
        },
        {
          "output_type": "stream",
          "text": [
            "100%|██████████| 196/196 [00:51<00:00,  3.82it/s]\n",
            "100%|██████████| 40/40 [00:06<00:00,  6.38it/s]\n",
            "  0%|          | 0/196 [00:00<?, ?it/s]"
          ],
          "name": "stderr"
        },
        {
          "output_type": "stream",
          "text": [
            "\n",
            "Epoch 40 of 100, 57.64 s, with average training loss: 0.00112467, and validation loss: 0.04860422, validation accuracy: 99.06\n",
            "Epoch 41 starting at: 18:07:18\n"
          ],
          "name": "stdout"
        },
        {
          "output_type": "stream",
          "text": [
            "100%|██████████| 196/196 [00:51<00:00,  3.80it/s]\n",
            "100%|██████████| 40/40 [00:06<00:00,  6.48it/s]\n",
            "  0%|          | 0/196 [00:00<?, ?it/s]"
          ],
          "name": "stderr"
        },
        {
          "output_type": "stream",
          "text": [
            "\n",
            "Epoch 41 of 100, 57.72 s, with average training loss: 0.00093334, and validation loss: 0.05242271, validation accuracy: 99.00\n",
            "Epoch 42 starting at: 18:08:15\n"
          ],
          "name": "stdout"
        },
        {
          "output_type": "stream",
          "text": [
            "100%|██████████| 196/196 [00:51<00:00,  3.81it/s]\n",
            "100%|██████████| 40/40 [00:06<00:00,  6.23it/s]\n",
            "  0%|          | 0/196 [00:00<?, ?it/s]"
          ],
          "name": "stderr"
        },
        {
          "output_type": "stream",
          "text": [
            "Epoch    42: reducing learning rate of group 0 to 1.0000e-06.\n",
            "\n",
            "Epoch 42 of 100, 57.89 s, with average training loss: 0.00108737, and validation loss: 0.05347442, validation accuracy: 98.96\n",
            "Epoch 43 starting at: 18:09:13\n"
          ],
          "name": "stdout"
        },
        {
          "output_type": "stream",
          "text": [
            "100%|██████████| 196/196 [00:52<00:00,  3.74it/s]\n",
            "100%|██████████| 40/40 [00:06<00:00,  6.13it/s]\n",
            "  0%|          | 0/196 [00:00<?, ?it/s]"
          ],
          "name": "stderr"
        },
        {
          "output_type": "stream",
          "text": [
            "\n",
            "Epoch 43 of 100, 58.89 s, with average training loss: 0.00103887, and validation loss: 0.04844093, validation accuracy: 99.02\n",
            "Epoch 44 starting at: 18:10:12\n"
          ],
          "name": "stdout"
        },
        {
          "output_type": "stream",
          "text": [
            "100%|██████████| 196/196 [00:51<00:00,  3.78it/s]\n",
            "100%|██████████| 40/40 [00:06<00:00,  6.32it/s]\n",
            "  0%|          | 0/196 [00:00<?, ?it/s]"
          ],
          "name": "stderr"
        },
        {
          "output_type": "stream",
          "text": [
            "\n",
            "Epoch 44 of 100, 58.16 s, with average training loss: 0.00092475, and validation loss: 0.05199567, validation accuracy: 98.97\n",
            "Epoch 45 starting at: 18:11:10\n"
          ],
          "name": "stdout"
        },
        {
          "output_type": "stream",
          "text": [
            "100%|██████████| 196/196 [00:51<00:00,  3.80it/s]\n",
            "100%|██████████| 40/40 [00:06<00:00,  6.51it/s]\n",
            "  0%|          | 0/196 [00:00<?, ?it/s]"
          ],
          "name": "stderr"
        },
        {
          "output_type": "stream",
          "text": [
            "\n",
            "Epoch 45 of 100, 57.70 s, with average training loss: 0.00106734, and validation loss: 0.05001851, validation accuracy: 98.99\n",
            "Epoch 46 starting at: 18:12:08\n"
          ],
          "name": "stdout"
        },
        {
          "output_type": "stream",
          "text": [
            "100%|██████████| 196/196 [00:51<00:00,  3.82it/s]\n",
            "100%|██████████| 40/40 [00:06<00:00,  6.42it/s]\n",
            "  0%|          | 0/196 [00:00<?, ?it/s]"
          ],
          "name": "stderr"
        },
        {
          "output_type": "stream",
          "text": [
            "\n",
            "Epoch 46 of 100, 57.57 s, with average training loss: 0.00116894, and validation loss: 0.04729751, validation accuracy: 99.06\n",
            "Epoch 47 starting at: 18:13:06\n"
          ],
          "name": "stdout"
        },
        {
          "output_type": "stream",
          "text": [
            "100%|██████████| 196/196 [00:51<00:00,  3.83it/s]\n",
            "100%|██████████| 40/40 [00:06<00:00,  6.52it/s]\n",
            "  0%|          | 0/196 [00:00<?, ?it/s]"
          ],
          "name": "stderr"
        },
        {
          "output_type": "stream",
          "text": [
            "\n",
            "Epoch 47 of 100, 57.31 s, with average training loss: 0.00109910, and validation loss: 0.05066338, validation accuracy: 98.92\n",
            "Epoch 48 starting at: 18:14:03\n"
          ],
          "name": "stdout"
        },
        {
          "output_type": "stream",
          "text": [
            "100%|██████████| 196/196 [00:51<00:00,  3.82it/s]\n",
            "100%|██████████| 40/40 [00:06<00:00,  6.53it/s]\n",
            "  0%|          | 0/196 [00:00<?, ?it/s]"
          ],
          "name": "stderr"
        },
        {
          "output_type": "stream",
          "text": [
            "Epoch    48: reducing learning rate of group 0 to 1.0000e-07.\n",
            "\n",
            "Epoch 48 of 100, 57.41 s, with average training loss: 0.00099367, and validation loss: 0.05190598, validation accuracy: 98.99\n",
            "Epoch 49 starting at: 18:15:00\n"
          ],
          "name": "stdout"
        },
        {
          "output_type": "stream",
          "text": [
            "100%|██████████| 196/196 [00:51<00:00,  3.80it/s]\n",
            "100%|██████████| 40/40 [00:06<00:00,  6.40it/s]\n",
            "  0%|          | 0/196 [00:00<?, ?it/s]"
          ],
          "name": "stderr"
        },
        {
          "output_type": "stream",
          "text": [
            "\n",
            "Epoch 49 of 100, 57.82 s, with average training loss: 0.00098948, and validation loss: 0.04933094, validation accuracy: 98.95\n",
            "Epoch 50 starting at: 18:15:58\n"
          ],
          "name": "stdout"
        },
        {
          "output_type": "stream",
          "text": [
            "100%|██████████| 196/196 [00:51<00:00,  3.80it/s]\n",
            "100%|██████████| 40/40 [00:06<00:00,  6.53it/s]\n",
            "  0%|          | 0/196 [00:00<?, ?it/s]"
          ],
          "name": "stderr"
        },
        {
          "output_type": "stream",
          "text": [
            "\n",
            "Epoch 50 of 100, 57.67 s, with average training loss: 0.00094832, and validation loss: 0.04850536, validation accuracy: 99.02\n",
            "Epoch 51 starting at: 18:16:56\n"
          ],
          "name": "stdout"
        },
        {
          "output_type": "stream",
          "text": [
            "100%|██████████| 196/196 [00:51<00:00,  3.81it/s]\n",
            "100%|██████████| 40/40 [00:06<00:00,  6.26it/s]\n",
            "  0%|          | 0/196 [00:00<?, ?it/s]"
          ],
          "name": "stderr"
        },
        {
          "output_type": "stream",
          "text": [
            "\n",
            "Epoch 51 of 100, 57.82 s, with average training loss: 0.00113621, and validation loss: 0.04556372, validation accuracy: 99.03\n",
            "Epoch 52 starting at: 18:17:54\n"
          ],
          "name": "stdout"
        },
        {
          "output_type": "stream",
          "text": [
            "100%|██████████| 196/196 [00:51<00:00,  3.81it/s]\n",
            "100%|██████████| 40/40 [00:06<00:00,  6.37it/s]\n",
            "  0%|          | 0/196 [00:00<?, ?it/s]"
          ],
          "name": "stderr"
        },
        {
          "output_type": "stream",
          "text": [
            "\n",
            "Epoch 52 of 100, 57.76 s, with average training loss: 0.00114624, and validation loss: 0.05041879, validation accuracy: 98.92\n",
            "Epoch 53 starting at: 18:18:51\n"
          ],
          "name": "stdout"
        },
        {
          "output_type": "stream",
          "text": [
            "100%|██████████| 196/196 [00:51<00:00,  3.82it/s]\n",
            "100%|██████████| 40/40 [00:06<00:00,  6.61it/s]\n",
            "  0%|          | 0/196 [00:00<?, ?it/s]"
          ],
          "name": "stderr"
        },
        {
          "output_type": "stream",
          "text": [
            "\n",
            "Epoch 53 of 100, 57.32 s, with average training loss: 0.00116484, and validation loss: 0.04837873, validation accuracy: 99.00\n",
            "Epoch 54 starting at: 18:19:49\n"
          ],
          "name": "stdout"
        },
        {
          "output_type": "stream",
          "text": [
            "100%|██████████| 196/196 [00:50<00:00,  3.85it/s]\n",
            "100%|██████████| 40/40 [00:06<00:00,  6.61it/s]\n",
            "  0%|          | 0/196 [00:00<?, ?it/s]"
          ],
          "name": "stderr"
        },
        {
          "output_type": "stream",
          "text": [
            "Epoch    54: reducing learning rate of group 0 to 1.0000e-08.\n",
            "\n",
            "Epoch 54 of 100, 56.99 s, with average training loss: 0.00102145, and validation loss: 0.05326594, validation accuracy: 99.09\n",
            "Epoch 55 starting at: 18:20:46\n"
          ],
          "name": "stdout"
        },
        {
          "output_type": "stream",
          "text": [
            "100%|██████████| 196/196 [00:51<00:00,  3.78it/s]\n",
            "100%|██████████| 40/40 [00:06<00:00,  6.22it/s]\n",
            "  0%|          | 0/196 [00:00<?, ?it/s]"
          ],
          "name": "stderr"
        },
        {
          "output_type": "stream",
          "text": [
            "\n",
            "Epoch 55 of 100, 58.26 s, with average training loss: 0.00102779, and validation loss: 0.04771231, validation accuracy: 99.04\n",
            "Epoch 56 starting at: 18:21:44\n"
          ],
          "name": "stdout"
        },
        {
          "output_type": "stream",
          "text": [
            "100%|██████████| 196/196 [00:51<00:00,  3.80it/s]\n",
            "100%|██████████| 40/40 [00:06<00:00,  6.29it/s]\n",
            "  0%|          | 0/196 [00:00<?, ?it/s]"
          ],
          "name": "stderr"
        },
        {
          "output_type": "stream",
          "text": [
            "\n",
            "Epoch 56 of 100, 57.88 s, with average training loss: 0.00108025, and validation loss: 0.04792724, validation accuracy: 99.05\n",
            "Epoch 57 starting at: 18:22:42\n"
          ],
          "name": "stdout"
        },
        {
          "output_type": "stream",
          "text": [
            "100%|██████████| 196/196 [00:52<00:00,  3.76it/s]\n",
            "100%|██████████| 40/40 [00:06<00:00,  6.37it/s]\n",
            "  0%|          | 0/196 [00:00<?, ?it/s]"
          ],
          "name": "stderr"
        },
        {
          "output_type": "stream",
          "text": [
            "\n",
            "Epoch 57 of 100, 58.36 s, with average training loss: 0.00114887, and validation loss: 0.05072499, validation accuracy: 99.00\n",
            "Epoch 58 starting at: 18:23:40\n"
          ],
          "name": "stdout"
        },
        {
          "output_type": "stream",
          "text": [
            "100%|██████████| 196/196 [00:51<00:00,  3.78it/s]\n",
            "100%|██████████| 40/40 [00:06<00:00,  6.27it/s]\n",
            "  0%|          | 0/196 [00:00<?, ?it/s]"
          ],
          "name": "stderr"
        },
        {
          "output_type": "stream",
          "text": [
            "\n",
            "Epoch 58 of 100, 58.23 s, with average training loss: 0.00110220, and validation loss: 0.05140841, validation accuracy: 98.96\n",
            "Epoch 59 starting at: 18:24:38\n"
          ],
          "name": "stdout"
        },
        {
          "output_type": "stream",
          "text": [
            "100%|██████████| 196/196 [00:52<00:00,  3.77it/s]\n",
            "100%|██████████| 40/40 [00:06<00:00,  6.30it/s]\n",
            "  0%|          | 0/196 [00:00<?, ?it/s]"
          ],
          "name": "stderr"
        },
        {
          "output_type": "stream",
          "text": [
            "\n",
            "Epoch 59 of 100, 58.36 s, with average training loss: 0.00126055, and validation loss: 0.04791416, validation accuracy: 98.96\n",
            "Epoch 60 starting at: 18:25:37\n"
          ],
          "name": "stdout"
        },
        {
          "output_type": "stream",
          "text": [
            "100%|██████████| 196/196 [00:51<00:00,  3.80it/s]\n",
            "100%|██████████| 40/40 [00:06<00:00,  6.29it/s]\n",
            "  0%|          | 0/196 [00:00<?, ?it/s]"
          ],
          "name": "stderr"
        },
        {
          "output_type": "stream",
          "text": [
            "\n",
            "Epoch 60 of 100, 57.96 s, with average training loss: 0.00122550, and validation loss: 0.04925444, validation accuracy: 99.03\n",
            "Epoch 61 starting at: 18:26:35\n"
          ],
          "name": "stdout"
        },
        {
          "output_type": "stream",
          "text": [
            "100%|██████████| 196/196 [00:51<00:00,  3.80it/s]\n",
            "100%|██████████| 40/40 [00:06<00:00,  6.51it/s]\n",
            "  0%|          | 0/196 [00:00<?, ?it/s]"
          ],
          "name": "stderr"
        },
        {
          "output_type": "stream",
          "text": [
            "\n",
            "Epoch 61 of 100, 57.68 s, with average training loss: 0.00108453, and validation loss: 0.04797934, validation accuracy: 99.01\n",
            "Epoch 62 starting at: 18:27:32\n"
          ],
          "name": "stdout"
        },
        {
          "output_type": "stream",
          "text": [
            "100%|██████████| 196/196 [00:51<00:00,  3.81it/s]\n",
            "100%|██████████| 40/40 [00:06<00:00,  6.53it/s]\n",
            "  0%|          | 0/196 [00:00<?, ?it/s]"
          ],
          "name": "stderr"
        },
        {
          "output_type": "stream",
          "text": [
            "\n",
            "Epoch 62 of 100, 57.58 s, with average training loss: 0.00096521, and validation loss: 0.05172480, validation accuracy: 98.96\n",
            "Epoch 63 starting at: 18:28:30\n"
          ],
          "name": "stdout"
        },
        {
          "output_type": "stream",
          "text": [
            "100%|██████████| 196/196 [00:51<00:00,  3.81it/s]\n",
            "100%|██████████| 40/40 [00:06<00:00,  6.28it/s]\n",
            "  0%|          | 0/196 [00:00<?, ?it/s]"
          ],
          "name": "stderr"
        },
        {
          "output_type": "stream",
          "text": [
            "\n",
            "Epoch 63 of 100, 57.88 s, with average training loss: 0.00120565, and validation loss: 0.04789153, validation accuracy: 99.07\n",
            "Epoch 64 starting at: 18:29:28\n"
          ],
          "name": "stdout"
        },
        {
          "output_type": "stream",
          "text": [
            "100%|██████████| 196/196 [00:51<00:00,  3.80it/s]\n",
            "100%|██████████| 40/40 [00:06<00:00,  6.18it/s]\n",
            "  0%|          | 0/196 [00:00<?, ?it/s]"
          ],
          "name": "stderr"
        },
        {
          "output_type": "stream",
          "text": [
            "\n",
            "Epoch 64 of 100, 58.05 s, with average training loss: 0.00108261, and validation loss: 0.05055192, validation accuracy: 99.01\n",
            "Epoch 65 starting at: 18:30:26\n"
          ],
          "name": "stdout"
        },
        {
          "output_type": "stream",
          "text": [
            "100%|██████████| 196/196 [00:51<00:00,  3.80it/s]\n",
            "100%|██████████| 40/40 [00:06<00:00,  6.35it/s]\n",
            "  0%|          | 0/196 [00:00<?, ?it/s]"
          ],
          "name": "stderr"
        },
        {
          "output_type": "stream",
          "text": [
            "\n",
            "Epoch 65 of 100, 57.86 s, with average training loss: 0.00101666, and validation loss: 0.05077645, validation accuracy: 98.94\n",
            "Epoch 66 starting at: 18:31:24\n"
          ],
          "name": "stdout"
        },
        {
          "output_type": "stream",
          "text": [
            "100%|██████████| 196/196 [00:51<00:00,  3.79it/s]\n",
            "100%|██████████| 40/40 [00:06<00:00,  6.26it/s]\n",
            "  0%|          | 0/196 [00:00<?, ?it/s]"
          ],
          "name": "stderr"
        },
        {
          "output_type": "stream",
          "text": [
            "\n",
            "Epoch 66 of 100, 58.18 s, with average training loss: 0.00108233, and validation loss: 0.05052638, validation accuracy: 99.02\n",
            "Epoch 67 starting at: 18:32:22\n"
          ],
          "name": "stdout"
        },
        {
          "output_type": "stream",
          "text": [
            "100%|██████████| 196/196 [00:51<00:00,  3.80it/s]\n",
            "100%|██████████| 40/40 [00:06<00:00,  6.34it/s]\n",
            "  0%|          | 0/196 [00:00<?, ?it/s]"
          ],
          "name": "stderr"
        },
        {
          "output_type": "stream",
          "text": [
            "\n",
            "Epoch 67 of 100, 57.93 s, with average training loss: 0.00117284, and validation loss: 0.05087671, validation accuracy: 98.92\n",
            "Epoch 68 starting at: 18:33:20\n"
          ],
          "name": "stdout"
        },
        {
          "output_type": "stream",
          "text": [
            "100%|██████████| 196/196 [00:51<00:00,  3.81it/s]\n",
            "100%|██████████| 40/40 [00:06<00:00,  6.40it/s]\n",
            "  0%|          | 0/196 [00:00<?, ?it/s]"
          ],
          "name": "stderr"
        },
        {
          "output_type": "stream",
          "text": [
            "\n",
            "Epoch 68 of 100, 57.71 s, with average training loss: 0.00101649, and validation loss: 0.05021407, validation accuracy: 98.97\n",
            "Epoch 69 starting at: 18:34:18\n"
          ],
          "name": "stdout"
        },
        {
          "output_type": "stream",
          "text": [
            "100%|██████████| 196/196 [00:51<00:00,  3.81it/s]\n",
            "100%|██████████| 40/40 [00:06<00:00,  6.54it/s]\n",
            "  0%|          | 0/196 [00:00<?, ?it/s]"
          ],
          "name": "stderr"
        },
        {
          "output_type": "stream",
          "text": [
            "\n",
            "Epoch 69 of 100, 57.61 s, with average training loss: 0.00121000, and validation loss: 0.04875272, validation accuracy: 99.03\n",
            "Epoch 70 starting at: 18:35:15\n"
          ],
          "name": "stdout"
        },
        {
          "output_type": "stream",
          "text": [
            "100%|██████████| 196/196 [00:51<00:00,  3.81it/s]\n",
            "100%|██████████| 40/40 [00:06<00:00,  6.56it/s]\n",
            "  0%|          | 0/196 [00:00<?, ?it/s]"
          ],
          "name": "stderr"
        },
        {
          "output_type": "stream",
          "text": [
            "\n",
            "Epoch 70 of 100, 57.61 s, with average training loss: 0.00109670, and validation loss: 0.04993046, validation accuracy: 99.05\n",
            "Epoch 71 starting at: 18:36:13\n"
          ],
          "name": "stdout"
        },
        {
          "output_type": "stream",
          "text": [
            "100%|██████████| 196/196 [00:51<00:00,  3.81it/s]\n",
            "100%|██████████| 40/40 [00:06<00:00,  6.46it/s]\n",
            "  0%|          | 0/196 [00:00<?, ?it/s]"
          ],
          "name": "stderr"
        },
        {
          "output_type": "stream",
          "text": [
            "\n",
            "Epoch 71 of 100, 57.60 s, with average training loss: 0.00110722, and validation loss: 0.06053594, validation accuracy: 98.94\n",
            "Epoch 72 starting at: 18:37:10\n"
          ],
          "name": "stdout"
        },
        {
          "output_type": "stream",
          "text": [
            "100%|██████████| 196/196 [00:51<00:00,  3.83it/s]\n",
            "100%|██████████| 40/40 [00:06<00:00,  6.48it/s]\n",
            "  0%|          | 0/196 [00:00<?, ?it/s]"
          ],
          "name": "stderr"
        },
        {
          "output_type": "stream",
          "text": [
            "\n",
            "Epoch 72 of 100, 57.41 s, with average training loss: 0.00107431, and validation loss: 0.09241205, validation accuracy: 98.96\n",
            "Epoch 73 starting at: 18:38:08\n"
          ],
          "name": "stdout"
        },
        {
          "output_type": "stream",
          "text": [
            "100%|██████████| 196/196 [00:51<00:00,  3.81it/s]\n",
            "100%|██████████| 40/40 [00:06<00:00,  6.39it/s]\n",
            "  0%|          | 0/196 [00:00<?, ?it/s]"
          ],
          "name": "stderr"
        },
        {
          "output_type": "stream",
          "text": [
            "\n",
            "Epoch 73 of 100, 57.66 s, with average training loss: 0.00111128, and validation loss: 0.05173204, validation accuracy: 98.97\n",
            "Epoch 74 starting at: 18:39:05\n"
          ],
          "name": "stdout"
        },
        {
          "output_type": "stream",
          "text": [
            "100%|██████████| 196/196 [00:51<00:00,  3.81it/s]\n",
            "100%|██████████| 40/40 [00:06<00:00,  6.55it/s]\n",
            "  0%|          | 0/196 [00:00<?, ?it/s]"
          ],
          "name": "stderr"
        },
        {
          "output_type": "stream",
          "text": [
            "\n",
            "Epoch 74 of 100, 57.49 s, with average training loss: 0.00110477, and validation loss: 0.04886955, validation accuracy: 99.02\n",
            "Epoch 75 starting at: 18:40:03\n"
          ],
          "name": "stdout"
        },
        {
          "output_type": "stream",
          "text": [
            "100%|██████████| 196/196 [00:51<00:00,  3.81it/s]\n",
            "100%|██████████| 40/40 [00:06<00:00,  6.32it/s]\n",
            "  0%|          | 0/196 [00:00<?, ?it/s]"
          ],
          "name": "stderr"
        },
        {
          "output_type": "stream",
          "text": [
            "\n",
            "Epoch 75 of 100, 57.79 s, with average training loss: 0.00099182, and validation loss: 0.04938625, validation accuracy: 99.03\n",
            "Epoch 76 starting at: 18:41:01\n"
          ],
          "name": "stdout"
        },
        {
          "output_type": "stream",
          "text": [
            "100%|██████████| 196/196 [00:51<00:00,  3.80it/s]\n",
            "100%|██████████| 40/40 [00:06<00:00,  6.26it/s]\n",
            "  0%|          | 0/196 [00:00<?, ?it/s]"
          ],
          "name": "stderr"
        },
        {
          "output_type": "stream",
          "text": [
            "\n",
            "Epoch 76 of 100, 58.01 s, with average training loss: 0.00103227, and validation loss: 0.05102701, validation accuracy: 98.96\n",
            "Epoch 77 starting at: 18:41:59\n"
          ],
          "name": "stdout"
        },
        {
          "output_type": "stream",
          "text": [
            "100%|██████████| 196/196 [00:51<00:00,  3.80it/s]\n",
            "100%|██████████| 40/40 [00:06<00:00,  6.35it/s]\n",
            "  0%|          | 0/196 [00:00<?, ?it/s]"
          ],
          "name": "stderr"
        },
        {
          "output_type": "stream",
          "text": [
            "\n",
            "Epoch 77 of 100, 57.87 s, with average training loss: 0.00109316, and validation loss: 0.05160930, validation accuracy: 99.01\n",
            "Epoch 78 starting at: 18:42:57\n"
          ],
          "name": "stdout"
        },
        {
          "output_type": "stream",
          "text": [
            "100%|██████████| 196/196 [00:51<00:00,  3.81it/s]\n",
            "100%|██████████| 40/40 [00:06<00:00,  6.53it/s]\n",
            "  0%|          | 0/196 [00:00<?, ?it/s]"
          ],
          "name": "stderr"
        },
        {
          "output_type": "stream",
          "text": [
            "\n",
            "Epoch 78 of 100, 57.54 s, with average training loss: 0.00094524, and validation loss: 0.04962919, validation accuracy: 98.99\n",
            "Epoch 79 starting at: 18:43:54\n"
          ],
          "name": "stdout"
        },
        {
          "output_type": "stream",
          "text": [
            "100%|██████████| 196/196 [00:51<00:00,  3.82it/s]\n",
            "100%|██████████| 40/40 [00:06<00:00,  6.57it/s]\n",
            "  0%|          | 0/196 [00:00<?, ?it/s]"
          ],
          "name": "stderr"
        },
        {
          "output_type": "stream",
          "text": [
            "\n",
            "Epoch 79 of 100, 57.46 s, with average training loss: 0.00112544, and validation loss: 0.05936148, validation accuracy: 99.04\n",
            "Epoch 80 starting at: 18:44:52\n"
          ],
          "name": "stdout"
        },
        {
          "output_type": "stream",
          "text": [
            "100%|██████████| 196/196 [00:51<00:00,  3.80it/s]\n",
            "100%|██████████| 40/40 [00:06<00:00,  6.51it/s]\n",
            "  0%|          | 0/196 [00:00<?, ?it/s]"
          ],
          "name": "stderr"
        },
        {
          "output_type": "stream",
          "text": [
            "\n",
            "Epoch 80 of 100, 57.80 s, with average training loss: 0.00108703, and validation loss: 0.05144401, validation accuracy: 98.97\n",
            "Epoch 81 starting at: 18:45:49\n"
          ],
          "name": "stdout"
        },
        {
          "output_type": "stream",
          "text": [
            "100%|██████████| 196/196 [00:51<00:00,  3.77it/s]\n",
            "100%|██████████| 40/40 [00:06<00:00,  6.14it/s]\n",
            "  0%|          | 0/196 [00:00<?, ?it/s]"
          ],
          "name": "stderr"
        },
        {
          "output_type": "stream",
          "text": [
            "\n",
            "Epoch 81 of 100, 58.51 s, with average training loss: 0.00085436, and validation loss: 0.05432102, validation accuracy: 98.96\n",
            "Epoch 82 starting at: 18:46:48\n"
          ],
          "name": "stdout"
        },
        {
          "output_type": "stream",
          "text": [
            "100%|██████████| 196/196 [00:52<00:00,  3.75it/s]\n",
            "100%|██████████| 40/40 [00:06<00:00,  6.48it/s]\n",
            "  0%|          | 0/196 [00:00<?, ?it/s]"
          ],
          "name": "stderr"
        },
        {
          "output_type": "stream",
          "text": [
            "\n",
            "Epoch 82 of 100, 58.46 s, with average training loss: 0.00107939, and validation loss: 0.04840119, validation accuracy: 98.97\n",
            "Epoch 83 starting at: 18:47:46\n"
          ],
          "name": "stdout"
        },
        {
          "output_type": "stream",
          "text": [
            "100%|██████████| 196/196 [00:51<00:00,  3.78it/s]\n",
            "100%|██████████| 40/40 [00:06<00:00,  6.28it/s]\n",
            "  0%|          | 0/196 [00:00<?, ?it/s]"
          ],
          "name": "stderr"
        },
        {
          "output_type": "stream",
          "text": [
            "\n",
            "Epoch 83 of 100, 58.24 s, with average training loss: 0.00127338, and validation loss: 0.05429647, validation accuracy: 98.98\n",
            "Epoch 84 starting at: 18:48:45\n"
          ],
          "name": "stdout"
        },
        {
          "output_type": "stream",
          "text": [
            "100%|██████████| 196/196 [00:51<00:00,  3.79it/s]\n",
            "100%|██████████| 40/40 [00:06<00:00,  6.31it/s]\n",
            "  0%|          | 0/196 [00:00<?, ?it/s]"
          ],
          "name": "stderr"
        },
        {
          "output_type": "stream",
          "text": [
            "\n",
            "Epoch 84 of 100, 58.08 s, with average training loss: 0.00110255, and validation loss: 0.06266210, validation accuracy: 99.04\n",
            "Epoch 85 starting at: 18:49:43\n"
          ],
          "name": "stdout"
        },
        {
          "output_type": "stream",
          "text": [
            "100%|██████████| 196/196 [00:51<00:00,  3.78it/s]\n",
            "100%|██████████| 40/40 [00:06<00:00,  6.43it/s]\n",
            "  0%|          | 0/196 [00:00<?, ?it/s]"
          ],
          "name": "stderr"
        },
        {
          "output_type": "stream",
          "text": [
            "\n",
            "Epoch 85 of 100, 58.08 s, with average training loss: 0.00119591, and validation loss: 0.04903635, validation accuracy: 98.97\n",
            "Epoch 86 starting at: 18:50:41\n"
          ],
          "name": "stdout"
        },
        {
          "output_type": "stream",
          "text": [
            "100%|██████████| 196/196 [00:51<00:00,  3.77it/s]\n",
            "100%|██████████| 40/40 [00:06<00:00,  6.20it/s]\n",
            "  0%|          | 0/196 [00:00<?, ?it/s]"
          ],
          "name": "stderr"
        },
        {
          "output_type": "stream",
          "text": [
            "\n",
            "Epoch 86 of 100, 58.42 s, with average training loss: 0.00113157, and validation loss: 0.04866090, validation accuracy: 99.02\n",
            "Epoch 87 starting at: 18:51:39\n"
          ],
          "name": "stdout"
        },
        {
          "output_type": "stream",
          "text": [
            "100%|██████████| 196/196 [00:52<00:00,  3.75it/s]\n",
            "100%|██████████| 40/40 [00:06<00:00,  6.16it/s]\n",
            "  0%|          | 0/196 [00:00<?, ?it/s]"
          ],
          "name": "stderr"
        },
        {
          "output_type": "stream",
          "text": [
            "\n",
            "Epoch 87 of 100, 58.72 s, with average training loss: 0.00099559, and validation loss: 0.04786909, validation accuracy: 99.04\n",
            "Epoch 88 starting at: 18:52:38\n"
          ],
          "name": "stdout"
        },
        {
          "output_type": "stream",
          "text": [
            "100%|██████████| 196/196 [00:51<00:00,  3.77it/s]\n",
            "100%|██████████| 40/40 [00:06<00:00,  6.26it/s]\n",
            "  0%|          | 0/196 [00:00<?, ?it/s]"
          ],
          "name": "stderr"
        },
        {
          "output_type": "stream",
          "text": [
            "\n",
            "Epoch 88 of 100, 58.33 s, with average training loss: 0.00120719, and validation loss: 0.05077140, validation accuracy: 99.00\n",
            "Epoch 89 starting at: 18:53:36\n"
          ],
          "name": "stdout"
        },
        {
          "output_type": "stream",
          "text": [
            "100%|██████████| 196/196 [00:52<00:00,  3.76it/s]\n",
            "100%|██████████| 40/40 [00:06<00:00,  6.28it/s]\n",
            "  0%|          | 0/196 [00:00<?, ?it/s]"
          ],
          "name": "stderr"
        },
        {
          "output_type": "stream",
          "text": [
            "\n",
            "Epoch 89 of 100, 58.52 s, with average training loss: 0.00098089, and validation loss: 0.04795996, validation accuracy: 99.03\n",
            "Epoch 90 starting at: 18:54:35\n"
          ],
          "name": "stdout"
        },
        {
          "output_type": "stream",
          "text": [
            "100%|██████████| 196/196 [00:52<00:00,  3.76it/s]\n",
            "100%|██████████| 40/40 [00:06<00:00,  6.32it/s]\n",
            "  0%|          | 0/196 [00:00<?, ?it/s]"
          ],
          "name": "stderr"
        },
        {
          "output_type": "stream",
          "text": [
            "\n",
            "Epoch 90 of 100, 58.43 s, with average training loss: 0.00113220, and validation loss: 0.05675479, validation accuracy: 98.95\n",
            "Epoch 91 starting at: 18:55:33\n"
          ],
          "name": "stdout"
        },
        {
          "output_type": "stream",
          "text": [
            "100%|██████████| 196/196 [00:51<00:00,  3.77it/s]\n",
            "100%|██████████| 40/40 [00:06<00:00,  6.25it/s]\n",
            "  0%|          | 0/196 [00:00<?, ?it/s]"
          ],
          "name": "stderr"
        },
        {
          "output_type": "stream",
          "text": [
            "\n",
            "Epoch 91 of 100, 58.39 s, with average training loss: 0.00108415, and validation loss: 0.05050159, validation accuracy: 99.00\n",
            "Epoch 92 starting at: 18:56:32\n"
          ],
          "name": "stdout"
        },
        {
          "output_type": "stream",
          "text": [
            "100%|██████████| 196/196 [00:52<00:00,  3.74it/s]\n",
            "100%|██████████| 40/40 [00:06<00:00,  6.14it/s]\n",
            "  0%|          | 0/196 [00:00<?, ?it/s]"
          ],
          "name": "stderr"
        },
        {
          "output_type": "stream",
          "text": [
            "\n",
            "Epoch 92 of 100, 58.86 s, with average training loss: 0.00096231, and validation loss: 0.05017528, validation accuracy: 99.01\n",
            "Epoch 93 starting at: 18:57:30\n"
          ],
          "name": "stdout"
        },
        {
          "output_type": "stream",
          "text": [
            "100%|██████████| 196/196 [00:51<00:00,  3.77it/s]\n",
            "100%|██████████| 40/40 [00:06<00:00,  6.19it/s]\n",
            "  0%|          | 0/196 [00:00<?, ?it/s]"
          ],
          "name": "stderr"
        },
        {
          "output_type": "stream",
          "text": [
            "\n",
            "Epoch 93 of 100, 58.43 s, with average training loss: 0.00111715, and validation loss: 0.05104010, validation accuracy: 98.96\n",
            "Epoch 94 starting at: 18:58:29\n"
          ],
          "name": "stdout"
        },
        {
          "output_type": "stream",
          "text": [
            "100%|██████████| 196/196 [00:52<00:00,  3.74it/s]\n",
            "100%|██████████| 40/40 [00:06<00:00,  6.13it/s]\n",
            "  0%|          | 0/196 [00:00<?, ?it/s]"
          ],
          "name": "stderr"
        },
        {
          "output_type": "stream",
          "text": [
            "\n",
            "Epoch 94 of 100, 58.87 s, with average training loss: 0.00113981, and validation loss: 0.04865639, validation accuracy: 98.95\n",
            "Epoch 95 starting at: 18:59:28\n"
          ],
          "name": "stdout"
        },
        {
          "output_type": "stream",
          "text": [
            "100%|██████████| 196/196 [00:52<00:00,  3.75it/s]\n",
            "100%|██████████| 40/40 [00:06<00:00,  6.09it/s]\n",
            "  0%|          | 0/196 [00:00<?, ?it/s]"
          ],
          "name": "stderr"
        },
        {
          "output_type": "stream",
          "text": [
            "\n",
            "Epoch 95 of 100, 58.87 s, with average training loss: 0.00119815, and validation loss: 0.05061182, validation accuracy: 99.02\n",
            "Epoch 96 starting at: 19:00:27\n"
          ],
          "name": "stdout"
        },
        {
          "output_type": "stream",
          "text": [
            "100%|██████████| 196/196 [00:52<00:00,  3.76it/s]\n",
            "100%|██████████| 40/40 [00:06<00:00,  6.21it/s]\n",
            "  0%|          | 0/196 [00:00<?, ?it/s]"
          ],
          "name": "stderr"
        },
        {
          "output_type": "stream",
          "text": [
            "\n",
            "Epoch 96 of 100, 58.55 s, with average training loss: 0.00111167, and validation loss: 0.05077547, validation accuracy: 98.93\n",
            "Epoch 97 starting at: 19:01:25\n"
          ],
          "name": "stdout"
        },
        {
          "output_type": "stream",
          "text": [
            "100%|██████████| 196/196 [00:52<00:00,  3.74it/s]\n",
            "100%|██████████| 40/40 [00:06<00:00,  6.05it/s]\n",
            "  0%|          | 0/196 [00:00<?, ?it/s]"
          ],
          "name": "stderr"
        },
        {
          "output_type": "stream",
          "text": [
            "\n",
            "Epoch 97 of 100, 58.98 s, with average training loss: 0.00107803, and validation loss: 0.04955086, validation accuracy: 98.97\n",
            "Epoch 98 starting at: 19:02:24\n"
          ],
          "name": "stdout"
        },
        {
          "output_type": "stream",
          "text": [
            "100%|██████████| 196/196 [00:52<00:00,  3.73it/s]\n",
            "100%|██████████| 40/40 [00:06<00:00,  6.21it/s]\n",
            "  0%|          | 0/196 [00:00<?, ?it/s]"
          ],
          "name": "stderr"
        },
        {
          "output_type": "stream",
          "text": [
            "\n",
            "Epoch 98 of 100, 59.00 s, with average training loss: 0.00105922, and validation loss: 0.04546560, validation accuracy: 99.04\n",
            "Epoch 99 starting at: 19:03:23\n"
          ],
          "name": "stdout"
        },
        {
          "output_type": "stream",
          "text": [
            "100%|██████████| 196/196 [00:52<00:00,  3.76it/s]\n",
            "100%|██████████| 40/40 [00:06<00:00,  6.25it/s]\n",
            "  0%|          | 0/196 [00:00<?, ?it/s]"
          ],
          "name": "stderr"
        },
        {
          "output_type": "stream",
          "text": [
            "\n",
            "Epoch 99 of 100, 58.56 s, with average training loss: 0.00106282, and validation loss: 0.05379217, validation accuracy: 99.02\n",
            "Epoch 100 starting at: 19:04:22\n"
          ],
          "name": "stdout"
        },
        {
          "output_type": "stream",
          "text": [
            "100%|██████████| 196/196 [00:52<00:00,  3.75it/s]\n",
            "100%|██████████| 40/40 [00:06<00:00,  6.32it/s]\n"
          ],
          "name": "stderr"
        },
        {
          "output_type": "stream",
          "text": [
            "\n",
            "Epoch 100 of 100, 58.54 s, with average training loss: 0.00106041, and validation loss: 0.05064830, validation accuracy: 98.99\n",
            "Finished Training  11/05/2021 19:05:20\n",
            "Avg per epoch ptime: 57.97, total 100 epochs ptime: 5797.26\n"
          ],
          "name": "stdout"
        }
      ]
    },
    {
      "cell_type": "markdown",
      "metadata": {
        "id": "BOwQu7oxCiax"
      },
      "source": [
        "### ResNet Training"
      ]
    },
    {
      "cell_type": "code",
      "metadata": {
        "colab": {
          "base_uri": "https://localhost:8080/"
        },
        "id": "t-049DvPhleM",
        "outputId": "3bff153f-5ee9-47bf-d75c-a7caf6d92034"
      },
      "source": [
        "# Load and train ResNet\n",
        "net, optimizer, scheduler = LoadResNet(device)\n",
        "TrainResNet(net, optimizer, scheduler, criterion, epochs, train_loader, validation_loader)\n",
        "torch.save(net.state_dict(), model_dir + '/ResNet_MNIST_model.pth')\n",
        "del net\n",
        "del optimizer\n",
        "del scheduler"
      ],
      "execution_count": 10,
      "outputs": [
        {
          "output_type": "stream",
          "text": [
            "Using cache found in /root/.cache/torch/hub/pytorch_vision_v0.9.0\n",
            "  1%|          | 1/196 [00:00<00:35,  5.46it/s]"
          ],
          "name": "stderr"
        },
        {
          "output_type": "stream",
          "text": [
            "\n",
            "Training ResNet\n",
            "Training starting  11/05/2021 19:05:22\n",
            "Epoch 1 starting at: 19:05:22\n"
          ],
          "name": "stdout"
        },
        {
          "output_type": "stream",
          "text": [
            "100%|██████████| 196/196 [00:34<00:00,  5.74it/s]\n",
            "100%|██████████| 40/40 [00:05<00:00,  7.69it/s]\n",
            "  1%|          | 1/196 [00:00<00:33,  5.78it/s]"
          ],
          "name": "stderr"
        },
        {
          "output_type": "stream",
          "text": [
            "\n",
            "Epoch 1 of 100, 39.33 s, with average training loss: 0.40020517, and validation loss: 0.11836956, validation accuracy: 96.25\n",
            "Epoch 2 starting at: 19:06:01\n"
          ],
          "name": "stdout"
        },
        {
          "output_type": "stream",
          "text": [
            "100%|██████████| 196/196 [00:33<00:00,  5.79it/s]\n",
            "100%|██████████| 40/40 [00:05<00:00,  7.67it/s]\n",
            "  1%|          | 1/196 [00:00<00:33,  5.80it/s]"
          ],
          "name": "stderr"
        },
        {
          "output_type": "stream",
          "text": [
            "\n",
            "Epoch 2 of 100, 39.07 s, with average training loss: 0.07107064, and validation loss: 0.07416935, validation accuracy: 97.69\n",
            "Epoch 3 starting at: 19:06:40\n"
          ],
          "name": "stdout"
        },
        {
          "output_type": "stream",
          "text": [
            "100%|██████████| 196/196 [00:33<00:00,  5.80it/s]\n",
            "100%|██████████| 40/40 [00:05<00:00,  7.58it/s]\n",
            "  1%|          | 1/196 [00:00<00:33,  5.76it/s]"
          ],
          "name": "stderr"
        },
        {
          "output_type": "stream",
          "text": [
            "\n",
            "Epoch 3 of 100, 39.10 s, with average training loss: 0.04371382, and validation loss: 0.05979604, validation accuracy: 98.05\n",
            "Epoch 4 starting at: 19:07:20\n"
          ],
          "name": "stdout"
        },
        {
          "output_type": "stream",
          "text": [
            "100%|██████████| 196/196 [00:33<00:00,  5.77it/s]\n",
            "100%|██████████| 40/40 [00:05<00:00,  7.66it/s]\n",
            "  1%|          | 1/196 [00:00<00:33,  5.81it/s]"
          ],
          "name": "stderr"
        },
        {
          "output_type": "stream",
          "text": [
            "\n",
            "Epoch 4 of 100, 39.18 s, with average training loss: 0.03143757, and validation loss: 0.05505850, validation accuracy: 98.32\n",
            "Epoch 5 starting at: 19:07:59\n"
          ],
          "name": "stdout"
        },
        {
          "output_type": "stream",
          "text": [
            "100%|██████████| 196/196 [00:33<00:00,  5.80it/s]\n",
            "100%|██████████| 40/40 [00:05<00:00,  7.60it/s]\n",
            "  1%|          | 1/196 [00:00<00:34,  5.63it/s]"
          ],
          "name": "stderr"
        },
        {
          "output_type": "stream",
          "text": [
            "\n",
            "Epoch 5 of 100, 39.09 s, with average training loss: 0.02433826, and validation loss: 0.04900780, validation accuracy: 98.54\n",
            "Epoch 6 starting at: 19:08:38\n"
          ],
          "name": "stdout"
        },
        {
          "output_type": "stream",
          "text": [
            "100%|██████████| 196/196 [00:34<00:00,  5.75it/s]\n",
            "100%|██████████| 40/40 [00:05<00:00,  7.61it/s]\n",
            "  1%|          | 1/196 [00:00<00:34,  5.68it/s]"
          ],
          "name": "stderr"
        },
        {
          "output_type": "stream",
          "text": [
            "\n",
            "Epoch 6 of 100, 39.35 s, with average training loss: 0.01812054, and validation loss: 0.04931684, validation accuracy: 98.55\n",
            "Epoch 7 starting at: 19:09:17\n"
          ],
          "name": "stdout"
        },
        {
          "output_type": "stream",
          "text": [
            "100%|██████████| 196/196 [00:34<00:00,  5.76it/s]\n",
            "100%|██████████| 40/40 [00:05<00:00,  7.58it/s]\n",
            "  1%|          | 1/196 [00:00<00:34,  5.73it/s]"
          ],
          "name": "stderr"
        },
        {
          "output_type": "stream",
          "text": [
            "\n",
            "Epoch 7 of 100, 39.29 s, with average training loss: 0.01307207, and validation loss: 0.04705605, validation accuracy: 98.62\n",
            "Epoch 8 starting at: 19:09:56\n"
          ],
          "name": "stdout"
        },
        {
          "output_type": "stream",
          "text": [
            "100%|██████████| 196/196 [00:34<00:00,  5.74it/s]\n",
            "100%|██████████| 40/40 [00:05<00:00,  7.59it/s]\n",
            "  1%|          | 1/196 [00:00<00:34,  5.66it/s]"
          ],
          "name": "stderr"
        },
        {
          "output_type": "stream",
          "text": [
            "\n",
            "Epoch 8 of 100, 39.45 s, with average training loss: 0.01252454, and validation loss: 0.04114287, validation accuracy: 98.80\n",
            "Epoch 9 starting at: 19:10:36\n"
          ],
          "name": "stdout"
        },
        {
          "output_type": "stream",
          "text": [
            "100%|██████████| 196/196 [00:34<00:00,  5.74it/s]\n",
            "100%|██████████| 40/40 [00:05<00:00,  7.54it/s]\n",
            "  1%|          | 1/196 [00:00<00:34,  5.63it/s]"
          ],
          "name": "stderr"
        },
        {
          "output_type": "stream",
          "text": [
            "\n",
            "Epoch 9 of 100, 39.46 s, with average training loss: 0.00927986, and validation loss: 0.04849954, validation accuracy: 98.76\n",
            "Epoch 10 starting at: 19:11:15\n"
          ],
          "name": "stdout"
        },
        {
          "output_type": "stream",
          "text": [
            "100%|██████████| 196/196 [00:34<00:00,  5.72it/s]\n",
            "100%|██████████| 40/40 [00:05<00:00,  7.59it/s]\n",
            "  1%|          | 1/196 [00:00<00:34,  5.67it/s]"
          ],
          "name": "stderr"
        },
        {
          "output_type": "stream",
          "text": [
            "\n",
            "Epoch 10 of 100, 39.57 s, with average training loss: 0.00612064, and validation loss: 0.04019526, validation accuracy: 98.83\n",
            "Epoch 11 starting at: 19:11:55\n"
          ],
          "name": "stdout"
        },
        {
          "output_type": "stream",
          "text": [
            "100%|██████████| 196/196 [00:34<00:00,  5.68it/s]\n",
            "100%|██████████| 40/40 [00:05<00:00,  7.60it/s]\n",
            "  1%|          | 1/196 [00:00<00:33,  5.80it/s]"
          ],
          "name": "stderr"
        },
        {
          "output_type": "stream",
          "text": [
            "\n",
            "Epoch 11 of 100, 39.80 s, with average training loss: 0.00510965, and validation loss: 0.04423961, validation accuracy: 98.95\n",
            "Epoch 12 starting at: 19:12:35\n"
          ],
          "name": "stdout"
        },
        {
          "output_type": "stream",
          "text": [
            "100%|██████████| 196/196 [00:34<00:00,  5.74it/s]\n",
            "100%|██████████| 40/40 [00:05<00:00,  7.49it/s]\n",
            "  1%|          | 1/196 [00:00<00:34,  5.67it/s]"
          ],
          "name": "stderr"
        },
        {
          "output_type": "stream",
          "text": [
            "\n",
            "Epoch 12 of 100, 39.50 s, with average training loss: 0.00457681, and validation loss: 0.04298263, validation accuracy: 98.81\n",
            "Epoch 13 starting at: 19:13:14\n"
          ],
          "name": "stdout"
        },
        {
          "output_type": "stream",
          "text": [
            "100%|██████████| 196/196 [00:34<00:00,  5.76it/s]\n",
            "100%|██████████| 40/40 [00:05<00:00,  7.63it/s]\n",
            "  1%|          | 1/196 [00:00<00:33,  5.76it/s]"
          ],
          "name": "stderr"
        },
        {
          "output_type": "stream",
          "text": [
            "\n",
            "Epoch 13 of 100, 39.28 s, with average training loss: 0.00456492, and validation loss: 0.04380381, validation accuracy: 98.77\n",
            "Epoch 14 starting at: 19:13:53\n"
          ],
          "name": "stdout"
        },
        {
          "output_type": "stream",
          "text": [
            "100%|██████████| 196/196 [00:33<00:00,  5.77it/s]\n",
            "100%|██████████| 40/40 [00:05<00:00,  7.78it/s]\n",
            "  1%|          | 1/196 [00:00<00:33,  5.84it/s]"
          ],
          "name": "stderr"
        },
        {
          "output_type": "stream",
          "text": [
            "\n",
            "Epoch 14 of 100, 39.10 s, with average training loss: 0.00633049, and validation loss: 0.04037173, validation accuracy: 98.91\n",
            "Epoch 15 starting at: 19:14:33\n"
          ],
          "name": "stdout"
        },
        {
          "output_type": "stream",
          "text": [
            "100%|██████████| 196/196 [00:33<00:00,  5.81it/s]\n",
            "100%|██████████| 40/40 [00:05<00:00,  7.66it/s]\n",
            "  1%|          | 1/196 [00:00<00:32,  6.05it/s]"
          ],
          "name": "stderr"
        },
        {
          "output_type": "stream",
          "text": [
            "\n",
            "Epoch 15 of 100, 38.95 s, with average training loss: 0.00392378, and validation loss: 0.04789009, validation accuracy: 98.94\n",
            "Epoch 16 starting at: 19:15:12\n"
          ],
          "name": "stdout"
        },
        {
          "output_type": "stream",
          "text": [
            "100%|██████████| 196/196 [00:33<00:00,  5.80it/s]\n",
            "100%|██████████| 40/40 [00:05<00:00,  7.72it/s]\n",
            "  1%|          | 1/196 [00:00<00:33,  5.77it/s]"
          ],
          "name": "stderr"
        },
        {
          "output_type": "stream",
          "text": [
            "\n",
            "Epoch 16 of 100, 38.97 s, with average training loss: 0.00362386, and validation loss: 0.03683618, validation accuracy: 98.88\n",
            "Epoch 17 starting at: 19:15:50\n"
          ],
          "name": "stdout"
        },
        {
          "output_type": "stream",
          "text": [
            "100%|██████████| 196/196 [00:33<00:00,  5.83it/s]\n",
            "100%|██████████| 40/40 [00:05<00:00,  7.75it/s]\n",
            "  1%|          | 1/196 [00:00<00:32,  5.91it/s]"
          ],
          "name": "stderr"
        },
        {
          "output_type": "stream",
          "text": [
            "\n",
            "Epoch 17 of 100, 38.78 s, with average training loss: 0.00193200, and validation loss: 0.04163812, validation accuracy: 99.07\n",
            "Epoch 18 starting at: 19:16:29\n"
          ],
          "name": "stdout"
        },
        {
          "output_type": "stream",
          "text": [
            "100%|██████████| 196/196 [00:32<00:00,  5.95it/s]\n",
            "100%|██████████| 40/40 [00:05<00:00,  7.67it/s]\n",
            "  1%|          | 1/196 [00:00<00:33,  5.80it/s]"
          ],
          "name": "stderr"
        },
        {
          "output_type": "stream",
          "text": [
            "\n",
            "Epoch 18 of 100, 38.15 s, with average training loss: 0.00136930, and validation loss: 0.04571517, validation accuracy: 98.92\n",
            "Epoch 19 starting at: 19:17:07\n"
          ],
          "name": "stdout"
        },
        {
          "output_type": "stream",
          "text": [
            "100%|██████████| 196/196 [00:33<00:00,  5.80it/s]\n",
            "100%|██████████| 40/40 [00:05<00:00,  7.60it/s]\n",
            "  1%|          | 1/196 [00:00<00:33,  5.74it/s]"
          ],
          "name": "stderr"
        },
        {
          "output_type": "stream",
          "text": [
            "\n",
            "Epoch 19 of 100, 39.04 s, with average training loss: 0.00121202, and validation loss: 0.03751196, validation accuracy: 99.05\n",
            "Epoch 20 starting at: 19:17:46\n"
          ],
          "name": "stdout"
        },
        {
          "output_type": "stream",
          "text": [
            "100%|██████████| 196/196 [00:33<00:00,  5.77it/s]\n",
            "100%|██████████| 40/40 [00:05<00:00,  7.44it/s]\n",
            "  1%|          | 1/196 [00:00<00:34,  5.67it/s]"
          ],
          "name": "stderr"
        },
        {
          "output_type": "stream",
          "text": [
            "\n",
            "Epoch 20 of 100, 39.36 s, with average training loss: 0.00062317, and validation loss: 0.03627515, validation accuracy: 99.12\n",
            "Epoch 21 starting at: 19:18:26\n"
          ],
          "name": "stdout"
        },
        {
          "output_type": "stream",
          "text": [
            "100%|██████████| 196/196 [00:33<00:00,  5.78it/s]\n",
            "100%|██████████| 40/40 [00:05<00:00,  7.73it/s]\n",
            "  1%|          | 1/196 [00:00<00:31,  6.10it/s]"
          ],
          "name": "stderr"
        },
        {
          "output_type": "stream",
          "text": [
            "\n",
            "Epoch 21 of 100, 39.11 s, with average training loss: 0.00062161, and validation loss: 0.03822381, validation accuracy: 99.05\n",
            "Epoch 22 starting at: 19:19:05\n"
          ],
          "name": "stdout"
        },
        {
          "output_type": "stream",
          "text": [
            "100%|██████████| 196/196 [00:33<00:00,  5.79it/s]\n",
            "100%|██████████| 40/40 [00:05<00:00,  7.77it/s]\n",
            "  1%|          | 1/196 [00:00<00:32,  5.92it/s]"
          ],
          "name": "stderr"
        },
        {
          "output_type": "stream",
          "text": [
            "\n",
            "Epoch 22 of 100, 38.98 s, with average training loss: 0.00019981, and validation loss: 0.03744344, validation accuracy: 99.07\n",
            "Epoch 23 starting at: 19:19:44\n"
          ],
          "name": "stdout"
        },
        {
          "output_type": "stream",
          "text": [
            "100%|██████████| 196/196 [00:33<00:00,  5.82it/s]\n",
            "100%|██████████| 40/40 [00:05<00:00,  7.77it/s]\n",
            "  1%|          | 1/196 [00:00<00:34,  5.68it/s]"
          ],
          "name": "stderr"
        },
        {
          "output_type": "stream",
          "text": [
            "\n",
            "Epoch 23 of 100, 38.81 s, with average training loss: 0.00015104, and validation loss: 0.03877065, validation accuracy: 99.16\n",
            "Epoch 24 starting at: 19:20:23\n"
          ],
          "name": "stdout"
        },
        {
          "output_type": "stream",
          "text": [
            "100%|██████████| 196/196 [00:33<00:00,  5.89it/s]\n",
            "100%|██████████| 40/40 [00:05<00:00,  7.59it/s]\n",
            "  1%|          | 1/196 [00:00<00:34,  5.65it/s]"
          ],
          "name": "stderr"
        },
        {
          "output_type": "stream",
          "text": [
            "\n",
            "Epoch 24 of 100, 38.57 s, with average training loss: 0.00014126, and validation loss: 0.03699655, validation accuracy: 99.16\n",
            "Epoch 25 starting at: 19:21:01\n"
          ],
          "name": "stdout"
        },
        {
          "output_type": "stream",
          "text": [
            "100%|██████████| 196/196 [00:34<00:00,  5.75it/s]\n",
            "100%|██████████| 40/40 [00:05<00:00,  7.50it/s]\n",
            "  1%|          | 1/196 [00:00<00:35,  5.47it/s]"
          ],
          "name": "stderr"
        },
        {
          "output_type": "stream",
          "text": [
            "\n",
            "Epoch 25 of 100, 39.41 s, with average training loss: 0.00012551, and validation loss: 0.03377175, validation accuracy: 99.20\n",
            "Epoch 26 starting at: 19:21:41\n"
          ],
          "name": "stdout"
        },
        {
          "output_type": "stream",
          "text": [
            "100%|██████████| 196/196 [00:33<00:00,  5.79it/s]\n",
            "100%|██████████| 40/40 [00:05<00:00,  7.42it/s]\n",
            "  1%|          | 1/196 [00:00<00:35,  5.50it/s]"
          ],
          "name": "stderr"
        },
        {
          "output_type": "stream",
          "text": [
            "\n",
            "Epoch 26 of 100, 39.26 s, with average training loss: 0.00010042, and validation loss: 0.03469315, validation accuracy: 99.24\n",
            "Epoch 27 starting at: 19:22:20\n"
          ],
          "name": "stdout"
        },
        {
          "output_type": "stream",
          "text": [
            "100%|██████████| 196/196 [00:34<00:00,  5.73it/s]\n",
            "100%|██████████| 40/40 [00:05<00:00,  7.49it/s]\n",
            "  1%|          | 1/196 [00:00<00:35,  5.51it/s]"
          ],
          "name": "stderr"
        },
        {
          "output_type": "stream",
          "text": [
            "\n",
            "Epoch 27 of 100, 39.54 s, with average training loss: 0.00009141, and validation loss: 0.03757000, validation accuracy: 99.13\n",
            "Epoch 28 starting at: 19:23:00\n"
          ],
          "name": "stdout"
        },
        {
          "output_type": "stream",
          "text": [
            "100%|██████████| 196/196 [00:34<00:00,  5.72it/s]\n",
            "100%|██████████| 40/40 [00:05<00:00,  7.48it/s]\n",
            "  1%|          | 1/196 [00:00<00:34,  5.70it/s]"
          ],
          "name": "stderr"
        },
        {
          "output_type": "stream",
          "text": [
            "\n",
            "Epoch 28 of 100, 39.65 s, with average training loss: 0.00008966, and validation loss: 0.03341531, validation accuracy: 99.16\n",
            "Epoch 29 starting at: 19:23:39\n"
          ],
          "name": "stdout"
        },
        {
          "output_type": "stream",
          "text": [
            "100%|██████████| 196/196 [00:34<00:00,  5.74it/s]\n",
            "100%|██████████| 40/40 [00:05<00:00,  7.56it/s]\n",
            "  1%|          | 1/196 [00:00<00:34,  5.70it/s]"
          ],
          "name": "stderr"
        },
        {
          "output_type": "stream",
          "text": [
            "\n",
            "Epoch 29 of 100, 39.45 s, with average training loss: 0.00009045, and validation loss: 0.03299599, validation accuracy: 99.12\n",
            "Epoch 30 starting at: 19:24:19\n"
          ],
          "name": "stdout"
        },
        {
          "output_type": "stream",
          "text": [
            "100%|██████████| 196/196 [00:33<00:00,  5.77it/s]\n",
            "100%|██████████| 40/40 [00:05<00:00,  7.59it/s]\n",
            "  1%|          | 1/196 [00:00<00:34,  5.73it/s]"
          ],
          "name": "stderr"
        },
        {
          "output_type": "stream",
          "text": [
            "\n",
            "Epoch 30 of 100, 39.26 s, with average training loss: 0.00008042, and validation loss: 0.03719987, validation accuracy: 99.15\n",
            "Epoch 31 starting at: 19:24:58\n"
          ],
          "name": "stdout"
        },
        {
          "output_type": "stream",
          "text": [
            "100%|██████████| 196/196 [00:33<00:00,  5.79it/s]\n",
            "100%|██████████| 40/40 [00:05<00:00,  7.78it/s]\n",
            "  1%|          | 1/196 [00:00<00:33,  5.82it/s]"
          ],
          "name": "stderr"
        },
        {
          "output_type": "stream",
          "text": [
            "\n",
            "Epoch 31 of 100, 39.02 s, with average training loss: 0.00007368, and validation loss: 0.03355096, validation accuracy: 99.22\n",
            "Epoch 32 starting at: 19:25:37\n"
          ],
          "name": "stdout"
        },
        {
          "output_type": "stream",
          "text": [
            "100%|██████████| 196/196 [00:33<00:00,  5.87it/s]\n",
            "100%|██████████| 40/40 [00:05<00:00,  7.65it/s]\n",
            "  1%|          | 1/196 [00:00<00:35,  5.56it/s]"
          ],
          "name": "stderr"
        },
        {
          "output_type": "stream",
          "text": [
            "Epoch    32: reducing learning rate of group 0 to 1.0000e-03.\n",
            "\n",
            "Epoch 32 of 100, 38.61 s, with average training loss: 0.00007201, and validation loss: 0.03382303, validation accuracy: 99.15\n",
            "Epoch 33 starting at: 19:26:15\n"
          ],
          "name": "stdout"
        },
        {
          "output_type": "stream",
          "text": [
            "100%|██████████| 196/196 [00:33<00:00,  5.91it/s]\n",
            "100%|██████████| 40/40 [00:05<00:00,  7.79it/s]\n",
            "  1%|          | 1/196 [00:00<00:33,  5.87it/s]"
          ],
          "name": "stderr"
        },
        {
          "output_type": "stream",
          "text": [
            "\n",
            "Epoch 33 of 100, 38.29 s, with average training loss: 0.00007016, and validation loss: 0.03577364, validation accuracy: 99.12\n",
            "Epoch 34 starting at: 19:26:54\n"
          ],
          "name": "stdout"
        },
        {
          "output_type": "stream",
          "text": [
            "100%|██████████| 196/196 [00:33<00:00,  5.84it/s]\n",
            "100%|██████████| 40/40 [00:05<00:00,  7.73it/s]\n",
            "  1%|          | 1/196 [00:00<00:32,  5.95it/s]"
          ],
          "name": "stderr"
        },
        {
          "output_type": "stream",
          "text": [
            "\n",
            "Epoch 34 of 100, 38.76 s, with average training loss: 0.00006752, and validation loss: 0.03573061, validation accuracy: 99.23\n",
            "Epoch 35 starting at: 19:27:33\n"
          ],
          "name": "stdout"
        },
        {
          "output_type": "stream",
          "text": [
            "100%|██████████| 196/196 [00:33<00:00,  5.85it/s]\n",
            "100%|██████████| 40/40 [00:05<00:00,  7.75it/s]\n",
            "  1%|          | 1/196 [00:00<00:35,  5.51it/s]"
          ],
          "name": "stderr"
        },
        {
          "output_type": "stream",
          "text": [
            "\n",
            "Epoch 35 of 100, 38.66 s, with average training loss: 0.00006591, and validation loss: 0.03547862, validation accuracy: 99.18\n",
            "Epoch 36 starting at: 19:28:11\n"
          ],
          "name": "stdout"
        },
        {
          "output_type": "stream",
          "text": [
            "100%|██████████| 196/196 [00:33<00:00,  5.82it/s]\n",
            "100%|██████████| 40/40 [00:05<00:00,  7.77it/s]\n",
            "  1%|          | 1/196 [00:00<00:34,  5.57it/s]"
          ],
          "name": "stderr"
        },
        {
          "output_type": "stream",
          "text": [
            "\n",
            "Epoch 36 of 100, 38.85 s, with average training loss: 0.00007456, and validation loss: 0.03683232, validation accuracy: 99.12\n",
            "Epoch 37 starting at: 19:28:50\n"
          ],
          "name": "stdout"
        },
        {
          "output_type": "stream",
          "text": [
            "100%|██████████| 196/196 [00:33<00:00,  5.85it/s]\n",
            "100%|██████████| 40/40 [00:05<00:00,  7.76it/s]\n",
            "  1%|          | 1/196 [00:00<00:32,  6.07it/s]"
          ],
          "name": "stderr"
        },
        {
          "output_type": "stream",
          "text": [
            "\n",
            "Epoch 37 of 100, 38.68 s, with average training loss: 0.00006685, and validation loss: 0.03456179, validation accuracy: 99.14\n",
            "Epoch 38 starting at: 19:29:29\n"
          ],
          "name": "stdout"
        },
        {
          "output_type": "stream",
          "text": [
            "100%|██████████| 196/196 [00:33<00:00,  5.93it/s]\n",
            "100%|██████████| 40/40 [00:05<00:00,  7.49it/s]\n",
            "  1%|          | 1/196 [00:00<00:35,  5.57it/s]"
          ],
          "name": "stderr"
        },
        {
          "output_type": "stream",
          "text": [
            "Epoch    38: reducing learning rate of group 0 to 1.0000e-04.\n",
            "\n",
            "Epoch 38 of 100, 38.42 s, with average training loss: 0.00006625, and validation loss: 0.03400044, validation accuracy: 99.14\n",
            "Epoch 39 starting at: 19:30:07\n"
          ],
          "name": "stdout"
        },
        {
          "output_type": "stream",
          "text": [
            "100%|██████████| 196/196 [00:33<00:00,  5.82it/s]\n",
            "100%|██████████| 40/40 [00:05<00:00,  7.71it/s]\n",
            "  1%|          | 1/196 [00:00<00:34,  5.70it/s]"
          ],
          "name": "stderr"
        },
        {
          "output_type": "stream",
          "text": [
            "\n",
            "Epoch 39 of 100, 38.86 s, with average training loss: 0.00006535, and validation loss: 0.03768265, validation accuracy: 99.19\n",
            "Epoch 40 starting at: 19:30:46\n"
          ],
          "name": "stdout"
        },
        {
          "output_type": "stream",
          "text": [
            "100%|██████████| 196/196 [00:33<00:00,  5.87it/s]\n",
            "100%|██████████| 40/40 [00:05<00:00,  7.79it/s]\n",
            "  1%|          | 1/196 [00:00<00:34,  5.70it/s]"
          ],
          "name": "stderr"
        },
        {
          "output_type": "stream",
          "text": [
            "\n",
            "Epoch 40 of 100, 38.51 s, with average training loss: 0.00006781, and validation loss: 0.03301411, validation accuracy: 99.18\n",
            "Epoch 41 starting at: 19:31:25\n"
          ],
          "name": "stdout"
        },
        {
          "output_type": "stream",
          "text": [
            "100%|██████████| 196/196 [00:33<00:00,  5.84it/s]\n",
            "100%|██████████| 40/40 [00:05<00:00,  7.70it/s]\n",
            "  1%|          | 1/196 [00:00<00:34,  5.68it/s]"
          ],
          "name": "stderr"
        },
        {
          "output_type": "stream",
          "text": [
            "\n",
            "Epoch 41 of 100, 38.78 s, with average training loss: 0.00006897, and validation loss: 0.03407272, validation accuracy: 99.20\n",
            "Epoch 42 starting at: 19:32:03\n"
          ],
          "name": "stdout"
        },
        {
          "output_type": "stream",
          "text": [
            "100%|██████████| 196/196 [00:33<00:00,  5.82it/s]\n",
            "100%|██████████| 40/40 [00:05<00:00,  7.73it/s]\n",
            "  1%|          | 1/196 [00:00<00:32,  5.97it/s]"
          ],
          "name": "stderr"
        },
        {
          "output_type": "stream",
          "text": [
            "\n",
            "Epoch 42 of 100, 38.85 s, with average training loss: 0.00006601, and validation loss: 0.03525830, validation accuracy: 99.08\n",
            "Epoch 43 starting at: 19:32:42\n"
          ],
          "name": "stdout"
        },
        {
          "output_type": "stream",
          "text": [
            "100%|██████████| 196/196 [00:34<00:00,  5.76it/s]\n",
            "100%|██████████| 40/40 [00:05<00:00,  7.62it/s]\n",
            "  1%|          | 1/196 [00:00<00:34,  5.71it/s]"
          ],
          "name": "stderr"
        },
        {
          "output_type": "stream",
          "text": [
            "\n",
            "Epoch 43 of 100, 39.28 s, with average training loss: 0.00007113, and validation loss: 0.03314753, validation accuracy: 99.22\n",
            "Epoch 44 starting at: 19:33:21\n"
          ],
          "name": "stdout"
        },
        {
          "output_type": "stream",
          "text": [
            "100%|██████████| 196/196 [00:34<00:00,  5.76it/s]\n",
            "100%|██████████| 40/40 [00:05<00:00,  7.60it/s]\n",
            "  1%|          | 1/196 [00:00<00:34,  5.62it/s]"
          ],
          "name": "stderr"
        },
        {
          "output_type": "stream",
          "text": [
            "Epoch    44: reducing learning rate of group 0 to 1.0000e-05.\n",
            "\n",
            "Epoch 44 of 100, 39.31 s, with average training loss: 0.00006587, and validation loss: 0.03351933, validation accuracy: 99.20\n",
            "Epoch 45 starting at: 19:34:01\n"
          ],
          "name": "stdout"
        },
        {
          "output_type": "stream",
          "text": [
            "100%|██████████| 196/196 [00:34<00:00,  5.74it/s]\n",
            "100%|██████████| 40/40 [00:05<00:00,  7.76it/s]\n",
            "  1%|          | 1/196 [00:00<00:33,  5.88it/s]"
          ],
          "name": "stderr"
        },
        {
          "output_type": "stream",
          "text": [
            "\n",
            "Epoch 45 of 100, 39.30 s, with average training loss: 0.00006398, and validation loss: 0.03447048, validation accuracy: 99.20\n",
            "Epoch 46 starting at: 19:34:40\n"
          ],
          "name": "stdout"
        },
        {
          "output_type": "stream",
          "text": [
            "100%|██████████| 196/196 [00:33<00:00,  5.83it/s]\n",
            "100%|██████████| 40/40 [00:05<00:00,  7.72it/s]\n",
            "  1%|          | 1/196 [00:00<00:33,  5.84it/s]"
          ],
          "name": "stderr"
        },
        {
          "output_type": "stream",
          "text": [
            "\n",
            "Epoch 46 of 100, 38.79 s, with average training loss: 0.00006867, and validation loss: 0.03727138, validation accuracy: 99.08\n",
            "Epoch 47 starting at: 19:35:19\n"
          ],
          "name": "stdout"
        },
        {
          "output_type": "stream",
          "text": [
            "100%|██████████| 196/196 [00:33<00:00,  5.80it/s]\n",
            "100%|██████████| 40/40 [00:05<00:00,  7.59it/s]\n",
            "  1%|          | 1/196 [00:00<00:33,  5.74it/s]"
          ],
          "name": "stderr"
        },
        {
          "output_type": "stream",
          "text": [
            "\n",
            "Epoch 47 of 100, 39.04 s, with average training loss: 0.00006371, and validation loss: 0.03659439, validation accuracy: 99.10\n",
            "Epoch 48 starting at: 19:35:58\n"
          ],
          "name": "stdout"
        },
        {
          "output_type": "stream",
          "text": [
            "100%|██████████| 196/196 [00:33<00:00,  5.80it/s]\n",
            "100%|██████████| 40/40 [00:05<00:00,  7.70it/s]\n",
            "  1%|          | 1/196 [00:00<00:35,  5.49it/s]"
          ],
          "name": "stderr"
        },
        {
          "output_type": "stream",
          "text": [
            "\n",
            "Epoch 48 of 100, 38.98 s, with average training loss: 0.00006553, and validation loss: 0.03401996, validation accuracy: 99.19\n",
            "Epoch 49 starting at: 19:36:37\n"
          ],
          "name": "stdout"
        },
        {
          "output_type": "stream",
          "text": [
            "100%|██████████| 196/196 [00:33<00:00,  5.84it/s]\n",
            "100%|██████████| 40/40 [00:05<00:00,  7.74it/s]\n",
            "  1%|          | 1/196 [00:00<00:33,  5.80it/s]"
          ],
          "name": "stderr"
        },
        {
          "output_type": "stream",
          "text": [
            "\n",
            "Epoch 49 of 100, 38.76 s, with average training loss: 0.00006740, and validation loss: 0.03278096, validation accuracy: 99.19\n",
            "Epoch 50 starting at: 19:37:16\n"
          ],
          "name": "stdout"
        },
        {
          "output_type": "stream",
          "text": [
            "100%|██████████| 196/196 [00:33<00:00,  5.82it/s]\n",
            "100%|██████████| 40/40 [00:05<00:00,  7.75it/s]\n",
            "  1%|          | 1/196 [00:00<00:34,  5.62it/s]"
          ],
          "name": "stderr"
        },
        {
          "output_type": "stream",
          "text": [
            "Epoch    50: reducing learning rate of group 0 to 1.0000e-06.\n",
            "\n",
            "Epoch 50 of 100, 38.81 s, with average training loss: 0.00006448, and validation loss: 0.03635358, validation accuracy: 99.15\n",
            "Epoch 51 starting at: 19:37:54\n"
          ],
          "name": "stdout"
        },
        {
          "output_type": "stream",
          "text": [
            "100%|██████████| 196/196 [00:33<00:00,  5.82it/s]\n",
            "100%|██████████| 40/40 [00:05<00:00,  7.69it/s]\n",
            "  1%|          | 1/196 [00:00<00:34,  5.69it/s]"
          ],
          "name": "stderr"
        },
        {
          "output_type": "stream",
          "text": [
            "\n",
            "Epoch 51 of 100, 38.91 s, with average training loss: 0.00006323, and validation loss: 0.03535256, validation accuracy: 99.11\n",
            "Epoch 52 starting at: 19:38:33\n"
          ],
          "name": "stdout"
        },
        {
          "output_type": "stream",
          "text": [
            "100%|██████████| 196/196 [00:33<00:00,  5.81it/s]\n",
            "100%|██████████| 40/40 [00:05<00:00,  7.57it/s]\n",
            "  1%|          | 1/196 [00:00<00:34,  5.63it/s]"
          ],
          "name": "stderr"
        },
        {
          "output_type": "stream",
          "text": [
            "\n",
            "Epoch 52 of 100, 39.02 s, with average training loss: 0.00006819, and validation loss: 0.03549975, validation accuracy: 99.16\n",
            "Epoch 53 starting at: 19:39:12\n"
          ],
          "name": "stdout"
        },
        {
          "output_type": "stream",
          "text": [
            "100%|██████████| 196/196 [00:33<00:00,  5.82it/s]\n",
            "100%|██████████| 40/40 [00:05<00:00,  7.65it/s]\n",
            "  1%|          | 1/196 [00:00<00:35,  5.50it/s]"
          ],
          "name": "stderr"
        },
        {
          "output_type": "stream",
          "text": [
            "\n",
            "Epoch 53 of 100, 38.93 s, with average training loss: 0.00006667, and validation loss: 0.03542681, validation accuracy: 99.19\n",
            "Epoch 54 starting at: 19:39:51\n"
          ],
          "name": "stdout"
        },
        {
          "output_type": "stream",
          "text": [
            "100%|██████████| 196/196 [00:33<00:00,  5.81it/s]\n",
            "100%|██████████| 40/40 [00:05<00:00,  7.60it/s]\n",
            "  1%|          | 1/196 [00:00<00:33,  5.76it/s]"
          ],
          "name": "stderr"
        },
        {
          "output_type": "stream",
          "text": [
            "\n",
            "Epoch 54 of 100, 38.99 s, with average training loss: 0.00006954, and validation loss: 0.03750517, validation accuracy: 99.10\n",
            "Epoch 55 starting at: 19:40:30\n"
          ],
          "name": "stdout"
        },
        {
          "output_type": "stream",
          "text": [
            "100%|██████████| 196/196 [00:33<00:00,  5.85it/s]\n",
            "100%|██████████| 40/40 [00:05<00:00,  7.86it/s]\n",
            "  1%|          | 1/196 [00:00<00:33,  5.84it/s]"
          ],
          "name": "stderr"
        },
        {
          "output_type": "stream",
          "text": [
            "\n",
            "Epoch 55 of 100, 38.62 s, with average training loss: 0.00006758, and validation loss: 0.03369013, validation accuracy: 99.12\n",
            "Epoch 56 starting at: 19:41:09\n"
          ],
          "name": "stdout"
        },
        {
          "output_type": "stream",
          "text": [
            "100%|██████████| 196/196 [00:33<00:00,  5.81it/s]\n",
            "100%|██████████| 40/40 [00:05<00:00,  7.70it/s]\n",
            "  1%|          | 1/196 [00:00<00:33,  5.86it/s]"
          ],
          "name": "stderr"
        },
        {
          "output_type": "stream",
          "text": [
            "Epoch    56: reducing learning rate of group 0 to 1.0000e-07.\n",
            "\n",
            "Epoch 56 of 100, 38.91 s, with average training loss: 0.00006469, and validation loss: 0.03673270, validation accuracy: 99.13\n",
            "Epoch 57 starting at: 19:41:48\n"
          ],
          "name": "stdout"
        },
        {
          "output_type": "stream",
          "text": [
            "100%|██████████| 196/196 [00:33<00:00,  5.83it/s]\n",
            "100%|██████████| 40/40 [00:05<00:00,  7.63it/s]\n",
            "  1%|          | 1/196 [00:00<00:33,  5.81it/s]"
          ],
          "name": "stderr"
        },
        {
          "output_type": "stream",
          "text": [
            "\n",
            "Epoch 57 of 100, 38.87 s, with average training loss: 0.00006658, and validation loss: 0.03591231, validation accuracy: 99.15\n",
            "Epoch 58 starting at: 19:42:27\n"
          ],
          "name": "stdout"
        },
        {
          "output_type": "stream",
          "text": [
            "100%|██████████| 196/196 [00:33<00:00,  5.80it/s]\n",
            "100%|██████████| 40/40 [00:05<00:00,  7.60it/s]\n",
            "  1%|          | 1/196 [00:00<00:34,  5.64it/s]"
          ],
          "name": "stderr"
        },
        {
          "output_type": "stream",
          "text": [
            "\n",
            "Epoch 58 of 100, 39.08 s, with average training loss: 0.00006502, and validation loss: 0.03647833, validation accuracy: 99.15\n",
            "Epoch 59 starting at: 19:43:06\n"
          ],
          "name": "stdout"
        },
        {
          "output_type": "stream",
          "text": [
            "100%|██████████| 196/196 [00:34<00:00,  5.76it/s]\n",
            "100%|██████████| 40/40 [00:05<00:00,  7.51it/s]\n",
            "  1%|          | 1/196 [00:00<00:34,  5.62it/s]"
          ],
          "name": "stderr"
        },
        {
          "output_type": "stream",
          "text": [
            "\n",
            "Epoch 59 of 100, 39.34 s, with average training loss: 0.00007087, and validation loss: 0.03549562, validation accuracy: 99.17\n",
            "Epoch 60 starting at: 19:43:45\n"
          ],
          "name": "stdout"
        },
        {
          "output_type": "stream",
          "text": [
            "100%|██████████| 196/196 [00:34<00:00,  5.76it/s]\n",
            "100%|██████████| 40/40 [00:05<00:00,  7.55it/s]\n",
            "  1%|          | 1/196 [00:00<00:36,  5.37it/s]"
          ],
          "name": "stderr"
        },
        {
          "output_type": "stream",
          "text": [
            "\n",
            "Epoch 60 of 100, 39.32 s, with average training loss: 0.00006941, and validation loss: 0.03430513, validation accuracy: 99.16\n",
            "Epoch 61 starting at: 19:44:24\n"
          ],
          "name": "stdout"
        },
        {
          "output_type": "stream",
          "text": [
            "100%|██████████| 196/196 [00:33<00:00,  5.83it/s]\n",
            "100%|██████████| 40/40 [00:05<00:00,  7.66it/s]\n",
            "  1%|          | 1/196 [00:00<00:34,  5.65it/s]"
          ],
          "name": "stderr"
        },
        {
          "output_type": "stream",
          "text": [
            "\n",
            "Epoch 61 of 100, 38.85 s, with average training loss: 0.00006561, and validation loss: 0.03587832, validation accuracy: 99.14\n",
            "Epoch 62 starting at: 19:45:03\n"
          ],
          "name": "stdout"
        },
        {
          "output_type": "stream",
          "text": [
            "100%|██████████| 196/196 [00:33<00:00,  5.84it/s]\n",
            "100%|██████████| 40/40 [00:05<00:00,  7.81it/s]\n",
            "  1%|          | 1/196 [00:00<00:33,  5.80it/s]"
          ],
          "name": "stderr"
        },
        {
          "output_type": "stream",
          "text": [
            "Epoch    62: reducing learning rate of group 0 to 1.0000e-08.\n",
            "\n",
            "Epoch 62 of 100, 38.69 s, with average training loss: 0.00006658, and validation loss: 0.03378434, validation accuracy: 99.17\n",
            "Epoch 63 starting at: 19:45:42\n"
          ],
          "name": "stdout"
        },
        {
          "output_type": "stream",
          "text": [
            "100%|██████████| 196/196 [00:33<00:00,  5.85it/s]\n",
            "100%|██████████| 40/40 [00:05<00:00,  7.86it/s]\n",
            "  1%|          | 1/196 [00:00<00:34,  5.72it/s]"
          ],
          "name": "stderr"
        },
        {
          "output_type": "stream",
          "text": [
            "\n",
            "Epoch 63 of 100, 38.58 s, with average training loss: 0.00006768, and validation loss: 0.03597483, validation accuracy: 99.16\n",
            "Epoch 64 starting at: 19:46:21\n"
          ],
          "name": "stdout"
        },
        {
          "output_type": "stream",
          "text": [
            "100%|██████████| 196/196 [00:33<00:00,  5.85it/s]\n",
            "100%|██████████| 40/40 [00:05<00:00,  7.69it/s]\n",
            "  1%|          | 1/196 [00:00<00:34,  5.64it/s]"
          ],
          "name": "stderr"
        },
        {
          "output_type": "stream",
          "text": [
            "\n",
            "Epoch 64 of 100, 38.70 s, with average training loss: 0.00006908, and validation loss: 0.03433570, validation accuracy: 99.17\n",
            "Epoch 65 starting at: 19:46:59\n"
          ],
          "name": "stdout"
        },
        {
          "output_type": "stream",
          "text": [
            "100%|██████████| 196/196 [00:33<00:00,  5.86it/s]\n",
            "100%|██████████| 40/40 [00:05<00:00,  7.71it/s]\n",
            "  1%|          | 1/196 [00:00<00:34,  5.68it/s]"
          ],
          "name": "stderr"
        },
        {
          "output_type": "stream",
          "text": [
            "\n",
            "Epoch 65 of 100, 38.66 s, with average training loss: 0.00006575, and validation loss: 0.03578506, validation accuracy: 99.18\n",
            "Epoch 66 starting at: 19:47:38\n"
          ],
          "name": "stdout"
        },
        {
          "output_type": "stream",
          "text": [
            "100%|██████████| 196/196 [00:33<00:00,  5.86it/s]\n",
            "100%|██████████| 40/40 [00:05<00:00,  7.73it/s]\n",
            "  1%|          | 1/196 [00:00<00:32,  5.96it/s]"
          ],
          "name": "stderr"
        },
        {
          "output_type": "stream",
          "text": [
            "\n",
            "Epoch 66 of 100, 38.62 s, with average training loss: 0.00006377, and validation loss: 0.03598449, validation accuracy: 99.14\n",
            "Epoch 67 starting at: 19:48:17\n"
          ],
          "name": "stdout"
        },
        {
          "output_type": "stream",
          "text": [
            "100%|██████████| 196/196 [00:33<00:00,  5.83it/s]\n",
            "100%|██████████| 40/40 [00:05<00:00,  7.78it/s]\n",
            "  1%|          | 1/196 [00:00<00:33,  5.76it/s]"
          ],
          "name": "stderr"
        },
        {
          "output_type": "stream",
          "text": [
            "\n",
            "Epoch 67 of 100, 38.78 s, with average training loss: 0.00006829, and validation loss: 0.03474421, validation accuracy: 99.11\n",
            "Epoch 68 starting at: 19:48:55\n"
          ],
          "name": "stdout"
        },
        {
          "output_type": "stream",
          "text": [
            "100%|██████████| 196/196 [00:33<00:00,  5.83it/s]\n",
            "100%|██████████| 40/40 [00:05<00:00,  7.89it/s]\n",
            "  1%|          | 1/196 [00:00<00:33,  5.78it/s]"
          ],
          "name": "stderr"
        },
        {
          "output_type": "stream",
          "text": [
            "\n",
            "Epoch 68 of 100, 38.70 s, with average training loss: 0.00006854, and validation loss: 0.03588021, validation accuracy: 99.14\n",
            "Epoch 69 starting at: 19:49:34\n"
          ],
          "name": "stdout"
        },
        {
          "output_type": "stream",
          "text": [
            "100%|██████████| 196/196 [00:33<00:00,  5.83it/s]\n",
            "100%|██████████| 40/40 [00:05<00:00,  7.74it/s]\n",
            "  1%|          | 1/196 [00:00<00:36,  5.33it/s]"
          ],
          "name": "stderr"
        },
        {
          "output_type": "stream",
          "text": [
            "\n",
            "Epoch 69 of 100, 38.81 s, with average training loss: 0.00007046, and validation loss: 0.03265522, validation accuracy: 99.23\n",
            "Epoch 70 starting at: 19:50:13\n"
          ],
          "name": "stdout"
        },
        {
          "output_type": "stream",
          "text": [
            "100%|██████████| 196/196 [00:33<00:00,  5.85it/s]\n",
            "100%|██████████| 40/40 [00:05<00:00,  7.66it/s]\n",
            "  1%|          | 1/196 [00:00<00:34,  5.65it/s]"
          ],
          "name": "stderr"
        },
        {
          "output_type": "stream",
          "text": [
            "\n",
            "Epoch 70 of 100, 38.73 s, with average training loss: 0.00006743, and validation loss: 0.03364658, validation accuracy: 99.17\n",
            "Epoch 71 starting at: 19:50:52\n"
          ],
          "name": "stdout"
        },
        {
          "output_type": "stream",
          "text": [
            "100%|██████████| 196/196 [00:33<00:00,  5.86it/s]\n",
            "100%|██████████| 40/40 [00:05<00:00,  7.43it/s]\n",
            "  1%|          | 1/196 [00:00<00:34,  5.62it/s]"
          ],
          "name": "stderr"
        },
        {
          "output_type": "stream",
          "text": [
            "\n",
            "Epoch 71 of 100, 38.81 s, with average training loss: 0.00006733, and validation loss: 0.04898931, validation accuracy: 99.17\n",
            "Epoch 72 starting at: 19:51:30\n"
          ],
          "name": "stdout"
        },
        {
          "output_type": "stream",
          "text": [
            "100%|██████████| 196/196 [00:33<00:00,  5.85it/s]\n",
            "100%|██████████| 40/40 [00:05<00:00,  7.81it/s]\n",
            "  1%|          | 1/196 [00:00<00:34,  5.69it/s]"
          ],
          "name": "stderr"
        },
        {
          "output_type": "stream",
          "text": [
            "\n",
            "Epoch 72 of 100, 38.61 s, with average training loss: 0.00007073, and validation loss: 0.03595672, validation accuracy: 99.11\n",
            "Epoch 73 starting at: 19:52:09\n"
          ],
          "name": "stdout"
        },
        {
          "output_type": "stream",
          "text": [
            "100%|██████████| 196/196 [00:33<00:00,  5.85it/s]\n",
            "100%|██████████| 40/40 [00:05<00:00,  7.88it/s]\n",
            "  1%|          | 1/196 [00:00<00:35,  5.56it/s]"
          ],
          "name": "stderr"
        },
        {
          "output_type": "stream",
          "text": [
            "\n",
            "Epoch 73 of 100, 38.56 s, with average training loss: 0.00006452, and validation loss: 0.04104928, validation accuracy: 99.14\n",
            "Epoch 74 starting at: 19:52:48\n"
          ],
          "name": "stdout"
        },
        {
          "output_type": "stream",
          "text": [
            "100%|██████████| 196/196 [00:33<00:00,  5.82it/s]\n",
            "100%|██████████| 40/40 [00:05<00:00,  7.65it/s]\n",
            "  1%|          | 1/196 [00:00<00:34,  5.65it/s]"
          ],
          "name": "stderr"
        },
        {
          "output_type": "stream",
          "text": [
            "\n",
            "Epoch 74 of 100, 38.91 s, with average training loss: 0.00006730, and validation loss: 0.03502736, validation accuracy: 99.15\n",
            "Epoch 75 starting at: 19:53:26\n"
          ],
          "name": "stdout"
        },
        {
          "output_type": "stream",
          "text": [
            "100%|██████████| 196/196 [00:33<00:00,  5.80it/s]\n",
            "100%|██████████| 40/40 [00:05<00:00,  7.71it/s]\n",
            "  1%|          | 1/196 [00:00<00:33,  5.84it/s]"
          ],
          "name": "stderr"
        },
        {
          "output_type": "stream",
          "text": [
            "\n",
            "Epoch 75 of 100, 39.00 s, with average training loss: 0.00006797, and validation loss: 0.03781527, validation accuracy: 99.09\n",
            "Epoch 76 starting at: 19:54:05\n"
          ],
          "name": "stdout"
        },
        {
          "output_type": "stream",
          "text": [
            "100%|██████████| 196/196 [00:33<00:00,  5.89it/s]\n",
            "100%|██████████| 40/40 [00:05<00:00,  7.79it/s]\n",
            "  1%|          | 1/196 [00:00<00:34,  5.69it/s]"
          ],
          "name": "stderr"
        },
        {
          "output_type": "stream",
          "text": [
            "\n",
            "Epoch 76 of 100, 38.44 s, with average training loss: 0.00006866, and validation loss: 0.03503768, validation accuracy: 99.09\n",
            "Epoch 77 starting at: 19:54:44\n"
          ],
          "name": "stdout"
        },
        {
          "output_type": "stream",
          "text": [
            "100%|██████████| 196/196 [00:32<00:00,  5.99it/s]\n",
            "100%|██████████| 40/40 [00:05<00:00,  7.88it/s]\n",
            "  1%|          | 1/196 [00:00<00:33,  5.80it/s]"
          ],
          "name": "stderr"
        },
        {
          "output_type": "stream",
          "text": [
            "\n",
            "Epoch 77 of 100, 37.80 s, with average training loss: 0.00006799, and validation loss: 0.03488813, validation accuracy: 99.15\n",
            "Epoch 78 starting at: 19:55:22\n"
          ],
          "name": "stdout"
        },
        {
          "output_type": "stream",
          "text": [
            "100%|██████████| 196/196 [00:32<00:00,  6.05it/s]\n",
            "100%|██████████| 40/40 [00:05<00:00,  7.81it/s]\n",
            "  1%|          | 1/196 [00:00<00:35,  5.45it/s]"
          ],
          "name": "stderr"
        },
        {
          "output_type": "stream",
          "text": [
            "\n",
            "Epoch 78 of 100, 37.55 s, with average training loss: 0.00006871, and validation loss: 0.03411125, validation accuracy: 99.14\n",
            "Epoch 79 starting at: 19:55:59\n"
          ],
          "name": "stdout"
        },
        {
          "output_type": "stream",
          "text": [
            "100%|██████████| 196/196 [00:32<00:00,  6.04it/s]\n",
            "100%|██████████| 40/40 [00:05<00:00,  7.87it/s]\n",
            "  1%|          | 1/196 [00:00<00:32,  5.91it/s]"
          ],
          "name": "stderr"
        },
        {
          "output_type": "stream",
          "text": [
            "\n",
            "Epoch 79 of 100, 37.56 s, with average training loss: 0.00006937, and validation loss: 0.03630231, validation accuracy: 99.11\n",
            "Epoch 80 starting at: 19:56:37\n"
          ],
          "name": "stdout"
        },
        {
          "output_type": "stream",
          "text": [
            "100%|██████████| 196/196 [00:33<00:00,  5.87it/s]\n",
            "100%|██████████| 40/40 [00:05<00:00,  7.71it/s]\n",
            "  1%|          | 1/196 [00:00<00:33,  5.84it/s]"
          ],
          "name": "stderr"
        },
        {
          "output_type": "stream",
          "text": [
            "\n",
            "Epoch 80 of 100, 38.61 s, with average training loss: 0.00006571, and validation loss: 0.04036558, validation accuracy: 99.13\n",
            "Epoch 81 starting at: 19:57:15\n"
          ],
          "name": "stdout"
        },
        {
          "output_type": "stream",
          "text": [
            "100%|██████████| 196/196 [00:33<00:00,  5.80it/s]\n",
            "100%|██████████| 40/40 [00:05<00:00,  7.83it/s]\n",
            "  1%|          | 1/196 [00:00<00:35,  5.56it/s]"
          ],
          "name": "stderr"
        },
        {
          "output_type": "stream",
          "text": [
            "\n",
            "Epoch 81 of 100, 38.92 s, with average training loss: 0.00006701, and validation loss: 0.03541566, validation accuracy: 99.13\n",
            "Epoch 82 starting at: 19:57:54\n"
          ],
          "name": "stdout"
        },
        {
          "output_type": "stream",
          "text": [
            "100%|██████████| 196/196 [00:33<00:00,  5.84it/s]\n",
            "100%|██████████| 40/40 [00:05<00:00,  7.76it/s]\n",
            "  1%|          | 1/196 [00:00<00:32,  6.04it/s]"
          ],
          "name": "stderr"
        },
        {
          "output_type": "stream",
          "text": [
            "\n",
            "Epoch 82 of 100, 38.75 s, with average training loss: 0.00006971, and validation loss: 0.03440550, validation accuracy: 99.13\n",
            "Epoch 83 starting at: 19:58:33\n"
          ],
          "name": "stdout"
        },
        {
          "output_type": "stream",
          "text": [
            "100%|██████████| 196/196 [00:33<00:00,  5.87it/s]\n",
            "100%|██████████| 40/40 [00:05<00:00,  7.65it/s]\n",
            "  1%|          | 1/196 [00:00<00:33,  5.77it/s]"
          ],
          "name": "stderr"
        },
        {
          "output_type": "stream",
          "text": [
            "\n",
            "Epoch 83 of 100, 38.61 s, with average training loss: 0.00006491, and validation loss: 0.03457161, validation accuracy: 99.16\n",
            "Epoch 84 starting at: 19:59:12\n"
          ],
          "name": "stdout"
        },
        {
          "output_type": "stream",
          "text": [
            "100%|██████████| 196/196 [00:33<00:00,  5.80it/s]\n",
            "100%|██████████| 40/40 [00:05<00:00,  7.73it/s]\n",
            "  1%|          | 1/196 [00:00<00:35,  5.44it/s]"
          ],
          "name": "stderr"
        },
        {
          "output_type": "stream",
          "text": [
            "\n",
            "Epoch 84 of 100, 38.95 s, with average training loss: 0.00006845, and validation loss: 0.03592161, validation accuracy: 99.13\n",
            "Epoch 85 starting at: 19:59:51\n"
          ],
          "name": "stdout"
        },
        {
          "output_type": "stream",
          "text": [
            "100%|██████████| 196/196 [00:34<00:00,  5.64it/s]\n",
            "100%|██████████| 40/40 [00:05<00:00,  7.57it/s]\n",
            "  1%|          | 1/196 [00:00<00:33,  5.79it/s]"
          ],
          "name": "stderr"
        },
        {
          "output_type": "stream",
          "text": [
            "\n",
            "Epoch 85 of 100, 40.02 s, with average training loss: 0.00006577, and validation loss: 0.03682491, validation accuracy: 99.15\n",
            "Epoch 86 starting at: 20:00:31\n"
          ],
          "name": "stdout"
        },
        {
          "output_type": "stream",
          "text": [
            "100%|██████████| 196/196 [00:33<00:00,  5.84it/s]\n",
            "100%|██████████| 40/40 [00:05<00:00,  7.71it/s]\n",
            "  1%|          | 1/196 [00:00<00:35,  5.51it/s]"
          ],
          "name": "stderr"
        },
        {
          "output_type": "stream",
          "text": [
            "\n",
            "Epoch 86 of 100, 38.77 s, with average training loss: 0.00006617, and validation loss: 0.03535919, validation accuracy: 99.09\n",
            "Epoch 87 starting at: 20:01:09\n"
          ],
          "name": "stdout"
        },
        {
          "output_type": "stream",
          "text": [
            "100%|██████████| 196/196 [00:34<00:00,  5.75it/s]\n",
            "100%|██████████| 40/40 [00:05<00:00,  7.55it/s]\n",
            "  1%|          | 1/196 [00:00<00:32,  5.91it/s]"
          ],
          "name": "stderr"
        },
        {
          "output_type": "stream",
          "text": [
            "\n",
            "Epoch 87 of 100, 39.40 s, with average training loss: 0.00007203, and validation loss: 0.03203000, validation accuracy: 99.19\n",
            "Epoch 88 starting at: 20:01:49\n"
          ],
          "name": "stdout"
        },
        {
          "output_type": "stream",
          "text": [
            "100%|██████████| 196/196 [00:33<00:00,  5.84it/s]\n",
            "100%|██████████| 40/40 [00:05<00:00,  7.59it/s]\n",
            "  1%|          | 1/196 [00:00<00:34,  5.59it/s]"
          ],
          "name": "stderr"
        },
        {
          "output_type": "stream",
          "text": [
            "\n",
            "Epoch 88 of 100, 38.81 s, with average training loss: 0.00006774, and validation loss: 0.03521739, validation accuracy: 99.19\n",
            "Epoch 89 starting at: 20:02:28\n"
          ],
          "name": "stdout"
        },
        {
          "output_type": "stream",
          "text": [
            "100%|██████████| 196/196 [00:33<00:00,  5.82it/s]\n",
            "100%|██████████| 40/40 [00:05<00:00,  7.78it/s]\n",
            "  1%|          | 1/196 [00:00<00:32,  5.95it/s]"
          ],
          "name": "stderr"
        },
        {
          "output_type": "stream",
          "text": [
            "\n",
            "Epoch 89 of 100, 38.85 s, with average training loss: 0.00006656, and validation loss: 0.03526029, validation accuracy: 99.19\n",
            "Epoch 90 starting at: 20:03:06\n"
          ],
          "name": "stdout"
        },
        {
          "output_type": "stream",
          "text": [
            "100%|██████████| 196/196 [00:33<00:00,  5.85it/s]\n",
            "100%|██████████| 40/40 [00:05<00:00,  7.78it/s]\n",
            "  1%|          | 1/196 [00:00<00:33,  5.79it/s]"
          ],
          "name": "stderr"
        },
        {
          "output_type": "stream",
          "text": [
            "\n",
            "Epoch 90 of 100, 38.63 s, with average training loss: 0.00006677, and validation loss: 0.03534321, validation accuracy: 99.16\n",
            "Epoch 91 starting at: 20:03:45\n"
          ],
          "name": "stdout"
        },
        {
          "output_type": "stream",
          "text": [
            "100%|██████████| 196/196 [00:33<00:00,  5.85it/s]\n",
            "100%|██████████| 40/40 [00:05<00:00,  7.73it/s]\n",
            "  1%|          | 1/196 [00:00<00:34,  5.57it/s]"
          ],
          "name": "stderr"
        },
        {
          "output_type": "stream",
          "text": [
            "\n",
            "Epoch 91 of 100, 38.67 s, with average training loss: 0.00006709, and validation loss: 0.03608498, validation accuracy: 99.09\n",
            "Epoch 92 starting at: 20:04:24\n"
          ],
          "name": "stdout"
        },
        {
          "output_type": "stream",
          "text": [
            "100%|██████████| 196/196 [00:33<00:00,  5.88it/s]\n",
            "100%|██████████| 40/40 [00:05<00:00,  7.86it/s]\n",
            "  1%|          | 1/196 [00:00<00:35,  5.54it/s]"
          ],
          "name": "stderr"
        },
        {
          "output_type": "stream",
          "text": [
            "\n",
            "Epoch 92 of 100, 38.44 s, with average training loss: 0.00006999, and validation loss: 0.03645376, validation accuracy: 99.17\n",
            "Epoch 93 starting at: 20:05:02\n"
          ],
          "name": "stdout"
        },
        {
          "output_type": "stream",
          "text": [
            "100%|██████████| 196/196 [00:33<00:00,  5.87it/s]\n",
            "100%|██████████| 40/40 [00:05<00:00,  7.53it/s]\n",
            "  1%|          | 1/196 [00:00<00:35,  5.53it/s]"
          ],
          "name": "stderr"
        },
        {
          "output_type": "stream",
          "text": [
            "\n",
            "Epoch 93 of 100, 38.70 s, with average training loss: 0.00006665, and validation loss: 0.03554467, validation accuracy: 99.14\n",
            "Epoch 94 starting at: 20:05:41\n"
          ],
          "name": "stdout"
        },
        {
          "output_type": "stream",
          "text": [
            "100%|██████████| 196/196 [00:33<00:00,  5.91it/s]\n",
            "100%|██████████| 40/40 [00:05<00:00,  7.79it/s]\n",
            "  1%|          | 1/196 [00:00<00:33,  5.81it/s]"
          ],
          "name": "stderr"
        },
        {
          "output_type": "stream",
          "text": [
            "\n",
            "Epoch 94 of 100, 38.30 s, with average training loss: 0.00006686, and validation loss: 0.03493501, validation accuracy: 99.16\n",
            "Epoch 95 starting at: 20:06:19\n"
          ],
          "name": "stdout"
        },
        {
          "output_type": "stream",
          "text": [
            "100%|██████████| 196/196 [00:33<00:00,  5.88it/s]\n",
            "100%|██████████| 40/40 [00:05<00:00,  7.84it/s]\n",
            "  1%|          | 1/196 [00:00<00:33,  5.90it/s]"
          ],
          "name": "stderr"
        },
        {
          "output_type": "stream",
          "text": [
            "\n",
            "Epoch 95 of 100, 38.44 s, with average training loss: 0.00006947, and validation loss: 0.03460469, validation accuracy: 99.10\n",
            "Epoch 96 starting at: 20:06:58\n"
          ],
          "name": "stdout"
        },
        {
          "output_type": "stream",
          "text": [
            "100%|██████████| 196/196 [00:33<00:00,  5.89it/s]\n",
            "100%|██████████| 40/40 [00:05<00:00,  7.83it/s]\n",
            "  1%|          | 1/196 [00:00<00:32,  5.91it/s]"
          ],
          "name": "stderr"
        },
        {
          "output_type": "stream",
          "text": [
            "\n",
            "Epoch 96 of 100, 38.36 s, with average training loss: 0.00006497, and validation loss: 0.03559533, validation accuracy: 99.12\n",
            "Epoch 97 starting at: 20:07:36\n"
          ],
          "name": "stdout"
        },
        {
          "output_type": "stream",
          "text": [
            "100%|██████████| 196/196 [00:33<00:00,  5.91it/s]\n",
            "100%|██████████| 40/40 [00:05<00:00,  7.87it/s]\n",
            "  1%|          | 1/196 [00:00<00:33,  5.80it/s]"
          ],
          "name": "stderr"
        },
        {
          "output_type": "stream",
          "text": [
            "\n",
            "Epoch 97 of 100, 38.24 s, with average training loss: 0.00006884, and validation loss: 0.03659594, validation accuracy: 99.11\n",
            "Epoch 98 starting at: 20:08:14\n"
          ],
          "name": "stdout"
        },
        {
          "output_type": "stream",
          "text": [
            "100%|██████████| 196/196 [00:33<00:00,  5.86it/s]\n",
            "100%|██████████| 40/40 [00:05<00:00,  7.89it/s]\n",
            "  1%|          | 1/196 [00:00<00:32,  5.92it/s]"
          ],
          "name": "stderr"
        },
        {
          "output_type": "stream",
          "text": [
            "\n",
            "Epoch 98 of 100, 38.53 s, with average training loss: 0.00006660, and validation loss: 0.03566293, validation accuracy: 99.16\n",
            "Epoch 99 starting at: 20:08:53\n"
          ],
          "name": "stdout"
        },
        {
          "output_type": "stream",
          "text": [
            "100%|██████████| 196/196 [00:33<00:00,  5.92it/s]\n",
            "100%|██████████| 40/40 [00:05<00:00,  7.72it/s]\n",
            "  1%|          | 1/196 [00:00<00:33,  5.85it/s]"
          ],
          "name": "stderr"
        },
        {
          "output_type": "stream",
          "text": [
            "\n",
            "Epoch 99 of 100, 38.30 s, with average training loss: 0.00006773, and validation loss: 0.03537069, validation accuracy: 99.16\n",
            "Epoch 100 starting at: 20:09:31\n"
          ],
          "name": "stdout"
        },
        {
          "output_type": "stream",
          "text": [
            "100%|██████████| 196/196 [00:33<00:00,  5.92it/s]\n",
            "100%|██████████| 40/40 [00:05<00:00,  7.58it/s]\n"
          ],
          "name": "stderr"
        },
        {
          "output_type": "stream",
          "text": [
            "\n",
            "Epoch 100 of 100, 38.37 s, with average training loss: 0.00006622, and validation loss: 0.03735775, validation accuracy: 99.15\n",
            "Finished Training  11/05/2021 20:10:09\n",
            "Avg per epoch ptime: 38.87, total 100 epochs ptime: 3887.47\n"
          ],
          "name": "stdout"
        }
      ]
    },
    {
      "cell_type": "markdown",
      "metadata": {
        "id": "cojXXT6OCmSO"
      },
      "source": [
        "### GoogLeNet Training"
      ]
    },
    {
      "cell_type": "code",
      "metadata": {
        "colab": {
          "base_uri": "https://localhost:8080/"
        },
        "id": "HmGVlSF2hny9",
        "outputId": "1e6e1ea8-3a68-46c9-97a0-3fb81c93a0c6"
      },
      "source": [
        "# Load and train GoogLeNet\n",
        "net, optimizer, scheduler = LoadGLNet(device)\n",
        "TrainGLNet(net, optimizer, scheduler, criterion, epochs, train_loader)\n",
        "torch.save(net.state_dict(), model_dir + '/GoogLeNet_MNIST_model.pth')\n",
        "del net\n",
        "del optimizer\n",
        "del scheduler"
      ],
      "execution_count": 11,
      "outputs": [
        {
          "output_type": "stream",
          "text": [
            "Using cache found in /root/.cache/torch/hub/pytorch_vision_v0.9.0\n",
            "/usr/local/lib/python3.7/dist-packages/torchvision/models/googlenet.py:79: FutureWarning: The default weight initialization of GoogleNet will be changed in future releases of torchvision. If you wish to keep the old behavior (which leads to long initialization times due to scipy/scipy#11299), please set init_weights=True.\n",
            "  ' due to scipy/scipy#11299), please set init_weights=True.', FutureWarning)\n",
            "  1%|          | 1/196 [00:00<00:30,  6.40it/s]"
          ],
          "name": "stderr"
        },
        {
          "output_type": "stream",
          "text": [
            "Adjusting learning rate of group 0 to 1.0000e-02.\n",
            "\n",
            "Training GoogLeNet\n",
            "Training starting  11/05/2021 20:11:56\n",
            "Epoch 1 starting at: 20:11:56\n"
          ],
          "name": "stdout"
        },
        {
          "output_type": "stream",
          "text": [
            "100%|██████████| 196/196 [00:30<00:00,  6.47it/s]\n",
            "100%|██████████| 40/40 [00:04<00:00,  8.20it/s]\n",
            "/usr/local/lib/python3.7/dist-packages/numpy/core/fromnumeric.py:3373: RuntimeWarning: Mean of empty slice.\n",
            "  out=out, **kwargs)\n",
            "/usr/local/lib/python3.7/dist-packages/numpy/core/_methods.py:170: RuntimeWarning: invalid value encountered in double_scalars\n",
            "  ret = ret.dtype.type(ret / rcount)\n",
            "  1%|          | 1/196 [00:00<00:31,  6.28it/s]"
          ],
          "name": "stderr"
        },
        {
          "output_type": "stream",
          "text": [
            "Adjusting learning rate of group 0 to 1.0000e-02.\n",
            "\n",
            "Epoch 1 of 100, 35.20 s, with average training loss: 0.52051299, and validation loss: nan, validation accuracy: 91.57\n",
            "Epoch 2 starting at: 20:12:31\n"
          ],
          "name": "stdout"
        },
        {
          "output_type": "stream",
          "text": [
            "100%|██████████| 196/196 [00:30<00:00,  6.51it/s]\n",
            "100%|██████████| 40/40 [00:04<00:00,  8.39it/s]\n",
            "  1%|          | 1/196 [00:00<00:29,  6.60it/s]"
          ],
          "name": "stderr"
        },
        {
          "output_type": "stream",
          "text": [
            "Adjusting learning rate of group 0 to 1.0000e-02.\n",
            "\n",
            "Epoch 2 of 100, 34.90 s, with average training loss: 0.08146581, and validation loss: nan, validation accuracy: 96.93\n",
            "Epoch 3 starting at: 20:13:06\n"
          ],
          "name": "stdout"
        },
        {
          "output_type": "stream",
          "text": [
            "100%|██████████| 196/196 [00:30<00:00,  6.38it/s]\n",
            "100%|██████████| 40/40 [00:04<00:00,  8.20it/s]\n",
            "  1%|          | 1/196 [00:00<00:30,  6.38it/s]"
          ],
          "name": "stderr"
        },
        {
          "output_type": "stream",
          "text": [
            "Adjusting learning rate of group 0 to 1.0000e-02.\n",
            "\n",
            "Epoch 3 of 100, 35.59 s, with average training loss: 0.05974960, and validation loss: nan, validation accuracy: 97.94\n",
            "Epoch 4 starting at: 20:13:42\n"
          ],
          "name": "stdout"
        },
        {
          "output_type": "stream",
          "text": [
            "100%|██████████| 196/196 [00:30<00:00,  6.39it/s]\n",
            "100%|██████████| 40/40 [00:04<00:00,  8.16it/s]\n",
            "  1%|          | 1/196 [00:00<00:30,  6.39it/s]"
          ],
          "name": "stderr"
        },
        {
          "output_type": "stream",
          "text": [
            "Adjusting learning rate of group 0 to 1.0000e-02.\n",
            "\n",
            "Epoch 4 of 100, 35.60 s, with average training loss: 0.04672185, and validation loss: nan, validation accuracy: 97.91\n",
            "Epoch 5 starting at: 20:14:18\n"
          ],
          "name": "stdout"
        },
        {
          "output_type": "stream",
          "text": [
            "100%|██████████| 196/196 [00:30<00:00,  6.39it/s]\n",
            "100%|██████████| 40/40 [00:04<00:00,  8.14it/s]\n",
            "  1%|          | 1/196 [00:00<00:30,  6.39it/s]"
          ],
          "name": "stderr"
        },
        {
          "output_type": "stream",
          "text": [
            "Adjusting learning rate of group 0 to 1.0000e-02.\n",
            "\n",
            "Epoch 5 of 100, 35.59 s, with average training loss: 0.03891342, and validation loss: nan, validation accuracy: 98.69\n",
            "Epoch 6 starting at: 20:14:53\n"
          ],
          "name": "stdout"
        },
        {
          "output_type": "stream",
          "text": [
            "100%|██████████| 196/196 [00:30<00:00,  6.45it/s]\n",
            "100%|██████████| 40/40 [00:04<00:00,  8.18it/s]\n",
            "  1%|          | 1/196 [00:00<00:32,  5.94it/s]"
          ],
          "name": "stderr"
        },
        {
          "output_type": "stream",
          "text": [
            "Adjusting learning rate of group 0 to 1.0000e-02.\n",
            "\n",
            "Epoch 6 of 100, 35.31 s, with average training loss: 0.03324645, and validation loss: nan, validation accuracy: 98.76\n",
            "Epoch 7 starting at: 20:15:28\n"
          ],
          "name": "stdout"
        },
        {
          "output_type": "stream",
          "text": [
            "100%|██████████| 196/196 [00:30<00:00,  6.45it/s]\n",
            "100%|██████████| 40/40 [00:04<00:00,  8.27it/s]\n",
            "  1%|          | 1/196 [00:00<00:30,  6.31it/s]"
          ],
          "name": "stderr"
        },
        {
          "output_type": "stream",
          "text": [
            "Adjusting learning rate of group 0 to 1.0000e-02.\n",
            "\n",
            "Epoch 7 of 100, 35.24 s, with average training loss: 0.02919639, and validation loss: nan, validation accuracy: 98.81\n",
            "Epoch 8 starting at: 20:16:04\n"
          ],
          "name": "stdout"
        },
        {
          "output_type": "stream",
          "text": [
            "100%|██████████| 196/196 [00:30<00:00,  6.40it/s]\n",
            "100%|██████████| 40/40 [00:04<00:00,  8.09it/s]\n",
            "  1%|          | 1/196 [00:00<00:31,  6.21it/s]"
          ],
          "name": "stderr"
        },
        {
          "output_type": "stream",
          "text": [
            "Adjusting learning rate of group 0 to 9.6000e-03.\n",
            "\n",
            "Epoch 8 of 100, 35.55 s, with average training loss: 0.02677009, and validation loss: nan, validation accuracy: 98.20\n",
            "Epoch 9 starting at: 20:16:39\n"
          ],
          "name": "stdout"
        },
        {
          "output_type": "stream",
          "text": [
            "100%|██████████| 196/196 [00:31<00:00,  6.20it/s]\n",
            "100%|██████████| 40/40 [00:05<00:00,  7.68it/s]\n",
            "  1%|          | 1/196 [00:00<00:31,  6.14it/s]"
          ],
          "name": "stderr"
        },
        {
          "output_type": "stream",
          "text": [
            "Adjusting learning rate of group 0 to 9.6000e-03.\n",
            "\n",
            "Epoch 9 of 100, 36.84 s, with average training loss: 0.02421410, and validation loss: nan, validation accuracy: 98.51\n",
            "Epoch 10 starting at: 20:17:16\n"
          ],
          "name": "stdout"
        },
        {
          "output_type": "stream",
          "text": [
            "100%|██████████| 196/196 [00:31<00:00,  6.22it/s]\n",
            "100%|██████████| 40/40 [00:04<00:00,  8.00it/s]\n",
            "  1%|          | 1/196 [00:00<00:33,  5.77it/s]"
          ],
          "name": "stderr"
        },
        {
          "output_type": "stream",
          "text": [
            "Adjusting learning rate of group 0 to 9.6000e-03.\n",
            "\n",
            "Epoch 10 of 100, 36.53 s, with average training loss: 0.01894433, and validation loss: nan, validation accuracy: 98.67\n",
            "Epoch 11 starting at: 20:17:53\n"
          ],
          "name": "stdout"
        },
        {
          "output_type": "stream",
          "text": [
            "100%|██████████| 196/196 [00:30<00:00,  6.36it/s]\n",
            "100%|██████████| 40/40 [00:04<00:00,  8.06it/s]\n",
            "  1%|          | 1/196 [00:00<00:32,  5.99it/s]"
          ],
          "name": "stderr"
        },
        {
          "output_type": "stream",
          "text": [
            "Adjusting learning rate of group 0 to 9.6000e-03.\n",
            "\n",
            "Epoch 11 of 100, 35.79 s, with average training loss: 0.01935460, and validation loss: nan, validation accuracy: 99.04\n",
            "Epoch 12 starting at: 20:18:28\n"
          ],
          "name": "stdout"
        },
        {
          "output_type": "stream",
          "text": [
            "100%|██████████| 196/196 [00:30<00:00,  6.40it/s]\n",
            "100%|██████████| 40/40 [00:04<00:00,  8.12it/s]\n",
            "  1%|          | 1/196 [00:00<00:30,  6.39it/s]"
          ],
          "name": "stderr"
        },
        {
          "output_type": "stream",
          "text": [
            "Adjusting learning rate of group 0 to 9.6000e-03.\n",
            "\n",
            "Epoch 12 of 100, 35.57 s, with average training loss: 0.01700683, and validation loss: nan, validation accuracy: 99.11\n",
            "Epoch 13 starting at: 20:19:04\n"
          ],
          "name": "stdout"
        },
        {
          "output_type": "stream",
          "text": [
            "100%|██████████| 196/196 [00:30<00:00,  6.36it/s]\n",
            "100%|██████████| 40/40 [00:04<00:00,  8.22it/s]\n",
            "  1%|          | 1/196 [00:00<00:31,  6.24it/s]"
          ],
          "name": "stderr"
        },
        {
          "output_type": "stream",
          "text": [
            "Adjusting learning rate of group 0 to 9.6000e-03.\n",
            "\n",
            "Epoch 13 of 100, 35.71 s, with average training loss: 0.01487471, and validation loss: nan, validation accuracy: 99.18\n",
            "Epoch 14 starting at: 20:19:40\n"
          ],
          "name": "stdout"
        },
        {
          "output_type": "stream",
          "text": [
            "100%|██████████| 196/196 [00:30<00:00,  6.38it/s]\n",
            "100%|██████████| 40/40 [00:05<00:00,  7.93it/s]\n",
            "  1%|          | 1/196 [00:00<00:32,  6.00it/s]"
          ],
          "name": "stderr"
        },
        {
          "output_type": "stream",
          "text": [
            "Adjusting learning rate of group 0 to 9.6000e-03.\n",
            "\n",
            "Epoch 14 of 100, 35.77 s, with average training loss: 0.01406391, and validation loss: nan, validation accuracy: 99.34\n",
            "Epoch 15 starting at: 20:20:15\n"
          ],
          "name": "stdout"
        },
        {
          "output_type": "stream",
          "text": [
            "100%|██████████| 196/196 [00:30<00:00,  6.37it/s]\n",
            "100%|██████████| 40/40 [00:04<00:00,  8.23it/s]\n",
            "  1%|          | 1/196 [00:00<00:30,  6.39it/s]"
          ],
          "name": "stderr"
        },
        {
          "output_type": "stream",
          "text": [
            "Adjusting learning rate of group 0 to 9.6000e-03.\n",
            "\n",
            "Epoch 15 of 100, 35.65 s, with average training loss: 0.01458573, and validation loss: nan, validation accuracy: 98.91\n",
            "Epoch 16 starting at: 20:20:51\n"
          ],
          "name": "stdout"
        },
        {
          "output_type": "stream",
          "text": [
            "100%|██████████| 196/196 [00:30<00:00,  6.41it/s]\n",
            "100%|██████████| 40/40 [00:05<00:00,  7.97it/s]\n",
            "  1%|          | 1/196 [00:00<00:31,  6.16it/s]"
          ],
          "name": "stderr"
        },
        {
          "output_type": "stream",
          "text": [
            "Adjusting learning rate of group 0 to 9.2160e-03.\n",
            "\n",
            "Epoch 16 of 100, 35.58 s, with average training loss: 0.01571223, and validation loss: nan, validation accuracy: 99.15\n",
            "Epoch 17 starting at: 20:21:27\n"
          ],
          "name": "stdout"
        },
        {
          "output_type": "stream",
          "text": [
            "100%|██████████| 196/196 [00:30<00:00,  6.40it/s]\n",
            "100%|██████████| 40/40 [00:04<00:00,  8.20it/s]\n",
            "  1%|          | 1/196 [00:00<00:31,  6.14it/s]"
          ],
          "name": "stderr"
        },
        {
          "output_type": "stream",
          "text": [
            "Adjusting learning rate of group 0 to 9.2160e-03.\n",
            "\n",
            "Epoch 17 of 100, 35.51 s, with average training loss: 0.01196781, and validation loss: nan, validation accuracy: 98.95\n",
            "Epoch 18 starting at: 20:22:02\n"
          ],
          "name": "stdout"
        },
        {
          "output_type": "stream",
          "text": [
            "100%|██████████| 196/196 [00:30<00:00,  6.38it/s]\n",
            "100%|██████████| 40/40 [00:04<00:00,  8.19it/s]\n",
            "  1%|          | 1/196 [00:00<00:30,  6.39it/s]"
          ],
          "name": "stderr"
        },
        {
          "output_type": "stream",
          "text": [
            "Adjusting learning rate of group 0 to 9.2160e-03.\n",
            "\n",
            "Epoch 18 of 100, 35.61 s, with average training loss: 0.00818552, and validation loss: nan, validation accuracy: 99.09\n",
            "Epoch 19 starting at: 20:22:38\n"
          ],
          "name": "stdout"
        },
        {
          "output_type": "stream",
          "text": [
            "100%|██████████| 196/196 [00:30<00:00,  6.36it/s]\n",
            "100%|██████████| 40/40 [00:04<00:00,  8.25it/s]\n",
            "  1%|          | 1/196 [00:00<00:30,  6.42it/s]"
          ],
          "name": "stderr"
        },
        {
          "output_type": "stream",
          "text": [
            "Adjusting learning rate of group 0 to 9.2160e-03.\n",
            "\n",
            "Epoch 19 of 100, 35.65 s, with average training loss: 0.01075901, and validation loss: nan, validation accuracy: 99.29\n",
            "Epoch 20 starting at: 20:23:13\n"
          ],
          "name": "stdout"
        },
        {
          "output_type": "stream",
          "text": [
            "100%|██████████| 196/196 [00:30<00:00,  6.40it/s]\n",
            "100%|██████████| 40/40 [00:04<00:00,  8.10it/s]\n",
            "  1%|          | 1/196 [00:00<00:31,  6.25it/s]"
          ],
          "name": "stderr"
        },
        {
          "output_type": "stream",
          "text": [
            "Adjusting learning rate of group 0 to 9.2160e-03.\n",
            "\n",
            "Epoch 20 of 100, 35.57 s, with average training loss: 0.00890138, and validation loss: nan, validation accuracy: 99.23\n",
            "Epoch 21 starting at: 20:23:49\n"
          ],
          "name": "stdout"
        },
        {
          "output_type": "stream",
          "text": [
            "100%|██████████| 196/196 [00:30<00:00,  6.36it/s]\n",
            "100%|██████████| 40/40 [00:05<00:00,  7.94it/s]\n",
            "  1%|          | 1/196 [00:00<00:32,  6.08it/s]"
          ],
          "name": "stderr"
        },
        {
          "output_type": "stream",
          "text": [
            "Adjusting learning rate of group 0 to 9.2160e-03.\n",
            "\n",
            "Epoch 21 of 100, 35.88 s, with average training loss: 0.00783692, and validation loss: nan, validation accuracy: 99.33\n",
            "Epoch 22 starting at: 20:24:25\n"
          ],
          "name": "stdout"
        },
        {
          "output_type": "stream",
          "text": [
            "100%|██████████| 196/196 [00:30<00:00,  6.34it/s]\n",
            "100%|██████████| 40/40 [00:04<00:00,  8.02it/s]\n",
            "  1%|          | 1/196 [00:00<00:32,  6.09it/s]"
          ],
          "name": "stderr"
        },
        {
          "output_type": "stream",
          "text": [
            "Adjusting learning rate of group 0 to 9.2160e-03.\n",
            "\n",
            "Epoch 22 of 100, 35.90 s, with average training loss: 0.00615081, and validation loss: nan, validation accuracy: 99.24\n",
            "Epoch 23 starting at: 20:25:01\n"
          ],
          "name": "stdout"
        },
        {
          "output_type": "stream",
          "text": [
            "100%|██████████| 196/196 [00:31<00:00,  6.29it/s]\n",
            "100%|██████████| 40/40 [00:04<00:00,  8.09it/s]\n",
            "  1%|          | 1/196 [00:00<00:31,  6.18it/s]"
          ],
          "name": "stderr"
        },
        {
          "output_type": "stream",
          "text": [
            "Adjusting learning rate of group 0 to 9.2160e-03.\n",
            "\n",
            "Epoch 23 of 100, 36.10 s, with average training loss: 0.00462283, and validation loss: nan, validation accuracy: 99.24\n",
            "Epoch 24 starting at: 20:25:37\n"
          ],
          "name": "stdout"
        },
        {
          "output_type": "stream",
          "text": [
            "100%|██████████| 196/196 [00:30<00:00,  6.40it/s]\n",
            "100%|██████████| 40/40 [00:04<00:00,  8.18it/s]\n",
            "  1%|          | 1/196 [00:00<00:30,  6.30it/s]"
          ],
          "name": "stderr"
        },
        {
          "output_type": "stream",
          "text": [
            "Adjusting learning rate of group 0 to 8.8474e-03.\n",
            "\n",
            "Epoch 24 of 100, 35.53 s, with average training loss: 0.00481337, and validation loss: nan, validation accuracy: 99.34\n",
            "Epoch 25 starting at: 20:26:12\n"
          ],
          "name": "stdout"
        },
        {
          "output_type": "stream",
          "text": [
            "100%|██████████| 196/196 [00:30<00:00,  6.45it/s]\n",
            "100%|██████████| 40/40 [00:04<00:00,  8.35it/s]\n",
            "  1%|          | 1/196 [00:00<00:30,  6.42it/s]"
          ],
          "name": "stderr"
        },
        {
          "output_type": "stream",
          "text": [
            "Adjusting learning rate of group 0 to 8.8474e-03.\n",
            "\n",
            "Epoch 25 of 100, 35.16 s, with average training loss: 0.00657435, and validation loss: nan, validation accuracy: 99.26\n",
            "Epoch 26 starting at: 20:26:48\n"
          ],
          "name": "stdout"
        },
        {
          "output_type": "stream",
          "text": [
            "100%|██████████| 196/196 [00:30<00:00,  6.50it/s]\n",
            "100%|██████████| 40/40 [00:04<00:00,  8.03it/s]\n",
            "  1%|          | 1/196 [00:00<00:31,  6.13it/s]"
          ],
          "name": "stderr"
        },
        {
          "output_type": "stream",
          "text": [
            "Adjusting learning rate of group 0 to 8.8474e-03.\n",
            "\n",
            "Epoch 26 of 100, 35.15 s, with average training loss: 0.00569068, and validation loss: nan, validation accuracy: 98.98\n",
            "Epoch 27 starting at: 20:27:23\n"
          ],
          "name": "stdout"
        },
        {
          "output_type": "stream",
          "text": [
            "100%|██████████| 196/196 [00:30<00:00,  6.39it/s]\n",
            "100%|██████████| 40/40 [00:04<00:00,  8.06it/s]\n",
            "  1%|          | 1/196 [00:00<00:32,  6.07it/s]"
          ],
          "name": "stderr"
        },
        {
          "output_type": "stream",
          "text": [
            "Adjusting learning rate of group 0 to 8.8474e-03.\n",
            "\n",
            "Epoch 27 of 100, 35.64 s, with average training loss: 0.00533140, and validation loss: nan, validation accuracy: 99.36\n",
            "Epoch 28 starting at: 20:27:58\n"
          ],
          "name": "stdout"
        },
        {
          "output_type": "stream",
          "text": [
            "100%|██████████| 196/196 [00:30<00:00,  6.34it/s]\n",
            "100%|██████████| 40/40 [00:04<00:00,  8.02it/s]\n",
            "  1%|          | 1/196 [00:00<00:31,  6.24it/s]"
          ],
          "name": "stderr"
        },
        {
          "output_type": "stream",
          "text": [
            "Adjusting learning rate of group 0 to 8.8474e-03.\n",
            "\n",
            "Epoch 28 of 100, 35.91 s, with average training loss: 0.00601679, and validation loss: nan, validation accuracy: 99.12\n",
            "Epoch 29 starting at: 20:28:34\n"
          ],
          "name": "stdout"
        },
        {
          "output_type": "stream",
          "text": [
            "100%|██████████| 196/196 [00:30<00:00,  6.43it/s]\n",
            "100%|██████████| 40/40 [00:04<00:00,  8.07it/s]\n",
            "  1%|          | 1/196 [00:00<00:30,  6.36it/s]"
          ],
          "name": "stderr"
        },
        {
          "output_type": "stream",
          "text": [
            "Adjusting learning rate of group 0 to 8.8474e-03.\n",
            "\n",
            "Epoch 29 of 100, 35.45 s, with average training loss: 0.00438130, and validation loss: nan, validation accuracy: 99.03\n",
            "Epoch 30 starting at: 20:29:10\n"
          ],
          "name": "stdout"
        },
        {
          "output_type": "stream",
          "text": [
            "100%|██████████| 196/196 [00:30<00:00,  6.38it/s]\n",
            "100%|██████████| 40/40 [00:04<00:00,  8.18it/s]\n",
            "  1%|          | 1/196 [00:00<00:31,  6.29it/s]"
          ],
          "name": "stderr"
        },
        {
          "output_type": "stream",
          "text": [
            "Adjusting learning rate of group 0 to 8.8474e-03.\n",
            "\n",
            "Epoch 30 of 100, 35.60 s, with average training loss: 0.00515944, and validation loss: nan, validation accuracy: 99.20\n",
            "Epoch 31 starting at: 20:29:45\n"
          ],
          "name": "stdout"
        },
        {
          "output_type": "stream",
          "text": [
            "100%|██████████| 196/196 [00:30<00:00,  6.41it/s]\n",
            "100%|██████████| 40/40 [00:04<00:00,  8.29it/s]\n",
            "  1%|          | 1/196 [00:00<00:30,  6.36it/s]"
          ],
          "name": "stderr"
        },
        {
          "output_type": "stream",
          "text": [
            "Adjusting learning rate of group 0 to 8.8474e-03.\n",
            "\n",
            "Epoch 31 of 100, 35.39 s, with average training loss: 0.00410253, and validation loss: nan, validation accuracy: 99.34\n",
            "Epoch 32 starting at: 20:30:21\n"
          ],
          "name": "stdout"
        },
        {
          "output_type": "stream",
          "text": [
            "100%|██████████| 196/196 [00:30<00:00,  6.39it/s]\n",
            "100%|██████████| 40/40 [00:04<00:00,  8.19it/s]\n",
            "  1%|          | 1/196 [00:00<00:31,  6.19it/s]"
          ],
          "name": "stderr"
        },
        {
          "output_type": "stream",
          "text": [
            "Adjusting learning rate of group 0 to 8.4935e-03.\n",
            "\n",
            "Epoch 32 of 100, 35.57 s, with average training loss: 0.00502067, and validation loss: nan, validation accuracy: 99.21\n",
            "Epoch 33 starting at: 20:30:56\n"
          ],
          "name": "stdout"
        },
        {
          "output_type": "stream",
          "text": [
            "100%|██████████| 196/196 [00:30<00:00,  6.46it/s]\n",
            "100%|██████████| 40/40 [00:04<00:00,  8.01it/s]\n",
            "  1%|          | 1/196 [00:00<00:30,  6.31it/s]"
          ],
          "name": "stderr"
        },
        {
          "output_type": "stream",
          "text": [
            "Adjusting learning rate of group 0 to 8.4935e-03.\n",
            "\n",
            "Epoch 33 of 100, 35.33 s, with average training loss: 0.00508004, and validation loss: nan, validation accuracy: 99.29\n",
            "Epoch 34 starting at: 20:31:32\n"
          ],
          "name": "stdout"
        },
        {
          "output_type": "stream",
          "text": [
            "100%|██████████| 196/196 [00:30<00:00,  6.45it/s]\n",
            "100%|██████████| 40/40 [00:04<00:00,  8.06it/s]\n",
            "  1%|          | 1/196 [00:00<00:30,  6.30it/s]"
          ],
          "name": "stderr"
        },
        {
          "output_type": "stream",
          "text": [
            "Adjusting learning rate of group 0 to 8.4935e-03.\n",
            "\n",
            "Epoch 34 of 100, 35.37 s, with average training loss: 0.00377838, and validation loss: nan, validation accuracy: 99.37\n",
            "Epoch 35 starting at: 20:32:07\n"
          ],
          "name": "stdout"
        },
        {
          "output_type": "stream",
          "text": [
            "100%|██████████| 196/196 [00:30<00:00,  6.40it/s]\n",
            "100%|██████████| 40/40 [00:04<00:00,  8.21it/s]\n",
            "  1%|          | 1/196 [00:00<00:30,  6.39it/s]"
          ],
          "name": "stderr"
        },
        {
          "output_type": "stream",
          "text": [
            "Adjusting learning rate of group 0 to 8.4935e-03.\n",
            "\n",
            "Epoch 35 of 100, 35.48 s, with average training loss: 0.00249361, and validation loss: nan, validation accuracy: 99.32\n",
            "Epoch 36 starting at: 20:32:42\n"
          ],
          "name": "stdout"
        },
        {
          "output_type": "stream",
          "text": [
            "100%|██████████| 196/196 [00:30<00:00,  6.49it/s]\n",
            "100%|██████████| 40/40 [00:04<00:00,  8.28it/s]\n",
            "  1%|          | 1/196 [00:00<00:29,  6.56it/s]"
          ],
          "name": "stderr"
        },
        {
          "output_type": "stream",
          "text": [
            "Adjusting learning rate of group 0 to 8.4935e-03.\n",
            "\n",
            "Epoch 36 of 100, 35.03 s, with average training loss: 0.00271580, and validation loss: nan, validation accuracy: 99.43\n",
            "Epoch 37 starting at: 20:33:18\n"
          ],
          "name": "stdout"
        },
        {
          "output_type": "stream",
          "text": [
            "100%|██████████| 196/196 [00:30<00:00,  6.45it/s]\n",
            "100%|██████████| 40/40 [00:04<00:00,  8.27it/s]\n",
            "  1%|          | 1/196 [00:00<00:31,  6.29it/s]"
          ],
          "name": "stderr"
        },
        {
          "output_type": "stream",
          "text": [
            "Adjusting learning rate of group 0 to 8.4935e-03.\n",
            "\n",
            "Epoch 37 of 100, 35.25 s, with average training loss: 0.00240932, and validation loss: nan, validation accuracy: 99.33\n",
            "Epoch 38 starting at: 20:33:53\n"
          ],
          "name": "stdout"
        },
        {
          "output_type": "stream",
          "text": [
            "100%|██████████| 196/196 [00:30<00:00,  6.40it/s]\n",
            "100%|██████████| 40/40 [00:04<00:00,  8.05it/s]\n",
            "  1%|          | 1/196 [00:00<00:30,  6.45it/s]"
          ],
          "name": "stderr"
        },
        {
          "output_type": "stream",
          "text": [
            "Adjusting learning rate of group 0 to 8.4935e-03.\n",
            "\n",
            "Epoch 38 of 100, 35.60 s, with average training loss: 0.00168822, and validation loss: nan, validation accuracy: 99.38\n",
            "Epoch 39 starting at: 20:34:28\n"
          ],
          "name": "stdout"
        },
        {
          "output_type": "stream",
          "text": [
            "100%|██████████| 196/196 [00:30<00:00,  6.39it/s]\n",
            "100%|██████████| 40/40 [00:04<00:00,  8.06it/s]\n",
            "  1%|          | 1/196 [00:00<00:31,  6.24it/s]"
          ],
          "name": "stderr"
        },
        {
          "output_type": "stream",
          "text": [
            "Adjusting learning rate of group 0 to 8.4935e-03.\n",
            "\n",
            "Epoch 39 of 100, 35.66 s, with average training loss: 0.00201221, and validation loss: nan, validation accuracy: 99.35\n",
            "Epoch 40 starting at: 20:35:04\n"
          ],
          "name": "stdout"
        },
        {
          "output_type": "stream",
          "text": [
            "100%|██████████| 196/196 [00:30<00:00,  6.36it/s]\n",
            "100%|██████████| 40/40 [00:04<00:00,  8.25it/s]\n",
            "  1%|          | 1/196 [00:00<00:30,  6.31it/s]"
          ],
          "name": "stderr"
        },
        {
          "output_type": "stream",
          "text": [
            "Adjusting learning rate of group 0 to 8.1537e-03.\n",
            "\n",
            "Epoch 40 of 100, 35.67 s, with average training loss: 0.00372810, and validation loss: nan, validation accuracy: 99.30\n",
            "Epoch 41 starting at: 20:35:40\n"
          ],
          "name": "stdout"
        },
        {
          "output_type": "stream",
          "text": [
            "100%|██████████| 196/196 [00:30<00:00,  6.46it/s]\n",
            "100%|██████████| 40/40 [00:04<00:00,  8.34it/s]\n",
            "  1%|          | 1/196 [00:00<00:29,  6.61it/s]"
          ],
          "name": "stderr"
        },
        {
          "output_type": "stream",
          "text": [
            "Adjusting learning rate of group 0 to 8.1537e-03.\n",
            "\n",
            "Epoch 41 of 100, 35.12 s, with average training loss: 0.00194137, and validation loss: nan, validation accuracy: 99.33\n",
            "Epoch 42 starting at: 20:36:15\n"
          ],
          "name": "stdout"
        },
        {
          "output_type": "stream",
          "text": [
            "100%|██████████| 196/196 [00:30<00:00,  6.41it/s]\n",
            "100%|██████████| 40/40 [00:04<00:00,  8.20it/s]\n",
            "  1%|          | 1/196 [00:00<00:30,  6.32it/s]"
          ],
          "name": "stderr"
        },
        {
          "output_type": "stream",
          "text": [
            "Adjusting learning rate of group 0 to 8.1537e-03.\n",
            "\n",
            "Epoch 42 of 100, 35.49 s, with average training loss: 0.00218391, and validation loss: nan, validation accuracy: 99.35\n",
            "Epoch 43 starting at: 20:36:50\n"
          ],
          "name": "stdout"
        },
        {
          "output_type": "stream",
          "text": [
            "100%|██████████| 196/196 [00:30<00:00,  6.42it/s]\n",
            "100%|██████████| 40/40 [00:04<00:00,  8.16it/s]\n",
            "  1%|          | 1/196 [00:00<00:30,  6.33it/s]"
          ],
          "name": "stderr"
        },
        {
          "output_type": "stream",
          "text": [
            "Adjusting learning rate of group 0 to 8.1537e-03.\n",
            "\n",
            "Epoch 43 of 100, 35.44 s, with average training loss: 0.00339950, and validation loss: nan, validation accuracy: 99.35\n",
            "Epoch 44 starting at: 20:37:26\n"
          ],
          "name": "stdout"
        },
        {
          "output_type": "stream",
          "text": [
            "100%|██████████| 196/196 [00:30<00:00,  6.39it/s]\n",
            "100%|██████████| 40/40 [00:04<00:00,  8.25it/s]\n",
            "  1%|          | 1/196 [00:00<00:31,  6.12it/s]"
          ],
          "name": "stderr"
        },
        {
          "output_type": "stream",
          "text": [
            "Adjusting learning rate of group 0 to 8.1537e-03.\n",
            "\n",
            "Epoch 44 of 100, 35.53 s, with average training loss: 0.00141454, and validation loss: nan, validation accuracy: 99.40\n",
            "Epoch 45 starting at: 20:38:01\n"
          ],
          "name": "stdout"
        },
        {
          "output_type": "stream",
          "text": [
            "100%|██████████| 196/196 [00:30<00:00,  6.43it/s]\n",
            "100%|██████████| 40/40 [00:04<00:00,  8.25it/s]\n",
            "  1%|          | 1/196 [00:00<00:31,  6.21it/s]"
          ],
          "name": "stderr"
        },
        {
          "output_type": "stream",
          "text": [
            "Adjusting learning rate of group 0 to 8.1537e-03.\n",
            "\n",
            "Epoch 45 of 100, 35.35 s, with average training loss: 0.00067179, and validation loss: nan, validation accuracy: 99.42\n",
            "Epoch 46 starting at: 20:38:37\n"
          ],
          "name": "stdout"
        },
        {
          "output_type": "stream",
          "text": [
            "100%|██████████| 196/196 [00:30<00:00,  6.43it/s]\n",
            "100%|██████████| 40/40 [00:04<00:00,  8.10it/s]\n",
            "  1%|          | 1/196 [00:00<00:33,  5.90it/s]"
          ],
          "name": "stderr"
        },
        {
          "output_type": "stream",
          "text": [
            "Adjusting learning rate of group 0 to 8.1537e-03.\n",
            "\n",
            "Epoch 46 of 100, 35.44 s, with average training loss: 0.00070727, and validation loss: nan, validation accuracy: 99.39\n",
            "Epoch 47 starting at: 20:39:12\n"
          ],
          "name": "stdout"
        },
        {
          "output_type": "stream",
          "text": [
            "100%|██████████| 196/196 [00:30<00:00,  6.43it/s]\n",
            "100%|██████████| 40/40 [00:04<00:00,  8.09it/s]\n",
            "  1%|          | 1/196 [00:00<00:30,  6.47it/s]"
          ],
          "name": "stderr"
        },
        {
          "output_type": "stream",
          "text": [
            "Adjusting learning rate of group 0 to 8.1537e-03.\n",
            "\n",
            "Epoch 47 of 100, 35.42 s, with average training loss: 0.00128371, and validation loss: nan, validation accuracy: 99.04\n",
            "Epoch 48 starting at: 20:39:48\n"
          ],
          "name": "stdout"
        },
        {
          "output_type": "stream",
          "text": [
            "100%|██████████| 196/196 [00:30<00:00,  6.41it/s]\n",
            "100%|██████████| 40/40 [00:04<00:00,  8.03it/s]\n",
            "  1%|          | 1/196 [00:00<00:30,  6.44it/s]"
          ],
          "name": "stderr"
        },
        {
          "output_type": "stream",
          "text": [
            "Adjusting learning rate of group 0 to 7.8276e-03.\n",
            "\n",
            "Epoch 48 of 100, 35.56 s, with average training loss: 0.00228744, and validation loss: nan, validation accuracy: 99.26\n",
            "Epoch 49 starting at: 20:40:23\n"
          ],
          "name": "stdout"
        },
        {
          "output_type": "stream",
          "text": [
            "100%|██████████| 196/196 [00:30<00:00,  6.40it/s]\n",
            "100%|██████████| 40/40 [00:04<00:00,  8.14it/s]\n",
            "  1%|          | 1/196 [00:00<00:31,  6.11it/s]"
          ],
          "name": "stderr"
        },
        {
          "output_type": "stream",
          "text": [
            "Adjusting learning rate of group 0 to 7.8276e-03.\n",
            "\n",
            "Epoch 49 of 100, 35.54 s, with average training loss: 0.00149749, and validation loss: nan, validation accuracy: 99.26\n",
            "Epoch 50 starting at: 20:40:59\n"
          ],
          "name": "stdout"
        },
        {
          "output_type": "stream",
          "text": [
            "100%|██████████| 196/196 [00:30<00:00,  6.43it/s]\n",
            "100%|██████████| 40/40 [00:04<00:00,  8.06it/s]\n",
            "  1%|          | 1/196 [00:00<00:30,  6.38it/s]"
          ],
          "name": "stderr"
        },
        {
          "output_type": "stream",
          "text": [
            "Adjusting learning rate of group 0 to 7.8276e-03.\n",
            "\n",
            "Epoch 50 of 100, 35.45 s, with average training loss: 0.00140193, and validation loss: nan, validation accuracy: 99.36\n",
            "Epoch 51 starting at: 20:41:34\n"
          ],
          "name": "stdout"
        },
        {
          "output_type": "stream",
          "text": [
            "100%|██████████| 196/196 [00:30<00:00,  6.42it/s]\n",
            "100%|██████████| 40/40 [00:04<00:00,  8.12it/s]\n",
            "  1%|          | 1/196 [00:00<00:30,  6.39it/s]"
          ],
          "name": "stderr"
        },
        {
          "output_type": "stream",
          "text": [
            "Adjusting learning rate of group 0 to 7.8276e-03.\n",
            "\n",
            "Epoch 51 of 100, 35.45 s, with average training loss: 0.00232692, and validation loss: nan, validation accuracy: 99.34\n",
            "Epoch 52 starting at: 20:42:10\n"
          ],
          "name": "stdout"
        },
        {
          "output_type": "stream",
          "text": [
            "100%|██████████| 196/196 [00:30<00:00,  6.40it/s]\n",
            "100%|██████████| 40/40 [00:04<00:00,  8.08it/s]\n",
            "  1%|          | 1/196 [00:00<00:30,  6.37it/s]"
          ],
          "name": "stderr"
        },
        {
          "output_type": "stream",
          "text": [
            "Adjusting learning rate of group 0 to 7.8276e-03.\n",
            "\n",
            "Epoch 52 of 100, 35.59 s, with average training loss: 0.00083070, and validation loss: nan, validation accuracy: 99.34\n",
            "Epoch 53 starting at: 20:42:45\n"
          ],
          "name": "stdout"
        },
        {
          "output_type": "stream",
          "text": [
            "100%|██████████| 196/196 [00:30<00:00,  6.40it/s]\n",
            "100%|██████████| 40/40 [00:04<00:00,  8.25it/s]\n",
            "  1%|          | 1/196 [00:00<00:31,  6.18it/s]"
          ],
          "name": "stderr"
        },
        {
          "output_type": "stream",
          "text": [
            "Adjusting learning rate of group 0 to 7.8276e-03.\n",
            "\n",
            "Epoch 53 of 100, 35.47 s, with average training loss: 0.00168404, and validation loss: nan, validation accuracy: 99.41\n",
            "Epoch 54 starting at: 20:43:21\n"
          ],
          "name": "stdout"
        },
        {
          "output_type": "stream",
          "text": [
            "100%|██████████| 196/196 [00:30<00:00,  6.37it/s]\n",
            "100%|██████████| 40/40 [00:04<00:00,  8.10it/s]\n",
            "  1%|          | 1/196 [00:00<00:32,  6.01it/s]"
          ],
          "name": "stderr"
        },
        {
          "output_type": "stream",
          "text": [
            "Adjusting learning rate of group 0 to 7.8276e-03.\n",
            "\n",
            "Epoch 54 of 100, 35.71 s, with average training loss: 0.00218151, and validation loss: nan, validation accuracy: 99.27\n",
            "Epoch 55 starting at: 20:43:56\n"
          ],
          "name": "stdout"
        },
        {
          "output_type": "stream",
          "text": [
            "100%|██████████| 196/196 [00:30<00:00,  6.35it/s]\n",
            "100%|██████████| 40/40 [00:05<00:00,  7.94it/s]\n",
            "  1%|          | 1/196 [00:00<00:30,  6.32it/s]"
          ],
          "name": "stderr"
        },
        {
          "output_type": "stream",
          "text": [
            "Adjusting learning rate of group 0 to 7.8276e-03.\n",
            "\n",
            "Epoch 55 of 100, 35.90 s, with average training loss: 0.00186295, and validation loss: nan, validation accuracy: 99.09\n",
            "Epoch 56 starting at: 20:44:32\n"
          ],
          "name": "stdout"
        },
        {
          "output_type": "stream",
          "text": [
            "100%|██████████| 196/196 [00:31<00:00,  6.31it/s]\n",
            "100%|██████████| 40/40 [00:05<00:00,  7.74it/s]\n",
            "  1%|          | 1/196 [00:00<00:31,  6.17it/s]"
          ],
          "name": "stderr"
        },
        {
          "output_type": "stream",
          "text": [
            "Adjusting learning rate of group 0 to 7.5145e-03.\n",
            "\n",
            "Epoch 56 of 100, 36.22 s, with average training loss: 0.00126527, and validation loss: nan, validation accuracy: 99.18\n",
            "Epoch 57 starting at: 20:45:08\n"
          ],
          "name": "stdout"
        },
        {
          "output_type": "stream",
          "text": [
            "100%|██████████| 196/196 [00:31<00:00,  6.29it/s]\n",
            "100%|██████████| 40/40 [00:04<00:00,  8.04it/s]\n",
            "  1%|          | 1/196 [00:00<00:31,  6.18it/s]"
          ],
          "name": "stderr"
        },
        {
          "output_type": "stream",
          "text": [
            "Adjusting learning rate of group 0 to 7.5145e-03.\n",
            "\n",
            "Epoch 57 of 100, 36.15 s, with average training loss: 0.00085753, and validation loss: nan, validation accuracy: 99.29\n",
            "Epoch 58 starting at: 20:45:45\n"
          ],
          "name": "stdout"
        },
        {
          "output_type": "stream",
          "text": [
            "100%|██████████| 196/196 [00:30<00:00,  6.37it/s]\n",
            "100%|██████████| 40/40 [00:04<00:00,  8.17it/s]\n",
            "  1%|          | 1/196 [00:00<00:31,  6.26it/s]"
          ],
          "name": "stderr"
        },
        {
          "output_type": "stream",
          "text": [
            "Adjusting learning rate of group 0 to 7.5145e-03.\n",
            "\n",
            "Epoch 58 of 100, 35.66 s, with average training loss: 0.00051167, and validation loss: nan, validation accuracy: 99.40\n",
            "Epoch 59 starting at: 20:46:20\n"
          ],
          "name": "stdout"
        },
        {
          "output_type": "stream",
          "text": [
            "100%|██████████| 196/196 [00:30<00:00,  6.35it/s]\n",
            "100%|██████████| 40/40 [00:04<00:00,  8.13it/s]\n",
            "  1%|          | 1/196 [00:00<00:31,  6.28it/s]"
          ],
          "name": "stderr"
        },
        {
          "output_type": "stream",
          "text": [
            "Adjusting learning rate of group 0 to 7.5145e-03.\n",
            "\n",
            "Epoch 59 of 100, 35.78 s, with average training loss: 0.00117856, and validation loss: nan, validation accuracy: 99.25\n",
            "Epoch 60 starting at: 20:46:56\n"
          ],
          "name": "stdout"
        },
        {
          "output_type": "stream",
          "text": [
            "100%|██████████| 196/196 [00:30<00:00,  6.37it/s]\n",
            "100%|██████████| 40/40 [00:05<00:00,  7.84it/s]\n",
            "  1%|          | 1/196 [00:00<00:33,  5.85it/s]"
          ],
          "name": "stderr"
        },
        {
          "output_type": "stream",
          "text": [
            "Adjusting learning rate of group 0 to 7.5145e-03.\n",
            "\n",
            "Epoch 60 of 100, 35.86 s, with average training loss: 0.00077938, and validation loss: nan, validation accuracy: 99.39\n",
            "Epoch 61 starting at: 20:47:32\n"
          ],
          "name": "stdout"
        },
        {
          "output_type": "stream",
          "text": [
            "100%|██████████| 196/196 [00:30<00:00,  6.39it/s]\n",
            "100%|██████████| 40/40 [00:04<00:00,  8.08it/s]\n",
            "  1%|          | 1/196 [00:00<00:32,  6.05it/s]"
          ],
          "name": "stderr"
        },
        {
          "output_type": "stream",
          "text": [
            "Adjusting learning rate of group 0 to 7.5145e-03.\n",
            "\n",
            "Epoch 61 of 100, 35.63 s, with average training loss: 0.00016409, and validation loss: nan, validation accuracy: 99.34\n",
            "Epoch 62 starting at: 20:48:07\n"
          ],
          "name": "stdout"
        },
        {
          "output_type": "stream",
          "text": [
            "100%|██████████| 196/196 [00:30<00:00,  6.38it/s]\n",
            "100%|██████████| 40/40 [00:05<00:00,  7.84it/s]\n",
            "  1%|          | 1/196 [00:00<00:31,  6.28it/s]"
          ],
          "name": "stderr"
        },
        {
          "output_type": "stream",
          "text": [
            "Adjusting learning rate of group 0 to 7.5145e-03.\n",
            "\n",
            "Epoch 62 of 100, 35.83 s, with average training loss: 0.00010420, and validation loss: nan, validation accuracy: 99.37\n",
            "Epoch 63 starting at: 20:48:43\n"
          ],
          "name": "stdout"
        },
        {
          "output_type": "stream",
          "text": [
            "100%|██████████| 196/196 [00:30<00:00,  6.37it/s]\n",
            "100%|██████████| 40/40 [00:04<00:00,  8.12it/s]\n",
            "  1%|          | 1/196 [00:00<00:32,  5.97it/s]"
          ],
          "name": "stderr"
        },
        {
          "output_type": "stream",
          "text": [
            "Adjusting learning rate of group 0 to 7.5145e-03.\n",
            "\n",
            "Epoch 63 of 100, 35.69 s, with average training loss: 0.00030776, and validation loss: nan, validation accuracy: 99.44\n",
            "Epoch 64 starting at: 20:49:19\n"
          ],
          "name": "stdout"
        },
        {
          "output_type": "stream",
          "text": [
            "100%|██████████| 196/196 [00:30<00:00,  6.35it/s]\n",
            "100%|██████████| 40/40 [00:04<00:00,  8.17it/s]\n",
            "  1%|          | 1/196 [00:00<00:31,  6.14it/s]"
          ],
          "name": "stderr"
        },
        {
          "output_type": "stream",
          "text": [
            "Adjusting learning rate of group 0 to 7.2139e-03.\n",
            "\n",
            "Epoch 64 of 100, 35.79 s, with average training loss: 0.00051080, and validation loss: nan, validation accuracy: 99.29\n",
            "Epoch 65 starting at: 20:49:55\n"
          ],
          "name": "stdout"
        },
        {
          "output_type": "stream",
          "text": [
            "100%|██████████| 196/196 [00:30<00:00,  6.35it/s]\n",
            "100%|██████████| 40/40 [00:05<00:00,  7.94it/s]\n",
            "  1%|          | 1/196 [00:00<00:30,  6.33it/s]"
          ],
          "name": "stderr"
        },
        {
          "output_type": "stream",
          "text": [
            "Adjusting learning rate of group 0 to 7.2139e-03.\n",
            "\n",
            "Epoch 65 of 100, 35.90 s, with average training loss: 0.00035536, and validation loss: nan, validation accuracy: 99.34\n",
            "Epoch 66 starting at: 20:50:31\n"
          ],
          "name": "stdout"
        },
        {
          "output_type": "stream",
          "text": [
            "100%|██████████| 196/196 [00:30<00:00,  6.34it/s]\n",
            "100%|██████████| 40/40 [00:04<00:00,  8.14it/s]\n",
            "  1%|          | 1/196 [00:00<00:31,  6.14it/s]"
          ],
          "name": "stderr"
        },
        {
          "output_type": "stream",
          "text": [
            "Adjusting learning rate of group 0 to 7.2139e-03.\n",
            "\n",
            "Epoch 66 of 100, 35.85 s, with average training loss: 0.00014232, and validation loss: nan, validation accuracy: 99.33\n",
            "Epoch 67 starting at: 20:51:07\n"
          ],
          "name": "stdout"
        },
        {
          "output_type": "stream",
          "text": [
            "100%|██████████| 196/196 [00:30<00:00,  6.33it/s]\n",
            "100%|██████████| 40/40 [00:04<00:00,  8.11it/s]\n",
            "  1%|          | 1/196 [00:00<00:31,  6.26it/s]"
          ],
          "name": "stderr"
        },
        {
          "output_type": "stream",
          "text": [
            "Adjusting learning rate of group 0 to 7.2139e-03.\n",
            "\n",
            "Epoch 67 of 100, 35.90 s, with average training loss: 0.00008469, and validation loss: nan, validation accuracy: 99.37\n",
            "Epoch 68 starting at: 20:51:42\n"
          ],
          "name": "stdout"
        },
        {
          "output_type": "stream",
          "text": [
            "100%|██████████| 196/196 [00:30<00:00,  6.39it/s]\n",
            "100%|██████████| 40/40 [00:04<00:00,  8.16it/s]\n",
            "  1%|          | 1/196 [00:00<00:31,  6.20it/s]"
          ],
          "name": "stderr"
        },
        {
          "output_type": "stream",
          "text": [
            "Adjusting learning rate of group 0 to 7.2139e-03.\n",
            "\n",
            "Epoch 68 of 100, 35.58 s, with average training loss: 0.00009681, and validation loss: nan, validation accuracy: 99.39\n",
            "Epoch 69 starting at: 20:52:18\n"
          ],
          "name": "stdout"
        },
        {
          "output_type": "stream",
          "text": [
            "100%|██████████| 196/196 [00:30<00:00,  6.36it/s]\n",
            "100%|██████████| 40/40 [00:04<00:00,  8.09it/s]\n",
            "  1%|          | 1/196 [00:00<00:31,  6.13it/s]"
          ],
          "name": "stderr"
        },
        {
          "output_type": "stream",
          "text": [
            "Adjusting learning rate of group 0 to 7.2139e-03.\n",
            "\n",
            "Epoch 69 of 100, 35.77 s, with average training loss: 0.00006214, and validation loss: nan, validation accuracy: 99.38\n",
            "Epoch 70 starting at: 20:52:54\n"
          ],
          "name": "stdout"
        },
        {
          "output_type": "stream",
          "text": [
            "100%|██████████| 196/196 [00:30<00:00,  6.38it/s]\n",
            "100%|██████████| 40/40 [00:04<00:00,  8.16it/s]\n",
            "  1%|          | 1/196 [00:00<00:31,  6.14it/s]"
          ],
          "name": "stderr"
        },
        {
          "output_type": "stream",
          "text": [
            "Adjusting learning rate of group 0 to 7.2139e-03.\n",
            "\n",
            "Epoch 70 of 100, 35.63 s, with average training loss: 0.00009442, and validation loss: nan, validation accuracy: 99.41\n",
            "Epoch 71 starting at: 20:53:29\n"
          ],
          "name": "stdout"
        },
        {
          "output_type": "stream",
          "text": [
            "100%|██████████| 196/196 [00:30<00:00,  6.39it/s]\n",
            "100%|██████████| 40/40 [00:04<00:00,  8.02it/s]\n",
            "  1%|          | 1/196 [00:00<00:33,  5.86it/s]"
          ],
          "name": "stderr"
        },
        {
          "output_type": "stream",
          "text": [
            "Adjusting learning rate of group 0 to 7.2139e-03.\n",
            "\n",
            "Epoch 71 of 100, 35.69 s, with average training loss: 0.00006382, and validation loss: nan, validation accuracy: 99.36\n",
            "Epoch 72 starting at: 20:54:05\n"
          ],
          "name": "stdout"
        },
        {
          "output_type": "stream",
          "text": [
            "100%|██████████| 196/196 [00:30<00:00,  6.32it/s]\n",
            "100%|██████████| 40/40 [00:05<00:00,  7.82it/s]\n",
            "  1%|          | 1/196 [00:00<00:33,  5.81it/s]"
          ],
          "name": "stderr"
        },
        {
          "output_type": "stream",
          "text": [
            "Adjusting learning rate of group 0 to 6.9253e-03.\n",
            "\n",
            "Epoch 72 of 100, 36.12 s, with average training loss: 0.00009747, and validation loss: nan, validation accuracy: 99.40\n",
            "Epoch 73 starting at: 20:54:41\n"
          ],
          "name": "stdout"
        },
        {
          "output_type": "stream",
          "text": [
            "100%|██████████| 196/196 [00:31<00:00,  6.26it/s]\n",
            "100%|██████████| 40/40 [00:05<00:00,  7.89it/s]\n",
            "  1%|          | 1/196 [00:00<00:31,  6.25it/s]"
          ],
          "name": "stderr"
        },
        {
          "output_type": "stream",
          "text": [
            "Adjusting learning rate of group 0 to 6.9253e-03.\n",
            "\n",
            "Epoch 73 of 100, 36.39 s, with average training loss: 0.00006616, and validation loss: nan, validation accuracy: 99.44\n",
            "Epoch 74 starting at: 20:55:18\n"
          ],
          "name": "stdout"
        },
        {
          "output_type": "stream",
          "text": [
            "100%|██████████| 196/196 [00:31<00:00,  6.29it/s]\n",
            "100%|██████████| 40/40 [00:04<00:00,  8.07it/s]\n",
            "  1%|          | 1/196 [00:00<00:31,  6.20it/s]"
          ],
          "name": "stderr"
        },
        {
          "output_type": "stream",
          "text": [
            "Adjusting learning rate of group 0 to 6.9253e-03.\n",
            "\n",
            "Epoch 74 of 100, 36.14 s, with average training loss: 0.00038627, and validation loss: nan, validation accuracy: 99.37\n",
            "Epoch 75 starting at: 20:55:54\n"
          ],
          "name": "stdout"
        },
        {
          "output_type": "stream",
          "text": [
            "100%|██████████| 196/196 [00:30<00:00,  6.51it/s]\n",
            "100%|██████████| 40/40 [00:04<00:00,  8.20it/s]\n",
            "  1%|          | 1/196 [00:00<00:31,  6.21it/s]"
          ],
          "name": "stderr"
        },
        {
          "output_type": "stream",
          "text": [
            "Adjusting learning rate of group 0 to 6.9253e-03.\n",
            "\n",
            "Epoch 75 of 100, 34.99 s, with average training loss: 0.00007457, and validation loss: nan, validation accuracy: 99.45\n",
            "Epoch 76 starting at: 20:56:29\n"
          ],
          "name": "stdout"
        },
        {
          "output_type": "stream",
          "text": [
            "100%|██████████| 196/196 [00:30<00:00,  6.51it/s]\n",
            "100%|██████████| 40/40 [00:04<00:00,  8.45it/s]\n",
            "  1%|          | 1/196 [00:00<00:29,  6.51it/s]"
          ],
          "name": "stderr"
        },
        {
          "output_type": "stream",
          "text": [
            "Adjusting learning rate of group 0 to 6.9253e-03.\n",
            "\n",
            "Epoch 76 of 100, 34.84 s, with average training loss: 0.00005510, and validation loss: nan, validation accuracy: 99.45\n",
            "Epoch 77 starting at: 20:57:04\n"
          ],
          "name": "stdout"
        },
        {
          "output_type": "stream",
          "text": [
            "100%|██████████| 196/196 [00:30<00:00,  6.50it/s]\n",
            "100%|██████████| 40/40 [00:04<00:00,  8.20it/s]\n",
            "  1%|          | 1/196 [00:00<00:31,  6.25it/s]"
          ],
          "name": "stderr"
        },
        {
          "output_type": "stream",
          "text": [
            "Adjusting learning rate of group 0 to 6.9253e-03.\n",
            "\n",
            "Epoch 77 of 100, 35.02 s, with average training loss: 0.00004254, and validation loss: nan, validation accuracy: 99.46\n",
            "Epoch 78 starting at: 20:57:39\n"
          ],
          "name": "stdout"
        },
        {
          "output_type": "stream",
          "text": [
            "100%|██████████| 196/196 [00:30<00:00,  6.41it/s]\n",
            "100%|██████████| 40/40 [00:04<00:00,  8.13it/s]\n",
            "  1%|          | 1/196 [00:00<00:30,  6.39it/s]"
          ],
          "name": "stderr"
        },
        {
          "output_type": "stream",
          "text": [
            "Adjusting learning rate of group 0 to 6.9253e-03.\n",
            "\n",
            "Epoch 78 of 100, 35.49 s, with average training loss: 0.00005094, and validation loss: nan, validation accuracy: 99.43\n",
            "Epoch 79 starting at: 20:58:14\n"
          ],
          "name": "stdout"
        },
        {
          "output_type": "stream",
          "text": [
            "100%|██████████| 196/196 [00:30<00:00,  6.42it/s]\n",
            "100%|██████████| 40/40 [00:04<00:00,  8.16it/s]\n",
            "  1%|          | 1/196 [00:00<00:29,  6.56it/s]"
          ],
          "name": "stderr"
        },
        {
          "output_type": "stream",
          "text": [
            "Adjusting learning rate of group 0 to 6.9253e-03.\n",
            "\n",
            "Epoch 79 of 100, 35.45 s, with average training loss: 0.00003859, and validation loss: nan, validation accuracy: 99.44\n",
            "Epoch 80 starting at: 20:58:50\n"
          ],
          "name": "stdout"
        },
        {
          "output_type": "stream",
          "text": [
            "100%|██████████| 196/196 [00:30<00:00,  6.44it/s]\n",
            "100%|██████████| 40/40 [00:04<00:00,  8.24it/s]\n",
            "  1%|          | 1/196 [00:00<00:32,  6.00it/s]"
          ],
          "name": "stderr"
        },
        {
          "output_type": "stream",
          "text": [
            "Adjusting learning rate of group 0 to 6.6483e-03.\n",
            "\n",
            "Epoch 80 of 100, 35.28 s, with average training loss: 0.00012096, and validation loss: nan, validation accuracy: 99.51\n",
            "Epoch 81 starting at: 20:59:25\n"
          ],
          "name": "stdout"
        },
        {
          "output_type": "stream",
          "text": [
            "100%|██████████| 196/196 [00:30<00:00,  6.47it/s]\n",
            "100%|██████████| 40/40 [00:04<00:00,  8.33it/s]\n",
            "  1%|          | 1/196 [00:00<00:31,  6.15it/s]"
          ],
          "name": "stderr"
        },
        {
          "output_type": "stream",
          "text": [
            "Adjusting learning rate of group 0 to 6.6483e-03.\n",
            "\n",
            "Epoch 81 of 100, 35.08 s, with average training loss: 0.00025051, and validation loss: nan, validation accuracy: 99.43\n",
            "Epoch 82 starting at: 21:00:00\n"
          ],
          "name": "stdout"
        },
        {
          "output_type": "stream",
          "text": [
            "100%|██████████| 196/196 [00:30<00:00,  6.45it/s]\n",
            "100%|██████████| 40/40 [00:05<00:00,  7.83it/s]\n",
            "  1%|          | 1/196 [00:00<00:31,  6.10it/s]"
          ],
          "name": "stderr"
        },
        {
          "output_type": "stream",
          "text": [
            "Adjusting learning rate of group 0 to 6.6483e-03.\n",
            "\n",
            "Epoch 82 of 100, 35.52 s, with average training loss: 0.00039226, and validation loss: nan, validation accuracy: 99.47\n",
            "Epoch 83 starting at: 21:00:35\n"
          ],
          "name": "stdout"
        },
        {
          "output_type": "stream",
          "text": [
            "100%|██████████| 196/196 [00:30<00:00,  6.44it/s]\n",
            "100%|██████████| 40/40 [00:04<00:00,  8.28it/s]\n",
            "  1%|          | 1/196 [00:00<00:30,  6.44it/s]"
          ],
          "name": "stderr"
        },
        {
          "output_type": "stream",
          "text": [
            "Adjusting learning rate of group 0 to 6.6483e-03.\n",
            "\n",
            "Epoch 83 of 100, 35.27 s, with average training loss: 0.00015679, and validation loss: nan, validation accuracy: 99.40\n",
            "Epoch 84 starting at: 21:01:11\n"
          ],
          "name": "stdout"
        },
        {
          "output_type": "stream",
          "text": [
            "100%|██████████| 196/196 [00:30<00:00,  6.43it/s]\n",
            "100%|██████████| 40/40 [00:04<00:00,  8.21it/s]\n",
            "  1%|          | 1/196 [00:00<00:32,  5.97it/s]"
          ],
          "name": "stderr"
        },
        {
          "output_type": "stream",
          "text": [
            "Adjusting learning rate of group 0 to 6.6483e-03.\n",
            "\n",
            "Epoch 84 of 100, 35.35 s, with average training loss: 0.00004936, and validation loss: nan, validation accuracy: 99.42\n",
            "Epoch 85 starting at: 21:01:46\n"
          ],
          "name": "stdout"
        },
        {
          "output_type": "stream",
          "text": [
            "100%|██████████| 196/196 [00:30<00:00,  6.48it/s]\n",
            "100%|██████████| 40/40 [00:04<00:00,  8.20it/s]\n",
            "  1%|          | 1/196 [00:00<00:31,  6.27it/s]"
          ],
          "name": "stderr"
        },
        {
          "output_type": "stream",
          "text": [
            "Adjusting learning rate of group 0 to 6.6483e-03.\n",
            "\n",
            "Epoch 85 of 100, 35.11 s, with average training loss: 0.00005654, and validation loss: nan, validation accuracy: 99.37\n",
            "Epoch 86 starting at: 21:02:21\n"
          ],
          "name": "stdout"
        },
        {
          "output_type": "stream",
          "text": [
            "100%|██████████| 196/196 [00:30<00:00,  6.49it/s]\n",
            "100%|██████████| 40/40 [00:04<00:00,  8.13it/s]\n",
            "  1%|          | 1/196 [00:00<00:32,  6.09it/s]"
          ],
          "name": "stderr"
        },
        {
          "output_type": "stream",
          "text": [
            "Adjusting learning rate of group 0 to 6.6483e-03.\n",
            "\n",
            "Epoch 86 of 100, 35.14 s, with average training loss: 0.00014666, and validation loss: nan, validation accuracy: 99.36\n",
            "Epoch 87 starting at: 21:02:56\n"
          ],
          "name": "stdout"
        },
        {
          "output_type": "stream",
          "text": [
            "100%|██████████| 196/196 [00:30<00:00,  6.41it/s]\n",
            "100%|██████████| 40/40 [00:04<00:00,  8.18it/s]\n",
            "  1%|          | 1/196 [00:00<00:30,  6.41it/s]"
          ],
          "name": "stderr"
        },
        {
          "output_type": "stream",
          "text": [
            "Adjusting learning rate of group 0 to 6.6483e-03.\n",
            "\n",
            "Epoch 87 of 100, 35.48 s, with average training loss: 0.00004850, and validation loss: nan, validation accuracy: 99.44\n",
            "Epoch 88 starting at: 21:03:32\n"
          ],
          "name": "stdout"
        },
        {
          "output_type": "stream",
          "text": [
            "100%|██████████| 196/196 [00:30<00:00,  6.48it/s]\n",
            "100%|██████████| 40/40 [00:04<00:00,  8.20it/s]\n",
            "  1%|          | 1/196 [00:00<00:30,  6.37it/s]"
          ],
          "name": "stderr"
        },
        {
          "output_type": "stream",
          "text": [
            "Adjusting learning rate of group 0 to 6.3824e-03.\n",
            "\n",
            "Epoch 88 of 100, 35.13 s, with average training loss: 0.00019430, and validation loss: nan, validation accuracy: 99.32\n",
            "Epoch 89 starting at: 21:04:07\n"
          ],
          "name": "stdout"
        },
        {
          "output_type": "stream",
          "text": [
            "100%|██████████| 196/196 [00:30<00:00,  6.43it/s]\n",
            "100%|██████████| 40/40 [00:04<00:00,  8.15it/s]\n",
            "  1%|          | 1/196 [00:00<00:31,  6.25it/s]"
          ],
          "name": "stderr"
        },
        {
          "output_type": "stream",
          "text": [
            "Adjusting learning rate of group 0 to 6.3824e-03.\n",
            "\n",
            "Epoch 89 of 100, 35.37 s, with average training loss: 0.00020632, and validation loss: nan, validation accuracy: 99.38\n",
            "Epoch 90 starting at: 21:04:42\n"
          ],
          "name": "stdout"
        },
        {
          "output_type": "stream",
          "text": [
            "100%|██████████| 196/196 [00:30<00:00,  6.36it/s]\n",
            "100%|██████████| 40/40 [00:04<00:00,  8.08it/s]\n",
            "  1%|          | 1/196 [00:00<00:30,  6.38it/s]"
          ],
          "name": "stderr"
        },
        {
          "output_type": "stream",
          "text": [
            "Adjusting learning rate of group 0 to 6.3824e-03.\n",
            "\n",
            "Epoch 90 of 100, 35.78 s, with average training loss: 0.00005379, and validation loss: nan, validation accuracy: 99.38\n",
            "Epoch 91 starting at: 21:05:18\n"
          ],
          "name": "stdout"
        },
        {
          "output_type": "stream",
          "text": [
            "100%|██████████| 196/196 [00:30<00:00,  6.36it/s]\n",
            "100%|██████████| 40/40 [00:04<00:00,  8.24it/s]\n",
            "  1%|          | 1/196 [00:00<00:30,  6.40it/s]"
          ],
          "name": "stderr"
        },
        {
          "output_type": "stream",
          "text": [
            "Adjusting learning rate of group 0 to 6.3824e-03.\n",
            "\n",
            "Epoch 91 of 100, 35.67 s, with average training loss: 0.00004483, and validation loss: nan, validation accuracy: 99.43\n",
            "Epoch 92 starting at: 21:05:54\n"
          ],
          "name": "stdout"
        },
        {
          "output_type": "stream",
          "text": [
            "100%|██████████| 196/196 [00:30<00:00,  6.50it/s]\n",
            "100%|██████████| 40/40 [00:04<00:00,  8.16it/s]\n",
            "  1%|          | 1/196 [00:00<00:32,  6.09it/s]"
          ],
          "name": "stderr"
        },
        {
          "output_type": "stream",
          "text": [
            "Adjusting learning rate of group 0 to 6.3824e-03.\n",
            "\n",
            "Epoch 92 of 100, 35.08 s, with average training loss: 0.00031994, and validation loss: nan, validation accuracy: 99.43\n",
            "Epoch 93 starting at: 21:06:29\n"
          ],
          "name": "stdout"
        },
        {
          "output_type": "stream",
          "text": [
            "100%|██████████| 196/196 [00:30<00:00,  6.45it/s]\n",
            "100%|██████████| 40/40 [00:04<00:00,  8.28it/s]\n",
            "  1%|          | 1/196 [00:00<00:31,  6.27it/s]"
          ],
          "name": "stderr"
        },
        {
          "output_type": "stream",
          "text": [
            "Adjusting learning rate of group 0 to 6.3824e-03.\n",
            "\n",
            "Epoch 93 of 100, 35.24 s, with average training loss: 0.00089462, and validation loss: nan, validation accuracy: 99.43\n",
            "Epoch 94 starting at: 21:07:04\n"
          ],
          "name": "stdout"
        },
        {
          "output_type": "stream",
          "text": [
            "100%|██████████| 196/196 [00:30<00:00,  6.47it/s]\n",
            "100%|██████████| 40/40 [00:04<00:00,  8.04it/s]\n",
            "  1%|          | 1/196 [00:00<00:30,  6.37it/s]"
          ],
          "name": "stderr"
        },
        {
          "output_type": "stream",
          "text": [
            "Adjusting learning rate of group 0 to 6.3824e-03.\n",
            "\n",
            "Epoch 94 of 100, 35.29 s, with average training loss: 0.00058178, and validation loss: nan, validation accuracy: 99.30\n",
            "Epoch 95 starting at: 21:07:39\n"
          ],
          "name": "stdout"
        },
        {
          "output_type": "stream",
          "text": [
            "100%|██████████| 196/196 [00:31<00:00,  6.32it/s]\n",
            "100%|██████████| 40/40 [00:04<00:00,  8.07it/s]\n",
            "  1%|          | 1/196 [00:00<00:31,  6.21it/s]"
          ],
          "name": "stderr"
        },
        {
          "output_type": "stream",
          "text": [
            "Adjusting learning rate of group 0 to 6.3824e-03.\n",
            "\n",
            "Epoch 95 of 100, 35.97 s, with average training loss: 0.00031121, and validation loss: nan, validation accuracy: 99.35\n",
            "Epoch 96 starting at: 21:08:15\n"
          ],
          "name": "stdout"
        },
        {
          "output_type": "stream",
          "text": [
            "100%|██████████| 196/196 [00:30<00:00,  6.36it/s]\n",
            "100%|██████████| 40/40 [00:05<00:00,  7.98it/s]\n",
            "  1%|          | 1/196 [00:00<00:31,  6.14it/s]"
          ],
          "name": "stderr"
        },
        {
          "output_type": "stream",
          "text": [
            "Adjusting learning rate of group 0 to 6.1271e-03.\n",
            "\n",
            "Epoch 96 of 100, 35.84 s, with average training loss: 0.00032258, and validation loss: nan, validation accuracy: 99.42\n",
            "Epoch 97 starting at: 21:08:51\n"
          ],
          "name": "stdout"
        },
        {
          "output_type": "stream",
          "text": [
            "100%|██████████| 196/196 [00:30<00:00,  6.33it/s]\n",
            "100%|██████████| 40/40 [00:04<00:00,  8.01it/s]\n",
            "  1%|          | 1/196 [00:00<00:31,  6.12it/s]"
          ],
          "name": "stderr"
        },
        {
          "output_type": "stream",
          "text": [
            "Adjusting learning rate of group 0 to 6.1271e-03.\n",
            "\n",
            "Epoch 97 of 100, 35.97 s, with average training loss: 0.00010885, and validation loss: nan, validation accuracy: 99.41\n",
            "Epoch 98 starting at: 21:09:27\n"
          ],
          "name": "stdout"
        },
        {
          "output_type": "stream",
          "text": [
            "100%|██████████| 196/196 [00:30<00:00,  6.34it/s]\n",
            "100%|██████████| 40/40 [00:04<00:00,  8.03it/s]\n",
            "  1%|          | 1/196 [00:00<00:31,  6.20it/s]"
          ],
          "name": "stderr"
        },
        {
          "output_type": "stream",
          "text": [
            "Adjusting learning rate of group 0 to 6.1271e-03.\n",
            "\n",
            "Epoch 98 of 100, 35.91 s, with average training loss: 0.00020330, and validation loss: nan, validation accuracy: 99.29\n",
            "Epoch 99 starting at: 21:10:03\n"
          ],
          "name": "stdout"
        },
        {
          "output_type": "stream",
          "text": [
            "100%|██████████| 196/196 [00:31<00:00,  6.32it/s]\n",
            "100%|██████████| 40/40 [00:05<00:00,  7.85it/s]\n",
            "  1%|          | 1/196 [00:00<00:31,  6.26it/s]"
          ],
          "name": "stderr"
        },
        {
          "output_type": "stream",
          "text": [
            "Adjusting learning rate of group 0 to 6.1271e-03.\n",
            "\n",
            "Epoch 99 of 100, 36.12 s, with average training loss: 0.00006971, and validation loss: nan, validation accuracy: 99.37\n",
            "Epoch 100 starting at: 21:10:39\n"
          ],
          "name": "stdout"
        },
        {
          "output_type": "stream",
          "text": [
            "100%|██████████| 196/196 [00:30<00:00,  6.36it/s]\n",
            "100%|██████████| 40/40 [00:04<00:00,  8.02it/s]\n"
          ],
          "name": "stderr"
        },
        {
          "output_type": "stream",
          "text": [
            "Adjusting learning rate of group 0 to 6.1271e-03.\n",
            "\n",
            "Epoch 100 of 100, 35.80 s, with average training loss: 0.00003671, and validation loss: nan, validation accuracy: 99.37\n",
            "Finished Training  11/05/2021 21:11:15\n",
            "Avg per epoch ptime: 35.59, total 100 epochs ptime: 3558.69\n"
          ],
          "name": "stdout"
        }
      ]
    },
    {
      "cell_type": "markdown",
      "metadata": {
        "id": "cV-9-K8zSfSj"
      },
      "source": [
        "### Save training results"
      ]
    },
    {
      "cell_type": "code",
      "metadata": {
        "id": "sOYLNPPwhqNk"
      },
      "source": [
        "# Show training results\n",
        "show_train_hist(train_hist, save=True, path=save_dir + '/MNIST_train_hist.png')\n",
        "\n",
        "# Add zeros at the beginning of data for graph 'smoothness'\n",
        "train_hist['VGG_accuracy'].insert(0, 0)\n",
        "train_hist['ResNet_accuracy'].insert(0, 0)\n",
        "train_hist['GGL_Net_accuracy'].insert(0, 0)\n",
        "# Show accuracy results\n",
        "show_accuracy_plot(train_hist, save=True, path=save_dir + '/MNIST_accuracy_hist.png')"
      ],
      "execution_count": 12,
      "outputs": []
    },
    {
      "cell_type": "markdown",
      "metadata": {
        "id": "HSySclCr75mn"
      },
      "source": [
        "# Model testing"
      ]
    },
    {
      "cell_type": "markdown",
      "metadata": {
        "id": "KRmLozJtpv8c"
      },
      "source": [
        "### Testing Method\n",
        "Returns top1 and top5 accuracies"
      ]
    },
    {
      "cell_type": "code",
      "metadata": {
        "id": "FBTqh7zX1tEI"
      },
      "source": [
        "def Model_Testing(device, test_loader, net):\n",
        "    net.eval()\n",
        "    with torch.no_grad():\n",
        "        total = 0\n",
        "        top1 = 0\n",
        "        top5 = 0\n",
        "        # Validation\n",
        "        for (images, labels) in tqdm(test_loader):\n",
        "            images = images.to(device)\n",
        "            labels = labels.to(device)\n",
        "\n",
        "            # calculate outputs by running images through the network\n",
        "            outputs = net(images)\n",
        "            \n",
        "            # apply softmax function to get probabilities\n",
        "            s = nn.Softmax(dim=1)\n",
        "            probabilities = s(outputs)\n",
        "\n",
        "            # class with highest probability is the predicted class\n",
        "            #_, predicted = torch.max(probabilities.data, 1)\n",
        "            # topk adapted from bearpaw's code, found at gituhb @'https://github.com/bearpaw/pytorch-classification/blob/cc9106d598ff1fe375cc030873ceacfea0499d77/utils/eval.py'\n",
        "            _, pred = probabilities.data.topk(k=5, dim=1, largest=True, sorted=True)\n",
        "            pred = pred.t()\n",
        "            correct = pred.eq(labels.view(1, -1).expand_as(pred))\n",
        "\n",
        "            total += labels.size(0)\n",
        "            top1 += correct[:1].flatten().float().sum(0)\n",
        "            top5 += correct[:5].flatten().float().sum(0)\n",
        "\n",
        "        top1_accuracy = 100 * top1/total\n",
        "        top5_accuracy = 100 * top5/total\n",
        "\n",
        "        return top1_accuracy, top5_accuracy"
      ],
      "execution_count": 13,
      "outputs": []
    },
    {
      "cell_type": "markdown",
      "metadata": {
        "id": "5KYYSD11rWYc"
      },
      "source": [
        "## Test on MNIST"
      ]
    },
    {
      "cell_type": "markdown",
      "metadata": {
        "id": "tkMvoml5rWYd"
      },
      "source": [
        "### Load testing dataset"
      ]
    },
    {
      "cell_type": "code",
      "metadata": {
        "id": "WrkLDPanrWYd"
      },
      "source": [
        "data_dir = './MNIST_data/'\n",
        "batch_size = 256\n",
        "\n",
        "# construct the datasets and data loaders\n",
        "transform = transforms.Compose([transforms.Grayscale(3),\n",
        "                                transforms.Resize(64),\n",
        "                                transforms.RandomHorizontalFlip(0.5),\n",
        "                                transforms.ToTensor(),\n",
        "                                transforms.Normalize((0.5, 0.5, 0.5), (0.5, 0.5, 0.5))])\n",
        "\n",
        "test_data = datasets.MNIST(root=data_dir, train=False, transform=transform, download=True)\n",
        "test_loader = DataLoader(dataset=test_data, batch_size=batch_size, shuffle=True)"
      ],
      "execution_count": 14,
      "outputs": []
    },
    {
      "cell_type": "markdown",
      "metadata": {
        "id": "PQEcL4bgrWYf"
      },
      "source": [
        "### Test VGG"
      ]
    },
    {
      "cell_type": "code",
      "metadata": {
        "id": "2KGh1kJ4rWYf",
        "colab": {
          "base_uri": "https://localhost:8080/"
        },
        "outputId": "7fbdfa87-2010-45da-fd19-05f3cdaee831"
      },
      "source": [
        "VGG_net = torch.hub.load('pytorch/vision:v0.9.0', 'vgg19', pretrained=False)\n",
        "VGG_net.load_state_dict(torch.load('./Models/VGG_MNIST_model.pth'))\n",
        "VGG_net = VGG_net.to(device)\n",
        "\n",
        "top1, top5 = Model_Testing(device, test_loader, VGG_net)\n",
        "print('Top 1 accuracy: %.2f, Top 5 accuracy: %.2f'%(top1, top5))"
      ],
      "execution_count": 15,
      "outputs": [
        {
          "output_type": "stream",
          "text": [
            "Using cache found in /root/.cache/torch/hub/pytorch_vision_v0.9.0\n",
            "100%|██████████| 40/40 [00:04<00:00,  9.03it/s]"
          ],
          "name": "stderr"
        },
        {
          "output_type": "stream",
          "text": [
            "Top 1 accuracy: 97.86, Top 5 accuracy: 99.90\n"
          ],
          "name": "stdout"
        },
        {
          "output_type": "stream",
          "text": [
            "\n"
          ],
          "name": "stderr"
        }
      ]
    },
    {
      "cell_type": "markdown",
      "metadata": {
        "id": "3tCULFPfrWYg"
      },
      "source": [
        "### Test ResNet"
      ]
    },
    {
      "cell_type": "code",
      "metadata": {
        "id": "h0fhAPh5rWYh",
        "colab": {
          "base_uri": "https://localhost:8080/"
        },
        "outputId": "349ddbfa-eda3-4075-f879-b276e6987268"
      },
      "source": [
        "ResNet_net = torch.hub.load('pytorch/vision:v0.9.0', 'resnet34', pretrained=False)\n",
        "ResNet_net.load_state_dict(torch.load('./Models/ResNet_MNIST_model.pth'))\n",
        "ResNet_net = ResNet_net.to(device)\n",
        "\n",
        "top1, top5 = Model_Testing(device, test_loader, ResNet_net)\n",
        "print('Top 1 accuracy: %.2f, Top 5 accuracy: %.2f'%(top1, top5))"
      ],
      "execution_count": 16,
      "outputs": [
        {
          "output_type": "stream",
          "text": [
            "Using cache found in /root/.cache/torch/hub/pytorch_vision_v0.9.0\n",
            "100%|██████████| 40/40 [00:04<00:00,  8.83it/s]"
          ],
          "name": "stderr"
        },
        {
          "output_type": "stream",
          "text": [
            "Top 1 accuracy: 65.69, Top 5 accuracy: 96.60\n"
          ],
          "name": "stdout"
        },
        {
          "output_type": "stream",
          "text": [
            "\n"
          ],
          "name": "stderr"
        }
      ]
    },
    {
      "cell_type": "markdown",
      "metadata": {
        "id": "_Bvn1MugrWYh"
      },
      "source": [
        "### Test GoogLeNet"
      ]
    },
    {
      "cell_type": "code",
      "metadata": {
        "id": "obIwOF1urWYh",
        "colab": {
          "base_uri": "https://localhost:8080/"
        },
        "outputId": "03981e44-636c-441d-9846-efe0464f8f1f"
      },
      "source": [
        "GoogLeNet_net = torch.hub.load('pytorch/vision:v0.9.0', 'googlenet', pretrained=False)\n",
        "GoogLeNet_net.load_state_dict(torch.load('./Models/GoogLeNet_MNIST_model.pth'))\n",
        "GoogLeNet_net = GoogLeNet_net.to(device)\n",
        "\n",
        "top1, top5 = Model_Testing(device, test_loader, GoogLeNet_net)\n",
        "print('Top 1 accuracy: %.2f, Top 5 accuracy: %.2f'%(top1, top5))"
      ],
      "execution_count": 17,
      "outputs": [
        {
          "output_type": "stream",
          "text": [
            "Using cache found in /root/.cache/torch/hub/pytorch_vision_v0.9.0\n",
            "/usr/local/lib/python3.7/dist-packages/torchvision/models/googlenet.py:79: FutureWarning: The default weight initialization of GoogleNet will be changed in future releases of torchvision. If you wish to keep the old behavior (which leads to long initialization times due to scipy/scipy#11299), please set init_weights=True.\n",
            "  ' due to scipy/scipy#11299), please set init_weights=True.', FutureWarning)\n",
            "100%|██████████| 40/40 [00:04<00:00,  8.89it/s]"
          ],
          "name": "stderr"
        },
        {
          "output_type": "stream",
          "text": [
            "Top 1 accuracy: 64.79, Top 5 accuracy: 95.43\n"
          ],
          "name": "stdout"
        },
        {
          "output_type": "stream",
          "text": [
            "\n"
          ],
          "name": "stderr"
        }
      ]
    }
  ]
}