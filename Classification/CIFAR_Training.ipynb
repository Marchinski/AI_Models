{
  "nbformat": 4,
  "nbformat_minor": 0,
  "metadata": {
    "colab": {
      "name": "CIFAR_Training.ipynb",
      "provenance": [],
      "collapsed_sections": [
        "z3EDSBqyns_y",
        "g-1iLxm5n78m",
        "gkp9TFTwoE7b",
        "5Mfgu-oYv7uq",
        "gKWaIaWk75l3"
      ],
      "toc_visible": true,
      "machine_shape": "hm"
    },
    "kernelspec": {
      "name": "python3",
      "display_name": "Python 3"
    },
    "language_info": {
      "name": "python"
    },
    "accelerator": "GPU",
    "widgets": {
      "application/vnd.jupyter.widget-state+json": {
        "45410e4015784df99956bfc2d42c88f9": {
          "model_module": "@jupyter-widgets/controls",
          "model_name": "HBoxModel",
          "state": {
            "_view_name": "HBoxView",
            "_dom_classes": [],
            "_model_name": "HBoxModel",
            "_view_module": "@jupyter-widgets/controls",
            "_model_module_version": "1.5.0",
            "_view_count": null,
            "_view_module_version": "1.5.0",
            "box_style": "",
            "layout": "IPY_MODEL_bc1f18b246f841d18c517c2cf4b40e1c",
            "_model_module": "@jupyter-widgets/controls",
            "children": [
              "IPY_MODEL_b5673f4a1c7b4fbb86568e884ca86425",
              "IPY_MODEL_b43e6d51f63441e0b4f9c4736f35353c"
            ]
          }
        },
        "bc1f18b246f841d18c517c2cf4b40e1c": {
          "model_module": "@jupyter-widgets/base",
          "model_name": "LayoutModel",
          "state": {
            "_view_name": "LayoutView",
            "grid_template_rows": null,
            "right": null,
            "justify_content": null,
            "_view_module": "@jupyter-widgets/base",
            "overflow": null,
            "_model_module_version": "1.2.0",
            "_view_count": null,
            "flex_flow": null,
            "width": null,
            "min_width": null,
            "border": null,
            "align_items": null,
            "bottom": null,
            "_model_module": "@jupyter-widgets/base",
            "top": null,
            "grid_column": null,
            "overflow_y": null,
            "overflow_x": null,
            "grid_auto_flow": null,
            "grid_area": null,
            "grid_template_columns": null,
            "flex": null,
            "_model_name": "LayoutModel",
            "justify_items": null,
            "grid_row": null,
            "max_height": null,
            "align_content": null,
            "visibility": null,
            "align_self": null,
            "height": null,
            "min_height": null,
            "padding": null,
            "grid_auto_rows": null,
            "grid_gap": null,
            "max_width": null,
            "order": null,
            "_view_module_version": "1.2.0",
            "grid_template_areas": null,
            "object_position": null,
            "object_fit": null,
            "grid_auto_columns": null,
            "margin": null,
            "display": null,
            "left": null
          }
        },
        "b5673f4a1c7b4fbb86568e884ca86425": {
          "model_module": "@jupyter-widgets/controls",
          "model_name": "FloatProgressModel",
          "state": {
            "_view_name": "ProgressView",
            "style": "IPY_MODEL_734fb4347382451ca3d160e88dd8d7b7",
            "_dom_classes": [],
            "description": "",
            "_model_name": "FloatProgressModel",
            "bar_style": "success",
            "max": 170498071,
            "_view_module": "@jupyter-widgets/controls",
            "_model_module_version": "1.5.0",
            "value": 170498071,
            "_view_count": null,
            "_view_module_version": "1.5.0",
            "orientation": "horizontal",
            "min": 0,
            "description_tooltip": null,
            "_model_module": "@jupyter-widgets/controls",
            "layout": "IPY_MODEL_fcacaa5278f441b394cb357a174a520e"
          }
        },
        "b43e6d51f63441e0b4f9c4736f35353c": {
          "model_module": "@jupyter-widgets/controls",
          "model_name": "HTMLModel",
          "state": {
            "_view_name": "HTMLView",
            "style": "IPY_MODEL_4c01163016d2407296fac0a7e716ece8",
            "_dom_classes": [],
            "description": "",
            "_model_name": "HTMLModel",
            "placeholder": "​",
            "_view_module": "@jupyter-widgets/controls",
            "_model_module_version": "1.5.0",
            "value": " 170499072/? [00:11&lt;00:00, 14748596.95it/s]",
            "_view_count": null,
            "_view_module_version": "1.5.0",
            "description_tooltip": null,
            "_model_module": "@jupyter-widgets/controls",
            "layout": "IPY_MODEL_98ff1a161ccf4c54a6de49601a1886cd"
          }
        },
        "734fb4347382451ca3d160e88dd8d7b7": {
          "model_module": "@jupyter-widgets/controls",
          "model_name": "ProgressStyleModel",
          "state": {
            "_view_name": "StyleView",
            "_model_name": "ProgressStyleModel",
            "description_width": "initial",
            "_view_module": "@jupyter-widgets/base",
            "_model_module_version": "1.5.0",
            "_view_count": null,
            "_view_module_version": "1.2.0",
            "bar_color": null,
            "_model_module": "@jupyter-widgets/controls"
          }
        },
        "fcacaa5278f441b394cb357a174a520e": {
          "model_module": "@jupyter-widgets/base",
          "model_name": "LayoutModel",
          "state": {
            "_view_name": "LayoutView",
            "grid_template_rows": null,
            "right": null,
            "justify_content": null,
            "_view_module": "@jupyter-widgets/base",
            "overflow": null,
            "_model_module_version": "1.2.0",
            "_view_count": null,
            "flex_flow": null,
            "width": null,
            "min_width": null,
            "border": null,
            "align_items": null,
            "bottom": null,
            "_model_module": "@jupyter-widgets/base",
            "top": null,
            "grid_column": null,
            "overflow_y": null,
            "overflow_x": null,
            "grid_auto_flow": null,
            "grid_area": null,
            "grid_template_columns": null,
            "flex": null,
            "_model_name": "LayoutModel",
            "justify_items": null,
            "grid_row": null,
            "max_height": null,
            "align_content": null,
            "visibility": null,
            "align_self": null,
            "height": null,
            "min_height": null,
            "padding": null,
            "grid_auto_rows": null,
            "grid_gap": null,
            "max_width": null,
            "order": null,
            "_view_module_version": "1.2.0",
            "grid_template_areas": null,
            "object_position": null,
            "object_fit": null,
            "grid_auto_columns": null,
            "margin": null,
            "display": null,
            "left": null
          }
        },
        "4c01163016d2407296fac0a7e716ece8": {
          "model_module": "@jupyter-widgets/controls",
          "model_name": "DescriptionStyleModel",
          "state": {
            "_view_name": "StyleView",
            "_model_name": "DescriptionStyleModel",
            "description_width": "",
            "_view_module": "@jupyter-widgets/base",
            "_model_module_version": "1.5.0",
            "_view_count": null,
            "_view_module_version": "1.2.0",
            "_model_module": "@jupyter-widgets/controls"
          }
        },
        "98ff1a161ccf4c54a6de49601a1886cd": {
          "model_module": "@jupyter-widgets/base",
          "model_name": "LayoutModel",
          "state": {
            "_view_name": "LayoutView",
            "grid_template_rows": null,
            "right": null,
            "justify_content": null,
            "_view_module": "@jupyter-widgets/base",
            "overflow": null,
            "_model_module_version": "1.2.0",
            "_view_count": null,
            "flex_flow": null,
            "width": null,
            "min_width": null,
            "border": null,
            "align_items": null,
            "bottom": null,
            "_model_module": "@jupyter-widgets/base",
            "top": null,
            "grid_column": null,
            "overflow_y": null,
            "overflow_x": null,
            "grid_auto_flow": null,
            "grid_area": null,
            "grid_template_columns": null,
            "flex": null,
            "_model_name": "LayoutModel",
            "justify_items": null,
            "grid_row": null,
            "max_height": null,
            "align_content": null,
            "visibility": null,
            "align_self": null,
            "height": null,
            "min_height": null,
            "padding": null,
            "grid_auto_rows": null,
            "grid_gap": null,
            "max_width": null,
            "order": null,
            "_view_module_version": "1.2.0",
            "grid_template_areas": null,
            "object_position": null,
            "object_fit": null,
            "grid_auto_columns": null,
            "margin": null,
            "display": null,
            "left": null
          }
        }
      }
    }
  },
  "cells": [
    {
      "cell_type": "markdown",
      "metadata": {
        "id": "z3EDSBqyns_y"
      },
      "source": [
        "# Imports"
      ]
    },
    {
      "cell_type": "code",
      "metadata": {
        "id": "MFiZEybEDQ-B"
      },
      "source": [
        "import os\n",
        "import pickle\n",
        "import time, datetime\n",
        "\n",
        "import matplotlib.pyplot as plt\n",
        "import numpy as np\n",
        "import torch\n",
        "import torch.nn as nn\n",
        "import torch.optim as optim\n",
        "import torchvision.transforms as transforms\n",
        "import torchvision.datasets as datasets\n",
        "from torch.utils.data import DataLoader\n",
        "import torchvision\n",
        "from tqdm import tqdm\n",
        "import tensorflow as tf"
      ],
      "execution_count": 1,
      "outputs": []
    },
    {
      "cell_type": "markdown",
      "metadata": {
        "id": "g-1iLxm5n78m"
      },
      "source": [
        "# Save Methods"
      ]
    },
    {
      "cell_type": "code",
      "metadata": {
        "id": "TQEuSHwonncH"
      },
      "source": [
        "# Plot training loss\n",
        "def show_train_hist(hist, show=False, save=False, path='Train_hist.png'):\n",
        "    \"\"\"Loss tracker\n",
        "    \n",
        "    Plot the losses of the networks independently to see the trend\n",
        "    \n",
        "    Arguments:\n",
        "        hist {[dict]} -- Tracking variables\n",
        "    \n",
        "    Keyword Arguments:\n",
        "        show {bool} -- If to display the figure (default: {False})\n",
        "        save {bool} -- If to store the figure (default: {False})\n",
        "        path {str} -- path to store the figure (default: {'Train_hist.png'})\n",
        "    \"\"\"\n",
        "    x = range(len(hist['VGG_losses']))\n",
        "\n",
        "    y1 = hist['VGG_losses']\n",
        "    y2 = hist['ResNet_losses']\n",
        "    y3 = hist['GGL_Net_losses']\n",
        "\n",
        "    plt.plot(x, y1, label='VGG_loss')\n",
        "    plt.plot(x, y2, label='ResNet_loss')\n",
        "    plt.plot(x, y3, label='GoogLeNet_loss')\n",
        "\n",
        "    plt.xlabel('Epoch')\n",
        "    plt.ylabel('Loss')\n",
        "\n",
        "    plt.legend(loc=4)\n",
        "    plt.grid(True)\n",
        "    plt.tight_layout()\n",
        "\n",
        "    if save:\n",
        "        plt.savefig(path)\n",
        "\n",
        "    if show:\n",
        "        plt.show()\n",
        "    else:\n",
        "        plt.close()\n",
        "\n",
        "# Plot validation accuracy\n",
        "def show_accuracy_plot(hist, show=False, save=False, path='Accuracy_hist.png'):\n",
        "    \"\"\"Loss tracker\n",
        "    \n",
        "    Plot the losses of the networks independently to see the trend\n",
        "    \n",
        "    Arguments:\n",
        "        hist {[dict]} -- Tracking variables\n",
        "    \n",
        "    Keyword Arguments:\n",
        "        show {bool} -- If to display the figure (default: {False})\n",
        "        save {bool} -- If to store the figure (default: {False})\n",
        "        path {str} -- path to store the figure (default: {'Train_hist.png'})\n",
        "    \"\"\"\n",
        "    x = range(len(hist['VGG_accuracy']))\n",
        "\n",
        "    y1 = hist['VGG_accuracy']\n",
        "    y2 = hist['ResNet_accuracy']\n",
        "    y3 = hist['GGL_Net_accuracy']\n",
        "\n",
        "    plt.plot(x, y1, label='VGG_Accuracy')\n",
        "    plt.plot(x, y2, label='ResNet_Accuracy')\n",
        "    plt.plot(x, y3, label='GoogLeNet_Accuracy')\n",
        "\n",
        "    plt.xlabel('Epoch')\n",
        "    plt.ylabel('Accuracy')\n",
        "\n",
        "    plt.legend(loc=4)\n",
        "    plt.grid(True)\n",
        "    #plt.tight_layout()\n",
        "\n",
        "    if save:\n",
        "        plt.savefig(path)\n",
        "\n",
        "    if show:\n",
        "        plt.show()\n",
        "    else:\n",
        "        plt.close()"
      ],
      "execution_count": 2,
      "outputs": []
    },
    {
      "cell_type": "markdown",
      "metadata": {
        "id": "gkp9TFTwoE7b"
      },
      "source": [
        "# Initial Set-up"
      ]
    },
    {
      "cell_type": "code",
      "metadata": {
        "colab": {
          "base_uri": "https://localhost:8080/"
        },
        "id": "X-TpDoj0oJgJ",
        "outputId": "00fa22b8-83b2-4dd3-8085-4efb5fb18fb9"
      },
      "source": [
        "# initialise the device for training, if gpu is available, device = 'cuda', else: device = 'cpu'\n",
        "device = torch.device('cuda' if torch.cuda.is_available() else 'cpu')\n",
        "print(device)\n",
        "\n",
        "save_dir = './Results/'\n",
        "model_dir = './Models/'\n",
        "# create folder if not exist\n",
        "if not os.path.exists(save_dir):\n",
        "    os.mkdir(save_dir)\n",
        "if not os.path.exists(model_dir):\n",
        "    os.mkdir(model_dir)"
      ],
      "execution_count": 3,
      "outputs": [
        {
          "output_type": "stream",
          "text": [
            "cuda\n"
          ],
          "name": "stdout"
        }
      ]
    },
    {
      "cell_type": "markdown",
      "metadata": {
        "id": "1jra7j6Z71h9"
      },
      "source": [
        "# Model loading\n",
        "Create Models and Model Training Methods"
      ]
    },
    {
      "cell_type": "markdown",
      "metadata": {
        "id": "RKNvCacrjM2C"
      },
      "source": [
        "### VGG Model methods"
      ]
    },
    {
      "cell_type": "code",
      "metadata": {
        "id": "bWPOrI3XvbxG"
      },
      "source": [
        "def LoadVGG(device):\n",
        "    VGG_net = torch.hub.load('pytorch/vision:v0.9.0', 'vgg19', pretrained=False)\n",
        "    VGG_net = VGG_net.to(device)\n",
        "\n",
        "    VGG_optimizer = optim.SGD(VGG_net.parameters(), lr=0.01, momentum=0.7, weight_decay=0.0005)\n",
        "    \n",
        "    VGG_scheduler = optim.lr_scheduler.ReduceLROnPlateau(VGG_optimizer, mode='max', patience=5, verbose=True)\n",
        "\n",
        "    return VGG_net, VGG_optimizer, VGG_scheduler\n",
        "\n",
        "def TrainVGG(VGG_net, optimizer, scheduler, criterion, epochs, train_loader, validation_loader):\n",
        "    print('\\nTraining VGG')\n",
        "    train_hist['per_epoch_ptimes'].clear()\n",
        "    start_time = time.time()\n",
        "    now = datetime.datetime.now()\n",
        "    dt_string = now.strftime(\"%d/%m/%Y %H:%M:%S\")\n",
        "    print('Training starting ',str(dt_string))\n",
        "    for epoch in range(epochs):\n",
        "        Train_Loss = []\n",
        "        epoch_start_time = time.time()\n",
        "        now = datetime.datetime.now()\n",
        "        print('Epoch %d starting at: %02d:%02d:%02d'%(epoch+1, now.hour, now.minute, now.second))\n",
        "        VGG_net.train()\n",
        "        # Training\n",
        "        for (train_images, train_labels) in tqdm(train_loader):\n",
        "            train_images = train_images.to(device)\n",
        "            train_labels = train_labels.to(device)\n",
        "\n",
        "            # zero the parameter gradients\n",
        "            optimizer.zero_grad()\n",
        "\n",
        "            # forward + backward + optimize\n",
        "            train_outputs = VGG_net(train_images)\n",
        "            train_loss = criterion(train_outputs, train_labels)\n",
        "            train_loss.backward()\n",
        "            optimizer.step()\n",
        "\n",
        "            Train_Loss.append(train_loss.item())\n",
        "        \n",
        "        VGG_net.eval()\n",
        "        Val_Loss = []\n",
        "        total = 0\n",
        "        correct = 0\n",
        "        # Validation\n",
        "        for (val_images, val_labels) in tqdm(validation_loader):\n",
        "            val_images = val_images.to(device)\n",
        "            val_labels = val_labels.to(device)\n",
        "\n",
        "            # calculate outputs by running images through the network\n",
        "            val_outputs = VGG_net(val_images)\n",
        "            val_loss = criterion(val_outputs, val_labels)\n",
        "            \n",
        "            Val_Loss.append(val_loss.item())\n",
        "\n",
        "            # apply softmax function to get probabilities\n",
        "            s = nn.Softmax(dim=1)\n",
        "            probabilities = s(val_outputs)\n",
        "            # class with highest probability is the predicted class\n",
        "            _, predicted = torch.max(probabilities.data, 1)\n",
        "            total += val_labels.size(0)\n",
        "            correct += (predicted == val_labels).sum().item()\n",
        "\n",
        "        # validation accuracy\n",
        "        epoch_accuracy = 100 * correct / total\n",
        "\n",
        "        # Learning Rate Adaptation step\n",
        "        # changes LR on flat plateau\n",
        "        scheduler.step(epoch_accuracy)\n",
        "\n",
        "        epoch_loss = np.mean(Train_Loss)  # mean loss for the epoch\n",
        "        epoch_end_time = time.time()\n",
        "        per_epoch_ptime = epoch_end_time - epoch_start_time\n",
        "\n",
        "        print(\"\\nEpoch %d of %d, %.2f s, with average training loss: %.8f, and validation loss: %.8f, validation accuracy: %.2f\" \n",
        "              % (epoch + 1, epochs, per_epoch_ptime, epoch_loss, np.mean(Val_Loss), epoch_accuracy))\n",
        "\n",
        "        # record the loss for every epoch\n",
        "        train_hist['VGG_losses'].append(epoch_loss)\n",
        "        train_hist['VGG_accuracy'].append(epoch_accuracy)\n",
        "        train_hist['per_epoch_ptimes'].append(per_epoch_ptime)\n",
        "\n",
        "    now = datetime.datetime.now()\n",
        "    dt_string = now.strftime(\"%d/%m/%Y %H:%M:%S\")\n",
        "    print('Finished Training ',str(dt_string))\n",
        "\n",
        "    end_time = time.time()\n",
        "    total_ptime = end_time - start_time\n",
        "    train_hist['total_ptime'].append(total_ptime)\n",
        "\n",
        "    print('Avg per epoch ptime: %.2f, total %d epochs ptime: %.2f' % (np.mean(train_hist['per_epoch_ptimes']), epochs, total_ptime))"
      ],
      "execution_count": 4,
      "outputs": []
    },
    {
      "cell_type": "markdown",
      "metadata": {
        "id": "5Mfgu-oYv7uq"
      },
      "source": [
        "### ResNet Model methods"
      ]
    },
    {
      "cell_type": "code",
      "metadata": {
        "id": "xW43Edb-wBr8"
      },
      "source": [
        "def LoadResNet(device):\n",
        "    ResNet_net = torch.hub.load('pytorch/vision:v0.9.0', 'resnet34', pretrained=False)\n",
        "    ResNet_net = ResNet_net.to(device)\n",
        "\n",
        "    ResNet_optimizer = optim.SGD(ResNet_net.parameters(), lr=0.01, momentum=0.9, weight_decay=0.0001)\n",
        "    ResNet_scheduler = optim.lr_scheduler.ReduceLROnPlateau(ResNet_optimizer, mode='max', patience=5, verbose=True)\n",
        "\n",
        "    return ResNet_net, ResNet_optimizer, ResNet_scheduler\n",
        "\n",
        "def TrainResNet(ResNet_net, optimizer, scheduler, criterion, epochs, train_loader, validation_loader):\n",
        "    print('\\nTraining ResNet')\n",
        "    train_hist['per_epoch_ptimes'].clear()\n",
        "    start_time = time.time()\n",
        "    now = datetime.datetime.now()\n",
        "    dt_string = now.strftime(\"%d/%m/%Y %H:%M:%S\")\n",
        "    print('Training starting ',dt_string)\n",
        "    for epoch in range(epochs):\n",
        "        Train_Loss = []\n",
        "        epoch_start_time = time.time()\n",
        "        now = datetime.datetime.now()\n",
        "        print('Epoch %d starting at: %02d:%02d:%02d'%(epoch+1, now.hour, now.minute, now.second))\n",
        "        ResNet_net.train()\n",
        "        # Training\n",
        "        for (train_images, train_labels) in tqdm(train_loader):\n",
        "            train_images = train_images.to(device)\n",
        "            train_labels = train_labels.to(device)\n",
        "\n",
        "            # zero the parameter gradients\n",
        "            optimizer.zero_grad()\n",
        "\n",
        "            # forward + backward + optimize\n",
        "            train_outputs = ResNet_net(train_images)\n",
        "            train_loss = criterion(train_outputs, train_labels)\n",
        "            train_loss.backward()\n",
        "            optimizer.step()\n",
        "\n",
        "            Train_Loss.append(train_loss.item())\n",
        "        \n",
        "        ResNet_net.eval()\n",
        "        Val_Loss = []\n",
        "        total = 0\n",
        "        correct = 0\n",
        "        # Validation\n",
        "        for (val_images, val_labels) in tqdm(validation_loader):\n",
        "            val_images = val_images.to(device)\n",
        "            val_labels = val_labels.to(device)\n",
        "\n",
        "            # calculate outputs by running images through the network\n",
        "            val_outputs = ResNet_net(val_images)\n",
        "            val_loss = criterion(val_outputs, val_labels)\n",
        "            \n",
        "            Val_Loss.append(val_loss.item())\n",
        "\n",
        "            # apply softmax function to get probabilities\n",
        "            s = nn.Softmax(dim=1)\n",
        "            probabilities = s(val_outputs)\n",
        "            # class with highest probability is the predicted class\n",
        "            _, predicted = torch.max(probabilities.data, 1)\n",
        "            total += val_labels.size(0)\n",
        "            correct += (predicted == val_labels).sum().item()\n",
        "\n",
        "        # validation accuracy\n",
        "        epoch_accuracy = 100 * correct / total\n",
        "\n",
        "        # Learning Rate Adaptation step\n",
        "        # changes LR on flat plateau\n",
        "        scheduler.step(epoch_accuracy)\n",
        "\n",
        "        epoch_loss = np.mean(Train_Loss)  # mean generator loss for the epoch\n",
        "        epoch_end_time = time.time()\n",
        "        per_epoch_ptime = epoch_end_time - epoch_start_time\n",
        "\n",
        "        print(\"\\nEpoch %d of %d, %.2f s, with average training loss: %.8f, and validation loss: %.8f, validation accuracy: %.2f\" \n",
        "              % (epoch + 1, epochs, per_epoch_ptime, epoch_loss, np.mean(Val_Loss), epoch_accuracy))\n",
        "\n",
        "        # record the loss for every epoch\n",
        "        train_hist['ResNet_losses'].append(epoch_loss)\n",
        "        train_hist['ResNet_accuracy'].append(epoch_accuracy)\n",
        "        train_hist['per_epoch_ptimes'].append(per_epoch_ptime)\n",
        "\n",
        "    now = datetime.datetime.now()\n",
        "    dt_string = now.strftime(\"%d/%m/%Y %H:%M:%S\")\n",
        "    print('Finished Training ',str(dt_string))\n",
        "\n",
        "    end_time = time.time()\n",
        "    total_ptime = end_time - start_time\n",
        "    train_hist['total_ptime'].append(total_ptime)\n",
        "\n",
        "    print('Avg per epoch ptime: %.2f, total %d epochs ptime: %.2f' % (np.mean(train_hist['per_epoch_ptimes']), epochs, total_ptime))"
      ],
      "execution_count": 5,
      "outputs": []
    },
    {
      "cell_type": "markdown",
      "metadata": {
        "id": "gKWaIaWk75l3"
      },
      "source": [
        "### GoogLeNet Model Methods"
      ]
    },
    {
      "cell_type": "code",
      "metadata": {
        "id": "Bc5k9h537_-P"
      },
      "source": [
        "def LoadGLNet(device):\n",
        "    GLNet_net = torch.hub.load('pytorch/vision:v0.9.0', 'googlenet', pretrained=False)\n",
        "    GLNet_net = GLNet_net.to(device)\n",
        "\n",
        "    GLNet_optimizer = optim.SGD(GLNet_net.parameters(), lr=0.01, momentum=0.9)\n",
        "    GLNet_scheduler = optim.lr_scheduler.StepLR(GLNet_optimizer, step_size=8, gamma=0.96, verbose=True)\n",
        "\n",
        "    return GLNet_net, GLNet_optimizer, GLNet_scheduler\n",
        "\n",
        "def TrainGLNet(GLNet_net, optimizer, scheduler, criterion, epochs, train_loader):\n",
        "    print('\\nTraining GoogLeNet')\n",
        "    train_hist['per_epoch_ptimes'].clear()\n",
        "    start_time = time.time()\n",
        "    now = datetime.datetime.now()\n",
        "    dt_string = now.strftime(\"%d/%m/%Y %H:%M:%S\")\n",
        "    print('Training starting ',dt_string)\n",
        "    for epoch in range(epochs):\n",
        "        # Record epoch start time\n",
        "        epoch_start_time = time.time()\n",
        "        now = datetime.datetime.now()\n",
        "        print('Epoch %d starting at: %02d:%02d:%02d'%(epoch+1, now.hour, now.minute, now.second))\n",
        "\n",
        "        GLNet_net.train()\n",
        "        Train_Loss = []\n",
        "        # Training\n",
        "        for (train_images, train_labels) in tqdm(train_loader):\n",
        "            train_images = train_images.to(device)\n",
        "            train_labels = train_labels.to(device)\n",
        "\n",
        "            # zero the parameter gradients\n",
        "            optimizer.zero_grad()\n",
        "\n",
        "            # forward + backward + optimize\n",
        "            train_outputs = GLNet_net(train_images)\n",
        "            train_outputs = train_outputs.logits\n",
        "            train_loss = criterion(train_outputs, train_labels)\n",
        "            train_loss.backward()\n",
        "            optimizer.step()\n",
        "\n",
        "            Train_Loss.append(train_loss.item())\n",
        "\n",
        "        GLNet_net.eval()\n",
        "        Val_Loss = []\n",
        "        total = 0\n",
        "        correct = 0\n",
        "        # Validation\n",
        "        for (val_images, val_labels) in tqdm(validation_loader):\n",
        "            val_images = val_images.to(device)\n",
        "            val_labels = val_labels.to(device)\n",
        "\n",
        "            # calculate outputs by running images through the network\n",
        "            val_outputs = GLNet_net(val_images)\n",
        "\n",
        "            # apply softmax function to get probabilities\n",
        "            s = nn.Softmax(dim=1)\n",
        "            probabilities = s(val_outputs)\n",
        "            # class with highest probability is the predicted class\n",
        "            _, predicted = torch.max(probabilities.data, 1)\n",
        "            total += val_labels.size(0)\n",
        "            correct += (predicted == val_labels).sum().item()\n",
        "\n",
        "        # validation accuracy\n",
        "        epoch_accuracy = 100 * correct / total\n",
        "\n",
        "        # Learning Rate Adaptation step\n",
        "        # changes LR every 8 epochs\n",
        "        scheduler.step()\n",
        "\n",
        "        epoch_loss = np.mean(Train_Loss)  # mean generator loss for the epoch\n",
        "        epoch_end_time = time.time()\n",
        "        per_epoch_ptime = epoch_end_time - epoch_start_time\n",
        "\n",
        "        print(\"\\nEpoch %d of %d, %.2f s, with average training loss: %.8f, and validation loss: %.8f, validation accuracy: %.2f\" \n",
        "              % (epoch + 1, epochs, per_epoch_ptime, epoch_loss, np.mean(Val_Loss), epoch_accuracy))\n",
        "\n",
        "        # record the loss for every epoch\n",
        "        train_hist['GGL_Net_losses'].append(epoch_loss)\n",
        "        train_hist['GGL_Net_accuracy'].append(epoch_accuracy)\n",
        "        train_hist['per_epoch_ptimes'].append(per_epoch_ptime)\n",
        "\n",
        "    now = datetime.datetime.now()\n",
        "    dt_string = now.strftime(\"%d/%m/%Y %H:%M:%S\")\n",
        "    print('Finished Training ',str(dt_string))\n",
        "\n",
        "    end_time = time.time()\n",
        "    total_ptime = end_time - start_time\n",
        "    train_hist['total_ptime'].append(total_ptime)\n",
        "\n",
        "    print('Avg per epoch ptime: %.2f, total %d epochs ptime: %.2f' % (np.mean(train_hist['per_epoch_ptimes']), epochs, total_ptime))"
      ],
      "execution_count": 6,
      "outputs": []
    },
    {
      "cell_type": "markdown",
      "metadata": {
        "id": "c2ZHcWA77GXB"
      },
      "source": [
        "# Model Training"
      ]
    },
    {
      "cell_type": "markdown",
      "metadata": {
        "id": "BHIpMQ4KPRjG"
      },
      "source": [
        "## Train on CIFAR10"
      ]
    },
    {
      "cell_type": "markdown",
      "metadata": {
        "id": "JDheN0ASSS0i"
      },
      "source": [
        "### Data Loading and Processing\n",
        "Show first batch of data"
      ]
    },
    {
      "cell_type": "code",
      "metadata": {
        "id": "O0C7uy3PNiX9",
        "colab": {
          "base_uri": "https://localhost:8080/",
          "height": 1000,
          "referenced_widgets": [
            "45410e4015784df99956bfc2d42c88f9",
            "bc1f18b246f841d18c517c2cf4b40e1c",
            "b5673f4a1c7b4fbb86568e884ca86425",
            "b43e6d51f63441e0b4f9c4736f35353c",
            "734fb4347382451ca3d160e88dd8d7b7",
            "fcacaa5278f441b394cb357a174a520e",
            "4c01163016d2407296fac0a7e716ece8",
            "98ff1a161ccf4c54a6de49601a1886cd"
          ]
        },
        "outputId": "e5350c49-15b2-4fa4-b0b7-ae3ca4935e74"
      },
      "source": [
        "data_dir = './CIFAR10_data/'\n",
        "\n",
        "# training parameters\n",
        "batch_size = 256\n",
        "epochs = 100\n",
        "\n",
        "tv_data = datasets.CIFAR10(root=data_dir, train=True, transform=transforms.Compose([\n",
        "        transforms.ToTensor()\n",
        "    ]), download=True)\n",
        "loader = DataLoader(tv_data, batch_size=len(tv_data))\n",
        "data = next(iter(loader))\n",
        "images = data[0]\n",
        "r_mean, g_mean, b_mean = images[:,0,:,:].mean(), images[:,1,:,:].mean(), images[:,2,:,:].mean()\n",
        "r_std, g_std, b_std = images[:,0,:,:].std(), images[:,1,:,:].std(), images[:,2,:,:].std()\n",
        "\n",
        "# construct the datasets and data loaders\n",
        "transform = transforms.Compose([transforms.Resize(64),\n",
        "                                transforms.RandomHorizontalFlip(0.5),\n",
        "                                transforms.ToTensor(),\n",
        "                                transforms.Normalize((r_mean, b_mean, g_mean), (r_std, g_std, b_std))])\n",
        "tv_data = datasets.CIFAR10(root=data_dir, train=True, transform=transform, download=True)\n",
        "train_data, validation_data = torch.utils.data.random_split(tv_data, [40000, 10000])\n",
        "\n",
        "train_loader = DataLoader(dataset=train_data, batch_size=batch_size, shuffle=True)\n",
        "validation_loader = DataLoader(dataset=validation_data, batch_size=batch_size, shuffle=True)\n",
        "\n",
        "def imshow(img):\n",
        "    plt.figure(figsize=(20,20))\n",
        "    npimg = img.numpy()\n",
        "    plt.imshow(np.transpose(npimg, (1, 2, 0)))\n",
        "    plt.show()\n",
        "\n",
        "\n",
        "# get some random training images\n",
        "dataiter = iter(train_loader)\n",
        "images, labels = dataiter.next()\n",
        "\n",
        "# show images\n",
        "imshow(torchvision.utils.make_grid(images))"
      ],
      "execution_count": 7,
      "outputs": [
        {
          "output_type": "stream",
          "text": [
            "Downloading https://www.cs.toronto.edu/~kriz/cifar-10-python.tar.gz to ./CIFAR10_data/cifar-10-python.tar.gz\n"
          ],
          "name": "stdout"
        },
        {
          "output_type": "display_data",
          "data": {
            "application/vnd.jupyter.widget-view+json": {
              "model_id": "45410e4015784df99956bfc2d42c88f9",
              "version_minor": 0,
              "version_major": 2
            },
            "text/plain": [
              "HBox(children=(FloatProgress(value=0.0, max=170498071.0), HTML(value='')))"
            ]
          },
          "metadata": {
            "tags": []
          }
        },
        {
          "output_type": "stream",
          "text": [
            "\n",
            "Extracting ./CIFAR10_data/cifar-10-python.tar.gz to ./CIFAR10_data/\n",
            "Files already downloaded and verified\n"
          ],
          "name": "stdout"
        },
        {
          "output_type": "stream",
          "text": [
            "Clipping input data to the valid range for imshow with RGB data ([0..1] for floats or [0..255] for integers).\n"
          ],
          "name": "stderr"
        },
        {
          "output_type": "display_data",
          "data": {
            "image/png": "[encoded data removed]",
            "text/plain": [
              "<Figure size 1440x1440 with 1 Axes>"
            ]
          },
          "metadata": {
            "tags": [],
            "needs_background": "light"
          }
        }
      ]
    },
    {
      "cell_type": "markdown",
      "metadata": {
        "id": "ICq4GBpYSZ7a"
      },
      "source": [
        "### Training Setup"
      ]
    },
    {
      "cell_type": "code",
      "metadata": {
        "id": "5INNOsooSQxt"
      },
      "source": [
        "train_hist = {}\n",
        "train_hist['VGG_losses'] = []\n",
        "train_hist['VGG_accuracy'] = []\n",
        "train_hist['ResNet_losses'] = []\n",
        "train_hist['ResNet_accuracy'] = []\n",
        "train_hist['GGL_Net_losses'] = []\n",
        "train_hist['GGL_Net_accuracy'] = []\n",
        "train_hist['per_epoch_ptimes'] = []\n",
        "train_hist['total_ptime'] = []\n",
        "\n",
        "# Loss function\n",
        "criterion = nn.CrossEntropyLoss().to(device)\n",
        "\n",
        "# Classes\n",
        "classes = ('plane', 'car', 'bird', 'cat',\n",
        "           'deer', 'dog', 'frog', 'horse', 'ship', 'truck')"
      ],
      "execution_count": 8,
      "outputs": []
    },
    {
      "cell_type": "markdown",
      "metadata": {
        "id": "YVi-0kgfT4ed"
      },
      "source": [
        "### VGG Training"
      ]
    },
    {
      "cell_type": "code",
      "metadata": {
        "id": "SrtKEWytOvTl",
        "colab": {
          "base_uri": "https://localhost:8080/"
        },
        "outputId": "bbc1804c-4579-494c-e097-1ea852df0b79"
      },
      "source": [
        "net, optimizer, scheduler = LoadVGG(device)\n",
        "TrainVGG(net, optimizer, scheduler, criterion, epochs, train_loader, validation_loader)\n",
        "torch.save(net.state_dict(), model_dir + '/VGG_CIFAR10_model.pth')\n",
        "del net\n",
        "del optimizer\n",
        "del scheduler"
      ],
      "execution_count": 9,
      "outputs": [
        {
          "output_type": "stream",
          "text": [
            "Downloading: \"https://github.com/pytorch/vision/archive/v0.9.0.zip\" to /root/.cache/torch/hub/v0.9.0.zip\n",
            "  0%|          | 0/157 [00:00<?, ?it/s]"
          ],
          "name": "stderr"
        },
        {
          "output_type": "stream",
          "text": [
            "\n",
            "Training VGG\n",
            "Training starting  11/05/2021 14:29:40\n",
            "Epoch 1 starting at: 14:29:40\n"
          ],
          "name": "stdout"
        },
        {
          "output_type": "stream",
          "text": [
            "100%|██████████| 157/157 [00:38<00:00,  4.09it/s]\n",
            "100%|██████████| 40/40 [00:05<00:00,  7.12it/s]\n",
            "  0%|          | 0/157 [00:00<?, ?it/s]"
          ],
          "name": "stderr"
        },
        {
          "output_type": "stream",
          "text": [
            "\n",
            "Epoch 1 of 100, 44.00 s, with average training loss: 3.45636937, and validation loss: 2.32330217, validation accuracy: 10.54\n",
            "Epoch 2 starting at: 14:30:24\n"
          ],
          "name": "stdout"
        },
        {
          "output_type": "stream",
          "text": [
            "100%|██████████| 157/157 [00:38<00:00,  4.05it/s]\n",
            "100%|██████████| 40/40 [00:05<00:00,  7.29it/s]\n",
            "  0%|          | 0/157 [00:00<?, ?it/s]"
          ],
          "name": "stderr"
        },
        {
          "output_type": "stream",
          "text": [
            "\n",
            "Epoch 2 of 100, 44.27 s, with average training loss: 2.33907720, and validation loss: 2.32148010, validation accuracy: 9.74\n",
            "Epoch 3 starting at: 14:31:08\n"
          ],
          "name": "stdout"
        },
        {
          "output_type": "stream",
          "text": [
            "100%|██████████| 157/157 [00:38<00:00,  4.09it/s]\n",
            "100%|██████████| 40/40 [00:05<00:00,  7.34it/s]\n",
            "  0%|          | 0/157 [00:00<?, ?it/s]"
          ],
          "name": "stderr"
        },
        {
          "output_type": "stream",
          "text": [
            "\n",
            "Epoch 3 of 100, 43.89 s, with average training loss: 2.32946612, and validation loss: 2.31649727, validation accuracy: 9.59\n",
            "Epoch 4 starting at: 14:31:52\n"
          ],
          "name": "stdout"
        },
        {
          "output_type": "stream",
          "text": [
            "100%|██████████| 157/157 [00:38<00:00,  4.09it/s]\n",
            "100%|██████████| 40/40 [00:05<00:00,  7.31it/s]\n",
            "  0%|          | 0/157 [00:00<?, ?it/s]"
          ],
          "name": "stderr"
        },
        {
          "output_type": "stream",
          "text": [
            "\n",
            "Epoch 4 of 100, 43.83 s, with average training loss: 2.32628691, and validation loss: 2.31510105, validation accuracy: 9.59\n",
            "Epoch 5 starting at: 14:32:36\n"
          ],
          "name": "stdout"
        },
        {
          "output_type": "stream",
          "text": [
            "100%|██████████| 157/157 [00:38<00:00,  4.08it/s]\n",
            "100%|██████████| 40/40 [00:05<00:00,  7.28it/s]\n",
            "  0%|          | 0/157 [00:00<?, ?it/s]"
          ],
          "name": "stderr"
        },
        {
          "output_type": "stream",
          "text": [
            "\n",
            "Epoch 5 of 100, 43.95 s, with average training loss: 2.32262443, and validation loss: 2.31531956, validation accuracy: 9.73\n",
            "Epoch 6 starting at: 14:33:20\n"
          ],
          "name": "stdout"
        },
        {
          "output_type": "stream",
          "text": [
            "100%|██████████| 157/157 [00:38<00:00,  4.07it/s]\n",
            "100%|██████████| 40/40 [00:05<00:00,  7.34it/s]\n",
            "  0%|          | 0/157 [00:00<?, ?it/s]"
          ],
          "name": "stderr"
        },
        {
          "output_type": "stream",
          "text": [
            "\n",
            "Epoch 6 of 100, 44.00 s, with average training loss: 2.23873105, and validation loss: 2.07756352, validation accuracy: 20.13\n",
            "Epoch 7 starting at: 14:34:04\n"
          ],
          "name": "stdout"
        },
        {
          "output_type": "stream",
          "text": [
            "100%|██████████| 157/157 [00:38<00:00,  4.07it/s]\n",
            "100%|██████████| 40/40 [00:05<00:00,  7.21it/s]\n",
            "  0%|          | 0/157 [00:00<?, ?it/s]"
          ],
          "name": "stderr"
        },
        {
          "output_type": "stream",
          "text": [
            "\n",
            "Epoch 7 of 100, 44.17 s, with average training loss: 1.97148866, and validation loss: 1.80280749, validation accuracy: 31.48\n",
            "Epoch 8 starting at: 14:34:48\n"
          ],
          "name": "stdout"
        },
        {
          "output_type": "stream",
          "text": [
            "100%|██████████| 157/157 [00:38<00:00,  4.06it/s]\n",
            "100%|██████████| 40/40 [00:05<00:00,  7.26it/s]\n",
            "  0%|          | 0/157 [00:00<?, ?it/s]"
          ],
          "name": "stderr"
        },
        {
          "output_type": "stream",
          "text": [
            "\n",
            "Epoch 8 of 100, 44.22 s, with average training loss: 1.78662178, and validation loss: 1.67600571, validation accuracy: 35.30\n",
            "Epoch 9 starting at: 14:35:32\n"
          ],
          "name": "stdout"
        },
        {
          "output_type": "stream",
          "text": [
            "100%|██████████| 157/157 [00:38<00:00,  4.04it/s]\n",
            "100%|██████████| 40/40 [00:05<00:00,  7.21it/s]\n",
            "  0%|          | 0/157 [00:00<?, ?it/s]"
          ],
          "name": "stderr"
        },
        {
          "output_type": "stream",
          "text": [
            "\n",
            "Epoch 9 of 100, 44.39 s, with average training loss: 1.67337535, and validation loss: 1.57817476, validation accuracy: 39.58\n",
            "Epoch 10 starting at: 14:36:17\n"
          ],
          "name": "stdout"
        },
        {
          "output_type": "stream",
          "text": [
            "100%|██████████| 157/157 [00:39<00:00,  4.02it/s]\n",
            "100%|██████████| 40/40 [00:05<00:00,  7.16it/s]\n",
            "  0%|          | 0/157 [00:00<?, ?it/s]"
          ],
          "name": "stderr"
        },
        {
          "output_type": "stream",
          "text": [
            "\n",
            "Epoch 10 of 100, 44.63 s, with average training loss: 1.55752209, and validation loss: 1.52866386, validation accuracy: 41.36\n",
            "Epoch 11 starting at: 14:37:01\n"
          ],
          "name": "stdout"
        },
        {
          "output_type": "stream",
          "text": [
            "100%|██████████| 157/157 [00:39<00:00,  4.02it/s]\n",
            "100%|██████████| 40/40 [00:05<00:00,  7.23it/s]\n",
            "  0%|          | 0/157 [00:00<?, ?it/s]"
          ],
          "name": "stderr"
        },
        {
          "output_type": "stream",
          "text": [
            "\n",
            "Epoch 11 of 100, 44.56 s, with average training loss: 1.43910773, and validation loss: 1.34967797, validation accuracy: 48.81\n",
            "Epoch 12 starting at: 14:37:46\n"
          ],
          "name": "stdout"
        },
        {
          "output_type": "stream",
          "text": [
            "100%|██████████| 157/157 [00:38<00:00,  4.03it/s]\n",
            "100%|██████████| 40/40 [00:05<00:00,  7.27it/s]\n",
            "  0%|          | 0/157 [00:00<?, ?it/s]"
          ],
          "name": "stderr"
        },
        {
          "output_type": "stream",
          "text": [
            "\n",
            "Epoch 12 of 100, 44.45 s, with average training loss: 1.33949384, and validation loss: 1.33012102, validation accuracy: 52.66\n",
            "Epoch 13 starting at: 14:38:30\n"
          ],
          "name": "stdout"
        },
        {
          "output_type": "stream",
          "text": [
            "100%|██████████| 157/157 [00:38<00:00,  4.04it/s]\n",
            "100%|██████████| 40/40 [00:05<00:00,  7.16it/s]\n",
            "  0%|          | 0/157 [00:00<?, ?it/s]"
          ],
          "name": "stderr"
        },
        {
          "output_type": "stream",
          "text": [
            "\n",
            "Epoch 13 of 100, 44.44 s, with average training loss: 1.23440437, and validation loss: 1.16170089, validation accuracy: 58.64\n",
            "Epoch 14 starting at: 14:39:15\n"
          ],
          "name": "stdout"
        },
        {
          "output_type": "stream",
          "text": [
            "100%|██████████| 157/157 [00:38<00:00,  4.03it/s]\n",
            "100%|██████████| 40/40 [00:05<00:00,  7.19it/s]\n",
            "  0%|          | 0/157 [00:00<?, ?it/s]"
          ],
          "name": "stderr"
        },
        {
          "output_type": "stream",
          "text": [
            "\n",
            "Epoch 14 of 100, 44.52 s, with average training loss: 1.15197386, and validation loss: 1.60330617, validation accuracy: 42.16\n",
            "Epoch 15 starting at: 14:39:59\n"
          ],
          "name": "stdout"
        },
        {
          "output_type": "stream",
          "text": [
            "100%|██████████| 157/157 [00:38<00:00,  4.04it/s]\n",
            "100%|██████████| 40/40 [00:05<00:00,  7.15it/s]\n",
            "  0%|          | 0/157 [00:00<?, ?it/s]"
          ],
          "name": "stderr"
        },
        {
          "output_type": "stream",
          "text": [
            "\n",
            "Epoch 15 of 100, 44.47 s, with average training loss: 1.06695836, and validation loss: 1.47956622, validation accuracy: 48.23\n",
            "Epoch 16 starting at: 14:40:44\n"
          ],
          "name": "stdout"
        },
        {
          "output_type": "stream",
          "text": [
            "100%|██████████| 157/157 [00:38<00:00,  4.04it/s]\n",
            "100%|██████████| 40/40 [00:05<00:00,  7.15it/s]\n",
            "  0%|          | 0/157 [00:00<?, ?it/s]"
          ],
          "name": "stderr"
        },
        {
          "output_type": "stream",
          "text": [
            "\n",
            "Epoch 16 of 100, 44.45 s, with average training loss: 0.99972630, and validation loss: 1.10644336, validation accuracy: 60.48\n",
            "Epoch 17 starting at: 14:41:28\n"
          ],
          "name": "stdout"
        },
        {
          "output_type": "stream",
          "text": [
            "100%|██████████| 157/157 [00:39<00:00,  4.02it/s]\n",
            "100%|██████████| 40/40 [00:05<00:00,  7.04it/s]\n",
            "  0%|          | 0/157 [00:00<?, ?it/s]"
          ],
          "name": "stderr"
        },
        {
          "output_type": "stream",
          "text": [
            "\n",
            "Epoch 17 of 100, 44.75 s, with average training loss: 0.91299616, and validation loss: 0.95558197, validation accuracy: 66.45\n",
            "Epoch 18 starting at: 14:42:13\n"
          ],
          "name": "stdout"
        },
        {
          "output_type": "stream",
          "text": [
            "100%|██████████| 157/157 [00:39<00:00,  4.02it/s]\n",
            "100%|██████████| 40/40 [00:05<00:00,  7.12it/s]\n",
            "  0%|          | 0/157 [00:00<?, ?it/s]"
          ],
          "name": "stderr"
        },
        {
          "output_type": "stream",
          "text": [
            "\n",
            "Epoch 18 of 100, 44.64 s, with average training loss: 0.84585902, and validation loss: 0.86089005, validation accuracy: 68.72\n",
            "Epoch 19 starting at: 14:42:58\n"
          ],
          "name": "stdout"
        },
        {
          "output_type": "stream",
          "text": [
            "100%|██████████| 157/157 [00:39<00:00,  4.02it/s]\n",
            "100%|██████████| 40/40 [00:05<00:00,  7.14it/s]\n",
            "  0%|          | 0/157 [00:00<?, ?it/s]"
          ],
          "name": "stderr"
        },
        {
          "output_type": "stream",
          "text": [
            "\n",
            "Epoch 19 of 100, 44.67 s, with average training loss: 0.79526486, and validation loss: 1.10546094, validation accuracy: 63.17\n",
            "Epoch 20 starting at: 14:43:42\n"
          ],
          "name": "stdout"
        },
        {
          "output_type": "stream",
          "text": [
            "100%|██████████| 157/157 [00:38<00:00,  4.03it/s]\n",
            "100%|██████████| 40/40 [00:05<00:00,  7.15it/s]\n",
            "  0%|          | 0/157 [00:00<?, ?it/s]"
          ],
          "name": "stderr"
        },
        {
          "output_type": "stream",
          "text": [
            "\n",
            "Epoch 20 of 100, 44.56 s, with average training loss: 0.74189570, and validation loss: 0.73655490, validation accuracy: 73.42\n",
            "Epoch 21 starting at: 14:44:27\n"
          ],
          "name": "stdout"
        },
        {
          "output_type": "stream",
          "text": [
            "100%|██████████| 157/157 [00:39<00:00,  4.02it/s]\n",
            "100%|██████████| 40/40 [00:05<00:00,  7.09it/s]\n",
            "  0%|          | 0/157 [00:00<?, ?it/s]"
          ],
          "name": "stderr"
        },
        {
          "output_type": "stream",
          "text": [
            "\n",
            "Epoch 21 of 100, 44.68 s, with average training loss: 0.68788586, and validation loss: 0.96952621, validation accuracy: 68.78\n",
            "Epoch 22 starting at: 14:45:12\n"
          ],
          "name": "stdout"
        },
        {
          "output_type": "stream",
          "text": [
            "100%|██████████| 157/157 [00:38<00:00,  4.03it/s]\n",
            "100%|██████████| 40/40 [00:05<00:00,  7.20it/s]\n",
            "  0%|          | 0/157 [00:00<?, ?it/s]"
          ],
          "name": "stderr"
        },
        {
          "output_type": "stream",
          "text": [
            "\n",
            "Epoch 22 of 100, 44.55 s, with average training loss: 0.63855497, and validation loss: 0.82912556, validation accuracy: 71.70\n",
            "Epoch 23 starting at: 14:45:56\n"
          ],
          "name": "stdout"
        },
        {
          "output_type": "stream",
          "text": [
            "100%|██████████| 157/157 [00:39<00:00,  4.01it/s]\n",
            "100%|██████████| 40/40 [00:05<00:00,  7.09it/s]\n",
            "  0%|          | 0/157 [00:00<?, ?it/s]"
          ],
          "name": "stderr"
        },
        {
          "output_type": "stream",
          "text": [
            "\n",
            "Epoch 23 of 100, 44.84 s, with average training loss: 0.59477520, and validation loss: 0.82481363, validation accuracy: 72.24\n",
            "Epoch 24 starting at: 14:46:41\n"
          ],
          "name": "stdout"
        },
        {
          "output_type": "stream",
          "text": [
            "100%|██████████| 157/157 [00:39<00:00,  3.99it/s]\n",
            "100%|██████████| 40/40 [00:05<00:00,  6.96it/s]\n",
            "  0%|          | 0/157 [00:00<?, ?it/s]"
          ],
          "name": "stderr"
        },
        {
          "output_type": "stream",
          "text": [
            "\n",
            "Epoch 24 of 100, 45.13 s, with average training loss: 0.54956910, and validation loss: 0.71628248, validation accuracy: 75.51\n",
            "Epoch 25 starting at: 14:47:26\n"
          ],
          "name": "stdout"
        },
        {
          "output_type": "stream",
          "text": [
            "100%|██████████| 157/157 [00:39<00:00,  3.98it/s]\n",
            "100%|██████████| 40/40 [00:05<00:00,  7.05it/s]\n",
            "  0%|          | 0/157 [00:00<?, ?it/s]"
          ],
          "name": "stderr"
        },
        {
          "output_type": "stream",
          "text": [
            "\n",
            "Epoch 25 of 100, 45.14 s, with average training loss: 0.51511768, and validation loss: 0.80221723, validation accuracy: 73.92\n",
            "Epoch 26 starting at: 14:48:11\n"
          ],
          "name": "stdout"
        },
        {
          "output_type": "stream",
          "text": [
            "100%|██████████| 157/157 [00:39<00:00,  4.02it/s]\n",
            "100%|██████████| 40/40 [00:05<00:00,  7.18it/s]\n",
            "  0%|          | 0/157 [00:00<?, ?it/s]"
          ],
          "name": "stderr"
        },
        {
          "output_type": "stream",
          "text": [
            "\n",
            "Epoch 26 of 100, 44.67 s, with average training loss: 0.47523117, and validation loss: 0.75857886, validation accuracy: 75.76\n",
            "Epoch 27 starting at: 14:48:56\n"
          ],
          "name": "stdout"
        },
        {
          "output_type": "stream",
          "text": [
            "100%|██████████| 157/157 [00:39<00:00,  4.01it/s]\n",
            "100%|██████████| 40/40 [00:05<00:00,  7.07it/s]\n",
            "  0%|          | 0/157 [00:00<?, ?it/s]"
          ],
          "name": "stderr"
        },
        {
          "output_type": "stream",
          "text": [
            "\n",
            "Epoch 27 of 100, 44.81 s, with average training loss: 0.45160982, and validation loss: 0.75959545, validation accuracy: 76.64\n",
            "Epoch 28 starting at: 14:49:41\n"
          ],
          "name": "stdout"
        },
        {
          "output_type": "stream",
          "text": [
            "100%|██████████| 157/157 [00:39<00:00,  4.01it/s]\n",
            "100%|██████████| 40/40 [00:05<00:00,  7.10it/s]\n",
            "  0%|          | 0/157 [00:00<?, ?it/s]"
          ],
          "name": "stderr"
        },
        {
          "output_type": "stream",
          "text": [
            "\n",
            "Epoch 28 of 100, 44.83 s, with average training loss: 0.41705635, and validation loss: 0.69882776, validation accuracy: 77.82\n",
            "Epoch 29 starting at: 14:50:26\n"
          ],
          "name": "stdout"
        },
        {
          "output_type": "stream",
          "text": [
            "100%|██████████| 157/157 [00:39<00:00,  4.02it/s]\n",
            "100%|██████████| 40/40 [00:05<00:00,  7.10it/s]\n",
            "  0%|          | 0/157 [00:00<?, ?it/s]"
          ],
          "name": "stderr"
        },
        {
          "output_type": "stream",
          "text": [
            "\n",
            "Epoch 29 of 100, 44.69 s, with average training loss: 0.38168254, and validation loss: 0.69215660, validation accuracy: 78.01\n",
            "Epoch 30 starting at: 14:51:10\n"
          ],
          "name": "stdout"
        },
        {
          "output_type": "stream",
          "text": [
            "100%|██████████| 157/157 [00:39<00:00,  4.00it/s]\n",
            "100%|██████████| 40/40 [00:05<00:00,  7.13it/s]\n",
            "  0%|          | 0/157 [00:00<?, ?it/s]"
          ],
          "name": "stderr"
        },
        {
          "output_type": "stream",
          "text": [
            "\n",
            "Epoch 30 of 100, 44.82 s, with average training loss: 0.35341074, and validation loss: 0.76765730, validation accuracy: 75.28\n",
            "Epoch 31 starting at: 14:51:55\n"
          ],
          "name": "stdout"
        },
        {
          "output_type": "stream",
          "text": [
            "100%|██████████| 157/157 [00:39<00:00,  4.02it/s]\n",
            "100%|██████████| 40/40 [00:05<00:00,  7.18it/s]\n",
            "  0%|          | 0/157 [00:00<?, ?it/s]"
          ],
          "name": "stderr"
        },
        {
          "output_type": "stream",
          "text": [
            "\n",
            "Epoch 31 of 100, 44.64 s, with average training loss: 0.31950838, and validation loss: 0.65961500, validation accuracy: 79.48\n",
            "Epoch 32 starting at: 14:52:40\n"
          ],
          "name": "stdout"
        },
        {
          "output_type": "stream",
          "text": [
            "100%|██████████| 157/157 [00:39<00:00,  4.01it/s]\n",
            "100%|██████████| 40/40 [00:05<00:00,  7.19it/s]\n",
            "  0%|          | 0/157 [00:00<?, ?it/s]"
          ],
          "name": "stderr"
        },
        {
          "output_type": "stream",
          "text": [
            "\n",
            "Epoch 32 of 100, 44.69 s, with average training loss: 0.29287251, and validation loss: 0.65847265, validation accuracy: 79.44\n",
            "Epoch 33 starting at: 14:53:24\n"
          ],
          "name": "stdout"
        },
        {
          "output_type": "stream",
          "text": [
            "100%|██████████| 157/157 [00:39<00:00,  4.02it/s]\n",
            "100%|██████████| 40/40 [00:05<00:00,  7.14it/s]\n",
            "  0%|          | 0/157 [00:00<?, ?it/s]"
          ],
          "name": "stderr"
        },
        {
          "output_type": "stream",
          "text": [
            "\n",
            "Epoch 33 of 100, 44.70 s, with average training loss: 0.27208475, and validation loss: 0.71665449, validation accuracy: 79.22\n",
            "Epoch 34 starting at: 14:54:09\n"
          ],
          "name": "stdout"
        },
        {
          "output_type": "stream",
          "text": [
            "100%|██████████| 157/157 [00:38<00:00,  4.03it/s]\n",
            "100%|██████████| 40/40 [00:05<00:00,  7.14it/s]\n",
            "  0%|          | 0/157 [00:00<?, ?it/s]"
          ],
          "name": "stderr"
        },
        {
          "output_type": "stream",
          "text": [
            "\n",
            "Epoch 34 of 100, 44.53 s, with average training loss: 0.24794983, and validation loss: 0.79332941, validation accuracy: 78.73\n",
            "Epoch 35 starting at: 14:54:54\n"
          ],
          "name": "stdout"
        },
        {
          "output_type": "stream",
          "text": [
            "100%|██████████| 157/157 [00:38<00:00,  4.03it/s]\n",
            "100%|██████████| 40/40 [00:05<00:00,  7.10it/s]\n",
            "  0%|          | 0/157 [00:00<?, ?it/s]"
          ],
          "name": "stderr"
        },
        {
          "output_type": "stream",
          "text": [
            "\n",
            "Epoch 35 of 100, 44.55 s, with average training loss: 0.22676689, and validation loss: 0.65502792, validation accuracy: 80.94\n",
            "Epoch 36 starting at: 14:55:38\n"
          ],
          "name": "stdout"
        },
        {
          "output_type": "stream",
          "text": [
            "100%|██████████| 157/157 [00:38<00:00,  4.03it/s]\n",
            "100%|██████████| 40/40 [00:05<00:00,  7.17it/s]\n",
            "  0%|          | 0/157 [00:00<?, ?it/s]"
          ],
          "name": "stderr"
        },
        {
          "output_type": "stream",
          "text": [
            "\n",
            "Epoch 36 of 100, 44.52 s, with average training loss: 0.20385540, and validation loss: 0.72643152, validation accuracy: 79.86\n",
            "Epoch 37 starting at: 14:56:23\n"
          ],
          "name": "stdout"
        },
        {
          "output_type": "stream",
          "text": [
            "100%|██████████| 157/157 [00:38<00:00,  4.03it/s]\n",
            "100%|██████████| 40/40 [00:05<00:00,  7.11it/s]\n",
            "  0%|          | 0/157 [00:00<?, ?it/s]"
          ],
          "name": "stderr"
        },
        {
          "output_type": "stream",
          "text": [
            "\n",
            "Epoch 37 of 100, 44.56 s, with average training loss: 0.19253145, and validation loss: 0.79821002, validation accuracy: 78.30\n",
            "Epoch 38 starting at: 14:57:07\n"
          ],
          "name": "stdout"
        },
        {
          "output_type": "stream",
          "text": [
            "100%|██████████| 157/157 [00:38<00:00,  4.03it/s]\n",
            "100%|██████████| 40/40 [00:05<00:00,  7.20it/s]\n",
            "  0%|          | 0/157 [00:00<?, ?it/s]"
          ],
          "name": "stderr"
        },
        {
          "output_type": "stream",
          "text": [
            "\n",
            "Epoch 38 of 100, 44.55 s, with average training loss: 0.17083455, and validation loss: 0.71918908, validation accuracy: 80.84\n",
            "Epoch 39 starting at: 14:57:52\n"
          ],
          "name": "stdout"
        },
        {
          "output_type": "stream",
          "text": [
            "100%|██████████| 157/157 [00:39<00:00,  4.02it/s]\n",
            "100%|██████████| 40/40 [00:05<00:00,  7.25it/s]\n",
            "  0%|          | 0/157 [00:00<?, ?it/s]"
          ],
          "name": "stderr"
        },
        {
          "output_type": "stream",
          "text": [
            "\n",
            "Epoch 39 of 100, 44.55 s, with average training loss: 0.15245915, and validation loss: 0.78815372, validation accuracy: 79.00\n",
            "Epoch 40 starting at: 14:58:36\n"
          ],
          "name": "stdout"
        },
        {
          "output_type": "stream",
          "text": [
            "100%|██████████| 157/157 [00:38<00:00,  4.06it/s]\n",
            "100%|██████████| 40/40 [00:05<00:00,  7.28it/s]\n",
            "  0%|          | 0/157 [00:00<?, ?it/s]"
          ],
          "name": "stderr"
        },
        {
          "output_type": "stream",
          "text": [
            "\n",
            "Epoch 40 of 100, 44.15 s, with average training loss: 0.14137584, and validation loss: 0.79413763, validation accuracy: 79.75\n",
            "Epoch 41 starting at: 14:59:21\n"
          ],
          "name": "stdout"
        },
        {
          "output_type": "stream",
          "text": [
            "100%|██████████| 157/157 [00:38<00:00,  4.04it/s]\n",
            "100%|██████████| 40/40 [00:05<00:00,  7.19it/s]\n",
            "  0%|          | 0/157 [00:00<?, ?it/s]"
          ],
          "name": "stderr"
        },
        {
          "output_type": "stream",
          "text": [
            "Epoch    41: reducing learning rate of group 0 to 1.0000e-03.\n",
            "\n",
            "Epoch 41 of 100, 44.43 s, with average training loss: 0.12715586, and validation loss: 0.82021965, validation accuracy: 80.66\n",
            "Epoch 42 starting at: 15:00:05\n"
          ],
          "name": "stdout"
        },
        {
          "output_type": "stream",
          "text": [
            "100%|██████████| 157/157 [00:38<00:00,  4.07it/s]\n",
            "100%|██████████| 40/40 [00:05<00:00,  7.35it/s]\n",
            "  0%|          | 0/157 [00:00<?, ?it/s]"
          ],
          "name": "stderr"
        },
        {
          "output_type": "stream",
          "text": [
            "\n",
            "Epoch 42 of 100, 44.04 s, with average training loss: 0.04765855, and validation loss: 0.72329081, validation accuracy: 83.64\n",
            "Epoch 43 starting at: 15:00:49\n"
          ],
          "name": "stdout"
        },
        {
          "output_type": "stream",
          "text": [
            "100%|██████████| 157/157 [00:38<00:00,  4.07it/s]\n",
            "100%|██████████| 40/40 [00:05<00:00,  7.24it/s]\n",
            "  0%|          | 0/157 [00:00<?, ?it/s]"
          ],
          "name": "stderr"
        },
        {
          "output_type": "stream",
          "text": [
            "\n",
            "Epoch 43 of 100, 44.11 s, with average training loss: 0.02463602, and validation loss: 0.77886216, validation accuracy: 83.54\n",
            "Epoch 44 starting at: 15:01:33\n"
          ],
          "name": "stdout"
        },
        {
          "output_type": "stream",
          "text": [
            "100%|██████████| 157/157 [00:38<00:00,  4.07it/s]\n",
            "100%|██████████| 40/40 [00:05<00:00,  7.20it/s]\n",
            "  0%|          | 0/157 [00:00<?, ?it/s]"
          ],
          "name": "stderr"
        },
        {
          "output_type": "stream",
          "text": [
            "\n",
            "Epoch 44 of 100, 44.17 s, with average training loss: 0.01751679, and validation loss: 0.79546346, validation accuracy: 83.81\n",
            "Epoch 45 starting at: 15:02:17\n"
          ],
          "name": "stdout"
        },
        {
          "output_type": "stream",
          "text": [
            "100%|██████████| 157/157 [00:38<00:00,  4.04it/s]\n",
            "100%|██████████| 40/40 [00:05<00:00,  7.09it/s]\n",
            "  0%|          | 0/157 [00:00<?, ?it/s]"
          ],
          "name": "stderr"
        },
        {
          "output_type": "stream",
          "text": [
            "\n",
            "Epoch 45 of 100, 44.49 s, with average training loss: 0.01367830, and validation loss: 0.84089524, validation accuracy: 83.80\n",
            "Epoch 46 starting at: 15:03:02\n"
          ],
          "name": "stdout"
        },
        {
          "output_type": "stream",
          "text": [
            "100%|██████████| 157/157 [00:38<00:00,  4.05it/s]\n",
            "100%|██████████| 40/40 [00:05<00:00,  7.30it/s]\n",
            "  0%|          | 0/157 [00:00<?, ?it/s]"
          ],
          "name": "stderr"
        },
        {
          "output_type": "stream",
          "text": [
            "\n",
            "Epoch 46 of 100, 44.23 s, with average training loss: 0.01053638, and validation loss: 0.85610037, validation accuracy: 83.81\n",
            "Epoch 47 starting at: 15:03:46\n"
          ],
          "name": "stdout"
        },
        {
          "output_type": "stream",
          "text": [
            "100%|██████████| 157/157 [00:38<00:00,  4.07it/s]\n",
            "100%|██████████| 40/40 [00:05<00:00,  7.22it/s]\n",
            "  0%|          | 0/157 [00:00<?, ?it/s]"
          ],
          "name": "stderr"
        },
        {
          "output_type": "stream",
          "text": [
            "\n",
            "Epoch 47 of 100, 44.14 s, with average training loss: 0.00845967, and validation loss: 0.88832469, validation accuracy: 83.65\n",
            "Epoch 48 starting at: 15:04:30\n"
          ],
          "name": "stdout"
        },
        {
          "output_type": "stream",
          "text": [
            "100%|██████████| 157/157 [00:38<00:00,  4.08it/s]\n",
            "100%|██████████| 40/40 [00:05<00:00,  7.32it/s]\n",
            "  0%|          | 0/157 [00:00<?, ?it/s]"
          ],
          "name": "stderr"
        },
        {
          "output_type": "stream",
          "text": [
            "\n",
            "Epoch 48 of 100, 43.95 s, with average training loss: 0.00664705, and validation loss: 0.94420482, validation accuracy: 83.49\n",
            "Epoch 49 starting at: 15:05:14\n"
          ],
          "name": "stdout"
        },
        {
          "output_type": "stream",
          "text": [
            "100%|██████████| 157/157 [00:38<00:00,  4.06it/s]\n",
            "100%|██████████| 40/40 [00:05<00:00,  7.27it/s]\n",
            "  0%|          | 0/157 [00:00<?, ?it/s]"
          ],
          "name": "stderr"
        },
        {
          "output_type": "stream",
          "text": [
            "\n",
            "Epoch 49 of 100, 44.20 s, with average training loss: 0.00474640, and validation loss: 0.97424996, validation accuracy: 83.79\n",
            "Epoch 50 starting at: 15:05:58\n"
          ],
          "name": "stdout"
        },
        {
          "output_type": "stream",
          "text": [
            "100%|██████████| 157/157 [00:38<00:00,  4.04it/s]\n",
            "100%|██████████| 40/40 [00:05<00:00,  7.22it/s]\n",
            "  0%|          | 0/157 [00:00<?, ?it/s]"
          ],
          "name": "stderr"
        },
        {
          "output_type": "stream",
          "text": [
            "Epoch    50: reducing learning rate of group 0 to 1.0000e-04.\n",
            "\n",
            "Epoch 50 of 100, 44.40 s, with average training loss: 0.00480185, and validation loss: 1.01040020, validation accuracy: 83.78\n",
            "Epoch 51 starting at: 15:06:43\n"
          ],
          "name": "stdout"
        },
        {
          "output_type": "stream",
          "text": [
            "100%|██████████| 157/157 [00:38<00:00,  4.06it/s]\n",
            "100%|██████████| 40/40 [00:05<00:00,  7.32it/s]\n",
            "  0%|          | 0/157 [00:00<?, ?it/s]"
          ],
          "name": "stderr"
        },
        {
          "output_type": "stream",
          "text": [
            "\n",
            "Epoch 51 of 100, 44.14 s, with average training loss: 0.00368957, and validation loss: 0.96229709, validation accuracy: 83.63\n",
            "Epoch 52 starting at: 15:07:27\n"
          ],
          "name": "stdout"
        },
        {
          "output_type": "stream",
          "text": [
            "100%|██████████| 157/157 [00:39<00:00,  4.03it/s]\n",
            "100%|██████████| 40/40 [00:05<00:00,  7.13it/s]\n",
            "  0%|          | 0/157 [00:00<?, ?it/s]"
          ],
          "name": "stderr"
        },
        {
          "output_type": "stream",
          "text": [
            "\n",
            "Epoch 52 of 100, 44.62 s, with average training loss: 0.00333530, and validation loss: 0.97087610, validation accuracy: 83.63\n",
            "Epoch 53 starting at: 15:08:11\n"
          ],
          "name": "stdout"
        },
        {
          "output_type": "stream",
          "text": [
            "100%|██████████| 157/157 [00:39<00:00,  4.02it/s]\n",
            "100%|██████████| 40/40 [00:05<00:00,  7.13it/s]\n",
            "  0%|          | 0/157 [00:00<?, ?it/s]"
          ],
          "name": "stderr"
        },
        {
          "output_type": "stream",
          "text": [
            "\n",
            "Epoch 53 of 100, 44.72 s, with average training loss: 0.00321898, and validation loss: 0.93982275, validation accuracy: 84.10\n",
            "Epoch 54 starting at: 15:08:56\n"
          ],
          "name": "stdout"
        },
        {
          "output_type": "stream",
          "text": [
            "100%|██████████| 157/157 [00:38<00:00,  4.06it/s]\n",
            "100%|██████████| 40/40 [00:05<00:00,  7.38it/s]\n",
            "  0%|          | 0/157 [00:00<?, ?it/s]"
          ],
          "name": "stderr"
        },
        {
          "output_type": "stream",
          "text": [
            "\n",
            "Epoch 54 of 100, 44.11 s, with average training loss: 0.00314944, and validation loss: 0.97221048, validation accuracy: 83.64\n",
            "Epoch 55 starting at: 15:09:40\n"
          ],
          "name": "stdout"
        },
        {
          "output_type": "stream",
          "text": [
            "100%|██████████| 157/157 [00:38<00:00,  4.09it/s]\n",
            "100%|██████████| 40/40 [00:05<00:00,  7.27it/s]\n",
            "  0%|          | 0/157 [00:00<?, ?it/s]"
          ],
          "name": "stderr"
        },
        {
          "output_type": "stream",
          "text": [
            "\n",
            "Epoch 55 of 100, 43.90 s, with average training loss: 0.00323120, and validation loss: 0.95434923, validation accuracy: 84.15\n",
            "Epoch 56 starting at: 15:10:24\n"
          ],
          "name": "stdout"
        },
        {
          "output_type": "stream",
          "text": [
            "100%|██████████| 157/157 [00:38<00:00,  4.07it/s]\n",
            "100%|██████████| 40/40 [00:05<00:00,  7.27it/s]\n",
            "  0%|          | 0/157 [00:00<?, ?it/s]"
          ],
          "name": "stderr"
        },
        {
          "output_type": "stream",
          "text": [
            "\n",
            "Epoch 56 of 100, 44.09 s, with average training loss: 0.00280528, and validation loss: 0.99874902, validation accuracy: 83.86\n",
            "Epoch 57 starting at: 15:11:08\n"
          ],
          "name": "stdout"
        },
        {
          "output_type": "stream",
          "text": [
            "100%|██████████| 157/157 [00:38<00:00,  4.07it/s]\n",
            "100%|██████████| 40/40 [00:05<00:00,  7.39it/s]\n",
            "  0%|          | 0/157 [00:00<?, ?it/s]"
          ],
          "name": "stderr"
        },
        {
          "output_type": "stream",
          "text": [
            "\n",
            "Epoch 57 of 100, 43.95 s, with average training loss: 0.00307588, and validation loss: 0.97717297, validation accuracy: 83.88\n",
            "Epoch 58 starting at: 15:11:52\n"
          ],
          "name": "stdout"
        },
        {
          "output_type": "stream",
          "text": [
            "100%|██████████| 157/157 [00:38<00:00,  4.11it/s]\n",
            "100%|██████████| 40/40 [00:05<00:00,  7.39it/s]\n",
            "  0%|          | 0/157 [00:00<?, ?it/s]"
          ],
          "name": "stderr"
        },
        {
          "output_type": "stream",
          "text": [
            "\n",
            "Epoch 58 of 100, 43.65 s, with average training loss: 0.00288779, and validation loss: 1.02005895, validation accuracy: 84.04\n",
            "Epoch 59 starting at: 15:12:36\n"
          ],
          "name": "stdout"
        },
        {
          "output_type": "stream",
          "text": [
            "100%|██████████| 157/157 [00:38<00:00,  4.10it/s]\n",
            "100%|██████████| 40/40 [00:05<00:00,  7.37it/s]\n",
            "  0%|          | 0/157 [00:00<?, ?it/s]"
          ],
          "name": "stderr"
        },
        {
          "output_type": "stream",
          "text": [
            "\n",
            "Epoch 59 of 100, 43.77 s, with average training loss: 0.00297052, and validation loss: 1.00286747, validation accuracy: 83.90\n",
            "Epoch 60 starting at: 15:13:20\n"
          ],
          "name": "stdout"
        },
        {
          "output_type": "stream",
          "text": [
            "100%|██████████| 157/157 [00:38<00:00,  4.10it/s]\n",
            "100%|██████████| 40/40 [00:05<00:00,  7.41it/s]\n",
            "  0%|          | 0/157 [00:00<?, ?it/s]"
          ],
          "name": "stderr"
        },
        {
          "output_type": "stream",
          "text": [
            "\n",
            "Epoch 60 of 100, 43.69 s, with average training loss: 0.00284448, and validation loss: 1.00230808, validation accuracy: 83.83\n",
            "Epoch 61 starting at: 15:14:03\n"
          ],
          "name": "stdout"
        },
        {
          "output_type": "stream",
          "text": [
            "100%|██████████| 157/157 [00:38<00:00,  4.11it/s]\n",
            "100%|██████████| 40/40 [00:05<00:00,  7.42it/s]\n",
            "  0%|          | 0/157 [00:00<?, ?it/s]"
          ],
          "name": "stderr"
        },
        {
          "output_type": "stream",
          "text": [
            "Epoch    61: reducing learning rate of group 0 to 1.0000e-05.\n",
            "\n",
            "Epoch 61 of 100, 43.59 s, with average training loss: 0.00256446, and validation loss: 1.02522399, validation accuracy: 83.90\n",
            "Epoch 62 starting at: 15:14:47\n"
          ],
          "name": "stdout"
        },
        {
          "output_type": "stream",
          "text": [
            "100%|██████████| 157/157 [00:38<00:00,  4.11it/s]\n",
            "100%|██████████| 40/40 [00:05<00:00,  7.36it/s]\n",
            "  0%|          | 0/157 [00:00<?, ?it/s]"
          ],
          "name": "stderr"
        },
        {
          "output_type": "stream",
          "text": [
            "\n",
            "Epoch 62 of 100, 43.68 s, with average training loss: 0.00274316, and validation loss: 0.99942652, validation accuracy: 83.56\n",
            "Epoch 63 starting at: 15:15:31\n"
          ],
          "name": "stdout"
        },
        {
          "output_type": "stream",
          "text": [
            "100%|██████████| 157/157 [00:38<00:00,  4.11it/s]\n",
            "100%|██████████| 40/40 [00:05<00:00,  7.39it/s]\n",
            "  0%|          | 0/157 [00:00<?, ?it/s]"
          ],
          "name": "stderr"
        },
        {
          "output_type": "stream",
          "text": [
            "\n",
            "Epoch 63 of 100, 43.64 s, with average training loss: 0.00266821, and validation loss: 0.98735239, validation accuracy: 83.75\n",
            "Epoch 64 starting at: 15:16:14\n"
          ],
          "name": "stdout"
        },
        {
          "output_type": "stream",
          "text": [
            "100%|██████████| 157/157 [00:38<00:00,  4.10it/s]\n",
            "100%|██████████| 40/40 [00:05<00:00,  7.48it/s]\n",
            "  0%|          | 0/157 [00:00<?, ?it/s]"
          ],
          "name": "stderr"
        },
        {
          "output_type": "stream",
          "text": [
            "\n",
            "Epoch 64 of 100, 43.68 s, with average training loss: 0.00280355, and validation loss: 1.02276658, validation accuracy: 83.91\n",
            "Epoch 65 starting at: 15:16:58\n"
          ],
          "name": "stdout"
        },
        {
          "output_type": "stream",
          "text": [
            "100%|██████████| 157/157 [00:38<00:00,  4.10it/s]\n",
            "100%|██████████| 40/40 [00:05<00:00,  7.36it/s]\n",
            "  0%|          | 0/157 [00:00<?, ?it/s]"
          ],
          "name": "stderr"
        },
        {
          "output_type": "stream",
          "text": [
            "\n",
            "Epoch 65 of 100, 43.72 s, with average training loss: 0.00271291, and validation loss: 0.97079772, validation accuracy: 83.82\n",
            "Epoch 66 starting at: 15:17:42\n"
          ],
          "name": "stdout"
        },
        {
          "output_type": "stream",
          "text": [
            "100%|██████████| 157/157 [00:38<00:00,  4.11it/s]\n",
            "100%|██████████| 40/40 [00:05<00:00,  7.37it/s]\n",
            "  0%|          | 0/157 [00:00<?, ?it/s]"
          ],
          "name": "stderr"
        },
        {
          "output_type": "stream",
          "text": [
            "\n",
            "Epoch 66 of 100, 43.65 s, with average training loss: 0.00240742, and validation loss: 1.02769845, validation accuracy: 83.84\n",
            "Epoch 67 starting at: 15:18:25\n"
          ],
          "name": "stdout"
        },
        {
          "output_type": "stream",
          "text": [
            "100%|██████████| 157/157 [00:38<00:00,  4.10it/s]\n",
            "100%|██████████| 40/40 [00:05<00:00,  7.39it/s]\n",
            "  0%|          | 0/157 [00:00<?, ?it/s]"
          ],
          "name": "stderr"
        },
        {
          "output_type": "stream",
          "text": [
            "Epoch    67: reducing learning rate of group 0 to 1.0000e-06.\n",
            "\n",
            "Epoch 67 of 100, 43.75 s, with average training loss: 0.00272691, and validation loss: 0.97910701, validation accuracy: 83.71\n",
            "Epoch 68 starting at: 15:19:09\n"
          ],
          "name": "stdout"
        },
        {
          "output_type": "stream",
          "text": [
            "100%|██████████| 157/157 [00:38<00:00,  4.11it/s]\n",
            "100%|██████████| 40/40 [00:05<00:00,  7.38it/s]\n",
            "  0%|          | 0/157 [00:00<?, ?it/s]"
          ],
          "name": "stderr"
        },
        {
          "output_type": "stream",
          "text": [
            "\n",
            "Epoch 68 of 100, 43.64 s, with average training loss: 0.00261691, and validation loss: 1.06398278, validation accuracy: 83.88\n",
            "Epoch 69 starting at: 15:19:53\n"
          ],
          "name": "stdout"
        },
        {
          "output_type": "stream",
          "text": [
            "100%|██████████| 157/157 [00:38<00:00,  4.12it/s]\n",
            "100%|██████████| 40/40 [00:05<00:00,  7.39it/s]\n",
            "  0%|          | 0/157 [00:00<?, ?it/s]"
          ],
          "name": "stderr"
        },
        {
          "output_type": "stream",
          "text": [
            "\n",
            "Epoch 69 of 100, 43.56 s, with average training loss: 0.00250459, and validation loss: 0.99579680, validation accuracy: 83.73\n",
            "Epoch 70 starting at: 15:20:36\n"
          ],
          "name": "stdout"
        },
        {
          "output_type": "stream",
          "text": [
            "100%|██████████| 157/157 [00:38<00:00,  4.11it/s]\n",
            "100%|██████████| 40/40 [00:05<00:00,  7.39it/s]\n",
            "  0%|          | 0/157 [00:00<?, ?it/s]"
          ],
          "name": "stderr"
        },
        {
          "output_type": "stream",
          "text": [
            "\n",
            "Epoch 70 of 100, 43.58 s, with average training loss: 0.00274005, and validation loss: 1.01116736, validation accuracy: 83.51\n",
            "Epoch 71 starting at: 15:21:20\n"
          ],
          "name": "stdout"
        },
        {
          "output_type": "stream",
          "text": [
            "100%|██████████| 157/157 [00:38<00:00,  4.11it/s]\n",
            "100%|██████████| 40/40 [00:05<00:00,  7.35it/s]\n",
            "  0%|          | 0/157 [00:00<?, ?it/s]"
          ],
          "name": "stderr"
        },
        {
          "output_type": "stream",
          "text": [
            "\n",
            "Epoch 71 of 100, 43.66 s, with average training loss: 0.00282537, and validation loss: 1.03617435, validation accuracy: 83.84\n",
            "Epoch 72 starting at: 15:22:03\n"
          ],
          "name": "stdout"
        },
        {
          "output_type": "stream",
          "text": [
            "100%|██████████| 157/157 [00:38<00:00,  4.11it/s]\n",
            "100%|██████████| 40/40 [00:05<00:00,  7.43it/s]\n",
            "  0%|          | 0/157 [00:00<?, ?it/s]"
          ],
          "name": "stderr"
        },
        {
          "output_type": "stream",
          "text": [
            "\n",
            "Epoch 72 of 100, 43.63 s, with average training loss: 0.00267421, and validation loss: 0.98000917, validation accuracy: 83.71\n",
            "Epoch 73 starting at: 15:22:47\n"
          ],
          "name": "stdout"
        },
        {
          "output_type": "stream",
          "text": [
            "100%|██████████| 157/157 [00:38<00:00,  4.11it/s]\n",
            "100%|██████████| 40/40 [00:05<00:00,  7.46it/s]\n",
            "  0%|          | 0/157 [00:00<?, ?it/s]"
          ],
          "name": "stderr"
        },
        {
          "output_type": "stream",
          "text": [
            "Epoch    73: reducing learning rate of group 0 to 1.0000e-07.\n",
            "\n",
            "Epoch 73 of 100, 43.61 s, with average training loss: 0.00273382, and validation loss: 0.99411612, validation accuracy: 83.96\n",
            "Epoch 74 starting at: 15:23:31\n"
          ],
          "name": "stdout"
        },
        {
          "output_type": "stream",
          "text": [
            "100%|██████████| 157/157 [00:38<00:00,  4.12it/s]\n",
            "100%|██████████| 40/40 [00:05<00:00,  7.33it/s]\n",
            "  0%|          | 0/157 [00:00<?, ?it/s]"
          ],
          "name": "stderr"
        },
        {
          "output_type": "stream",
          "text": [
            "\n",
            "Epoch 74 of 100, 43.60 s, with average training loss: 0.00261281, and validation loss: 0.99323777, validation accuracy: 84.08\n",
            "Epoch 75 starting at: 15:24:14\n"
          ],
          "name": "stdout"
        },
        {
          "output_type": "stream",
          "text": [
            "100%|██████████| 157/157 [00:38<00:00,  4.10it/s]\n",
            "100%|██████████| 40/40 [00:05<00:00,  7.36it/s]\n",
            "  0%|          | 0/157 [00:00<?, ?it/s]"
          ],
          "name": "stderr"
        },
        {
          "output_type": "stream",
          "text": [
            "\n",
            "Epoch 75 of 100, 43.72 s, with average training loss: 0.00260590, and validation loss: 1.04344793, validation accuracy: 83.83\n",
            "Epoch 76 starting at: 15:24:58\n"
          ],
          "name": "stdout"
        },
        {
          "output_type": "stream",
          "text": [
            "100%|██████████| 157/157 [00:38<00:00,  4.11it/s]\n",
            "100%|██████████| 40/40 [00:05<00:00,  7.50it/s]\n",
            "  0%|          | 0/157 [00:00<?, ?it/s]"
          ],
          "name": "stderr"
        },
        {
          "output_type": "stream",
          "text": [
            "\n",
            "Epoch 76 of 100, 43.53 s, with average training loss: 0.00293260, and validation loss: 0.96757509, validation accuracy: 83.92\n",
            "Epoch 77 starting at: 15:25:42\n"
          ],
          "name": "stdout"
        },
        {
          "output_type": "stream",
          "text": [
            "100%|██████████| 157/157 [00:38<00:00,  4.12it/s]\n",
            "100%|██████████| 40/40 [00:05<00:00,  7.44it/s]\n",
            "  0%|          | 0/157 [00:00<?, ?it/s]"
          ],
          "name": "stderr"
        },
        {
          "output_type": "stream",
          "text": [
            "\n",
            "Epoch 77 of 100, 43.53 s, with average training loss: 0.00285561, and validation loss: 0.97238317, validation accuracy: 84.14\n",
            "Epoch 78 starting at: 15:26:25\n"
          ],
          "name": "stdout"
        },
        {
          "output_type": "stream",
          "text": [
            "100%|██████████| 157/157 [00:38<00:00,  4.13it/s]\n",
            "100%|██████████| 40/40 [00:05<00:00,  7.41it/s]\n",
            "  0%|          | 0/157 [00:00<?, ?it/s]"
          ],
          "name": "stderr"
        },
        {
          "output_type": "stream",
          "text": [
            "\n",
            "Epoch 78 of 100, 43.44 s, with average training loss: 0.00263995, and validation loss: 1.02127905, validation accuracy: 83.93\n",
            "Epoch 79 starting at: 15:27:09\n"
          ],
          "name": "stdout"
        },
        {
          "output_type": "stream",
          "text": [
            "100%|██████████| 157/157 [00:37<00:00,  4.14it/s]\n",
            "100%|██████████| 40/40 [00:05<00:00,  7.40it/s]\n",
            "  0%|          | 0/157 [00:00<?, ?it/s]"
          ],
          "name": "stderr"
        },
        {
          "output_type": "stream",
          "text": [
            "Epoch    79: reducing learning rate of group 0 to 1.0000e-08.\n",
            "\n",
            "Epoch 79 of 100, 43.35 s, with average training loss: 0.00285760, and validation loss: 0.99233438, validation accuracy: 84.04\n",
            "Epoch 80 starting at: 15:27:52\n"
          ],
          "name": "stdout"
        },
        {
          "output_type": "stream",
          "text": [
            "100%|██████████| 157/157 [00:37<00:00,  4.14it/s]\n",
            "100%|██████████| 40/40 [00:05<00:00,  7.47it/s]\n",
            "  0%|          | 0/157 [00:00<?, ?it/s]"
          ],
          "name": "stderr"
        },
        {
          "output_type": "stream",
          "text": [
            "\n",
            "Epoch 80 of 100, 43.27 s, with average training loss: 0.00266121, and validation loss: 1.05957682, validation accuracy: 83.85\n",
            "Epoch 81 starting at: 15:28:35\n"
          ],
          "name": "stdout"
        },
        {
          "output_type": "stream",
          "text": [
            "100%|██████████| 157/157 [00:37<00:00,  4.15it/s]\n",
            "100%|██████████| 40/40 [00:05<00:00,  7.49it/s]\n",
            "  0%|          | 0/157 [00:00<?, ?it/s]"
          ],
          "name": "stderr"
        },
        {
          "output_type": "stream",
          "text": [
            "\n",
            "Epoch 81 of 100, 43.13 s, with average training loss: 0.00251463, and validation loss: 0.99103939, validation accuracy: 83.72\n",
            "Epoch 82 starting at: 15:29:18\n"
          ],
          "name": "stdout"
        },
        {
          "output_type": "stream",
          "text": [
            "100%|██████████| 157/157 [00:38<00:00,  4.13it/s]\n",
            "100%|██████████| 40/40 [00:05<00:00,  7.43it/s]\n",
            "  0%|          | 0/157 [00:00<?, ?it/s]"
          ],
          "name": "stderr"
        },
        {
          "output_type": "stream",
          "text": [
            "\n",
            "Epoch 82 of 100, 43.42 s, with average training loss: 0.00272324, and validation loss: 1.02790999, validation accuracy: 83.85\n",
            "Epoch 83 starting at: 15:30:02\n"
          ],
          "name": "stdout"
        },
        {
          "output_type": "stream",
          "text": [
            "100%|██████████| 157/157 [00:37<00:00,  4.14it/s]\n",
            "100%|██████████| 40/40 [00:05<00:00,  7.49it/s]\n",
            "  0%|          | 0/157 [00:00<?, ?it/s]"
          ],
          "name": "stderr"
        },
        {
          "output_type": "stream",
          "text": [
            "\n",
            "Epoch 83 of 100, 43.27 s, with average training loss: 0.00281065, and validation loss: 1.00575311, validation accuracy: 83.98\n",
            "Epoch 84 starting at: 15:30:45\n"
          ],
          "name": "stdout"
        },
        {
          "output_type": "stream",
          "text": [
            "100%|██████████| 157/157 [00:37<00:00,  4.13it/s]\n",
            "100%|██████████| 40/40 [00:05<00:00,  7.44it/s]\n",
            "  0%|          | 0/157 [00:00<?, ?it/s]"
          ],
          "name": "stderr"
        },
        {
          "output_type": "stream",
          "text": [
            "\n",
            "Epoch 84 of 100, 43.36 s, with average training loss: 0.00268085, and validation loss: 1.02288142, validation accuracy: 83.97\n",
            "Epoch 85 starting at: 15:31:28\n"
          ],
          "name": "stdout"
        },
        {
          "output_type": "stream",
          "text": [
            "100%|██████████| 157/157 [00:37<00:00,  4.13it/s]\n",
            "100%|██████████| 40/40 [00:05<00:00,  7.49it/s]\n",
            "  0%|          | 0/157 [00:00<?, ?it/s]"
          ],
          "name": "stderr"
        },
        {
          "output_type": "stream",
          "text": [
            "\n",
            "Epoch 85 of 100, 43.32 s, with average training loss: 0.00258963, and validation loss: 1.00298200, validation accuracy: 83.69\n",
            "Epoch 86 starting at: 15:32:12\n"
          ],
          "name": "stdout"
        },
        {
          "output_type": "stream",
          "text": [
            "100%|██████████| 157/157 [00:37<00:00,  4.13it/s]\n",
            "100%|██████████| 40/40 [00:05<00:00,  7.52it/s]\n",
            "  0%|          | 0/157 [00:00<?, ?it/s]"
          ],
          "name": "stderr"
        },
        {
          "output_type": "stream",
          "text": [
            "\n",
            "Epoch 86 of 100, 43.31 s, with average training loss: 0.00260293, and validation loss: 1.01334380, validation accuracy: 83.85\n",
            "Epoch 87 starting at: 15:32:55\n"
          ],
          "name": "stdout"
        },
        {
          "output_type": "stream",
          "text": [
            "100%|██████████| 157/157 [00:37<00:00,  4.14it/s]\n",
            "100%|██████████| 40/40 [00:05<00:00,  7.42it/s]\n",
            "  0%|          | 0/157 [00:00<?, ?it/s]"
          ],
          "name": "stderr"
        },
        {
          "output_type": "stream",
          "text": [
            "\n",
            "Epoch 87 of 100, 43.32 s, with average training loss: 0.00270891, and validation loss: 1.03646407, validation accuracy: 83.80\n",
            "Epoch 88 starting at: 15:33:38\n"
          ],
          "name": "stdout"
        },
        {
          "output_type": "stream",
          "text": [
            "100%|██████████| 157/157 [00:38<00:00,  4.13it/s]\n",
            "100%|██████████| 40/40 [00:05<00:00,  7.56it/s]\n",
            "  0%|          | 0/157 [00:00<?, ?it/s]"
          ],
          "name": "stderr"
        },
        {
          "output_type": "stream",
          "text": [
            "\n",
            "Epoch 88 of 100, 43.34 s, with average training loss: 0.00291523, and validation loss: 1.00099587, validation accuracy: 84.13\n",
            "Epoch 89 starting at: 15:34:22\n"
          ],
          "name": "stdout"
        },
        {
          "output_type": "stream",
          "text": [
            "100%|██████████| 157/157 [00:37<00:00,  4.14it/s]\n",
            "100%|██████████| 40/40 [00:05<00:00,  7.55it/s]\n",
            "  0%|          | 0/157 [00:00<?, ?it/s]"
          ],
          "name": "stderr"
        },
        {
          "output_type": "stream",
          "text": [
            "\n",
            "Epoch 89 of 100, 43.18 s, with average training loss: 0.00264956, and validation loss: 0.99189959, validation accuracy: 84.07\n",
            "Epoch 90 starting at: 15:35:05\n"
          ],
          "name": "stdout"
        },
        {
          "output_type": "stream",
          "text": [
            "100%|██████████| 157/157 [00:38<00:00,  4.13it/s]\n",
            "100%|██████████| 40/40 [00:05<00:00,  7.47it/s]\n",
            "  0%|          | 0/157 [00:00<?, ?it/s]"
          ],
          "name": "stderr"
        },
        {
          "output_type": "stream",
          "text": [
            "\n",
            "Epoch 90 of 100, 43.39 s, with average training loss: 0.00286853, and validation loss: 0.98894179, validation accuracy: 84.06\n",
            "Epoch 91 starting at: 15:35:48\n"
          ],
          "name": "stdout"
        },
        {
          "output_type": "stream",
          "text": [
            "100%|██████████| 157/157 [00:37<00:00,  4.14it/s]\n",
            "100%|██████████| 40/40 [00:05<00:00,  7.51it/s]\n",
            "  0%|          | 0/157 [00:00<?, ?it/s]"
          ],
          "name": "stderr"
        },
        {
          "output_type": "stream",
          "text": [
            "\n",
            "Epoch 91 of 100, 43.29 s, with average training loss: 0.00267944, and validation loss: 0.98694975, validation accuracy: 83.72\n",
            "Epoch 92 starting at: 15:36:32\n"
          ],
          "name": "stdout"
        },
        {
          "output_type": "stream",
          "text": [
            "100%|██████████| 157/157 [00:37<00:00,  4.15it/s]\n",
            "100%|██████████| 40/40 [00:05<00:00,  7.52it/s]\n",
            "  0%|          | 0/157 [00:00<?, ?it/s]"
          ],
          "name": "stderr"
        },
        {
          "output_type": "stream",
          "text": [
            "\n",
            "Epoch 92 of 100, 43.17 s, with average training loss: 0.00265771, and validation loss: 1.00102970, validation accuracy: 83.71\n",
            "Epoch 93 starting at: 15:37:15\n"
          ],
          "name": "stdout"
        },
        {
          "output_type": "stream",
          "text": [
            "100%|██████████| 157/157 [00:37<00:00,  4.14it/s]\n",
            "100%|██████████| 40/40 [00:05<00:00,  7.48it/s]\n",
            "  0%|          | 0/157 [00:00<?, ?it/s]"
          ],
          "name": "stderr"
        },
        {
          "output_type": "stream",
          "text": [
            "\n",
            "Epoch 93 of 100, 43.23 s, with average training loss: 0.00256671, and validation loss: 0.98399988, validation accuracy: 84.12\n",
            "Epoch 94 starting at: 15:37:58\n"
          ],
          "name": "stdout"
        },
        {
          "output_type": "stream",
          "text": [
            "100%|██████████| 157/157 [00:37<00:00,  4.14it/s]\n",
            "100%|██████████| 40/40 [00:05<00:00,  7.50it/s]\n",
            "  0%|          | 0/157 [00:00<?, ?it/s]"
          ],
          "name": "stderr"
        },
        {
          "output_type": "stream",
          "text": [
            "\n",
            "Epoch 94 of 100, 43.29 s, with average training loss: 0.00252817, and validation loss: 1.04631414, validation accuracy: 83.71\n",
            "Epoch 95 starting at: 15:38:41\n"
          ],
          "name": "stdout"
        },
        {
          "output_type": "stream",
          "text": [
            "100%|██████████| 157/157 [00:37<00:00,  4.14it/s]\n",
            "100%|██████████| 40/40 [00:05<00:00,  7.56it/s]\n",
            "  0%|          | 0/157 [00:00<?, ?it/s]"
          ],
          "name": "stderr"
        },
        {
          "output_type": "stream",
          "text": [
            "\n",
            "Epoch 95 of 100, 43.19 s, with average training loss: 0.00262685, and validation loss: 0.97366900, validation accuracy: 83.91\n",
            "Epoch 96 starting at: 15:39:24\n"
          ],
          "name": "stdout"
        },
        {
          "output_type": "stream",
          "text": [
            "100%|██████████| 157/157 [00:37<00:00,  4.14it/s]\n",
            "100%|██████████| 40/40 [00:05<00:00,  7.39it/s]\n",
            "  0%|          | 0/157 [00:00<?, ?it/s]"
          ],
          "name": "stderr"
        },
        {
          "output_type": "stream",
          "text": [
            "\n",
            "Epoch 96 of 100, 43.37 s, with average training loss: 0.00252342, and validation loss: 1.01153142, validation accuracy: 83.91\n",
            "Epoch 97 starting at: 15:40:08\n"
          ],
          "name": "stdout"
        },
        {
          "output_type": "stream",
          "text": [
            "100%|██████████| 157/157 [00:37<00:00,  4.15it/s]\n",
            "100%|██████████| 40/40 [00:05<00:00,  7.46it/s]\n",
            "  0%|          | 0/157 [00:00<?, ?it/s]"
          ],
          "name": "stderr"
        },
        {
          "output_type": "stream",
          "text": [
            "\n",
            "Epoch 97 of 100, 43.24 s, with average training loss: 0.00280962, and validation loss: 1.01850861, validation accuracy: 83.57\n",
            "Epoch 98 starting at: 15:40:51\n"
          ],
          "name": "stdout"
        },
        {
          "output_type": "stream",
          "text": [
            "100%|██████████| 157/157 [00:38<00:00,  4.11it/s]\n",
            "100%|██████████| 40/40 [00:05<00:00,  7.46it/s]\n",
            "  0%|          | 0/157 [00:00<?, ?it/s]"
          ],
          "name": "stderr"
        },
        {
          "output_type": "stream",
          "text": [
            "\n",
            "Epoch 98 of 100, 43.56 s, with average training loss: 0.00255722, and validation loss: 1.05206774, validation accuracy: 83.33\n",
            "Epoch 99 starting at: 15:41:35\n"
          ],
          "name": "stdout"
        },
        {
          "output_type": "stream",
          "text": [
            "100%|██████████| 157/157 [00:38<00:00,  4.11it/s]\n",
            "100%|██████████| 40/40 [00:05<00:00,  7.48it/s]\n",
            "  0%|          | 0/157 [00:00<?, ?it/s]"
          ],
          "name": "stderr"
        },
        {
          "output_type": "stream",
          "text": [
            "\n",
            "Epoch 99 of 100, 43.54 s, with average training loss: 0.00251991, and validation loss: 1.05331457, validation accuracy: 83.84\n",
            "Epoch 100 starting at: 15:42:18\n"
          ],
          "name": "stdout"
        },
        {
          "output_type": "stream",
          "text": [
            "100%|██████████| 157/157 [00:38<00:00,  4.13it/s]\n",
            "100%|██████████| 40/40 [00:05<00:00,  7.45it/s]\n"
          ],
          "name": "stderr"
        },
        {
          "output_type": "stream",
          "text": [
            "\n",
            "Epoch 100 of 100, 43.40 s, with average training loss: 0.00229120, and validation loss: 1.00069230, validation accuracy: 84.12\n",
            "Finished Training  11/05/2021 15:43:01\n",
            "Avg per epoch ptime: 44.01, total 100 epochs ptime: 4401.45\n"
          ],
          "name": "stdout"
        }
      ]
    },
    {
      "cell_type": "markdown",
      "metadata": {
        "id": "5Zj6Nt_cT_S3"
      },
      "source": [
        "### ResNet Training"
      ]
    },
    {
      "cell_type": "code",
      "metadata": {
        "id": "YsGhxPVuO2C5",
        "colab": {
          "base_uri": "https://localhost:8080/"
        },
        "outputId": "a46020ac-f76c-49a6-aa85-4cc82ef27645"
      },
      "source": [
        "# Load and train ResNet\n",
        "net, optimizer, scheduler = LoadResNet(device)\n",
        "TrainResNet(net, optimizer, scheduler, criterion, epochs, train_loader, validation_loader)\n",
        "torch.save(net.state_dict(), model_dir + '/ResNet_CIFAR10_model.pth')\n",
        "del net\n",
        "del optimizer\n",
        "del scheduler"
      ],
      "execution_count": 10,
      "outputs": [
        {
          "output_type": "stream",
          "text": [
            "Using cache found in /root/.cache/torch/hub/pytorch_vision_v0.9.0\n",
            "  1%|          | 1/157 [00:00<00:26,  5.90it/s]"
          ],
          "name": "stderr"
        },
        {
          "output_type": "stream",
          "text": [
            "\n",
            "Training ResNet\n",
            "Training starting  11/05/2021 15:43:03\n",
            "Epoch 1 starting at: 15:43:03\n"
          ],
          "name": "stdout"
        },
        {
          "output_type": "stream",
          "text": [
            "100%|██████████| 157/157 [00:22<00:00,  6.95it/s]\n",
            "100%|██████████| 40/40 [00:04<00:00,  9.39it/s]\n",
            "  1%|          | 1/157 [00:00<00:23,  6.73it/s]"
          ],
          "name": "stderr"
        },
        {
          "output_type": "stream",
          "text": [
            "\n",
            "Epoch 1 of 100, 26.87 s, with average training loss: 1.75769722, and validation loss: 1.43812130, validation accuracy: 47.77\n",
            "Epoch 2 starting at: 15:43:30\n"
          ],
          "name": "stdout"
        },
        {
          "output_type": "stream",
          "text": [
            "100%|██████████| 157/157 [00:22<00:00,  7.01it/s]\n",
            "100%|██████████| 40/40 [00:04<00:00,  9.37it/s]\n",
            "  1%|          | 1/157 [00:00<00:22,  7.01it/s]"
          ],
          "name": "stderr"
        },
        {
          "output_type": "stream",
          "text": [
            "\n",
            "Epoch 2 of 100, 26.69 s, with average training loss: 1.24340032, and validation loss: 1.20149812, validation accuracy: 57.08\n",
            "Epoch 3 starting at: 15:43:57\n"
          ],
          "name": "stdout"
        },
        {
          "output_type": "stream",
          "text": [
            "100%|██████████| 157/157 [00:22<00:00,  6.89it/s]\n",
            "100%|██████████| 40/40 [00:04<00:00,  9.37it/s]\n",
            "  1%|          | 1/157 [00:00<00:23,  6.70it/s]"
          ],
          "name": "stderr"
        },
        {
          "output_type": "stream",
          "text": [
            "\n",
            "Epoch 3 of 100, 27.07 s, with average training loss: 1.04573761, and validation loss: 1.12555794, validation accuracy: 60.32\n",
            "Epoch 4 starting at: 15:44:24\n"
          ],
          "name": "stdout"
        },
        {
          "output_type": "stream",
          "text": [
            "100%|██████████| 157/157 [00:22<00:00,  6.96it/s]\n",
            "100%|██████████| 40/40 [00:04<00:00,  9.43it/s]\n",
            "  1%|          | 1/157 [00:00<00:23,  6.58it/s]"
          ],
          "name": "stderr"
        },
        {
          "output_type": "stream",
          "text": [
            "\n",
            "Epoch 4 of 100, 26.81 s, with average training loss: 0.91164852, and validation loss: 1.04063160, validation accuracy: 63.94\n",
            "Epoch 5 starting at: 15:44:51\n"
          ],
          "name": "stdout"
        },
        {
          "output_type": "stream",
          "text": [
            "100%|██████████| 157/157 [00:22<00:00,  6.98it/s]\n",
            "100%|██████████| 40/40 [00:04<00:00,  9.28it/s]\n",
            "  1%|          | 1/157 [00:00<00:24,  6.49it/s]"
          ],
          "name": "stderr"
        },
        {
          "output_type": "stream",
          "text": [
            "\n",
            "Epoch 5 of 100, 26.80 s, with average training loss: 0.79642596, and validation loss: 0.96054309, validation accuracy: 66.60\n",
            "Epoch 6 starting at: 15:45:17\n"
          ],
          "name": "stdout"
        },
        {
          "output_type": "stream",
          "text": [
            "100%|██████████| 157/157 [00:22<00:00,  6.98it/s]\n",
            "100%|██████████| 40/40 [00:04<00:00,  9.33it/s]\n",
            "  1%|          | 1/157 [00:00<00:23,  6.63it/s]"
          ],
          "name": "stderr"
        },
        {
          "output_type": "stream",
          "text": [
            "\n",
            "Epoch 6 of 100, 26.79 s, with average training loss: 0.69929402, and validation loss: 1.01949141, validation accuracy: 65.74\n",
            "Epoch 7 starting at: 15:45:44\n"
          ],
          "name": "stdout"
        },
        {
          "output_type": "stream",
          "text": [
            "100%|██████████| 157/157 [00:22<00:00,  6.93it/s]\n",
            "100%|██████████| 40/40 [00:04<00:00,  9.31it/s]\n",
            "  1%|          | 1/157 [00:00<00:23,  6.52it/s]"
          ],
          "name": "stderr"
        },
        {
          "output_type": "stream",
          "text": [
            "\n",
            "Epoch 7 of 100, 26.96 s, with average training loss: 0.61471713, and validation loss: 0.97849779, validation accuracy: 68.34\n",
            "Epoch 8 starting at: 15:46:11\n"
          ],
          "name": "stdout"
        },
        {
          "output_type": "stream",
          "text": [
            "100%|██████████| 157/157 [00:22<00:00,  6.92it/s]\n",
            "100%|██████████| 40/40 [00:04<00:00,  9.35it/s]\n",
            "  1%|          | 1/157 [00:00<00:22,  6.82it/s]"
          ],
          "name": "stderr"
        },
        {
          "output_type": "stream",
          "text": [
            "\n",
            "Epoch 8 of 100, 26.97 s, with average training loss: 0.53970487, and validation loss: 0.90857283, validation accuracy: 70.11\n",
            "Epoch 9 starting at: 15:46:38\n"
          ],
          "name": "stdout"
        },
        {
          "output_type": "stream",
          "text": [
            "100%|██████████| 157/157 [00:22<00:00,  6.91it/s]\n",
            "100%|██████████| 40/40 [00:04<00:00,  9.09it/s]\n",
            "  1%|          | 1/157 [00:00<00:23,  6.50it/s]"
          ],
          "name": "stderr"
        },
        {
          "output_type": "stream",
          "text": [
            "\n",
            "Epoch 9 of 100, 27.13 s, with average training loss: 0.47104180, and validation loss: 0.95022392, validation accuracy: 69.62\n",
            "Epoch 10 starting at: 15:47:05\n"
          ],
          "name": "stdout"
        },
        {
          "output_type": "stream",
          "text": [
            "100%|██████████| 157/157 [00:22<00:00,  6.91it/s]\n",
            "100%|██████████| 40/40 [00:04<00:00,  9.22it/s]\n",
            "  1%|          | 1/157 [00:00<00:22,  6.94it/s]"
          ],
          "name": "stderr"
        },
        {
          "output_type": "stream",
          "text": [
            "\n",
            "Epoch 10 of 100, 27.06 s, with average training loss: 0.40943559, and validation loss: 0.97990114, validation accuracy: 70.13\n",
            "Epoch 11 starting at: 15:47:32\n"
          ],
          "name": "stdout"
        },
        {
          "output_type": "stream",
          "text": [
            "100%|██████████| 157/157 [00:22<00:00,  6.92it/s]\n",
            "100%|██████████| 40/40 [00:04<00:00,  9.15it/s]\n",
            "  1%|          | 1/157 [00:00<00:23,  6.52it/s]"
          ],
          "name": "stderr"
        },
        {
          "output_type": "stream",
          "text": [
            "\n",
            "Epoch 11 of 100, 27.08 s, with average training loss: 0.34318617, and validation loss: 0.95188178, validation accuracy: 71.41\n",
            "Epoch 12 starting at: 15:47:59\n"
          ],
          "name": "stdout"
        },
        {
          "output_type": "stream",
          "text": [
            "100%|██████████| 157/157 [00:22<00:00,  6.89it/s]\n",
            "100%|██████████| 40/40 [00:04<00:00,  9.28it/s]\n",
            "  1%|          | 1/157 [00:00<00:22,  6.80it/s]"
          ],
          "name": "stderr"
        },
        {
          "output_type": "stream",
          "text": [
            "\n",
            "Epoch 12 of 100, 27.10 s, with average training loss: 0.30897445, and validation loss: 1.03693997, validation accuracy: 70.67\n",
            "Epoch 13 starting at: 15:48:27\n"
          ],
          "name": "stdout"
        },
        {
          "output_type": "stream",
          "text": [
            "100%|██████████| 157/157 [00:22<00:00,  6.94it/s]\n",
            "100%|██████████| 40/40 [00:04<00:00,  9.26it/s]\n",
            "  1%|          | 1/157 [00:00<00:24,  6.48it/s]"
          ],
          "name": "stderr"
        },
        {
          "output_type": "stream",
          "text": [
            "\n",
            "Epoch 13 of 100, 26.96 s, with average training loss: 0.28332211, and validation loss: 1.07329007, validation accuracy: 70.43\n",
            "Epoch 14 starting at: 15:48:54\n"
          ],
          "name": "stdout"
        },
        {
          "output_type": "stream",
          "text": [
            "100%|██████████| 157/157 [00:22<00:00,  6.86it/s]\n",
            "100%|██████████| 40/40 [00:04<00:00,  9.31it/s]\n",
            "  1%|          | 1/157 [00:00<00:22,  7.00it/s]"
          ],
          "name": "stderr"
        },
        {
          "output_type": "stream",
          "text": [
            "\n",
            "Epoch 14 of 100, 27.18 s, with average training loss: 0.23917560, and validation loss: 1.14015867, validation accuracy: 70.43\n",
            "Epoch 15 starting at: 15:49:21\n"
          ],
          "name": "stdout"
        },
        {
          "output_type": "stream",
          "text": [
            "100%|██████████| 157/157 [00:22<00:00,  6.92it/s]\n",
            "100%|██████████| 40/40 [00:04<00:00,  9.31it/s]\n",
            "  1%|          | 1/157 [00:00<00:24,  6.33it/s]"
          ],
          "name": "stderr"
        },
        {
          "output_type": "stream",
          "text": [
            "\n",
            "Epoch 15 of 100, 26.98 s, with average training loss: 0.20392181, and validation loss: 1.19381649, validation accuracy: 70.11\n",
            "Epoch 16 starting at: 15:49:48\n"
          ],
          "name": "stdout"
        },
        {
          "output_type": "stream",
          "text": [
            "100%|██████████| 157/157 [00:22<00:00,  6.97it/s]\n",
            "100%|██████████| 40/40 [00:04<00:00,  9.28it/s]\n",
            "  1%|          | 1/157 [00:00<00:22,  6.95it/s]"
          ],
          "name": "stderr"
        },
        {
          "output_type": "stream",
          "text": [
            "\n",
            "Epoch 16 of 100, 26.85 s, with average training loss: 0.19140515, and validation loss: 1.21686152, validation accuracy: 70.51\n",
            "Epoch 17 starting at: 15:50:15\n"
          ],
          "name": "stdout"
        },
        {
          "output_type": "stream",
          "text": [
            "100%|██████████| 157/157 [00:22<00:00,  7.03it/s]\n",
            "100%|██████████| 40/40 [00:04<00:00,  9.42it/s]\n",
            "  1%|          | 1/157 [00:00<00:24,  6.44it/s]"
          ],
          "name": "stderr"
        },
        {
          "output_type": "stream",
          "text": [
            "\n",
            "Epoch 17 of 100, 26.58 s, with average training loss: 0.16738832, and validation loss: 1.17420799, validation accuracy: 71.47\n",
            "Epoch 18 starting at: 15:50:41\n"
          ],
          "name": "stdout"
        },
        {
          "output_type": "stream",
          "text": [
            "100%|██████████| 157/157 [00:22<00:00,  6.95it/s]\n",
            "100%|██████████| 40/40 [00:04<00:00,  9.27it/s]\n",
            "  1%|          | 1/157 [00:00<00:22,  6.90it/s]"
          ],
          "name": "stderr"
        },
        {
          "output_type": "stream",
          "text": [
            "\n",
            "Epoch 18 of 100, 26.93 s, with average training loss: 0.14396660, and validation loss: 1.13291060, validation accuracy: 72.39\n",
            "Epoch 19 starting at: 15:51:08\n"
          ],
          "name": "stdout"
        },
        {
          "output_type": "stream",
          "text": [
            "100%|██████████| 157/157 [00:22<00:00,  6.91it/s]\n",
            "100%|██████████| 40/40 [00:04<00:00,  9.27it/s]\n",
            "  1%|          | 1/157 [00:00<00:23,  6.71it/s]"
          ],
          "name": "stderr"
        },
        {
          "output_type": "stream",
          "text": [
            "\n",
            "Epoch 19 of 100, 27.04 s, with average training loss: 0.13013571, and validation loss: 1.22494554, validation accuracy: 71.15\n",
            "Epoch 20 starting at: 15:51:35\n"
          ],
          "name": "stdout"
        },
        {
          "output_type": "stream",
          "text": [
            "100%|██████████| 157/157 [00:22<00:00,  6.95it/s]\n",
            "100%|██████████| 40/40 [00:04<00:00,  9.41it/s]\n",
            "  1%|          | 1/157 [00:00<00:22,  6.89it/s]"
          ],
          "name": "stderr"
        },
        {
          "output_type": "stream",
          "text": [
            "\n",
            "Epoch 20 of 100, 26.86 s, with average training loss: 0.11885108, and validation loss: 1.20210838, validation accuracy: 72.81\n",
            "Epoch 21 starting at: 15:52:02\n"
          ],
          "name": "stdout"
        },
        {
          "output_type": "stream",
          "text": [
            "100%|██████████| 157/157 [00:22<00:00,  6.97it/s]\n",
            "100%|██████████| 40/40 [00:04<00:00,  9.39it/s]\n",
            "  1%|          | 1/157 [00:00<00:22,  6.79it/s]"
          ],
          "name": "stderr"
        },
        {
          "output_type": "stream",
          "text": [
            "\n",
            "Epoch 21 of 100, 26.80 s, with average training loss: 0.10489649, and validation loss: 1.16462196, validation accuracy: 73.49\n",
            "Epoch 22 starting at: 15:52:29\n"
          ],
          "name": "stdout"
        },
        {
          "output_type": "stream",
          "text": [
            "100%|██████████| 157/157 [00:22<00:00,  7.00it/s]\n",
            "100%|██████████| 40/40 [00:04<00:00,  9.54it/s]\n",
            "  1%|          | 1/157 [00:00<00:21,  7.11it/s]"
          ],
          "name": "stderr"
        },
        {
          "output_type": "stream",
          "text": [
            "\n",
            "Epoch 22 of 100, 26.64 s, with average training loss: 0.09312128, and validation loss: 1.33004290, validation accuracy: 72.07\n",
            "Epoch 23 starting at: 15:52:55\n"
          ],
          "name": "stdout"
        },
        {
          "output_type": "stream",
          "text": [
            "100%|██████████| 157/157 [00:22<00:00,  7.02it/s]\n",
            "100%|██████████| 40/40 [00:04<00:00,  9.33it/s]\n",
            "  1%|          | 1/157 [00:00<00:23,  6.64it/s]"
          ],
          "name": "stderr"
        },
        {
          "output_type": "stream",
          "text": [
            "\n",
            "Epoch 23 of 100, 26.66 s, with average training loss: 0.08783315, and validation loss: 1.26037345, validation accuracy: 73.32\n",
            "Epoch 24 starting at: 15:53:22\n"
          ],
          "name": "stdout"
        },
        {
          "output_type": "stream",
          "text": [
            "100%|██████████| 157/157 [00:22<00:00,  6.94it/s]\n",
            "100%|██████████| 40/40 [00:04<00:00,  9.40it/s]\n",
            "  1%|          | 1/157 [00:00<00:22,  6.95it/s]"
          ],
          "name": "stderr"
        },
        {
          "output_type": "stream",
          "text": [
            "\n",
            "Epoch 24 of 100, 26.87 s, with average training loss: 0.08440681, and validation loss: 1.23800387, validation accuracy: 73.71\n",
            "Epoch 25 starting at: 15:53:49\n"
          ],
          "name": "stdout"
        },
        {
          "output_type": "stream",
          "text": [
            "100%|██████████| 157/157 [00:22<00:00,  6.93it/s]\n",
            "100%|██████████| 40/40 [00:04<00:00,  9.48it/s]\n",
            "  1%|          | 1/157 [00:00<00:23,  6.66it/s]"
          ],
          "name": "stderr"
        },
        {
          "output_type": "stream",
          "text": [
            "\n",
            "Epoch 25 of 100, 26.88 s, with average training loss: 0.06912632, and validation loss: 1.30028077, validation accuracy: 74.09\n",
            "Epoch 26 starting at: 15:54:16\n"
          ],
          "name": "stdout"
        },
        {
          "output_type": "stream",
          "text": [
            "100%|██████████| 157/157 [00:22<00:00,  6.98it/s]\n",
            "100%|██████████| 40/40 [00:04<00:00,  9.41it/s]\n",
            "  1%|          | 1/157 [00:00<00:22,  6.86it/s]"
          ],
          "name": "stderr"
        },
        {
          "output_type": "stream",
          "text": [
            "\n",
            "Epoch 26 of 100, 26.76 s, with average training loss: 0.07517573, and validation loss: 1.31541745, validation accuracy: 73.14\n",
            "Epoch 27 starting at: 15:54:43\n"
          ],
          "name": "stdout"
        },
        {
          "output_type": "stream",
          "text": [
            "100%|██████████| 157/157 [00:22<00:00,  6.98it/s]\n",
            "100%|██████████| 40/40 [00:04<00:00,  9.40it/s]\n",
            "  1%|          | 1/157 [00:00<00:23,  6.60it/s]"
          ],
          "name": "stderr"
        },
        {
          "output_type": "stream",
          "text": [
            "\n",
            "Epoch 27 of 100, 26.75 s, with average training loss: 0.06390847, and validation loss: 1.35072525, validation accuracy: 73.42\n",
            "Epoch 28 starting at: 15:55:09\n"
          ],
          "name": "stdout"
        },
        {
          "output_type": "stream",
          "text": [
            "100%|██████████| 157/157 [00:22<00:00,  7.00it/s]\n",
            "100%|██████████| 40/40 [00:04<00:00,  9.49it/s]\n",
            "  1%|          | 1/157 [00:00<00:22,  6.85it/s]"
          ],
          "name": "stderr"
        },
        {
          "output_type": "stream",
          "text": [
            "\n",
            "Epoch 28 of 100, 26.65 s, with average training loss: 0.04995504, and validation loss: 1.40142373, validation accuracy: 73.45\n",
            "Epoch 29 starting at: 15:55:36\n"
          ],
          "name": "stdout"
        },
        {
          "output_type": "stream",
          "text": [
            "100%|██████████| 157/157 [00:22<00:00,  6.99it/s]\n",
            "100%|██████████| 40/40 [00:04<00:00,  9.37it/s]\n",
            "  1%|          | 1/157 [00:00<00:24,  6.25it/s]"
          ],
          "name": "stderr"
        },
        {
          "output_type": "stream",
          "text": [
            "\n",
            "Epoch 29 of 100, 26.75 s, with average training loss: 0.06114213, and validation loss: 1.33049401, validation accuracy: 73.63\n",
            "Epoch 30 starting at: 15:56:03\n"
          ],
          "name": "stdout"
        },
        {
          "output_type": "stream",
          "text": [
            "100%|██████████| 157/157 [00:22<00:00,  6.95it/s]\n",
            "100%|██████████| 40/40 [00:04<00:00,  9.46it/s]\n",
            "  1%|          | 1/157 [00:00<00:22,  6.99it/s]"
          ],
          "name": "stderr"
        },
        {
          "output_type": "stream",
          "text": [
            "\n",
            "Epoch 30 of 100, 26.83 s, with average training loss: 0.06205201, and validation loss: 1.31446447, validation accuracy: 75.16\n",
            "Epoch 31 starting at: 15:56:30\n"
          ],
          "name": "stdout"
        },
        {
          "output_type": "stream",
          "text": [
            "100%|██████████| 157/157 [00:22<00:00,  6.97it/s]\n",
            "100%|██████████| 40/40 [00:04<00:00,  9.25it/s]\n",
            "  1%|          | 1/157 [00:00<00:23,  6.67it/s]"
          ],
          "name": "stderr"
        },
        {
          "output_type": "stream",
          "text": [
            "\n",
            "Epoch 31 of 100, 26.85 s, with average training loss: 0.04574407, and validation loss: 1.30806705, validation accuracy: 74.50\n",
            "Epoch 32 starting at: 15:56:56\n"
          ],
          "name": "stdout"
        },
        {
          "output_type": "stream",
          "text": [
            "100%|██████████| 157/157 [00:22<00:00,  6.96it/s]\n",
            "100%|██████████| 40/40 [00:04<00:00,  9.36it/s]\n",
            "  1%|          | 1/157 [00:00<00:23,  6.64it/s]"
          ],
          "name": "stderr"
        },
        {
          "output_type": "stream",
          "text": [
            "\n",
            "Epoch 32 of 100, 26.84 s, with average training loss: 0.03833777, and validation loss: 1.34044011, validation accuracy: 74.84\n",
            "Epoch 33 starting at: 15:57:23\n"
          ],
          "name": "stdout"
        },
        {
          "output_type": "stream",
          "text": [
            "100%|██████████| 157/157 [00:22<00:00,  7.01it/s]\n",
            "100%|██████████| 40/40 [00:04<00:00,  9.19it/s]\n",
            "  1%|          | 1/157 [00:00<00:23,  6.68it/s]"
          ],
          "name": "stderr"
        },
        {
          "output_type": "stream",
          "text": [
            "\n",
            "Epoch 33 of 100, 26.77 s, with average training loss: 0.04138639, and validation loss: 1.37693813, validation accuracy: 74.43\n",
            "Epoch 34 starting at: 15:57:50\n"
          ],
          "name": "stdout"
        },
        {
          "output_type": "stream",
          "text": [
            "100%|██████████| 157/157 [00:22<00:00,  6.89it/s]\n",
            "100%|██████████| 40/40 [00:04<00:00,  9.54it/s]\n",
            "  1%|          | 1/157 [00:00<00:21,  7.13it/s]"
          ],
          "name": "stderr"
        },
        {
          "output_type": "stream",
          "text": [
            "\n",
            "Epoch 34 of 100, 26.99 s, with average training loss: 0.04168144, and validation loss: 1.35837969, validation accuracy: 74.79\n",
            "Epoch 35 starting at: 15:58:17\n"
          ],
          "name": "stdout"
        },
        {
          "output_type": "stream",
          "text": [
            "100%|██████████| 157/157 [00:22<00:00,  7.00it/s]\n",
            "100%|██████████| 40/40 [00:04<00:00,  9.43it/s]\n",
            "  1%|          | 1/157 [00:00<00:23,  6.71it/s]"
          ],
          "name": "stderr"
        },
        {
          "output_type": "stream",
          "text": [
            "\n",
            "Epoch 35 of 100, 26.66 s, with average training loss: 0.03927058, and validation loss: 1.34454115, validation accuracy: 74.71\n",
            "Epoch 36 starting at: 15:58:44\n"
          ],
          "name": "stdout"
        },
        {
          "output_type": "stream",
          "text": [
            "100%|██████████| 157/157 [00:22<00:00,  6.92it/s]\n",
            "100%|██████████| 40/40 [00:04<00:00,  9.24it/s]\n",
            "  1%|          | 1/157 [00:00<00:28,  5.53it/s]"
          ],
          "name": "stderr"
        },
        {
          "output_type": "stream",
          "text": [
            "Epoch    36: reducing learning rate of group 0 to 1.0000e-03.\n",
            "\n",
            "Epoch 36 of 100, 27.04 s, with average training loss: 0.04296290, and validation loss: 1.36333864, validation accuracy: 74.31\n",
            "Epoch 37 starting at: 15:59:11\n"
          ],
          "name": "stdout"
        },
        {
          "output_type": "stream",
          "text": [
            "100%|██████████| 157/157 [00:22<00:00,  6.92it/s]\n",
            "100%|██████████| 40/40 [00:04<00:00,  9.11it/s]\n",
            "  1%|          | 1/157 [00:00<00:24,  6.41it/s]"
          ],
          "name": "stderr"
        },
        {
          "output_type": "stream",
          "text": [
            "\n",
            "Epoch 37 of 100, 27.10 s, with average training loss: 0.01650940, and validation loss: 1.23947917, validation accuracy: 76.44\n",
            "Epoch 38 starting at: 15:59:38\n"
          ],
          "name": "stdout"
        },
        {
          "output_type": "stream",
          "text": [
            "100%|██████████| 157/157 [00:22<00:00,  6.87it/s]\n",
            "100%|██████████| 40/40 [00:04<00:00,  9.31it/s]\n",
            "  1%|          | 1/157 [00:00<00:23,  6.62it/s]"
          ],
          "name": "stderr"
        },
        {
          "output_type": "stream",
          "text": [
            "\n",
            "Epoch 38 of 100, 27.15 s, with average training loss: 0.00811185, and validation loss: 1.21698480, validation accuracy: 76.84\n",
            "Epoch 39 starting at: 16:00:05\n"
          ],
          "name": "stdout"
        },
        {
          "output_type": "stream",
          "text": [
            "100%|██████████| 157/157 [00:22<00:00,  6.97it/s]\n",
            "100%|██████████| 40/40 [00:04<00:00,  9.20it/s]\n",
            "  1%|          | 1/157 [00:00<00:24,  6.30it/s]"
          ],
          "name": "stderr"
        },
        {
          "output_type": "stream",
          "text": [
            "\n",
            "Epoch 39 of 100, 26.89 s, with average training loss: 0.00486697, and validation loss: 1.24901220, validation accuracy: 76.51\n",
            "Epoch 40 starting at: 16:00:32\n"
          ],
          "name": "stdout"
        },
        {
          "output_type": "stream",
          "text": [
            "100%|██████████| 157/157 [00:22<00:00,  6.95it/s]\n",
            "100%|██████████| 40/40 [00:04<00:00,  9.36it/s]\n",
            "  1%|          | 1/157 [00:00<00:23,  6.77it/s]"
          ],
          "name": "stderr"
        },
        {
          "output_type": "stream",
          "text": [
            "\n",
            "Epoch 40 of 100, 26.87 s, with average training loss: 0.00311585, and validation loss: 1.22816158, validation accuracy: 76.52\n",
            "Epoch 41 starting at: 16:00:59\n"
          ],
          "name": "stdout"
        },
        {
          "output_type": "stream",
          "text": [
            "100%|██████████| 157/157 [00:22<00:00,  6.95it/s]\n",
            "100%|██████████| 40/40 [00:04<00:00,  9.29it/s]\n",
            "  1%|          | 1/157 [00:00<00:23,  6.70it/s]"
          ],
          "name": "stderr"
        },
        {
          "output_type": "stream",
          "text": [
            "\n",
            "Epoch 41 of 100, 26.91 s, with average training loss: 0.00226680, and validation loss: 1.26514172, validation accuracy: 76.88\n",
            "Epoch 42 starting at: 16:01:26\n"
          ],
          "name": "stdout"
        },
        {
          "output_type": "stream",
          "text": [
            "100%|██████████| 157/157 [00:22<00:00,  6.92it/s]\n",
            "100%|██████████| 40/40 [00:04<00:00,  9.23it/s]\n",
            "  1%|          | 1/157 [00:00<00:22,  6.78it/s]"
          ],
          "name": "stderr"
        },
        {
          "output_type": "stream",
          "text": [
            "\n",
            "Epoch 42 of 100, 27.01 s, with average training loss: 0.00198011, and validation loss: 1.28292149, validation accuracy: 76.78\n",
            "Epoch 43 starting at: 16:01:53\n"
          ],
          "name": "stdout"
        },
        {
          "output_type": "stream",
          "text": [
            "100%|██████████| 157/157 [00:22<00:00,  6.89it/s]\n",
            "100%|██████████| 40/40 [00:04<00:00,  9.03it/s]\n",
            "  1%|          | 1/157 [00:00<00:24,  6.37it/s]"
          ],
          "name": "stderr"
        },
        {
          "output_type": "stream",
          "text": [
            "\n",
            "Epoch 43 of 100, 27.23 s, with average training loss: 0.00167373, and validation loss: 1.28993412, validation accuracy: 76.54\n",
            "Epoch 44 starting at: 16:02:20\n"
          ],
          "name": "stdout"
        },
        {
          "output_type": "stream",
          "text": [
            "100%|██████████| 157/157 [00:22<00:00,  6.86it/s]\n",
            "100%|██████████| 40/40 [00:04<00:00,  9.21it/s]\n",
            "  1%|          | 1/157 [00:00<00:22,  6.80it/s]"
          ],
          "name": "stderr"
        },
        {
          "output_type": "stream",
          "text": [
            "\n",
            "Epoch 44 of 100, 27.23 s, with average training loss: 0.00158026, and validation loss: 1.28685613, validation accuracy: 76.61\n",
            "Epoch 45 starting at: 16:02:47\n"
          ],
          "name": "stdout"
        },
        {
          "output_type": "stream",
          "text": [
            "100%|██████████| 157/157 [00:22<00:00,  6.91it/s]\n",
            "100%|██████████| 40/40 [00:04<00:00,  9.33it/s]\n",
            "  1%|          | 1/157 [00:00<00:25,  6.20it/s]"
          ],
          "name": "stderr"
        },
        {
          "output_type": "stream",
          "text": [
            "\n",
            "Epoch 45 of 100, 27.02 s, with average training loss: 0.00133649, and validation loss: 1.25759235, validation accuracy: 77.02\n",
            "Epoch 46 starting at: 16:03:14\n"
          ],
          "name": "stdout"
        },
        {
          "output_type": "stream",
          "text": [
            "100%|██████████| 157/157 [00:22<00:00,  6.90it/s]\n",
            "100%|██████████| 40/40 [00:04<00:00,  9.36it/s]\n",
            "  1%|          | 1/157 [00:00<00:22,  6.83it/s]"
          ],
          "name": "stderr"
        },
        {
          "output_type": "stream",
          "text": [
            "\n",
            "Epoch 46 of 100, 27.02 s, with average training loss: 0.00148012, and validation loss: 1.27116552, validation accuracy: 76.87\n",
            "Epoch 47 starting at: 16:03:41\n"
          ],
          "name": "stdout"
        },
        {
          "output_type": "stream",
          "text": [
            "100%|██████████| 157/157 [00:22<00:00,  6.96it/s]\n",
            "100%|██████████| 40/40 [00:04<00:00,  9.46it/s]\n",
            "  1%|          | 1/157 [00:00<00:23,  6.68it/s]"
          ],
          "name": "stderr"
        },
        {
          "output_type": "stream",
          "text": [
            "\n",
            "Epoch 47 of 100, 26.79 s, with average training loss: 0.00124861, and validation loss: 1.29192369, validation accuracy: 76.83\n",
            "Epoch 48 starting at: 16:04:08\n"
          ],
          "name": "stdout"
        },
        {
          "output_type": "stream",
          "text": [
            "100%|██████████| 157/157 [00:22<00:00,  6.90it/s]\n",
            "100%|██████████| 40/40 [00:04<00:00,  9.22it/s]\n",
            "  1%|          | 1/157 [00:00<00:22,  6.96it/s]"
          ],
          "name": "stderr"
        },
        {
          "output_type": "stream",
          "text": [
            "\n",
            "Epoch 48 of 100, 27.09 s, with average training loss: 0.00104125, and validation loss: 1.27571052, validation accuracy: 76.88\n",
            "Epoch 49 starting at: 16:04:35\n"
          ],
          "name": "stdout"
        },
        {
          "output_type": "stream",
          "text": [
            "100%|██████████| 157/157 [00:22<00:00,  6.93it/s]\n",
            "100%|██████████| 40/40 [00:04<00:00,  9.38it/s]\n",
            "  1%|          | 1/157 [00:00<00:23,  6.63it/s]"
          ],
          "name": "stderr"
        },
        {
          "output_type": "stream",
          "text": [
            "\n",
            "Epoch 49 of 100, 26.91 s, with average training loss: 0.00115122, and validation loss: 1.27826288, validation accuracy: 76.65\n",
            "Epoch 50 starting at: 16:05:02\n"
          ],
          "name": "stdout"
        },
        {
          "output_type": "stream",
          "text": [
            "100%|██████████| 157/157 [00:22<00:00,  6.94it/s]\n",
            "100%|██████████| 40/40 [00:04<00:00,  9.33it/s]\n",
            "  1%|          | 1/157 [00:00<00:22,  6.85it/s]"
          ],
          "name": "stderr"
        },
        {
          "output_type": "stream",
          "text": [
            "\n",
            "Epoch 50 of 100, 26.93 s, with average training loss: 0.00124105, and validation loss: 1.27385003, validation accuracy: 76.74\n",
            "Epoch 51 starting at: 16:05:29\n"
          ],
          "name": "stdout"
        },
        {
          "output_type": "stream",
          "text": [
            "100%|██████████| 157/157 [00:22<00:00,  6.95it/s]\n",
            "100%|██████████| 40/40 [00:04<00:00,  9.09it/s]\n",
            "  1%|          | 1/157 [00:00<00:23,  6.55it/s]"
          ],
          "name": "stderr"
        },
        {
          "output_type": "stream",
          "text": [
            "Epoch    51: reducing learning rate of group 0 to 1.0000e-04.\n",
            "\n",
            "Epoch 51 of 100, 27.00 s, with average training loss: 0.00088173, and validation loss: 1.25412118, validation accuracy: 76.83\n",
            "Epoch 52 starting at: 16:05:56\n"
          ],
          "name": "stdout"
        },
        {
          "output_type": "stream",
          "text": [
            "100%|██████████| 157/157 [00:22<00:00,  6.84it/s]\n",
            "100%|██████████| 40/40 [00:04<00:00,  9.08it/s]\n",
            "  1%|          | 1/157 [00:00<00:25,  6.18it/s]"
          ],
          "name": "stderr"
        },
        {
          "output_type": "stream",
          "text": [
            "\n",
            "Epoch 52 of 100, 27.36 s, with average training loss: 0.00094992, and validation loss: 1.28912570, validation accuracy: 76.74\n",
            "Epoch 53 starting at: 16:06:23\n"
          ],
          "name": "stdout"
        },
        {
          "output_type": "stream",
          "text": [
            "100%|██████████| 157/157 [00:22<00:00,  6.85it/s]\n",
            "100%|██████████| 40/40 [00:04<00:00,  9.08it/s]\n",
            "  1%|          | 1/157 [00:00<00:23,  6.59it/s]"
          ],
          "name": "stderr"
        },
        {
          "output_type": "stream",
          "text": [
            "\n",
            "Epoch 53 of 100, 27.33 s, with average training loss: 0.00099912, and validation loss: 1.25943968, validation accuracy: 76.63\n",
            "Epoch 54 starting at: 16:06:51\n"
          ],
          "name": "stdout"
        },
        {
          "output_type": "stream",
          "text": [
            "100%|██████████| 157/157 [00:22<00:00,  6.89it/s]\n",
            "100%|██████████| 40/40 [00:04<00:00,  9.22it/s]\n",
            "  1%|          | 1/157 [00:00<00:23,  6.69it/s]"
          ],
          "name": "stderr"
        },
        {
          "output_type": "stream",
          "text": [
            "\n",
            "Epoch 54 of 100, 27.15 s, with average training loss: 0.00092924, and validation loss: 1.26790773, validation accuracy: 76.73\n",
            "Epoch 55 starting at: 16:07:18\n"
          ],
          "name": "stdout"
        },
        {
          "output_type": "stream",
          "text": [
            "100%|██████████| 157/157 [00:22<00:00,  6.91it/s]\n",
            "100%|██████████| 40/40 [00:04<00:00,  9.27it/s]\n",
            "  1%|          | 1/157 [00:00<00:24,  6.46it/s]"
          ],
          "name": "stderr"
        },
        {
          "output_type": "stream",
          "text": [
            "\n",
            "Epoch 55 of 100, 27.05 s, with average training loss: 0.00087271, and validation loss: 1.29101284, validation accuracy: 76.76\n",
            "Epoch 56 starting at: 16:07:45\n"
          ],
          "name": "stdout"
        },
        {
          "output_type": "stream",
          "text": [
            "100%|██████████| 157/157 [00:22<00:00,  6.90it/s]\n",
            "100%|██████████| 40/40 [00:04<00:00,  9.35it/s]\n",
            "  1%|          | 1/157 [00:00<00:22,  6.91it/s]"
          ],
          "name": "stderr"
        },
        {
          "output_type": "stream",
          "text": [
            "\n",
            "Epoch 56 of 100, 27.04 s, with average training loss: 0.00086230, and validation loss: 1.28821692, validation accuracy: 77.08\n",
            "Epoch 57 starting at: 16:08:12\n"
          ],
          "name": "stdout"
        },
        {
          "output_type": "stream",
          "text": [
            "100%|██████████| 157/157 [00:22<00:00,  6.87it/s]\n",
            "100%|██████████| 40/40 [00:04<00:00,  9.28it/s]\n",
            "  1%|          | 1/157 [00:00<00:23,  6.57it/s]"
          ],
          "name": "stderr"
        },
        {
          "output_type": "stream",
          "text": [
            "\n",
            "Epoch 57 of 100, 27.18 s, with average training loss: 0.00098182, and validation loss: 1.28203823, validation accuracy: 76.68\n",
            "Epoch 58 starting at: 16:08:39\n"
          ],
          "name": "stdout"
        },
        {
          "output_type": "stream",
          "text": [
            "100%|██████████| 157/157 [00:22<00:00,  6.89it/s]\n",
            "100%|██████████| 40/40 [00:04<00:00,  9.34it/s]\n",
            "  1%|          | 1/157 [00:00<00:23,  6.77it/s]"
          ],
          "name": "stderr"
        },
        {
          "output_type": "stream",
          "text": [
            "\n",
            "Epoch 58 of 100, 27.08 s, with average training loss: 0.00088744, and validation loss: 1.26349238, validation accuracy: 77.21\n",
            "Epoch 59 starting at: 16:09:06\n"
          ],
          "name": "stdout"
        },
        {
          "output_type": "stream",
          "text": [
            "100%|██████████| 157/157 [00:22<00:00,  6.91it/s]\n",
            "100%|██████████| 40/40 [00:04<00:00,  9.14it/s]\n",
            "  1%|          | 1/157 [00:00<00:24,  6.44it/s]"
          ],
          "name": "stderr"
        },
        {
          "output_type": "stream",
          "text": [
            "\n",
            "Epoch 59 of 100, 27.12 s, with average training loss: 0.00088126, and validation loss: 1.29313957, validation accuracy: 76.80\n",
            "Epoch 60 starting at: 16:09:33\n"
          ],
          "name": "stdout"
        },
        {
          "output_type": "stream",
          "text": [
            "100%|██████████| 157/157 [00:22<00:00,  6.92it/s]\n",
            "100%|██████████| 40/40 [00:04<00:00,  9.14it/s]\n",
            "  1%|          | 1/157 [00:00<00:22,  6.91it/s]"
          ],
          "name": "stderr"
        },
        {
          "output_type": "stream",
          "text": [
            "\n",
            "Epoch 60 of 100, 27.08 s, with average training loss: 0.00087328, and validation loss: 1.26522121, validation accuracy: 76.68\n",
            "Epoch 61 starting at: 16:10:00\n"
          ],
          "name": "stdout"
        },
        {
          "output_type": "stream",
          "text": [
            "100%|██████████| 157/157 [00:22<00:00,  6.92it/s]\n",
            "100%|██████████| 40/40 [00:04<00:00,  9.18it/s]\n",
            "  1%|          | 1/157 [00:00<00:24,  6.42it/s]"
          ],
          "name": "stderr"
        },
        {
          "output_type": "stream",
          "text": [
            "\n",
            "Epoch 61 of 100, 27.05 s, with average training loss: 0.00084585, and validation loss: 1.29159852, validation accuracy: 76.99\n",
            "Epoch 62 starting at: 16:10:27\n"
          ],
          "name": "stdout"
        },
        {
          "output_type": "stream",
          "text": [
            "100%|██████████| 157/157 [00:22<00:00,  6.89it/s]\n",
            "100%|██████████| 40/40 [00:04<00:00,  9.28it/s]\n",
            "  1%|          | 1/157 [00:00<00:22,  6.81it/s]"
          ],
          "name": "stderr"
        },
        {
          "output_type": "stream",
          "text": [
            "\n",
            "Epoch 62 of 100, 27.09 s, with average training loss: 0.00089515, and validation loss: 1.27200530, validation accuracy: 76.74\n",
            "Epoch 63 starting at: 16:10:54\n"
          ],
          "name": "stdout"
        },
        {
          "output_type": "stream",
          "text": [
            "100%|██████████| 157/157 [00:22<00:00,  6.86it/s]\n",
            "100%|██████████| 40/40 [00:04<00:00,  9.11it/s]\n",
            "  1%|          | 1/157 [00:00<00:24,  6.43it/s]"
          ],
          "name": "stderr"
        },
        {
          "output_type": "stream",
          "text": [
            "\n",
            "Epoch 63 of 100, 27.28 s, with average training loss: 0.00083512, and validation loss: 1.27465125, validation accuracy: 76.93\n",
            "Epoch 64 starting at: 16:11:22\n"
          ],
          "name": "stdout"
        },
        {
          "output_type": "stream",
          "text": [
            "100%|██████████| 157/157 [00:22<00:00,  6.89it/s]\n",
            "100%|██████████| 40/40 [00:04<00:00,  9.31it/s]\n",
            "  1%|          | 1/157 [00:00<00:24,  6.38it/s]"
          ],
          "name": "stderr"
        },
        {
          "output_type": "stream",
          "text": [
            "Epoch    64: reducing learning rate of group 0 to 1.0000e-05.\n",
            "\n",
            "Epoch 64 of 100, 27.08 s, with average training loss: 0.00079939, and validation loss: 1.30272792, validation accuracy: 76.99\n",
            "Epoch 65 starting at: 16:11:49\n"
          ],
          "name": "stdout"
        },
        {
          "output_type": "stream",
          "text": [
            "100%|██████████| 157/157 [00:22<00:00,  6.89it/s]\n",
            "100%|██████████| 40/40 [00:04<00:00,  9.09it/s]\n",
            "  1%|          | 1/157 [00:00<00:25,  6.21it/s]"
          ],
          "name": "stderr"
        },
        {
          "output_type": "stream",
          "text": [
            "\n",
            "Epoch 65 of 100, 27.20 s, with average training loss: 0.00115761, and validation loss: 1.26641729, validation accuracy: 77.19\n",
            "Epoch 66 starting at: 16:12:16\n"
          ],
          "name": "stdout"
        },
        {
          "output_type": "stream",
          "text": [
            "100%|██████████| 157/157 [00:22<00:00,  6.85it/s]\n",
            "100%|██████████| 40/40 [00:04<00:00,  9.19it/s]\n",
            "  1%|          | 1/157 [00:00<00:23,  6.70it/s]"
          ],
          "name": "stderr"
        },
        {
          "output_type": "stream",
          "text": [
            "\n",
            "Epoch 66 of 100, 27.27 s, with average training loss: 0.00088459, and validation loss: 1.26051463, validation accuracy: 76.78\n",
            "Epoch 67 starting at: 16:12:43\n"
          ],
          "name": "stdout"
        },
        {
          "output_type": "stream",
          "text": [
            "100%|██████████| 157/157 [00:22<00:00,  6.88it/s]\n",
            "100%|██████████| 40/40 [00:04<00:00,  9.17it/s]\n",
            "  1%|          | 1/157 [00:00<00:23,  6.62it/s]"
          ],
          "name": "stderr"
        },
        {
          "output_type": "stream",
          "text": [
            "\n",
            "Epoch 67 of 100, 27.20 s, with average training loss: 0.00086274, and validation loss: 1.28221139, validation accuracy: 77.16\n",
            "Epoch 68 starting at: 16:13:10\n"
          ],
          "name": "stdout"
        },
        {
          "output_type": "stream",
          "text": [
            "100%|██████████| 157/157 [00:22<00:00,  6.83it/s]\n",
            "100%|██████████| 40/40 [00:04<00:00,  9.19it/s]\n",
            "  1%|          | 1/157 [00:00<00:23,  6.73it/s]"
          ],
          "name": "stderr"
        },
        {
          "output_type": "stream",
          "text": [
            "\n",
            "Epoch 68 of 100, 27.35 s, with average training loss: 0.00089883, and validation loss: 1.27577294, validation accuracy: 77.14\n",
            "Epoch 69 starting at: 16:13:38\n"
          ],
          "name": "stdout"
        },
        {
          "output_type": "stream",
          "text": [
            "100%|██████████| 157/157 [00:23<00:00,  6.82it/s]\n",
            "100%|██████████| 40/40 [00:04<00:00,  9.21it/s]\n",
            "  1%|          | 1/157 [00:00<00:23,  6.58it/s]"
          ],
          "name": "stderr"
        },
        {
          "output_type": "stream",
          "text": [
            "\n",
            "Epoch 69 of 100, 27.38 s, with average training loss: 0.00085777, and validation loss: 1.29980363, validation accuracy: 76.95\n",
            "Epoch 70 starting at: 16:14:05\n"
          ],
          "name": "stdout"
        },
        {
          "output_type": "stream",
          "text": [
            "100%|██████████| 157/157 [00:22<00:00,  6.83it/s]\n",
            "100%|██████████| 40/40 [00:04<00:00,  9.25it/s]\n",
            "  1%|          | 1/157 [00:00<00:22,  6.90it/s]"
          ],
          "name": "stderr"
        },
        {
          "output_type": "stream",
          "text": [
            "Epoch    70: reducing learning rate of group 0 to 1.0000e-06.\n",
            "\n",
            "Epoch 70 of 100, 27.31 s, with average training loss: 0.00079238, and validation loss: 1.29342722, validation accuracy: 77.14\n",
            "Epoch 71 starting at: 16:14:32\n"
          ],
          "name": "stdout"
        },
        {
          "output_type": "stream",
          "text": [
            "100%|██████████| 157/157 [00:22<00:00,  6.86it/s]\n",
            "100%|██████████| 40/40 [00:04<00:00,  8.97it/s]\n",
            "  1%|          | 1/157 [00:00<00:24,  6.50it/s]"
          ],
          "name": "stderr"
        },
        {
          "output_type": "stream",
          "text": [
            "\n",
            "Epoch 71 of 100, 27.35 s, with average training loss: 0.00083658, and validation loss: 1.27307174, validation accuracy: 76.85\n",
            "Epoch 72 starting at: 16:15:00\n"
          ],
          "name": "stdout"
        },
        {
          "output_type": "stream",
          "text": [
            "100%|██████████| 157/157 [00:23<00:00,  6.79it/s]\n",
            "100%|██████████| 40/40 [00:04<00:00,  9.16it/s]\n",
            "  1%|          | 1/157 [00:00<00:23,  6.56it/s]"
          ],
          "name": "stderr"
        },
        {
          "output_type": "stream",
          "text": [
            "\n",
            "Epoch 72 of 100, 27.51 s, with average training loss: 0.00089885, and validation loss: 1.29186009, validation accuracy: 76.87\n",
            "Epoch 73 starting at: 16:15:27\n"
          ],
          "name": "stdout"
        },
        {
          "output_type": "stream",
          "text": [
            "100%|██████████| 157/157 [00:22<00:00,  6.87it/s]\n",
            "100%|██████████| 40/40 [00:04<00:00,  9.14it/s]\n",
            "  1%|          | 1/157 [00:00<00:24,  6.34it/s]"
          ],
          "name": "stderr"
        },
        {
          "output_type": "stream",
          "text": [
            "\n",
            "Epoch 73 of 100, 27.24 s, with average training loss: 0.00093403, and validation loss: 1.25937514, validation accuracy: 76.65\n",
            "Epoch 74 starting at: 16:15:55\n"
          ],
          "name": "stdout"
        },
        {
          "output_type": "stream",
          "text": [
            "100%|██████████| 157/157 [00:23<00:00,  6.78it/s]\n",
            "100%|██████████| 40/40 [00:04<00:00,  9.12it/s]\n",
            "  1%|          | 1/157 [00:00<00:23,  6.57it/s]"
          ],
          "name": "stderr"
        },
        {
          "output_type": "stream",
          "text": [
            "\n",
            "Epoch 74 of 100, 27.56 s, with average training loss: 0.00087289, and validation loss: 1.24355645, validation accuracy: 77.07\n",
            "Epoch 75 starting at: 16:16:22\n"
          ],
          "name": "stdout"
        },
        {
          "output_type": "stream",
          "text": [
            "100%|██████████| 157/157 [00:23<00:00,  6.81it/s]\n",
            "100%|██████████| 40/40 [00:04<00:00,  9.05it/s]\n",
            "  1%|          | 1/157 [00:00<00:25,  6.14it/s]"
          ],
          "name": "stderr"
        },
        {
          "output_type": "stream",
          "text": [
            "\n",
            "Epoch 75 of 100, 27.48 s, with average training loss: 0.00083849, and validation loss: 1.25301824, validation accuracy: 76.76\n",
            "Epoch 76 starting at: 16:16:50\n"
          ],
          "name": "stdout"
        },
        {
          "output_type": "stream",
          "text": [
            "100%|██████████| 157/157 [00:22<00:00,  6.85it/s]\n",
            "100%|██████████| 40/40 [00:04<00:00,  9.20it/s]\n",
            "  1%|          | 1/157 [00:00<00:23,  6.52it/s]"
          ],
          "name": "stderr"
        },
        {
          "output_type": "stream",
          "text": [
            "Epoch    76: reducing learning rate of group 0 to 1.0000e-07.\n",
            "\n",
            "Epoch 76 of 100, 27.29 s, with average training loss: 0.00086480, and validation loss: 1.28140233, validation accuracy: 76.80\n",
            "Epoch 77 starting at: 16:17:17\n"
          ],
          "name": "stdout"
        },
        {
          "output_type": "stream",
          "text": [
            "100%|██████████| 157/157 [00:22<00:00,  6.87it/s]\n",
            "100%|██████████| 40/40 [00:04<00:00,  9.04it/s]\n",
            "  1%|          | 1/157 [00:00<00:24,  6.35it/s]"
          ],
          "name": "stderr"
        },
        {
          "output_type": "stream",
          "text": [
            "\n",
            "Epoch 77 of 100, 27.27 s, with average training loss: 0.00099242, and validation loss: 1.24086686, validation accuracy: 77.05\n",
            "Epoch 78 starting at: 16:17:44\n"
          ],
          "name": "stdout"
        },
        {
          "output_type": "stream",
          "text": [
            "100%|██████████| 157/157 [00:22<00:00,  6.88it/s]\n",
            "100%|██████████| 40/40 [00:04<00:00,  9.08it/s]\n",
            "  1%|          | 1/157 [00:00<00:23,  6.50it/s]"
          ],
          "name": "stderr"
        },
        {
          "output_type": "stream",
          "text": [
            "\n",
            "Epoch 78 of 100, 27.25 s, with average training loss: 0.00088646, and validation loss: 1.28700300, validation accuracy: 77.00\n",
            "Epoch 79 starting at: 16:18:11\n"
          ],
          "name": "stdout"
        },
        {
          "output_type": "stream",
          "text": [
            "100%|██████████| 157/157 [00:22<00:00,  6.86it/s]\n",
            "100%|██████████| 40/40 [00:04<00:00,  9.14it/s]\n",
            "  1%|          | 1/157 [00:00<00:25,  6.22it/s]"
          ],
          "name": "stderr"
        },
        {
          "output_type": "stream",
          "text": [
            "\n",
            "Epoch 79 of 100, 27.28 s, with average training loss: 0.00084497, and validation loss: 1.30120229, validation accuracy: 76.62\n",
            "Epoch 80 starting at: 16:18:39\n"
          ],
          "name": "stdout"
        },
        {
          "output_type": "stream",
          "text": [
            "100%|██████████| 157/157 [00:23<00:00,  6.82it/s]\n",
            "100%|██████████| 40/40 [00:04<00:00,  9.12it/s]\n",
            "  1%|          | 1/157 [00:00<00:22,  6.89it/s]"
          ],
          "name": "stderr"
        },
        {
          "output_type": "stream",
          "text": [
            "\n",
            "Epoch 80 of 100, 27.41 s, with average training loss: 0.00088070, and validation loss: 1.29462556, validation accuracy: 76.72\n",
            "Epoch 81 starting at: 16:19:06\n"
          ],
          "name": "stdout"
        },
        {
          "output_type": "stream",
          "text": [
            "100%|██████████| 157/157 [00:23<00:00,  6.81it/s]\n",
            "100%|██████████| 40/40 [00:04<00:00,  9.13it/s]\n",
            "  1%|          | 1/157 [00:00<00:24,  6.26it/s]"
          ],
          "name": "stderr"
        },
        {
          "output_type": "stream",
          "text": [
            "\n",
            "Epoch 81 of 100, 27.44 s, with average training loss: 0.00083543, and validation loss: 1.29738404, validation accuracy: 76.71\n",
            "Epoch 82 starting at: 16:19:34\n"
          ],
          "name": "stdout"
        },
        {
          "output_type": "stream",
          "text": [
            "100%|██████████| 157/157 [00:22<00:00,  6.83it/s]\n",
            "100%|██████████| 40/40 [00:04<00:00,  9.12it/s]\n",
            "  1%|          | 1/157 [00:00<00:24,  6.40it/s]"
          ],
          "name": "stderr"
        },
        {
          "output_type": "stream",
          "text": [
            "Epoch    82: reducing learning rate of group 0 to 1.0000e-08.\n",
            "\n",
            "Epoch 82 of 100, 27.39 s, with average training loss: 0.00084732, and validation loss: 1.31000645, validation accuracy: 76.50\n",
            "Epoch 83 starting at: 16:20:01\n"
          ],
          "name": "stdout"
        },
        {
          "output_type": "stream",
          "text": [
            "100%|██████████| 157/157 [00:22<00:00,  6.83it/s]\n",
            "100%|██████████| 40/40 [00:04<00:00,  8.96it/s]\n",
            "  1%|          | 1/157 [00:00<00:24,  6.43it/s]"
          ],
          "name": "stderr"
        },
        {
          "output_type": "stream",
          "text": [
            "\n",
            "Epoch 83 of 100, 27.47 s, with average training loss: 0.00089584, and validation loss: 1.27377847, validation accuracy: 76.72\n",
            "Epoch 84 starting at: 16:20:28\n"
          ],
          "name": "stdout"
        },
        {
          "output_type": "stream",
          "text": [
            "100%|██████████| 157/157 [00:23<00:00,  6.82it/s]\n",
            "100%|██████████| 40/40 [00:04<00:00,  9.11it/s]\n",
            "  1%|          | 1/157 [00:00<00:23,  6.69it/s]"
          ],
          "name": "stderr"
        },
        {
          "output_type": "stream",
          "text": [
            "\n",
            "Epoch 84 of 100, 27.43 s, with average training loss: 0.00084177, and validation loss: 1.31316341, validation accuracy: 76.83\n",
            "Epoch 85 starting at: 16:20:56\n"
          ],
          "name": "stdout"
        },
        {
          "output_type": "stream",
          "text": [
            "100%|██████████| 157/157 [00:23<00:00,  6.77it/s]\n",
            "100%|██████████| 40/40 [00:04<00:00,  8.97it/s]\n",
            "  1%|          | 1/157 [00:00<00:23,  6.54it/s]"
          ],
          "name": "stderr"
        },
        {
          "output_type": "stream",
          "text": [
            "\n",
            "Epoch 85 of 100, 27.64 s, with average training loss: 0.00084323, and validation loss: 1.26835243, validation accuracy: 76.83\n",
            "Epoch 86 starting at: 16:21:23\n"
          ],
          "name": "stdout"
        },
        {
          "output_type": "stream",
          "text": [
            "100%|██████████| 157/157 [00:23<00:00,  6.77it/s]\n",
            "100%|██████████| 40/40 [00:04<00:00,  9.05it/s]\n",
            "  1%|          | 1/157 [00:00<00:23,  6.66it/s]"
          ],
          "name": "stderr"
        },
        {
          "output_type": "stream",
          "text": [
            "\n",
            "Epoch 86 of 100, 27.63 s, with average training loss: 0.00087498, and validation loss: 1.28489291, validation accuracy: 76.84\n",
            "Epoch 87 starting at: 16:21:51\n"
          ],
          "name": "stdout"
        },
        {
          "output_type": "stream",
          "text": [
            "100%|██████████| 157/157 [00:23<00:00,  6.78it/s]\n",
            "100%|██████████| 40/40 [00:04<00:00,  9.03it/s]\n",
            "  1%|          | 1/157 [00:00<00:25,  6.20it/s]"
          ],
          "name": "stderr"
        },
        {
          "output_type": "stream",
          "text": [
            "\n",
            "Epoch 87 of 100, 27.58 s, with average training loss: 0.00084486, and validation loss: 1.26119022, validation accuracy: 77.08\n",
            "Epoch 88 starting at: 16:22:19\n"
          ],
          "name": "stdout"
        },
        {
          "output_type": "stream",
          "text": [
            "100%|██████████| 157/157 [00:23<00:00,  6.79it/s]\n",
            "100%|██████████| 40/40 [00:04<00:00,  9.04it/s]\n",
            "  1%|          | 1/157 [00:00<00:22,  6.87it/s]"
          ],
          "name": "stderr"
        },
        {
          "output_type": "stream",
          "text": [
            "\n",
            "Epoch 88 of 100, 27.54 s, with average training loss: 0.00086203, and validation loss: 1.30128031, validation accuracy: 76.73\n",
            "Epoch 89 starting at: 16:22:46\n"
          ],
          "name": "stdout"
        },
        {
          "output_type": "stream",
          "text": [
            "100%|██████████| 157/157 [00:22<00:00,  6.85it/s]\n",
            "100%|██████████| 40/40 [00:04<00:00,  9.03it/s]\n",
            "  1%|          | 1/157 [00:00<00:24,  6.37it/s]"
          ],
          "name": "stderr"
        },
        {
          "output_type": "stream",
          "text": [
            "\n",
            "Epoch 89 of 100, 27.35 s, with average training loss: 0.00093690, and validation loss: 1.31594633, validation accuracy: 76.66\n",
            "Epoch 90 starting at: 16:23:14\n"
          ],
          "name": "stdout"
        },
        {
          "output_type": "stream",
          "text": [
            "100%|██████████| 157/157 [00:23<00:00,  6.80it/s]\n",
            "100%|██████████| 40/40 [00:04<00:00,  9.17it/s]\n",
            "  1%|          | 1/157 [00:00<00:22,  6.83it/s]"
          ],
          "name": "stderr"
        },
        {
          "output_type": "stream",
          "text": [
            "\n",
            "Epoch 90 of 100, 27.46 s, with average training loss: 0.00084646, and validation loss: 1.25393324, validation accuracy: 76.87\n",
            "Epoch 91 starting at: 16:23:41\n"
          ],
          "name": "stdout"
        },
        {
          "output_type": "stream",
          "text": [
            "100%|██████████| 157/157 [00:22<00:00,  6.85it/s]\n",
            "100%|██████████| 40/40 [00:04<00:00,  9.08it/s]\n",
            "  1%|          | 1/157 [00:00<00:23,  6.70it/s]"
          ],
          "name": "stderr"
        },
        {
          "output_type": "stream",
          "text": [
            "\n",
            "Epoch 91 of 100, 27.34 s, with average training loss: 0.00084846, and validation loss: 1.26162766, validation accuracy: 77.14\n",
            "Epoch 92 starting at: 16:24:08\n"
          ],
          "name": "stdout"
        },
        {
          "output_type": "stream",
          "text": [
            "100%|██████████| 157/157 [00:23<00:00,  6.80it/s]\n",
            "100%|██████████| 40/40 [00:04<00:00,  9.08it/s]\n",
            "  1%|          | 1/157 [00:00<00:23,  6.60it/s]"
          ],
          "name": "stderr"
        },
        {
          "output_type": "stream",
          "text": [
            "\n",
            "Epoch 92 of 100, 27.49 s, with average training loss: 0.00082997, and validation loss: 1.24217257, validation accuracy: 76.85\n",
            "Epoch 93 starting at: 16:24:36\n"
          ],
          "name": "stdout"
        },
        {
          "output_type": "stream",
          "text": [
            "100%|██████████| 157/157 [00:23<00:00,  6.77it/s]\n",
            "100%|██████████| 40/40 [00:04<00:00,  8.92it/s]\n",
            "  1%|          | 1/157 [00:00<00:24,  6.48it/s]"
          ],
          "name": "stderr"
        },
        {
          "output_type": "stream",
          "text": [
            "\n",
            "Epoch 93 of 100, 27.67 s, with average training loss: 0.00083927, and validation loss: 1.27374967, validation accuracy: 77.01\n",
            "Epoch 94 starting at: 16:25:04\n"
          ],
          "name": "stdout"
        },
        {
          "output_type": "stream",
          "text": [
            "100%|██████████| 157/157 [00:23<00:00,  6.79it/s]\n",
            "100%|██████████| 40/40 [00:04<00:00,  9.10it/s]\n",
            "  1%|          | 1/157 [00:00<00:23,  6.54it/s]"
          ],
          "name": "stderr"
        },
        {
          "output_type": "stream",
          "text": [
            "\n",
            "Epoch 94 of 100, 27.54 s, with average training loss: 0.00082498, and validation loss: 1.29506643, validation accuracy: 76.74\n",
            "Epoch 95 starting at: 16:25:31\n"
          ],
          "name": "stdout"
        },
        {
          "output_type": "stream",
          "text": [
            "100%|██████████| 157/157 [00:23<00:00,  6.82it/s]\n",
            "100%|██████████| 40/40 [00:04<00:00,  8.88it/s]\n",
            "  1%|          | 1/157 [00:00<00:25,  6.23it/s]"
          ],
          "name": "stderr"
        },
        {
          "output_type": "stream",
          "text": [
            "\n",
            "Epoch 95 of 100, 27.53 s, with average training loss: 0.00086610, and validation loss: 1.27502179, validation accuracy: 77.29\n",
            "Epoch 96 starting at: 16:25:59\n"
          ],
          "name": "stdout"
        },
        {
          "output_type": "stream",
          "text": [
            "100%|██████████| 157/157 [00:23<00:00,  6.75it/s]\n",
            "100%|██████████| 40/40 [00:04<00:00,  9.09it/s]\n",
            "  1%|          | 1/157 [00:00<00:24,  6.46it/s]"
          ],
          "name": "stderr"
        },
        {
          "output_type": "stream",
          "text": [
            "\n",
            "Epoch 96 of 100, 27.65 s, with average training loss: 0.00082945, and validation loss: 1.26468578, validation accuracy: 77.07\n",
            "Epoch 97 starting at: 16:26:26\n"
          ],
          "name": "stdout"
        },
        {
          "output_type": "stream",
          "text": [
            "100%|██████████| 157/157 [00:22<00:00,  6.85it/s]\n",
            "100%|██████████| 40/40 [00:04<00:00,  9.06it/s]\n",
            "  1%|          | 1/157 [00:00<00:24,  6.46it/s]"
          ],
          "name": "stderr"
        },
        {
          "output_type": "stream",
          "text": [
            "\n",
            "Epoch 97 of 100, 27.33 s, with average training loss: 0.00080564, and validation loss: 1.30676005, validation accuracy: 76.66\n",
            "Epoch 98 starting at: 16:26:54\n"
          ],
          "name": "stdout"
        },
        {
          "output_type": "stream",
          "text": [
            "100%|██████████| 157/157 [00:23<00:00,  6.79it/s]\n",
            "100%|██████████| 40/40 [00:04<00:00,  9.14it/s]\n",
            "  1%|          | 1/157 [00:00<00:22,  6.90it/s]"
          ],
          "name": "stderr"
        },
        {
          "output_type": "stream",
          "text": [
            "\n",
            "Epoch 98 of 100, 27.52 s, with average training loss: 0.00087599, and validation loss: 1.31570035, validation accuracy: 76.60\n",
            "Epoch 99 starting at: 16:27:21\n"
          ],
          "name": "stdout"
        },
        {
          "output_type": "stream",
          "text": [
            "100%|██████████| 157/157 [00:23<00:00,  6.81it/s]\n",
            "100%|██████████| 40/40 [00:04<00:00,  9.04it/s]\n",
            "  1%|          | 1/157 [00:00<00:24,  6.37it/s]"
          ],
          "name": "stderr"
        },
        {
          "output_type": "stream",
          "text": [
            "\n",
            "Epoch 99 of 100, 27.50 s, with average training loss: 0.00086204, and validation loss: 1.27885461, validation accuracy: 77.06\n",
            "Epoch 100 starting at: 16:27:49\n"
          ],
          "name": "stdout"
        },
        {
          "output_type": "stream",
          "text": [
            "100%|██████████| 157/157 [00:23<00:00,  6.78it/s]\n",
            "100%|██████████| 40/40 [00:04<00:00,  9.06it/s]\n"
          ],
          "name": "stderr"
        },
        {
          "output_type": "stream",
          "text": [
            "\n",
            "Epoch 100 of 100, 27.58 s, with average training loss: 0.00090266, and validation loss: 1.30510636, validation accuracy: 76.61\n",
            "Finished Training  11/05/2021 16:28:16\n",
            "Avg per epoch ptime: 27.13, total 100 epochs ptime: 2712.89\n"
          ],
          "name": "stdout"
        }
      ]
    },
    {
      "cell_type": "markdown",
      "metadata": {
        "id": "Cts6FevpUEhu"
      },
      "source": [
        "### GoogLeNet Training"
      ]
    },
    {
      "cell_type": "code",
      "metadata": {
        "id": "TZI9FoipPBO7",
        "colab": {
          "base_uri": "https://localhost:8080/"
        },
        "outputId": "cce42887-8e95-4ed5-f7e7-7982d90427bf"
      },
      "source": [
        "# Load and train GoogLeNet\n",
        "net, optimizer, scheduler = LoadGLNet(device)\n",
        "TrainGLNet(net, optimizer, scheduler, criterion, epochs, train_loader)\n",
        "torch.save(net.state_dict(), model_dir + '/GoogLeNet_CIFAR10_model.pth')\n",
        "del net\n",
        "del optimizer\n",
        "del scheduler"
      ],
      "execution_count": 11,
      "outputs": [
        {
          "output_type": "stream",
          "text": [
            "Using cache found in /root/.cache/torch/hub/pytorch_vision_v0.9.0\n",
            "/usr/local/lib/python3.7/dist-packages/torchvision/models/googlenet.py:79: FutureWarning: The default weight initialization of GoogleNet will be changed in future releases of torchvision. If you wish to keep the old behavior (which leads to long initialization times due to scipy/scipy#11299), please set init_weights=True.\n",
            "  ' due to scipy/scipy#11299), please set init_weights=True.', FutureWarning)\n",
            "  1%|          | 1/157 [00:00<00:22,  7.03it/s]"
          ],
          "name": "stderr"
        },
        {
          "output_type": "stream",
          "text": [
            "Adjusting learning rate of group 0 to 1.0000e-02.\n",
            "\n",
            "Training GoogLeNet\n",
            "Training starting  11/05/2021 16:30:07\n",
            "Epoch 1 starting at: 16:30:07\n"
          ],
          "name": "stdout"
        },
        {
          "output_type": "stream",
          "text": [
            "100%|██████████| 157/157 [00:21<00:00,  7.45it/s]\n",
            "100%|██████████| 40/40 [00:04<00:00,  9.61it/s]\n",
            "/usr/local/lib/python3.7/dist-packages/numpy/core/fromnumeric.py:3373: RuntimeWarning: Mean of empty slice.\n",
            "  out=out, **kwargs)\n",
            "/usr/local/lib/python3.7/dist-packages/numpy/core/_methods.py:170: RuntimeWarning: invalid value encountered in double_scalars\n",
            "  ret = ret.dtype.type(ret / rcount)\n",
            "  1%|          | 1/157 [00:00<00:21,  7.27it/s]"
          ],
          "name": "stderr"
        },
        {
          "output_type": "stream",
          "text": [
            "Adjusting learning rate of group 0 to 1.0000e-02.\n",
            "\n",
            "Epoch 1 of 100, 25.25 s, with average training loss: 1.78612146, and validation loss: nan, validation accuracy: 43.08\n",
            "Epoch 2 starting at: 16:30:32\n"
          ],
          "name": "stdout"
        },
        {
          "output_type": "stream",
          "text": [
            "100%|██████████| 157/157 [00:21<00:00,  7.39it/s]\n",
            "100%|██████████| 40/40 [00:04<00:00,  9.66it/s]\n",
            "  1%|          | 1/157 [00:00<00:21,  7.13it/s]"
          ],
          "name": "stderr"
        },
        {
          "output_type": "stream",
          "text": [
            "Adjusting learning rate of group 0 to 1.0000e-02.\n",
            "\n",
            "Epoch 2 of 100, 25.40 s, with average training loss: 1.18237313, and validation loss: nan, validation accuracy: 58.91\n",
            "Epoch 3 starting at: 16:30:57\n"
          ],
          "name": "stdout"
        },
        {
          "output_type": "stream",
          "text": [
            "100%|██████████| 157/157 [00:21<00:00,  7.45it/s]\n",
            "100%|██████████| 40/40 [00:04<00:00,  9.54it/s]\n",
            "  1%|          | 1/157 [00:00<00:22,  7.08it/s]"
          ],
          "name": "stderr"
        },
        {
          "output_type": "stream",
          "text": [
            "Adjusting learning rate of group 0 to 1.0000e-02.\n",
            "\n",
            "Epoch 3 of 100, 25.27 s, with average training loss: 0.96272445, and validation loss: nan, validation accuracy: 65.04\n",
            "Epoch 4 starting at: 16:31:23\n"
          ],
          "name": "stdout"
        },
        {
          "output_type": "stream",
          "text": [
            "100%|██████████| 157/157 [00:21<00:00,  7.40it/s]\n",
            "100%|██████████| 40/40 [00:04<00:00,  9.46it/s]\n",
            "  1%|          | 1/157 [00:00<00:21,  7.36it/s]"
          ],
          "name": "stderr"
        },
        {
          "output_type": "stream",
          "text": [
            "Adjusting learning rate of group 0 to 1.0000e-02.\n",
            "\n",
            "Epoch 4 of 100, 25.46 s, with average training loss: 0.81358345, and validation loss: nan, validation accuracy: 66.66\n",
            "Epoch 5 starting at: 16:31:48\n"
          ],
          "name": "stdout"
        },
        {
          "output_type": "stream",
          "text": [
            "100%|██████████| 157/157 [00:21<00:00,  7.45it/s]\n",
            "100%|██████████| 40/40 [00:04<00:00,  9.46it/s]\n",
            "  1%|          | 1/157 [00:00<00:24,  6.46it/s]"
          ],
          "name": "stderr"
        },
        {
          "output_type": "stream",
          "text": [
            "Adjusting learning rate of group 0 to 1.0000e-02.\n",
            "\n",
            "Epoch 5 of 100, 25.32 s, with average training loss: 0.70537433, and validation loss: nan, validation accuracy: 74.17\n",
            "Epoch 6 starting at: 16:32:13\n"
          ],
          "name": "stdout"
        },
        {
          "output_type": "stream",
          "text": [
            "100%|██████████| 157/157 [00:21<00:00,  7.43it/s]\n",
            "100%|██████████| 40/40 [00:04<00:00,  9.47it/s]\n",
            "  1%|          | 1/157 [00:00<00:21,  7.16it/s]"
          ],
          "name": "stderr"
        },
        {
          "output_type": "stream",
          "text": [
            "Adjusting learning rate of group 0 to 1.0000e-02.\n",
            "\n",
            "Epoch 6 of 100, 25.37 s, with average training loss: 0.60191062, and validation loss: nan, validation accuracy: 72.07\n",
            "Epoch 7 starting at: 16:32:39\n"
          ],
          "name": "stdout"
        },
        {
          "output_type": "stream",
          "text": [
            "100%|██████████| 157/157 [00:21<00:00,  7.40it/s]\n",
            "100%|██████████| 40/40 [00:04<00:00,  9.44it/s]\n",
            "  1%|          | 1/157 [00:00<00:22,  7.00it/s]"
          ],
          "name": "stderr"
        },
        {
          "output_type": "stream",
          "text": [
            "Adjusting learning rate of group 0 to 1.0000e-02.\n",
            "\n",
            "Epoch 7 of 100, 25.47 s, with average training loss: 0.53134483, and validation loss: nan, validation accuracy: 74.64\n",
            "Epoch 8 starting at: 16:33:04\n"
          ],
          "name": "stdout"
        },
        {
          "output_type": "stream",
          "text": [
            "100%|██████████| 157/157 [00:21<00:00,  7.35it/s]\n",
            "100%|██████████| 40/40 [00:04<00:00,  9.44it/s]\n",
            "  1%|          | 1/157 [00:00<00:21,  7.28it/s]"
          ],
          "name": "stderr"
        },
        {
          "output_type": "stream",
          "text": [
            "Adjusting learning rate of group 0 to 9.6000e-03.\n",
            "\n",
            "Epoch 8 of 100, 25.60 s, with average training loss: 0.47369648, and validation loss: nan, validation accuracy: 74.25\n",
            "Epoch 9 starting at: 16:33:30\n"
          ],
          "name": "stdout"
        },
        {
          "output_type": "stream",
          "text": [
            "100%|██████████| 157/157 [00:21<00:00,  7.40it/s]\n",
            "100%|██████████| 40/40 [00:04<00:00,  9.63it/s]\n",
            "  1%|          | 1/157 [00:00<00:22,  6.93it/s]"
          ],
          "name": "stderr"
        },
        {
          "output_type": "stream",
          "text": [
            "Adjusting learning rate of group 0 to 9.6000e-03.\n",
            "\n",
            "Epoch 9 of 100, 25.38 s, with average training loss: 0.41006314, and validation loss: nan, validation accuracy: 81.04\n",
            "Epoch 10 starting at: 16:33:55\n"
          ],
          "name": "stdout"
        },
        {
          "output_type": "stream",
          "text": [
            "100%|██████████| 157/157 [00:21<00:00,  7.43it/s]\n",
            "100%|██████████| 40/40 [00:04<00:00,  9.72it/s]\n",
            "  1%|          | 1/157 [00:00<00:21,  7.37it/s]"
          ],
          "name": "stderr"
        },
        {
          "output_type": "stream",
          "text": [
            "Adjusting learning rate of group 0 to 9.6000e-03.\n",
            "\n",
            "Epoch 10 of 100, 25.26 s, with average training loss: 0.36451627, and validation loss: nan, validation accuracy: 78.97\n",
            "Epoch 11 starting at: 16:34:20\n"
          ],
          "name": "stdout"
        },
        {
          "output_type": "stream",
          "text": [
            "100%|██████████| 157/157 [00:20<00:00,  7.51it/s]\n",
            "100%|██████████| 40/40 [00:04<00:00,  9.50it/s]\n",
            "  1%|          | 1/157 [00:00<00:21,  7.21it/s]"
          ],
          "name": "stderr"
        },
        {
          "output_type": "stream",
          "text": [
            "Adjusting learning rate of group 0 to 9.6000e-03.\n",
            "\n",
            "Epoch 11 of 100, 25.13 s, with average training loss: 0.32771461, and validation loss: nan, validation accuracy: 79.37\n",
            "Epoch 12 starting at: 16:34:45\n"
          ],
          "name": "stdout"
        },
        {
          "output_type": "stream",
          "text": [
            "100%|██████████| 157/157 [00:20<00:00,  7.50it/s]\n",
            "100%|██████████| 40/40 [00:04<00:00,  9.80it/s]\n",
            "  1%|          | 1/157 [00:00<00:20,  7.66it/s]"
          ],
          "name": "stderr"
        },
        {
          "output_type": "stream",
          "text": [
            "Adjusting learning rate of group 0 to 9.6000e-03.\n",
            "\n",
            "Epoch 12 of 100, 25.02 s, with average training loss: 0.29595773, and validation loss: nan, validation accuracy: 79.82\n",
            "Epoch 13 starting at: 16:35:11\n"
          ],
          "name": "stdout"
        },
        {
          "output_type": "stream",
          "text": [
            "100%|██████████| 157/157 [00:21<00:00,  7.47it/s]\n",
            "100%|██████████| 40/40 [00:04<00:00,  9.67it/s]\n",
            "  1%|          | 1/157 [00:00<00:21,  7.12it/s]"
          ],
          "name": "stderr"
        },
        {
          "output_type": "stream",
          "text": [
            "Adjusting learning rate of group 0 to 9.6000e-03.\n",
            "\n",
            "Epoch 13 of 100, 25.16 s, with average training loss: 0.26503976, and validation loss: nan, validation accuracy: 79.53\n",
            "Epoch 14 starting at: 16:35:36\n"
          ],
          "name": "stdout"
        },
        {
          "output_type": "stream",
          "text": [
            "100%|██████████| 157/157 [00:21<00:00,  7.34it/s]\n",
            "100%|██████████| 40/40 [00:04<00:00,  9.37it/s]\n",
            "  1%|          | 1/157 [00:00<00:21,  7.20it/s]"
          ],
          "name": "stderr"
        },
        {
          "output_type": "stream",
          "text": [
            "Adjusting learning rate of group 0 to 9.6000e-03.\n",
            "\n",
            "Epoch 14 of 100, 25.66 s, with average training loss: 0.23529551, and validation loss: nan, validation accuracy: 80.19\n",
            "Epoch 15 starting at: 16:36:01\n"
          ],
          "name": "stdout"
        },
        {
          "output_type": "stream",
          "text": [
            "100%|██████████| 157/157 [00:21<00:00,  7.35it/s]\n",
            "100%|██████████| 40/40 [00:04<00:00,  9.40it/s]\n",
            "  1%|          | 1/157 [00:00<00:22,  7.07it/s]"
          ],
          "name": "stderr"
        },
        {
          "output_type": "stream",
          "text": [
            "Adjusting learning rate of group 0 to 9.6000e-03.\n",
            "\n",
            "Epoch 15 of 100, 25.61 s, with average training loss: 0.21810899, and validation loss: nan, validation accuracy: 82.22\n",
            "Epoch 16 starting at: 16:36:27\n"
          ],
          "name": "stdout"
        },
        {
          "output_type": "stream",
          "text": [
            "100%|██████████| 157/157 [00:21<00:00,  7.28it/s]\n",
            "100%|██████████| 40/40 [00:04<00:00,  9.36it/s]\n",
            "  1%|          | 1/157 [00:00<00:21,  7.25it/s]"
          ],
          "name": "stderr"
        },
        {
          "output_type": "stream",
          "text": [
            "Adjusting learning rate of group 0 to 9.2160e-03.\n",
            "\n",
            "Epoch 16 of 100, 25.86 s, with average training loss: 0.19699460, and validation loss: nan, validation accuracy: 81.13\n",
            "Epoch 17 starting at: 16:36:53\n"
          ],
          "name": "stdout"
        },
        {
          "output_type": "stream",
          "text": [
            "100%|██████████| 157/157 [00:21<00:00,  7.21it/s]\n",
            "100%|██████████| 40/40 [00:04<00:00,  9.30it/s]\n",
            "  1%|          | 1/157 [00:00<00:23,  6.71it/s]"
          ],
          "name": "stderr"
        },
        {
          "output_type": "stream",
          "text": [
            "Adjusting learning rate of group 0 to 9.2160e-03.\n",
            "\n",
            "Epoch 17 of 100, 26.08 s, with average training loss: 0.16926968, and validation loss: nan, validation accuracy: 82.13\n",
            "Epoch 18 starting at: 16:37:19\n"
          ],
          "name": "stdout"
        },
        {
          "output_type": "stream",
          "text": [
            "100%|██████████| 157/157 [00:21<00:00,  7.27it/s]\n",
            "100%|██████████| 40/40 [00:04<00:00,  9.30it/s]\n",
            "  1%|          | 1/157 [00:00<00:22,  7.08it/s]"
          ],
          "name": "stderr"
        },
        {
          "output_type": "stream",
          "text": [
            "Adjusting learning rate of group 0 to 9.2160e-03.\n",
            "\n",
            "Epoch 18 of 100, 25.92 s, with average training loss: 0.15204288, and validation loss: nan, validation accuracy: 80.83\n",
            "Epoch 19 starting at: 16:37:45\n"
          ],
          "name": "stdout"
        },
        {
          "output_type": "stream",
          "text": [
            "100%|██████████| 157/157 [00:21<00:00,  7.29it/s]\n",
            "100%|██████████| 40/40 [00:04<00:00,  9.23it/s]\n",
            "  1%|          | 1/157 [00:00<00:24,  6.34it/s]"
          ],
          "name": "stderr"
        },
        {
          "output_type": "stream",
          "text": [
            "Adjusting learning rate of group 0 to 9.2160e-03.\n",
            "\n",
            "Epoch 19 of 100, 25.89 s, with average training loss: 0.13750756, and validation loss: nan, validation accuracy: 82.62\n",
            "Epoch 20 starting at: 16:38:11\n"
          ],
          "name": "stdout"
        },
        {
          "output_type": "stream",
          "text": [
            "100%|██████████| 157/157 [00:21<00:00,  7.28it/s]\n",
            "100%|██████████| 40/40 [00:04<00:00,  9.39it/s]\n",
            "  1%|          | 1/157 [00:00<00:21,  7.36it/s]"
          ],
          "name": "stderr"
        },
        {
          "output_type": "stream",
          "text": [
            "Adjusting learning rate of group 0 to 9.2160e-03.\n",
            "\n",
            "Epoch 20 of 100, 25.82 s, with average training loss: 0.12406895, and validation loss: nan, validation accuracy: 81.82\n",
            "Epoch 21 starting at: 16:38:37\n"
          ],
          "name": "stdout"
        },
        {
          "output_type": "stream",
          "text": [
            "100%|██████████| 157/157 [00:21<00:00,  7.36it/s]\n",
            "100%|██████████| 40/40 [00:04<00:00,  9.42it/s]\n",
            "  1%|          | 1/157 [00:00<00:21,  7.11it/s]"
          ],
          "name": "stderr"
        },
        {
          "output_type": "stream",
          "text": [
            "Adjusting learning rate of group 0 to 9.2160e-03.\n",
            "\n",
            "Epoch 21 of 100, 25.60 s, with average training loss: 0.11683039, and validation loss: nan, validation accuracy: 83.62\n",
            "Epoch 22 starting at: 16:39:02\n"
          ],
          "name": "stdout"
        },
        {
          "output_type": "stream",
          "text": [
            "100%|██████████| 157/157 [00:21<00:00,  7.31it/s]\n",
            "100%|██████████| 40/40 [00:04<00:00,  9.50it/s]\n",
            "  1%|          | 1/157 [00:00<00:21,  7.22it/s]"
          ],
          "name": "stderr"
        },
        {
          "output_type": "stream",
          "text": [
            "Adjusting learning rate of group 0 to 9.2160e-03.\n",
            "\n",
            "Epoch 22 of 100, 25.68 s, with average training loss: 0.10249291, and validation loss: nan, validation accuracy: 83.49\n",
            "Epoch 23 starting at: 16:39:28\n"
          ],
          "name": "stdout"
        },
        {
          "output_type": "stream",
          "text": [
            "100%|██████████| 157/157 [00:21<00:00,  7.30it/s]\n",
            "100%|██████████| 40/40 [00:04<00:00,  9.42it/s]\n",
            "  1%|          | 1/157 [00:00<00:22,  6.84it/s]"
          ],
          "name": "stderr"
        },
        {
          "output_type": "stream",
          "text": [
            "Adjusting learning rate of group 0 to 9.2160e-03.\n",
            "\n",
            "Epoch 23 of 100, 25.75 s, with average training loss: 0.10388845, and validation loss: nan, validation accuracy: 81.13\n",
            "Epoch 24 starting at: 16:39:54\n"
          ],
          "name": "stdout"
        },
        {
          "output_type": "stream",
          "text": [
            "100%|██████████| 157/157 [00:21<00:00,  7.32it/s]\n",
            "100%|██████████| 40/40 [00:04<00:00,  9.45it/s]\n",
            "  1%|          | 1/157 [00:00<00:21,  7.09it/s]"
          ],
          "name": "stderr"
        },
        {
          "output_type": "stream",
          "text": [
            "Adjusting learning rate of group 0 to 8.8474e-03.\n",
            "\n",
            "Epoch 24 of 100, 25.70 s, with average training loss: 0.08714361, and validation loss: nan, validation accuracy: 83.00\n",
            "Epoch 25 starting at: 16:40:19\n"
          ],
          "name": "stdout"
        },
        {
          "output_type": "stream",
          "text": [
            "100%|██████████| 157/157 [00:21<00:00,  7.38it/s]\n",
            "100%|██████████| 40/40 [00:04<00:00,  9.38it/s]\n",
            "  1%|          | 1/157 [00:00<00:22,  6.84it/s]"
          ],
          "name": "stderr"
        },
        {
          "output_type": "stream",
          "text": [
            "Adjusting learning rate of group 0 to 8.8474e-03.\n",
            "\n",
            "Epoch 25 of 100, 25.53 s, with average training loss: 0.06713524, and validation loss: nan, validation accuracy: 84.90\n",
            "Epoch 26 starting at: 16:40:45\n"
          ],
          "name": "stdout"
        },
        {
          "output_type": "stream",
          "text": [
            "100%|██████████| 157/157 [00:21<00:00,  7.35it/s]\n",
            "100%|██████████| 40/40 [00:04<00:00,  9.50it/s]\n",
            "  1%|          | 1/157 [00:00<00:21,  7.10it/s]"
          ],
          "name": "stderr"
        },
        {
          "output_type": "stream",
          "text": [
            "Adjusting learning rate of group 0 to 8.8474e-03.\n",
            "\n",
            "Epoch 26 of 100, 25.59 s, with average training loss: 0.06844151, and validation loss: nan, validation accuracy: 83.47\n",
            "Epoch 27 starting at: 16:41:10\n"
          ],
          "name": "stdout"
        },
        {
          "output_type": "stream",
          "text": [
            "100%|██████████| 157/157 [00:21<00:00,  7.34it/s]\n",
            "100%|██████████| 40/40 [00:04<00:00,  9.40it/s]\n",
            "  1%|          | 1/157 [00:00<00:21,  7.18it/s]"
          ],
          "name": "stderr"
        },
        {
          "output_type": "stream",
          "text": [
            "Adjusting learning rate of group 0 to 8.8474e-03.\n",
            "\n",
            "Epoch 27 of 100, 25.64 s, with average training loss: 0.06181348, and validation loss: nan, validation accuracy: 84.33\n",
            "Epoch 28 starting at: 16:41:36\n"
          ],
          "name": "stdout"
        },
        {
          "output_type": "stream",
          "text": [
            "100%|██████████| 157/157 [00:21<00:00,  7.34it/s]\n",
            "100%|██████████| 40/40 [00:04<00:00,  9.35it/s]\n",
            "  1%|          | 1/157 [00:00<00:22,  6.93it/s]"
          ],
          "name": "stderr"
        },
        {
          "output_type": "stream",
          "text": [
            "Adjusting learning rate of group 0 to 8.8474e-03.\n",
            "\n",
            "Epoch 28 of 100, 25.68 s, with average training loss: 0.06500717, and validation loss: nan, validation accuracy: 83.18\n",
            "Epoch 29 starting at: 16:42:02\n"
          ],
          "name": "stdout"
        },
        {
          "output_type": "stream",
          "text": [
            "100%|██████████| 157/157 [00:21<00:00,  7.36it/s]\n",
            "100%|██████████| 40/40 [00:04<00:00,  9.34it/s]\n",
            "  1%|          | 1/157 [00:00<00:22,  6.81it/s]"
          ],
          "name": "stderr"
        },
        {
          "output_type": "stream",
          "text": [
            "Adjusting learning rate of group 0 to 8.8474e-03.\n",
            "\n",
            "Epoch 29 of 100, 25.62 s, with average training loss: 0.06369049, and validation loss: nan, validation accuracy: 84.01\n",
            "Epoch 30 starting at: 16:42:27\n"
          ],
          "name": "stdout"
        },
        {
          "output_type": "stream",
          "text": [
            "100%|██████████| 157/157 [00:21<00:00,  7.33it/s]\n",
            "100%|██████████| 40/40 [00:04<00:00,  9.48it/s]\n",
            "  1%|          | 1/157 [00:00<00:21,  7.31it/s]"
          ],
          "name": "stderr"
        },
        {
          "output_type": "stream",
          "text": [
            "Adjusting learning rate of group 0 to 8.8474e-03.\n",
            "\n",
            "Epoch 30 of 100, 25.64 s, with average training loss: 0.04867912, and validation loss: nan, validation accuracy: 84.58\n",
            "Epoch 31 starting at: 16:42:53\n"
          ],
          "name": "stdout"
        },
        {
          "output_type": "stream",
          "text": [
            "100%|██████████| 157/157 [00:21<00:00,  7.27it/s]\n",
            "100%|██████████| 40/40 [00:04<00:00,  9.26it/s]\n",
            "  1%|          | 1/157 [00:00<00:21,  7.11it/s]"
          ],
          "name": "stderr"
        },
        {
          "output_type": "stream",
          "text": [
            "Adjusting learning rate of group 0 to 8.8474e-03.\n",
            "\n",
            "Epoch 31 of 100, 25.91 s, with average training loss: 0.05765950, and validation loss: nan, validation accuracy: 84.40\n",
            "Epoch 32 starting at: 16:43:19\n"
          ],
          "name": "stdout"
        },
        {
          "output_type": "stream",
          "text": [
            "100%|██████████| 157/157 [00:21<00:00,  7.33it/s]\n",
            "100%|██████████| 40/40 [00:04<00:00,  9.43it/s]\n",
            "  1%|          | 1/157 [00:00<00:21,  7.42it/s]"
          ],
          "name": "stderr"
        },
        {
          "output_type": "stream",
          "text": [
            "Adjusting learning rate of group 0 to 8.4935e-03.\n",
            "\n",
            "Epoch 32 of 100, 25.66 s, with average training loss: 0.05592050, and validation loss: nan, validation accuracy: 82.31\n",
            "Epoch 33 starting at: 16:43:45\n"
          ],
          "name": "stdout"
        },
        {
          "output_type": "stream",
          "text": [
            "100%|██████████| 157/157 [00:21<00:00,  7.35it/s]\n",
            "100%|██████████| 40/40 [00:04<00:00,  9.43it/s]\n",
            "  1%|          | 1/157 [00:00<00:21,  7.14it/s]"
          ],
          "name": "stderr"
        },
        {
          "output_type": "stream",
          "text": [
            "Adjusting learning rate of group 0 to 8.4935e-03.\n",
            "\n",
            "Epoch 33 of 100, 25.62 s, with average training loss: 0.04115053, and validation loss: nan, validation accuracy: 84.23\n",
            "Epoch 34 starting at: 16:44:10\n"
          ],
          "name": "stdout"
        },
        {
          "output_type": "stream",
          "text": [
            "100%|██████████| 157/157 [00:21<00:00,  7.29it/s]\n",
            "100%|██████████| 40/40 [00:04<00:00,  9.48it/s]\n",
            "  1%|          | 1/157 [00:00<00:21,  7.21it/s]"
          ],
          "name": "stderr"
        },
        {
          "output_type": "stream",
          "text": [
            "Adjusting learning rate of group 0 to 8.4935e-03.\n",
            "\n",
            "Epoch 34 of 100, 25.77 s, with average training loss: 0.03689464, and validation loss: nan, validation accuracy: 83.46\n",
            "Epoch 35 starting at: 16:44:36\n"
          ],
          "name": "stdout"
        },
        {
          "output_type": "stream",
          "text": [
            "100%|██████████| 157/157 [00:21<00:00,  7.45it/s]\n",
            "100%|██████████| 40/40 [00:04<00:00,  9.55it/s]\n",
            "  1%|          | 1/157 [00:00<00:21,  7.23it/s]"
          ],
          "name": "stderr"
        },
        {
          "output_type": "stream",
          "text": [
            "Adjusting learning rate of group 0 to 8.4935e-03.\n",
            "\n",
            "Epoch 35 of 100, 25.28 s, with average training loss: 0.03031476, and validation loss: nan, validation accuracy: 84.46\n",
            "Epoch 36 starting at: 16:45:01\n"
          ],
          "name": "stdout"
        },
        {
          "output_type": "stream",
          "text": [
            "100%|██████████| 157/157 [00:21<00:00,  7.43it/s]\n",
            "100%|██████████| 40/40 [00:04<00:00,  9.74it/s]\n",
            "  1%|          | 1/157 [00:00<00:21,  7.20it/s]"
          ],
          "name": "stderr"
        },
        {
          "output_type": "stream",
          "text": [
            "Adjusting learning rate of group 0 to 8.4935e-03.\n",
            "\n",
            "Epoch 36 of 100, 25.24 s, with average training loss: 0.03530254, and validation loss: nan, validation accuracy: 84.13\n",
            "Epoch 37 starting at: 16:45:26\n"
          ],
          "name": "stdout"
        },
        {
          "output_type": "stream",
          "text": [
            "100%|██████████| 157/157 [00:20<00:00,  7.52it/s]\n",
            "100%|██████████| 40/40 [00:04<00:00,  9.60it/s]\n",
            "  1%|          | 1/157 [00:00<00:21,  7.24it/s]"
          ],
          "name": "stderr"
        },
        {
          "output_type": "stream",
          "text": [
            "Adjusting learning rate of group 0 to 8.4935e-03.\n",
            "\n",
            "Epoch 37 of 100, 25.06 s, with average training loss: 0.02985585, and validation loss: nan, validation accuracy: 85.60\n",
            "Epoch 38 starting at: 16:45:51\n"
          ],
          "name": "stdout"
        },
        {
          "output_type": "stream",
          "text": [
            "100%|██████████| 157/157 [00:21<00:00,  7.46it/s]\n",
            "100%|██████████| 40/40 [00:04<00:00,  9.64it/s]\n",
            "  1%|          | 1/157 [00:00<00:22,  7.00it/s]"
          ],
          "name": "stderr"
        },
        {
          "output_type": "stream",
          "text": [
            "Adjusting learning rate of group 0 to 8.4935e-03.\n",
            "\n",
            "Epoch 38 of 100, 25.20 s, with average training loss: 0.02987140, and validation loss: nan, validation accuracy: 84.46\n",
            "Epoch 39 starting at: 16:46:17\n"
          ],
          "name": "stdout"
        },
        {
          "output_type": "stream",
          "text": [
            "100%|██████████| 157/157 [00:20<00:00,  7.49it/s]\n",
            "100%|██████████| 40/40 [00:04<00:00,  9.65it/s]\n",
            "  1%|          | 1/157 [00:00<00:21,  7.16it/s]"
          ],
          "name": "stderr"
        },
        {
          "output_type": "stream",
          "text": [
            "Adjusting learning rate of group 0 to 8.4935e-03.\n",
            "\n",
            "Epoch 39 of 100, 25.10 s, with average training loss: 0.02459802, and validation loss: nan, validation accuracy: 84.72\n",
            "Epoch 40 starting at: 16:46:42\n"
          ],
          "name": "stdout"
        },
        {
          "output_type": "stream",
          "text": [
            "100%|██████████| 157/157 [00:21<00:00,  7.41it/s]\n",
            "100%|██████████| 40/40 [00:04<00:00,  9.82it/s]\n",
            "  1%|          | 1/157 [00:00<00:21,  7.28it/s]"
          ],
          "name": "stderr"
        },
        {
          "output_type": "stream",
          "text": [
            "Adjusting learning rate of group 0 to 8.1537e-03.\n",
            "\n",
            "Epoch 40 of 100, 25.26 s, with average training loss: 0.02392569, and validation loss: nan, validation accuracy: 85.56\n",
            "Epoch 41 starting at: 16:47:07\n"
          ],
          "name": "stdout"
        },
        {
          "output_type": "stream",
          "text": [
            "100%|██████████| 157/157 [00:20<00:00,  7.49it/s]\n",
            "100%|██████████| 40/40 [00:04<00:00,  9.63it/s]\n",
            "  1%|          | 1/157 [00:00<00:22,  6.96it/s]"
          ],
          "name": "stderr"
        },
        {
          "output_type": "stream",
          "text": [
            "Adjusting learning rate of group 0 to 8.1537e-03.\n",
            "\n",
            "Epoch 41 of 100, 25.12 s, with average training loss: 0.01944415, and validation loss: nan, validation accuracy: 85.00\n",
            "Epoch 42 starting at: 16:47:32\n"
          ],
          "name": "stdout"
        },
        {
          "output_type": "stream",
          "text": [
            "100%|██████████| 157/157 [00:20<00:00,  7.52it/s]\n",
            "100%|██████████| 40/40 [00:04<00:00,  9.63it/s]\n",
            "  1%|          | 1/157 [00:00<00:21,  7.37it/s]"
          ],
          "name": "stderr"
        },
        {
          "output_type": "stream",
          "text": [
            "Adjusting learning rate of group 0 to 8.1537e-03.\n",
            "\n",
            "Epoch 42 of 100, 25.05 s, with average training loss: 0.02328428, and validation loss: nan, validation accuracy: 85.35\n",
            "Epoch 43 starting at: 16:47:57\n"
          ],
          "name": "stdout"
        },
        {
          "output_type": "stream",
          "text": [
            "100%|██████████| 157/157 [00:20<00:00,  7.52it/s]\n",
            "100%|██████████| 40/40 [00:04<00:00,  9.56it/s]\n",
            "  1%|          | 1/157 [00:00<00:22,  7.05it/s]"
          ],
          "name": "stderr"
        },
        {
          "output_type": "stream",
          "text": [
            "Adjusting learning rate of group 0 to 8.1537e-03.\n",
            "\n",
            "Epoch 43 of 100, 25.06 s, with average training loss: 0.01831109, and validation loss: nan, validation accuracy: 85.27\n",
            "Epoch 44 starting at: 16:48:22\n"
          ],
          "name": "stdout"
        },
        {
          "output_type": "stream",
          "text": [
            "100%|██████████| 157/157 [00:21<00:00,  7.43it/s]\n",
            "100%|██████████| 40/40 [00:04<00:00,  9.58it/s]\n",
            "  1%|          | 1/157 [00:00<00:21,  7.23it/s]"
          ],
          "name": "stderr"
        },
        {
          "output_type": "stream",
          "text": [
            "Adjusting learning rate of group 0 to 8.1537e-03.\n",
            "\n",
            "Epoch 44 of 100, 25.31 s, with average training loss: 0.02591205, and validation loss: nan, validation accuracy: 85.10\n",
            "Epoch 45 starting at: 16:48:48\n"
          ],
          "name": "stdout"
        },
        {
          "output_type": "stream",
          "text": [
            "100%|██████████| 157/157 [00:21<00:00,  7.45it/s]\n",
            "100%|██████████| 40/40 [00:04<00:00,  9.59it/s]\n",
            "  1%|          | 1/157 [00:00<00:21,  7.23it/s]"
          ],
          "name": "stderr"
        },
        {
          "output_type": "stream",
          "text": [
            "Adjusting learning rate of group 0 to 8.1537e-03.\n",
            "\n",
            "Epoch 45 of 100, 25.26 s, with average training loss: 0.01854163, and validation loss: nan, validation accuracy: 85.12\n",
            "Epoch 46 starting at: 16:49:13\n"
          ],
          "name": "stdout"
        },
        {
          "output_type": "stream",
          "text": [
            "100%|██████████| 157/157 [00:20<00:00,  7.53it/s]\n",
            "100%|██████████| 40/40 [00:04<00:00,  9.79it/s]\n",
            "  1%|          | 1/157 [00:00<00:21,  7.19it/s]"
          ],
          "name": "stderr"
        },
        {
          "output_type": "stream",
          "text": [
            "Adjusting learning rate of group 0 to 8.1537e-03.\n",
            "\n",
            "Epoch 46 of 100, 24.95 s, with average training loss: 0.01145274, and validation loss: nan, validation accuracy: 85.51\n",
            "Epoch 47 starting at: 16:49:38\n"
          ],
          "name": "stdout"
        },
        {
          "output_type": "stream",
          "text": [
            "100%|██████████| 157/157 [00:20<00:00,  7.56it/s]\n",
            "100%|██████████| 40/40 [00:04<00:00,  9.71it/s]\n",
            "  1%|          | 1/157 [00:00<00:21,  7.19it/s]"
          ],
          "name": "stderr"
        },
        {
          "output_type": "stream",
          "text": [
            "Adjusting learning rate of group 0 to 8.1537e-03.\n",
            "\n",
            "Epoch 47 of 100, 24.89 s, with average training loss: 0.01121809, and validation loss: nan, validation accuracy: 85.34\n",
            "Epoch 48 starting at: 16:50:03\n"
          ],
          "name": "stdout"
        },
        {
          "output_type": "stream",
          "text": [
            "100%|██████████| 157/157 [00:21<00:00,  7.41it/s]\n",
            "100%|██████████| 40/40 [00:04<00:00,  9.57it/s]\n",
            "  1%|          | 1/157 [00:00<00:21,  7.12it/s]"
          ],
          "name": "stderr"
        },
        {
          "output_type": "stream",
          "text": [
            "Adjusting learning rate of group 0 to 7.8276e-03.\n",
            "\n",
            "Epoch 48 of 100, 25.36 s, with average training loss: 0.02113481, and validation loss: nan, validation accuracy: 84.27\n",
            "Epoch 49 starting at: 16:50:28\n"
          ],
          "name": "stdout"
        },
        {
          "output_type": "stream",
          "text": [
            "100%|██████████| 157/157 [00:21<00:00,  7.44it/s]\n",
            "100%|██████████| 40/40 [00:04<00:00,  9.53it/s]\n",
            "  1%|          | 1/157 [00:00<00:23,  6.60it/s]"
          ],
          "name": "stderr"
        },
        {
          "output_type": "stream",
          "text": [
            "Adjusting learning rate of group 0 to 7.8276e-03.\n",
            "\n",
            "Epoch 49 of 100, 25.30 s, with average training loss: 0.02965207, and validation loss: nan, validation accuracy: 85.13\n",
            "Epoch 50 starting at: 16:50:53\n"
          ],
          "name": "stdout"
        },
        {
          "output_type": "stream",
          "text": [
            "100%|██████████| 157/157 [00:21<00:00,  7.34it/s]\n",
            "100%|██████████| 40/40 [00:04<00:00,  9.38it/s]\n",
            "  1%|          | 1/157 [00:00<00:21,  7.22it/s]"
          ],
          "name": "stderr"
        },
        {
          "output_type": "stream",
          "text": [
            "Adjusting learning rate of group 0 to 7.8276e-03.\n",
            "\n",
            "Epoch 50 of 100, 25.65 s, with average training loss: 0.02251007, and validation loss: nan, validation accuracy: 84.86\n",
            "Epoch 51 starting at: 16:51:19\n"
          ],
          "name": "stdout"
        },
        {
          "output_type": "stream",
          "text": [
            "100%|██████████| 157/157 [00:21<00:00,  7.39it/s]\n",
            "100%|██████████| 40/40 [00:04<00:00,  9.55it/s]\n",
            "  1%|          | 1/157 [00:00<00:22,  6.98it/s]"
          ],
          "name": "stderr"
        },
        {
          "output_type": "stream",
          "text": [
            "Adjusting learning rate of group 0 to 7.8276e-03.\n",
            "\n",
            "Epoch 51 of 100, 25.43 s, with average training loss: 0.01271179, and validation loss: nan, validation accuracy: 86.06\n",
            "Epoch 52 starting at: 16:51:44\n"
          ],
          "name": "stdout"
        },
        {
          "output_type": "stream",
          "text": [
            "100%|██████████| 157/157 [00:21<00:00,  7.45it/s]\n",
            "100%|██████████| 40/40 [00:04<00:00,  9.60it/s]\n",
            "  1%|          | 1/157 [00:00<00:21,  7.27it/s]"
          ],
          "name": "stderr"
        },
        {
          "output_type": "stream",
          "text": [
            "Adjusting learning rate of group 0 to 7.8276e-03.\n",
            "\n",
            "Epoch 52 of 100, 25.24 s, with average training loss: 0.00805126, and validation loss: nan, validation accuracy: 85.80\n",
            "Epoch 53 starting at: 16:52:10\n"
          ],
          "name": "stdout"
        },
        {
          "output_type": "stream",
          "text": [
            "100%|██████████| 157/157 [00:20<00:00,  7.48it/s]\n",
            "100%|██████████| 40/40 [00:04<00:00,  9.41it/s]\n",
            "  1%|          | 1/157 [00:00<00:22,  6.99it/s]"
          ],
          "name": "stderr"
        },
        {
          "output_type": "stream",
          "text": [
            "Adjusting learning rate of group 0 to 7.8276e-03.\n",
            "\n",
            "Epoch 53 of 100, 25.24 s, with average training loss: 0.00859311, and validation loss: nan, validation accuracy: 85.15\n",
            "Epoch 54 starting at: 16:52:35\n"
          ],
          "name": "stdout"
        },
        {
          "output_type": "stream",
          "text": [
            "100%|██████████| 157/157 [00:21<00:00,  7.31it/s]\n",
            "100%|██████████| 40/40 [00:04<00:00,  9.45it/s]\n",
            "  1%|          | 1/157 [00:00<00:21,  7.16it/s]"
          ],
          "name": "stderr"
        },
        {
          "output_type": "stream",
          "text": [
            "Adjusting learning rate of group 0 to 7.8276e-03.\n",
            "\n",
            "Epoch 54 of 100, 25.73 s, with average training loss: 0.00918057, and validation loss: nan, validation accuracy: 85.52\n",
            "Epoch 55 starting at: 16:53:01\n"
          ],
          "name": "stdout"
        },
        {
          "output_type": "stream",
          "text": [
            "100%|██████████| 157/157 [00:21<00:00,  7.36it/s]\n",
            "100%|██████████| 40/40 [00:04<00:00,  9.36it/s]\n",
            "  1%|          | 1/157 [00:00<00:23,  6.67it/s]"
          ],
          "name": "stderr"
        },
        {
          "output_type": "stream",
          "text": [
            "Adjusting learning rate of group 0 to 7.8276e-03.\n",
            "\n",
            "Epoch 55 of 100, 25.60 s, with average training loss: 0.00784399, and validation loss: nan, validation accuracy: 85.60\n",
            "Epoch 56 starting at: 16:53:26\n"
          ],
          "name": "stdout"
        },
        {
          "output_type": "stream",
          "text": [
            "100%|██████████| 157/157 [00:21<00:00,  7.25it/s]\n",
            "100%|██████████| 40/40 [00:04<00:00,  9.58it/s]\n",
            "  1%|          | 1/157 [00:00<00:20,  7.68it/s]"
          ],
          "name": "stderr"
        },
        {
          "output_type": "stream",
          "text": [
            "Adjusting learning rate of group 0 to 7.5145e-03.\n",
            "\n",
            "Epoch 56 of 100, 25.85 s, with average training loss: 0.00828860, and validation loss: nan, validation accuracy: 85.41\n",
            "Epoch 57 starting at: 16:53:52\n"
          ],
          "name": "stdout"
        },
        {
          "output_type": "stream",
          "text": [
            "100%|██████████| 157/157 [00:21<00:00,  7.40it/s]\n",
            "100%|██████████| 40/40 [00:04<00:00,  9.51it/s]\n",
            "  1%|          | 1/157 [00:00<00:22,  6.83it/s]"
          ],
          "name": "stderr"
        },
        {
          "output_type": "stream",
          "text": [
            "Adjusting learning rate of group 0 to 7.5145e-03.\n",
            "\n",
            "Epoch 57 of 100, 25.44 s, with average training loss: 0.00745493, and validation loss: nan, validation accuracy: 85.90\n",
            "Epoch 58 starting at: 16:54:18\n"
          ],
          "name": "stdout"
        },
        {
          "output_type": "stream",
          "text": [
            "100%|██████████| 157/157 [00:21<00:00,  7.40it/s]\n",
            "100%|██████████| 40/40 [00:04<00:00,  9.56it/s]\n",
            "  1%|          | 1/157 [00:00<00:20,  7.57it/s]"
          ],
          "name": "stderr"
        },
        {
          "output_type": "stream",
          "text": [
            "Adjusting learning rate of group 0 to 7.5145e-03.\n",
            "\n",
            "Epoch 58 of 100, 25.40 s, with average training loss: 0.00573186, and validation loss: nan, validation accuracy: 85.87\n",
            "Epoch 59 starting at: 16:54:43\n"
          ],
          "name": "stdout"
        },
        {
          "output_type": "stream",
          "text": [
            "100%|██████████| 157/157 [00:20<00:00,  7.48it/s]\n",
            "100%|██████████| 40/40 [00:04<00:00,  9.50it/s]\n",
            "  1%|          | 1/157 [00:00<00:22,  7.06it/s]"
          ],
          "name": "stderr"
        },
        {
          "output_type": "stream",
          "text": [
            "Adjusting learning rate of group 0 to 7.5145e-03.\n",
            "\n",
            "Epoch 59 of 100, 25.21 s, with average training loss: 0.00521625, and validation loss: nan, validation accuracy: 86.03\n",
            "Epoch 60 starting at: 16:55:08\n"
          ],
          "name": "stdout"
        },
        {
          "output_type": "stream",
          "text": [
            "100%|██████████| 157/157 [00:21<00:00,  7.45it/s]\n",
            "100%|██████████| 40/40 [00:04<00:00,  9.61it/s]\n",
            "  1%|          | 1/157 [00:00<00:22,  6.91it/s]"
          ],
          "name": "stderr"
        },
        {
          "output_type": "stream",
          "text": [
            "Adjusting learning rate of group 0 to 7.5145e-03.\n",
            "\n",
            "Epoch 60 of 100, 25.24 s, with average training loss: 0.00566820, and validation loss: nan, validation accuracy: 86.33\n",
            "Epoch 61 starting at: 16:55:33\n"
          ],
          "name": "stdout"
        },
        {
          "output_type": "stream",
          "text": [
            "100%|██████████| 157/157 [00:21<00:00,  7.44it/s]\n",
            "100%|██████████| 40/40 [00:04<00:00,  9.57it/s]\n",
            "  1%|          | 1/157 [00:00<00:22,  7.02it/s]"
          ],
          "name": "stderr"
        },
        {
          "output_type": "stream",
          "text": [
            "Adjusting learning rate of group 0 to 7.5145e-03.\n",
            "\n",
            "Epoch 61 of 100, 25.29 s, with average training loss: 0.00839801, and validation loss: nan, validation accuracy: 85.10\n",
            "Epoch 62 starting at: 16:55:59\n"
          ],
          "name": "stdout"
        },
        {
          "output_type": "stream",
          "text": [
            "100%|██████████| 157/157 [00:21<00:00,  7.45it/s]\n",
            "100%|██████████| 40/40 [00:04<00:00,  9.61it/s]\n",
            "  1%|          | 1/157 [00:00<00:21,  7.11it/s]"
          ],
          "name": "stderr"
        },
        {
          "output_type": "stream",
          "text": [
            "Adjusting learning rate of group 0 to 7.5145e-03.\n",
            "\n",
            "Epoch 62 of 100, 25.24 s, with average training loss: 0.01367389, and validation loss: nan, validation accuracy: 85.52\n",
            "Epoch 63 starting at: 16:56:24\n"
          ],
          "name": "stdout"
        },
        {
          "output_type": "stream",
          "text": [
            "100%|██████████| 157/157 [00:21<00:00,  7.33it/s]\n",
            "100%|██████████| 40/40 [00:04<00:00,  9.37it/s]\n",
            "  1%|          | 1/157 [00:00<00:22,  7.02it/s]"
          ],
          "name": "stderr"
        },
        {
          "output_type": "stream",
          "text": [
            "Adjusting learning rate of group 0 to 7.5145e-03.\n",
            "\n",
            "Epoch 63 of 100, 25.69 s, with average training loss: 0.00903086, and validation loss: nan, validation accuracy: 85.66\n",
            "Epoch 64 starting at: 16:56:50\n"
          ],
          "name": "stdout"
        },
        {
          "output_type": "stream",
          "text": [
            "100%|██████████| 157/157 [00:21<00:00,  7.36it/s]\n",
            "100%|██████████| 40/40 [00:04<00:00,  9.38it/s]\n",
            "  1%|          | 1/157 [00:00<00:22,  6.98it/s]"
          ],
          "name": "stderr"
        },
        {
          "output_type": "stream",
          "text": [
            "Adjusting learning rate of group 0 to 7.2139e-03.\n",
            "\n",
            "Epoch 64 of 100, 25.60 s, with average training loss: 0.01707369, and validation loss: nan, validation accuracy: 85.24\n",
            "Epoch 65 starting at: 16:57:15\n"
          ],
          "name": "stdout"
        },
        {
          "output_type": "stream",
          "text": [
            "100%|██████████| 157/157 [00:21<00:00,  7.35it/s]\n",
            "100%|██████████| 40/40 [00:04<00:00,  9.55it/s]\n",
            "  1%|          | 1/157 [00:00<00:22,  7.02it/s]"
          ],
          "name": "stderr"
        },
        {
          "output_type": "stream",
          "text": [
            "Adjusting learning rate of group 0 to 7.2139e-03.\n",
            "\n",
            "Epoch 65 of 100, 25.57 s, with average training loss: 0.00901925, and validation loss: nan, validation accuracy: 86.56\n",
            "Epoch 66 starting at: 16:57:41\n"
          ],
          "name": "stdout"
        },
        {
          "output_type": "stream",
          "text": [
            "100%|██████████| 157/157 [00:21<00:00,  7.39it/s]\n",
            "100%|██████████| 40/40 [00:04<00:00,  9.49it/s]\n",
            "  1%|          | 1/157 [00:00<00:20,  7.57it/s]"
          ],
          "name": "stderr"
        },
        {
          "output_type": "stream",
          "text": [
            "Adjusting learning rate of group 0 to 7.2139e-03.\n",
            "\n",
            "Epoch 66 of 100, 25.48 s, with average training loss: 0.00969601, and validation loss: nan, validation accuracy: 86.05\n",
            "Epoch 67 starting at: 16:58:06\n"
          ],
          "name": "stdout"
        },
        {
          "output_type": "stream",
          "text": [
            "100%|██████████| 157/157 [00:21<00:00,  7.41it/s]\n",
            "100%|██████████| 40/40 [00:04<00:00,  9.38it/s]\n",
            "  1%|          | 1/157 [00:00<00:22,  6.97it/s]"
          ],
          "name": "stderr"
        },
        {
          "output_type": "stream",
          "text": [
            "Adjusting learning rate of group 0 to 7.2139e-03.\n",
            "\n",
            "Epoch 67 of 100, 25.44 s, with average training loss: 0.00618184, and validation loss: nan, validation accuracy: 86.23\n",
            "Epoch 68 starting at: 16:58:32\n"
          ],
          "name": "stdout"
        },
        {
          "output_type": "stream",
          "text": [
            "100%|██████████| 157/157 [00:21<00:00,  7.41it/s]\n",
            "100%|██████████| 40/40 [00:04<00:00,  9.42it/s]\n",
            "  1%|          | 1/157 [00:00<00:21,  7.12it/s]"
          ],
          "name": "stderr"
        },
        {
          "output_type": "stream",
          "text": [
            "Adjusting learning rate of group 0 to 7.2139e-03.\n",
            "\n",
            "Epoch 68 of 100, 25.46 s, with average training loss: 0.00664133, and validation loss: nan, validation accuracy: 85.91\n",
            "Epoch 69 starting at: 16:58:57\n"
          ],
          "name": "stdout"
        },
        {
          "output_type": "stream",
          "text": [
            "100%|██████████| 157/157 [00:21<00:00,  7.35it/s]\n",
            "100%|██████████| 40/40 [00:04<00:00,  9.54it/s]\n",
            "  1%|          | 1/157 [00:00<00:22,  6.90it/s]"
          ],
          "name": "stderr"
        },
        {
          "output_type": "stream",
          "text": [
            "Adjusting learning rate of group 0 to 7.2139e-03.\n",
            "\n",
            "Epoch 69 of 100, 25.56 s, with average training loss: 0.00433852, and validation loss: nan, validation accuracy: 86.34\n",
            "Epoch 70 starting at: 16:59:23\n"
          ],
          "name": "stdout"
        },
        {
          "output_type": "stream",
          "text": [
            "100%|██████████| 157/157 [00:21<00:00,  7.20it/s]\n",
            "100%|██████████| 40/40 [00:04<00:00,  9.33it/s]\n",
            "  1%|          | 1/157 [00:00<00:21,  7.34it/s]"
          ],
          "name": "stderr"
        },
        {
          "output_type": "stream",
          "text": [
            "Adjusting learning rate of group 0 to 7.2139e-03.\n",
            "\n",
            "Epoch 70 of 100, 26.11 s, with average training loss: 0.00353779, and validation loss: nan, validation accuracy: 86.23\n",
            "Epoch 71 starting at: 16:59:49\n"
          ],
          "name": "stdout"
        },
        {
          "output_type": "stream",
          "text": [
            "100%|██████████| 157/157 [00:21<00:00,  7.28it/s]\n",
            "100%|██████████| 40/40 [00:04<00:00,  9.45it/s]\n",
            "  1%|          | 1/157 [00:00<00:22,  7.05it/s]"
          ],
          "name": "stderr"
        },
        {
          "output_type": "stream",
          "text": [
            "Adjusting learning rate of group 0 to 7.2139e-03.\n",
            "\n",
            "Epoch 71 of 100, 25.81 s, with average training loss: 0.00260974, and validation loss: nan, validation accuracy: 86.40\n",
            "Epoch 72 starting at: 17:00:15\n"
          ],
          "name": "stdout"
        },
        {
          "output_type": "stream",
          "text": [
            "100%|██████████| 157/157 [00:21<00:00,  7.37it/s]\n",
            "100%|██████████| 40/40 [00:04<00:00,  9.54it/s]\n",
            "  1%|          | 1/157 [00:00<00:20,  7.52it/s]"
          ],
          "name": "stderr"
        },
        {
          "output_type": "stream",
          "text": [
            "Adjusting learning rate of group 0 to 6.9253e-03.\n",
            "\n",
            "Epoch 72 of 100, 25.51 s, with average training loss: 0.00268283, and validation loss: nan, validation accuracy: 86.34\n",
            "Epoch 73 starting at: 17:00:40\n"
          ],
          "name": "stdout"
        },
        {
          "output_type": "stream",
          "text": [
            "100%|██████████| 157/157 [00:21<00:00,  7.42it/s]\n",
            "100%|██████████| 40/40 [00:04<00:00,  9.50it/s]\n",
            "  1%|          | 1/157 [00:00<00:22,  7.05it/s]"
          ],
          "name": "stderr"
        },
        {
          "output_type": "stream",
          "text": [
            "Adjusting learning rate of group 0 to 6.9253e-03.\n",
            "\n",
            "Epoch 73 of 100, 25.39 s, with average training loss: 0.00365616, and validation loss: nan, validation accuracy: 86.51\n",
            "Epoch 74 starting at: 17:01:06\n"
          ],
          "name": "stdout"
        },
        {
          "output_type": "stream",
          "text": [
            "100%|██████████| 157/157 [00:21<00:00,  7.39it/s]\n",
            "100%|██████████| 40/40 [00:04<00:00,  9.46it/s]\n",
            "  1%|          | 1/157 [00:00<00:21,  7.37it/s]"
          ],
          "name": "stderr"
        },
        {
          "output_type": "stream",
          "text": [
            "Adjusting learning rate of group 0 to 6.9253e-03.\n",
            "\n",
            "Epoch 74 of 100, 25.47 s, with average training loss: 0.00225726, and validation loss: nan, validation accuracy: 86.65\n",
            "Epoch 75 starting at: 17:01:31\n"
          ],
          "name": "stdout"
        },
        {
          "output_type": "stream",
          "text": [
            "100%|██████████| 157/157 [00:21<00:00,  7.33it/s]\n",
            "100%|██████████| 40/40 [00:04<00:00,  9.29it/s]\n",
            "  1%|          | 1/157 [00:00<00:21,  7.20it/s]"
          ],
          "name": "stderr"
        },
        {
          "output_type": "stream",
          "text": [
            "Adjusting learning rate of group 0 to 6.9253e-03.\n",
            "\n",
            "Epoch 75 of 100, 25.74 s, with average training loss: 0.00212720, and validation loss: nan, validation accuracy: 86.61\n",
            "Epoch 76 starting at: 17:01:57\n"
          ],
          "name": "stdout"
        },
        {
          "output_type": "stream",
          "text": [
            "100%|██████████| 157/157 [00:21<00:00,  7.37it/s]\n",
            "100%|██████████| 40/40 [00:04<00:00,  9.52it/s]\n",
            "  1%|          | 1/157 [00:00<00:22,  6.97it/s]"
          ],
          "name": "stderr"
        },
        {
          "output_type": "stream",
          "text": [
            "Adjusting learning rate of group 0 to 6.9253e-03.\n",
            "\n",
            "Epoch 76 of 100, 25.50 s, with average training loss: 0.00410968, and validation loss: nan, validation accuracy: 86.56\n",
            "Epoch 77 starting at: 17:02:22\n"
          ],
          "name": "stdout"
        },
        {
          "output_type": "stream",
          "text": [
            "100%|██████████| 157/157 [00:21<00:00,  7.38it/s]\n",
            "100%|██████████| 40/40 [00:04<00:00,  9.23it/s]\n",
            "  1%|          | 1/157 [00:00<00:22,  6.89it/s]"
          ],
          "name": "stderr"
        },
        {
          "output_type": "stream",
          "text": [
            "Adjusting learning rate of group 0 to 6.9253e-03.\n",
            "\n",
            "Epoch 77 of 100, 25.63 s, with average training loss: 0.00320838, and validation loss: nan, validation accuracy: 86.57\n",
            "Epoch 78 starting at: 17:02:48\n"
          ],
          "name": "stdout"
        },
        {
          "output_type": "stream",
          "text": [
            "100%|██████████| 157/157 [00:21<00:00,  7.33it/s]\n",
            "100%|██████████| 40/40 [00:04<00:00,  9.60it/s]\n",
            "  1%|          | 1/157 [00:00<00:21,  7.27it/s]"
          ],
          "name": "stderr"
        },
        {
          "output_type": "stream",
          "text": [
            "Adjusting learning rate of group 0 to 6.9253e-03.\n",
            "\n",
            "Epoch 78 of 100, 25.59 s, with average training loss: 0.00281848, and validation loss: nan, validation accuracy: 86.45\n",
            "Epoch 79 starting at: 17:03:13\n"
          ],
          "name": "stdout"
        },
        {
          "output_type": "stream",
          "text": [
            "100%|██████████| 157/157 [00:21<00:00,  7.38it/s]\n",
            "100%|██████████| 40/40 [00:04<00:00,  9.33it/s]\n",
            "  1%|          | 1/157 [00:00<00:23,  6.76it/s]"
          ],
          "name": "stderr"
        },
        {
          "output_type": "stream",
          "text": [
            "Adjusting learning rate of group 0 to 6.9253e-03.\n",
            "\n",
            "Epoch 79 of 100, 25.58 s, with average training loss: 0.00152709, and validation loss: nan, validation accuracy: 87.12\n",
            "Epoch 80 starting at: 17:03:39\n"
          ],
          "name": "stdout"
        },
        {
          "output_type": "stream",
          "text": [
            "100%|██████████| 157/157 [00:21<00:00,  7.31it/s]\n",
            "100%|██████████| 40/40 [00:04<00:00,  9.46it/s]\n",
            "  1%|          | 1/157 [00:00<00:21,  7.25it/s]"
          ],
          "name": "stderr"
        },
        {
          "output_type": "stream",
          "text": [
            "Adjusting learning rate of group 0 to 6.6483e-03.\n",
            "\n",
            "Epoch 80 of 100, 25.72 s, with average training loss: 0.00230620, and validation loss: nan, validation accuracy: 86.77\n",
            "Epoch 81 starting at: 17:04:05\n"
          ],
          "name": "stdout"
        },
        {
          "output_type": "stream",
          "text": [
            "100%|██████████| 157/157 [00:21<00:00,  7.35it/s]\n",
            "100%|██████████| 40/40 [00:04<00:00,  9.28it/s]\n",
            "  1%|          | 1/157 [00:00<00:22,  6.90it/s]"
          ],
          "name": "stderr"
        },
        {
          "output_type": "stream",
          "text": [
            "Adjusting learning rate of group 0 to 6.6483e-03.\n",
            "\n",
            "Epoch 81 of 100, 25.69 s, with average training loss: 0.00190444, and validation loss: nan, validation accuracy: 86.33\n",
            "Epoch 82 starting at: 17:04:30\n"
          ],
          "name": "stdout"
        },
        {
          "output_type": "stream",
          "text": [
            "100%|██████████| 157/157 [00:21<00:00,  7.35it/s]\n",
            "100%|██████████| 40/40 [00:04<00:00,  9.38it/s]\n",
            "  1%|          | 1/157 [00:00<00:21,  7.42it/s]"
          ],
          "name": "stderr"
        },
        {
          "output_type": "stream",
          "text": [
            "Adjusting learning rate of group 0 to 6.6483e-03.\n",
            "\n",
            "Epoch 82 of 100, 25.64 s, with average training loss: 0.00228661, and validation loss: nan, validation accuracy: 86.44\n",
            "Epoch 83 starting at: 17:04:56\n"
          ],
          "name": "stdout"
        },
        {
          "output_type": "stream",
          "text": [
            "100%|██████████| 157/157 [00:21<00:00,  7.37it/s]\n",
            "100%|██████████| 40/40 [00:04<00:00,  9.35it/s]\n",
            "  1%|          | 1/157 [00:00<00:23,  6.74it/s]"
          ],
          "name": "stderr"
        },
        {
          "output_type": "stream",
          "text": [
            "Adjusting learning rate of group 0 to 6.6483e-03.\n",
            "\n",
            "Epoch 83 of 100, 25.59 s, with average training loss: 0.00350713, and validation loss: nan, validation accuracy: 86.54\n",
            "Epoch 84 starting at: 17:05:22\n"
          ],
          "name": "stdout"
        },
        {
          "output_type": "stream",
          "text": [
            "100%|██████████| 157/157 [00:21<00:00,  7.29it/s]\n",
            "100%|██████████| 40/40 [00:04<00:00,  9.48it/s]\n",
            "  1%|          | 1/157 [00:00<00:21,  7.30it/s]"
          ],
          "name": "stderr"
        },
        {
          "output_type": "stream",
          "text": [
            "Adjusting learning rate of group 0 to 6.6483e-03.\n",
            "\n",
            "Epoch 84 of 100, 25.75 s, with average training loss: 0.00173273, and validation loss: nan, validation accuracy: 86.45\n",
            "Epoch 85 starting at: 17:05:47\n"
          ],
          "name": "stdout"
        },
        {
          "output_type": "stream",
          "text": [
            "100%|██████████| 157/157 [00:21<00:00,  7.38it/s]\n",
            "100%|██████████| 40/40 [00:04<00:00,  9.27it/s]\n",
            "  1%|          | 1/157 [00:00<00:21,  7.10it/s]"
          ],
          "name": "stderr"
        },
        {
          "output_type": "stream",
          "text": [
            "Adjusting learning rate of group 0 to 6.6483e-03.\n",
            "\n",
            "Epoch 85 of 100, 25.60 s, with average training loss: 0.00152907, and validation loss: nan, validation accuracy: 86.44\n",
            "Epoch 86 starting at: 17:06:13\n"
          ],
          "name": "stdout"
        },
        {
          "output_type": "stream",
          "text": [
            "100%|██████████| 157/157 [00:21<00:00,  7.35it/s]\n",
            "100%|██████████| 40/40 [00:04<00:00,  9.45it/s]\n",
            "  1%|          | 1/157 [00:00<00:21,  7.14it/s]"
          ],
          "name": "stderr"
        },
        {
          "output_type": "stream",
          "text": [
            "Adjusting learning rate of group 0 to 6.6483e-03.\n",
            "\n",
            "Epoch 86 of 100, 25.61 s, with average training loss: 0.00088218, and validation loss: nan, validation accuracy: 87.11\n",
            "Epoch 87 starting at: 17:06:39\n"
          ],
          "name": "stdout"
        },
        {
          "output_type": "stream",
          "text": [
            "100%|██████████| 157/157 [00:21<00:00,  7.37it/s]\n",
            "100%|██████████| 40/40 [00:04<00:00,  9.42it/s]\n",
            "  1%|          | 1/157 [00:00<00:22,  6.87it/s]"
          ],
          "name": "stderr"
        },
        {
          "output_type": "stream",
          "text": [
            "Adjusting learning rate of group 0 to 6.6483e-03.\n",
            "\n",
            "Epoch 87 of 100, 25.56 s, with average training loss: 0.00082396, and validation loss: nan, validation accuracy: 86.88\n",
            "Epoch 88 starting at: 17:07:04\n"
          ],
          "name": "stdout"
        },
        {
          "output_type": "stream",
          "text": [
            "100%|██████████| 157/157 [00:21<00:00,  7.34it/s]\n",
            "100%|██████████| 40/40 [00:04<00:00,  9.39it/s]\n",
            "  1%|          | 1/157 [00:00<00:21,  7.19it/s]"
          ],
          "name": "stderr"
        },
        {
          "output_type": "stream",
          "text": [
            "Adjusting learning rate of group 0 to 6.3824e-03.\n",
            "\n",
            "Epoch 88 of 100, 25.65 s, with average training loss: 0.00069750, and validation loss: nan, validation accuracy: 86.91\n",
            "Epoch 89 starting at: 17:07:30\n"
          ],
          "name": "stdout"
        },
        {
          "output_type": "stream",
          "text": [
            "100%|██████████| 157/157 [00:21<00:00,  7.36it/s]\n",
            "100%|██████████| 40/40 [00:04<00:00,  9.26it/s]\n",
            "  1%|          | 1/157 [00:00<00:22,  6.90it/s]"
          ],
          "name": "stderr"
        },
        {
          "output_type": "stream",
          "text": [
            "Adjusting learning rate of group 0 to 6.3824e-03.\n",
            "\n",
            "Epoch 89 of 100, 25.66 s, with average training loss: 0.00041572, and validation loss: nan, validation accuracy: 86.69\n",
            "Epoch 90 starting at: 17:07:56\n"
          ],
          "name": "stdout"
        },
        {
          "output_type": "stream",
          "text": [
            "100%|██████████| 157/157 [00:21<00:00,  7.33it/s]\n",
            "100%|██████████| 40/40 [00:04<00:00,  9.33it/s]\n",
            "  1%|          | 1/157 [00:00<00:21,  7.22it/s]"
          ],
          "name": "stderr"
        },
        {
          "output_type": "stream",
          "text": [
            "Adjusting learning rate of group 0 to 6.3824e-03.\n",
            "\n",
            "Epoch 90 of 100, 25.71 s, with average training loss: 0.00037939, and validation loss: nan, validation accuracy: 86.68\n",
            "Epoch 91 starting at: 17:08:21\n"
          ],
          "name": "stdout"
        },
        {
          "output_type": "stream",
          "text": [
            "100%|██████████| 157/157 [00:21<00:00,  7.36it/s]\n",
            "100%|██████████| 40/40 [00:04<00:00,  9.50it/s]\n",
            "  1%|          | 1/157 [00:00<00:23,  6.70it/s]"
          ],
          "name": "stderr"
        },
        {
          "output_type": "stream",
          "text": [
            "Adjusting learning rate of group 0 to 6.3824e-03.\n",
            "\n",
            "Epoch 91 of 100, 25.55 s, with average training loss: 0.00053665, and validation loss: nan, validation accuracy: 87.20\n",
            "Epoch 92 starting at: 17:08:47\n"
          ],
          "name": "stdout"
        },
        {
          "output_type": "stream",
          "text": [
            "100%|██████████| 157/157 [00:21<00:00,  7.27it/s]\n",
            "100%|██████████| 40/40 [00:04<00:00,  9.11it/s]\n",
            "  1%|          | 1/157 [00:00<00:23,  6.68it/s]"
          ],
          "name": "stderr"
        },
        {
          "output_type": "stream",
          "text": [
            "Adjusting learning rate of group 0 to 6.3824e-03.\n",
            "\n",
            "Epoch 92 of 100, 26.00 s, with average training loss: 0.00095267, and validation loss: nan, validation accuracy: 86.85\n",
            "Epoch 93 starting at: 17:09:13\n"
          ],
          "name": "stdout"
        },
        {
          "output_type": "stream",
          "text": [
            "100%|██████████| 157/157 [00:21<00:00,  7.23it/s]\n",
            "100%|██████████| 40/40 [00:04<00:00,  9.41it/s]\n",
            "  1%|          | 1/157 [00:00<00:21,  7.10it/s]"
          ],
          "name": "stderr"
        },
        {
          "output_type": "stream",
          "text": [
            "Adjusting learning rate of group 0 to 6.3824e-03.\n",
            "\n",
            "Epoch 93 of 100, 25.96 s, with average training loss: 0.00173962, and validation loss: nan, validation accuracy: 86.92\n",
            "Epoch 94 starting at: 17:09:39\n"
          ],
          "name": "stdout"
        },
        {
          "output_type": "stream",
          "text": [
            "100%|██████████| 157/157 [00:21<00:00,  7.26it/s]\n",
            "100%|██████████| 40/40 [00:04<00:00,  9.43it/s]\n",
            "  1%|          | 1/157 [00:00<00:21,  7.40it/s]"
          ],
          "name": "stderr"
        },
        {
          "output_type": "stream",
          "text": [
            "Adjusting learning rate of group 0 to 6.3824e-03.\n",
            "\n",
            "Epoch 94 of 100, 25.89 s, with average training loss: 0.00110026, and validation loss: nan, validation accuracy: 86.60\n",
            "Epoch 95 starting at: 17:10:05\n"
          ],
          "name": "stdout"
        },
        {
          "output_type": "stream",
          "text": [
            "100%|██████████| 157/157 [00:21<00:00,  7.32it/s]\n",
            "100%|██████████| 40/40 [00:04<00:00,  9.24it/s]\n",
            "  1%|          | 1/157 [00:00<00:22,  6.82it/s]"
          ],
          "name": "stderr"
        },
        {
          "output_type": "stream",
          "text": [
            "Adjusting learning rate of group 0 to 6.3824e-03.\n",
            "\n",
            "Epoch 95 of 100, 25.77 s, with average training loss: 0.00061630, and validation loss: nan, validation accuracy: 86.92\n",
            "Epoch 96 starting at: 17:10:30\n"
          ],
          "name": "stdout"
        },
        {
          "output_type": "stream",
          "text": [
            "100%|██████████| 157/157 [00:21<00:00,  7.23it/s]\n",
            "100%|██████████| 40/40 [00:04<00:00,  9.22it/s]\n",
            "  1%|          | 1/157 [00:00<00:23,  6.67it/s]"
          ],
          "name": "stderr"
        },
        {
          "output_type": "stream",
          "text": [
            "Adjusting learning rate of group 0 to 6.1271e-03.\n",
            "\n",
            "Epoch 96 of 100, 26.06 s, with average training loss: 0.00023626, and validation loss: nan, validation accuracy: 87.10\n",
            "Epoch 97 starting at: 17:10:56\n"
          ],
          "name": "stdout"
        },
        {
          "output_type": "stream",
          "text": [
            "100%|██████████| 157/157 [00:21<00:00,  7.28it/s]\n",
            "100%|██████████| 40/40 [00:04<00:00,  9.33it/s]\n",
            "  1%|          | 1/157 [00:00<00:22,  7.07it/s]"
          ],
          "name": "stderr"
        },
        {
          "output_type": "stream",
          "text": [
            "Adjusting learning rate of group 0 to 6.1271e-03.\n",
            "\n",
            "Epoch 97 of 100, 25.85 s, with average training loss: 0.00027973, and validation loss: nan, validation accuracy: 87.47\n",
            "Epoch 98 starting at: 17:11:22\n"
          ],
          "name": "stdout"
        },
        {
          "output_type": "stream",
          "text": [
            "100%|██████████| 157/157 [00:21<00:00,  7.27it/s]\n",
            "100%|██████████| 40/40 [00:04<00:00,  9.36it/s]\n",
            "  1%|          | 1/157 [00:00<00:21,  7.12it/s]"
          ],
          "name": "stderr"
        },
        {
          "output_type": "stream",
          "text": [
            "Adjusting learning rate of group 0 to 6.1271e-03.\n",
            "\n",
            "Epoch 98 of 100, 25.88 s, with average training loss: 0.00026638, and validation loss: nan, validation accuracy: 87.15\n",
            "Epoch 99 starting at: 17:11:48\n"
          ],
          "name": "stdout"
        },
        {
          "output_type": "stream",
          "text": [
            "100%|██████████| 157/157 [00:21<00:00,  7.34it/s]\n",
            "100%|██████████| 40/40 [00:04<00:00,  9.32it/s]\n",
            "  1%|          | 1/157 [00:00<00:22,  6.92it/s]"
          ],
          "name": "stderr"
        },
        {
          "output_type": "stream",
          "text": [
            "Adjusting learning rate of group 0 to 6.1271e-03.\n",
            "\n",
            "Epoch 99 of 100, 25.68 s, with average training loss: 0.00014675, and validation loss: nan, validation accuracy: 86.93\n",
            "Epoch 100 starting at: 17:12:14\n"
          ],
          "name": "stdout"
        },
        {
          "output_type": "stream",
          "text": [
            "100%|██████████| 157/157 [00:21<00:00,  7.34it/s]\n",
            "100%|██████████| 40/40 [00:04<00:00,  9.33it/s]\n"
          ],
          "name": "stderr"
        },
        {
          "output_type": "stream",
          "text": [
            "Adjusting learning rate of group 0 to 6.1271e-03.\n",
            "\n",
            "Epoch 100 of 100, 25.68 s, with average training loss: 0.00014640, and validation loss: nan, validation accuracy: 87.21\n",
            "Finished Training  11/05/2021 17:12:40\n",
            "Avg per epoch ptime: 25.53, total 100 epochs ptime: 2552.94\n"
          ],
          "name": "stdout"
        }
      ]
    },
    {
      "cell_type": "markdown",
      "metadata": {
        "id": "w8GyvdFeUH0z"
      },
      "source": [
        "### Save training results"
      ]
    },
    {
      "cell_type": "code",
      "metadata": {
        "id": "goDJtDhxPDVv"
      },
      "source": [
        "# Show training results\n",
        "show_train_hist(train_hist, save=True, path=save_dir + '/CIFAR10_train_hist.png')\n",
        "\n",
        "# Add zeros at the beginning of data for graph 'smoothness'\n",
        "train_hist['VGG_accuracy'].insert(0, 0)\n",
        "train_hist['ResNet_accuracy'].insert(0, 0)\n",
        "train_hist['GGL_Net_accuracy'].insert(0, 0)\n",
        "# Show accuracy results\n",
        "show_accuracy_plot(train_hist, save=True, path=save_dir + '/CIFAR10_accuracy_hist.png')"
      ],
      "execution_count": 12,
      "outputs": []
    },
    {
      "cell_type": "markdown",
      "metadata": {
        "id": "VGGhLXyv6_EY"
      },
      "source": [
        "# Model Testing"
      ]
    },
    {
      "cell_type": "markdown",
      "metadata": {
        "id": "KRmLozJtpv8c"
      },
      "source": [
        "### Testing Method\n",
        "Returns top1 and top5 accuracies"
      ]
    },
    {
      "cell_type": "code",
      "metadata": {
        "id": "FBTqh7zX1tEI"
      },
      "source": [
        "def Model_Testing(device, test_loader, net):\n",
        "    net.eval()\n",
        "    with torch.no_grad():\n",
        "        total = 0\n",
        "        top1 = 0\n",
        "        top5 = 0\n",
        "        # Validation\n",
        "        for (images, labels) in tqdm(test_loader):\n",
        "            images = images.to(device)\n",
        "            labels = labels.to(device)\n",
        "\n",
        "            # calculate outputs by running images through the network\n",
        "            outputs = net(images)\n",
        "            \n",
        "            # apply softmax function to get probabilities\n",
        "            s = nn.Softmax(dim=1)\n",
        "            probabilities = s(outputs)\n",
        "\n",
        "            # class with highest probability is the predicted class\n",
        "            #_, predicted = torch.max(probabilities.data, 1)\n",
        "            # topk adapted from bearpaw's code, found at gituhb @'https://github.com/bearpaw/pytorch-classification/blob/cc9106d598ff1fe375cc030873ceacfea0499d77/utils/eval.py'\n",
        "            _, pred = probabilities.data.topk(k=5, dim=1, largest=True, sorted=True)\n",
        "            pred = pred.t()\n",
        "            correct = pred.eq(labels.view(1, -1).expand_as(pred))\n",
        "\n",
        "            total += labels.size(0)\n",
        "            top1 += correct[:1].flatten().float().sum(0)\n",
        "            top5 += correct[:5].flatten().float().sum(0)\n",
        "\n",
        "        top1_accuracy = 100 * top1/total\n",
        "        top5_accuracy = 100 * top5/total\n",
        "\n",
        "        return top1_accuracy, top5_accuracy"
      ],
      "execution_count": 13,
      "outputs": []
    },
    {
      "cell_type": "markdown",
      "metadata": {
        "id": "Rz2GqPRhp9xP"
      },
      "source": [
        "## Test on CIFAR10"
      ]
    },
    {
      "cell_type": "markdown",
      "metadata": {
        "id": "VfVpONOOqDaj"
      },
      "source": [
        "### Load testing dataset"
      ]
    },
    {
      "cell_type": "code",
      "metadata": {
        "id": "WRlgpfGqg3MI",
        "colab": {
          "base_uri": "https://localhost:8080/"
        },
        "outputId": "dd10f2e8-52fe-478a-a561-9247579d74fe"
      },
      "source": [
        "data_dir = './CIFAR10_data/'\n",
        "batch_size = 256\n",
        "\n",
        "transform = transforms.Compose([transforms.Resize(64),\n",
        "                                transforms.RandomHorizontalFlip(0.5),\n",
        "                                transforms.ToTensor(),\n",
        "                                transforms.Normalize((0.5, 0.5, 0.5), (0.5, 0.5, 0.5))])\n",
        "\n",
        "test_data = datasets.CIFAR10(root=data_dir, train=False, transform=transform, download=True)\n",
        "test_loader = DataLoader(dataset=test_data, batch_size=batch_size, shuffle=True)"
      ],
      "execution_count": 14,
      "outputs": [
        {
          "output_type": "stream",
          "text": [
            "Files already downloaded and verified\n"
          ],
          "name": "stdout"
        }
      ]
    },
    {
      "cell_type": "markdown",
      "metadata": {
        "id": "uA_7dciYqOM3"
      },
      "source": [
        "### Test VGG"
      ]
    },
    {
      "cell_type": "code",
      "metadata": {
        "id": "pmg1UppUqQsA",
        "colab": {
          "base_uri": "https://localhost:8080/"
        },
        "outputId": "4c96b097-51b5-47c9-8264-9cd224458171"
      },
      "source": [
        "VGG_net = torch.hub.load('pytorch/vision:v0.9.0', 'vgg19', pretrained=False)\n",
        "VGG_net.load_state_dict(torch.load('./Models/VGG_CIFAR10_model.pth'))\n",
        "VGG_net = VGG_net.to(device)\n",
        "\n",
        "top1, top5 = Model_Testing(device, test_loader, VGG_net)\n",
        "print('Top 1 accuracy: %.2f, Top 5 accuracy: %.2f'%(top1, top5))"
      ],
      "execution_count": 15,
      "outputs": [
        {
          "output_type": "stream",
          "text": [
            "Using cache found in /root/.cache/torch/hub/pytorch_vision_v0.9.0\n",
            "100%|██████████| 40/40 [00:03<00:00, 10.85it/s]"
          ],
          "name": "stderr"
        },
        {
          "output_type": "stream",
          "text": [
            "Top 1 accuracy: 77.19, Top 5 accuracy: 98.15\n"
          ],
          "name": "stdout"
        },
        {
          "output_type": "stream",
          "text": [
            "\n"
          ],
          "name": "stderr"
        }
      ]
    },
    {
      "cell_type": "markdown",
      "metadata": {
        "id": "kmXpwAF7qRQF"
      },
      "source": [
        "### Test ResNet"
      ]
    },
    {
      "cell_type": "code",
      "metadata": {
        "id": "4NnO01rCqTmG",
        "colab": {
          "base_uri": "https://localhost:8080/"
        },
        "outputId": "b134d59b-33d1-486e-91ac-323dd808da7b"
      },
      "source": [
        "ResNet_net = torch.hub.load('pytorch/vision:v0.9.0', 'resnet34', pretrained=False)\n",
        "ResNet_net.load_state_dict(torch.load('./Models/ResNet_CIFAR10_model.pth'))\n",
        "ResNet_net = ResNet_net.to(device)\n",
        "\n",
        "top1, top5 = Model_Testing(device, test_loader, ResNet_net)\n",
        "print('Top 1 accuracy: %.2f, Top 5 accuracy: %.2f'%(top1, top5))"
      ],
      "execution_count": 16,
      "outputs": [
        {
          "output_type": "stream",
          "text": [
            "Using cache found in /root/.cache/torch/hub/pytorch_vision_v0.9.0\n",
            "100%|██████████| 40/40 [00:03<00:00, 10.55it/s]"
          ],
          "name": "stderr"
        },
        {
          "output_type": "stream",
          "text": [
            "Top 1 accuracy: 61.48, Top 5 accuracy: 94.85\n"
          ],
          "name": "stdout"
        },
        {
          "output_type": "stream",
          "text": [
            "\n"
          ],
          "name": "stderr"
        }
      ]
    },
    {
      "cell_type": "markdown",
      "metadata": {
        "id": "5PHlOkZFqV8h"
      },
      "source": [
        "### Test GoogLeNet"
      ]
    },
    {
      "cell_type": "code",
      "metadata": {
        "id": "CzfzW2APqYxx",
        "colab": {
          "base_uri": "https://localhost:8080/"
        },
        "outputId": "2ae26dfc-d256-4d31-cd8a-a8ae3576204b"
      },
      "source": [
        "GoogLeNet_net = torch.hub.load('pytorch/vision:v0.9.0', 'googlenet', pretrained=False)\n",
        "GoogLeNet_net.load_state_dict(torch.load('./Models/GoogLeNet_CIFAR10_model.pth'))\n",
        "GoogLeNet_net = GoogLeNet_net.to(device)\n",
        "\n",
        "top1, top5 = Model_Testing(device, test_loader, GoogLeNet_net)\n",
        "print('Top 1 accuracy: %.2f, Top 5 accuracy: %.2f'%(top1, top5))"
      ],
      "execution_count": 17,
      "outputs": [
        {
          "output_type": "stream",
          "text": [
            "Using cache found in /root/.cache/torch/hub/pytorch_vision_v0.9.0\n",
            "/usr/local/lib/python3.7/dist-packages/torchvision/models/googlenet.py:79: FutureWarning: The default weight initialization of GoogleNet will be changed in future releases of torchvision. If you wish to keep the old behavior (which leads to long initialization times due to scipy/scipy#11299), please set init_weights=True.\n",
            "  ' due to scipy/scipy#11299), please set init_weights=True.', FutureWarning)\n",
            "100%|██████████| 40/40 [00:03<00:00, 10.43it/s]"
          ],
          "name": "stderr"
        },
        {
          "output_type": "stream",
          "text": [
            "Top 1 accuracy: 73.53, Top 5 accuracy: 97.49\n"
          ],
          "name": "stdout"
        },
        {
          "output_type": "stream",
          "text": [
            "\n"
          ],
          "name": "stderr"
        }
      ]
    }
  ]
}