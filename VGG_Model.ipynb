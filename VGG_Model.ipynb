{
  "nbformat": 4,
  "nbformat_minor": 0,
  "metadata": {
    "colab": {
      "name": "VGG_Model.ipynb",
      "provenance": [],
      "collapsed_sections": [],
      "toc_visible": true,
      "machine_shape": "hm",
      "authorship_tag": "ABX9TyN6e+p5BMbmWmj9asUGUPsM",
      "include_colab_link": true
    },
    "kernelspec": {
      "display_name": "Python 3",
      "name": "python3"
    },
    "language_info": {
      "name": "python"
    },
    "accelerator": "GPU"
  },
  "cells": [
    {
      "cell_type": "markdown",
      "metadata": {
        "id": "view-in-github",
        "colab_type": "text"
      },
      "source": [
        "<a href=\"https://colab.research.google.com/github/Marchinski/AI_Models/blob/main/VGG_Model.ipynb\" target=\"_parent\"><img src=\"https://colab.research.google.com/assets/colab-badge.svg\" alt=\"Open In Colab\"/></a>"
      ]
    },
    {
      "cell_type": "markdown",
      "metadata": {
        "id": "z3EDSBqyns_y"
      },
      "source": [
        "### Imports"
      ]
    },
    {
      "cell_type": "code",
      "metadata": {
        "id": "MFiZEybEDQ-B"
      },
      "source": [
        "import os\n",
        "import pickle\n",
        "import time, datetime\n",
        "\n",
        "import matplotlib.pyplot as plt\n",
        "import numpy as np\n",
        "import torch\n",
        "import torch.nn as nn\n",
        "import torch.optim as optim\n",
        "import torchvision.transforms as transforms\n",
        "import torchvision.datasets as datasets\n",
        "from torch.utils.data import DataLoader\n",
        "import torchvision\n",
        "from tqdm import tqdm\n",
        "import tensorflow as tf"
      ],
      "execution_count": 1,
      "outputs": []
    },
    {
      "cell_type": "markdown",
      "metadata": {
        "id": "g-1iLxm5n78m"
      },
      "source": [
        "### Methods"
      ]
    },
    {
      "cell_type": "code",
      "metadata": {
        "id": "TQEuSHwonncH"
      },
      "source": [
        "def show_train_hist(hist, show=False, save=False, path='Train_hist.png'):\n",
        "    \"\"\"Loss tracker\n",
        "    \n",
        "    Plot the losses of the networks independently to see the trend\n",
        "    \n",
        "    Arguments:\n",
        "        hist {[dict]} -- Tracking variables\n",
        "    \n",
        "    Keyword Arguments:\n",
        "        show {bool} -- If to display the figure (default: {False})\n",
        "        save {bool} -- If to store the figure (default: {False})\n",
        "        path {str} -- path to store the figure (default: {'Train_hist.png'})\n",
        "    \"\"\"\n",
        "    x = range(len(hist['VGG_losses']))\n",
        "\n",
        "    y1 = hist['VGG_losses']\n",
        "    y2 = hist['ResNet_losses']\n",
        "    y3 = hist['GGL_Net_losses']\n",
        "\n",
        "    plt.plot(x, y1, label='VGG_loss')\n",
        "    plt.plot(x, y2, label='ResNet_loss')\n",
        "    plt.plot(x, y3, label='GoogLeNet_loss')\n",
        "\n",
        "    plt.xlabel('Epoch')\n",
        "    plt.ylabel('Loss')\n",
        "\n",
        "    plt.legend(loc=4)\n",
        "    plt.grid(True)\n",
        "    plt.tight_layout()\n",
        "\n",
        "    if save:\n",
        "        plt.savefig(path)\n",
        "\n",
        "    if show:\n",
        "        plt.show()\n",
        "    else:\n",
        "        plt.close()"
      ],
      "execution_count": 16,
      "outputs": []
    },
    {
      "cell_type": "markdown",
      "metadata": {
        "id": "gkp9TFTwoE7b"
      },
      "source": [
        "### Data Loading and processing"
      ]
    },
    {
      "cell_type": "code",
      "metadata": {
        "colab": {
          "base_uri": "https://localhost:8080/"
        },
        "id": "X-TpDoj0oJgJ",
        "outputId": "5a49d884-2db2-4d40-e696-352fe582732a"
      },
      "source": [
        "# initialise the device for training, if gpu is available, device = 'cuda', else: device = 'cpu'\n",
        "device = torch.device('cuda' if torch.cuda.is_available() else 'cpu')\n",
        "print(device)\n",
        "\n",
        "data_dir = './MNIST_data/'\n",
        "save_dir = './Results/'\n",
        "model_dir = './Models/'\n",
        "# create folder if not exist\n",
        "if not os.path.exists(save_dir):\n",
        "    os.mkdir(save_dir)\n",
        "if not os.path.exists(model_dir):\n",
        "    os.mkdir(model_dir)\n",
        "\n",
        "# training parameters\n",
        "batch_size = 256\n",
        "learning_rate = 0.01\n",
        "epochs = 100\n",
        "\n",
        "# construct the datasets and data loaders\n",
        "transform = transforms.Compose([transforms.Resize(64),\n",
        "                                transforms.ToTensor(),\n",
        "                                transforms.Normalize(mean=(0.5,), std=(0.5,))])\n",
        "tv_data = datasets.MNIST(root=data_dir, train=True, transform=transform, download=True)\n",
        "train_data, validation_data = torch.utils.data.random_split(tv_data, [50000, 10000])\n",
        "\n",
        "train_loader = DataLoader(dataset=train_data, batch_size=batch_size, shuffle=True)\n",
        "validation_loader = DataLoader(dataset=validation_data, batch_size=batch_size, shuffle=True)\n",
        "\n",
        "test_data = datasets.MNIST(root=data_dir, train=False, transform=transform, download=True)\n",
        "test_loader = DataLoader(dataset=test_data, batch_size=batch_size, shuffle=True)"
      ],
      "execution_count": 3,
      "outputs": [
        {
          "output_type": "stream",
          "text": [
            "cuda\n"
          ],
          "name": "stdout"
        }
      ]
    },
    {
      "cell_type": "markdown",
      "metadata": {
        "id": "1jra7j6Z71h9"
      },
      "source": [
        "# Model loading and training"
      ]
    },
    {
      "cell_type": "code",
      "metadata": {
        "id": "q_zJUavhjw2x"
      },
      "source": [
        "# tracking variables\n",
        "train_hist = {}\n",
        "train_hist['VGG_losses'] = []\n",
        "train_hist['ResNet_losses'] = []\n",
        "train_hist['GGL_Net_losses'] = []\n",
        "train_hist['per_epoch_ptimes'] = []\n",
        "train_hist['total_ptime'] = []\n",
        "\n",
        "# Loss function\n",
        "criterion = nn.CrossEntropyLoss().to(device)"
      ],
      "execution_count": 4,
      "outputs": []
    },
    {
      "cell_type": "markdown",
      "metadata": {
        "id": "RKNvCacrjM2C"
      },
      "source": [
        "### VGG Model methods"
      ]
    },
    {
      "cell_type": "code",
      "metadata": {
        "id": "bWPOrI3XvbxG"
      },
      "source": [
        "def LoadVGG(device):\n",
        "    VGG_net = torch.hub.load('pytorch/vision:v0.9.0', 'vgg19', pretrained=False)\n",
        "    VGG_net = VGG_net.to(device)\n",
        "\n",
        "    VGG_optimizer = optim.SGD(VGG_net.parameters(), lr=0.01, momentum=0.9)\n",
        "    VGG_scheduler = optim.lr_scheduler.ReduceLROnPlateau(VGG_optimizer, mode='min', patience=5, verbose=True)\n",
        "\n",
        "    return VGG_net, VGG_optimizer, VGG_scheduler\n",
        "\n",
        "def TrainVGG(VGG_net, optimizer, scheduler, criterion, epochs, train_loader, validation_loader):\n",
        "    print('\\nTraining VGG')\n",
        "    train_hist['per_epoch_ptimes'].clear()\n",
        "    start_time = time.time()\n",
        "    now = datetime.datetime.now()\n",
        "    dt_string = now.strftime(\"%d/%m/%Y %H:%M:%S\")\n",
        "    print('Training starting ',str(dt_string))\n",
        "    for epoch in range(epochs):\n",
        "        Train_Loss = []\n",
        "        Val_Loss = []\n",
        "        epoch_start_time = time.time()\n",
        "        now = datetime.datetime.now()\n",
        "        print('Epoch %d starting at: %02d:%02d:%02d'%(epoch+1, now.hour, now.minute, now.second))\n",
        "        VGG_net.train()\n",
        "        # Training\n",
        "        for (train_images, train_labels) in tqdm(train_loader):\n",
        "            train_images = train_images.repeat(1, 3, 1, 1)\n",
        "            train_images = train_images.to(device)\n",
        "            train_labels = train_labels.to(device)\n",
        "\n",
        "            # zero the parameter gradients\n",
        "            optimizer.zero_grad()\n",
        "\n",
        "            # forward + backward + optimize\n",
        "            train_outputs = VGG_net(train_images)\n",
        "            train_loss = criterion(train_outputs, train_labels)\n",
        "            train_loss.backward()\n",
        "            optimizer.step()\n",
        "\n",
        "            Train_Loss.append(train_loss.item())\n",
        "        \n",
        "        VGG_net.eval()\n",
        "        # Validation\n",
        "        for (val_images, val_labels) in tqdm(validation_loader):\n",
        "            val_images = val_images.repeat(1, 3, 1, 1)\n",
        "            val_images = val_images.to(device)\n",
        "            val_labels = val_labels.to(device)\n",
        "\n",
        "            # calculate outputs by running images through the network\n",
        "            val_outputs = VGG_net(val_images)\n",
        "            val_loss = criterion(val_outputs, val_labels)\n",
        "            \n",
        "            Val_Loss.append(val_loss.item())\n",
        "\n",
        "        # Learning Rate Adaptation step\n",
        "        # changes LR on flat plateau\n",
        "        scheduler.step(np.mean(Val_Loss))\n",
        "\n",
        "        epoch_loss = np.mean(Train_Loss)  # mean generator loss for the epoch\n",
        "        epoch_end_time = time.time()\n",
        "        per_epoch_ptime = epoch_end_time - epoch_start_time\n",
        "\n",
        "        print(\"\\nEpoch %d of %d, %.2f s, with average training loss: %.8f, and validation loss: %.8f\" \n",
        "              % (epoch + 1, epochs, per_epoch_ptime, epoch_loss, np.mean(Val_Loss)))\n",
        "\n",
        "        # record the loss for every epoch\n",
        "        train_hist['VGG_losses'].append(epoch_loss)\n",
        "        train_hist['per_epoch_ptimes'].append(per_epoch_ptime)\n",
        "\n",
        "    now = datetime.datetime.now()\n",
        "    dt_string = now.strftime(\"%d/%m/%Y %H:%M:%S\")\n",
        "    print('Finished Training ',str(dt_string))\n",
        "\n",
        "    end_time = time.time()\n",
        "    total_ptime = end_time - start_time\n",
        "    train_hist['total_ptime'].append(total_ptime)\n",
        "\n",
        "    print('Avg per epoch ptime: %.2f, total %d epochs ptime: %.2f' % (np.mean(train_hist['per_epoch_ptimes']), epochs, total_ptime))"
      ],
      "execution_count": 5,
      "outputs": []
    },
    {
      "cell_type": "markdown",
      "metadata": {
        "id": "5Mfgu-oYv7uq"
      },
      "source": [
        "### ResNet Model methods"
      ]
    },
    {
      "cell_type": "code",
      "metadata": {
        "id": "xW43Edb-wBr8"
      },
      "source": [
        "def LoadResNet(device):\n",
        "    ResNet_net = torch.hub.load('pytorch/vision:v0.9.0', 'resnet34', pretrained=False)\n",
        "    ResNet_net = ResNet_net.to(device)\n",
        "\n",
        "    ResNet_optimizer = optim.SGD(ResNet_net.parameters(), lr=0.01, momentum=0.9, weight_decay=0.0001)\n",
        "    ResNet_scheduler = optim.lr_scheduler.ReduceLROnPlateau(ResNet_optimizer, mode='min', patience=5, verbose=True)\n",
        "\n",
        "    return ResNet_net, ResNet_optimizer, ResNet_scheduler\n",
        "\n",
        "def TrainResNet(ResNet_net, optimizer, scheduler, criterion, epochs, train_loader, validation_loader):\n",
        "    print('\\nTraining ResNet')\n",
        "    train_hist['per_epoch_ptimes'].clear()\n",
        "    start_time = time.time()\n",
        "    now = datetime.datetime.now()\n",
        "    dt_string = now.strftime(\"%d/%m/%Y %H:%M:%S\")\n",
        "    print('Training starting ',dt_string)\n",
        "    for epoch in range(epochs):\n",
        "        Train_Loss = []\n",
        "        Val_Loss = []\n",
        "        epoch_start_time = time.time()\n",
        "        now = datetime.datetime.now()\n",
        "        print('Epoch %d starting at: %02d:%02d:%02d'%(epoch+1, now.hour, now.minute, now.second))\n",
        "        ResNet_net.train()\n",
        "        # Training\n",
        "        for (train_images, train_labels) in tqdm(train_loader):\n",
        "            train_images = train_images.repeat(1, 3, 1, 1)\n",
        "            train_images = train_images.to(device)\n",
        "            train_labels = train_labels.to(device)\n",
        "\n",
        "            # zero the parameter gradients\n",
        "            optimizer.zero_grad()\n",
        "\n",
        "            # forward + backward + optimize\n",
        "            train_outputs = ResNet_net(train_images)\n",
        "            train_loss = criterion(train_outputs, train_labels)\n",
        "            train_loss.backward()\n",
        "            optimizer.step()\n",
        "\n",
        "            Train_Loss.append(train_loss.item())\n",
        "        \n",
        "        ResNet_net.eval()\n",
        "        # Validation\n",
        "        for (val_images, val_labels) in tqdm(validation_loader):\n",
        "            val_images = val_images.repeat(1, 3, 1, 1)\n",
        "            val_images = val_images.to(device)\n",
        "            val_labels = val_labels.to(device)\n",
        "\n",
        "            # calculate outputs by running images through the network\n",
        "            val_outputs = ResNet_net(val_images)\n",
        "            val_loss = criterion(val_outputs, val_labels)\n",
        "            \n",
        "            Val_Loss.append(val_loss.item())\n",
        "\n",
        "        # Learning Rate Adaptation step\n",
        "        # changes LR on flat plateau\n",
        "        scheduler.step(np.mean(Val_Loss))\n",
        "\n",
        "        epoch_loss = np.mean(Train_Loss)  # mean generator loss for the epoch\n",
        "        epoch_end_time = time.time()\n",
        "        per_epoch_ptime = epoch_end_time - epoch_start_time\n",
        "\n",
        "        print(\"\\nEpoch %d of %d, %.2f s, with average training loss: %.8f, and validation loss: %.8f\" \n",
        "              % (epoch + 1, epochs, per_epoch_ptime, epoch_loss, np.mean(Val_Loss)))\n",
        "\n",
        "        # record the loss for every epoch\n",
        "        train_hist['ResNet_losses'].append(epoch_loss)\n",
        "        train_hist['per_epoch_ptimes'].append(per_epoch_ptime)\n",
        "\n",
        "    now = datetime.datetime.now()\n",
        "    dt_string = now.strftime(\"%d/%m/%Y %H:%M:%S\")\n",
        "    print('Finished Training ',str(dt_string))\n",
        "\n",
        "    end_time = time.time()\n",
        "    total_ptime = end_time - start_time\n",
        "    train_hist['total_ptime'].append(total_ptime)\n",
        "\n",
        "    print('Avg per epoch ptime: %.2f, total %d epochs ptime: %.2f' % (np.mean(train_hist['per_epoch_ptimes']), epochs, total_ptime))"
      ],
      "execution_count": 10,
      "outputs": []
    },
    {
      "cell_type": "markdown",
      "metadata": {
        "id": "gKWaIaWk75l3"
      },
      "source": [
        "### GoogLeNet Model Methods"
      ]
    },
    {
      "cell_type": "code",
      "metadata": {
        "id": "Bc5k9h537_-P"
      },
      "source": [
        "def LoadGLNet(device):\n",
        "    GLNet_net = torch.hub.load('pytorch/vision:v0.9.0', 'googlenet', pretrained=False)\n",
        "    GLNet_net = GLNet_net.to(device)\n",
        "\n",
        "    GLNet_optimizer = optim.SGD(GLNet_net.parameters(), lr=0.01, momentum=0.9)\n",
        "    GLNet_scheduler = optim.lr_scheduler.StepLR(GLNet_optimizer, step_size=8, gamma=0.96, verbose=True)\n",
        "\n",
        "    return GLNet_net, GLNet_optimizer, GLNet_scheduler\n",
        "\n",
        "def TrainGLNet(GLNet_net, optimizer, scheduler, criterion, epochs, train_loader):\n",
        "    print('\\nTraining GoogLeNet')\n",
        "    train_hist['per_epoch_ptimes'].clear()\n",
        "    start_time = time.time()\n",
        "    now = datetime.datetime.now()\n",
        "    dt_string = now.strftime(\"%d/%m/%Y %H:%M:%S\")\n",
        "    print('Training starting ',dt_string)\n",
        "    for epoch in range(epochs):\n",
        "        GLNet_net.train()\n",
        "        Train_Loss = []\n",
        "        Val_Loss = []\n",
        "        epoch_start_time = time.time()\n",
        "        now = datetime.datetime.now()\n",
        "        print('Epoch %d starting at: %02d:%02d:%02d'%(epoch+1, now.hour, now.minute, now.second))\n",
        "        # Training\n",
        "        for (train_images, train_labels) in tqdm(train_loader):\n",
        "            train_images = train_images.repeat(1, 3, 1, 1)\n",
        "            train_images = train_images.to(device)\n",
        "            train_labels = train_labels.to(device)\n",
        "\n",
        "            # zero the parameter gradients\n",
        "            optimizer.zero_grad()\n",
        "\n",
        "            # forward + backward + optimize\n",
        "            train_outputs = GLNet_net(train_images)\n",
        "            train_outputs = train_outputs.logits\n",
        "            train_loss = criterion(train_outputs, train_labels)\n",
        "            train_loss.backward()\n",
        "            optimizer.step()\n",
        "\n",
        "            Train_Loss.append(train_loss.item())\n",
        "\n",
        "        # Learning Rate Adaptation step\n",
        "        # changes LR every 8 epochs\n",
        "        scheduler.step()\n",
        "\n",
        "        epoch_loss = np.mean(Train_Loss)  # mean generator loss for the epoch\n",
        "        epoch_end_time = time.time()\n",
        "        per_epoch_ptime = epoch_end_time - epoch_start_time\n",
        "\n",
        "        print(\"\\nEpoch %d of %d, %.2f s, with average training loss: %.8f\" \n",
        "              % (epoch + 1, epochs, per_epoch_ptime, epoch_loss))\n",
        "\n",
        "        # record the loss for every epoch\n",
        "        train_hist['GGL_Net_losses'].append(epoch_loss)\n",
        "        train_hist['per_epoch_ptimes'].append(per_epoch_ptime)\n",
        "\n",
        "    now = datetime.datetime.now()\n",
        "    dt_string = now.strftime(\"%d/%m/%Y %H:%M:%S\")\n",
        "    print('Finished Training ',str(dt_string))\n",
        "\n",
        "    end_time = time.time()\n",
        "    total_ptime = end_time - start_time\n",
        "    train_hist['total_ptime'].append(total_ptime)\n",
        "\n",
        "    print('Avg per epoch ptime: %.2f, total %d epochs ptime: %.2f' % (np.mean(train_hist['per_epoch_ptimes']), epochs, total_ptime))"
      ],
      "execution_count": 12,
      "outputs": []
    },
    {
      "cell_type": "markdown",
      "metadata": {
        "id": "_jHH-i_AopzY"
      },
      "source": [
        "# Models training"
      ]
    },
    {
      "cell_type": "markdown",
      "metadata": {
        "id": "bPpgVF4iCdZh"
      },
      "source": [
        "### VGG Training"
      ]
    },
    {
      "cell_type": "code",
      "metadata": {
        "colab": {
          "base_uri": "https://localhost:8080/"
        },
        "id": "dbpcOGUlopTV",
        "outputId": "b58f5294-0e77-46de-885c-7a1f5d855278"
      },
      "source": [
        "# Load and trian VGG\n",
        "net, optimizer, scheduler = LoadVGG(device)\n",
        "TrainVGG(net, optimizer, scheduler, criterion, epochs, train_loader, validation_loader)\n",
        "torch.save(net.state_dict(), model_dir + '/VGG_model.pth')\n",
        "del net\n",
        "del optimizer\n",
        "del scheduler"
      ],
      "execution_count": 8,
      "outputs": [
        {
          "output_type": "stream",
          "text": [
            "Using cache found in /root/.cache/torch/hub/pytorch_vision_v0.9.0\n",
            "  0%|          | 0/196 [00:00<?, ?it/s]"
          ],
          "name": "stderr"
        },
        {
          "output_type": "stream",
          "text": [
            "\n",
            "Training VGG\n",
            "Training starting  09/05/2021 19:07:28\n",
            "Epoch 1 starting at: 19:07:28\n"
          ],
          "name": "stdout"
        },
        {
          "output_type": "stream",
          "text": [
            "100%|██████████| 196/196 [01:02<00:00,  3.14it/s]\n",
            "100%|██████████| 40/40 [00:05<00:00,  7.42it/s]\n",
            "  0%|          | 0/196 [00:00<?, ?it/s]"
          ],
          "name": "stderr"
        },
        {
          "output_type": "stream",
          "text": [
            "\n",
            "Epoch 1 of 100, 67.83 s, with average training loss: 3.76883705, and validation loss: 2.32187066\n",
            "Epoch 2 starting at: 19:08:36\n"
          ],
          "name": "stdout"
        },
        {
          "output_type": "stream",
          "text": [
            "100%|██████████| 196/196 [01:02<00:00,  3.14it/s]\n",
            "100%|██████████| 40/40 [00:05<00:00,  7.46it/s]\n",
            "  0%|          | 0/196 [00:00<?, ?it/s]"
          ],
          "name": "stderr"
        },
        {
          "output_type": "stream",
          "text": [
            "\n",
            "Epoch 2 of 100, 67.82 s, with average training loss: 2.33080549, and validation loss: 2.32304590\n",
            "Epoch 3 starting at: 19:09:44\n"
          ],
          "name": "stdout"
        },
        {
          "output_type": "stream",
          "text": [
            "100%|██████████| 196/196 [01:02<00:00,  3.14it/s]\n",
            "100%|██████████| 40/40 [00:05<00:00,  7.49it/s]\n",
            "  0%|          | 0/196 [00:00<?, ?it/s]"
          ],
          "name": "stderr"
        },
        {
          "output_type": "stream",
          "text": [
            "\n",
            "Epoch 3 of 100, 67.78 s, with average training loss: 2.32346239, and validation loss: 2.30585228\n",
            "Epoch 4 starting at: 19:10:51\n"
          ],
          "name": "stdout"
        },
        {
          "output_type": "stream",
          "text": [
            "100%|██████████| 196/196 [01:02<00:00,  3.14it/s]\n",
            "100%|██████████| 40/40 [00:05<00:00,  7.50it/s]\n",
            "  0%|          | 0/196 [00:00<?, ?it/s]"
          ],
          "name": "stderr"
        },
        {
          "output_type": "stream",
          "text": [
            "\n",
            "Epoch 4 of 100, 67.77 s, with average training loss: 2.32138300, and validation loss: 2.31133203\n",
            "Epoch 5 starting at: 19:11:59\n"
          ],
          "name": "stdout"
        },
        {
          "output_type": "stream",
          "text": [
            "100%|██████████| 196/196 [01:02<00:00,  3.14it/s]\n",
            "100%|██████████| 40/40 [00:05<00:00,  7.43it/s]\n",
            "  0%|          | 0/196 [00:00<?, ?it/s]"
          ],
          "name": "stderr"
        },
        {
          "output_type": "stream",
          "text": [
            "\n",
            "Epoch 5 of 100, 67.83 s, with average training loss: 2.31825314, and validation loss: 2.31199592\n",
            "Epoch 6 starting at: 19:13:07\n"
          ],
          "name": "stdout"
        },
        {
          "output_type": "stream",
          "text": [
            "100%|██████████| 196/196 [01:02<00:00,  3.14it/s]\n",
            "100%|██████████| 40/40 [00:05<00:00,  7.46it/s]\n",
            "  0%|          | 0/196 [00:00<?, ?it/s]"
          ],
          "name": "stderr"
        },
        {
          "output_type": "stream",
          "text": [
            "\n",
            "Epoch 6 of 100, 67.83 s, with average training loss: 2.31842097, and validation loss: 2.30664550\n",
            "Epoch 7 starting at: 19:14:15\n"
          ],
          "name": "stdout"
        },
        {
          "output_type": "stream",
          "text": [
            "100%|██████████| 196/196 [01:02<00:00,  3.14it/s]\n",
            "100%|██████████| 40/40 [00:05<00:00,  7.51it/s]\n",
            "  0%|          | 0/196 [00:00<?, ?it/s]"
          ],
          "name": "stderr"
        },
        {
          "output_type": "stream",
          "text": [
            "\n",
            "Epoch 7 of 100, 67.79 s, with average training loss: 2.31837971, and validation loss: 2.31318935\n",
            "Epoch 8 starting at: 19:15:23\n"
          ],
          "name": "stdout"
        },
        {
          "output_type": "stream",
          "text": [
            "100%|██████████| 196/196 [01:02<00:00,  3.14it/s]\n",
            "100%|██████████| 40/40 [00:05<00:00,  7.40it/s]\n",
            "  0%|          | 0/196 [00:00<?, ?it/s]"
          ],
          "name": "stderr"
        },
        {
          "output_type": "stream",
          "text": [
            "\n",
            "Epoch 8 of 100, 67.83 s, with average training loss: 2.31675060, and validation loss: 2.31220621\n",
            "Epoch 9 starting at: 19:16:30\n"
          ],
          "name": "stdout"
        },
        {
          "output_type": "stream",
          "text": [
            "100%|██████████| 196/196 [01:02<00:00,  3.14it/s]\n",
            "100%|██████████| 40/40 [00:05<00:00,  7.49it/s]\n",
            "  0%|          | 0/196 [00:00<?, ?it/s]"
          ],
          "name": "stderr"
        },
        {
          "output_type": "stream",
          "text": [
            "Epoch     9: reducing learning rate of group 0 to 1.0000e-03.\n",
            "\n",
            "Epoch 9 of 100, 67.84 s, with average training loss: 2.31547101, and validation loss: 2.31077228\n",
            "Epoch 10 starting at: 19:17:38\n"
          ],
          "name": "stdout"
        },
        {
          "output_type": "stream",
          "text": [
            "100%|██████████| 196/196 [01:02<00:00,  3.14it/s]\n",
            "100%|██████████| 40/40 [00:05<00:00,  7.48it/s]\n",
            "  0%|          | 0/196 [00:00<?, ?it/s]"
          ],
          "name": "stderr"
        },
        {
          "output_type": "stream",
          "text": [
            "\n",
            "Epoch 10 of 100, 67.80 s, with average training loss: 2.30911692, and validation loss: 2.30225232\n",
            "Epoch 11 starting at: 19:18:46\n"
          ],
          "name": "stdout"
        },
        {
          "output_type": "stream",
          "text": [
            "100%|██████████| 196/196 [01:02<00:00,  3.14it/s]\n",
            "100%|██████████| 40/40 [00:05<00:00,  7.46it/s]\n",
            "  0%|          | 0/196 [00:00<?, ?it/s]"
          ],
          "name": "stderr"
        },
        {
          "output_type": "stream",
          "text": [
            "\n",
            "Epoch 11 of 100, 67.75 s, with average training loss: 2.30831620, and validation loss: 2.30380779\n",
            "Epoch 12 starting at: 19:19:54\n"
          ],
          "name": "stdout"
        },
        {
          "output_type": "stream",
          "text": [
            "100%|██████████| 196/196 [01:02<00:00,  3.14it/s]\n",
            "100%|██████████| 40/40 [00:05<00:00,  7.48it/s]\n",
            "  0%|          | 0/196 [00:00<?, ?it/s]"
          ],
          "name": "stderr"
        },
        {
          "output_type": "stream",
          "text": [
            "\n",
            "Epoch 12 of 100, 67.75 s, with average training loss: 2.30673360, and validation loss: 2.30335856\n",
            "Epoch 13 starting at: 19:21:02\n"
          ],
          "name": "stdout"
        },
        {
          "output_type": "stream",
          "text": [
            "100%|██████████| 196/196 [01:02<00:00,  3.14it/s]\n",
            "100%|██████████| 40/40 [00:05<00:00,  7.48it/s]\n",
            "  0%|          | 0/196 [00:00<?, ?it/s]"
          ],
          "name": "stderr"
        },
        {
          "output_type": "stream",
          "text": [
            "\n",
            "Epoch 13 of 100, 67.77 s, with average training loss: 2.30534892, and validation loss: 2.30121816\n",
            "Epoch 14 starting at: 19:22:09\n"
          ],
          "name": "stdout"
        },
        {
          "output_type": "stream",
          "text": [
            "100%|██████████| 196/196 [01:02<00:00,  3.14it/s]\n",
            "100%|██████████| 40/40 [00:05<00:00,  7.48it/s]\n",
            "  0%|          | 0/196 [00:00<?, ?it/s]"
          ],
          "name": "stderr"
        },
        {
          "output_type": "stream",
          "text": [
            "\n",
            "Epoch 14 of 100, 67.80 s, with average training loss: 2.30479155, and validation loss: 2.30312935\n",
            "Epoch 15 starting at: 19:23:17\n"
          ],
          "name": "stdout"
        },
        {
          "output_type": "stream",
          "text": [
            "100%|██████████| 196/196 [01:02<00:00,  3.14it/s]\n",
            "100%|██████████| 40/40 [00:05<00:00,  7.49it/s]\n",
            "  0%|          | 0/196 [00:00<?, ?it/s]"
          ],
          "name": "stderr"
        },
        {
          "output_type": "stream",
          "text": [
            "\n",
            "Epoch 15 of 100, 67.74 s, with average training loss: 2.30484411, and validation loss: 2.30121809\n",
            "Epoch 16 starting at: 19:24:25\n"
          ],
          "name": "stdout"
        },
        {
          "output_type": "stream",
          "text": [
            "100%|██████████| 196/196 [01:02<00:00,  3.14it/s]\n",
            "100%|██████████| 40/40 [00:05<00:00,  7.39it/s]\n",
            "  0%|          | 0/196 [00:00<?, ?it/s]"
          ],
          "name": "stderr"
        },
        {
          "output_type": "stream",
          "text": [
            "\n",
            "Epoch 16 of 100, 67.84 s, with average training loss: 2.30159890, and validation loss: 2.29674462\n",
            "Epoch 17 starting at: 19:25:33\n"
          ],
          "name": "stdout"
        },
        {
          "output_type": "stream",
          "text": [
            "100%|██████████| 196/196 [01:02<00:00,  3.14it/s]\n",
            "100%|██████████| 40/40 [00:05<00:00,  7.41it/s]\n",
            "  0%|          | 0/196 [00:00<?, ?it/s]"
          ],
          "name": "stderr"
        },
        {
          "output_type": "stream",
          "text": [
            "\n",
            "Epoch 17 of 100, 67.79 s, with average training loss: 2.28818142, and validation loss: 2.25872828\n",
            "Epoch 18 starting at: 19:26:41\n"
          ],
          "name": "stdout"
        },
        {
          "output_type": "stream",
          "text": [
            "100%|██████████| 196/196 [01:02<00:00,  3.14it/s]\n",
            "100%|██████████| 40/40 [00:05<00:00,  7.41it/s]\n",
            "  0%|          | 0/196 [00:00<?, ?it/s]"
          ],
          "name": "stderr"
        },
        {
          "output_type": "stream",
          "text": [
            "\n",
            "Epoch 18 of 100, 67.82 s, with average training loss: 2.20116024, and validation loss: 2.06407190\n",
            "Epoch 19 starting at: 19:27:48\n"
          ],
          "name": "stdout"
        },
        {
          "output_type": "stream",
          "text": [
            "100%|██████████| 196/196 [01:02<00:00,  3.14it/s]\n",
            "100%|██████████| 40/40 [00:05<00:00,  7.35it/s]\n",
            "  0%|          | 0/196 [00:00<?, ?it/s]"
          ],
          "name": "stderr"
        },
        {
          "output_type": "stream",
          "text": [
            "\n",
            "Epoch 19 of 100, 67.88 s, with average training loss: 2.04323563, and validation loss: 2.26204625\n",
            "Epoch 20 starting at: 19:28:56\n"
          ],
          "name": "stdout"
        },
        {
          "output_type": "stream",
          "text": [
            "100%|██████████| 196/196 [01:02<00:00,  3.14it/s]\n",
            "100%|██████████| 40/40 [00:05<00:00,  7.41it/s]\n",
            "  0%|          | 0/196 [00:00<?, ?it/s]"
          ],
          "name": "stderr"
        },
        {
          "output_type": "stream",
          "text": [
            "\n",
            "Epoch 20 of 100, 67.80 s, with average training loss: 1.76160282, and validation loss: 1.41337437\n",
            "Epoch 21 starting at: 19:30:04\n"
          ],
          "name": "stdout"
        },
        {
          "output_type": "stream",
          "text": [
            "100%|██████████| 196/196 [01:02<00:00,  3.14it/s]\n",
            "100%|██████████| 40/40 [00:05<00:00,  7.52it/s]\n",
            "  0%|          | 0/196 [00:00<?, ?it/s]"
          ],
          "name": "stderr"
        },
        {
          "output_type": "stream",
          "text": [
            "\n",
            "Epoch 21 of 100, 67.70 s, with average training loss: 1.83343109, and validation loss: 1.47795213\n",
            "Epoch 22 starting at: 19:31:12\n"
          ],
          "name": "stdout"
        },
        {
          "output_type": "stream",
          "text": [
            "100%|██████████| 196/196 [01:02<00:00,  3.14it/s]\n",
            "100%|██████████| 40/40 [00:05<00:00,  7.47it/s]\n",
            "  0%|          | 0/196 [00:00<?, ?it/s]"
          ],
          "name": "stderr"
        },
        {
          "output_type": "stream",
          "text": [
            "\n",
            "Epoch 22 of 100, 67.77 s, with average training loss: 1.32111202, and validation loss: 0.98241144\n",
            "Epoch 23 starting at: 19:32:19\n"
          ],
          "name": "stdout"
        },
        {
          "output_type": "stream",
          "text": [
            "100%|██████████| 196/196 [01:02<00:00,  3.14it/s]\n",
            "100%|██████████| 40/40 [00:05<00:00,  7.46it/s]\n",
            "  0%|          | 0/196 [00:00<?, ?it/s]"
          ],
          "name": "stderr"
        },
        {
          "output_type": "stream",
          "text": [
            "\n",
            "Epoch 23 of 100, 67.76 s, with average training loss: 0.72140152, and validation loss: 0.43403706\n",
            "Epoch 24 starting at: 19:33:27\n"
          ],
          "name": "stdout"
        },
        {
          "output_type": "stream",
          "text": [
            "100%|██████████| 196/196 [01:02<00:00,  3.14it/s]\n",
            "100%|██████████| 40/40 [00:05<00:00,  7.48it/s]\n",
            "  0%|          | 0/196 [00:00<?, ?it/s]"
          ],
          "name": "stderr"
        },
        {
          "output_type": "stream",
          "text": [
            "\n",
            "Epoch 24 of 100, 67.70 s, with average training loss: 0.34225181, and validation loss: 0.28485489\n",
            "Epoch 25 starting at: 19:34:35\n"
          ],
          "name": "stdout"
        },
        {
          "output_type": "stream",
          "text": [
            "100%|██████████| 196/196 [01:02<00:00,  3.14it/s]\n",
            "100%|██████████| 40/40 [00:05<00:00,  7.46it/s]\n",
            "  0%|          | 0/196 [00:00<?, ?it/s]"
          ],
          "name": "stderr"
        },
        {
          "output_type": "stream",
          "text": [
            "\n",
            "Epoch 25 of 100, 67.80 s, with average training loss: 0.21993650, and validation loss: 0.20292511\n",
            "Epoch 26 starting at: 19:35:43\n"
          ],
          "name": "stdout"
        },
        {
          "output_type": "stream",
          "text": [
            "100%|██████████| 196/196 [01:02<00:00,  3.14it/s]\n",
            "100%|██████████| 40/40 [00:05<00:00,  7.52it/s]\n",
            "  0%|          | 0/196 [00:00<?, ?it/s]"
          ],
          "name": "stderr"
        },
        {
          "output_type": "stream",
          "text": [
            "\n",
            "Epoch 26 of 100, 67.65 s, with average training loss: 0.16167106, and validation loss: 0.17019375\n",
            "Epoch 27 starting at: 19:36:50\n"
          ],
          "name": "stdout"
        },
        {
          "output_type": "stream",
          "text": [
            "100%|██████████| 196/196 [01:02<00:00,  3.14it/s]\n",
            "100%|██████████| 40/40 [00:05<00:00,  7.51it/s]\n",
            "  0%|          | 0/196 [00:00<?, ?it/s]"
          ],
          "name": "stderr"
        },
        {
          "output_type": "stream",
          "text": [
            "\n",
            "Epoch 27 of 100, 67.73 s, with average training loss: 0.13237115, and validation loss: 0.12149773\n",
            "Epoch 28 starting at: 19:37:58\n"
          ],
          "name": "stdout"
        },
        {
          "output_type": "stream",
          "text": [
            "100%|██████████| 196/196 [01:02<00:00,  3.14it/s]\n",
            "100%|██████████| 40/40 [00:05<00:00,  7.50it/s]\n",
            "  0%|          | 0/196 [00:00<?, ?it/s]"
          ],
          "name": "stderr"
        },
        {
          "output_type": "stream",
          "text": [
            "\n",
            "Epoch 28 of 100, 67.73 s, with average training loss: 0.10507375, and validation loss: 0.16906757\n",
            "Epoch 29 starting at: 19:39:06\n"
          ],
          "name": "stdout"
        },
        {
          "output_type": "stream",
          "text": [
            "100%|██████████| 196/196 [01:02<00:00,  3.14it/s]\n",
            "100%|██████████| 40/40 [00:05<00:00,  7.48it/s]\n",
            "  0%|          | 0/196 [00:00<?, ?it/s]"
          ],
          "name": "stderr"
        },
        {
          "output_type": "stream",
          "text": [
            "\n",
            "Epoch 29 of 100, 67.77 s, with average training loss: 0.09067342, and validation loss: 0.09987661\n",
            "Epoch 30 starting at: 19:40:14\n"
          ],
          "name": "stdout"
        },
        {
          "output_type": "stream",
          "text": [
            "100%|██████████| 196/196 [01:02<00:00,  3.14it/s]\n",
            "100%|██████████| 40/40 [00:05<00:00,  7.49it/s]\n",
            "  0%|          | 0/196 [00:00<?, ?it/s]"
          ],
          "name": "stderr"
        },
        {
          "output_type": "stream",
          "text": [
            "\n",
            "Epoch 30 of 100, 67.71 s, with average training loss: 0.07843849, and validation loss: 0.08209610\n",
            "Epoch 31 starting at: 19:41:21\n"
          ],
          "name": "stdout"
        },
        {
          "output_type": "stream",
          "text": [
            "100%|██████████| 196/196 [01:02<00:00,  3.14it/s]\n",
            "100%|██████████| 40/40 [00:05<00:00,  7.42it/s]\n",
            "  0%|          | 0/196 [00:00<?, ?it/s]"
          ],
          "name": "stderr"
        },
        {
          "output_type": "stream",
          "text": [
            "\n",
            "Epoch 31 of 100, 67.79 s, with average training loss: 0.06878553, and validation loss: 0.09145276\n",
            "Epoch 32 starting at: 19:42:29\n"
          ],
          "name": "stdout"
        },
        {
          "output_type": "stream",
          "text": [
            "100%|██████████| 196/196 [01:02<00:00,  3.14it/s]\n",
            "100%|██████████| 40/40 [00:05<00:00,  7.50it/s]\n",
            "  0%|          | 0/196 [00:00<?, ?it/s]"
          ],
          "name": "stderr"
        },
        {
          "output_type": "stream",
          "text": [
            "\n",
            "Epoch 32 of 100, 67.75 s, with average training loss: 0.05725502, and validation loss: 0.07712541\n",
            "Epoch 33 starting at: 19:43:37\n"
          ],
          "name": "stdout"
        },
        {
          "output_type": "stream",
          "text": [
            "100%|██████████| 196/196 [01:02<00:00,  3.14it/s]\n",
            "100%|██████████| 40/40 [00:05<00:00,  7.46it/s]\n",
            "  0%|          | 0/196 [00:00<?, ?it/s]"
          ],
          "name": "stderr"
        },
        {
          "output_type": "stream",
          "text": [
            "\n",
            "Epoch 33 of 100, 67.80 s, with average training loss: 0.05204735, and validation loss: 0.07705919\n",
            "Epoch 34 starting at: 19:44:45\n"
          ],
          "name": "stdout"
        },
        {
          "output_type": "stream",
          "text": [
            "100%|██████████| 196/196 [01:02<00:00,  3.14it/s]\n",
            "100%|██████████| 40/40 [00:05<00:00,  7.51it/s]\n",
            "  0%|          | 0/196 [00:00<?, ?it/s]"
          ],
          "name": "stderr"
        },
        {
          "output_type": "stream",
          "text": [
            "\n",
            "Epoch 34 of 100, 67.69 s, with average training loss: 0.04397354, and validation loss: 0.08980561\n",
            "Epoch 35 starting at: 19:45:52\n"
          ],
          "name": "stdout"
        },
        {
          "output_type": "stream",
          "text": [
            "100%|██████████| 196/196 [01:02<00:00,  3.14it/s]\n",
            "100%|██████████| 40/40 [00:05<00:00,  7.46it/s]\n",
            "  0%|          | 0/196 [00:00<?, ?it/s]"
          ],
          "name": "stderr"
        },
        {
          "output_type": "stream",
          "text": [
            "\n",
            "Epoch 35 of 100, 67.69 s, with average training loss: 0.03990193, and validation loss: 0.06895085\n",
            "Epoch 36 starting at: 19:47:00\n"
          ],
          "name": "stdout"
        },
        {
          "output_type": "stream",
          "text": [
            "100%|██████████| 196/196 [01:02<00:00,  3.15it/s]\n",
            "100%|██████████| 40/40 [00:05<00:00,  7.50it/s]\n",
            "  0%|          | 0/196 [00:00<?, ?it/s]"
          ],
          "name": "stderr"
        },
        {
          "output_type": "stream",
          "text": [
            "\n",
            "Epoch 36 of 100, 67.60 s, with average training loss: 0.03370263, and validation loss: 0.09225113\n",
            "Epoch 37 starting at: 19:48:08\n"
          ],
          "name": "stdout"
        },
        {
          "output_type": "stream",
          "text": [
            "100%|██████████| 196/196 [01:02<00:00,  3.15it/s]\n",
            "100%|██████████| 40/40 [00:05<00:00,  7.50it/s]\n",
            "  0%|          | 0/196 [00:00<?, ?it/s]"
          ],
          "name": "stderr"
        },
        {
          "output_type": "stream",
          "text": [
            "\n",
            "Epoch 37 of 100, 67.64 s, with average training loss: 0.02899043, and validation loss: 0.07644672\n",
            "Epoch 38 starting at: 19:49:15\n"
          ],
          "name": "stdout"
        },
        {
          "output_type": "stream",
          "text": [
            "100%|██████████| 196/196 [01:02<00:00,  3.14it/s]\n",
            "100%|██████████| 40/40 [00:05<00:00,  7.41it/s]\n",
            "  0%|          | 0/196 [00:00<?, ?it/s]"
          ],
          "name": "stderr"
        },
        {
          "output_type": "stream",
          "text": [
            "\n",
            "Epoch 38 of 100, 67.73 s, with average training loss: 0.02898244, and validation loss: 0.08793562\n",
            "Epoch 39 starting at: 19:50:23\n"
          ],
          "name": "stdout"
        },
        {
          "output_type": "stream",
          "text": [
            "100%|██████████| 196/196 [01:02<00:00,  3.14it/s]\n",
            "100%|██████████| 40/40 [00:05<00:00,  7.29it/s]\n",
            "  0%|          | 0/196 [00:00<?, ?it/s]"
          ],
          "name": "stderr"
        },
        {
          "output_type": "stream",
          "text": [
            "\n",
            "Epoch 39 of 100, 67.84 s, with average training loss: 0.02452709, and validation loss: 0.06310053\n",
            "Epoch 40 starting at: 19:51:31\n"
          ],
          "name": "stdout"
        },
        {
          "output_type": "stream",
          "text": [
            "100%|██████████| 196/196 [01:02<00:00,  3.14it/s]\n",
            "100%|██████████| 40/40 [00:05<00:00,  7.45it/s]\n",
            "  0%|          | 0/196 [00:00<?, ?it/s]"
          ],
          "name": "stderr"
        },
        {
          "output_type": "stream",
          "text": [
            "\n",
            "Epoch 40 of 100, 67.78 s, with average training loss: 0.02513369, and validation loss: 0.08377823\n",
            "Epoch 41 starting at: 19:52:39\n"
          ],
          "name": "stdout"
        },
        {
          "output_type": "stream",
          "text": [
            "100%|██████████| 196/196 [01:02<00:00,  3.14it/s]\n",
            "100%|██████████| 40/40 [00:05<00:00,  7.47it/s]\n",
            "  0%|          | 0/196 [00:00<?, ?it/s]"
          ],
          "name": "stderr"
        },
        {
          "output_type": "stream",
          "text": [
            "\n",
            "Epoch 41 of 100, 67.76 s, with average training loss: 0.01837497, and validation loss: 0.07102157\n",
            "Epoch 42 starting at: 19:53:46\n"
          ],
          "name": "stdout"
        },
        {
          "output_type": "stream",
          "text": [
            "100%|██████████| 196/196 [01:02<00:00,  3.15it/s]\n",
            "100%|██████████| 40/40 [00:05<00:00,  7.52it/s]\n",
            "  0%|          | 0/196 [00:00<?, ?it/s]"
          ],
          "name": "stderr"
        },
        {
          "output_type": "stream",
          "text": [
            "\n",
            "Epoch 42 of 100, 67.63 s, with average training loss: 0.02041502, and validation loss: 0.11008747\n",
            "Epoch 43 starting at: 19:54:54\n"
          ],
          "name": "stdout"
        },
        {
          "output_type": "stream",
          "text": [
            "100%|██████████| 196/196 [01:02<00:00,  3.14it/s]\n",
            "100%|██████████| 40/40 [00:05<00:00,  7.49it/s]\n",
            "  0%|          | 0/196 [00:00<?, ?it/s]"
          ],
          "name": "stderr"
        },
        {
          "output_type": "stream",
          "text": [
            "\n",
            "Epoch 43 of 100, 67.75 s, with average training loss: 0.01628091, and validation loss: 0.06906296\n",
            "Epoch 44 starting at: 19:56:02\n"
          ],
          "name": "stdout"
        },
        {
          "output_type": "stream",
          "text": [
            "100%|██████████| 196/196 [01:02<00:00,  3.14it/s]\n",
            "100%|██████████| 40/40 [00:05<00:00,  7.52it/s]\n",
            "  0%|          | 0/196 [00:00<?, ?it/s]"
          ],
          "name": "stderr"
        },
        {
          "output_type": "stream",
          "text": [
            "\n",
            "Epoch 44 of 100, 67.70 s, with average training loss: 0.01578511, and validation loss: 0.08670863\n",
            "Epoch 45 starting at: 19:57:09\n"
          ],
          "name": "stdout"
        },
        {
          "output_type": "stream",
          "text": [
            "100%|██████████| 196/196 [01:02<00:00,  3.14it/s]\n",
            "100%|██████████| 40/40 [00:05<00:00,  7.44it/s]\n",
            "  0%|          | 0/196 [00:00<?, ?it/s]"
          ],
          "name": "stderr"
        },
        {
          "output_type": "stream",
          "text": [
            "Epoch    45: reducing learning rate of group 0 to 1.0000e-04.\n",
            "\n",
            "Epoch 45 of 100, 67.79 s, with average training loss: 0.01281394, and validation loss: 0.07276793\n",
            "Epoch 46 starting at: 19:58:17\n"
          ],
          "name": "stdout"
        },
        {
          "output_type": "stream",
          "text": [
            "100%|██████████| 196/196 [01:02<00:00,  3.14it/s]\n",
            "100%|██████████| 40/40 [00:05<00:00,  7.52it/s]\n",
            "  0%|          | 0/196 [00:00<?, ?it/s]"
          ],
          "name": "stderr"
        },
        {
          "output_type": "stream",
          "text": [
            "\n",
            "Epoch 46 of 100, 67.68 s, with average training loss: 0.00417416, and validation loss: 0.07136375\n",
            "Epoch 47 starting at: 19:59:25\n"
          ],
          "name": "stdout"
        },
        {
          "output_type": "stream",
          "text": [
            "100%|██████████| 196/196 [01:02<00:00,  3.14it/s]\n",
            "100%|██████████| 40/40 [00:05<00:00,  7.43it/s]\n",
            "  0%|          | 0/196 [00:00<?, ?it/s]"
          ],
          "name": "stderr"
        },
        {
          "output_type": "stream",
          "text": [
            "\n",
            "Epoch 47 of 100, 67.76 s, with average training loss: 0.00310370, and validation loss: 0.07108716\n",
            "Epoch 48 starting at: 20:00:33\n"
          ],
          "name": "stdout"
        },
        {
          "output_type": "stream",
          "text": [
            "100%|██████████| 196/196 [01:02<00:00,  3.14it/s]\n",
            "100%|██████████| 40/40 [00:05<00:00,  7.41it/s]\n",
            "  0%|          | 0/196 [00:00<?, ?it/s]"
          ],
          "name": "stderr"
        },
        {
          "output_type": "stream",
          "text": [
            "\n",
            "Epoch 48 of 100, 67.76 s, with average training loss: 0.00287761, and validation loss: 0.07169031\n",
            "Epoch 49 starting at: 20:01:40\n"
          ],
          "name": "stdout"
        },
        {
          "output_type": "stream",
          "text": [
            "100%|██████████| 196/196 [01:02<00:00,  3.14it/s]\n",
            "100%|██████████| 40/40 [00:05<00:00,  7.53it/s]\n",
            "  0%|          | 0/196 [00:00<?, ?it/s]"
          ],
          "name": "stderr"
        },
        {
          "output_type": "stream",
          "text": [
            "\n",
            "Epoch 49 of 100, 67.74 s, with average training loss: 0.00271168, and validation loss: 0.07213587\n",
            "Epoch 50 starting at: 20:02:48\n"
          ],
          "name": "stdout"
        },
        {
          "output_type": "stream",
          "text": [
            "100%|██████████| 196/196 [01:02<00:00,  3.14it/s]\n",
            "100%|██████████| 40/40 [00:05<00:00,  7.51it/s]\n",
            "  0%|          | 0/196 [00:00<?, ?it/s]"
          ],
          "name": "stderr"
        },
        {
          "output_type": "stream",
          "text": [
            "\n",
            "Epoch 50 of 100, 67.71 s, with average training loss: 0.00264561, and validation loss: 0.07935430\n",
            "Epoch 51 starting at: 20:03:56\n"
          ],
          "name": "stdout"
        },
        {
          "output_type": "stream",
          "text": [
            "100%|██████████| 196/196 [01:02<00:00,  3.14it/s]\n",
            "100%|██████████| 40/40 [00:05<00:00,  7.53it/s]\n",
            "  0%|          | 0/196 [00:00<?, ?it/s]"
          ],
          "name": "stderr"
        },
        {
          "output_type": "stream",
          "text": [
            "Epoch    51: reducing learning rate of group 0 to 1.0000e-05.\n",
            "\n",
            "Epoch 51 of 100, 67.70 s, with average training loss: 0.00228596, and validation loss: 0.07186180\n",
            "Epoch 52 starting at: 20:05:04\n"
          ],
          "name": "stdout"
        },
        {
          "output_type": "stream",
          "text": [
            "100%|██████████| 196/196 [01:02<00:00,  3.14it/s]\n",
            "100%|██████████| 40/40 [00:05<00:00,  7.52it/s]\n",
            "  0%|          | 0/196 [00:00<?, ?it/s]"
          ],
          "name": "stderr"
        },
        {
          "output_type": "stream",
          "text": [
            "\n",
            "Epoch 52 of 100, 67.71 s, with average training loss: 0.00223534, and validation loss: 0.07468009\n",
            "Epoch 53 starting at: 20:06:11\n"
          ],
          "name": "stdout"
        },
        {
          "output_type": "stream",
          "text": [
            "100%|██████████| 196/196 [01:02<00:00,  3.14it/s]\n",
            "100%|██████████| 40/40 [00:05<00:00,  7.43it/s]\n",
            "  0%|          | 0/196 [00:00<?, ?it/s]"
          ],
          "name": "stderr"
        },
        {
          "output_type": "stream",
          "text": [
            "\n",
            "Epoch 53 of 100, 67.76 s, with average training loss: 0.00213634, and validation loss: 0.07358195\n",
            "Epoch 54 starting at: 20:07:19\n"
          ],
          "name": "stdout"
        },
        {
          "output_type": "stream",
          "text": [
            "100%|██████████| 196/196 [01:02<00:00,  3.14it/s]\n",
            "100%|██████████| 40/40 [00:05<00:00,  7.47it/s]\n",
            "  0%|          | 0/196 [00:00<?, ?it/s]"
          ],
          "name": "stderr"
        },
        {
          "output_type": "stream",
          "text": [
            "\n",
            "Epoch 54 of 100, 67.78 s, with average training loss: 0.00211809, and validation loss: 0.08286376\n",
            "Epoch 55 starting at: 20:08:27\n"
          ],
          "name": "stdout"
        },
        {
          "output_type": "stream",
          "text": [
            "100%|██████████| 196/196 [01:02<00:00,  3.14it/s]\n",
            "100%|██████████| 40/40 [00:05<00:00,  7.38it/s]\n",
            "  0%|          | 0/196 [00:00<?, ?it/s]"
          ],
          "name": "stderr"
        },
        {
          "output_type": "stream",
          "text": [
            "\n",
            "Epoch 55 of 100, 67.85 s, with average training loss: 0.00195731, and validation loss: 0.07614151\n",
            "Epoch 56 starting at: 20:09:35\n"
          ],
          "name": "stdout"
        },
        {
          "output_type": "stream",
          "text": [
            "100%|██████████| 196/196 [01:02<00:00,  3.14it/s]\n",
            "100%|██████████| 40/40 [00:05<00:00,  7.44it/s]\n",
            "  0%|          | 0/196 [00:00<?, ?it/s]"
          ],
          "name": "stderr"
        },
        {
          "output_type": "stream",
          "text": [
            "\n",
            "Epoch 56 of 100, 67.79 s, with average training loss: 0.00204843, and validation loss: 0.07472491\n",
            "Epoch 57 starting at: 20:10:42\n"
          ],
          "name": "stdout"
        },
        {
          "output_type": "stream",
          "text": [
            "100%|██████████| 196/196 [01:02<00:00,  3.14it/s]\n",
            "100%|██████████| 40/40 [00:05<00:00,  7.42it/s]\n",
            "  0%|          | 0/196 [00:00<?, ?it/s]"
          ],
          "name": "stderr"
        },
        {
          "output_type": "stream",
          "text": [
            "Epoch    57: reducing learning rate of group 0 to 1.0000e-06.\n",
            "\n",
            "Epoch 57 of 100, 67.81 s, with average training loss: 0.00211000, and validation loss: 0.07434167\n",
            "Epoch 58 starting at: 20:11:50\n"
          ],
          "name": "stdout"
        },
        {
          "output_type": "stream",
          "text": [
            "100%|██████████| 196/196 [01:02<00:00,  3.14it/s]\n",
            "100%|██████████| 40/40 [00:05<00:00,  7.43it/s]\n",
            "  0%|          | 0/196 [00:00<?, ?it/s]"
          ],
          "name": "stderr"
        },
        {
          "output_type": "stream",
          "text": [
            "\n",
            "Epoch 58 of 100, 67.77 s, with average training loss: 0.00204207, and validation loss: 0.07513133\n",
            "Epoch 59 starting at: 20:12:58\n"
          ],
          "name": "stdout"
        },
        {
          "output_type": "stream",
          "text": [
            "100%|██████████| 196/196 [01:02<00:00,  3.14it/s]\n",
            "100%|██████████| 40/40 [00:05<00:00,  7.42it/s]\n",
            "  0%|          | 0/196 [00:00<?, ?it/s]"
          ],
          "name": "stderr"
        },
        {
          "output_type": "stream",
          "text": [
            "\n",
            "Epoch 59 of 100, 67.77 s, with average training loss: 0.00203997, and validation loss: 0.08731159\n",
            "Epoch 60 starting at: 20:14:06\n"
          ],
          "name": "stdout"
        },
        {
          "output_type": "stream",
          "text": [
            "100%|██████████| 196/196 [01:02<00:00,  3.14it/s]\n",
            "100%|██████████| 40/40 [00:05<00:00,  7.41it/s]\n",
            "  0%|          | 0/196 [00:00<?, ?it/s]"
          ],
          "name": "stderr"
        },
        {
          "output_type": "stream",
          "text": [
            "\n",
            "Epoch 60 of 100, 67.81 s, with average training loss: 0.00192921, and validation loss: 0.07440596\n",
            "Epoch 61 starting at: 20:15:14\n"
          ],
          "name": "stdout"
        },
        {
          "output_type": "stream",
          "text": [
            "100%|██████████| 196/196 [01:02<00:00,  3.14it/s]\n",
            "100%|██████████| 40/40 [00:05<00:00,  7.50it/s]\n",
            "  0%|          | 0/196 [00:00<?, ?it/s]"
          ],
          "name": "stderr"
        },
        {
          "output_type": "stream",
          "text": [
            "\n",
            "Epoch 61 of 100, 67.72 s, with average training loss: 0.00192669, and validation loss: 0.07436687\n",
            "Epoch 62 starting at: 20:16:21\n"
          ],
          "name": "stdout"
        },
        {
          "output_type": "stream",
          "text": [
            "100%|██████████| 196/196 [01:02<00:00,  3.14it/s]\n",
            "100%|██████████| 40/40 [00:05<00:00,  7.50it/s]\n",
            "  0%|          | 0/196 [00:00<?, ?it/s]"
          ],
          "name": "stderr"
        },
        {
          "output_type": "stream",
          "text": [
            "\n",
            "Epoch 62 of 100, 67.78 s, with average training loss: 0.00191416, and validation loss: 0.07449523\n",
            "Epoch 63 starting at: 20:17:29\n"
          ],
          "name": "stdout"
        },
        {
          "output_type": "stream",
          "text": [
            "100%|██████████| 196/196 [01:02<00:00,  3.14it/s]\n",
            "100%|██████████| 40/40 [00:05<00:00,  7.46it/s]\n",
            "  0%|          | 0/196 [00:00<?, ?it/s]"
          ],
          "name": "stderr"
        },
        {
          "output_type": "stream",
          "text": [
            "Epoch    63: reducing learning rate of group 0 to 1.0000e-07.\n",
            "\n",
            "Epoch 63 of 100, 67.86 s, with average training loss: 0.00217269, and validation loss: 0.07438076\n",
            "Epoch 64 starting at: 20:18:37\n"
          ],
          "name": "stdout"
        },
        {
          "output_type": "stream",
          "text": [
            "100%|██████████| 196/196 [01:02<00:00,  3.14it/s]\n",
            "100%|██████████| 40/40 [00:05<00:00,  7.48it/s]\n",
            "  0%|          | 0/196 [00:00<?, ?it/s]"
          ],
          "name": "stderr"
        },
        {
          "output_type": "stream",
          "text": [
            "\n",
            "Epoch 64 of 100, 67.78 s, with average training loss: 0.00201112, and validation loss: 0.07438156\n",
            "Epoch 65 starting at: 20:19:45\n"
          ],
          "name": "stdout"
        },
        {
          "output_type": "stream",
          "text": [
            "100%|██████████| 196/196 [01:02<00:00,  3.14it/s]\n",
            "100%|██████████| 40/40 [00:05<00:00,  7.49it/s]\n",
            "  0%|          | 0/196 [00:00<?, ?it/s]"
          ],
          "name": "stderr"
        },
        {
          "output_type": "stream",
          "text": [
            "\n",
            "Epoch 65 of 100, 67.74 s, with average training loss: 0.00205773, and validation loss: 0.07437973\n",
            "Epoch 66 starting at: 20:20:53\n"
          ],
          "name": "stdout"
        },
        {
          "output_type": "stream",
          "text": [
            "100%|██████████| 196/196 [01:02<00:00,  3.14it/s]\n",
            "100%|██████████| 40/40 [00:05<00:00,  7.47it/s]\n",
            "  0%|          | 0/196 [00:00<?, ?it/s]"
          ],
          "name": "stderr"
        },
        {
          "output_type": "stream",
          "text": [
            "\n",
            "Epoch 66 of 100, 67.81 s, with average training loss: 0.00205534, and validation loss: 0.07460904\n",
            "Epoch 67 starting at: 20:22:00\n"
          ],
          "name": "stdout"
        },
        {
          "output_type": "stream",
          "text": [
            "100%|██████████| 196/196 [01:02<00:00,  3.14it/s]\n",
            "100%|██████████| 40/40 [00:05<00:00,  7.50it/s]\n",
            "  0%|          | 0/196 [00:00<?, ?it/s]"
          ],
          "name": "stderr"
        },
        {
          "output_type": "stream",
          "text": [
            "\n",
            "Epoch 67 of 100, 67.74 s, with average training loss: 0.00206076, and validation loss: 0.07438083\n",
            "Epoch 68 starting at: 20:23:08\n"
          ],
          "name": "stdout"
        },
        {
          "output_type": "stream",
          "text": [
            "100%|██████████| 196/196 [01:02<00:00,  3.14it/s]\n",
            "100%|██████████| 40/40 [00:05<00:00,  7.49it/s]\n",
            "  0%|          | 0/196 [00:00<?, ?it/s]"
          ],
          "name": "stderr"
        },
        {
          "output_type": "stream",
          "text": [
            "\n",
            "Epoch 68 of 100, 67.75 s, with average training loss: 0.00212063, and validation loss: 0.11955250\n",
            "Epoch 69 starting at: 20:24:16\n"
          ],
          "name": "stdout"
        },
        {
          "output_type": "stream",
          "text": [
            "100%|██████████| 196/196 [01:02<00:00,  3.14it/s]\n",
            "100%|██████████| 40/40 [00:05<00:00,  7.47it/s]\n",
            "  0%|          | 0/196 [00:00<?, ?it/s]"
          ],
          "name": "stderr"
        },
        {
          "output_type": "stream",
          "text": [
            "Epoch    69: reducing learning rate of group 0 to 1.0000e-08.\n",
            "\n",
            "Epoch 69 of 100, 67.76 s, with average training loss: 0.00197421, and validation loss: 0.07437821\n",
            "Epoch 70 starting at: 20:25:24\n"
          ],
          "name": "stdout"
        },
        {
          "output_type": "stream",
          "text": [
            "100%|██████████| 196/196 [01:02<00:00,  3.14it/s]\n",
            "100%|██████████| 40/40 [00:05<00:00,  7.42it/s]\n",
            "  0%|          | 0/196 [00:00<?, ?it/s]"
          ],
          "name": "stderr"
        },
        {
          "output_type": "stream",
          "text": [
            "\n",
            "Epoch 70 of 100, 67.82 s, with average training loss: 0.00240744, and validation loss: 0.07438698\n",
            "Epoch 71 starting at: 20:26:31\n"
          ],
          "name": "stdout"
        },
        {
          "output_type": "stream",
          "text": [
            "100%|██████████| 196/196 [01:02<00:00,  3.14it/s]\n",
            "100%|██████████| 40/40 [00:05<00:00,  7.52it/s]\n",
            "  0%|          | 0/196 [00:00<?, ?it/s]"
          ],
          "name": "stderr"
        },
        {
          "output_type": "stream",
          "text": [
            "\n",
            "Epoch 71 of 100, 67.78 s, with average training loss: 0.00224086, and validation loss: 0.07441848\n",
            "Epoch 72 starting at: 20:27:39\n"
          ],
          "name": "stdout"
        },
        {
          "output_type": "stream",
          "text": [
            "100%|██████████| 196/196 [01:02<00:00,  3.14it/s]\n",
            "100%|██████████| 40/40 [00:05<00:00,  7.47it/s]\n",
            "  0%|          | 0/196 [00:00<?, ?it/s]"
          ],
          "name": "stderr"
        },
        {
          "output_type": "stream",
          "text": [
            "\n",
            "Epoch 72 of 100, 67.80 s, with average training loss: 0.00229276, and validation loss: 0.07441668\n",
            "Epoch 73 starting at: 20:28:47\n"
          ],
          "name": "stdout"
        },
        {
          "output_type": "stream",
          "text": [
            "100%|██████████| 196/196 [01:02<00:00,  3.14it/s]\n",
            "100%|██████████| 40/40 [00:05<00:00,  7.49it/s]\n",
            "  0%|          | 0/196 [00:00<?, ?it/s]"
          ],
          "name": "stderr"
        },
        {
          "output_type": "stream",
          "text": [
            "\n",
            "Epoch 73 of 100, 67.79 s, with average training loss: 0.00203862, and validation loss: 0.07438841\n",
            "Epoch 74 starting at: 20:29:55\n"
          ],
          "name": "stdout"
        },
        {
          "output_type": "stream",
          "text": [
            "100%|██████████| 196/196 [01:02<00:00,  3.14it/s]\n",
            "100%|██████████| 40/40 [00:05<00:00,  7.48it/s]\n",
            "  0%|          | 0/196 [00:00<?, ?it/s]"
          ],
          "name": "stderr"
        },
        {
          "output_type": "stream",
          "text": [
            "\n",
            "Epoch 74 of 100, 67.79 s, with average training loss: 0.00216415, and validation loss: 0.07517992\n",
            "Epoch 75 starting at: 20:31:03\n"
          ],
          "name": "stdout"
        },
        {
          "output_type": "stream",
          "text": [
            "100%|██████████| 196/196 [01:02<00:00,  3.13it/s]\n",
            "100%|██████████| 40/40 [00:05<00:00,  7.49it/s]\n",
            "  0%|          | 0/196 [00:00<?, ?it/s]"
          ],
          "name": "stderr"
        },
        {
          "output_type": "stream",
          "text": [
            "\n",
            "Epoch 75 of 100, 67.88 s, with average training loss: 0.00228680, and validation loss: 0.07438264\n",
            "Epoch 76 starting at: 20:32:10\n"
          ],
          "name": "stdout"
        },
        {
          "output_type": "stream",
          "text": [
            "100%|██████████| 196/196 [01:02<00:00,  3.14it/s]\n",
            "100%|██████████| 40/40 [00:05<00:00,  7.45it/s]\n",
            "  0%|          | 0/196 [00:00<?, ?it/s]"
          ],
          "name": "stderr"
        },
        {
          "output_type": "stream",
          "text": [
            "\n",
            "Epoch 76 of 100, 67.88 s, with average training loss: 0.00208970, and validation loss: 0.07438130\n",
            "Epoch 77 starting at: 20:33:18\n"
          ],
          "name": "stdout"
        },
        {
          "output_type": "stream",
          "text": [
            "100%|██████████| 196/196 [01:02<00:00,  3.14it/s]\n",
            "100%|██████████| 40/40 [00:05<00:00,  7.33it/s]\n",
            "  0%|          | 0/196 [00:00<?, ?it/s]"
          ],
          "name": "stderr"
        },
        {
          "output_type": "stream",
          "text": [
            "\n",
            "Epoch 77 of 100, 67.91 s, with average training loss: 0.00198609, and validation loss: 0.07456582\n",
            "Epoch 78 starting at: 20:34:26\n"
          ],
          "name": "stdout"
        },
        {
          "output_type": "stream",
          "text": [
            "100%|██████████| 196/196 [01:02<00:00,  3.14it/s]\n",
            "100%|██████████| 40/40 [00:05<00:00,  7.36it/s]\n",
            "  0%|          | 0/196 [00:00<?, ?it/s]"
          ],
          "name": "stderr"
        },
        {
          "output_type": "stream",
          "text": [
            "\n",
            "Epoch 78 of 100, 67.85 s, with average training loss: 0.00210535, and validation loss: 0.07437817\n",
            "Epoch 79 starting at: 20:35:34\n"
          ],
          "name": "stdout"
        },
        {
          "output_type": "stream",
          "text": [
            "100%|██████████| 196/196 [01:02<00:00,  3.14it/s]\n",
            "100%|██████████| 40/40 [00:05<00:00,  7.48it/s]\n",
            "  0%|          | 0/196 [00:00<?, ?it/s]"
          ],
          "name": "stderr"
        },
        {
          "output_type": "stream",
          "text": [
            "\n",
            "Epoch 79 of 100, 67.81 s, with average training loss: 0.00210642, and validation loss: 0.07440385\n",
            "Epoch 80 starting at: 20:36:42\n"
          ],
          "name": "stdout"
        },
        {
          "output_type": "stream",
          "text": [
            "100%|██████████| 196/196 [01:02<00:00,  3.14it/s]\n",
            "100%|██████████| 40/40 [00:05<00:00,  7.48it/s]\n",
            "  0%|          | 0/196 [00:00<?, ?it/s]"
          ],
          "name": "stderr"
        },
        {
          "output_type": "stream",
          "text": [
            "\n",
            "Epoch 80 of 100, 67.77 s, with average training loss: 0.00211708, and validation loss: 0.07455616\n",
            "Epoch 81 starting at: 20:37:50\n"
          ],
          "name": "stdout"
        },
        {
          "output_type": "stream",
          "text": [
            "100%|██████████| 196/196 [01:02<00:00,  3.14it/s]\n",
            "100%|██████████| 40/40 [00:05<00:00,  7.46it/s]\n",
            "  0%|          | 0/196 [00:00<?, ?it/s]"
          ],
          "name": "stderr"
        },
        {
          "output_type": "stream",
          "text": [
            "\n",
            "Epoch 81 of 100, 67.76 s, with average training loss: 0.00193204, and validation loss: 0.07438263\n",
            "Epoch 82 starting at: 20:38:57\n"
          ],
          "name": "stdout"
        },
        {
          "output_type": "stream",
          "text": [
            "100%|██████████| 196/196 [01:02<00:00,  3.14it/s]\n",
            "100%|██████████| 40/40 [00:05<00:00,  7.49it/s]\n",
            "  0%|          | 0/196 [00:00<?, ?it/s]"
          ],
          "name": "stderr"
        },
        {
          "output_type": "stream",
          "text": [
            "\n",
            "Epoch 82 of 100, 67.81 s, with average training loss: 0.00208577, and validation loss: 0.07437950\n",
            "Epoch 83 starting at: 20:40:05\n"
          ],
          "name": "stdout"
        },
        {
          "output_type": "stream",
          "text": [
            "100%|██████████| 196/196 [01:02<00:00,  3.14it/s]\n",
            "100%|██████████| 40/40 [00:05<00:00,  7.50it/s]\n",
            "  0%|          | 0/196 [00:00<?, ?it/s]"
          ],
          "name": "stderr"
        },
        {
          "output_type": "stream",
          "text": [
            "\n",
            "Epoch 83 of 100, 67.74 s, with average training loss: 0.00211016, and validation loss: 0.07438487\n",
            "Epoch 84 starting at: 20:41:13\n"
          ],
          "name": "stdout"
        },
        {
          "output_type": "stream",
          "text": [
            "100%|██████████| 196/196 [01:02<00:00,  3.14it/s]\n",
            "100%|██████████| 40/40 [00:05<00:00,  7.45it/s]\n",
            "  0%|          | 0/196 [00:00<?, ?it/s]"
          ],
          "name": "stderr"
        },
        {
          "output_type": "stream",
          "text": [
            "\n",
            "Epoch 84 of 100, 67.80 s, with average training loss: 0.00209116, and validation loss: 0.07774551\n",
            "Epoch 85 starting at: 20:42:21\n"
          ],
          "name": "stdout"
        },
        {
          "output_type": "stream",
          "text": [
            "100%|██████████| 196/196 [01:02<00:00,  3.14it/s]\n",
            "100%|██████████| 40/40 [00:05<00:00,  7.52it/s]\n",
            "  0%|          | 0/196 [00:00<?, ?it/s]"
          ],
          "name": "stderr"
        },
        {
          "output_type": "stream",
          "text": [
            "\n",
            "Epoch 85 of 100, 67.70 s, with average training loss: 0.00223021, and validation loss: 0.07437816\n",
            "Epoch 86 starting at: 20:43:29\n"
          ],
          "name": "stdout"
        },
        {
          "output_type": "stream",
          "text": [
            "100%|██████████| 196/196 [01:02<00:00,  3.14it/s]\n",
            "100%|██████████| 40/40 [00:05<00:00,  7.41it/s]\n",
            "  0%|          | 0/196 [00:00<?, ?it/s]"
          ],
          "name": "stderr"
        },
        {
          "output_type": "stream",
          "text": [
            "\n",
            "Epoch 86 of 100, 67.83 s, with average training loss: 0.00198351, and validation loss: 0.07437816\n",
            "Epoch 87 starting at: 20:44:36\n"
          ],
          "name": "stdout"
        },
        {
          "output_type": "stream",
          "text": [
            "100%|██████████| 196/196 [01:02<00:00,  3.14it/s]\n",
            "100%|██████████| 40/40 [00:05<00:00,  7.44it/s]\n",
            "  0%|          | 0/196 [00:00<?, ?it/s]"
          ],
          "name": "stderr"
        },
        {
          "output_type": "stream",
          "text": [
            "\n",
            "Epoch 87 of 100, 67.81 s, with average training loss: 0.00212880, and validation loss: 0.07437831\n",
            "Epoch 88 starting at: 20:45:44\n"
          ],
          "name": "stdout"
        },
        {
          "output_type": "stream",
          "text": [
            "100%|██████████| 196/196 [01:02<00:00,  3.14it/s]\n",
            "100%|██████████| 40/40 [00:05<00:00,  7.46it/s]\n",
            "  0%|          | 0/196 [00:00<?, ?it/s]"
          ],
          "name": "stderr"
        },
        {
          "output_type": "stream",
          "text": [
            "\n",
            "Epoch 88 of 100, 67.81 s, with average training loss: 0.00195258, and validation loss: 0.07462581\n",
            "Epoch 89 starting at: 20:46:52\n"
          ],
          "name": "stdout"
        },
        {
          "output_type": "stream",
          "text": [
            "100%|██████████| 196/196 [01:02<00:00,  3.14it/s]\n",
            "100%|██████████| 40/40 [00:05<00:00,  7.52it/s]\n",
            "  0%|          | 0/196 [00:00<?, ?it/s]"
          ],
          "name": "stderr"
        },
        {
          "output_type": "stream",
          "text": [
            "\n",
            "Epoch 89 of 100, 67.83 s, with average training loss: 0.00205694, and validation loss: 0.07491197\n",
            "Epoch 90 starting at: 20:48:00\n"
          ],
          "name": "stdout"
        },
        {
          "output_type": "stream",
          "text": [
            "100%|██████████| 196/196 [01:02<00:00,  3.14it/s]\n",
            "100%|██████████| 40/40 [00:05<00:00,  7.46it/s]\n",
            "  0%|          | 0/196 [00:00<?, ?it/s]"
          ],
          "name": "stderr"
        },
        {
          "output_type": "stream",
          "text": [
            "\n",
            "Epoch 90 of 100, 67.82 s, with average training loss: 0.00173368, and validation loss: 0.07439291\n",
            "Epoch 91 starting at: 20:49:08\n"
          ],
          "name": "stdout"
        },
        {
          "output_type": "stream",
          "text": [
            "100%|██████████| 196/196 [01:02<00:00,  3.14it/s]\n",
            "100%|██████████| 40/40 [00:05<00:00,  7.48it/s]\n",
            "  0%|          | 0/196 [00:00<?, ?it/s]"
          ],
          "name": "stderr"
        },
        {
          "output_type": "stream",
          "text": [
            "\n",
            "Epoch 91 of 100, 67.80 s, with average training loss: 0.00210875, and validation loss: 0.07437808\n",
            "Epoch 92 starting at: 20:50:15\n"
          ],
          "name": "stdout"
        },
        {
          "output_type": "stream",
          "text": [
            "100%|██████████| 196/196 [01:02<00:00,  3.14it/s]\n",
            "100%|██████████| 40/40 [00:05<00:00,  7.46it/s]\n",
            "  0%|          | 0/196 [00:00<?, ?it/s]"
          ],
          "name": "stderr"
        },
        {
          "output_type": "stream",
          "text": [
            "\n",
            "Epoch 92 of 100, 67.84 s, with average training loss: 0.00200106, and validation loss: 0.07437975\n",
            "Epoch 93 starting at: 20:51:23\n"
          ],
          "name": "stdout"
        },
        {
          "output_type": "stream",
          "text": [
            "100%|██████████| 196/196 [01:02<00:00,  3.13it/s]\n",
            "100%|██████████| 40/40 [00:05<00:00,  7.50it/s]\n",
            "  0%|          | 0/196 [00:00<?, ?it/s]"
          ],
          "name": "stderr"
        },
        {
          "output_type": "stream",
          "text": [
            "\n",
            "Epoch 93 of 100, 67.87 s, with average training loss: 0.00208491, and validation loss: 0.07438497\n",
            "Epoch 94 starting at: 20:52:31\n"
          ],
          "name": "stdout"
        },
        {
          "output_type": "stream",
          "text": [
            "100%|██████████| 196/196 [01:02<00:00,  3.14it/s]\n",
            "100%|██████████| 40/40 [00:05<00:00,  7.46it/s]\n",
            "  0%|          | 0/196 [00:00<?, ?it/s]"
          ],
          "name": "stderr"
        },
        {
          "output_type": "stream",
          "text": [
            "\n",
            "Epoch 94 of 100, 67.81 s, with average training loss: 0.00184957, and validation loss: 0.07486922\n",
            "Epoch 95 starting at: 20:53:39\n"
          ],
          "name": "stdout"
        },
        {
          "output_type": "stream",
          "text": [
            "100%|██████████| 196/196 [01:02<00:00,  3.14it/s]\n",
            "100%|██████████| 40/40 [00:05<00:00,  7.39it/s]\n",
            "  0%|          | 0/196 [00:00<?, ?it/s]"
          ],
          "name": "stderr"
        },
        {
          "output_type": "stream",
          "text": [
            "\n",
            "Epoch 95 of 100, 67.87 s, with average training loss: 0.00215972, and validation loss: 0.07437811\n",
            "Epoch 96 starting at: 20:54:47\n"
          ],
          "name": "stdout"
        },
        {
          "output_type": "stream",
          "text": [
            "100%|██████████| 196/196 [01:02<00:00,  3.14it/s]\n",
            "100%|██████████| 40/40 [00:05<00:00,  7.40it/s]\n",
            "  0%|          | 0/196 [00:00<?, ?it/s]"
          ],
          "name": "stderr"
        },
        {
          "output_type": "stream",
          "text": [
            "\n",
            "Epoch 96 of 100, 67.86 s, with average training loss: 0.00205874, and validation loss: 0.07605791\n",
            "Epoch 97 starting at: 20:55:55\n"
          ],
          "name": "stdout"
        },
        {
          "output_type": "stream",
          "text": [
            "100%|██████████| 196/196 [01:02<00:00,  3.14it/s]\n",
            "100%|██████████| 40/40 [00:05<00:00,  7.43it/s]\n",
            "  0%|          | 0/196 [00:00<?, ?it/s]"
          ],
          "name": "stderr"
        },
        {
          "output_type": "stream",
          "text": [
            "\n",
            "Epoch 97 of 100, 67.88 s, with average training loss: 0.00233212, and validation loss: 0.07438109\n",
            "Epoch 98 starting at: 20:57:03\n"
          ],
          "name": "stdout"
        },
        {
          "output_type": "stream",
          "text": [
            "100%|██████████| 196/196 [01:02<00:00,  3.14it/s]\n",
            "100%|██████████| 40/40 [00:05<00:00,  7.44it/s]\n",
            "  0%|          | 0/196 [00:00<?, ?it/s]"
          ],
          "name": "stderr"
        },
        {
          "output_type": "stream",
          "text": [
            "\n",
            "Epoch 98 of 100, 67.90 s, with average training loss: 0.00198397, and validation loss: 0.07438689\n",
            "Epoch 99 starting at: 20:58:10\n"
          ],
          "name": "stdout"
        },
        {
          "output_type": "stream",
          "text": [
            "100%|██████████| 196/196 [01:02<00:00,  3.14it/s]\n",
            "100%|██████████| 40/40 [00:05<00:00,  7.48it/s]\n",
            "  0%|          | 0/196 [00:00<?, ?it/s]"
          ],
          "name": "stderr"
        },
        {
          "output_type": "stream",
          "text": [
            "\n",
            "Epoch 99 of 100, 67.79 s, with average training loss: 0.00206194, and validation loss: 0.07541705\n",
            "Epoch 100 starting at: 20:59:18\n"
          ],
          "name": "stdout"
        },
        {
          "output_type": "stream",
          "text": [
            "100%|██████████| 196/196 [01:02<00:00,  3.14it/s]\n",
            "100%|██████████| 40/40 [00:05<00:00,  7.47it/s]\n"
          ],
          "name": "stderr"
        },
        {
          "output_type": "stream",
          "text": [
            "\n",
            "Epoch 100 of 100, 67.83 s, with average training loss: 0.00214176, and validation loss: 0.07440045\n",
            "Finished Training  09/05/2021 21:00:26\n",
            "Avg per epoch ptime: 67.78, total 100 epochs ptime: 6778.11\n"
          ],
          "name": "stdout"
        }
      ]
    },
    {
      "cell_type": "markdown",
      "metadata": {
        "id": "BOwQu7oxCiax"
      },
      "source": [
        "### ResNet Training"
      ]
    },
    {
      "cell_type": "code",
      "metadata": {
        "colab": {
          "base_uri": "https://localhost:8080/"
        },
        "id": "t-049DvPhleM",
        "outputId": "12b04a14-4826-48c6-e6a5-f592eee4363d"
      },
      "source": [
        "# Load and train ResNet\n",
        "net, optimizer, scheduler = LoadResNet(device)\n",
        "TrainResNet(net, optimizer, scheduler, criterion, epochs, train_loader, validation_loader)\n",
        "torch.save(net.state_dict(), model_dir + '/ResNet_model.pth')\n",
        "del net\n",
        "del optimizer\n",
        "del scheduler"
      ],
      "execution_count": 13,
      "outputs": [
        {
          "output_type": "stream",
          "text": [
            "Using cache found in /root/.cache/torch/hub/pytorch_vision_v0.9.0\n",
            "  1%|          | 1/196 [00:00<00:32,  6.09it/s]"
          ],
          "name": "stderr"
        },
        {
          "output_type": "stream",
          "text": [
            "\n",
            "Training ResNet\n",
            "Training starting  09/05/2021 21:28:42\n",
            "Epoch 1 starting at: 21:28:42\n"
          ],
          "name": "stdout"
        },
        {
          "output_type": "stream",
          "text": [
            "100%|██████████| 196/196 [00:29<00:00,  6.63it/s]\n",
            "100%|██████████| 40/40 [00:03<00:00, 13.02it/s]\n",
            "  1%|          | 1/196 [00:00<00:29,  6.52it/s]"
          ],
          "name": "stderr"
        },
        {
          "output_type": "stream",
          "text": [
            "\n",
            "Epoch 1 of 100, 32.65 s, with average training loss: 0.31101736, and validation loss: 0.05770844\n",
            "Epoch 2 starting at: 21:29:15\n"
          ],
          "name": "stdout"
        },
        {
          "output_type": "stream",
          "text": [
            "100%|██████████| 196/196 [00:29<00:00,  6.64it/s]\n",
            "100%|██████████| 40/40 [00:03<00:00, 13.12it/s]\n",
            "  1%|          | 1/196 [00:00<00:29,  6.53it/s]"
          ],
          "name": "stderr"
        },
        {
          "output_type": "stream",
          "text": [
            "\n",
            "Epoch 2 of 100, 32.56 s, with average training loss: 0.02832796, and validation loss: 0.06097870\n",
            "Epoch 3 starting at: 21:29:47\n"
          ],
          "name": "stdout"
        },
        {
          "output_type": "stream",
          "text": [
            "100%|██████████| 196/196 [00:29<00:00,  6.67it/s]\n",
            "100%|██████████| 40/40 [00:03<00:00, 13.12it/s]\n",
            "  1%|          | 1/196 [00:00<00:29,  6.65it/s]"
          ],
          "name": "stderr"
        },
        {
          "output_type": "stream",
          "text": [
            "\n",
            "Epoch 3 of 100, 32.42 s, with average training loss: 0.01193704, and validation loss: 0.04118080\n",
            "Epoch 4 starting at: 21:30:20\n"
          ],
          "name": "stdout"
        },
        {
          "output_type": "stream",
          "text": [
            "100%|██████████| 196/196 [00:29<00:00,  6.64it/s]\n",
            "100%|██████████| 40/40 [00:03<00:00, 12.98it/s]\n",
            "  1%|          | 1/196 [00:00<00:30,  6.49it/s]"
          ],
          "name": "stderr"
        },
        {
          "output_type": "stream",
          "text": [
            "\n",
            "Epoch 4 of 100, 32.59 s, with average training loss: 0.00436399, and validation loss: 0.03900480\n",
            "Epoch 5 starting at: 21:30:52\n"
          ],
          "name": "stdout"
        },
        {
          "output_type": "stream",
          "text": [
            "100%|██████████| 196/196 [00:29<00:00,  6.65it/s]\n",
            "100%|██████████| 40/40 [00:03<00:00, 13.17it/s]\n",
            "  1%|          | 1/196 [00:00<00:29,  6.61it/s]"
          ],
          "name": "stderr"
        },
        {
          "output_type": "stream",
          "text": [
            "\n",
            "Epoch 5 of 100, 32.53 s, with average training loss: 0.00132444, and validation loss: 0.03904982\n",
            "Epoch 6 starting at: 21:31:25\n"
          ],
          "name": "stdout"
        },
        {
          "output_type": "stream",
          "text": [
            "100%|██████████| 196/196 [00:29<00:00,  6.64it/s]\n",
            "100%|██████████| 40/40 [00:03<00:00, 13.17it/s]\n",
            "  1%|          | 1/196 [00:00<00:29,  6.52it/s]"
          ],
          "name": "stderr"
        },
        {
          "output_type": "stream",
          "text": [
            "\n",
            "Epoch 6 of 100, 32.55 s, with average training loss: 0.00045978, and validation loss: 0.03683822\n",
            "Epoch 7 starting at: 21:31:57\n"
          ],
          "name": "stdout"
        },
        {
          "output_type": "stream",
          "text": [
            "100%|██████████| 196/196 [00:29<00:00,  6.62it/s]\n",
            "100%|██████████| 40/40 [00:03<00:00, 13.17it/s]\n",
            "  1%|          | 1/196 [00:00<00:29,  6.58it/s]"
          ],
          "name": "stderr"
        },
        {
          "output_type": "stream",
          "text": [
            "\n",
            "Epoch 7 of 100, 32.63 s, with average training loss: 0.00031386, and validation loss: 0.03825098\n",
            "Epoch 8 starting at: 21:32:30\n"
          ],
          "name": "stdout"
        },
        {
          "output_type": "stream",
          "text": [
            "100%|██████████| 196/196 [00:29<00:00,  6.67it/s]\n",
            "100%|██████████| 40/40 [00:03<00:00, 13.06it/s]\n",
            "  1%|          | 1/196 [00:00<00:30,  6.39it/s]"
          ],
          "name": "stderr"
        },
        {
          "output_type": "stream",
          "text": [
            "\n",
            "Epoch 8 of 100, 32.48 s, with average training loss: 0.00022063, and validation loss: 0.03872597\n",
            "Epoch 9 starting at: 21:33:03\n"
          ],
          "name": "stdout"
        },
        {
          "output_type": "stream",
          "text": [
            "100%|██████████| 196/196 [00:29<00:00,  6.65it/s]\n",
            "100%|██████████| 40/40 [00:03<00:00, 13.16it/s]\n",
            "  1%|          | 1/196 [00:00<00:29,  6.61it/s]"
          ],
          "name": "stderr"
        },
        {
          "output_type": "stream",
          "text": [
            "\n",
            "Epoch 9 of 100, 32.51 s, with average training loss: 0.00019711, and validation loss: 0.03887488\n",
            "Epoch 10 starting at: 21:33:35\n"
          ],
          "name": "stdout"
        },
        {
          "output_type": "stream",
          "text": [
            "100%|██████████| 196/196 [00:29<00:00,  6.67it/s]\n",
            "100%|██████████| 40/40 [00:03<00:00, 13.16it/s]\n",
            "  1%|          | 1/196 [00:00<00:30,  6.48it/s]"
          ],
          "name": "stderr"
        },
        {
          "output_type": "stream",
          "text": [
            "\n",
            "Epoch 10 of 100, 32.44 s, with average training loss: 0.00016702, and validation loss: 0.03895487\n",
            "Epoch 11 starting at: 21:34:08\n"
          ],
          "name": "stdout"
        },
        {
          "output_type": "stream",
          "text": [
            "100%|██████████| 196/196 [00:29<00:00,  6.66it/s]\n",
            "100%|██████████| 40/40 [00:03<00:00, 12.98it/s]\n",
            "  1%|          | 1/196 [00:00<00:28,  6.78it/s]"
          ],
          "name": "stderr"
        },
        {
          "output_type": "stream",
          "text": [
            "\n",
            "Epoch 11 of 100, 32.52 s, with average training loss: 0.00015862, and validation loss: 0.03928222\n",
            "Epoch 12 starting at: 21:34:40\n"
          ],
          "name": "stdout"
        },
        {
          "output_type": "stream",
          "text": [
            "100%|██████████| 196/196 [00:29<00:00,  6.67it/s]\n",
            "100%|██████████| 40/40 [00:03<00:00, 13.11it/s]\n",
            "  1%|          | 1/196 [00:00<00:29,  6.58it/s]"
          ],
          "name": "stderr"
        },
        {
          "output_type": "stream",
          "text": [
            "Epoch    12: reducing learning rate of group 0 to 1.0000e-03.\n",
            "\n",
            "Epoch 12 of 100, 32.44 s, with average training loss: 0.00013675, and validation loss: 0.03904107\n",
            "Epoch 13 starting at: 21:35:12\n"
          ],
          "name": "stdout"
        },
        {
          "output_type": "stream",
          "text": [
            "100%|██████████| 196/196 [00:29<00:00,  6.66it/s]\n",
            "100%|██████████| 40/40 [00:03<00:00, 13.21it/s]\n",
            "  1%|          | 1/196 [00:00<00:29,  6.56it/s]"
          ],
          "name": "stderr"
        },
        {
          "output_type": "stream",
          "text": [
            "\n",
            "Epoch 13 of 100, 32.47 s, with average training loss: 0.00012609, and validation loss: 0.04149291\n",
            "Epoch 14 starting at: 21:35:45\n"
          ],
          "name": "stdout"
        },
        {
          "output_type": "stream",
          "text": [
            "100%|██████████| 196/196 [00:29<00:00,  6.67it/s]\n",
            "100%|██████████| 40/40 [00:03<00:00, 13.16it/s]\n",
            "  1%|          | 1/196 [00:00<00:29,  6.50it/s]"
          ],
          "name": "stderr"
        },
        {
          "output_type": "stream",
          "text": [
            "\n",
            "Epoch 14 of 100, 32.44 s, with average training loss: 0.00012678, and validation loss: 0.03926938\n",
            "Epoch 15 starting at: 21:36:17\n"
          ],
          "name": "stdout"
        },
        {
          "output_type": "stream",
          "text": [
            "100%|██████████| 196/196 [00:29<00:00,  6.68it/s]\n",
            "100%|██████████| 40/40 [00:03<00:00, 13.23it/s]\n",
            "  1%|          | 1/196 [00:00<00:29,  6.58it/s]"
          ],
          "name": "stderr"
        },
        {
          "output_type": "stream",
          "text": [
            "\n",
            "Epoch 15 of 100, 32.38 s, with average training loss: 0.00012242, and validation loss: 0.03919160\n",
            "Epoch 16 starting at: 21:36:50\n"
          ],
          "name": "stdout"
        },
        {
          "output_type": "stream",
          "text": [
            "100%|██████████| 196/196 [00:29<00:00,  6.68it/s]\n",
            "100%|██████████| 40/40 [00:03<00:00, 13.18it/s]\n",
            "  1%|          | 1/196 [00:00<00:29,  6.52it/s]"
          ],
          "name": "stderr"
        },
        {
          "output_type": "stream",
          "text": [
            "\n",
            "Epoch 16 of 100, 32.39 s, with average training loss: 0.00012145, and validation loss: 0.03908064\n",
            "Epoch 17 starting at: 21:37:22\n"
          ],
          "name": "stdout"
        },
        {
          "output_type": "stream",
          "text": [
            "100%|██████████| 196/196 [00:29<00:00,  6.68it/s]\n",
            "100%|██████████| 40/40 [00:03<00:00, 13.23it/s]\n",
            "  1%|          | 1/196 [00:00<00:29,  6.62it/s]"
          ],
          "name": "stderr"
        },
        {
          "output_type": "stream",
          "text": [
            "\n",
            "Epoch 17 of 100, 32.38 s, with average training loss: 0.00012114, and validation loss: 0.03912284\n",
            "Epoch 18 starting at: 21:37:55\n"
          ],
          "name": "stdout"
        },
        {
          "output_type": "stream",
          "text": [
            "100%|██████████| 196/196 [00:29<00:00,  6.68it/s]\n",
            "100%|██████████| 40/40 [00:03<00:00, 13.33it/s]\n",
            "  1%|          | 1/196 [00:00<00:29,  6.56it/s]"
          ],
          "name": "stderr"
        },
        {
          "output_type": "stream",
          "text": [
            "Epoch    18: reducing learning rate of group 0 to 1.0000e-04.\n",
            "\n",
            "Epoch 18 of 100, 32.36 s, with average training loss: 0.00012156, and validation loss: 0.03902613\n",
            "Epoch 19 starting at: 21:38:27\n"
          ],
          "name": "stdout"
        },
        {
          "output_type": "stream",
          "text": [
            "100%|██████████| 196/196 [00:29<00:00,  6.68it/s]\n",
            "100%|██████████| 40/40 [00:03<00:00, 13.07it/s]\n",
            "  1%|          | 1/196 [00:00<00:30,  6.48it/s]"
          ],
          "name": "stderr"
        },
        {
          "output_type": "stream",
          "text": [
            "\n",
            "Epoch 19 of 100, 32.42 s, with average training loss: 0.00011625, and validation loss: 0.03942986\n",
            "Epoch 20 starting at: 21:38:59\n"
          ],
          "name": "stdout"
        },
        {
          "output_type": "stream",
          "text": [
            "100%|██████████| 196/196 [00:29<00:00,  6.68it/s]\n",
            "100%|██████████| 40/40 [00:03<00:00, 13.20it/s]\n",
            "  1%|          | 1/196 [00:00<00:29,  6.68it/s]"
          ],
          "name": "stderr"
        },
        {
          "output_type": "stream",
          "text": [
            "\n",
            "Epoch 20 of 100, 32.38 s, with average training loss: 0.00011787, and validation loss: 0.03914252\n",
            "Epoch 21 starting at: 21:39:32\n"
          ],
          "name": "stdout"
        },
        {
          "output_type": "stream",
          "text": [
            "100%|██████████| 196/196 [00:29<00:00,  6.70it/s]\n",
            "100%|██████████| 40/40 [00:03<00:00, 13.31it/s]\n",
            "  1%|          | 1/196 [00:00<00:29,  6.70it/s]"
          ],
          "name": "stderr"
        },
        {
          "output_type": "stream",
          "text": [
            "\n",
            "Epoch 21 of 100, 32.26 s, with average training loss: 0.00011684, and validation loss: 0.04019941\n",
            "Epoch 22 starting at: 21:40:04\n"
          ],
          "name": "stdout"
        },
        {
          "output_type": "stream",
          "text": [
            "100%|██████████| 196/196 [00:29<00:00,  6.68it/s]\n",
            "100%|██████████| 40/40 [00:03<00:00, 13.29it/s]\n",
            "  1%|          | 1/196 [00:00<00:29,  6.60it/s]"
          ],
          "name": "stderr"
        },
        {
          "output_type": "stream",
          "text": [
            "\n",
            "Epoch 22 of 100, 32.34 s, with average training loss: 0.00011533, and validation loss: 0.03895623\n",
            "Epoch 23 starting at: 21:40:36\n"
          ],
          "name": "stdout"
        },
        {
          "output_type": "stream",
          "text": [
            "100%|██████████| 196/196 [00:29<00:00,  6.70it/s]\n",
            "100%|██████████| 40/40 [00:02<00:00, 13.33it/s]\n",
            "  1%|          | 1/196 [00:00<00:29,  6.69it/s]"
          ],
          "name": "stderr"
        },
        {
          "output_type": "stream",
          "text": [
            "\n",
            "Epoch 23 of 100, 32.24 s, with average training loss: 0.00012032, and validation loss: 0.03939036\n",
            "Epoch 24 starting at: 21:41:09\n"
          ],
          "name": "stdout"
        },
        {
          "output_type": "stream",
          "text": [
            "100%|██████████| 196/196 [00:29<00:00,  6.71it/s]\n",
            "100%|██████████| 40/40 [00:03<00:00, 12.97it/s]\n",
            "  1%|          | 1/196 [00:00<00:29,  6.67it/s]"
          ],
          "name": "stderr"
        },
        {
          "output_type": "stream",
          "text": [
            "Epoch    24: reducing learning rate of group 0 to 1.0000e-05.\n",
            "\n",
            "Epoch 24 of 100, 32.30 s, with average training loss: 0.00011650, and validation loss: 0.03927025\n",
            "Epoch 25 starting at: 21:41:41\n"
          ],
          "name": "stdout"
        },
        {
          "output_type": "stream",
          "text": [
            "100%|██████████| 196/196 [00:29<00:00,  6.70it/s]\n",
            "100%|██████████| 40/40 [00:03<00:00, 13.25it/s]\n",
            "  1%|          | 1/196 [00:00<00:29,  6.58it/s]"
          ],
          "name": "stderr"
        },
        {
          "output_type": "stream",
          "text": [
            "\n",
            "Epoch 25 of 100, 32.27 s, with average training loss: 0.00012079, and validation loss: 0.04449523\n",
            "Epoch 26 starting at: 21:42:13\n"
          ],
          "name": "stdout"
        },
        {
          "output_type": "stream",
          "text": [
            "100%|██████████| 196/196 [00:29<00:00,  6.67it/s]\n",
            "100%|██████████| 40/40 [00:02<00:00, 13.38it/s]\n",
            "  1%|          | 1/196 [00:00<00:29,  6.72it/s]"
          ],
          "name": "stderr"
        },
        {
          "output_type": "stream",
          "text": [
            "\n",
            "Epoch 26 of 100, 32.37 s, with average training loss: 0.00011934, and validation loss: 0.03926566\n",
            "Epoch 27 starting at: 21:42:45\n"
          ],
          "name": "stdout"
        },
        {
          "output_type": "stream",
          "text": [
            "100%|██████████| 196/196 [00:29<00:00,  6.71it/s]\n",
            "100%|██████████| 40/40 [00:03<00:00, 13.33it/s]\n",
            "  1%|          | 1/196 [00:00<00:29,  6.72it/s]"
          ],
          "name": "stderr"
        },
        {
          "output_type": "stream",
          "text": [
            "\n",
            "Epoch 27 of 100, 32.21 s, with average training loss: 0.00011850, and validation loss: 0.03928474\n",
            "Epoch 28 starting at: 21:43:18\n"
          ],
          "name": "stdout"
        },
        {
          "output_type": "stream",
          "text": [
            "100%|██████████| 196/196 [00:29<00:00,  6.70it/s]\n",
            "100%|██████████| 40/40 [00:03<00:00, 13.32it/s]\n",
            "  1%|          | 1/196 [00:00<00:29,  6.60it/s]"
          ],
          "name": "stderr"
        },
        {
          "output_type": "stream",
          "text": [
            "\n",
            "Epoch 28 of 100, 32.25 s, with average training loss: 0.00011738, and validation loss: 0.03900279\n",
            "Epoch 29 starting at: 21:43:50\n"
          ],
          "name": "stdout"
        },
        {
          "output_type": "stream",
          "text": [
            "100%|██████████| 196/196 [00:29<00:00,  6.68it/s]\n",
            "100%|██████████| 40/40 [00:03<00:00, 13.13it/s]\n",
            "  1%|          | 1/196 [00:00<00:30,  6.44it/s]"
          ],
          "name": "stderr"
        },
        {
          "output_type": "stream",
          "text": [
            "\n",
            "Epoch 29 of 100, 32.38 s, with average training loss: 0.00011562, and validation loss: 0.03912040\n",
            "Epoch 30 starting at: 21:44:22\n"
          ],
          "name": "stdout"
        },
        {
          "output_type": "stream",
          "text": [
            "100%|██████████| 196/196 [00:29<00:00,  6.70it/s]\n",
            "100%|██████████| 40/40 [00:03<00:00, 13.19it/s]\n",
            "  1%|          | 1/196 [00:00<00:29,  6.55it/s]"
          ],
          "name": "stderr"
        },
        {
          "output_type": "stream",
          "text": [
            "Epoch    30: reducing learning rate of group 0 to 1.0000e-06.\n",
            "\n",
            "Epoch 30 of 100, 32.30 s, with average training loss: 0.00011911, and validation loss: 0.03915662\n",
            "Epoch 31 starting at: 21:44:55\n"
          ],
          "name": "stdout"
        },
        {
          "output_type": "stream",
          "text": [
            "100%|██████████| 196/196 [00:29<00:00,  6.73it/s]\n",
            "100%|██████████| 40/40 [00:03<00:00, 13.23it/s]\n",
            "  1%|          | 1/196 [00:00<00:29,  6.61it/s]"
          ],
          "name": "stderr"
        },
        {
          "output_type": "stream",
          "text": [
            "\n",
            "Epoch 31 of 100, 32.15 s, with average training loss: 0.00011956, and validation loss: 0.03897520\n",
            "Epoch 32 starting at: 21:45:27\n"
          ],
          "name": "stdout"
        },
        {
          "output_type": "stream",
          "text": [
            "100%|██████████| 196/196 [00:29<00:00,  6.70it/s]\n",
            "100%|██████████| 40/40 [00:03<00:00, 12.95it/s]\n",
            "  1%|          | 1/196 [00:00<00:29,  6.61it/s]"
          ],
          "name": "stderr"
        },
        {
          "output_type": "stream",
          "text": [
            "\n",
            "Epoch 32 of 100, 32.35 s, with average training loss: 0.00011991, and validation loss: 0.03899928\n",
            "Epoch 33 starting at: 21:45:59\n"
          ],
          "name": "stdout"
        },
        {
          "output_type": "stream",
          "text": [
            "100%|██████████| 196/196 [00:29<00:00,  6.72it/s]\n",
            "100%|██████████| 40/40 [00:03<00:00, 12.96it/s]\n",
            "  1%|          | 1/196 [00:00<00:30,  6.37it/s]"
          ],
          "name": "stderr"
        },
        {
          "output_type": "stream",
          "text": [
            "\n",
            "Epoch 33 of 100, 32.24 s, with average training loss: 0.00011732, and validation loss: 0.05186121\n",
            "Epoch 34 starting at: 21:46:31\n"
          ],
          "name": "stdout"
        },
        {
          "output_type": "stream",
          "text": [
            "100%|██████████| 196/196 [00:29<00:00,  6.69it/s]\n",
            "100%|██████████| 40/40 [00:03<00:00, 12.93it/s]\n",
            "  1%|          | 1/196 [00:00<00:30,  6.44it/s]"
          ],
          "name": "stderr"
        },
        {
          "output_type": "stream",
          "text": [
            "\n",
            "Epoch 34 of 100, 32.40 s, with average training loss: 0.00012362, and validation loss: 0.03950363\n",
            "Epoch 35 starting at: 21:47:04\n"
          ],
          "name": "stdout"
        },
        {
          "output_type": "stream",
          "text": [
            "100%|██████████| 196/196 [00:29<00:00,  6.68it/s]\n",
            "100%|██████████| 40/40 [00:03<00:00, 13.08it/s]\n",
            "  1%|          | 1/196 [00:00<00:29,  6.67it/s]"
          ],
          "name": "stderr"
        },
        {
          "output_type": "stream",
          "text": [
            "\n",
            "Epoch 35 of 100, 32.40 s, with average training loss: 0.00012172, and validation loss: 0.05316625\n",
            "Epoch 36 starting at: 21:47:36\n"
          ],
          "name": "stdout"
        },
        {
          "output_type": "stream",
          "text": [
            "100%|██████████| 196/196 [00:29<00:00,  6.72it/s]\n",
            "100%|██████████| 40/40 [00:02<00:00, 13.42it/s]\n",
            "  1%|          | 1/196 [00:00<00:29,  6.56it/s]"
          ],
          "name": "stderr"
        },
        {
          "output_type": "stream",
          "text": [
            "Epoch    36: reducing learning rate of group 0 to 1.0000e-07.\n",
            "\n",
            "Epoch 36 of 100, 32.15 s, with average training loss: 0.00011848, and validation loss: 0.03929710\n",
            "Epoch 37 starting at: 21:48:08\n"
          ],
          "name": "stdout"
        },
        {
          "output_type": "stream",
          "text": [
            "100%|██████████| 196/196 [00:29<00:00,  6.68it/s]\n",
            "100%|██████████| 40/40 [00:03<00:00, 13.05it/s]\n",
            "  1%|          | 1/196 [00:00<00:29,  6.58it/s]"
          ],
          "name": "stderr"
        },
        {
          "output_type": "stream",
          "text": [
            "\n",
            "Epoch 37 of 100, 32.40 s, with average training loss: 0.00012026, and validation loss: 0.03959168\n",
            "Epoch 38 starting at: 21:48:41\n"
          ],
          "name": "stdout"
        },
        {
          "output_type": "stream",
          "text": [
            "100%|██████████| 196/196 [00:29<00:00,  6.73it/s]\n",
            "100%|██████████| 40/40 [00:03<00:00, 13.26it/s]\n",
            "  1%|          | 1/196 [00:00<00:30,  6.42it/s]"
          ],
          "name": "stderr"
        },
        {
          "output_type": "stream",
          "text": [
            "\n",
            "Epoch 38 of 100, 32.15 s, with average training loss: 0.00012107, and validation loss: 0.03889941\n",
            "Epoch 39 starting at: 21:49:13\n"
          ],
          "name": "stdout"
        },
        {
          "output_type": "stream",
          "text": [
            "100%|██████████| 196/196 [00:29<00:00,  6.72it/s]\n",
            "100%|██████████| 40/40 [00:03<00:00, 13.30it/s]\n",
            "  1%|          | 1/196 [00:00<00:28,  6.79it/s]"
          ],
          "name": "stderr"
        },
        {
          "output_type": "stream",
          "text": [
            "\n",
            "Epoch 39 of 100, 32.19 s, with average training loss: 0.00011956, and validation loss: 0.03901607\n",
            "Epoch 40 starting at: 21:49:45\n"
          ],
          "name": "stdout"
        },
        {
          "output_type": "stream",
          "text": [
            "100%|██████████| 196/196 [00:29<00:00,  6.72it/s]\n",
            "100%|██████████| 40/40 [00:03<00:00, 13.13it/s]\n",
            "  1%|          | 1/196 [00:00<00:29,  6.66it/s]"
          ],
          "name": "stderr"
        },
        {
          "output_type": "stream",
          "text": [
            "\n",
            "Epoch 40 of 100, 32.21 s, with average training loss: 0.00012299, and validation loss: 0.03924775\n",
            "Epoch 41 starting at: 21:50:17\n"
          ],
          "name": "stdout"
        },
        {
          "output_type": "stream",
          "text": [
            "100%|██████████| 196/196 [00:29<00:00,  6.73it/s]\n",
            "100%|██████████| 40/40 [00:03<00:00, 13.22it/s]\n",
            "  1%|          | 1/196 [00:00<00:30,  6.32it/s]"
          ],
          "name": "stderr"
        },
        {
          "output_type": "stream",
          "text": [
            "\n",
            "Epoch 41 of 100, 32.17 s, with average training loss: 0.00011756, and validation loss: 0.03882512\n",
            "Epoch 42 starting at: 21:50:49\n"
          ],
          "name": "stdout"
        },
        {
          "output_type": "stream",
          "text": [
            "100%|██████████| 196/196 [00:29<00:00,  6.72it/s]\n",
            "100%|██████████| 40/40 [00:03<00:00, 13.14it/s]\n",
            "  1%|          | 1/196 [00:00<00:29,  6.53it/s]"
          ],
          "name": "stderr"
        },
        {
          "output_type": "stream",
          "text": [
            "Epoch    42: reducing learning rate of group 0 to 1.0000e-08.\n",
            "\n",
            "Epoch 42 of 100, 32.23 s, with average training loss: 0.00011949, and validation loss: 0.05154741\n",
            "Epoch 43 starting at: 21:51:22\n"
          ],
          "name": "stdout"
        },
        {
          "output_type": "stream",
          "text": [
            "100%|██████████| 196/196 [00:29<00:00,  6.69it/s]\n",
            "100%|██████████| 40/40 [00:03<00:00, 13.15it/s]\n",
            "  1%|          | 1/196 [00:00<00:31,  6.28it/s]"
          ],
          "name": "stderr"
        },
        {
          "output_type": "stream",
          "text": [
            "\n",
            "Epoch 43 of 100, 32.37 s, with average training loss: 0.00012017, and validation loss: 0.03913568\n",
            "Epoch 44 starting at: 21:51:54\n"
          ],
          "name": "stdout"
        },
        {
          "output_type": "stream",
          "text": [
            "100%|██████████| 196/196 [00:29<00:00,  6.68it/s]\n",
            "100%|██████████| 40/40 [00:03<00:00, 13.23it/s]\n",
            "  1%|          | 1/196 [00:00<00:29,  6.64it/s]"
          ],
          "name": "stderr"
        },
        {
          "output_type": "stream",
          "text": [
            "\n",
            "Epoch 44 of 100, 32.38 s, with average training loss: 0.00011802, and validation loss: 0.03937886\n",
            "Epoch 45 starting at: 21:52:26\n"
          ],
          "name": "stdout"
        },
        {
          "output_type": "stream",
          "text": [
            "100%|██████████| 196/196 [00:29<00:00,  6.71it/s]\n",
            "100%|██████████| 40/40 [00:03<00:00, 13.22it/s]\n",
            "  1%|          | 1/196 [00:00<00:30,  6.35it/s]"
          ],
          "name": "stderr"
        },
        {
          "output_type": "stream",
          "text": [
            "\n",
            "Epoch 45 of 100, 32.24 s, with average training loss: 0.00011930, and validation loss: 0.03924297\n",
            "Epoch 46 starting at: 21:52:59\n"
          ],
          "name": "stdout"
        },
        {
          "output_type": "stream",
          "text": [
            "100%|██████████| 196/196 [00:29<00:00,  6.68it/s]\n",
            "100%|██████████| 40/40 [00:02<00:00, 13.35it/s]\n",
            "  1%|          | 1/196 [00:00<00:28,  6.74it/s]"
          ],
          "name": "stderr"
        },
        {
          "output_type": "stream",
          "text": [
            "\n",
            "Epoch 46 of 100, 32.34 s, with average training loss: 0.00012487, and validation loss: 0.03939442\n",
            "Epoch 47 starting at: 21:53:31\n"
          ],
          "name": "stdout"
        },
        {
          "output_type": "stream",
          "text": [
            "100%|██████████| 196/196 [00:29<00:00,  6.69it/s]\n",
            "100%|██████████| 40/40 [00:03<00:00, 13.25it/s]\n",
            "  1%|          | 1/196 [00:00<00:30,  6.37it/s]"
          ],
          "name": "stderr"
        },
        {
          "output_type": "stream",
          "text": [
            "\n",
            "Epoch 47 of 100, 32.33 s, with average training loss: 0.00012518, and validation loss: 0.03938989\n",
            "Epoch 48 starting at: 21:54:03\n"
          ],
          "name": "stdout"
        },
        {
          "output_type": "stream",
          "text": [
            "100%|██████████| 196/196 [00:29<00:00,  6.69it/s]\n",
            "100%|██████████| 40/40 [00:03<00:00, 13.31it/s]\n",
            "  1%|          | 1/196 [00:00<00:29,  6.56it/s]"
          ],
          "name": "stderr"
        },
        {
          "output_type": "stream",
          "text": [
            "\n",
            "Epoch 48 of 100, 32.32 s, with average training loss: 0.00011465, and validation loss: 0.03909762\n",
            "Epoch 49 starting at: 21:54:36\n"
          ],
          "name": "stdout"
        },
        {
          "output_type": "stream",
          "text": [
            "100%|██████████| 196/196 [00:29<00:00,  6.71it/s]\n",
            "100%|██████████| 40/40 [00:02<00:00, 13.53it/s]\n",
            "  1%|          | 1/196 [00:00<00:29,  6.69it/s]"
          ],
          "name": "stderr"
        },
        {
          "output_type": "stream",
          "text": [
            "\n",
            "Epoch 49 of 100, 32.18 s, with average training loss: 0.00011779, and validation loss: 0.03929646\n",
            "Epoch 50 starting at: 21:55:08\n"
          ],
          "name": "stdout"
        },
        {
          "output_type": "stream",
          "text": [
            "100%|██████████| 196/196 [00:29<00:00,  6.72it/s]\n",
            "100%|██████████| 40/40 [00:03<00:00, 13.21it/s]\n",
            "  1%|          | 1/196 [00:00<00:29,  6.58it/s]"
          ],
          "name": "stderr"
        },
        {
          "output_type": "stream",
          "text": [
            "\n",
            "Epoch 50 of 100, 32.22 s, with average training loss: 0.00011890, and validation loss: 0.03932867\n",
            "Epoch 51 starting at: 21:55:40\n"
          ],
          "name": "stdout"
        },
        {
          "output_type": "stream",
          "text": [
            "100%|██████████| 196/196 [00:29<00:00,  6.68it/s]\n",
            "100%|██████████| 40/40 [00:02<00:00, 13.39it/s]\n",
            "  1%|          | 1/196 [00:00<00:28,  6.74it/s]"
          ],
          "name": "stderr"
        },
        {
          "output_type": "stream",
          "text": [
            "\n",
            "Epoch 51 of 100, 32.31 s, with average training loss: 0.00011944, and validation loss: 0.03920363\n",
            "Epoch 52 starting at: 21:56:12\n"
          ],
          "name": "stdout"
        },
        {
          "output_type": "stream",
          "text": [
            "100%|██████████| 196/196 [00:29<00:00,  6.70it/s]\n",
            "100%|██████████| 40/40 [00:02<00:00, 13.34it/s]\n",
            "  1%|          | 1/196 [00:00<00:30,  6.49it/s]"
          ],
          "name": "stderr"
        },
        {
          "output_type": "stream",
          "text": [
            "\n",
            "Epoch 52 of 100, 32.27 s, with average training loss: 0.00012013, and validation loss: 0.03955442\n",
            "Epoch 53 starting at: 21:56:45\n"
          ],
          "name": "stdout"
        },
        {
          "output_type": "stream",
          "text": [
            "100%|██████████| 196/196 [00:29<00:00,  6.69it/s]\n",
            "100%|██████████| 40/40 [00:03<00:00, 13.18it/s]\n",
            "  1%|          | 1/196 [00:00<00:29,  6.66it/s]"
          ],
          "name": "stderr"
        },
        {
          "output_type": "stream",
          "text": [
            "\n",
            "Epoch 53 of 100, 32.33 s, with average training loss: 0.00011959, and validation loss: 0.03891070\n",
            "Epoch 54 starting at: 21:57:17\n"
          ],
          "name": "stdout"
        },
        {
          "output_type": "stream",
          "text": [
            "100%|██████████| 196/196 [00:29<00:00,  6.73it/s]\n",
            "100%|██████████| 40/40 [00:03<00:00, 13.33it/s]\n",
            "  1%|          | 1/196 [00:00<00:29,  6.67it/s]"
          ],
          "name": "stderr"
        },
        {
          "output_type": "stream",
          "text": [
            "\n",
            "Epoch 54 of 100, 32.15 s, with average training loss: 0.00011968, and validation loss: 0.03916012\n",
            "Epoch 55 starting at: 21:57:49\n"
          ],
          "name": "stdout"
        },
        {
          "output_type": "stream",
          "text": [
            "100%|██████████| 196/196 [00:29<00:00,  6.70it/s]\n",
            "100%|██████████| 40/40 [00:02<00:00, 13.38it/s]\n",
            "  1%|          | 1/196 [00:00<00:31,  6.26it/s]"
          ],
          "name": "stderr"
        },
        {
          "output_type": "stream",
          "text": [
            "\n",
            "Epoch 55 of 100, 32.28 s, with average training loss: 0.00011598, and validation loss: 0.03940901\n",
            "Epoch 56 starting at: 21:58:21\n"
          ],
          "name": "stdout"
        },
        {
          "output_type": "stream",
          "text": [
            "100%|██████████| 196/196 [00:29<00:00,  6.71it/s]\n",
            "100%|██████████| 40/40 [00:02<00:00, 13.42it/s]\n",
            "  1%|          | 1/196 [00:00<00:29,  6.60it/s]"
          ],
          "name": "stderr"
        },
        {
          "output_type": "stream",
          "text": [
            "\n",
            "Epoch 56 of 100, 32.19 s, with average training loss: 0.00011961, and validation loss: 0.03909973\n",
            "Epoch 57 starting at: 21:58:54\n"
          ],
          "name": "stdout"
        },
        {
          "output_type": "stream",
          "text": [
            "100%|██████████| 196/196 [00:29<00:00,  6.71it/s]\n",
            "100%|██████████| 40/40 [00:03<00:00, 13.26it/s]\n",
            "  1%|          | 1/196 [00:00<00:29,  6.50it/s]"
          ],
          "name": "stderr"
        },
        {
          "output_type": "stream",
          "text": [
            "\n",
            "Epoch 57 of 100, 32.21 s, with average training loss: 0.00011982, and validation loss: 0.03910000\n",
            "Epoch 58 starting at: 21:59:26\n"
          ],
          "name": "stdout"
        },
        {
          "output_type": "stream",
          "text": [
            "100%|██████████| 196/196 [00:29<00:00,  6.69it/s]\n",
            "100%|██████████| 40/40 [00:02<00:00, 13.42it/s]\n",
            "  1%|          | 1/196 [00:00<00:29,  6.61it/s]"
          ],
          "name": "stderr"
        },
        {
          "output_type": "stream",
          "text": [
            "\n",
            "Epoch 58 of 100, 32.31 s, with average training loss: 0.00012081, and validation loss: 0.03915985\n",
            "Epoch 59 starting at: 21:59:58\n"
          ],
          "name": "stdout"
        },
        {
          "output_type": "stream",
          "text": [
            "100%|██████████| 196/196 [00:29<00:00,  6.72it/s]\n",
            "100%|██████████| 40/40 [00:02<00:00, 13.44it/s]\n",
            "  1%|          | 1/196 [00:00<00:28,  6.77it/s]"
          ],
          "name": "stderr"
        },
        {
          "output_type": "stream",
          "text": [
            "\n",
            "Epoch 59 of 100, 32.13 s, with average training loss: 0.00011753, and validation loss: 0.03918994\n",
            "Epoch 60 starting at: 22:00:30\n"
          ],
          "name": "stdout"
        },
        {
          "output_type": "stream",
          "text": [
            "100%|██████████| 196/196 [00:29<00:00,  6.69it/s]\n",
            "100%|██████████| 40/40 [00:03<00:00, 13.23it/s]\n",
            "  1%|          | 1/196 [00:00<00:30,  6.48it/s]"
          ],
          "name": "stderr"
        },
        {
          "output_type": "stream",
          "text": [
            "\n",
            "Epoch 60 of 100, 32.34 s, with average training loss: 0.00012136, and validation loss: 0.03922748\n",
            "Epoch 61 starting at: 22:01:03\n"
          ],
          "name": "stdout"
        },
        {
          "output_type": "stream",
          "text": [
            "100%|██████████| 196/196 [00:29<00:00,  6.71it/s]\n",
            "100%|██████████| 40/40 [00:03<00:00, 13.33it/s]\n",
            "  1%|          | 1/196 [00:00<00:30,  6.49it/s]"
          ],
          "name": "stderr"
        },
        {
          "output_type": "stream",
          "text": [
            "\n",
            "Epoch 61 of 100, 32.22 s, with average training loss: 0.00011835, and validation loss: 0.03916524\n",
            "Epoch 62 starting at: 22:01:35\n"
          ],
          "name": "stdout"
        },
        {
          "output_type": "stream",
          "text": [
            "100%|██████████| 196/196 [00:29<00:00,  6.69it/s]\n",
            "100%|██████████| 40/40 [00:03<00:00, 13.33it/s]\n",
            "  1%|          | 1/196 [00:00<00:30,  6.36it/s]"
          ],
          "name": "stderr"
        },
        {
          "output_type": "stream",
          "text": [
            "\n",
            "Epoch 62 of 100, 32.33 s, with average training loss: 0.00012255, and validation loss: 0.03883445\n",
            "Epoch 63 starting at: 22:02:07\n"
          ],
          "name": "stdout"
        },
        {
          "output_type": "stream",
          "text": [
            "100%|██████████| 196/196 [00:29<00:00,  6.70it/s]\n",
            "100%|██████████| 40/40 [00:02<00:00, 13.36it/s]\n",
            "  1%|          | 1/196 [00:00<00:30,  6.44it/s]"
          ],
          "name": "stderr"
        },
        {
          "output_type": "stream",
          "text": [
            "\n",
            "Epoch 63 of 100, 32.25 s, with average training loss: 0.00011538, and validation loss: 0.03922339\n",
            "Epoch 64 starting at: 22:02:39\n"
          ],
          "name": "stdout"
        },
        {
          "output_type": "stream",
          "text": [
            "100%|██████████| 196/196 [00:29<00:00,  6.73it/s]\n",
            "100%|██████████| 40/40 [00:03<00:00, 13.06it/s]\n",
            "  1%|          | 1/196 [00:00<00:30,  6.45it/s]"
          ],
          "name": "stderr"
        },
        {
          "output_type": "stream",
          "text": [
            "\n",
            "Epoch 64 of 100, 32.18 s, with average training loss: 0.00011430, and validation loss: 0.03897138\n",
            "Epoch 65 starting at: 22:03:12\n"
          ],
          "name": "stdout"
        },
        {
          "output_type": "stream",
          "text": [
            "100%|██████████| 196/196 [00:29<00:00,  6.70it/s]\n",
            "100%|██████████| 40/40 [00:02<00:00, 13.49it/s]\n",
            "  1%|          | 1/196 [00:00<00:29,  6.66it/s]"
          ],
          "name": "stderr"
        },
        {
          "output_type": "stream",
          "text": [
            "\n",
            "Epoch 65 of 100, 32.23 s, with average training loss: 0.00011775, and validation loss: 0.03945220\n",
            "Epoch 66 starting at: 22:03:44\n"
          ],
          "name": "stdout"
        },
        {
          "output_type": "stream",
          "text": [
            "100%|██████████| 196/196 [00:29<00:00,  6.74it/s]\n",
            "100%|██████████| 40/40 [00:02<00:00, 13.53it/s]\n",
            "  1%|          | 1/196 [00:00<00:28,  6.73it/s]"
          ],
          "name": "stderr"
        },
        {
          "output_type": "stream",
          "text": [
            "\n",
            "Epoch 66 of 100, 32.03 s, with average training loss: 0.00011681, and validation loss: 0.03915889\n",
            "Epoch 67 starting at: 22:04:16\n"
          ],
          "name": "stdout"
        },
        {
          "output_type": "stream",
          "text": [
            "100%|██████████| 196/196 [00:29<00:00,  6.74it/s]\n",
            "100%|██████████| 40/40 [00:03<00:00, 13.22it/s]\n",
            "  1%|          | 1/196 [00:00<00:30,  6.39it/s]"
          ],
          "name": "stderr"
        },
        {
          "output_type": "stream",
          "text": [
            "\n",
            "Epoch 67 of 100, 32.11 s, with average training loss: 0.00012110, and validation loss: 0.04197348\n",
            "Epoch 68 starting at: 22:04:48\n"
          ],
          "name": "stdout"
        },
        {
          "output_type": "stream",
          "text": [
            "100%|██████████| 196/196 [00:29<00:00,  6.74it/s]\n",
            "100%|██████████| 40/40 [00:02<00:00, 13.37it/s]\n",
            "  1%|          | 1/196 [00:00<00:29,  6.69it/s]"
          ],
          "name": "stderr"
        },
        {
          "output_type": "stream",
          "text": [
            "\n",
            "Epoch 68 of 100, 32.10 s, with average training loss: 0.00011834, and validation loss: 0.03914125\n",
            "Epoch 69 starting at: 22:05:20\n"
          ],
          "name": "stdout"
        },
        {
          "output_type": "stream",
          "text": [
            "100%|██████████| 196/196 [00:29<00:00,  6.74it/s]\n",
            "100%|██████████| 40/40 [00:02<00:00, 13.42it/s]\n",
            "  1%|          | 1/196 [00:00<00:29,  6.70it/s]"
          ],
          "name": "stderr"
        },
        {
          "output_type": "stream",
          "text": [
            "\n",
            "Epoch 69 of 100, 32.08 s, with average training loss: 0.00011672, and validation loss: 0.04024212\n",
            "Epoch 70 starting at: 22:05:52\n"
          ],
          "name": "stdout"
        },
        {
          "output_type": "stream",
          "text": [
            "100%|██████████| 196/196 [00:29<00:00,  6.73it/s]\n",
            "100%|██████████| 40/40 [00:02<00:00, 13.53it/s]\n",
            "  1%|          | 1/196 [00:00<00:29,  6.59it/s]"
          ],
          "name": "stderr"
        },
        {
          "output_type": "stream",
          "text": [
            "\n",
            "Epoch 70 of 100, 32.07 s, with average training loss: 0.00012091, and validation loss: 0.03921378\n",
            "Epoch 71 starting at: 22:06:24\n"
          ],
          "name": "stdout"
        },
        {
          "output_type": "stream",
          "text": [
            "100%|██████████| 196/196 [00:29<00:00,  6.73it/s]\n",
            "100%|██████████| 40/40 [00:03<00:00, 13.32it/s]\n",
            "  1%|          | 1/196 [00:00<00:30,  6.37it/s]"
          ],
          "name": "stderr"
        },
        {
          "output_type": "stream",
          "text": [
            "\n",
            "Epoch 71 of 100, 32.12 s, with average training loss: 0.00012138, and validation loss: 0.03975287\n",
            "Epoch 72 starting at: 22:06:56\n"
          ],
          "name": "stdout"
        },
        {
          "output_type": "stream",
          "text": [
            "100%|██████████| 196/196 [00:29<00:00,  6.73it/s]\n",
            "100%|██████████| 40/40 [00:03<00:00, 13.28it/s]\n",
            "  1%|          | 1/196 [00:00<00:28,  6.76it/s]"
          ],
          "name": "stderr"
        },
        {
          "output_type": "stream",
          "text": [
            "\n",
            "Epoch 72 of 100, 32.13 s, with average training loss: 0.00011761, and validation loss: 0.03886892\n",
            "Epoch 73 starting at: 22:07:28\n"
          ],
          "name": "stdout"
        },
        {
          "output_type": "stream",
          "text": [
            "100%|██████████| 196/196 [00:28<00:00,  6.77it/s]\n",
            "100%|██████████| 40/40 [00:03<00:00, 13.07it/s]\n",
            "  1%|          | 1/196 [00:00<00:29,  6.69it/s]"
          ],
          "name": "stderr"
        },
        {
          "output_type": "stream",
          "text": [
            "\n",
            "Epoch 73 of 100, 32.04 s, with average training loss: 0.00012208, and validation loss: 0.03913686\n",
            "Epoch 74 starting at: 22:08:00\n"
          ],
          "name": "stdout"
        },
        {
          "output_type": "stream",
          "text": [
            "100%|██████████| 196/196 [00:29<00:00,  6.74it/s]\n",
            "100%|██████████| 40/40 [00:03<00:00, 13.27it/s]\n",
            "  1%|          | 1/196 [00:00<00:29,  6.66it/s]"
          ],
          "name": "stderr"
        },
        {
          "output_type": "stream",
          "text": [
            "\n",
            "Epoch 74 of 100, 32.09 s, with average training loss: 0.00012445, and validation loss: 0.04072654\n",
            "Epoch 75 starting at: 22:08:33\n"
          ],
          "name": "stdout"
        },
        {
          "output_type": "stream",
          "text": [
            "100%|██████████| 196/196 [00:29<00:00,  6.74it/s]\n",
            "100%|██████████| 40/40 [00:03<00:00, 13.19it/s]\n",
            "  1%|          | 1/196 [00:00<00:29,  6.59it/s]"
          ],
          "name": "stderr"
        },
        {
          "output_type": "stream",
          "text": [
            "\n",
            "Epoch 75 of 100, 32.14 s, with average training loss: 0.00012500, and validation loss: 0.03913579\n",
            "Epoch 76 starting at: 22:09:05\n"
          ],
          "name": "stdout"
        },
        {
          "output_type": "stream",
          "text": [
            "100%|██████████| 196/196 [00:28<00:00,  6.76it/s]\n",
            "100%|██████████| 40/40 [00:02<00:00, 13.45it/s]\n",
            "  1%|          | 1/196 [00:00<00:28,  6.77it/s]"
          ],
          "name": "stderr"
        },
        {
          "output_type": "stream",
          "text": [
            "\n",
            "Epoch 76 of 100, 31.98 s, with average training loss: 0.00011596, and validation loss: 0.04264765\n",
            "Epoch 77 starting at: 22:09:37\n"
          ],
          "name": "stdout"
        },
        {
          "output_type": "stream",
          "text": [
            "100%|██████████| 196/196 [00:29<00:00,  6.73it/s]\n",
            "100%|██████████| 40/40 [00:02<00:00, 13.38it/s]\n",
            "  1%|          | 1/196 [00:00<00:29,  6.63it/s]"
          ],
          "name": "stderr"
        },
        {
          "output_type": "stream",
          "text": [
            "\n",
            "Epoch 77 of 100, 32.13 s, with average training loss: 0.00011907, and validation loss: 0.03898879\n",
            "Epoch 78 starting at: 22:10:09\n"
          ],
          "name": "stdout"
        },
        {
          "output_type": "stream",
          "text": [
            "100%|██████████| 196/196 [00:29<00:00,  6.76it/s]\n",
            "100%|██████████| 40/40 [00:03<00:00, 13.24it/s]\n",
            "  1%|          | 1/196 [00:00<00:28,  6.73it/s]"
          ],
          "name": "stderr"
        },
        {
          "output_type": "stream",
          "text": [
            "\n",
            "Epoch 78 of 100, 32.03 s, with average training loss: 0.00011920, and validation loss: 0.03926551\n",
            "Epoch 79 starting at: 22:10:41\n"
          ],
          "name": "stdout"
        },
        {
          "output_type": "stream",
          "text": [
            "100%|██████████| 196/196 [00:29<00:00,  6.72it/s]\n",
            "100%|██████████| 40/40 [00:02<00:00, 13.40it/s]\n",
            "  1%|          | 1/196 [00:00<00:28,  6.79it/s]"
          ],
          "name": "stderr"
        },
        {
          "output_type": "stream",
          "text": [
            "\n",
            "Epoch 79 of 100, 32.14 s, with average training loss: 0.00011666, and validation loss: 0.03904295\n",
            "Epoch 80 starting at: 22:11:13\n"
          ],
          "name": "stdout"
        },
        {
          "output_type": "stream",
          "text": [
            "100%|██████████| 196/196 [00:29<00:00,  6.71it/s]\n",
            "100%|██████████| 40/40 [00:02<00:00, 13.37it/s]\n",
            "  1%|          | 1/196 [00:00<00:30,  6.48it/s]"
          ],
          "name": "stderr"
        },
        {
          "output_type": "stream",
          "text": [
            "\n",
            "Epoch 80 of 100, 32.22 s, with average training loss: 0.00012010, and validation loss: 0.04388981\n",
            "Epoch 81 starting at: 22:11:45\n"
          ],
          "name": "stdout"
        },
        {
          "output_type": "stream",
          "text": [
            "100%|██████████| 196/196 [00:29<00:00,  6.72it/s]\n",
            "100%|██████████| 40/40 [00:03<00:00, 13.28it/s]\n",
            "  1%|          | 1/196 [00:00<00:29,  6.52it/s]"
          ],
          "name": "stderr"
        },
        {
          "output_type": "stream",
          "text": [
            "\n",
            "Epoch 81 of 100, 32.21 s, with average training loss: 0.00011905, and validation loss: 0.03903811\n",
            "Epoch 82 starting at: 22:12:17\n"
          ],
          "name": "stdout"
        },
        {
          "output_type": "stream",
          "text": [
            "100%|██████████| 196/196 [00:29<00:00,  6.74it/s]\n",
            "100%|██████████| 40/40 [00:02<00:00, 13.36it/s]\n",
            "  1%|          | 1/196 [00:00<00:30,  6.34it/s]"
          ],
          "name": "stderr"
        },
        {
          "output_type": "stream",
          "text": [
            "\n",
            "Epoch 82 of 100, 32.10 s, with average training loss: 0.00012689, and validation loss: 0.03908669\n",
            "Epoch 83 starting at: 22:12:49\n"
          ],
          "name": "stdout"
        },
        {
          "output_type": "stream",
          "text": [
            "100%|██████████| 196/196 [00:29<00:00,  6.71it/s]\n",
            "100%|██████████| 40/40 [00:02<00:00, 13.46it/s]\n",
            "  1%|          | 1/196 [00:00<00:29,  6.56it/s]"
          ],
          "name": "stderr"
        },
        {
          "output_type": "stream",
          "text": [
            "\n",
            "Epoch 83 of 100, 32.17 s, with average training loss: 0.00011412, and validation loss: 0.03912669\n",
            "Epoch 84 starting at: 22:13:22\n"
          ],
          "name": "stdout"
        },
        {
          "output_type": "stream",
          "text": [
            "100%|██████████| 196/196 [00:29<00:00,  6.73it/s]\n",
            "100%|██████████| 40/40 [00:02<00:00, 13.43it/s]\n",
            "  1%|          | 1/196 [00:00<00:29,  6.61it/s]"
          ],
          "name": "stderr"
        },
        {
          "output_type": "stream",
          "text": [
            "\n",
            "Epoch 84 of 100, 32.12 s, with average training loss: 0.00011566, and validation loss: 0.03908608\n",
            "Epoch 85 starting at: 22:13:54\n"
          ],
          "name": "stdout"
        },
        {
          "output_type": "stream",
          "text": [
            "100%|██████████| 196/196 [00:29<00:00,  6.73it/s]\n",
            "100%|██████████| 40/40 [00:02<00:00, 13.50it/s]\n",
            "  1%|          | 1/196 [00:00<00:30,  6.48it/s]"
          ],
          "name": "stderr"
        },
        {
          "output_type": "stream",
          "text": [
            "\n",
            "Epoch 85 of 100, 32.10 s, with average training loss: 0.00012029, and validation loss: 0.03891787\n",
            "Epoch 86 starting at: 22:14:26\n"
          ],
          "name": "stdout"
        },
        {
          "output_type": "stream",
          "text": [
            "100%|██████████| 196/196 [00:29<00:00,  6.70it/s]\n",
            "100%|██████████| 40/40 [00:02<00:00, 13.34it/s]\n",
            "  1%|          | 1/196 [00:00<00:29,  6.52it/s]"
          ],
          "name": "stderr"
        },
        {
          "output_type": "stream",
          "text": [
            "\n",
            "Epoch 86 of 100, 32.27 s, with average training loss: 0.00012004, and validation loss: 0.03929740\n",
            "Epoch 87 starting at: 22:14:58\n"
          ],
          "name": "stdout"
        },
        {
          "output_type": "stream",
          "text": [
            "100%|██████████| 196/196 [00:29<00:00,  6.74it/s]\n",
            "100%|██████████| 40/40 [00:02<00:00, 13.38it/s]\n",
            "  1%|          | 1/196 [00:00<00:29,  6.55it/s]"
          ],
          "name": "stderr"
        },
        {
          "output_type": "stream",
          "text": [
            "\n",
            "Epoch 87 of 100, 32.08 s, with average training loss: 0.00011997, and validation loss: 0.03899862\n",
            "Epoch 88 starting at: 22:15:30\n"
          ],
          "name": "stdout"
        },
        {
          "output_type": "stream",
          "text": [
            "100%|██████████| 196/196 [00:29<00:00,  6.71it/s]\n",
            "100%|██████████| 40/40 [00:02<00:00, 13.51it/s]\n",
            "  1%|          | 1/196 [00:00<00:28,  6.77it/s]"
          ],
          "name": "stderr"
        },
        {
          "output_type": "stream",
          "text": [
            "\n",
            "Epoch 88 of 100, 32.16 s, with average training loss: 0.00011882, and validation loss: 0.03934810\n",
            "Epoch 89 starting at: 22:16:02\n"
          ],
          "name": "stdout"
        },
        {
          "output_type": "stream",
          "text": [
            "100%|██████████| 196/196 [00:29<00:00,  6.74it/s]\n",
            "100%|██████████| 40/40 [00:02<00:00, 13.42it/s]\n",
            "  1%|          | 1/196 [00:00<00:29,  6.63it/s]"
          ],
          "name": "stderr"
        },
        {
          "output_type": "stream",
          "text": [
            "\n",
            "Epoch 89 of 100, 32.08 s, with average training loss: 0.00012268, and validation loss: 0.03920135\n",
            "Epoch 90 starting at: 22:16:34\n"
          ],
          "name": "stdout"
        },
        {
          "output_type": "stream",
          "text": [
            "100%|██████████| 196/196 [00:29<00:00,  6.71it/s]\n",
            "100%|██████████| 40/40 [00:02<00:00, 13.45it/s]\n",
            "  1%|          | 1/196 [00:00<00:30,  6.47it/s]"
          ],
          "name": "stderr"
        },
        {
          "output_type": "stream",
          "text": [
            "\n",
            "Epoch 90 of 100, 32.19 s, with average training loss: 0.00011577, and validation loss: 0.04266555\n",
            "Epoch 91 starting at: 22:17:07\n"
          ],
          "name": "stdout"
        },
        {
          "output_type": "stream",
          "text": [
            "100%|██████████| 196/196 [00:29<00:00,  6.70it/s]\n",
            "100%|██████████| 40/40 [00:02<00:00, 13.38it/s]\n",
            "  1%|          | 1/196 [00:00<00:30,  6.36it/s]"
          ],
          "name": "stderr"
        },
        {
          "output_type": "stream",
          "text": [
            "\n",
            "Epoch 91 of 100, 32.25 s, with average training loss: 0.00013185, and validation loss: 0.03901622\n",
            "Epoch 92 starting at: 22:17:39\n"
          ],
          "name": "stdout"
        },
        {
          "output_type": "stream",
          "text": [
            "100%|██████████| 196/196 [00:29<00:00,  6.72it/s]\n",
            "100%|██████████| 40/40 [00:03<00:00, 13.09it/s]\n",
            "  1%|          | 1/196 [00:00<00:30,  6.43it/s]"
          ],
          "name": "stderr"
        },
        {
          "output_type": "stream",
          "text": [
            "\n",
            "Epoch 92 of 100, 32.22 s, with average training loss: 0.00012020, and validation loss: 0.03947325\n",
            "Epoch 93 starting at: 22:18:11\n"
          ],
          "name": "stdout"
        },
        {
          "output_type": "stream",
          "text": [
            "100%|██████████| 196/196 [00:29<00:00,  6.71it/s]\n",
            "100%|██████████| 40/40 [00:02<00:00, 13.36it/s]\n",
            "  1%|          | 1/196 [00:00<00:29,  6.62it/s]"
          ],
          "name": "stderr"
        },
        {
          "output_type": "stream",
          "text": [
            "\n",
            "Epoch 93 of 100, 32.22 s, with average training loss: 0.00011634, and validation loss: 0.04014679\n",
            "Epoch 94 starting at: 22:18:43\n"
          ],
          "name": "stdout"
        },
        {
          "output_type": "stream",
          "text": [
            "100%|██████████| 196/196 [00:29<00:00,  6.74it/s]\n",
            "100%|██████████| 40/40 [00:02<00:00, 13.56it/s]\n",
            "  1%|          | 1/196 [00:00<00:29,  6.58it/s]"
          ],
          "name": "stderr"
        },
        {
          "output_type": "stream",
          "text": [
            "\n",
            "Epoch 94 of 100, 32.06 s, with average training loss: 0.00011969, and validation loss: 0.04353832\n",
            "Epoch 95 starting at: 22:19:15\n"
          ],
          "name": "stdout"
        },
        {
          "output_type": "stream",
          "text": [
            "100%|██████████| 196/196 [00:29<00:00,  6.72it/s]\n",
            "100%|██████████| 40/40 [00:02<00:00, 13.41it/s]\n",
            "  1%|          | 1/196 [00:00<00:29,  6.67it/s]"
          ],
          "name": "stderr"
        },
        {
          "output_type": "stream",
          "text": [
            "\n",
            "Epoch 95 of 100, 32.16 s, with average training loss: 0.00012011, and validation loss: 0.03945732\n",
            "Epoch 96 starting at: 22:19:48\n"
          ],
          "name": "stdout"
        },
        {
          "output_type": "stream",
          "text": [
            "100%|██████████| 196/196 [00:29<00:00,  6.73it/s]\n",
            "100%|██████████| 40/40 [00:02<00:00, 13.39it/s]\n",
            "  1%|          | 1/196 [00:00<00:29,  6.67it/s]"
          ],
          "name": "stderr"
        },
        {
          "output_type": "stream",
          "text": [
            "\n",
            "Epoch 96 of 100, 32.13 s, with average training loss: 0.00012101, and validation loss: 0.03962689\n",
            "Epoch 97 starting at: 22:20:20\n"
          ],
          "name": "stdout"
        },
        {
          "output_type": "stream",
          "text": [
            "100%|██████████| 196/196 [00:29<00:00,  6.72it/s]\n",
            "100%|██████████| 40/40 [00:02<00:00, 13.38it/s]\n",
            "  1%|          | 1/196 [00:00<00:29,  6.67it/s]"
          ],
          "name": "stderr"
        },
        {
          "output_type": "stream",
          "text": [
            "\n",
            "Epoch 97 of 100, 32.16 s, with average training loss: 0.00012099, and validation loss: 0.03958922\n",
            "Epoch 98 starting at: 22:20:52\n"
          ],
          "name": "stdout"
        },
        {
          "output_type": "stream",
          "text": [
            "100%|██████████| 196/196 [00:29<00:00,  6.71it/s]\n",
            "100%|██████████| 40/40 [00:02<00:00, 13.54it/s]\n",
            "  1%|          | 1/196 [00:00<00:29,  6.72it/s]"
          ],
          "name": "stderr"
        },
        {
          "output_type": "stream",
          "text": [
            "\n",
            "Epoch 98 of 100, 32.15 s, with average training loss: 0.00012463, and validation loss: 0.04218569\n",
            "Epoch 99 starting at: 22:21:24\n"
          ],
          "name": "stdout"
        },
        {
          "output_type": "stream",
          "text": [
            "100%|██████████| 196/196 [00:29<00:00,  6.72it/s]\n",
            "100%|██████████| 40/40 [00:02<00:00, 13.44it/s]\n",
            "  1%|          | 1/196 [00:00<00:29,  6.56it/s]"
          ],
          "name": "stderr"
        },
        {
          "output_type": "stream",
          "text": [
            "\n",
            "Epoch 99 of 100, 32.16 s, with average training loss: 0.00012320, and validation loss: 0.04141310\n",
            "Epoch 100 starting at: 22:21:56\n"
          ],
          "name": "stdout"
        },
        {
          "output_type": "stream",
          "text": [
            "100%|██████████| 196/196 [00:29<00:00,  6.72it/s]\n",
            "100%|██████████| 40/40 [00:02<00:00, 13.35it/s]\n"
          ],
          "name": "stderr"
        },
        {
          "output_type": "stream",
          "text": [
            "\n",
            "Epoch 100 of 100, 32.19 s, with average training loss: 0.00012513, and validation loss: 0.03945253\n",
            "Finished Training  09/05/2021 22:22:28\n",
            "Avg per epoch ptime: 32.26, total 100 epochs ptime: 3226.18\n"
          ],
          "name": "stdout"
        }
      ]
    },
    {
      "cell_type": "markdown",
      "metadata": {
        "id": "cojXXT6OCmSO"
      },
      "source": [
        "### GoogLeNet Training"
      ]
    },
    {
      "cell_type": "code",
      "metadata": {
        "colab": {
          "base_uri": "https://localhost:8080/"
        },
        "id": "HmGVlSF2hny9",
        "outputId": "f63caac3-5021-4102-b5b3-ee13f7bb9a93"
      },
      "source": [
        "# Load and train GoogLeNet\n",
        "net, optimizer, scheduler = LoadGLNet(device)\n",
        "TrainGLNet(net, optimizer, scheduler, criterion, epochs, train_loader)\n",
        "torch.save(net.state_dict(), model_dir + '/GoogLeNet_model.pth')\n",
        "del net\n",
        "del optimizer\n",
        "del scheduler"
      ],
      "execution_count": 14,
      "outputs": [
        {
          "output_type": "stream",
          "text": [
            "Using cache found in /root/.cache/torch/hub/pytorch_vision_v0.9.0\n",
            "/usr/local/lib/python3.7/dist-packages/torchvision/models/googlenet.py:79: FutureWarning: The default weight initialization of GoogleNet will be changed in future releases of torchvision. If you wish to keep the old behavior (which leads to long initialization times due to scipy/scipy#11299), please set init_weights=True.\n",
            "  ' due to scipy/scipy#11299), please set init_weights=True.', FutureWarning)\n",
            "  1%|          | 1/196 [00:00<00:28,  6.88it/s]"
          ],
          "name": "stderr"
        },
        {
          "output_type": "stream",
          "text": [
            "Adjusting learning rate of group 0 to 1.0000e-02.\n",
            "\n",
            "Training GoogLeNet\n",
            "Training starting  09/05/2021 22:36:15\n",
            "Epoch 1 starting at: 22:36:15\n"
          ],
          "name": "stdout"
        },
        {
          "output_type": "stream",
          "text": [
            "100%|██████████| 196/196 [00:25<00:00,  7.59it/s]\n",
            "  1%|          | 1/196 [00:00<00:25,  7.51it/s]"
          ],
          "name": "stderr"
        },
        {
          "output_type": "stream",
          "text": [
            "Adjusting learning rate of group 0 to 1.0000e-02.\n",
            "\n",
            "Epoch 1 of 100, 25.84 s, with average training loss: 0.40671538\n",
            "Epoch 2 starting at: 22:36:41\n"
          ],
          "name": "stdout"
        },
        {
          "output_type": "stream",
          "text": [
            "100%|██████████| 196/196 [00:25<00:00,  7.62it/s]\n",
            "  1%|          | 1/196 [00:00<00:25,  7.58it/s]"
          ],
          "name": "stderr"
        },
        {
          "output_type": "stream",
          "text": [
            "Adjusting learning rate of group 0 to 1.0000e-02.\n",
            "\n",
            "Epoch 2 of 100, 25.73 s, with average training loss: 0.05145305\n",
            "Epoch 3 starting at: 22:37:07\n"
          ],
          "name": "stdout"
        },
        {
          "output_type": "stream",
          "text": [
            "100%|██████████| 196/196 [00:25<00:00,  7.59it/s]\n",
            "  1%|          | 1/196 [00:00<00:25,  7.58it/s]"
          ],
          "name": "stderr"
        },
        {
          "output_type": "stream",
          "text": [
            "Adjusting learning rate of group 0 to 1.0000e-02.\n",
            "\n",
            "Epoch 3 of 100, 25.84 s, with average training loss: 0.03182571\n",
            "Epoch 4 starting at: 22:37:32\n"
          ],
          "name": "stdout"
        },
        {
          "output_type": "stream",
          "text": [
            "100%|██████████| 196/196 [00:25<00:00,  7.60it/s]\n",
            "  1%|          | 1/196 [00:00<00:26,  7.41it/s]"
          ],
          "name": "stderr"
        },
        {
          "output_type": "stream",
          "text": [
            "Adjusting learning rate of group 0 to 1.0000e-02.\n",
            "\n",
            "Epoch 4 of 100, 25.78 s, with average training loss: 0.02259465\n",
            "Epoch 5 starting at: 22:37:58\n"
          ],
          "name": "stdout"
        },
        {
          "output_type": "stream",
          "text": [
            "100%|██████████| 196/196 [00:25<00:00,  7.61it/s]\n",
            "  1%|          | 1/196 [00:00<00:25,  7.63it/s]"
          ],
          "name": "stderr"
        },
        {
          "output_type": "stream",
          "text": [
            "Adjusting learning rate of group 0 to 1.0000e-02.\n",
            "\n",
            "Epoch 5 of 100, 25.77 s, with average training loss: 0.01978923\n",
            "Epoch 6 starting at: 22:38:24\n"
          ],
          "name": "stdout"
        },
        {
          "output_type": "stream",
          "text": [
            "100%|██████████| 196/196 [00:25<00:00,  7.60it/s]\n",
            "  1%|          | 1/196 [00:00<00:26,  7.48it/s]"
          ],
          "name": "stderr"
        },
        {
          "output_type": "stream",
          "text": [
            "Adjusting learning rate of group 0 to 1.0000e-02.\n",
            "\n",
            "Epoch 6 of 100, 25.80 s, with average training loss: 0.01591095\n",
            "Epoch 7 starting at: 22:38:50\n"
          ],
          "name": "stdout"
        },
        {
          "output_type": "stream",
          "text": [
            "100%|██████████| 196/196 [00:25<00:00,  7.63it/s]\n",
            "  1%|          | 1/196 [00:00<00:27,  7.07it/s]"
          ],
          "name": "stderr"
        },
        {
          "output_type": "stream",
          "text": [
            "Adjusting learning rate of group 0 to 1.0000e-02.\n",
            "\n",
            "Epoch 7 of 100, 25.69 s, with average training loss: 0.01242963\n",
            "Epoch 8 starting at: 22:39:15\n"
          ],
          "name": "stdout"
        },
        {
          "output_type": "stream",
          "text": [
            "100%|██████████| 196/196 [00:25<00:00,  7.62it/s]\n",
            "  1%|          | 1/196 [00:00<00:26,  7.41it/s]"
          ],
          "name": "stderr"
        },
        {
          "output_type": "stream",
          "text": [
            "Adjusting learning rate of group 0 to 9.6000e-03.\n",
            "\n",
            "Epoch 8 of 100, 25.74 s, with average training loss: 0.00943430\n",
            "Epoch 9 starting at: 22:39:41\n"
          ],
          "name": "stdout"
        },
        {
          "output_type": "stream",
          "text": [
            "100%|██████████| 196/196 [00:25<00:00,  7.58it/s]\n",
            "  1%|          | 1/196 [00:00<00:26,  7.23it/s]"
          ],
          "name": "stderr"
        },
        {
          "output_type": "stream",
          "text": [
            "Adjusting learning rate of group 0 to 9.6000e-03.\n",
            "\n",
            "Epoch 9 of 100, 25.85 s, with average training loss: 0.00849563\n",
            "Epoch 10 starting at: 22:40:07\n"
          ],
          "name": "stdout"
        },
        {
          "output_type": "stream",
          "text": [
            "100%|██████████| 196/196 [00:25<00:00,  7.61it/s]\n",
            "  1%|          | 1/196 [00:00<00:26,  7.27it/s]"
          ],
          "name": "stderr"
        },
        {
          "output_type": "stream",
          "text": [
            "Adjusting learning rate of group 0 to 9.6000e-03.\n",
            "\n",
            "Epoch 10 of 100, 25.77 s, with average training loss: 0.00662144\n",
            "Epoch 11 starting at: 22:40:33\n"
          ],
          "name": "stdout"
        },
        {
          "output_type": "stream",
          "text": [
            "100%|██████████| 196/196 [00:25<00:00,  7.58it/s]\n",
            "  1%|          | 1/196 [00:00<00:26,  7.40it/s]"
          ],
          "name": "stderr"
        },
        {
          "output_type": "stream",
          "text": [
            "Adjusting learning rate of group 0 to 9.6000e-03.\n",
            "\n",
            "Epoch 11 of 100, 25.86 s, with average training loss: 0.00592135\n",
            "Epoch 12 starting at: 22:40:59\n"
          ],
          "name": "stdout"
        },
        {
          "output_type": "stream",
          "text": [
            "100%|██████████| 196/196 [00:25<00:00,  7.60it/s]\n",
            "  1%|          | 1/196 [00:00<00:25,  7.53it/s]"
          ],
          "name": "stderr"
        },
        {
          "output_type": "stream",
          "text": [
            "Adjusting learning rate of group 0 to 9.6000e-03.\n",
            "\n",
            "Epoch 12 of 100, 25.78 s, with average training loss: 0.00526468\n",
            "Epoch 13 starting at: 22:41:24\n"
          ],
          "name": "stdout"
        },
        {
          "output_type": "stream",
          "text": [
            "100%|██████████| 196/196 [00:25<00:00,  7.58it/s]\n",
            "  1%|          | 1/196 [00:00<00:26,  7.45it/s]"
          ],
          "name": "stderr"
        },
        {
          "output_type": "stream",
          "text": [
            "Adjusting learning rate of group 0 to 9.6000e-03.\n",
            "\n",
            "Epoch 13 of 100, 25.84 s, with average training loss: 0.00603723\n",
            "Epoch 14 starting at: 22:41:50\n"
          ],
          "name": "stdout"
        },
        {
          "output_type": "stream",
          "text": [
            "100%|██████████| 196/196 [00:25<00:00,  7.58it/s]\n",
            "  1%|          | 1/196 [00:00<00:26,  7.50it/s]"
          ],
          "name": "stderr"
        },
        {
          "output_type": "stream",
          "text": [
            "Adjusting learning rate of group 0 to 9.6000e-03.\n",
            "\n",
            "Epoch 14 of 100, 25.85 s, with average training loss: 0.00630977\n",
            "Epoch 15 starting at: 22:42:16\n"
          ],
          "name": "stdout"
        },
        {
          "output_type": "stream",
          "text": [
            "100%|██████████| 196/196 [00:25<00:00,  7.59it/s]\n",
            "  1%|          | 1/196 [00:00<00:25,  7.53it/s]"
          ],
          "name": "stderr"
        },
        {
          "output_type": "stream",
          "text": [
            "Adjusting learning rate of group 0 to 9.6000e-03.\n",
            "\n",
            "Epoch 15 of 100, 25.83 s, with average training loss: 0.00487714\n",
            "Epoch 16 starting at: 22:42:42\n"
          ],
          "name": "stdout"
        },
        {
          "output_type": "stream",
          "text": [
            "100%|██████████| 196/196 [00:25<00:00,  7.59it/s]\n",
            "  1%|          | 1/196 [00:00<00:26,  7.41it/s]"
          ],
          "name": "stderr"
        },
        {
          "output_type": "stream",
          "text": [
            "Adjusting learning rate of group 0 to 9.2160e-03.\n",
            "\n",
            "Epoch 16 of 100, 25.84 s, with average training loss: 0.00618993\n",
            "Epoch 17 starting at: 22:43:08\n"
          ],
          "name": "stdout"
        },
        {
          "output_type": "stream",
          "text": [
            "100%|██████████| 196/196 [00:25<00:00,  7.60it/s]\n",
            "  1%|          | 1/196 [00:00<00:25,  7.56it/s]"
          ],
          "name": "stderr"
        },
        {
          "output_type": "stream",
          "text": [
            "Adjusting learning rate of group 0 to 9.2160e-03.\n",
            "\n",
            "Epoch 17 of 100, 25.79 s, with average training loss: 0.00312485\n",
            "Epoch 18 starting at: 22:43:34\n"
          ],
          "name": "stdout"
        },
        {
          "output_type": "stream",
          "text": [
            "100%|██████████| 196/196 [00:25<00:00,  7.60it/s]\n",
            "  1%|          | 1/196 [00:00<00:27,  7.05it/s]"
          ],
          "name": "stderr"
        },
        {
          "output_type": "stream",
          "text": [
            "Adjusting learning rate of group 0 to 9.2160e-03.\n",
            "\n",
            "Epoch 18 of 100, 25.80 s, with average training loss: 0.00134813\n",
            "Epoch 19 starting at: 22:43:59\n"
          ],
          "name": "stdout"
        },
        {
          "output_type": "stream",
          "text": [
            "100%|██████████| 196/196 [00:25<00:00,  7.57it/s]\n",
            "  1%|          | 1/196 [00:00<00:26,  7.26it/s]"
          ],
          "name": "stderr"
        },
        {
          "output_type": "stream",
          "text": [
            "Adjusting learning rate of group 0 to 9.2160e-03.\n",
            "\n",
            "Epoch 19 of 100, 25.91 s, with average training loss: 0.00182163\n",
            "Epoch 20 starting at: 22:44:25\n"
          ],
          "name": "stdout"
        },
        {
          "output_type": "stream",
          "text": [
            "100%|██████████| 196/196 [00:25<00:00,  7.57it/s]\n",
            "  1%|          | 1/196 [00:00<00:26,  7.42it/s]"
          ],
          "name": "stderr"
        },
        {
          "output_type": "stream",
          "text": [
            "Adjusting learning rate of group 0 to 9.2160e-03.\n",
            "\n",
            "Epoch 20 of 100, 25.89 s, with average training loss: 0.00186881\n",
            "Epoch 21 starting at: 22:44:51\n"
          ],
          "name": "stdout"
        },
        {
          "output_type": "stream",
          "text": [
            "100%|██████████| 196/196 [00:25<00:00,  7.64it/s]\n",
            "  1%|          | 1/196 [00:00<00:25,  7.54it/s]"
          ],
          "name": "stderr"
        },
        {
          "output_type": "stream",
          "text": [
            "Adjusting learning rate of group 0 to 9.2160e-03.\n",
            "\n",
            "Epoch 21 of 100, 25.67 s, with average training loss: 0.00164860\n",
            "Epoch 22 starting at: 22:45:17\n"
          ],
          "name": "stdout"
        },
        {
          "output_type": "stream",
          "text": [
            "100%|██████████| 196/196 [00:25<00:00,  7.59it/s]\n",
            "  1%|          | 1/196 [00:00<00:27,  7.21it/s]"
          ],
          "name": "stderr"
        },
        {
          "output_type": "stream",
          "text": [
            "Adjusting learning rate of group 0 to 9.2160e-03.\n",
            "\n",
            "Epoch 22 of 100, 25.82 s, with average training loss: 0.00137622\n",
            "Epoch 23 starting at: 22:45:43\n"
          ],
          "name": "stdout"
        },
        {
          "output_type": "stream",
          "text": [
            "100%|██████████| 196/196 [00:25<00:00,  7.60it/s]\n",
            "  1%|          | 1/196 [00:00<00:25,  7.53it/s]"
          ],
          "name": "stderr"
        },
        {
          "output_type": "stream",
          "text": [
            "Adjusting learning rate of group 0 to 9.2160e-03.\n",
            "\n",
            "Epoch 23 of 100, 25.80 s, with average training loss: 0.00152329\n",
            "Epoch 24 starting at: 22:46:09\n"
          ],
          "name": "stdout"
        },
        {
          "output_type": "stream",
          "text": [
            "100%|██████████| 196/196 [00:25<00:00,  7.61it/s]\n",
            "  0%|          | 0/196 [00:00<?, ?it/s]"
          ],
          "name": "stderr"
        },
        {
          "output_type": "stream",
          "text": [
            "Adjusting learning rate of group 0 to 8.8474e-03.\n",
            "\n",
            "Epoch 24 of 100, 25.76 s, with average training loss: 0.00079398\n",
            "Epoch 25 starting at: 22:46:34\n"
          ],
          "name": "stdout"
        },
        {
          "output_type": "stream",
          "text": [
            "100%|██████████| 196/196 [00:25<00:00,  7.56it/s]\n",
            "  1%|          | 1/196 [00:00<00:26,  7.41it/s]"
          ],
          "name": "stderr"
        },
        {
          "output_type": "stream",
          "text": [
            "Adjusting learning rate of group 0 to 8.8474e-03.\n",
            "\n",
            "Epoch 25 of 100, 25.91 s, with average training loss: 0.00154584\n",
            "Epoch 26 starting at: 22:47:00\n"
          ],
          "name": "stdout"
        },
        {
          "output_type": "stream",
          "text": [
            "100%|██████████| 196/196 [00:25<00:00,  7.57it/s]\n",
            "  1%|          | 1/196 [00:00<00:26,  7.50it/s]"
          ],
          "name": "stderr"
        },
        {
          "output_type": "stream",
          "text": [
            "Adjusting learning rate of group 0 to 8.8474e-03.\n",
            "\n",
            "Epoch 26 of 100, 25.89 s, with average training loss: 0.00073169\n",
            "Epoch 27 starting at: 22:47:26\n"
          ],
          "name": "stdout"
        },
        {
          "output_type": "stream",
          "text": [
            "100%|██████████| 196/196 [00:25<00:00,  7.58it/s]\n",
            "  1%|          | 1/196 [00:00<00:25,  7.51it/s]"
          ],
          "name": "stderr"
        },
        {
          "output_type": "stream",
          "text": [
            "Adjusting learning rate of group 0 to 8.8474e-03.\n",
            "\n",
            "Epoch 27 of 100, 25.86 s, with average training loss: 0.00081603\n",
            "Epoch 28 starting at: 22:47:52\n"
          ],
          "name": "stdout"
        },
        {
          "output_type": "stream",
          "text": [
            "100%|██████████| 196/196 [00:25<00:00,  7.56it/s]\n",
            "  1%|          | 1/196 [00:00<00:25,  7.52it/s]"
          ],
          "name": "stderr"
        },
        {
          "output_type": "stream",
          "text": [
            "Adjusting learning rate of group 0 to 8.8474e-03.\n",
            "\n",
            "Epoch 28 of 100, 25.91 s, with average training loss: 0.00039219\n",
            "Epoch 29 starting at: 22:48:18\n"
          ],
          "name": "stdout"
        },
        {
          "output_type": "stream",
          "text": [
            "100%|██████████| 196/196 [00:25<00:00,  7.62it/s]\n",
            "  1%|          | 1/196 [00:00<00:26,  7.48it/s]"
          ],
          "name": "stderr"
        },
        {
          "output_type": "stream",
          "text": [
            "Adjusting learning rate of group 0 to 8.8474e-03.\n",
            "\n",
            "Epoch 29 of 100, 25.74 s, with average training loss: 0.00012175\n",
            "Epoch 30 starting at: 22:48:44\n"
          ],
          "name": "stdout"
        },
        {
          "output_type": "stream",
          "text": [
            "100%|██████████| 196/196 [00:25<00:00,  7.63it/s]\n",
            "  1%|          | 1/196 [00:00<00:25,  7.60it/s]"
          ],
          "name": "stderr"
        },
        {
          "output_type": "stream",
          "text": [
            "Adjusting learning rate of group 0 to 8.8474e-03.\n",
            "\n",
            "Epoch 30 of 100, 25.70 s, with average training loss: 0.00009225\n",
            "Epoch 31 starting at: 22:49:09\n"
          ],
          "name": "stdout"
        },
        {
          "output_type": "stream",
          "text": [
            "100%|██████████| 196/196 [00:25<00:00,  7.58it/s]\n",
            "  1%|          | 1/196 [00:00<00:26,  7.35it/s]"
          ],
          "name": "stderr"
        },
        {
          "output_type": "stream",
          "text": [
            "Adjusting learning rate of group 0 to 8.8474e-03.\n",
            "\n",
            "Epoch 31 of 100, 25.85 s, with average training loss: 0.00008029\n",
            "Epoch 32 starting at: 22:49:35\n"
          ],
          "name": "stdout"
        },
        {
          "output_type": "stream",
          "text": [
            "100%|██████████| 196/196 [00:25<00:00,  7.60it/s]\n",
            "  1%|          | 1/196 [00:00<00:26,  7.43it/s]"
          ],
          "name": "stderr"
        },
        {
          "output_type": "stream",
          "text": [
            "Adjusting learning rate of group 0 to 8.4935e-03.\n",
            "\n",
            "Epoch 32 of 100, 25.78 s, with average training loss: 0.00032515\n",
            "Epoch 33 starting at: 22:50:01\n"
          ],
          "name": "stdout"
        },
        {
          "output_type": "stream",
          "text": [
            "100%|██████████| 196/196 [00:25<00:00,  7.60it/s]\n",
            "  1%|          | 1/196 [00:00<00:26,  7.41it/s]"
          ],
          "name": "stderr"
        },
        {
          "output_type": "stream",
          "text": [
            "Adjusting learning rate of group 0 to 8.4935e-03.\n",
            "\n",
            "Epoch 33 of 100, 25.78 s, with average training loss: 0.00050404\n",
            "Epoch 34 starting at: 22:50:27\n"
          ],
          "name": "stdout"
        },
        {
          "output_type": "stream",
          "text": [
            "100%|██████████| 196/196 [00:25<00:00,  7.61it/s]\n",
            "  1%|          | 1/196 [00:00<00:26,  7.48it/s]"
          ],
          "name": "stderr"
        },
        {
          "output_type": "stream",
          "text": [
            "Adjusting learning rate of group 0 to 8.4935e-03.\n",
            "\n",
            "Epoch 34 of 100, 25.76 s, with average training loss: 0.00029521\n",
            "Epoch 35 starting at: 22:50:52\n"
          ],
          "name": "stdout"
        },
        {
          "output_type": "stream",
          "text": [
            "100%|██████████| 196/196 [00:25<00:00,  7.62it/s]\n",
            "  1%|          | 1/196 [00:00<00:25,  7.56it/s]"
          ],
          "name": "stderr"
        },
        {
          "output_type": "stream",
          "text": [
            "Adjusting learning rate of group 0 to 8.4935e-03.\n",
            "\n",
            "Epoch 35 of 100, 25.74 s, with average training loss: 0.00011714\n",
            "Epoch 36 starting at: 22:51:18\n"
          ],
          "name": "stdout"
        },
        {
          "output_type": "stream",
          "text": [
            "100%|██████████| 196/196 [00:25<00:00,  7.58it/s]\n",
            "  1%|          | 1/196 [00:00<00:25,  7.51it/s]"
          ],
          "name": "stderr"
        },
        {
          "output_type": "stream",
          "text": [
            "Adjusting learning rate of group 0 to 8.4935e-03.\n",
            "\n",
            "Epoch 36 of 100, 25.85 s, with average training loss: 0.00006098\n",
            "Epoch 37 starting at: 22:51:44\n"
          ],
          "name": "stdout"
        },
        {
          "output_type": "stream",
          "text": [
            "100%|██████████| 196/196 [00:25<00:00,  7.58it/s]\n",
            "  1%|          | 1/196 [00:00<00:26,  7.31it/s]"
          ],
          "name": "stderr"
        },
        {
          "output_type": "stream",
          "text": [
            "Adjusting learning rate of group 0 to 8.4935e-03.\n",
            "\n",
            "Epoch 37 of 100, 25.87 s, with average training loss: 0.00005406\n",
            "Epoch 38 starting at: 22:52:10\n"
          ],
          "name": "stdout"
        },
        {
          "output_type": "stream",
          "text": [
            "100%|██████████| 196/196 [00:25<00:00,  7.56it/s]\n",
            "  1%|          | 1/196 [00:00<00:26,  7.35it/s]"
          ],
          "name": "stderr"
        },
        {
          "output_type": "stream",
          "text": [
            "Adjusting learning rate of group 0 to 8.4935e-03.\n",
            "\n",
            "Epoch 38 of 100, 25.94 s, with average training loss: 0.00006097\n",
            "Epoch 39 starting at: 22:52:36\n"
          ],
          "name": "stdout"
        },
        {
          "output_type": "stream",
          "text": [
            "100%|██████████| 196/196 [00:25<00:00,  7.58it/s]\n",
            "  1%|          | 1/196 [00:00<00:27,  7.20it/s]"
          ],
          "name": "stderr"
        },
        {
          "output_type": "stream",
          "text": [
            "Adjusting learning rate of group 0 to 8.4935e-03.\n",
            "\n",
            "Epoch 39 of 100, 25.87 s, with average training loss: 0.00005061\n",
            "Epoch 40 starting at: 22:53:02\n"
          ],
          "name": "stdout"
        },
        {
          "output_type": "stream",
          "text": [
            "100%|██████████| 196/196 [00:25<00:00,  7.57it/s]\n",
            "  1%|          | 1/196 [00:00<00:26,  7.34it/s]"
          ],
          "name": "stderr"
        },
        {
          "output_type": "stream",
          "text": [
            "Adjusting learning rate of group 0 to 8.1537e-03.\n",
            "\n",
            "Epoch 40 of 100, 25.90 s, with average training loss: 0.00004612\n",
            "Epoch 41 starting at: 22:53:28\n"
          ],
          "name": "stdout"
        },
        {
          "output_type": "stream",
          "text": [
            "100%|██████████| 196/196 [00:25<00:00,  7.60it/s]\n",
            "  1%|          | 1/196 [00:00<00:26,  7.30it/s]"
          ],
          "name": "stderr"
        },
        {
          "output_type": "stream",
          "text": [
            "Adjusting learning rate of group 0 to 8.1537e-03.\n",
            "\n",
            "Epoch 41 of 100, 25.81 s, with average training loss: 0.00003770\n",
            "Epoch 42 starting at: 22:53:53\n"
          ],
          "name": "stdout"
        },
        {
          "output_type": "stream",
          "text": [
            "100%|██████████| 196/196 [00:25<00:00,  7.62it/s]\n",
            "  1%|          | 1/196 [00:00<00:26,  7.50it/s]"
          ],
          "name": "stderr"
        },
        {
          "output_type": "stream",
          "text": [
            "Adjusting learning rate of group 0 to 8.1537e-03.\n",
            "\n",
            "Epoch 42 of 100, 25.73 s, with average training loss: 0.00003832\n",
            "Epoch 43 starting at: 22:54:19\n"
          ],
          "name": "stdout"
        },
        {
          "output_type": "stream",
          "text": [
            "100%|██████████| 196/196 [00:25<00:00,  7.60it/s]\n",
            "  1%|          | 1/196 [00:00<00:25,  7.53it/s]"
          ],
          "name": "stderr"
        },
        {
          "output_type": "stream",
          "text": [
            "Adjusting learning rate of group 0 to 8.1537e-03.\n",
            "\n",
            "Epoch 43 of 100, 25.79 s, with average training loss: 0.00003397\n",
            "Epoch 44 starting at: 22:54:45\n"
          ],
          "name": "stdout"
        },
        {
          "output_type": "stream",
          "text": [
            "100%|██████████| 196/196 [00:25<00:00,  7.59it/s]\n",
            "  1%|          | 1/196 [00:00<00:25,  7.56it/s]"
          ],
          "name": "stderr"
        },
        {
          "output_type": "stream",
          "text": [
            "Adjusting learning rate of group 0 to 8.1537e-03.\n",
            "\n",
            "Epoch 44 of 100, 25.81 s, with average training loss: 0.00003279\n",
            "Epoch 45 starting at: 22:55:11\n"
          ],
          "name": "stdout"
        },
        {
          "output_type": "stream",
          "text": [
            "100%|██████████| 196/196 [00:25<00:00,  7.59it/s]\n",
            "  1%|          | 1/196 [00:00<00:27,  7.17it/s]"
          ],
          "name": "stderr"
        },
        {
          "output_type": "stream",
          "text": [
            "Adjusting learning rate of group 0 to 8.1537e-03.\n",
            "\n",
            "Epoch 45 of 100, 25.81 s, with average training loss: 0.00003152\n",
            "Epoch 46 starting at: 22:55:37\n"
          ],
          "name": "stdout"
        },
        {
          "output_type": "stream",
          "text": [
            "100%|██████████| 196/196 [00:25<00:00,  7.57it/s]\n",
            "  1%|          | 1/196 [00:00<00:26,  7.48it/s]"
          ],
          "name": "stderr"
        },
        {
          "output_type": "stream",
          "text": [
            "Adjusting learning rate of group 0 to 8.1537e-03.\n",
            "\n",
            "Epoch 46 of 100, 25.90 s, with average training loss: 0.00003020\n",
            "Epoch 47 starting at: 22:56:03\n"
          ],
          "name": "stdout"
        },
        {
          "output_type": "stream",
          "text": [
            "100%|██████████| 196/196 [00:25<00:00,  7.55it/s]\n",
            "  1%|          | 1/196 [00:00<00:27,  7.12it/s]"
          ],
          "name": "stderr"
        },
        {
          "output_type": "stream",
          "text": [
            "Adjusting learning rate of group 0 to 8.1537e-03.\n",
            "\n",
            "Epoch 47 of 100, 25.98 s, with average training loss: 0.00004842\n",
            "Epoch 48 starting at: 22:56:28\n"
          ],
          "name": "stdout"
        },
        {
          "output_type": "stream",
          "text": [
            "100%|██████████| 196/196 [00:25<00:00,  7.58it/s]\n",
            "  1%|          | 1/196 [00:00<00:25,  7.63it/s]"
          ],
          "name": "stderr"
        },
        {
          "output_type": "stream",
          "text": [
            "Adjusting learning rate of group 0 to 7.8276e-03.\n",
            "\n",
            "Epoch 48 of 100, 25.85 s, with average training loss: 0.00012766\n",
            "Epoch 49 starting at: 22:56:54\n"
          ],
          "name": "stdout"
        },
        {
          "output_type": "stream",
          "text": [
            "100%|██████████| 196/196 [00:25<00:00,  7.59it/s]\n",
            "  1%|          | 1/196 [00:00<00:25,  7.51it/s]"
          ],
          "name": "stderr"
        },
        {
          "output_type": "stream",
          "text": [
            "Adjusting learning rate of group 0 to 7.8276e-03.\n",
            "\n",
            "Epoch 49 of 100, 25.82 s, with average training loss: 0.00005656\n",
            "Epoch 50 starting at: 22:57:20\n"
          ],
          "name": "stdout"
        },
        {
          "output_type": "stream",
          "text": [
            "100%|██████████| 196/196 [00:25<00:00,  7.59it/s]\n",
            "  1%|          | 1/196 [00:00<00:26,  7.45it/s]"
          ],
          "name": "stderr"
        },
        {
          "output_type": "stream",
          "text": [
            "Adjusting learning rate of group 0 to 7.8276e-03.\n",
            "\n",
            "Epoch 50 of 100, 25.83 s, with average training loss: 0.00003270\n",
            "Epoch 51 starting at: 22:57:46\n"
          ],
          "name": "stdout"
        },
        {
          "output_type": "stream",
          "text": [
            "100%|██████████| 196/196 [00:25<00:00,  7.56it/s]\n",
            "  1%|          | 1/196 [00:00<00:27,  7.14it/s]"
          ],
          "name": "stderr"
        },
        {
          "output_type": "stream",
          "text": [
            "Adjusting learning rate of group 0 to 7.8276e-03.\n",
            "\n",
            "Epoch 51 of 100, 25.92 s, with average training loss: 0.00007808\n",
            "Epoch 52 starting at: 22:58:12\n"
          ],
          "name": "stdout"
        },
        {
          "output_type": "stream",
          "text": [
            "100%|██████████| 196/196 [00:25<00:00,  7.60it/s]\n",
            "  1%|          | 1/196 [00:00<00:26,  7.49it/s]"
          ],
          "name": "stderr"
        },
        {
          "output_type": "stream",
          "text": [
            "Adjusting learning rate of group 0 to 7.8276e-03.\n",
            "\n",
            "Epoch 52 of 100, 25.80 s, with average training loss: 0.00003835\n",
            "Epoch 53 starting at: 22:58:38\n"
          ],
          "name": "stdout"
        },
        {
          "output_type": "stream",
          "text": [
            "100%|██████████| 196/196 [00:25<00:00,  7.59it/s]\n",
            "  1%|          | 1/196 [00:00<00:26,  7.30it/s]"
          ],
          "name": "stderr"
        },
        {
          "output_type": "stream",
          "text": [
            "Adjusting learning rate of group 0 to 7.8276e-03.\n",
            "\n",
            "Epoch 53 of 100, 25.82 s, with average training loss: 0.00003098\n",
            "Epoch 54 starting at: 22:59:04\n"
          ],
          "name": "stdout"
        },
        {
          "output_type": "stream",
          "text": [
            "100%|██████████| 196/196 [00:25<00:00,  7.58it/s]\n",
            "  1%|          | 1/196 [00:00<00:26,  7.35it/s]"
          ],
          "name": "stderr"
        },
        {
          "output_type": "stream",
          "text": [
            "Adjusting learning rate of group 0 to 7.8276e-03.\n",
            "\n",
            "Epoch 54 of 100, 25.87 s, with average training loss: 0.00003096\n",
            "Epoch 55 starting at: 22:59:29\n"
          ],
          "name": "stdout"
        },
        {
          "output_type": "stream",
          "text": [
            "100%|██████████| 196/196 [00:25<00:00,  7.60it/s]\n",
            "  1%|          | 1/196 [00:00<00:26,  7.48it/s]"
          ],
          "name": "stderr"
        },
        {
          "output_type": "stream",
          "text": [
            "Adjusting learning rate of group 0 to 7.8276e-03.\n",
            "\n",
            "Epoch 55 of 100, 25.80 s, with average training loss: 0.00002932\n",
            "Epoch 56 starting at: 22:59:55\n"
          ],
          "name": "stdout"
        },
        {
          "output_type": "stream",
          "text": [
            "100%|██████████| 196/196 [00:25<00:00,  7.59it/s]\n",
            "  1%|          | 1/196 [00:00<00:26,  7.47it/s]"
          ],
          "name": "stderr"
        },
        {
          "output_type": "stream",
          "text": [
            "Adjusting learning rate of group 0 to 7.5145e-03.\n",
            "\n",
            "Epoch 56 of 100, 25.82 s, with average training loss: 0.00003145\n",
            "Epoch 57 starting at: 23:00:21\n"
          ],
          "name": "stdout"
        },
        {
          "output_type": "stream",
          "text": [
            "100%|██████████| 196/196 [00:25<00:00,  7.61it/s]\n",
            "  1%|          | 1/196 [00:00<00:26,  7.48it/s]"
          ],
          "name": "stderr"
        },
        {
          "output_type": "stream",
          "text": [
            "Adjusting learning rate of group 0 to 7.5145e-03.\n",
            "\n",
            "Epoch 57 of 100, 25.75 s, with average training loss: 0.00002182\n",
            "Epoch 58 starting at: 23:00:47\n"
          ],
          "name": "stdout"
        },
        {
          "output_type": "stream",
          "text": [
            "100%|██████████| 196/196 [00:25<00:00,  7.62it/s]\n",
            "  1%|          | 1/196 [00:00<00:26,  7.35it/s]"
          ],
          "name": "stderr"
        },
        {
          "output_type": "stream",
          "text": [
            "Adjusting learning rate of group 0 to 7.5145e-03.\n",
            "\n",
            "Epoch 58 of 100, 25.73 s, with average training loss: 0.00002170\n",
            "Epoch 59 starting at: 23:01:13\n"
          ],
          "name": "stdout"
        },
        {
          "output_type": "stream",
          "text": [
            "100%|██████████| 196/196 [00:25<00:00,  7.58it/s]\n",
            "  1%|          | 1/196 [00:00<00:26,  7.37it/s]"
          ],
          "name": "stderr"
        },
        {
          "output_type": "stream",
          "text": [
            "Adjusting learning rate of group 0 to 7.5145e-03.\n",
            "\n",
            "Epoch 59 of 100, 25.86 s, with average training loss: 0.00002509\n",
            "Epoch 60 starting at: 23:01:38\n"
          ],
          "name": "stdout"
        },
        {
          "output_type": "stream",
          "text": [
            "100%|██████████| 196/196 [00:25<00:00,  7.59it/s]\n",
            "  1%|          | 1/196 [00:00<00:26,  7.45it/s]"
          ],
          "name": "stderr"
        },
        {
          "output_type": "stream",
          "text": [
            "Adjusting learning rate of group 0 to 7.5145e-03.\n",
            "\n",
            "Epoch 60 of 100, 25.81 s, with average training loss: 0.00002831\n",
            "Epoch 61 starting at: 23:02:04\n"
          ],
          "name": "stdout"
        },
        {
          "output_type": "stream",
          "text": [
            "100%|██████████| 196/196 [00:25<00:00,  7.56it/s]\n",
            "  1%|          | 1/196 [00:00<00:25,  7.56it/s]"
          ],
          "name": "stderr"
        },
        {
          "output_type": "stream",
          "text": [
            "Adjusting learning rate of group 0 to 7.5145e-03.\n",
            "\n",
            "Epoch 61 of 100, 25.94 s, with average training loss: 0.00002284\n",
            "Epoch 62 starting at: 23:02:30\n"
          ],
          "name": "stdout"
        },
        {
          "output_type": "stream",
          "text": [
            "100%|██████████| 196/196 [00:25<00:00,  7.58it/s]\n",
            "  1%|          | 1/196 [00:00<00:25,  7.61it/s]"
          ],
          "name": "stderr"
        },
        {
          "output_type": "stream",
          "text": [
            "Adjusting learning rate of group 0 to 7.5145e-03.\n",
            "\n",
            "Epoch 62 of 100, 25.85 s, with average training loss: 0.00002133\n",
            "Epoch 63 starting at: 23:02:56\n"
          ],
          "name": "stdout"
        },
        {
          "output_type": "stream",
          "text": [
            "100%|██████████| 196/196 [00:25<00:00,  7.57it/s]\n",
            "  1%|          | 1/196 [00:00<00:27,  7.22it/s]"
          ],
          "name": "stderr"
        },
        {
          "output_type": "stream",
          "text": [
            "Adjusting learning rate of group 0 to 7.5145e-03.\n",
            "\n",
            "Epoch 63 of 100, 25.91 s, with average training loss: 0.00001939\n",
            "Epoch 64 starting at: 23:03:22\n"
          ],
          "name": "stdout"
        },
        {
          "output_type": "stream",
          "text": [
            "100%|██████████| 196/196 [00:25<00:00,  7.57it/s]\n",
            "  1%|          | 1/196 [00:00<00:26,  7.24it/s]"
          ],
          "name": "stderr"
        },
        {
          "output_type": "stream",
          "text": [
            "Adjusting learning rate of group 0 to 7.2139e-03.\n",
            "\n",
            "Epoch 64 of 100, 25.89 s, with average training loss: 0.00002030\n",
            "Epoch 65 starting at: 23:03:48\n"
          ],
          "name": "stdout"
        },
        {
          "output_type": "stream",
          "text": [
            "100%|██████████| 196/196 [00:25<00:00,  7.60it/s]\n",
            "  1%|          | 1/196 [00:00<00:28,  6.93it/s]"
          ],
          "name": "stderr"
        },
        {
          "output_type": "stream",
          "text": [
            "Adjusting learning rate of group 0 to 7.2139e-03.\n",
            "\n",
            "Epoch 65 of 100, 25.79 s, with average training loss: 0.00001888\n",
            "Epoch 66 starting at: 23:04:14\n"
          ],
          "name": "stdout"
        },
        {
          "output_type": "stream",
          "text": [
            "100%|██████████| 196/196 [00:25<00:00,  7.59it/s]\n",
            "  1%|          | 1/196 [00:00<00:26,  7.33it/s]"
          ],
          "name": "stderr"
        },
        {
          "output_type": "stream",
          "text": [
            "Adjusting learning rate of group 0 to 7.2139e-03.\n",
            "\n",
            "Epoch 66 of 100, 25.82 s, with average training loss: 0.00002081\n",
            "Epoch 67 starting at: 23:04:39\n"
          ],
          "name": "stdout"
        },
        {
          "output_type": "stream",
          "text": [
            "100%|██████████| 196/196 [00:25<00:00,  7.58it/s]\n",
            "  1%|          | 1/196 [00:00<00:26,  7.39it/s]"
          ],
          "name": "stderr"
        },
        {
          "output_type": "stream",
          "text": [
            "Adjusting learning rate of group 0 to 7.2139e-03.\n",
            "\n",
            "Epoch 67 of 100, 25.88 s, with average training loss: 0.00001776\n",
            "Epoch 68 starting at: 23:05:05\n"
          ],
          "name": "stdout"
        },
        {
          "output_type": "stream",
          "text": [
            "100%|██████████| 196/196 [00:25<00:00,  7.58it/s]\n",
            "  1%|          | 1/196 [00:00<00:26,  7.42it/s]"
          ],
          "name": "stderr"
        },
        {
          "output_type": "stream",
          "text": [
            "Adjusting learning rate of group 0 to 7.2139e-03.\n",
            "\n",
            "Epoch 68 of 100, 25.86 s, with average training loss: 0.00001737\n",
            "Epoch 69 starting at: 23:05:31\n"
          ],
          "name": "stdout"
        },
        {
          "output_type": "stream",
          "text": [
            "100%|██████████| 196/196 [00:25<00:00,  7.55it/s]\n",
            "  1%|          | 1/196 [00:00<00:26,  7.28it/s]"
          ],
          "name": "stderr"
        },
        {
          "output_type": "stream",
          "text": [
            "Adjusting learning rate of group 0 to 7.2139e-03.\n",
            "\n",
            "Epoch 69 of 100, 25.96 s, with average training loss: 0.00001761\n",
            "Epoch 70 starting at: 23:05:57\n"
          ],
          "name": "stdout"
        },
        {
          "output_type": "stream",
          "text": [
            "100%|██████████| 196/196 [00:25<00:00,  7.57it/s]\n",
            "  1%|          | 1/196 [00:00<00:25,  7.51it/s]"
          ],
          "name": "stderr"
        },
        {
          "output_type": "stream",
          "text": [
            "Adjusting learning rate of group 0 to 7.2139e-03.\n",
            "\n",
            "Epoch 70 of 100, 25.89 s, with average training loss: 0.00001694\n",
            "Epoch 71 starting at: 23:06:23\n"
          ],
          "name": "stdout"
        },
        {
          "output_type": "stream",
          "text": [
            "100%|██████████| 196/196 [00:25<00:00,  7.60it/s]\n",
            "  1%|          | 1/196 [00:00<00:27,  7.19it/s]"
          ],
          "name": "stderr"
        },
        {
          "output_type": "stream",
          "text": [
            "Adjusting learning rate of group 0 to 7.2139e-03.\n",
            "\n",
            "Epoch 71 of 100, 25.78 s, with average training loss: 0.00001776\n",
            "Epoch 72 starting at: 23:06:49\n"
          ],
          "name": "stdout"
        },
        {
          "output_type": "stream",
          "text": [
            "100%|██████████| 196/196 [00:25<00:00,  7.54it/s]\n",
            "  1%|          | 1/196 [00:00<00:26,  7.46it/s]"
          ],
          "name": "stderr"
        },
        {
          "output_type": "stream",
          "text": [
            "Adjusting learning rate of group 0 to 6.9253e-03.\n",
            "\n",
            "Epoch 72 of 100, 25.99 s, with average training loss: 0.00016890\n",
            "Epoch 73 starting at: 23:07:15\n"
          ],
          "name": "stdout"
        },
        {
          "output_type": "stream",
          "text": [
            "100%|██████████| 196/196 [00:25<00:00,  7.61it/s]\n",
            "  1%|          | 1/196 [00:00<00:26,  7.32it/s]"
          ],
          "name": "stderr"
        },
        {
          "output_type": "stream",
          "text": [
            "Adjusting learning rate of group 0 to 6.9253e-03.\n",
            "\n",
            "Epoch 73 of 100, 25.77 s, with average training loss: 0.00157349\n",
            "Epoch 74 starting at: 23:07:41\n"
          ],
          "name": "stdout"
        },
        {
          "output_type": "stream",
          "text": [
            "100%|██████████| 196/196 [00:25<00:00,  7.60it/s]\n",
            "  1%|          | 1/196 [00:00<00:26,  7.49it/s]"
          ],
          "name": "stderr"
        },
        {
          "output_type": "stream",
          "text": [
            "Adjusting learning rate of group 0 to 6.9253e-03.\n",
            "\n",
            "Epoch 74 of 100, 25.78 s, with average training loss: 0.00022724\n",
            "Epoch 75 starting at: 23:08:06\n"
          ],
          "name": "stdout"
        },
        {
          "output_type": "stream",
          "text": [
            "100%|██████████| 196/196 [00:25<00:00,  7.56it/s]\n",
            "  1%|          | 1/196 [00:00<00:27,  7.09it/s]"
          ],
          "name": "stderr"
        },
        {
          "output_type": "stream",
          "text": [
            "Adjusting learning rate of group 0 to 6.9253e-03.\n",
            "\n",
            "Epoch 75 of 100, 25.92 s, with average training loss: 0.00018522\n",
            "Epoch 76 starting at: 23:08:32\n"
          ],
          "name": "stdout"
        },
        {
          "output_type": "stream",
          "text": [
            "100%|██████████| 196/196 [00:25<00:00,  7.58it/s]\n",
            "  1%|          | 1/196 [00:00<00:26,  7.37it/s]"
          ],
          "name": "stderr"
        },
        {
          "output_type": "stream",
          "text": [
            "Adjusting learning rate of group 0 to 6.9253e-03.\n",
            "\n",
            "Epoch 76 of 100, 25.85 s, with average training loss: 0.00005127\n",
            "Epoch 77 starting at: 23:08:58\n"
          ],
          "name": "stdout"
        },
        {
          "output_type": "stream",
          "text": [
            "100%|██████████| 196/196 [00:25<00:00,  7.60it/s]\n",
            "  1%|          | 1/196 [00:00<00:27,  7.16it/s]"
          ],
          "name": "stderr"
        },
        {
          "output_type": "stream",
          "text": [
            "Adjusting learning rate of group 0 to 6.9253e-03.\n",
            "\n",
            "Epoch 77 of 100, 25.79 s, with average training loss: 0.00003546\n",
            "Epoch 78 starting at: 23:09:24\n"
          ],
          "name": "stdout"
        },
        {
          "output_type": "stream",
          "text": [
            "100%|██████████| 196/196 [00:25<00:00,  7.55it/s]\n",
            "  1%|          | 1/196 [00:00<00:25,  7.56it/s]"
          ],
          "name": "stderr"
        },
        {
          "output_type": "stream",
          "text": [
            "Adjusting learning rate of group 0 to 6.9253e-03.\n",
            "\n",
            "Epoch 78 of 100, 25.96 s, with average training loss: 0.00075037\n",
            "Epoch 79 starting at: 23:09:50\n"
          ],
          "name": "stdout"
        },
        {
          "output_type": "stream",
          "text": [
            "100%|██████████| 196/196 [00:25<00:00,  7.59it/s]\n",
            "  1%|          | 1/196 [00:00<00:28,  6.93it/s]"
          ],
          "name": "stderr"
        },
        {
          "output_type": "stream",
          "text": [
            "Adjusting learning rate of group 0 to 6.9253e-03.\n",
            "\n",
            "Epoch 79 of 100, 25.83 s, with average training loss: 0.00018140\n",
            "Epoch 80 starting at: 23:10:16\n"
          ],
          "name": "stdout"
        },
        {
          "output_type": "stream",
          "text": [
            "100%|██████████| 196/196 [00:25<00:00,  7.58it/s]\n",
            "  1%|          | 1/196 [00:00<00:27,  7.08it/s]"
          ],
          "name": "stderr"
        },
        {
          "output_type": "stream",
          "text": [
            "Adjusting learning rate of group 0 to 6.6483e-03.\n",
            "\n",
            "Epoch 80 of 100, 25.86 s, with average training loss: 0.00012571\n",
            "Epoch 81 starting at: 23:10:42\n"
          ],
          "name": "stdout"
        },
        {
          "output_type": "stream",
          "text": [
            "100%|██████████| 196/196 [00:25<00:00,  7.60it/s]\n",
            "  1%|          | 1/196 [00:00<00:26,  7.36it/s]"
          ],
          "name": "stderr"
        },
        {
          "output_type": "stream",
          "text": [
            "Adjusting learning rate of group 0 to 6.6483e-03.\n",
            "\n",
            "Epoch 81 of 100, 25.80 s, with average training loss: 0.00056532\n",
            "Epoch 82 starting at: 23:11:07\n"
          ],
          "name": "stdout"
        },
        {
          "output_type": "stream",
          "text": [
            "100%|██████████| 196/196 [00:25<00:00,  7.58it/s]\n",
            "  1%|          | 1/196 [00:00<00:27,  7.17it/s]"
          ],
          "name": "stderr"
        },
        {
          "output_type": "stream",
          "text": [
            "Adjusting learning rate of group 0 to 6.6483e-03.\n",
            "\n",
            "Epoch 82 of 100, 25.85 s, with average training loss: 0.00022129\n",
            "Epoch 83 starting at: 23:11:33\n"
          ],
          "name": "stdout"
        },
        {
          "output_type": "stream",
          "text": [
            "100%|██████████| 196/196 [00:26<00:00,  7.53it/s]\n",
            "  1%|          | 1/196 [00:00<00:26,  7.38it/s]"
          ],
          "name": "stderr"
        },
        {
          "output_type": "stream",
          "text": [
            "Adjusting learning rate of group 0 to 6.6483e-03.\n",
            "\n",
            "Epoch 83 of 100, 26.04 s, with average training loss: 0.00003711\n",
            "Epoch 84 starting at: 23:11:59\n"
          ],
          "name": "stdout"
        },
        {
          "output_type": "stream",
          "text": [
            "100%|██████████| 196/196 [00:26<00:00,  7.53it/s]\n",
            "  1%|          | 1/196 [00:00<00:26,  7.37it/s]"
          ],
          "name": "stderr"
        },
        {
          "output_type": "stream",
          "text": [
            "Adjusting learning rate of group 0 to 6.6483e-03.\n",
            "\n",
            "Epoch 84 of 100, 26.05 s, with average training loss: 0.00003062\n",
            "Epoch 85 starting at: 23:12:25\n"
          ],
          "name": "stdout"
        },
        {
          "output_type": "stream",
          "text": [
            "100%|██████████| 196/196 [00:26<00:00,  7.53it/s]\n",
            "  1%|          | 1/196 [00:00<00:26,  7.33it/s]"
          ],
          "name": "stderr"
        },
        {
          "output_type": "stream",
          "text": [
            "Adjusting learning rate of group 0 to 6.6483e-03.\n",
            "\n",
            "Epoch 85 of 100, 26.05 s, with average training loss: 0.00004521\n",
            "Epoch 86 starting at: 23:12:51\n"
          ],
          "name": "stdout"
        },
        {
          "output_type": "stream",
          "text": [
            "100%|██████████| 196/196 [00:25<00:00,  7.59it/s]\n",
            "  1%|          | 1/196 [00:00<00:26,  7.47it/s]"
          ],
          "name": "stderr"
        },
        {
          "output_type": "stream",
          "text": [
            "Adjusting learning rate of group 0 to 6.6483e-03.\n",
            "\n",
            "Epoch 86 of 100, 25.83 s, with average training loss: 0.00002801\n",
            "Epoch 87 starting at: 23:13:17\n"
          ],
          "name": "stdout"
        },
        {
          "output_type": "stream",
          "text": [
            "100%|██████████| 196/196 [00:25<00:00,  7.57it/s]\n",
            "  1%|          | 1/196 [00:00<00:26,  7.38it/s]"
          ],
          "name": "stderr"
        },
        {
          "output_type": "stream",
          "text": [
            "Adjusting learning rate of group 0 to 6.6483e-03.\n",
            "\n",
            "Epoch 87 of 100, 25.89 s, with average training loss: 0.00004493\n",
            "Epoch 88 starting at: 23:13:43\n"
          ],
          "name": "stdout"
        },
        {
          "output_type": "stream",
          "text": [
            "100%|██████████| 196/196 [00:25<00:00,  7.59it/s]\n",
            "  1%|          | 1/196 [00:00<00:26,  7.46it/s]"
          ],
          "name": "stderr"
        },
        {
          "output_type": "stream",
          "text": [
            "Adjusting learning rate of group 0 to 6.3824e-03.\n",
            "\n",
            "Epoch 88 of 100, 25.82 s, with average training loss: 0.00002292\n",
            "Epoch 89 starting at: 23:14:09\n"
          ],
          "name": "stdout"
        },
        {
          "output_type": "stream",
          "text": [
            "100%|██████████| 196/196 [00:25<00:00,  7.58it/s]\n",
            "  1%|          | 1/196 [00:00<00:28,  6.84it/s]"
          ],
          "name": "stderr"
        },
        {
          "output_type": "stream",
          "text": [
            "Adjusting learning rate of group 0 to 6.3824e-03.\n",
            "\n",
            "Epoch 89 of 100, 25.86 s, with average training loss: 0.00002066\n",
            "Epoch 90 starting at: 23:14:35\n"
          ],
          "name": "stdout"
        },
        {
          "output_type": "stream",
          "text": [
            "100%|██████████| 196/196 [00:25<00:00,  7.59it/s]\n",
            "  1%|          | 1/196 [00:00<00:26,  7.47it/s]"
          ],
          "name": "stderr"
        },
        {
          "output_type": "stream",
          "text": [
            "Adjusting learning rate of group 0 to 6.3824e-03.\n",
            "\n",
            "Epoch 90 of 100, 25.82 s, with average training loss: 0.00002375\n",
            "Epoch 91 starting at: 23:15:01\n"
          ],
          "name": "stdout"
        },
        {
          "output_type": "stream",
          "text": [
            "100%|██████████| 196/196 [00:25<00:00,  7.59it/s]\n",
            "  1%|          | 1/196 [00:00<00:26,  7.47it/s]"
          ],
          "name": "stderr"
        },
        {
          "output_type": "stream",
          "text": [
            "Adjusting learning rate of group 0 to 6.3824e-03.\n",
            "\n",
            "Epoch 91 of 100, 25.83 s, with average training loss: 0.00002878\n",
            "Epoch 92 starting at: 23:15:26\n"
          ],
          "name": "stdout"
        },
        {
          "output_type": "stream",
          "text": [
            "100%|██████████| 196/196 [00:25<00:00,  7.57it/s]\n",
            "  1%|          | 1/196 [00:00<00:25,  7.63it/s]"
          ],
          "name": "stderr"
        },
        {
          "output_type": "stream",
          "text": [
            "Adjusting learning rate of group 0 to 6.3824e-03.\n",
            "\n",
            "Epoch 92 of 100, 25.88 s, with average training loss: 0.00002904\n",
            "Epoch 93 starting at: 23:15:52\n"
          ],
          "name": "stdout"
        },
        {
          "output_type": "stream",
          "text": [
            "100%|██████████| 196/196 [00:25<00:00,  7.60it/s]\n",
            "  1%|          | 1/196 [00:00<00:26,  7.46it/s]"
          ],
          "name": "stderr"
        },
        {
          "output_type": "stream",
          "text": [
            "Adjusting learning rate of group 0 to 6.3824e-03.\n",
            "\n",
            "Epoch 93 of 100, 25.80 s, with average training loss: 0.00002078\n",
            "Epoch 94 starting at: 23:16:18\n"
          ],
          "name": "stdout"
        },
        {
          "output_type": "stream",
          "text": [
            "100%|██████████| 196/196 [00:25<00:00,  7.58it/s]\n",
            "  1%|          | 1/196 [00:00<00:27,  7.21it/s]"
          ],
          "name": "stderr"
        },
        {
          "output_type": "stream",
          "text": [
            "Adjusting learning rate of group 0 to 6.3824e-03.\n",
            "\n",
            "Epoch 94 of 100, 25.88 s, with average training loss: 0.00002039\n",
            "Epoch 95 starting at: 23:16:44\n"
          ],
          "name": "stdout"
        },
        {
          "output_type": "stream",
          "text": [
            "100%|██████████| 196/196 [00:25<00:00,  7.60it/s]\n",
            "  1%|          | 1/196 [00:00<00:27,  7.13it/s]"
          ],
          "name": "stderr"
        },
        {
          "output_type": "stream",
          "text": [
            "Adjusting learning rate of group 0 to 6.3824e-03.\n",
            "\n",
            "Epoch 95 of 100, 25.79 s, with average training loss: 0.00001815\n",
            "Epoch 96 starting at: 23:17:10\n"
          ],
          "name": "stdout"
        },
        {
          "output_type": "stream",
          "text": [
            "100%|██████████| 196/196 [00:25<00:00,  7.55it/s]\n",
            "  1%|          | 1/196 [00:00<00:26,  7.36it/s]"
          ],
          "name": "stderr"
        },
        {
          "output_type": "stream",
          "text": [
            "Adjusting learning rate of group 0 to 6.1271e-03.\n",
            "\n",
            "Epoch 96 of 100, 25.96 s, with average training loss: 0.00001582\n",
            "Epoch 97 starting at: 23:17:36\n"
          ],
          "name": "stdout"
        },
        {
          "output_type": "stream",
          "text": [
            "100%|██████████| 196/196 [00:25<00:00,  7.57it/s]\n",
            "  1%|          | 1/196 [00:00<00:26,  7.38it/s]"
          ],
          "name": "stderr"
        },
        {
          "output_type": "stream",
          "text": [
            "Adjusting learning rate of group 0 to 6.1271e-03.\n",
            "\n",
            "Epoch 97 of 100, 25.90 s, with average training loss: 0.00001672\n",
            "Epoch 98 starting at: 23:18:02\n"
          ],
          "name": "stdout"
        },
        {
          "output_type": "stream",
          "text": [
            "100%|██████████| 196/196 [00:26<00:00,  7.53it/s]\n",
            "  1%|          | 1/196 [00:00<00:26,  7.24it/s]"
          ],
          "name": "stderr"
        },
        {
          "output_type": "stream",
          "text": [
            "Adjusting learning rate of group 0 to 6.1271e-03.\n",
            "\n",
            "Epoch 98 of 100, 26.03 s, with average training loss: 0.00001807\n",
            "Epoch 99 starting at: 23:18:28\n"
          ],
          "name": "stdout"
        },
        {
          "output_type": "stream",
          "text": [
            "100%|██████████| 196/196 [00:25<00:00,  7.60it/s]\n",
            "  1%|          | 1/196 [00:00<00:25,  7.53it/s]"
          ],
          "name": "stderr"
        },
        {
          "output_type": "stream",
          "text": [
            "Adjusting learning rate of group 0 to 6.1271e-03.\n",
            "\n",
            "Epoch 99 of 100, 25.78 s, with average training loss: 0.00001808\n",
            "Epoch 100 starting at: 23:18:53\n"
          ],
          "name": "stdout"
        },
        {
          "output_type": "stream",
          "text": [
            "100%|██████████| 196/196 [00:25<00:00,  7.57it/s]\n"
          ],
          "name": "stderr"
        },
        {
          "output_type": "stream",
          "text": [
            "Adjusting learning rate of group 0 to 6.1271e-03.\n",
            "\n",
            "Epoch 100 of 100, 25.90 s, with average training loss: 0.00001667\n",
            "Finished Training  09/05/2021 23:19:19\n",
            "Avg per epoch ptime: 25.84, total 100 epochs ptime: 2584.28\n"
          ],
          "name": "stdout"
        }
      ]
    },
    {
      "cell_type": "code",
      "metadata": {
        "id": "sOYLNPPwhqNk"
      },
      "source": [
        "# Show training results\n",
        "show_train_hist(train_hist, save=True, path=save_dir + '/MNIST_train_hist.png')"
      ],
      "execution_count": 18,
      "outputs": []
    },
    {
      "cell_type": "markdown",
      "metadata": {
        "id": "HSySclCr75mn"
      },
      "source": [
        "### Model testing"
      ]
    },
    {
      "cell_type": "code",
      "metadata": {
        "id": "FBTqh7zX1tEI"
      },
      "source": [
        ""
      ],
      "execution_count": null,
      "outputs": []
    }
  ]
}