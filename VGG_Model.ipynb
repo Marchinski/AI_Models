{
  "nbformat": 4,
  "nbformat_minor": 0,
  "metadata": {
    "colab": {
      "name": "VGG_Model.ipynb",
      "provenance": [],
      "collapsed_sections": [],
      "machine_shape": "hm",
      "authorship_tag": "ABX9TyM5C0O/JrBxKUVTrBsjHUYW",
      "include_colab_link": true
    },
    "kernelspec": {
      "name": "python3",
      "display_name": "Python 3"
    },
    "language_info": {
      "name": "python"
    },
    "accelerator": "GPU"
  },
  "cells": [
    {
      "cell_type": "markdown",
      "metadata": {
        "id": "view-in-github",
        "colab_type": "text"
      },
      "source": [
        "<a href=\"https://colab.research.google.com/github/Marchinski/AI_Models/blob/main/VGG_Model.ipynb\" target=\"_parent\"><img src=\"https://colab.research.google.com/assets/colab-badge.svg\" alt=\"Open In Colab\"/></a>"
      ]
    },
    {
      "cell_type": "code",
      "metadata": {
        "colab": {
          "base_uri": "https://localhost:8080/",
          "height": 1000
        },
        "id": "MFiZEybEDQ-B",
        "outputId": "cd4aa503-6d1c-47ee-8440-1a86c527e4e6"
      },
      "source": [
        "import os\n",
        "import pickle\n",
        "import time\n",
        "\n",
        "import matplotlib.pyplot as plt\n",
        "import numpy as np\n",
        "import torch\n",
        "import torch.nn as nn\n",
        "import torch.optim as optim\n",
        "import torchvision.transforms as transforms\n",
        "import torchvision.datasets as datasets\n",
        "from torch.utils.data import DataLoader\n",
        "import torchvision\n",
        "from tqdm import tqdm\n",
        "\n",
        "def show_train_hist(hist, show=False, save=False, path='Train_hist.png'):\n",
        "    \"\"\"Loss tracker\n",
        "    \n",
        "    Plot the losses of generator and discriminator independently to see the trend\n",
        "    \n",
        "    Arguments:\n",
        "        hist {[dict]} -- Tracking variables\n",
        "    \n",
        "    Keyword Arguments:\n",
        "        show {bool} -- If to display the figure (default: {False})\n",
        "        save {bool} -- If to store the figure (default: {False})\n",
        "        path {str} -- path to store the figure (default: {'Train_hist.png'})\n",
        "    \"\"\"\n",
        "    x = range(len(hist['losses']))\n",
        "\n",
        "    y1 = hist['losses']\n",
        "\n",
        "    plt.plot(x, y1, label='loss')\n",
        "\n",
        "    plt.xlabel('Epoch')\n",
        "    plt.ylabel('Loss')\n",
        "\n",
        "    plt.legend(loc=4)\n",
        "    plt.grid(True)\n",
        "    plt.tight_layout()\n",
        "\n",
        "    if save:\n",
        "        plt.savefig(path)\n",
        "\n",
        "    if show:\n",
        "        plt.show()\n",
        "    else:\n",
        "        plt.close()\n",
        "\n",
        "if __name__ == '__main__':\n",
        "    # initialise the device for training, if gpu is available, device = 'cuda', else: device = 'cpu'\n",
        "    device = torch.device('cuda' if torch.cuda.is_available() else 'cpu')\n",
        "    print(device)\n",
        "\n",
        "    data_dir = './MNIST_data/'\n",
        "    save_dir = './Results/'\n",
        "    # create folder if not exist\n",
        "    if not os.path.exists(save_dir):\n",
        "        os.mkdir(save_dir)\n",
        "\n",
        "    # training parameters\n",
        "    batch_size = 256\n",
        "    learning_rate = 0.01\n",
        "    epochs = 20\n",
        "\n",
        "    # construct the dataset and data loader\n",
        "    transform = transforms.Compose([transforms.Resize(64),\n",
        "                                    transforms.ToTensor(),\n",
        "                                    transforms.Normalize(mean=(0.5,), std=(0.5,))])\n",
        "    train_data = datasets.MNIST(root=data_dir, train=True, transform=transform, download=True)\n",
        "    train_loader = DataLoader(dataset=train_data, batch_size=batch_size, shuffle=True)\n",
        "\n",
        "    VGG_net = torch.hub.load('pytorch/vision:v0.9.0', 'vgg19', pretrained=False)\n",
        "    VGG_net = VGG_net.to(device)\n",
        "\n",
        "    criterion = nn.CrossEntropyLoss().to(device)\n",
        "    optimizer = optim.SGD(VGG_net.parameters(), lr=learning_rate, momentum=0.9)\n",
        "\n",
        "    # tracking variables\n",
        "    train_hist = {}\n",
        "    train_hist['losses'] = []\n",
        "    train_hist['per_epoch_ptimes'] = []\n",
        "    train_hist['total_ptime'] = []\n",
        "\n",
        "    start_time = time.time()\n",
        "    for epoch in range(epochs):\n",
        "        VGG_net.train()\n",
        "        Loss = []\n",
        "        epoch_start_time = time.time()\n",
        "        for (image, labels) in tqdm(train_loader):\n",
        "            image = image.repeat(1, 3, 1, 1)\n",
        "            image = image.to(device)\n",
        "            labels = labels.to(device)\n",
        "\n",
        "            # zero the parameter gradients\n",
        "            optimizer.zero_grad()\n",
        "\n",
        "            # forward + backward + optimize\n",
        "            outputs = VGG_net(image)\n",
        "            loss = criterion(outputs, labels)\n",
        "            loss.backward()\n",
        "            optimizer.step()\n",
        "\n",
        "            Loss.append(loss.item())\n",
        "\n",
        "        epoch_loss = np.mean(Loss)  # mean generator loss for the epoch\n",
        "        epoch_end_time = time.time()\n",
        "        per_epoch_ptime = epoch_end_time - epoch_start_time\n",
        "\n",
        "        print(\"Epoch %d of %d with %.2f s\" % (epoch + 1, epochs, per_epoch_ptime))\n",
        "        print(\"Loss: %.8f\" % (epoch_loss))\n",
        "\n",
        "        # record the loss for every epoch\n",
        "        train_hist['losses'].append(epoch_loss)\n",
        "        train_hist['per_epoch_ptimes'].append(per_epoch_ptime)\n",
        "\n",
        "    print('Finished Training')\n",
        "\n",
        "    end_time = time.time()\n",
        "    total_ptime = end_time - start_time\n",
        "    train_hist['total_ptime'].append(total_ptime)\n",
        "\n",
        "    print('Avg per epoch ptime: %.2f, total %d epochs ptime: %.2f' % (np.mean(train_hist['per_epoch_ptimes']), epochs, total_ptime))\n",
        "\n",
        "    show_train_hist(train_hist, save=True, path=save_dir + '/MNIST_GAN_train_hist.png')"
      ],
      "execution_count": 3,
      "outputs": [
        {
          "output_type": "stream",
          "text": [
            "cuda\n"
          ],
          "name": "stdout"
        },
        {
          "output_type": "stream",
          "text": [
            "Using cache found in /root/.cache/torch/hub/pytorch_vision_v0.9.0\n",
            "100%|██████████| 235/235 [01:15<00:00,  3.10it/s]\n",
            "  0%|          | 0/235 [00:00<?, ?it/s]"
          ],
          "name": "stderr"
        },
        {
          "output_type": "stream",
          "text": [
            "Epoch 1 of 20 with 75.88 s\n",
            "Loss: 3.06002764\n"
          ],
          "name": "stdout"
        },
        {
          "output_type": "stream",
          "text": [
            "100%|██████████| 235/235 [01:15<00:00,  3.09it/s]\n",
            "  0%|          | 0/235 [00:00<?, ?it/s]"
          ],
          "name": "stderr"
        },
        {
          "output_type": "stream",
          "text": [
            "Epoch 2 of 20 with 75.95 s\n",
            "Loss: 2.32684458\n"
          ],
          "name": "stdout"
        },
        {
          "output_type": "stream",
          "text": [
            "100%|██████████| 235/235 [01:15<00:00,  3.09it/s]\n",
            "  0%|          | 0/235 [00:00<?, ?it/s]"
          ],
          "name": "stderr"
        },
        {
          "output_type": "stream",
          "text": [
            "Epoch 3 of 20 with 75.96 s\n",
            "Loss: 2.32185951\n"
          ],
          "name": "stdout"
        },
        {
          "output_type": "stream",
          "text": [
            "100%|██████████| 235/235 [01:16<00:00,  3.09it/s]\n",
            "  0%|          | 0/235 [00:00<?, ?it/s]"
          ],
          "name": "stderr"
        },
        {
          "output_type": "stream",
          "text": [
            "Epoch 4 of 20 with 76.01 s\n",
            "Loss: 2.29327907\n"
          ],
          "name": "stdout"
        },
        {
          "output_type": "stream",
          "text": [
            "100%|██████████| 235/235 [01:16<00:00,  3.09it/s]\n",
            "  0%|          | 0/235 [00:00<?, ?it/s]"
          ],
          "name": "stderr"
        },
        {
          "output_type": "stream",
          "text": [
            "Epoch 5 of 20 with 76.02 s\n",
            "Loss: 1.73825646\n"
          ],
          "name": "stdout"
        },
        {
          "output_type": "stream",
          "text": [
            "100%|██████████| 235/235 [01:15<00:00,  3.09it/s]\n",
            "  0%|          | 0/235 [00:00<?, ?it/s]"
          ],
          "name": "stderr"
        },
        {
          "output_type": "stream",
          "text": [
            "Epoch 6 of 20 with 75.97 s\n",
            "Loss: 0.15128832\n"
          ],
          "name": "stdout"
        },
        {
          "output_type": "stream",
          "text": [
            "100%|██████████| 235/235 [01:16<00:00,  3.09it/s]\n",
            "  0%|          | 0/235 [00:00<?, ?it/s]"
          ],
          "name": "stderr"
        },
        {
          "output_type": "stream",
          "text": [
            "Epoch 7 of 20 with 76.01 s\n",
            "Loss: 0.06076626\n"
          ],
          "name": "stdout"
        },
        {
          "output_type": "stream",
          "text": [
            "100%|██████████| 235/235 [01:15<00:00,  3.10it/s]\n",
            "  0%|          | 0/235 [00:00<?, ?it/s]"
          ],
          "name": "stderr"
        },
        {
          "output_type": "stream",
          "text": [
            "Epoch 8 of 20 with 75.79 s\n",
            "Loss: 0.04489029\n"
          ],
          "name": "stdout"
        },
        {
          "output_type": "stream",
          "text": [
            "100%|██████████| 235/235 [01:15<00:00,  3.10it/s]\n",
            "  0%|          | 0/235 [00:00<?, ?it/s]"
          ],
          "name": "stderr"
        },
        {
          "output_type": "stream",
          "text": [
            "Epoch 9 of 20 with 75.73 s\n",
            "Loss: 0.03047124\n"
          ],
          "name": "stdout"
        },
        {
          "output_type": "stream",
          "text": [
            "100%|██████████| 235/235 [01:15<00:00,  3.11it/s]\n",
            "  0%|          | 0/235 [00:00<?, ?it/s]"
          ],
          "name": "stderr"
        },
        {
          "output_type": "stream",
          "text": [
            "Epoch 10 of 20 with 75.55 s\n",
            "Loss: 0.02244352\n"
          ],
          "name": "stdout"
        },
        {
          "output_type": "stream",
          "text": [
            "100%|██████████| 235/235 [01:15<00:00,  3.11it/s]\n",
            "  0%|          | 0/235 [00:00<?, ?it/s]"
          ],
          "name": "stderr"
        },
        {
          "output_type": "stream",
          "text": [
            "Epoch 11 of 20 with 75.61 s\n",
            "Loss: 0.01900151\n"
          ],
          "name": "stdout"
        },
        {
          "output_type": "stream",
          "text": [
            "100%|██████████| 235/235 [01:15<00:00,  3.11it/s]\n",
            "  0%|          | 0/235 [00:00<?, ?it/s]"
          ],
          "name": "stderr"
        },
        {
          "output_type": "stream",
          "text": [
            "Epoch 12 of 20 with 75.58 s\n",
            "Loss: 0.01610173\n"
          ],
          "name": "stdout"
        },
        {
          "output_type": "stream",
          "text": [
            "100%|██████████| 235/235 [01:15<00:00,  3.11it/s]\n",
            "  0%|          | 0/235 [00:00<?, ?it/s]"
          ],
          "name": "stderr"
        },
        {
          "output_type": "stream",
          "text": [
            "Epoch 13 of 20 with 75.57 s\n",
            "Loss: 0.01245279\n"
          ],
          "name": "stdout"
        },
        {
          "output_type": "stream",
          "text": [
            "100%|██████████| 235/235 [01:15<00:00,  3.11it/s]\n",
            "  0%|          | 0/235 [00:00<?, ?it/s]"
          ],
          "name": "stderr"
        },
        {
          "output_type": "stream",
          "text": [
            "Epoch 14 of 20 with 75.53 s\n",
            "Loss: 0.01037910\n"
          ],
          "name": "stdout"
        },
        {
          "output_type": "stream",
          "text": [
            "100%|██████████| 235/235 [01:15<00:00,  3.11it/s]\n",
            "  0%|          | 0/235 [00:00<?, ?it/s]"
          ],
          "name": "stderr"
        },
        {
          "output_type": "stream",
          "text": [
            "Epoch 15 of 20 with 75.57 s\n",
            "Loss: 0.00841274\n"
          ],
          "name": "stdout"
        },
        {
          "output_type": "stream",
          "text": [
            "100%|██████████| 235/235 [01:15<00:00,  3.10it/s]\n",
            "  0%|          | 0/235 [00:00<?, ?it/s]"
          ],
          "name": "stderr"
        },
        {
          "output_type": "stream",
          "text": [
            "Epoch 16 of 20 with 75.70 s\n",
            "Loss: 0.00664648\n"
          ],
          "name": "stdout"
        },
        {
          "output_type": "stream",
          "text": [
            "100%|██████████| 235/235 [01:15<00:00,  3.11it/s]\n",
            "  0%|          | 0/235 [00:00<?, ?it/s]"
          ],
          "name": "stderr"
        },
        {
          "output_type": "stream",
          "text": [
            "Epoch 17 of 20 with 75.54 s\n",
            "Loss: 0.00605226\n"
          ],
          "name": "stdout"
        },
        {
          "output_type": "stream",
          "text": [
            "100%|██████████| 235/235 [01:15<00:00,  3.11it/s]\n",
            "  0%|          | 0/235 [00:00<?, ?it/s]"
          ],
          "name": "stderr"
        },
        {
          "output_type": "stream",
          "text": [
            "Epoch 18 of 20 with 75.52 s\n",
            "Loss: 0.00588670\n"
          ],
          "name": "stdout"
        },
        {
          "output_type": "stream",
          "text": [
            "100%|██████████| 235/235 [01:15<00:00,  3.11it/s]\n",
            "  0%|          | 0/235 [00:00<?, ?it/s]"
          ],
          "name": "stderr"
        },
        {
          "output_type": "stream",
          "text": [
            "Epoch 19 of 20 with 75.52 s\n",
            "Loss: 0.00567625\n"
          ],
          "name": "stdout"
        },
        {
          "output_type": "stream",
          "text": [
            "100%|██████████| 235/235 [01:15<00:00,  3.11it/s]"
          ],
          "name": "stderr"
        },
        {
          "output_type": "stream",
          "text": [
            "Epoch 20 of 20 with 75.55 s\n",
            "Loss: 0.00429075\n",
            "Finished Training\n",
            "Avg per epoch ptime: 75.73, total 20 epochs ptime: 1514.56\n"
          ],
          "name": "stdout"
        },
        {
          "output_type": "stream",
          "text": [
            "\n"
          ],
          "name": "stderr"
        },
        {
          "output_type": "error",
          "ename": "NameError",
          "evalue": "ignored",
          "traceback": [
            "\u001b[0;31m---------------------------------------------------------------------------\u001b[0m",
            "\u001b[0;31mNameError\u001b[0m                                 Traceback (most recent call last)",
            "\u001b[0;32m<ipython-input-3-0d99311d827a>\u001b[0m in \u001b[0;36m<module>\u001b[0;34m()\u001b[0m\n\u001b[1;32m    120\u001b[0m     \u001b[0mprint\u001b[0m\u001b[0;34m(\u001b[0m\u001b[0;34m'Avg per epoch ptime: %.2f, total %d epochs ptime: %.2f'\u001b[0m \u001b[0;34m%\u001b[0m \u001b[0;34m(\u001b[0m\u001b[0mnp\u001b[0m\u001b[0;34m.\u001b[0m\u001b[0mmean\u001b[0m\u001b[0;34m(\u001b[0m\u001b[0mtrain_hist\u001b[0m\u001b[0;34m[\u001b[0m\u001b[0;34m'per_epoch_ptimes'\u001b[0m\u001b[0;34m]\u001b[0m\u001b[0;34m)\u001b[0m\u001b[0;34m,\u001b[0m \u001b[0mepochs\u001b[0m\u001b[0;34m,\u001b[0m \u001b[0mtotal_ptime\u001b[0m\u001b[0;34m)\u001b[0m\u001b[0;34m)\u001b[0m\u001b[0;34m\u001b[0m\u001b[0;34m\u001b[0m\u001b[0m\n\u001b[1;32m    121\u001b[0m \u001b[0;34m\u001b[0m\u001b[0m\n\u001b[0;32m--> 122\u001b[0;31m     \u001b[0mshow_train_hist\u001b[0m\u001b[0;34m(\u001b[0m\u001b[0mtrain_hist\u001b[0m\u001b[0;34m,\u001b[0m \u001b[0msave\u001b[0m\u001b[0;34m=\u001b[0m\u001b[0;32mTrue\u001b[0m\u001b[0;34m,\u001b[0m \u001b[0mpath\u001b[0m\u001b[0;34m=\u001b[0m\u001b[0msave_dir\u001b[0m \u001b[0;34m+\u001b[0m \u001b[0;34m'/MNIST_GAN_train_hist.png'\u001b[0m\u001b[0;34m)\u001b[0m\u001b[0;34m\u001b[0m\u001b[0;34m\u001b[0m\u001b[0m\n\u001b[0m",
            "\u001b[0;31mNameError\u001b[0m: name 'save_dir' is not defined"
          ]
        }
      ]
    }
  ]
}