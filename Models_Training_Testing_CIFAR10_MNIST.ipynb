{
  "nbformat": 4,
  "nbformat_minor": 0,
  "metadata": {
    "colab": {
      "name": "VGG_Model.ipynb",
      "provenance": [],
      "collapsed_sections": [
        "z3EDSBqyns_y",
        "g-1iLxm5n78m",
        "gkp9TFTwoE7b",
        "1jra7j6Z71h9",
        "WM9tfwUiUTd2",
        "RKNvCacrjM2C",
        "5Mfgu-oYv7uq",
        "gKWaIaWk75l3",
        "_jHH-i_AopzY",
        "BHIpMQ4KPRjG",
        "JDheN0ASSS0i",
        "ICq4GBpYSZ7a",
        "YVi-0kgfT4ed",
        "5Zj6Nt_cT_S3",
        "Cts6FevpUEhu",
        "w8GyvdFeUH0z",
        "HSySclCr75mn"
      ],
      "machine_shape": "hm"
    },
    "kernelspec": {
      "display_name": "Python 3",
      "name": "python3"
    },
    "language_info": {
      "name": "python"
    },
    "accelerator": "GPU"
  },
  "cells": [
    {
      "cell_type": "markdown",
      "metadata": {
        "id": "z3EDSBqyns_y"
      },
      "source": [
        "# Imports"
      ]
    },
    {
      "cell_type": "code",
      "metadata": {
        "id": "MFiZEybEDQ-B"
      },
      "source": [
        "import os\n",
        "import pickle\n",
        "import time, datetime\n",
        "\n",
        "import matplotlib.pyplot as plt\n",
        "import numpy as np\n",
        "import torch\n",
        "import torch.nn as nn\n",
        "import torch.optim as optim\n",
        "import torchvision.transforms as transforms\n",
        "import torchvision.datasets as datasets\n",
        "from torch.utils.data import DataLoader\n",
        "import torchvision\n",
        "from tqdm import tqdm\n",
        "import tensorflow as tf"
      ],
      "execution_count": null,
      "outputs": []
    },
    {
      "cell_type": "markdown",
      "metadata": {
        "id": "g-1iLxm5n78m"
      },
      "source": [
        "# Save Methods"
      ]
    },
    {
      "cell_type": "code",
      "metadata": {
        "id": "TQEuSHwonncH"
      },
      "source": [
        "# Plot training loss\n",
        "def show_train_hist(hist, show=False, save=False, path='Train_hist.png'):\n",
        "    \"\"\"Loss tracker\n",
        "    \n",
        "    Plot the losses of the networks independently to see the trend\n",
        "    \n",
        "    Arguments:\n",
        "        hist {[dict]} -- Tracking variables\n",
        "    \n",
        "    Keyword Arguments:\n",
        "        show {bool} -- If to display the figure (default: {False})\n",
        "        save {bool} -- If to store the figure (default: {False})\n",
        "        path {str} -- path to store the figure (default: {'Train_hist.png'})\n",
        "    \"\"\"\n",
        "    x = range(len(hist['VGG_losses']))\n",
        "\n",
        "    y1 = hist['VGG_losses']\n",
        "    y2 = hist['ResNet_losses']\n",
        "    y3 = hist['GGL_Net_losses']\n",
        "\n",
        "    plt.plot(x, y1, label='VGG_loss')\n",
        "    plt.plot(x, y2, label='ResNet_loss')\n",
        "    plt.plot(x, y3, label='GoogLeNet_loss')\n",
        "\n",
        "    plt.xlabel('Epoch')\n",
        "    plt.ylabel('Loss')\n",
        "\n",
        "    plt.legend(loc=4)\n",
        "    plt.grid(True)\n",
        "    plt.tight_layout()\n",
        "\n",
        "    if save:\n",
        "        plt.savefig(path)\n",
        "\n",
        "    if show:\n",
        "        plt.show()\n",
        "    else:\n",
        "        plt.close()\n",
        "\n",
        "# Plot validation accuracy\n",
        "def show_accuracy_plot(hist, show=False, save=False, path='Accuracy_hist.png'):\n",
        "    \"\"\"Loss tracker\n",
        "    \n",
        "    Plot the losses of the networks independently to see the trend\n",
        "    \n",
        "    Arguments:\n",
        "        hist {[dict]} -- Tracking variables\n",
        "    \n",
        "    Keyword Arguments:\n",
        "        show {bool} -- If to display the figure (default: {False})\n",
        "        save {bool} -- If to store the figure (default: {False})\n",
        "        path {str} -- path to store the figure (default: {'Train_hist.png'})\n",
        "    \"\"\"\n",
        "    x = range(len(hist['VGG_accuracy']))\n",
        "\n",
        "    y1 = hist['VGG_accuracy']\n",
        "    y2 = hist['ResNet_accuracy']\n",
        "    y3 = hist['GGL_Net_accuracy']\n",
        "\n",
        "    plt.plot(x, y1, label='VGG_Accuracy')\n",
        "    plt.plot(x, y2, label='ResNet_Accuracy')\n",
        "    plt.plot(x, y3, label='GoogLeNet_Accuracy')\n",
        "\n",
        "    plt.xlabel('Epoch')\n",
        "    plt.ylabel('Accuracy')\n",
        "\n",
        "    plt.legend(loc=4)\n",
        "    plt.grid(True)\n",
        "    #plt.tight_layout()\n",
        "\n",
        "    if save:\n",
        "        plt.savefig(path)\n",
        "\n",
        "    if show:\n",
        "        plt.show()\n",
        "    else:\n",
        "        plt.close()"
      ],
      "execution_count": null,
      "outputs": []
    },
    {
      "cell_type": "markdown",
      "metadata": {
        "id": "gkp9TFTwoE7b"
      },
      "source": [
        "# Initial Set-up"
      ]
    },
    {
      "cell_type": "code",
      "metadata": {
        "colab": {
          "base_uri": "https://localhost:8080/"
        },
        "id": "X-TpDoj0oJgJ",
        "outputId": "6e395dde-baf6-4a15-f7d2-60ea37287516"
      },
      "source": [
        "# initialise the device for training, if gpu is available, device = 'cuda', else: device = 'cpu'\n",
        "device = torch.device('cuda' if torch.cuda.is_available() else 'cpu')\n",
        "print(device)\n",
        "\n",
        "save_dir = './Results/'\n",
        "model_dir = './Models/'\n",
        "# create folder if not exist\n",
        "if not os.path.exists(save_dir):\n",
        "    os.mkdir(save_dir)\n",
        "if not os.path.exists(model_dir):\n",
        "    os.mkdir(model_dir)"
      ],
      "execution_count": null,
      "outputs": [
        {
          "output_type": "stream",
          "text": [
            "cuda\n"
          ],
          "name": "stdout"
        }
      ]
    },
    {
      "cell_type": "markdown",
      "metadata": {
        "id": "1jra7j6Z71h9"
      },
      "source": [
        "# Model loading and training"
      ]
    },
    {
      "cell_type": "markdown",
      "metadata": {
        "id": "WM9tfwUiUTd2"
      },
      "source": [
        "## Create Models and Model Training Methods"
      ]
    },
    {
      "cell_type": "markdown",
      "metadata": {
        "id": "RKNvCacrjM2C"
      },
      "source": [
        "### VGG Model methods"
      ]
    },
    {
      "cell_type": "code",
      "metadata": {
        "id": "bWPOrI3XvbxG"
      },
      "source": [
        "def LoadVGG(device):\n",
        "    VGG_net = torch.hub.load('pytorch/vision:v0.9.0', 'vgg19', pretrained=False)\n",
        "    VGG_net = VGG_net.to(device)\n",
        "\n",
        "    VGG_optimizer = optim.SGD(VGG_net.parameters(), lr=0.01, momentum=0.9, weight_decay=0.0005)\n",
        "    VGG_scheduler = optim.lr_scheduler.ReduceLROnPlateau(VGG_optimizer, mode='max', patience=5, verbose=True)\n",
        "\n",
        "    return VGG_net, VGG_optimizer, VGG_scheduler\n",
        "\n",
        "def TrainVGG(VGG_net, optimizer, scheduler, criterion, epochs, train_loader, validation_loader):\n",
        "    print('\\nTraining VGG')\n",
        "    train_hist['per_epoch_ptimes'].clear()\n",
        "    start_time = time.time()\n",
        "    now = datetime.datetime.now()\n",
        "    dt_string = now.strftime(\"%d/%m/%Y %H:%M:%S\")\n",
        "    print('Training starting ',str(dt_string))\n",
        "    for epoch in range(epochs):\n",
        "        Train_Loss = []\n",
        "        epoch_start_time = time.time()\n",
        "        now = datetime.datetime.now()\n",
        "        print('Epoch %d starting at: %02d:%02d:%02d'%(epoch+1, now.hour, now.minute, now.second))\n",
        "        VGG_net.train()\n",
        "        # Training\n",
        "        for (train_images, train_labels) in tqdm(train_loader):\n",
        "            train_images = train_images.to(device)\n",
        "            train_labels = train_labels.to(device)\n",
        "\n",
        "            # zero the parameter gradients\n",
        "            optimizer.zero_grad()\n",
        "\n",
        "            # forward + backward + optimize\n",
        "            train_outputs = VGG_net(train_images)\n",
        "            train_loss = criterion(train_outputs, train_labels)\n",
        "            train_loss.backward()\n",
        "            optimizer.step()\n",
        "\n",
        "            Train_Loss.append(train_loss.item())\n",
        "        \n",
        "        VGG_net.eval()\n",
        "        Val_Loss = []\n",
        "        total = 0\n",
        "        correct = 0\n",
        "        # Validation\n",
        "        for (val_images, val_labels) in tqdm(validation_loader):\n",
        "            val_images = val_images.to(device)\n",
        "            val_labels = val_labels.to(device)\n",
        "\n",
        "            # calculate outputs by running images through the network\n",
        "            val_outputs = VGG_net(val_images)\n",
        "            val_loss = criterion(val_outputs, val_labels)\n",
        "            \n",
        "            Val_Loss.append(val_loss.item())\n",
        "\n",
        "            # apply softmax function to get probabilities\n",
        "            s = nn.Softmax(dim=1)\n",
        "            probabilities = s(val_outputs)\n",
        "            # class with highest probability is the predicted class\n",
        "            _, predicted = torch.max(probabilities.data, 1)\n",
        "            total += val_labels.size(0)\n",
        "            correct += (predicted == val_labels).sum().item()\n",
        "\n",
        "        # validation accuracy\n",
        "        epoch_accuracy = 100 * correct / total\n",
        "\n",
        "        # Learning Rate Adaptation step\n",
        "        # changes LR on flat plateau\n",
        "        scheduler.step(epoch_accuracy)\n",
        "\n",
        "        epoch_loss = np.mean(Train_Loss)  # mean loss for the epoch\n",
        "        epoch_end_time = time.time()\n",
        "        per_epoch_ptime = epoch_end_time - epoch_start_time\n",
        "\n",
        "        print(\"\\nEpoch %d of %d, %.2f s, with average training loss: %.8f, and validation loss: %.8f, validation accuracy: %.2f\" \n",
        "              % (epoch + 1, epochs, per_epoch_ptime, epoch_loss, np.mean(Val_Loss), epoch_accuracy))\n",
        "\n",
        "        # record the loss for every epoch\n",
        "        train_hist['VGG_losses'].append(epoch_loss)\n",
        "        train_hist['VGG_accuracy'].append(epoch_accuracy)\n",
        "        train_hist['per_epoch_ptimes'].append(per_epoch_ptime)\n",
        "\n",
        "    now = datetime.datetime.now()\n",
        "    dt_string = now.strftime(\"%d/%m/%Y %H:%M:%S\")\n",
        "    print('Finished Training ',str(dt_string))\n",
        "\n",
        "    end_time = time.time()\n",
        "    total_ptime = end_time - start_time\n",
        "    train_hist['total_ptime'].append(total_ptime)\n",
        "\n",
        "    print('Avg per epoch ptime: %.2f, total %d epochs ptime: %.2f' % (np.mean(train_hist['per_epoch_ptimes']), epochs, total_ptime))"
      ],
      "execution_count": null,
      "outputs": []
    },
    {
      "cell_type": "markdown",
      "metadata": {
        "id": "5Mfgu-oYv7uq"
      },
      "source": [
        "### ResNet Model methods"
      ]
    },
    {
      "cell_type": "code",
      "metadata": {
        "id": "xW43Edb-wBr8"
      },
      "source": [
        "def LoadResNet(device):\n",
        "    ResNet_net = torch.hub.load('pytorch/vision:v0.9.0', 'resnet34', pretrained=False)\n",
        "    ResNet_net = ResNet_net.to(device)\n",
        "\n",
        "    ResNet_optimizer = optim.SGD(ResNet_net.parameters(), lr=0.01, momentum=0.9, weight_decay=0.0001)\n",
        "    ResNet_scheduler = optim.lr_scheduler.ReduceLROnPlateau(ResNet_optimizer, mode='max', patience=5, verbose=True)\n",
        "\n",
        "    return ResNet_net, ResNet_optimizer, ResNet_scheduler\n",
        "\n",
        "def TrainResNet(ResNet_net, optimizer, scheduler, criterion, epochs, train_loader, validation_loader):\n",
        "    print('\\nTraining ResNet')\n",
        "    train_hist['per_epoch_ptimes'].clear()\n",
        "    start_time = time.time()\n",
        "    now = datetime.datetime.now()\n",
        "    dt_string = now.strftime(\"%d/%m/%Y %H:%M:%S\")\n",
        "    print('Training starting ',dt_string)\n",
        "    for epoch in range(epochs):\n",
        "        Train_Loss = []\n",
        "        epoch_start_time = time.time()\n",
        "        now = datetime.datetime.now()\n",
        "        print('Epoch %d starting at: %02d:%02d:%02d'%(epoch+1, now.hour, now.minute, now.second))\n",
        "        ResNet_net.train()\n",
        "        # Training\n",
        "        for (train_images, train_labels) in tqdm(train_loader):\n",
        "            train_images = train_images.to(device)\n",
        "            train_labels = train_labels.to(device)\n",
        "\n",
        "            # zero the parameter gradients\n",
        "            optimizer.zero_grad()\n",
        "\n",
        "            # forward + backward + optimize\n",
        "            train_outputs = ResNet_net(train_images)\n",
        "            train_loss = criterion(train_outputs, train_labels)\n",
        "            train_loss.backward()\n",
        "            optimizer.step()\n",
        "\n",
        "            Train_Loss.append(train_loss.item())\n",
        "        \n",
        "        ResNet_net.eval()\n",
        "        Val_Loss = []\n",
        "        total = 0\n",
        "        correct = 0\n",
        "        # Validation\n",
        "        for (val_images, val_labels) in tqdm(validation_loader):\n",
        "            val_images = val_images.to(device)\n",
        "            val_labels = val_labels.to(device)\n",
        "\n",
        "            # calculate outputs by running images through the network\n",
        "            val_outputs = ResNet_net(val_images)\n",
        "            val_loss = criterion(val_outputs, val_labels)\n",
        "            \n",
        "            Val_Loss.append(val_loss.item())\n",
        "\n",
        "            # apply softmax function to get probabilities\n",
        "            s = nn.Softmax(dim=1)\n",
        "            probabilities = s(val_outputs)\n",
        "            # class with highest probability is the predicted class\n",
        "            _, predicted = torch.max(probabilities.data, 1)\n",
        "            total += val_labels.size(0)\n",
        "            correct += (predicted == val_labels).sum().item()\n",
        "\n",
        "        # validation accuracy\n",
        "        epoch_accuracy = 100 * correct / total\n",
        "\n",
        "        # Learning Rate Adaptation step\n",
        "        # changes LR on flat plateau\n",
        "        scheduler.step(epoch_accuracy)\n",
        "\n",
        "        epoch_loss = np.mean(Train_Loss)  # mean generator loss for the epoch\n",
        "        epoch_end_time = time.time()\n",
        "        per_epoch_ptime = epoch_end_time - epoch_start_time\n",
        "\n",
        "        print(\"\\nEpoch %d of %d, %.2f s, with average training loss: %.8f, and validation loss: %.8f, validation accuracy: %.2f\" \n",
        "              % (epoch + 1, epochs, per_epoch_ptime, epoch_loss, np.mean(Val_Loss), epoch_accuracy))\n",
        "\n",
        "        # record the loss for every epoch\n",
        "        train_hist['ResNet_losses'].append(epoch_loss)\n",
        "        train_hist['ResNet_accuracy'].append(epoch_accuracy)\n",
        "        train_hist['per_epoch_ptimes'].append(per_epoch_ptime)\n",
        "\n",
        "    now = datetime.datetime.now()\n",
        "    dt_string = now.strftime(\"%d/%m/%Y %H:%M:%S\")\n",
        "    print('Finished Training ',str(dt_string))\n",
        "\n",
        "    end_time = time.time()\n",
        "    total_ptime = end_time - start_time\n",
        "    train_hist['total_ptime'].append(total_ptime)\n",
        "\n",
        "    print('Avg per epoch ptime: %.2f, total %d epochs ptime: %.2f' % (np.mean(train_hist['per_epoch_ptimes']), epochs, total_ptime))"
      ],
      "execution_count": null,
      "outputs": []
    },
    {
      "cell_type": "markdown",
      "metadata": {
        "id": "gKWaIaWk75l3"
      },
      "source": [
        "### GoogLeNet Model Methods"
      ]
    },
    {
      "cell_type": "code",
      "metadata": {
        "id": "Bc5k9h537_-P"
      },
      "source": [
        "def LoadGLNet(device):\n",
        "    GLNet_net = torch.hub.load('pytorch/vision:v0.9.0', 'googlenet', pretrained=False)\n",
        "    GLNet_net = GLNet_net.to(device)\n",
        "\n",
        "    GLNet_optimizer = optim.SGD(GLNet_net.parameters(), lr=0.01, momentum=0.9)\n",
        "    GLNet_scheduler = optim.lr_scheduler.StepLR(GLNet_optimizer, step_size=8, gamma=0.96, verbose=True)\n",
        "\n",
        "    return GLNet_net, GLNet_optimizer, GLNet_scheduler\n",
        "\n",
        "def TrainGLNet(GLNet_net, optimizer, scheduler, criterion, epochs, train_loader):\n",
        "    print('\\nTraining GoogLeNet')\n",
        "    train_hist['per_epoch_ptimes'].clear()\n",
        "    start_time = time.time()\n",
        "    now = datetime.datetime.now()\n",
        "    dt_string = now.strftime(\"%d/%m/%Y %H:%M:%S\")\n",
        "    print('Training starting ',dt_string)\n",
        "    for epoch in range(epochs):\n",
        "        # Record epoch start time\n",
        "        epoch_start_time = time.time()\n",
        "        now = datetime.datetime.now()\n",
        "        print('Epoch %d starting at: %02d:%02d:%02d'%(epoch+1, now.hour, now.minute, now.second))\n",
        "\n",
        "        GLNet_net.train()\n",
        "        Train_Loss = []\n",
        "        # Training\n",
        "        for (train_images, train_labels) in tqdm(train_loader):\n",
        "            train_images = train_images.to(device)\n",
        "            train_labels = train_labels.to(device)\n",
        "\n",
        "            # zero the parameter gradients\n",
        "            optimizer.zero_grad()\n",
        "\n",
        "            # forward + backward + optimize\n",
        "            train_outputs = GLNet_net(train_images)\n",
        "            train_outputs = train_outputs.logits\n",
        "            train_loss = criterion(train_outputs, train_labels)\n",
        "            train_loss.backward()\n",
        "            optimizer.step()\n",
        "\n",
        "            Train_Loss.append(train_loss.item())\n",
        "\n",
        "        GLNet_net.eval()\n",
        "        Val_Loss = []\n",
        "        total = 0\n",
        "        correct = 0\n",
        "        # Validation\n",
        "        for (val_images, val_labels) in tqdm(validation_loader):\n",
        "            val_images = val_images.to(device)\n",
        "            val_labels = val_labels.to(device)\n",
        "\n",
        "            # calculate outputs by running images through the network\n",
        "            val_outputs = GLNet_net(val_images)\n",
        "\n",
        "            # apply softmax function to get probabilities\n",
        "            s = nn.Softmax(dim=1)\n",
        "            probabilities = s(val_outputs)\n",
        "            # class with highest probability is the predicted class\n",
        "            _, predicted = torch.max(probabilities.data, 1)\n",
        "            total += val_labels.size(0)\n",
        "            correct += (predicted == val_labels).sum().item()\n",
        "\n",
        "        # validation accuracy\n",
        "        epoch_accuracy = 100 * correct / total\n",
        "\n",
        "        # Learning Rate Adaptation step\n",
        "        # changes LR every 8 epochs\n",
        "        scheduler.step()\n",
        "\n",
        "        epoch_loss = np.mean(Train_Loss)  # mean generator loss for the epoch\n",
        "        epoch_end_time = time.time()\n",
        "        per_epoch_ptime = epoch_end_time - epoch_start_time\n",
        "\n",
        "        print(\"\\nEpoch %d of %d, %.2f s, with average training loss: %.8f, and validation loss: %.8f, validation accuracy: %.2f\" \n",
        "              % (epoch + 1, epochs, per_epoch_ptime, epoch_loss, np.mean(Val_Loss), epoch_accuracy))\n",
        "\n",
        "        # record the loss for every epoch\n",
        "        train_hist['GGL_Net_losses'].append(epoch_loss)\n",
        "        train_hist['GGL_Net_accuracy'].append(epoch_accuracy)\n",
        "        train_hist['per_epoch_ptimes'].append(per_epoch_ptime)\n",
        "\n",
        "    now = datetime.datetime.now()\n",
        "    dt_string = now.strftime(\"%d/%m/%Y %H:%M:%S\")\n",
        "    print('Finished Training ',str(dt_string))\n",
        "\n",
        "    end_time = time.time()\n",
        "    total_ptime = end_time - start_time\n",
        "    train_hist['total_ptime'].append(total_ptime)\n",
        "\n",
        "    print('Avg per epoch ptime: %.2f, total %d epochs ptime: %.2f' % (np.mean(train_hist['per_epoch_ptimes']), epochs, total_ptime))"
      ],
      "execution_count": null,
      "outputs": []
    },
    {
      "cell_type": "markdown",
      "metadata": {
        "id": "_jHH-i_AopzY"
      },
      "source": [
        "## Train on MNIST"
      ]
    },
    {
      "cell_type": "markdown",
      "metadata": {
        "id": "ef0gK4QpRWX4"
      },
      "source": [
        "### Data Loading and Processing"
      ]
    },
    {
      "cell_type": "code",
      "metadata": {
        "id": "EAJdjwcURVf0"
      },
      "source": [
        "data_dir = './MNIST_data/'\n",
        "\n",
        "# training parameters\n",
        "batch_size = 256\n",
        "epochs = 100\n",
        "\n",
        "# construct the datasets and data loaders\n",
        "transform = transforms.Compose([transforms.Grayscale(3),\n",
        "                                transforms.Resize(64),\n",
        "                                transforms.RandomHorizontalFlip(0.5),\n",
        "                                transforms.ToTensor(),\n",
        "                                transforms.Normalize((0.5, 0.5, 0.5), (0.5, 0.5, 0.5))])\n",
        "\n",
        "tv_data = datasets.MNIST(root=data_dir, train=True, transform=transform, download=True)\n",
        "train_data, validation_data = torch.utils.data.random_split(tv_data, [50000, 10000])\n",
        "\n",
        "train_loader = DataLoader(dataset=train_data, batch_size=batch_size, shuffle=True)\n",
        "validation_loader = DataLoader(dataset=validation_data, batch_size=batch_size, shuffle=True)\n",
        "\n",
        "test_data = datasets.MNIST(root=data_dir, train=False, transform=transform, download=True)\n",
        "test_loader = DataLoader(dataset=test_data, batch_size=batch_size, shuffle=True)"
      ],
      "execution_count": null,
      "outputs": []
    },
    {
      "cell_type": "markdown",
      "metadata": {
        "id": "xrEUrveORvRi"
      },
      "source": [
        "### Training Setup"
      ]
    },
    {
      "cell_type": "code",
      "metadata": {
        "id": "dN_HpJ6eRIuh"
      },
      "source": [
        "# tracking variables\n",
        "train_hist = {}\n",
        "train_hist['VGG_losses'] = []\n",
        "train_hist['VGG_accuracy'] = []\n",
        "train_hist['ResNet_losses'] = []\n",
        "train_hist['ResNet_accuracy'] = []\n",
        "train_hist['GGL_Net_losses'] = []\n",
        "train_hist['GGL_Net_accuracy'] = []\n",
        "train_hist['per_epoch_ptimes'] = []\n",
        "train_hist['total_ptime'] = []\n",
        "\n",
        "# Loss function\n",
        "criterion = nn.CrossEntropyLoss().to(device)\n",
        "\n",
        "# Classes\n",
        "classes = ('0', '1', '2', '3', '4', '5', '6', '7', '8', '9')"
      ],
      "execution_count": null,
      "outputs": []
    },
    {
      "cell_type": "markdown",
      "metadata": {
        "id": "bPpgVF4iCdZh"
      },
      "source": [
        "### VGG Training"
      ]
    },
    {
      "cell_type": "code",
      "metadata": {
        "id": "dbpcOGUlopTV"
      },
      "source": [
        "# Load and trian VGG\n",
        "net, optimizer, scheduler = LoadVGG(device)\n",
        "TrainVGG(net, optimizer, scheduler, criterion, epochs, train_loader, validation_loader)\n",
        "torch.save(net.state_dict(), model_dir + '/VGG_MNIST_model.pth')\n",
        "del net\n",
        "del optimizer\n",
        "del scheduler"
      ],
      "execution_count": null,
      "outputs": []
    },
    {
      "cell_type": "markdown",
      "metadata": {
        "id": "BOwQu7oxCiax"
      },
      "source": [
        "### ResNet Training"
      ]
    },
    {
      "cell_type": "code",
      "metadata": {
        "id": "t-049DvPhleM"
      },
      "source": [
        "# Load and train ResNet\n",
        "net, optimizer, scheduler = LoadResNet(device)\n",
        "TrainResNet(net, optimizer, scheduler, criterion, epochs, train_loader, validation_loader)\n",
        "torch.save(net.state_dict(), model_dir + '/ResNet_MNIST_model.pth')\n",
        "del net\n",
        "del optimizer\n",
        "del scheduler"
      ],
      "execution_count": null,
      "outputs": []
    },
    {
      "cell_type": "markdown",
      "metadata": {
        "id": "cojXXT6OCmSO"
      },
      "source": [
        "### GoogLeNet Training"
      ]
    },
    {
      "cell_type": "code",
      "metadata": {
        "id": "HmGVlSF2hny9"
      },
      "source": [
        "# Load and train GoogLeNet\n",
        "net, optimizer, scheduler = LoadGLNet(device)\n",
        "TrainGLNet(net, optimizer, scheduler, criterion, epochs, train_loader)\n",
        "torch.save(net.state_dict(), model_dir + '/GoogLeNet_MNIST_model.pth')\n",
        "del net\n",
        "del optimizer\n",
        "del scheduler"
      ],
      "execution_count": null,
      "outputs": []
    },
    {
      "cell_type": "markdown",
      "metadata": {
        "id": "cV-9-K8zSfSj"
      },
      "source": [
        "### Save training results"
      ]
    },
    {
      "cell_type": "code",
      "metadata": {
        "id": "sOYLNPPwhqNk"
      },
      "source": [
        "# Show training results\n",
        "show_train_hist(train_hist, save=True, path=save_dir + '/MNIST_train_hist.png')\n",
        "\n",
        "# Add zeros at the beginning of data for graph 'smoothness'\n",
        "train_hist['VGG_accuracy'].insert(0, 0)\n",
        "train_hist['ResNet_accuracy'].insert(0, 0)\n",
        "train_hist['GGL_Net_accuracy'].insert(0, 0)\n",
        "# Show accuracy results\n",
        "show_accuracy_plot(train_hist, save=True, path=save_dir + '/MNIST_accuracy_hist.png')"
      ],
      "execution_count": null,
      "outputs": []
    },
    {
      "cell_type": "markdown",
      "metadata": {
        "id": "BHIpMQ4KPRjG"
      },
      "source": [
        "## Train on CIFAR10"
      ]
    },
    {
      "cell_type": "markdown",
      "metadata": {
        "id": "JDheN0ASSS0i"
      },
      "source": [
        "### Data Loading and Processing"
      ]
    },
    {
      "cell_type": "code",
      "metadata": {
        "colab": {
          "base_uri": "https://localhost:8080/"
        },
        "id": "O0C7uy3PNiX9",
        "outputId": "c9360135-93cc-4ffb-971e-2edf94367d1b"
      },
      "source": [
        "data_dir = './CIFAR10_data/'\n",
        "\n",
        "# training parameters\n",
        "batch_size = 256\n",
        "epochs = 100\n",
        "\n",
        "# construct the datasets and data loaders\n",
        "transform = transforms.Compose([transforms.Resize(64),\n",
        "                                transforms.RandomHorizontalFlip(0.5),\n",
        "                                transforms.ToTensor(),\n",
        "                                transforms.Normalize((0.5, 0.5, 0.5), (0.5, 0.5, 0.5))])\n",
        "tv_data = datasets.CIFAR10(root=data_dir, train=True, transform=transform, download=True)\n",
        "train_data, validation_data = torch.utils.data.random_split(tv_data, [40000, 10000])\n",
        "\n",
        "train_loader = DataLoader(dataset=train_data, batch_size=batch_size, shuffle=True)\n",
        "validation_loader = DataLoader(dataset=validation_data, batch_size=batch_size, shuffle=True)\n",
        "\n",
        "test_data = datasets.CIFAR10(root=data_dir, train=False, transform=transform, download=True)\n",
        "test_loader = DataLoader(dataset=test_data, batch_size=batch_size, shuffle=True)"
      ],
      "execution_count": null,
      "outputs": [
        {
          "output_type": "stream",
          "text": [
            "Files already downloaded and verified\n"
          ],
          "name": "stdout"
        }
      ]
    },
    {
      "cell_type": "markdown",
      "metadata": {
        "id": "ICq4GBpYSZ7a"
      },
      "source": [
        "### Training Setup"
      ]
    },
    {
      "cell_type": "code",
      "metadata": {
        "id": "5INNOsooSQxt"
      },
      "source": [
        "train_hist = {}\n",
        "train_hist['VGG_losses'] = []\n",
        "train_hist['VGG_accuracy'] = []\n",
        "train_hist['ResNet_losses'] = []\n",
        "train_hist['ResNet_accuracy'] = []\n",
        "train_hist['GGL_Net_losses'] = []\n",
        "train_hist['GGL_Net_accuracy'] = []\n",
        "train_hist['per_epoch_ptimes'] = []\n",
        "train_hist['total_ptime'] = []\n",
        "\n",
        "# Loss function\n",
        "criterion = nn.CrossEntropyLoss().to(device)\n",
        "\n",
        "# Classes\n",
        "classes = ('plane', 'car', 'bird', 'cat',\n",
        "           'deer', 'dog', 'frog', 'horse', 'ship', 'truck')"
      ],
      "execution_count": null,
      "outputs": []
    },
    {
      "cell_type": "markdown",
      "metadata": {
        "id": "YVi-0kgfT4ed"
      },
      "source": [
        "### VGG Training"
      ]
    },
    {
      "cell_type": "code",
      "metadata": {
        "colab": {
          "base_uri": "https://localhost:8080/"
        },
        "id": "SrtKEWytOvTl",
        "outputId": "9f129f38-6565-4eaa-b066-e75cb7af6022"
      },
      "source": [
        "net, optimizer, scheduler = LoadVGG(device)\n",
        "TrainVGG(net, optimizer, scheduler, criterion, epochs, train_loader, validation_loader)\n",
        "torch.save(net.state_dict(), model_dir + '/VGG_CIFAR10_model.pth')\n",
        "del net\n",
        "del optimizer\n",
        "del scheduler"
      ],
      "execution_count": null,
      "outputs": [
        {
          "output_type": "stream",
          "text": [
            "Using cache found in /root/.cache/torch/hub/pytorch_vision_v0.9.0\n",
            "  0%|          | 0/157 [00:00<?, ?it/s]"
          ],
          "name": "stderr"
        },
        {
          "output_type": "stream",
          "text": [
            "\n",
            "Training VGG\n",
            "Training starting  10/05/2021 18:24:05\n",
            "Epoch 1 starting at: 18:24:05\n"
          ],
          "name": "stdout"
        },
        {
          "output_type": "stream",
          "text": [
            "100%|██████████| 157/157 [00:36<00:00,  4.25it/s]\n",
            "100%|██████████| 40/40 [00:05<00:00,  7.67it/s]\n",
            "  0%|          | 0/157 [00:00<?, ?it/s]"
          ],
          "name": "stderr"
        },
        {
          "output_type": "stream",
          "text": [
            "\n",
            "Epoch 1 of 100, 42.19 s, with average training loss: 3.57973525, and validation loss: 2.32739629, validation accuracy: 9.91\n",
            "Epoch 2 starting at: 18:24:47\n"
          ],
          "name": "stdout"
        },
        {
          "output_type": "stream",
          "text": [
            "100%|██████████| 157/157 [00:36<00:00,  4.26it/s]\n",
            "100%|██████████| 40/40 [00:05<00:00,  7.67it/s]\n",
            "  0%|          | 0/157 [00:00<?, ?it/s]"
          ],
          "name": "stderr"
        },
        {
          "output_type": "stream",
          "text": [
            "\n",
            "Epoch 2 of 100, 42.11 s, with average training loss: 2.33044851, and validation loss: 2.31533785, validation accuracy: 9.91\n",
            "Epoch 3 starting at: 18:25:29\n"
          ],
          "name": "stdout"
        },
        {
          "output_type": "stream",
          "text": [
            "100%|██████████| 157/157 [00:36<00:00,  4.24it/s]\n",
            "100%|██████████| 40/40 [00:05<00:00,  7.67it/s]\n",
            "  0%|          | 0/157 [00:00<?, ?it/s]"
          ],
          "name": "stderr"
        },
        {
          "output_type": "stream",
          "text": [
            "\n",
            "Epoch 3 of 100, 42.21 s, with average training loss: 2.32754900, and validation loss: 2.31475117, validation accuracy: 9.91\n",
            "Epoch 4 starting at: 18:26:11\n"
          ],
          "name": "stdout"
        },
        {
          "output_type": "stream",
          "text": [
            "100%|██████████| 157/157 [00:36<00:00,  4.25it/s]\n",
            "100%|██████████| 40/40 [00:05<00:00,  7.68it/s]\n",
            "  0%|          | 0/157 [00:00<?, ?it/s]"
          ],
          "name": "stderr"
        },
        {
          "output_type": "stream",
          "text": [
            "\n",
            "Epoch 4 of 100, 42.18 s, with average training loss: 2.32301941, and validation loss: 2.29811178, validation accuracy: 10.04\n",
            "Epoch 5 starting at: 18:26:53\n"
          ],
          "name": "stdout"
        },
        {
          "output_type": "stream",
          "text": [
            "100%|██████████| 157/157 [00:36<00:00,  4.25it/s]\n",
            "100%|██████████| 40/40 [00:05<00:00,  7.69it/s]\n",
            "  0%|          | 0/157 [00:00<?, ?it/s]"
          ],
          "name": "stderr"
        },
        {
          "output_type": "stream",
          "text": [
            "\n",
            "Epoch 5 of 100, 42.18 s, with average training loss: 2.14819308, and validation loss: 2.00733274, validation accuracy: 20.24\n",
            "Epoch 6 starting at: 18:27:36\n"
          ],
          "name": "stdout"
        },
        {
          "output_type": "stream",
          "text": [
            "100%|██████████| 157/157 [00:36<00:00,  4.25it/s]\n",
            "100%|██████████| 40/40 [00:05<00:00,  7.68it/s]\n",
            "  0%|          | 0/157 [00:00<?, ?it/s]"
          ],
          "name": "stderr"
        },
        {
          "output_type": "stream",
          "text": [
            "\n",
            "Epoch 6 of 100, 42.17 s, with average training loss: 1.95340302, and validation loss: 1.91343895, validation accuracy: 23.19\n",
            "Epoch 7 starting at: 18:28:18\n"
          ],
          "name": "stdout"
        },
        {
          "output_type": "stream",
          "text": [
            "100%|██████████| 157/157 [00:36<00:00,  4.27it/s]\n",
            "100%|██████████| 40/40 [00:05<00:00,  7.76it/s]\n",
            "  0%|          | 0/157 [00:00<?, ?it/s]"
          ],
          "name": "stderr"
        },
        {
          "output_type": "stream",
          "text": [
            "\n",
            "Epoch 7 of 100, 41.97 s, with average training loss: 1.83104673, and validation loss: 1.76199304, validation accuracy: 30.85\n",
            "Epoch 8 starting at: 18:29:00\n"
          ],
          "name": "stdout"
        },
        {
          "output_type": "stream",
          "text": [
            "100%|██████████| 157/157 [00:37<00:00,  4.23it/s]\n",
            "100%|██████████| 40/40 [00:05<00:00,  7.27it/s]\n",
            "  0%|          | 0/157 [00:00<?, ?it/s]"
          ],
          "name": "stderr"
        },
        {
          "output_type": "stream",
          "text": [
            "\n",
            "Epoch 8 of 100, 42.59 s, with average training loss: 1.68099620, and validation loss: 1.64729837, validation accuracy: 36.68\n",
            "Epoch 9 starting at: 18:29:42\n"
          ],
          "name": "stdout"
        },
        {
          "output_type": "stream",
          "text": [
            "100%|██████████| 157/157 [00:37<00:00,  4.14it/s]\n",
            "100%|██████████| 40/40 [00:05<00:00,  7.34it/s]\n",
            "  0%|          | 0/157 [00:00<?, ?it/s]"
          ],
          "name": "stderr"
        },
        {
          "output_type": "stream",
          "text": [
            "\n",
            "Epoch 9 of 100, 43.36 s, with average training loss: 1.57004640, and validation loss: 1.47947617, validation accuracy: 44.10\n",
            "Epoch 10 starting at: 18:30:26\n"
          ],
          "name": "stdout"
        },
        {
          "output_type": "stream",
          "text": [
            "100%|██████████| 157/157 [00:37<00:00,  4.22it/s]\n",
            "100%|██████████| 40/40 [00:05<00:00,  7.58it/s]\n",
            "  0%|          | 0/157 [00:00<?, ?it/s]"
          ],
          "name": "stderr"
        },
        {
          "output_type": "stream",
          "text": [
            "\n",
            "Epoch 10 of 100, 42.46 s, with average training loss: 1.45155743, and validation loss: 1.39619043, validation accuracy: 48.78\n",
            "Epoch 11 starting at: 18:31:08\n"
          ],
          "name": "stdout"
        },
        {
          "output_type": "stream",
          "text": [
            "100%|██████████| 157/157 [00:37<00:00,  4.23it/s]\n",
            "100%|██████████| 40/40 [00:05<00:00,  7.66it/s]\n",
            "  0%|          | 0/157 [00:00<?, ?it/s]"
          ],
          "name": "stderr"
        },
        {
          "output_type": "stream",
          "text": [
            "\n",
            "Epoch 11 of 100, 42.31 s, with average training loss: 1.29643775, and validation loss: 1.19179477, validation accuracy: 57.40\n",
            "Epoch 12 starting at: 18:31:50\n"
          ],
          "name": "stdout"
        },
        {
          "output_type": "stream",
          "text": [
            "100%|██████████| 157/157 [00:37<00:00,  4.24it/s]\n",
            "100%|██████████| 40/40 [00:05<00:00,  7.66it/s]\n",
            "  0%|          | 0/157 [00:00<?, ?it/s]"
          ],
          "name": "stderr"
        },
        {
          "output_type": "stream",
          "text": [
            "\n",
            "Epoch 12 of 100, 42.26 s, with average training loss: 1.18366904, and validation loss: 1.17562362, validation accuracy: 57.59\n",
            "Epoch 13 starting at: 18:32:33\n"
          ],
          "name": "stdout"
        },
        {
          "output_type": "stream",
          "text": [
            "100%|██████████| 157/157 [00:37<00:00,  4.23it/s]\n",
            "100%|██████████| 40/40 [00:05<00:00,  7.66it/s]\n",
            "  0%|          | 0/157 [00:00<?, ?it/s]"
          ],
          "name": "stderr"
        },
        {
          "output_type": "stream",
          "text": [
            "\n",
            "Epoch 13 of 100, 42.31 s, with average training loss: 1.06345467, and validation loss: 1.07130459, validation accuracy: 61.42\n",
            "Epoch 14 starting at: 18:33:15\n"
          ],
          "name": "stdout"
        },
        {
          "output_type": "stream",
          "text": [
            "100%|██████████| 157/157 [00:37<00:00,  4.24it/s]\n",
            "100%|██████████| 40/40 [00:05<00:00,  7.65it/s]\n",
            "  0%|          | 0/157 [00:00<?, ?it/s]"
          ],
          "name": "stderr"
        },
        {
          "output_type": "stream",
          "text": [
            "\n",
            "Epoch 14 of 100, 42.28 s, with average training loss: 0.95562899, and validation loss: 1.05692634, validation accuracy: 62.95\n",
            "Epoch 15 starting at: 18:33:57\n"
          ],
          "name": "stdout"
        },
        {
          "output_type": "stream",
          "text": [
            "100%|██████████| 157/157 [00:37<00:00,  4.23it/s]\n",
            "100%|██████████| 40/40 [00:05<00:00,  7.46it/s]\n",
            "  0%|          | 0/157 [00:00<?, ?it/s]"
          ],
          "name": "stderr"
        },
        {
          "output_type": "stream",
          "text": [
            "\n",
            "Epoch 15 of 100, 42.47 s, with average training loss: 0.87183286, and validation loss: 0.86452535, validation accuracy: 69.00\n",
            "Epoch 16 starting at: 18:34:40\n"
          ],
          "name": "stdout"
        },
        {
          "output_type": "stream",
          "text": [
            "100%|██████████| 157/157 [00:37<00:00,  4.17it/s]\n",
            "100%|██████████| 40/40 [00:05<00:00,  7.39it/s]\n",
            "  0%|          | 0/157 [00:00<?, ?it/s]"
          ],
          "name": "stderr"
        },
        {
          "output_type": "stream",
          "text": [
            "\n",
            "Epoch 16 of 100, 43.03 s, with average training loss: 0.78986077, and validation loss: 0.86183140, validation accuracy: 69.26\n",
            "Epoch 17 starting at: 18:35:23\n"
          ],
          "name": "stdout"
        },
        {
          "output_type": "stream",
          "text": [
            "100%|██████████| 157/157 [00:37<00:00,  4.17it/s]\n",
            "100%|██████████| 40/40 [00:05<00:00,  7.39it/s]\n",
            "  0%|          | 0/157 [00:00<?, ?it/s]"
          ],
          "name": "stderr"
        },
        {
          "output_type": "stream",
          "text": [
            "\n",
            "Epoch 17 of 100, 43.10 s, with average training loss: 0.72385142, and validation loss: 0.74267631, validation accuracy: 73.83\n",
            "Epoch 18 starting at: 18:36:06\n"
          ],
          "name": "stdout"
        },
        {
          "output_type": "stream",
          "text": [
            "100%|██████████| 157/157 [00:37<00:00,  4.17it/s]\n",
            "100%|██████████| 40/40 [00:05<00:00,  7.20it/s]\n",
            "  0%|          | 0/157 [00:00<?, ?it/s]"
          ],
          "name": "stderr"
        },
        {
          "output_type": "stream",
          "text": [
            "\n",
            "Epoch 18 of 100, 43.25 s, with average training loss: 0.65079352, and validation loss: 0.74375546, validation accuracy: 74.55\n",
            "Epoch 19 starting at: 18:36:49\n"
          ],
          "name": "stdout"
        },
        {
          "output_type": "stream",
          "text": [
            "100%|██████████| 157/157 [00:37<00:00,  4.15it/s]\n",
            "100%|██████████| 40/40 [00:05<00:00,  7.40it/s]\n",
            "  0%|          | 0/157 [00:00<?, ?it/s]"
          ],
          "name": "stderr"
        },
        {
          "output_type": "stream",
          "text": [
            "\n",
            "Epoch 19 of 100, 43.26 s, with average training loss: 0.60036475, and validation loss: 0.65761640, validation accuracy: 77.27\n",
            "Epoch 20 starting at: 18:37:32\n"
          ],
          "name": "stdout"
        },
        {
          "output_type": "stream",
          "text": [
            "100%|██████████| 157/157 [00:37<00:00,  4.14it/s]\n",
            "100%|██████████| 40/40 [00:05<00:00,  7.20it/s]\n",
            "  0%|          | 0/157 [00:00<?, ?it/s]"
          ],
          "name": "stderr"
        },
        {
          "output_type": "stream",
          "text": [
            "\n",
            "Epoch 20 of 100, 43.49 s, with average training loss: 0.55302676, and validation loss: 0.75405187, validation accuracy: 74.95\n",
            "Epoch 21 starting at: 18:38:16\n"
          ],
          "name": "stdout"
        },
        {
          "output_type": "stream",
          "text": [
            "100%|██████████| 157/157 [00:37<00:00,  4.16it/s]\n",
            "100%|██████████| 40/40 [00:05<00:00,  7.36it/s]\n",
            "  0%|          | 0/157 [00:00<?, ?it/s]"
          ],
          "name": "stderr"
        },
        {
          "output_type": "stream",
          "text": [
            "\n",
            "Epoch 21 of 100, 43.22 s, with average training loss: 0.50766724, and validation loss: 0.62806178, validation accuracy: 79.00\n",
            "Epoch 22 starting at: 18:38:59\n"
          ],
          "name": "stdout"
        },
        {
          "output_type": "stream",
          "text": [
            "100%|██████████| 157/157 [00:37<00:00,  4.13it/s]\n",
            "100%|██████████| 40/40 [00:05<00:00,  7.25it/s]\n",
            "  0%|          | 0/157 [00:00<?, ?it/s]"
          ],
          "name": "stderr"
        },
        {
          "output_type": "stream",
          "text": [
            "\n",
            "Epoch 22 of 100, 43.51 s, with average training loss: 0.46281731, and validation loss: 0.60959800, validation accuracy: 79.39\n",
            "Epoch 23 starting at: 18:39:43\n"
          ],
          "name": "stdout"
        },
        {
          "output_type": "stream",
          "text": [
            "100%|██████████| 157/157 [00:37<00:00,  4.16it/s]\n",
            "100%|██████████| 40/40 [00:05<00:00,  7.37it/s]\n",
            "  0%|          | 0/157 [00:00<?, ?it/s]"
          ],
          "name": "stderr"
        },
        {
          "output_type": "stream",
          "text": [
            "\n",
            "Epoch 23 of 100, 43.16 s, with average training loss: 0.43246825, and validation loss: 0.63606767, validation accuracy: 78.95\n",
            "Epoch 24 starting at: 18:40:26\n"
          ],
          "name": "stdout"
        },
        {
          "output_type": "stream",
          "text": [
            "100%|██████████| 157/157 [00:37<00:00,  4.16it/s]\n",
            "100%|██████████| 40/40 [00:05<00:00,  7.32it/s]\n",
            "  0%|          | 0/157 [00:00<?, ?it/s]"
          ],
          "name": "stderr"
        },
        {
          "output_type": "stream",
          "text": [
            "\n",
            "Epoch 24 of 100, 43.26 s, with average training loss: 0.39456002, and validation loss: 0.59417809, validation accuracy: 80.60\n",
            "Epoch 25 starting at: 18:41:09\n"
          ],
          "name": "stdout"
        },
        {
          "output_type": "stream",
          "text": [
            "100%|██████████| 157/157 [00:37<00:00,  4.17it/s]\n",
            "100%|██████████| 40/40 [00:05<00:00,  7.36it/s]\n",
            "  0%|          | 0/157 [00:00<?, ?it/s]"
          ],
          "name": "stderr"
        },
        {
          "output_type": "stream",
          "text": [
            "\n",
            "Epoch 25 of 100, 43.08 s, with average training loss: 0.35898657, and validation loss: 0.61492821, validation accuracy: 80.48\n",
            "Epoch 26 starting at: 18:41:52\n"
          ],
          "name": "stdout"
        },
        {
          "output_type": "stream",
          "text": [
            "100%|██████████| 157/157 [00:38<00:00,  4.11it/s]\n",
            "100%|██████████| 40/40 [00:05<00:00,  7.39it/s]\n",
            "  0%|          | 0/157 [00:00<?, ?it/s]"
          ],
          "name": "stderr"
        },
        {
          "output_type": "stream",
          "text": [
            "\n",
            "Epoch 26 of 100, 43.59 s, with average training loss: 0.32631072, and validation loss: 0.55219368, validation accuracy: 81.80\n",
            "Epoch 27 starting at: 18:42:36\n"
          ],
          "name": "stdout"
        },
        {
          "output_type": "stream",
          "text": [
            "100%|██████████| 157/157 [00:37<00:00,  4.17it/s]\n",
            "100%|██████████| 40/40 [00:05<00:00,  7.42it/s]\n",
            "  0%|          | 0/157 [00:00<?, ?it/s]"
          ],
          "name": "stderr"
        },
        {
          "output_type": "stream",
          "text": [
            "\n",
            "Epoch 27 of 100, 43.03 s, with average training loss: 0.28888973, and validation loss: 0.56215184, validation accuracy: 83.14\n",
            "Epoch 28 starting at: 18:43:19\n"
          ],
          "name": "stdout"
        },
        {
          "output_type": "stream",
          "text": [
            "100%|██████████| 157/157 [00:37<00:00,  4.17it/s]\n",
            "100%|██████████| 40/40 [00:05<00:00,  7.47it/s]\n",
            "  0%|          | 0/157 [00:00<?, ?it/s]"
          ],
          "name": "stderr"
        },
        {
          "output_type": "stream",
          "text": [
            "\n",
            "Epoch 28 of 100, 43.03 s, with average training loss: 0.27279633, and validation loss: 0.53561619, validation accuracy: 82.74\n",
            "Epoch 29 starting at: 18:44:02\n"
          ],
          "name": "stdout"
        },
        {
          "output_type": "stream",
          "text": [
            "100%|██████████| 157/157 [00:37<00:00,  4.17it/s]\n",
            "100%|██████████| 40/40 [00:05<00:00,  7.42it/s]\n",
            "  0%|          | 0/157 [00:00<?, ?it/s]"
          ],
          "name": "stderr"
        },
        {
          "output_type": "stream",
          "text": [
            "\n",
            "Epoch 29 of 100, 43.07 s, with average training loss: 0.24874746, and validation loss: 0.65001542, validation accuracy: 80.81\n",
            "Epoch 30 starting at: 18:44:45\n"
          ],
          "name": "stdout"
        },
        {
          "output_type": "stream",
          "text": [
            "100%|██████████| 157/157 [00:37<00:00,  4.20it/s]\n",
            "100%|██████████| 40/40 [00:05<00:00,  7.55it/s]\n",
            "  0%|          | 0/157 [00:00<?, ?it/s]"
          ],
          "name": "stderr"
        },
        {
          "output_type": "stream",
          "text": [
            "\n",
            "Epoch 30 of 100, 42.70 s, with average training loss: 0.23696875, and validation loss: 0.56540897, validation accuracy: 82.41\n",
            "Epoch 31 starting at: 18:45:28\n"
          ],
          "name": "stdout"
        },
        {
          "output_type": "stream",
          "text": [
            "100%|██████████| 157/157 [00:37<00:00,  4.19it/s]\n",
            "100%|██████████| 40/40 [00:05<00:00,  7.50it/s]\n",
            "  0%|          | 0/157 [00:00<?, ?it/s]"
          ],
          "name": "stderr"
        },
        {
          "output_type": "stream",
          "text": [
            "\n",
            "Epoch 31 of 100, 42.85 s, with average training loss: 0.21743708, and validation loss: 0.58156001, validation accuracy: 83.01\n",
            "Epoch 32 starting at: 18:46:10\n"
          ],
          "name": "stdout"
        },
        {
          "output_type": "stream",
          "text": [
            "100%|██████████| 157/157 [00:37<00:00,  4.16it/s]\n",
            "100%|██████████| 40/40 [00:05<00:00,  7.34it/s]\n",
            "  0%|          | 0/157 [00:00<?, ?it/s]"
          ],
          "name": "stderr"
        },
        {
          "output_type": "stream",
          "text": [
            "\n",
            "Epoch 32 of 100, 43.16 s, with average training loss: 0.19314763, and validation loss: 0.64465892, validation accuracy: 82.21\n",
            "Epoch 33 starting at: 18:46:54\n"
          ],
          "name": "stdout"
        },
        {
          "output_type": "stream",
          "text": [
            "100%|██████████| 157/157 [00:37<00:00,  4.15it/s]\n",
            "100%|██████████| 40/40 [00:05<00:00,  7.33it/s]\n",
            "  0%|          | 0/157 [00:00<?, ?it/s]"
          ],
          "name": "stderr"
        },
        {
          "output_type": "stream",
          "text": [
            "Epoch    33: reducing learning rate of group 0 to 1.0000e-03.\n",
            "\n",
            "Epoch 33 of 100, 43.28 s, with average training loss: 0.18076894, and validation loss: 0.64528188, validation accuracy: 82.04\n",
            "Epoch 34 starting at: 18:47:37\n"
          ],
          "name": "stdout"
        },
        {
          "output_type": "stream",
          "text": [
            "100%|██████████| 157/157 [00:37<00:00,  4.18it/s]\n",
            "100%|██████████| 40/40 [00:05<00:00,  7.31it/s]\n",
            "  0%|          | 0/157 [00:00<?, ?it/s]"
          ],
          "name": "stderr"
        },
        {
          "output_type": "stream",
          "text": [
            "\n",
            "Epoch 34 of 100, 43.07 s, with average training loss: 0.07419271, and validation loss: 0.54789351, validation accuracy: 85.54\n",
            "Epoch 35 starting at: 18:48:20\n"
          ],
          "name": "stdout"
        },
        {
          "output_type": "stream",
          "text": [
            "100%|██████████| 157/157 [00:37<00:00,  4.16it/s]\n",
            "100%|██████████| 40/40 [00:05<00:00,  7.33it/s]\n",
            "  0%|          | 0/157 [00:00<?, ?it/s]"
          ],
          "name": "stderr"
        },
        {
          "output_type": "stream",
          "text": [
            "\n",
            "Epoch 35 of 100, 43.18 s, with average training loss: 0.04556838, and validation loss: 0.57336253, validation accuracy: 85.73\n",
            "Epoch 36 starting at: 18:49:03\n"
          ],
          "name": "stdout"
        },
        {
          "output_type": "stream",
          "text": [
            "100%|██████████| 157/157 [00:37<00:00,  4.16it/s]\n",
            "100%|██████████| 40/40 [00:05<00:00,  7.37it/s]\n",
            "  0%|          | 0/157 [00:00<?, ?it/s]"
          ],
          "name": "stderr"
        },
        {
          "output_type": "stream",
          "text": [
            "\n",
            "Epoch 36 of 100, 43.15 s, with average training loss: 0.03549633, and validation loss: 0.60058783, validation accuracy: 85.43\n",
            "Epoch 37 starting at: 18:49:46\n"
          ],
          "name": "stdout"
        },
        {
          "output_type": "stream",
          "text": [
            "100%|██████████| 157/157 [00:37<00:00,  4.17it/s]\n",
            "100%|██████████| 40/40 [00:05<00:00,  7.39it/s]\n",
            "  0%|          | 0/157 [00:00<?, ?it/s]"
          ],
          "name": "stderr"
        },
        {
          "output_type": "stream",
          "text": [
            "\n",
            "Epoch 37 of 100, 43.07 s, with average training loss: 0.02916401, and validation loss: 0.62470218, validation accuracy: 85.66\n",
            "Epoch 38 starting at: 18:50:29\n"
          ],
          "name": "stdout"
        },
        {
          "output_type": "stream",
          "text": [
            "100%|██████████| 157/157 [00:37<00:00,  4.16it/s]\n",
            "100%|██████████| 40/40 [00:05<00:00,  7.35it/s]\n",
            "  0%|          | 0/157 [00:00<?, ?it/s]"
          ],
          "name": "stderr"
        },
        {
          "output_type": "stream",
          "text": [
            "\n",
            "Epoch 38 of 100, 43.20 s, with average training loss: 0.02386254, and validation loss: 0.65286409, validation accuracy: 85.71\n",
            "Epoch 39 starting at: 18:51:13\n"
          ],
          "name": "stdout"
        },
        {
          "output_type": "stream",
          "text": [
            "100%|██████████| 157/157 [00:37<00:00,  4.15it/s]\n",
            "100%|██████████| 40/40 [00:05<00:00,  7.33it/s]\n",
            "  0%|          | 0/157 [00:00<?, ?it/s]"
          ],
          "name": "stderr"
        },
        {
          "output_type": "stream",
          "text": [
            "\n",
            "Epoch 39 of 100, 43.29 s, with average training loss: 0.01905904, and validation loss: 0.65740214, validation accuracy: 85.73\n",
            "Epoch 40 starting at: 18:51:56\n"
          ],
          "name": "stdout"
        },
        {
          "output_type": "stream",
          "text": [
            "100%|██████████| 157/157 [00:37<00:00,  4.14it/s]\n",
            "100%|██████████| 40/40 [00:05<00:00,  7.31it/s]\n",
            "  0%|          | 0/157 [00:00<?, ?it/s]"
          ],
          "name": "stderr"
        },
        {
          "output_type": "stream",
          "text": [
            "\n",
            "Epoch 40 of 100, 43.37 s, with average training loss: 0.01512190, and validation loss: 0.67304792, validation accuracy: 85.86\n",
            "Epoch 41 starting at: 18:52:39\n"
          ],
          "name": "stdout"
        },
        {
          "output_type": "stream",
          "text": [
            "100%|██████████| 157/157 [00:37<00:00,  4.14it/s]\n",
            "100%|██████████| 40/40 [00:05<00:00,  7.37it/s]\n",
            "  0%|          | 0/157 [00:00<?, ?it/s]"
          ],
          "name": "stderr"
        },
        {
          "output_type": "stream",
          "text": [
            "\n",
            "Epoch 41 of 100, 43.36 s, with average training loss: 0.01209116, and validation loss: 0.70917378, validation accuracy: 85.77\n",
            "Epoch 42 starting at: 18:53:23\n"
          ],
          "name": "stdout"
        },
        {
          "output_type": "stream",
          "text": [
            "100%|██████████| 157/157 [00:37<00:00,  4.14it/s]\n",
            "100%|██████████| 40/40 [00:05<00:00,  7.34it/s]\n",
            "  0%|          | 0/157 [00:00<?, ?it/s]"
          ],
          "name": "stderr"
        },
        {
          "output_type": "stream",
          "text": [
            "\n",
            "Epoch 42 of 100, 43.41 s, with average training loss: 0.00973828, and validation loss: 0.76266913, validation accuracy: 85.81\n",
            "Epoch 43 starting at: 18:54:06\n"
          ],
          "name": "stdout"
        },
        {
          "output_type": "stream",
          "text": [
            "100%|██████████| 157/157 [00:37<00:00,  4.14it/s]\n",
            "100%|██████████| 40/40 [00:05<00:00,  7.32it/s]\n",
            "  0%|          | 0/157 [00:00<?, ?it/s]"
          ],
          "name": "stderr"
        },
        {
          "output_type": "stream",
          "text": [
            "\n",
            "Epoch 43 of 100, 43.35 s, with average training loss: 0.00838904, and validation loss: 0.76819464, validation accuracy: 85.42\n",
            "Epoch 44 starting at: 18:54:49\n"
          ],
          "name": "stdout"
        },
        {
          "output_type": "stream",
          "text": [
            "100%|██████████| 157/157 [00:37<00:00,  4.15it/s]\n",
            "100%|██████████| 40/40 [00:05<00:00,  7.31it/s]\n",
            "  0%|          | 0/157 [00:00<?, ?it/s]"
          ],
          "name": "stderr"
        },
        {
          "output_type": "stream",
          "text": [
            "\n",
            "Epoch 44 of 100, 43.29 s, with average training loss: 0.00646975, and validation loss: 0.78381075, validation accuracy: 85.77\n",
            "Epoch 45 starting at: 18:55:33\n"
          ],
          "name": "stdout"
        },
        {
          "output_type": "stream",
          "text": [
            "100%|██████████| 157/157 [00:37<00:00,  4.14it/s]\n",
            "100%|██████████| 40/40 [00:05<00:00,  7.25it/s]\n",
            "  0%|          | 0/157 [00:00<?, ?it/s]"
          ],
          "name": "stderr"
        },
        {
          "output_type": "stream",
          "text": [
            "\n",
            "Epoch 45 of 100, 43.49 s, with average training loss: 0.00545431, and validation loss: 0.79169174, validation accuracy: 85.86\n",
            "Epoch 46 starting at: 18:56:16\n"
          ],
          "name": "stdout"
        },
        {
          "output_type": "stream",
          "text": [
            "100%|██████████| 157/157 [00:37<00:00,  4.14it/s]\n",
            "100%|██████████| 40/40 [00:05<00:00,  7.34it/s]\n",
            "  0%|          | 0/157 [00:00<?, ?it/s]"
          ],
          "name": "stderr"
        },
        {
          "output_type": "stream",
          "text": [
            "Epoch    46: reducing learning rate of group 0 to 1.0000e-04.\n",
            "\n",
            "Epoch 46 of 100, 43.36 s, with average training loss: 0.00463767, and validation loss: 0.84473918, validation accuracy: 85.53\n",
            "Epoch 47 starting at: 18:56:59\n"
          ],
          "name": "stdout"
        },
        {
          "output_type": "stream",
          "text": [
            "100%|██████████| 157/157 [00:38<00:00,  4.13it/s]\n",
            "100%|██████████| 40/40 [00:05<00:00,  7.27it/s]\n",
            "  0%|          | 0/157 [00:00<?, ?it/s]"
          ],
          "name": "stderr"
        },
        {
          "output_type": "stream",
          "text": [
            "\n",
            "Epoch 47 of 100, 43.56 s, with average training loss: 0.00389984, and validation loss: 0.80115553, validation accuracy: 85.51\n",
            "Epoch 48 starting at: 18:57:43\n"
          ],
          "name": "stdout"
        },
        {
          "output_type": "stream",
          "text": [
            "100%|██████████| 157/157 [00:37<00:00,  4.14it/s]\n",
            "100%|██████████| 40/40 [00:05<00:00,  7.30it/s]\n",
            "  0%|          | 0/157 [00:00<?, ?it/s]"
          ],
          "name": "stderr"
        },
        {
          "output_type": "stream",
          "text": [
            "\n",
            "Epoch 48 of 100, 43.41 s, with average training loss: 0.00366267, and validation loss: 0.81913130, validation accuracy: 85.51\n",
            "Epoch 49 starting at: 18:58:26\n"
          ],
          "name": "stdout"
        },
        {
          "output_type": "stream",
          "text": [
            "100%|██████████| 157/157 [00:37<00:00,  4.14it/s]\n",
            "100%|██████████| 40/40 [00:05<00:00,  7.30it/s]\n",
            "  0%|          | 0/157 [00:00<?, ?it/s]"
          ],
          "name": "stderr"
        },
        {
          "output_type": "stream",
          "text": [
            "\n",
            "Epoch 49 of 100, 43.45 s, with average training loss: 0.00355871, and validation loss: 0.79022131, validation accuracy: 85.78\n",
            "Epoch 50 starting at: 18:59:10\n"
          ],
          "name": "stdout"
        },
        {
          "output_type": "stream",
          "text": [
            "100%|██████████| 157/157 [00:37<00:00,  4.14it/s]\n",
            "100%|██████████| 40/40 [00:05<00:00,  7.29it/s]\n",
            "  0%|          | 0/157 [00:00<?, ?it/s]"
          ],
          "name": "stderr"
        },
        {
          "output_type": "stream",
          "text": [
            "\n",
            "Epoch 50 of 100, 43.41 s, with average training loss: 0.00327625, and validation loss: 0.83799826, validation accuracy: 85.34\n",
            "Epoch 51 starting at: 18:59:53\n"
          ],
          "name": "stdout"
        },
        {
          "output_type": "stream",
          "text": [
            "100%|██████████| 157/157 [00:37<00:00,  4.14it/s]\n",
            "100%|██████████| 40/40 [00:05<00:00,  7.35it/s]\n",
            "  0%|          | 0/157 [00:00<?, ?it/s]"
          ],
          "name": "stderr"
        },
        {
          "output_type": "stream",
          "text": [
            "\n",
            "Epoch 51 of 100, 43.38 s, with average training loss: 0.00336174, and validation loss: 0.82936797, validation accuracy: 85.65\n",
            "Epoch 52 starting at: 19:00:37\n"
          ],
          "name": "stdout"
        },
        {
          "output_type": "stream",
          "text": [
            "100%|██████████| 157/157 [00:37<00:00,  4.13it/s]\n",
            "100%|██████████| 40/40 [00:05<00:00,  7.32it/s]\n",
            "  0%|          | 0/157 [00:00<?, ?it/s]"
          ],
          "name": "stderr"
        },
        {
          "output_type": "stream",
          "text": [
            "Epoch    52: reducing learning rate of group 0 to 1.0000e-05.\n",
            "\n",
            "Epoch 52 of 100, 43.45 s, with average training loss: 0.00361435, and validation loss: 0.81761051, validation accuracy: 85.68\n",
            "Epoch 53 starting at: 19:01:20\n"
          ],
          "name": "stdout"
        },
        {
          "output_type": "stream",
          "text": [
            "100%|██████████| 157/157 [00:38<00:00,  4.12it/s]\n",
            "100%|██████████| 40/40 [00:05<00:00,  7.15it/s]\n",
            "  0%|          | 0/157 [00:00<?, ?it/s]"
          ],
          "name": "stderr"
        },
        {
          "output_type": "stream",
          "text": [
            "\n",
            "Epoch 53 of 100, 43.74 s, with average training loss: 0.00334465, and validation loss: 0.82951019, validation accuracy: 85.59\n",
            "Epoch 54 starting at: 19:02:04\n"
          ],
          "name": "stdout"
        },
        {
          "output_type": "stream",
          "text": [
            "100%|██████████| 157/157 [00:38<00:00,  4.10it/s]\n",
            "100%|██████████| 40/40 [00:05<00:00,  7.27it/s]\n",
            "  0%|          | 0/157 [00:00<?, ?it/s]"
          ],
          "name": "stderr"
        },
        {
          "output_type": "stream",
          "text": [
            "\n",
            "Epoch 54 of 100, 43.80 s, with average training loss: 0.00318020, and validation loss: 0.83140472, validation accuracy: 85.58\n",
            "Epoch 55 starting at: 19:02:48\n"
          ],
          "name": "stdout"
        },
        {
          "output_type": "stream",
          "text": [
            "100%|██████████| 157/157 [00:38<00:00,  4.12it/s]\n",
            "100%|██████████| 40/40 [00:05<00:00,  7.26it/s]\n",
            "  0%|          | 0/157 [00:00<?, ?it/s]"
          ],
          "name": "stderr"
        },
        {
          "output_type": "stream",
          "text": [
            "\n",
            "Epoch 55 of 100, 43.60 s, with average training loss: 0.00272945, and validation loss: 0.86256189, validation accuracy: 85.44\n",
            "Epoch 56 starting at: 19:03:31\n"
          ],
          "name": "stdout"
        },
        {
          "output_type": "stream",
          "text": [
            "100%|██████████| 157/157 [00:38<00:00,  4.09it/s]\n",
            "100%|██████████| 40/40 [00:05<00:00,  7.15it/s]\n",
            "  0%|          | 0/157 [00:00<?, ?it/s]"
          ],
          "name": "stderr"
        },
        {
          "output_type": "stream",
          "text": [
            "\n",
            "Epoch 56 of 100, 43.98 s, with average training loss: 0.00309658, and validation loss: 0.81236881, validation accuracy: 85.64\n",
            "Epoch 57 starting at: 19:04:15\n"
          ],
          "name": "stdout"
        },
        {
          "output_type": "stream",
          "text": [
            "100%|██████████| 157/157 [00:38<00:00,  4.12it/s]\n",
            "100%|██████████| 40/40 [00:05<00:00,  7.26it/s]\n",
            "  0%|          | 0/157 [00:00<?, ?it/s]"
          ],
          "name": "stderr"
        },
        {
          "output_type": "stream",
          "text": [
            "\n",
            "Epoch 57 of 100, 43.66 s, with average training loss: 0.00325004, and validation loss: 0.83762570, validation accuracy: 85.60\n",
            "Epoch 58 starting at: 19:04:59\n"
          ],
          "name": "stdout"
        },
        {
          "output_type": "stream",
          "text": [
            "100%|██████████| 157/157 [00:38<00:00,  4.12it/s]\n",
            "100%|██████████| 40/40 [00:05<00:00,  7.28it/s]\n",
            "  0%|          | 0/157 [00:00<?, ?it/s]"
          ],
          "name": "stderr"
        },
        {
          "output_type": "stream",
          "text": [
            "Epoch    58: reducing learning rate of group 0 to 1.0000e-06.\n",
            "\n",
            "Epoch 58 of 100, 43.64 s, with average training loss: 0.00275300, and validation loss: 0.84101346, validation accuracy: 85.72\n",
            "Epoch 59 starting at: 19:05:42\n"
          ],
          "name": "stdout"
        },
        {
          "output_type": "stream",
          "text": [
            "100%|██████████| 157/157 [00:38<00:00,  4.12it/s]\n",
            "100%|██████████| 40/40 [00:05<00:00,  7.32it/s]\n",
            "  0%|          | 0/157 [00:00<?, ?it/s]"
          ],
          "name": "stderr"
        },
        {
          "output_type": "stream",
          "text": [
            "\n",
            "Epoch 59 of 100, 43.53 s, with average training loss: 0.00293676, and validation loss: 0.82376646, validation accuracy: 85.76\n",
            "Epoch 60 starting at: 19:06:26\n"
          ],
          "name": "stdout"
        },
        {
          "output_type": "stream",
          "text": [
            "100%|██████████| 157/157 [00:38<00:00,  4.12it/s]\n",
            "100%|██████████| 40/40 [00:05<00:00,  7.22it/s]\n",
            "  0%|          | 0/157 [00:00<?, ?it/s]"
          ],
          "name": "stderr"
        },
        {
          "output_type": "stream",
          "text": [
            "\n",
            "Epoch 60 of 100, 43.61 s, with average training loss: 0.00311208, and validation loss: 0.84190942, validation accuracy: 85.59\n",
            "Epoch 61 starting at: 19:07:10\n"
          ],
          "name": "stdout"
        },
        {
          "output_type": "stream",
          "text": [
            "100%|██████████| 157/157 [00:37<00:00,  4.13it/s]\n",
            "100%|██████████| 40/40 [00:05<00:00,  7.22it/s]\n",
            "  0%|          | 0/157 [00:00<?, ?it/s]"
          ],
          "name": "stderr"
        },
        {
          "output_type": "stream",
          "text": [
            "\n",
            "Epoch 61 of 100, 43.54 s, with average training loss: 0.00330897, and validation loss: 0.82372235, validation accuracy: 85.71\n",
            "Epoch 62 starting at: 19:07:53\n"
          ],
          "name": "stdout"
        },
        {
          "output_type": "stream",
          "text": [
            "100%|██████████| 157/157 [00:38<00:00,  4.12it/s]\n",
            "100%|██████████| 40/40 [00:05<00:00,  7.28it/s]\n",
            "  0%|          | 0/157 [00:00<?, ?it/s]"
          ],
          "name": "stderr"
        },
        {
          "output_type": "stream",
          "text": [
            "\n",
            "Epoch 62 of 100, 43.57 s, with average training loss: 0.00330076, and validation loss: 0.83504665, validation accuracy: 85.44\n",
            "Epoch 63 starting at: 19:08:37\n"
          ],
          "name": "stdout"
        },
        {
          "output_type": "stream",
          "text": [
            "100%|██████████| 157/157 [00:38<00:00,  4.13it/s]\n",
            "100%|██████████| 40/40 [00:05<00:00,  7.17it/s]\n",
            "  0%|          | 0/157 [00:00<?, ?it/s]"
          ],
          "name": "stderr"
        },
        {
          "output_type": "stream",
          "text": [
            "\n",
            "Epoch 63 of 100, 43.64 s, with average training loss: 0.00301040, and validation loss: 0.84830258, validation accuracy: 85.53\n",
            "Epoch 64 starting at: 19:09:20\n"
          ],
          "name": "stdout"
        },
        {
          "output_type": "stream",
          "text": [
            "100%|██████████| 157/157 [00:38<00:00,  4.11it/s]\n",
            "100%|██████████| 40/40 [00:05<00:00,  7.21it/s]\n",
            "  0%|          | 0/157 [00:00<?, ?it/s]"
          ],
          "name": "stderr"
        },
        {
          "output_type": "stream",
          "text": [
            "Epoch    64: reducing learning rate of group 0 to 1.0000e-07.\n",
            "\n",
            "Epoch 64 of 100, 43.75 s, with average training loss: 0.00279537, and validation loss: 0.83892183, validation accuracy: 85.34\n",
            "Epoch 65 starting at: 19:10:04\n"
          ],
          "name": "stdout"
        },
        {
          "output_type": "stream",
          "text": [
            "100%|██████████| 157/157 [00:38<00:00,  4.11it/s]\n",
            "100%|██████████| 40/40 [00:05<00:00,  7.25it/s]\n",
            "  0%|          | 0/157 [00:00<?, ?it/s]"
          ],
          "name": "stderr"
        },
        {
          "output_type": "stream",
          "text": [
            "\n",
            "Epoch 65 of 100, 43.74 s, with average training loss: 0.00351847, and validation loss: 0.83964572, validation accuracy: 85.33\n",
            "Epoch 66 starting at: 19:10:48\n"
          ],
          "name": "stdout"
        },
        {
          "output_type": "stream",
          "text": [
            "100%|██████████| 157/157 [00:38<00:00,  4.11it/s]\n",
            "100%|██████████| 40/40 [00:05<00:00,  7.25it/s]\n",
            "  0%|          | 0/157 [00:00<?, ?it/s]"
          ],
          "name": "stderr"
        },
        {
          "output_type": "stream",
          "text": [
            "\n",
            "Epoch 66 of 100, 43.75 s, with average training loss: 0.00299921, and validation loss: 0.82107443, validation accuracy: 85.60\n",
            "Epoch 67 starting at: 19:11:32\n"
          ],
          "name": "stdout"
        },
        {
          "output_type": "stream",
          "text": [
            "100%|██████████| 157/157 [00:38<00:00,  4.11it/s]\n",
            "100%|██████████| 40/40 [00:05<00:00,  7.25it/s]\n",
            "  0%|          | 0/157 [00:00<?, ?it/s]"
          ],
          "name": "stderr"
        },
        {
          "output_type": "stream",
          "text": [
            "\n",
            "Epoch 67 of 100, 43.69 s, with average training loss: 0.00315893, and validation loss: 0.84113080, validation accuracy: 85.47\n",
            "Epoch 68 starting at: 19:12:15\n"
          ],
          "name": "stdout"
        },
        {
          "output_type": "stream",
          "text": [
            "100%|██████████| 157/157 [00:38<00:00,  4.12it/s]\n",
            "100%|██████████| 40/40 [00:05<00:00,  7.25it/s]\n",
            "  0%|          | 0/157 [00:00<?, ?it/s]"
          ],
          "name": "stderr"
        },
        {
          "output_type": "stream",
          "text": [
            "\n",
            "Epoch 68 of 100, 43.64 s, with average training loss: 0.00330904, and validation loss: 0.80544928, validation accuracy: 85.68\n",
            "Epoch 69 starting at: 19:12:59\n"
          ],
          "name": "stdout"
        },
        {
          "output_type": "stream",
          "text": [
            "100%|██████████| 157/157 [00:38<00:00,  4.13it/s]\n",
            "100%|██████████| 40/40 [00:05<00:00,  7.31it/s]\n",
            "  0%|          | 0/157 [00:00<?, ?it/s]"
          ],
          "name": "stderr"
        },
        {
          "output_type": "stream",
          "text": [
            "\n",
            "Epoch 69 of 100, 43.50 s, with average training loss: 0.00288233, and validation loss: 0.91435211, validation accuracy: 85.54\n",
            "Epoch 70 starting at: 19:13:42\n"
          ],
          "name": "stdout"
        },
        {
          "output_type": "stream",
          "text": [
            "100%|██████████| 157/157 [00:38<00:00,  4.11it/s]\n",
            "100%|██████████| 40/40 [00:05<00:00,  7.16it/s]\n",
            "  0%|          | 0/157 [00:00<?, ?it/s]"
          ],
          "name": "stderr"
        },
        {
          "output_type": "stream",
          "text": [
            "Epoch    70: reducing learning rate of group 0 to 1.0000e-08.\n",
            "\n",
            "Epoch 70 of 100, 43.76 s, with average training loss: 0.00324623, and validation loss: 0.83872474, validation accuracy: 85.66\n",
            "Epoch 71 starting at: 19:14:26\n"
          ],
          "name": "stdout"
        },
        {
          "output_type": "stream",
          "text": [
            "100%|██████████| 157/157 [00:38<00:00,  4.10it/s]\n",
            "100%|██████████| 40/40 [00:05<00:00,  7.23it/s]\n",
            "  0%|          | 0/157 [00:00<?, ?it/s]"
          ],
          "name": "stderr"
        },
        {
          "output_type": "stream",
          "text": [
            "\n",
            "Epoch 71 of 100, 43.81 s, with average training loss: 0.00317063, and validation loss: 0.82921615, validation accuracy: 85.36\n",
            "Epoch 72 starting at: 19:15:10\n"
          ],
          "name": "stdout"
        },
        {
          "output_type": "stream",
          "text": [
            "100%|██████████| 157/157 [00:38<00:00,  4.11it/s]\n",
            "100%|██████████| 40/40 [00:05<00:00,  7.24it/s]\n",
            "  0%|          | 0/157 [00:00<?, ?it/s]"
          ],
          "name": "stderr"
        },
        {
          "output_type": "stream",
          "text": [
            "\n",
            "Epoch 72 of 100, 43.74 s, with average training loss: 0.00319783, and validation loss: 0.81387088, validation accuracy: 85.32\n",
            "Epoch 73 starting at: 19:15:54\n"
          ],
          "name": "stdout"
        },
        {
          "output_type": "stream",
          "text": [
            "100%|██████████| 157/157 [00:38<00:00,  4.10it/s]\n",
            "100%|██████████| 40/40 [00:05<00:00,  7.12it/s]\n",
            "  0%|          | 0/157 [00:00<?, ?it/s]"
          ],
          "name": "stderr"
        },
        {
          "output_type": "stream",
          "text": [
            "\n",
            "Epoch 73 of 100, 43.96 s, with average training loss: 0.00298794, and validation loss: 0.84452282, validation accuracy: 85.62\n",
            "Epoch 74 starting at: 19:16:38\n"
          ],
          "name": "stdout"
        },
        {
          "output_type": "stream",
          "text": [
            "100%|██████████| 157/157 [00:38<00:00,  4.09it/s]\n",
            "100%|██████████| 40/40 [00:05<00:00,  7.27it/s]\n",
            "  0%|          | 0/157 [00:00<?, ?it/s]"
          ],
          "name": "stderr"
        },
        {
          "output_type": "stream",
          "text": [
            "\n",
            "Epoch 74 of 100, 43.90 s, with average training loss: 0.00305187, and validation loss: 0.84161001, validation accuracy: 85.63\n",
            "Epoch 75 starting at: 19:17:22\n"
          ],
          "name": "stdout"
        },
        {
          "output_type": "stream",
          "text": [
            "100%|██████████| 157/157 [00:37<00:00,  4.14it/s]\n",
            "100%|██████████| 40/40 [00:05<00:00,  7.35it/s]\n",
            "  0%|          | 0/157 [00:00<?, ?it/s]"
          ],
          "name": "stderr"
        },
        {
          "output_type": "stream",
          "text": [
            "\n",
            "Epoch 75 of 100, 43.40 s, with average training loss: 0.00300223, and validation loss: 0.82878866, validation accuracy: 85.58\n",
            "Epoch 76 starting at: 19:18:05\n"
          ],
          "name": "stdout"
        },
        {
          "output_type": "stream",
          "text": [
            "100%|██████████| 157/157 [00:37<00:00,  4.14it/s]\n",
            "100%|██████████| 40/40 [00:05<00:00,  7.11it/s]\n",
            "  0%|          | 0/157 [00:00<?, ?it/s]"
          ],
          "name": "stderr"
        },
        {
          "output_type": "stream",
          "text": [
            "\n",
            "Epoch 76 of 100, 43.60 s, with average training loss: 0.00290799, and validation loss: 0.84657400, validation accuracy: 85.58\n",
            "Epoch 77 starting at: 19:18:49\n"
          ],
          "name": "stdout"
        },
        {
          "output_type": "stream",
          "text": [
            "100%|██████████| 157/157 [00:38<00:00,  4.12it/s]\n",
            "100%|██████████| 40/40 [00:05<00:00,  7.33it/s]\n",
            "  0%|          | 0/157 [00:00<?, ?it/s]"
          ],
          "name": "stderr"
        },
        {
          "output_type": "stream",
          "text": [
            "\n",
            "Epoch 77 of 100, 43.55 s, with average training loss: 0.00284858, and validation loss: 0.87201389, validation accuracy: 85.56\n",
            "Epoch 78 starting at: 19:19:32\n"
          ],
          "name": "stdout"
        },
        {
          "output_type": "stream",
          "text": [
            "100%|██████████| 157/157 [00:38<00:00,  4.12it/s]\n",
            "100%|██████████| 40/40 [00:05<00:00,  7.33it/s]\n",
            "  0%|          | 0/157 [00:00<?, ?it/s]"
          ],
          "name": "stderr"
        },
        {
          "output_type": "stream",
          "text": [
            "\n",
            "Epoch 78 of 100, 43.55 s, with average training loss: 0.00327949, and validation loss: 0.80562501, validation accuracy: 85.78\n",
            "Epoch 79 starting at: 19:20:16\n"
          ],
          "name": "stdout"
        },
        {
          "output_type": "stream",
          "text": [
            "100%|██████████| 157/157 [00:37<00:00,  4.14it/s]\n",
            "100%|██████████| 40/40 [00:05<00:00,  7.28it/s]\n",
            "  0%|          | 0/157 [00:00<?, ?it/s]"
          ],
          "name": "stderr"
        },
        {
          "output_type": "stream",
          "text": [
            "\n",
            "Epoch 79 of 100, 43.46 s, with average training loss: 0.00290911, and validation loss: 0.82129627, validation accuracy: 85.53\n",
            "Epoch 80 starting at: 19:20:59\n"
          ],
          "name": "stdout"
        },
        {
          "output_type": "stream",
          "text": [
            "100%|██████████| 157/157 [00:37<00:00,  4.13it/s]\n",
            "100%|██████████| 40/40 [00:05<00:00,  7.33it/s]\n",
            "  0%|          | 0/157 [00:00<?, ?it/s]"
          ],
          "name": "stderr"
        },
        {
          "output_type": "stream",
          "text": [
            "\n",
            "Epoch 80 of 100, 43.44 s, with average training loss: 0.00269454, and validation loss: 0.83191952, validation accuracy: 85.73\n",
            "Epoch 81 starting at: 19:21:43\n"
          ],
          "name": "stdout"
        },
        {
          "output_type": "stream",
          "text": [
            "100%|██████████| 157/157 [00:37<00:00,  4.14it/s]\n",
            "100%|██████████| 40/40 [00:05<00:00,  7.34it/s]\n",
            "  0%|          | 0/157 [00:00<?, ?it/s]"
          ],
          "name": "stderr"
        },
        {
          "output_type": "stream",
          "text": [
            "\n",
            "Epoch 81 of 100, 43.40 s, with average training loss: 0.00315199, and validation loss: 0.85399404, validation accuracy: 85.39\n",
            "Epoch 82 starting at: 19:22:26\n"
          ],
          "name": "stdout"
        },
        {
          "output_type": "stream",
          "text": [
            "100%|██████████| 157/157 [00:37<00:00,  4.13it/s]\n",
            "100%|██████████| 40/40 [00:05<00:00,  7.23it/s]\n",
            "  0%|          | 0/157 [00:00<?, ?it/s]"
          ],
          "name": "stderr"
        },
        {
          "output_type": "stream",
          "text": [
            "\n",
            "Epoch 82 of 100, 43.53 s, with average training loss: 0.00341596, and validation loss: 0.81902953, validation accuracy: 85.76\n",
            "Epoch 83 starting at: 19:23:10\n"
          ],
          "name": "stdout"
        },
        {
          "output_type": "stream",
          "text": [
            "100%|██████████| 157/157 [00:38<00:00,  4.13it/s]\n",
            "100%|██████████| 40/40 [00:05<00:00,  7.27it/s]\n",
            "  0%|          | 0/157 [00:00<?, ?it/s]"
          ],
          "name": "stderr"
        },
        {
          "output_type": "stream",
          "text": [
            "\n",
            "Epoch 83 of 100, 43.51 s, with average training loss: 0.00278618, and validation loss: 0.81303287, validation accuracy: 85.55\n",
            "Epoch 84 starting at: 19:23:53\n"
          ],
          "name": "stdout"
        },
        {
          "output_type": "stream",
          "text": [
            "100%|██████████| 157/157 [00:37<00:00,  4.14it/s]\n",
            "100%|██████████| 40/40 [00:05<00:00,  7.31it/s]\n",
            "  0%|          | 0/157 [00:00<?, ?it/s]"
          ],
          "name": "stderr"
        },
        {
          "output_type": "stream",
          "text": [
            "\n",
            "Epoch 84 of 100, 43.44 s, with average training loss: 0.00277034, and validation loss: 0.81724397, validation accuracy: 85.44\n",
            "Epoch 85 starting at: 19:24:37\n"
          ],
          "name": "stdout"
        },
        {
          "output_type": "stream",
          "text": [
            "100%|██████████| 157/157 [00:37<00:00,  4.14it/s]\n",
            "100%|██████████| 40/40 [00:05<00:00,  7.34it/s]\n",
            "  0%|          | 0/157 [00:00<?, ?it/s]"
          ],
          "name": "stderr"
        },
        {
          "output_type": "stream",
          "text": [
            "\n",
            "Epoch 85 of 100, 43.42 s, with average training loss: 0.00314242, and validation loss: 0.81905004, validation accuracy: 85.50\n",
            "Epoch 86 starting at: 19:25:20\n"
          ],
          "name": "stdout"
        },
        {
          "output_type": "stream",
          "text": [
            "100%|██████████| 157/157 [00:37<00:00,  4.14it/s]\n",
            "100%|██████████| 40/40 [00:05<00:00,  7.28it/s]\n",
            "  0%|          | 0/157 [00:00<?, ?it/s]"
          ],
          "name": "stderr"
        },
        {
          "output_type": "stream",
          "text": [
            "\n",
            "Epoch 86 of 100, 43.42 s, with average training loss: 0.00339556, and validation loss: 0.81892189, validation accuracy: 85.75\n",
            "Epoch 87 starting at: 19:26:03\n"
          ],
          "name": "stdout"
        },
        {
          "output_type": "stream",
          "text": [
            "100%|██████████| 157/157 [00:37<00:00,  4.15it/s]\n",
            "100%|██████████| 40/40 [00:05<00:00,  7.36it/s]\n",
            "  0%|          | 0/157 [00:00<?, ?it/s]"
          ],
          "name": "stderr"
        },
        {
          "output_type": "stream",
          "text": [
            "\n",
            "Epoch 87 of 100, 43.30 s, with average training loss: 0.00281348, and validation loss: 0.83842962, validation accuracy: 85.57\n",
            "Epoch 88 starting at: 19:26:47\n"
          ],
          "name": "stdout"
        },
        {
          "output_type": "stream",
          "text": [
            "100%|██████████| 157/157 [00:37<00:00,  4.14it/s]\n",
            "100%|██████████| 40/40 [00:05<00:00,  7.38it/s]\n",
            "  0%|          | 0/157 [00:00<?, ?it/s]"
          ],
          "name": "stderr"
        },
        {
          "output_type": "stream",
          "text": [
            "\n",
            "Epoch 88 of 100, 43.37 s, with average training loss: 0.00298987, and validation loss: 0.84776261, validation accuracy: 85.54\n",
            "Epoch 89 starting at: 19:27:30\n"
          ],
          "name": "stdout"
        },
        {
          "output_type": "stream",
          "text": [
            "100%|██████████| 157/157 [00:37<00:00,  4.15it/s]\n",
            "100%|██████████| 40/40 [00:05<00:00,  7.33it/s]\n",
            "  0%|          | 0/157 [00:00<?, ?it/s]"
          ],
          "name": "stderr"
        },
        {
          "output_type": "stream",
          "text": [
            "\n",
            "Epoch 89 of 100, 43.33 s, with average training loss: 0.00289565, and validation loss: 0.81694490, validation accuracy: 85.64\n",
            "Epoch 90 starting at: 19:28:13\n"
          ],
          "name": "stdout"
        },
        {
          "output_type": "stream",
          "text": [
            "100%|██████████| 157/157 [00:37<00:00,  4.15it/s]\n",
            "100%|██████████| 40/40 [00:05<00:00,  7.33it/s]\n",
            "  0%|          | 0/157 [00:00<?, ?it/s]"
          ],
          "name": "stderr"
        },
        {
          "output_type": "stream",
          "text": [
            "\n",
            "Epoch 90 of 100, 43.29 s, with average training loss: 0.00286090, and validation loss: 0.85046810, validation accuracy: 85.56\n",
            "Epoch 91 starting at: 19:28:57\n"
          ],
          "name": "stdout"
        },
        {
          "output_type": "stream",
          "text": [
            "100%|██████████| 157/157 [00:37<00:00,  4.15it/s]\n",
            "100%|██████████| 40/40 [00:05<00:00,  7.37it/s]\n",
            "  0%|          | 0/157 [00:00<?, ?it/s]"
          ],
          "name": "stderr"
        },
        {
          "output_type": "stream",
          "text": [
            "\n",
            "Epoch 91 of 100, 43.27 s, with average training loss: 0.00325938, and validation loss: 0.81767135, validation accuracy: 85.63\n",
            "Epoch 92 starting at: 19:29:40\n"
          ],
          "name": "stdout"
        },
        {
          "output_type": "stream",
          "text": [
            "100%|██████████| 157/157 [00:37<00:00,  4.16it/s]\n",
            "100%|██████████| 40/40 [00:05<00:00,  7.41it/s]\n",
            "  0%|          | 0/157 [00:00<?, ?it/s]"
          ],
          "name": "stderr"
        },
        {
          "output_type": "stream",
          "text": [
            "\n",
            "Epoch 92 of 100, 43.11 s, with average training loss: 0.00308602, and validation loss: 0.81862040, validation accuracy: 85.58\n",
            "Epoch 93 starting at: 19:30:23\n"
          ],
          "name": "stdout"
        },
        {
          "output_type": "stream",
          "text": [
            "100%|██████████| 157/157 [00:37<00:00,  4.17it/s]\n",
            "100%|██████████| 40/40 [00:05<00:00,  7.35it/s]\n",
            "  0%|          | 0/157 [00:00<?, ?it/s]"
          ],
          "name": "stderr"
        },
        {
          "output_type": "stream",
          "text": [
            "\n",
            "Epoch 93 of 100, 43.08 s, with average training loss: 0.00334936, and validation loss: 0.83818310, validation accuracy: 85.42\n",
            "Epoch 94 starting at: 19:31:06\n"
          ],
          "name": "stdout"
        },
        {
          "output_type": "stream",
          "text": [
            "100%|██████████| 157/157 [00:37<00:00,  4.16it/s]\n",
            "100%|██████████| 40/40 [00:05<00:00,  7.42it/s]\n",
            "  0%|          | 0/157 [00:00<?, ?it/s]"
          ],
          "name": "stderr"
        },
        {
          "output_type": "stream",
          "text": [
            "\n",
            "Epoch 94 of 100, 43.14 s, with average training loss: 0.00310958, and validation loss: 0.83573678, validation accuracy: 85.72\n",
            "Epoch 95 starting at: 19:31:49\n"
          ],
          "name": "stdout"
        },
        {
          "output_type": "stream",
          "text": [
            "100%|██████████| 157/157 [00:37<00:00,  4.15it/s]\n",
            "100%|██████████| 40/40 [00:05<00:00,  7.38it/s]\n",
            "  0%|          | 0/157 [00:00<?, ?it/s]"
          ],
          "name": "stderr"
        },
        {
          "output_type": "stream",
          "text": [
            "\n",
            "Epoch 95 of 100, 43.22 s, with average training loss: 0.00344317, and validation loss: 0.82940279, validation accuracy: 85.23\n",
            "Epoch 96 starting at: 19:32:32\n"
          ],
          "name": "stdout"
        },
        {
          "output_type": "stream",
          "text": [
            "100%|██████████| 157/157 [00:37<00:00,  4.16it/s]\n",
            "100%|██████████| 40/40 [00:05<00:00,  7.35it/s]\n",
            "  0%|          | 0/157 [00:00<?, ?it/s]"
          ],
          "name": "stderr"
        },
        {
          "output_type": "stream",
          "text": [
            "\n",
            "Epoch 96 of 100, 43.16 s, with average training loss: 0.00291814, and validation loss: 0.81674289, validation accuracy: 85.72\n",
            "Epoch 97 starting at: 19:33:16\n"
          ],
          "name": "stdout"
        },
        {
          "output_type": "stream",
          "text": [
            "100%|██████████| 157/157 [00:37<00:00,  4.15it/s]\n",
            "100%|██████████| 40/40 [00:05<00:00,  7.37it/s]\n",
            "  0%|          | 0/157 [00:00<?, ?it/s]"
          ],
          "name": "stderr"
        },
        {
          "output_type": "stream",
          "text": [
            "\n",
            "Epoch 97 of 100, 43.29 s, with average training loss: 0.00304949, and validation loss: 0.83086050, validation accuracy: 85.56\n",
            "Epoch 98 starting at: 19:33:59\n"
          ],
          "name": "stdout"
        },
        {
          "output_type": "stream",
          "text": [
            "100%|██████████| 157/157 [00:37<00:00,  4.15it/s]\n",
            "100%|██████████| 40/40 [00:05<00:00,  7.47it/s]\n",
            "  0%|          | 0/157 [00:00<?, ?it/s]"
          ],
          "name": "stderr"
        },
        {
          "output_type": "stream",
          "text": [
            "\n",
            "Epoch 98 of 100, 43.16 s, with average training loss: 0.00293140, and validation loss: 0.85819726, validation accuracy: 85.61\n",
            "Epoch 99 starting at: 19:34:42\n"
          ],
          "name": "stdout"
        },
        {
          "output_type": "stream",
          "text": [
            "100%|██████████| 157/157 [00:37<00:00,  4.17it/s]\n",
            "100%|██████████| 40/40 [00:05<00:00,  7.35it/s]\n",
            "  0%|          | 0/157 [00:00<?, ?it/s]"
          ],
          "name": "stderr"
        },
        {
          "output_type": "stream",
          "text": [
            "\n",
            "Epoch 99 of 100, 43.10 s, with average training loss: 0.00327424, and validation loss: 0.83744534, validation accuracy: 85.41\n",
            "Epoch 100 starting at: 19:35:25\n"
          ],
          "name": "stdout"
        },
        {
          "output_type": "stream",
          "text": [
            "100%|██████████| 157/157 [00:37<00:00,  4.17it/s]\n",
            "100%|██████████| 40/40 [00:05<00:00,  7.42it/s]\n"
          ],
          "name": "stderr"
        },
        {
          "output_type": "stream",
          "text": [
            "\n",
            "Epoch 100 of 100, 43.09 s, with average training loss: 0.00321149, and validation loss: 0.81924972, validation accuracy: 85.75\n",
            "Finished Training  10/05/2021 19:36:08\n",
            "Avg per epoch ptime: 43.24, total 100 epochs ptime: 4323.53\n"
          ],
          "name": "stdout"
        }
      ]
    },
    {
      "cell_type": "markdown",
      "metadata": {
        "id": "5Zj6Nt_cT_S3"
      },
      "source": [
        "### ResNet Training"
      ]
    },
    {
      "cell_type": "code",
      "metadata": {
        "colab": {
          "base_uri": "https://localhost:8080/"
        },
        "id": "YsGhxPVuO2C5",
        "outputId": "aadcd9f6-4185-4020-f354-05f438def19d"
      },
      "source": [
        "# Load and train ResNet\n",
        "net, optimizer, scheduler = LoadResNet(device)\n",
        "TrainResNet(net, optimizer, scheduler, criterion, epochs, train_loader, validation_loader)\n",
        "torch.save(net.state_dict(), model_dir + '/ResNet_CIFAR10_model.pth')\n",
        "del net\n",
        "del optimizer\n",
        "del scheduler"
      ],
      "execution_count": null,
      "outputs": [
        {
          "output_type": "stream",
          "text": [
            "Using cache found in /root/.cache/torch/hub/pytorch_vision_v0.9.0\n",
            "  1%|          | 1/157 [00:00<00:23,  6.68it/s]"
          ],
          "name": "stderr"
        },
        {
          "output_type": "stream",
          "text": [
            "\n",
            "Training ResNet\n",
            "Training starting  10/05/2021 19:36:10\n",
            "Epoch 1 starting at: 19:36:10\n"
          ],
          "name": "stdout"
        },
        {
          "output_type": "stream",
          "text": [
            "100%|██████████| 157/157 [00:22<00:00,  6.87it/s]\n",
            "100%|██████████| 40/40 [00:04<00:00,  9.17it/s]\n",
            "  1%|          | 1/157 [00:00<00:22,  6.92it/s]"
          ],
          "name": "stderr"
        },
        {
          "output_type": "stream",
          "text": [
            "\n",
            "Epoch 1 of 100, 27.21 s, with average training loss: 1.75723811, and validation loss: 1.52720597, validation accuracy: 46.09\n",
            "Epoch 2 starting at: 19:36:37\n"
          ],
          "name": "stdout"
        },
        {
          "output_type": "stream",
          "text": [
            "100%|██████████| 157/157 [00:22<00:00,  6.92it/s]\n",
            "100%|██████████| 40/40 [00:04<00:00,  9.20it/s]\n",
            "  1%|          | 1/157 [00:00<00:24,  6.50it/s]"
          ],
          "name": "stderr"
        },
        {
          "output_type": "stream",
          "text": [
            "\n",
            "Epoch 2 of 100, 27.03 s, with average training loss: 1.23955430, and validation loss: 1.30719783, validation accuracy: 52.30\n",
            "Epoch 3 starting at: 19:37:04\n"
          ],
          "name": "stdout"
        },
        {
          "output_type": "stream",
          "text": [
            "100%|██████████| 157/157 [00:22<00:00,  6.89it/s]\n",
            "100%|██████████| 40/40 [00:04<00:00,  9.33it/s]\n",
            "  1%|          | 1/157 [00:00<00:22,  6.89it/s]"
          ],
          "name": "stderr"
        },
        {
          "output_type": "stream",
          "text": [
            "\n",
            "Epoch 3 of 100, 27.07 s, with average training loss: 1.03489186, and validation loss: 1.14042052, validation accuracy: 59.60\n",
            "Epoch 4 starting at: 19:37:31\n"
          ],
          "name": "stdout"
        },
        {
          "output_type": "stream",
          "text": [
            "100%|██████████| 157/157 [00:22<00:00,  6.90it/s]\n",
            "100%|██████████| 40/40 [00:04<00:00,  9.13it/s]\n",
            "  1%|          | 1/157 [00:00<00:23,  6.68it/s]"
          ],
          "name": "stderr"
        },
        {
          "output_type": "stream",
          "text": [
            "\n",
            "Epoch 4 of 100, 27.15 s, with average training loss: 0.89650540, and validation loss: 1.06416430, validation accuracy: 62.83\n",
            "Epoch 5 starting at: 19:37:59\n"
          ],
          "name": "stdout"
        },
        {
          "output_type": "stream",
          "text": [
            "100%|██████████| 157/157 [00:22<00:00,  6.87it/s]\n",
            "100%|██████████| 40/40 [00:04<00:00,  9.32it/s]\n",
            "  1%|          | 1/157 [00:00<00:24,  6.41it/s]"
          ],
          "name": "stderr"
        },
        {
          "output_type": "stream",
          "text": [
            "\n",
            "Epoch 5 of 100, 27.15 s, with average training loss: 0.78146666, and validation loss: 0.96922852, validation accuracy: 66.41\n",
            "Epoch 6 starting at: 19:38:26\n"
          ],
          "name": "stdout"
        },
        {
          "output_type": "stream",
          "text": [
            "100%|██████████| 157/157 [00:22<00:00,  6.91it/s]\n",
            "100%|██████████| 40/40 [00:04<00:00,  9.30it/s]\n",
            "  1%|          | 1/157 [00:00<00:23,  6.56it/s]"
          ],
          "name": "stderr"
        },
        {
          "output_type": "stream",
          "text": [
            "\n",
            "Epoch 6 of 100, 27.04 s, with average training loss: 0.67735747, and validation loss: 0.92847523, validation accuracy: 68.14\n",
            "Epoch 7 starting at: 19:38:53\n"
          ],
          "name": "stdout"
        },
        {
          "output_type": "stream",
          "text": [
            "100%|██████████| 157/157 [00:22<00:00,  6.93it/s]\n",
            "100%|██████████| 40/40 [00:04<00:00,  9.30it/s]\n",
            "  1%|          | 1/157 [00:00<00:22,  6.92it/s]"
          ],
          "name": "stderr"
        },
        {
          "output_type": "stream",
          "text": [
            "\n",
            "Epoch 7 of 100, 26.98 s, with average training loss: 0.59148230, and validation loss: 0.99144640, validation accuracy: 67.41\n",
            "Epoch 8 starting at: 19:39:20\n"
          ],
          "name": "stdout"
        },
        {
          "output_type": "stream",
          "text": [
            "100%|██████████| 157/157 [00:22<00:00,  6.93it/s]\n",
            "100%|██████████| 40/40 [00:04<00:00,  9.27it/s]\n",
            "  1%|          | 1/157 [00:00<00:24,  6.45it/s]"
          ],
          "name": "stderr"
        },
        {
          "output_type": "stream",
          "text": [
            "\n",
            "Epoch 8 of 100, 26.99 s, with average training loss: 0.51325986, and validation loss: 0.94378784, validation accuracy: 69.15\n",
            "Epoch 9 starting at: 19:39:47\n"
          ],
          "name": "stdout"
        },
        {
          "output_type": "stream",
          "text": [
            "100%|██████████| 157/157 [00:22<00:00,  6.93it/s]\n",
            "100%|██████████| 40/40 [00:04<00:00,  9.33it/s]\n",
            "  1%|          | 1/157 [00:00<00:22,  6.87it/s]"
          ],
          "name": "stderr"
        },
        {
          "output_type": "stream",
          "text": [
            "\n",
            "Epoch 9 of 100, 26.94 s, with average training loss: 0.46233761, and validation loss: 0.91089235, validation accuracy: 71.13\n",
            "Epoch 10 starting at: 19:40:14\n"
          ],
          "name": "stdout"
        },
        {
          "output_type": "stream",
          "text": [
            "100%|██████████| 157/157 [00:22<00:00,  6.94it/s]\n",
            "100%|██████████| 40/40 [00:04<00:00,  9.37it/s]\n",
            "  1%|          | 1/157 [00:00<00:23,  6.66it/s]"
          ],
          "name": "stderr"
        },
        {
          "output_type": "stream",
          "text": [
            "\n",
            "Epoch 10 of 100, 26.91 s, with average training loss: 0.39452265, and validation loss: 1.12906069, validation accuracy: 68.44\n",
            "Epoch 11 starting at: 19:40:41\n"
          ],
          "name": "stdout"
        },
        {
          "output_type": "stream",
          "text": [
            "100%|██████████| 157/157 [00:22<00:00,  6.97it/s]\n",
            "100%|██████████| 40/40 [00:04<00:00,  9.32it/s]\n",
            "  1%|          | 1/157 [00:00<00:23,  6.77it/s]"
          ],
          "name": "stderr"
        },
        {
          "output_type": "stream",
          "text": [
            "\n",
            "Epoch 11 of 100, 26.83 s, with average training loss: 0.35462832, and validation loss: 0.97590586, validation accuracy: 70.58\n",
            "Epoch 12 starting at: 19:41:07\n"
          ],
          "name": "stdout"
        },
        {
          "output_type": "stream",
          "text": [
            "100%|██████████| 157/157 [00:22<00:00,  6.97it/s]\n",
            "100%|██████████| 40/40 [00:04<00:00,  9.28it/s]\n",
            "  1%|          | 1/157 [00:00<00:24,  6.45it/s]"
          ],
          "name": "stderr"
        },
        {
          "output_type": "stream",
          "text": [
            "\n",
            "Epoch 12 of 100, 26.85 s, with average training loss: 0.29386565, and validation loss: 1.05633358, validation accuracy: 71.19\n",
            "Epoch 13 starting at: 19:41:34\n"
          ],
          "name": "stdout"
        },
        {
          "output_type": "stream",
          "text": [
            "100%|██████████| 157/157 [00:22<00:00,  6.89it/s]\n",
            "100%|██████████| 40/40 [00:04<00:00,  9.22it/s]\n",
            "  1%|          | 1/157 [00:00<00:22,  6.96it/s]"
          ],
          "name": "stderr"
        },
        {
          "output_type": "stream",
          "text": [
            "\n",
            "Epoch 13 of 100, 27.14 s, with average training loss: 0.25367549, and validation loss: 1.03423203, validation accuracy: 71.75\n",
            "Epoch 14 starting at: 19:42:01\n"
          ],
          "name": "stdout"
        },
        {
          "output_type": "stream",
          "text": [
            "100%|██████████| 157/157 [00:22<00:00,  6.90it/s]\n",
            "100%|██████████| 40/40 [00:04<00:00,  9.16it/s]\n",
            "  1%|          | 1/157 [00:00<00:24,  6.44it/s]"
          ],
          "name": "stderr"
        },
        {
          "output_type": "stream",
          "text": [
            "\n",
            "Epoch 14 of 100, 27.14 s, with average training loss: 0.23100467, and validation loss: 1.06596436, validation accuracy: 71.78\n",
            "Epoch 15 starting at: 19:42:29\n"
          ],
          "name": "stdout"
        },
        {
          "output_type": "stream",
          "text": [
            "100%|██████████| 157/157 [00:22<00:00,  6.88it/s]\n",
            "100%|██████████| 40/40 [00:04<00:00,  9.33it/s]\n",
            "  1%|          | 1/157 [00:00<00:23,  6.57it/s]"
          ],
          "name": "stderr"
        },
        {
          "output_type": "stream",
          "text": [
            "\n",
            "Epoch 15 of 100, 27.12 s, with average training loss: 0.20745294, and validation loss: 1.03122763, validation accuracy: 73.25\n",
            "Epoch 16 starting at: 19:42:56\n"
          ],
          "name": "stdout"
        },
        {
          "output_type": "stream",
          "text": [
            "100%|██████████| 157/157 [00:22<00:00,  6.94it/s]\n",
            "100%|██████████| 40/40 [00:04<00:00,  9.26it/s]\n",
            "  1%|          | 1/157 [00:00<00:24,  6.48it/s]"
          ],
          "name": "stderr"
        },
        {
          "output_type": "stream",
          "text": [
            "\n",
            "Epoch 16 of 100, 26.95 s, with average training loss: 0.17577420, and validation loss: 1.06427369, validation accuracy: 72.80\n",
            "Epoch 17 starting at: 19:43:23\n"
          ],
          "name": "stdout"
        },
        {
          "output_type": "stream",
          "text": [
            "100%|██████████| 157/157 [00:22<00:00,  6.90it/s]\n",
            "100%|██████████| 40/40 [00:04<00:00,  9.46it/s]\n",
            "  1%|          | 1/157 [00:00<00:22,  6.79it/s]"
          ],
          "name": "stderr"
        },
        {
          "output_type": "stream",
          "text": [
            "\n",
            "Epoch 17 of 100, 26.99 s, with average training loss: 0.15539527, and validation loss: 1.11498555, validation accuracy: 72.81\n",
            "Epoch 18 starting at: 19:43:50\n"
          ],
          "name": "stdout"
        },
        {
          "output_type": "stream",
          "text": [
            "100%|██████████| 157/157 [00:22<00:00,  6.93it/s]\n",
            "100%|██████████| 40/40 [00:04<00:00,  9.22it/s]\n",
            "  1%|          | 1/157 [00:00<00:23,  6.60it/s]"
          ],
          "name": "stderr"
        },
        {
          "output_type": "stream",
          "text": [
            "\n",
            "Epoch 18 of 100, 27.00 s, with average training loss: 0.16101421, and validation loss: 1.08484461, validation accuracy: 73.99\n",
            "Epoch 19 starting at: 19:44:17\n"
          ],
          "name": "stdout"
        },
        {
          "output_type": "stream",
          "text": [
            "100%|██████████| 157/157 [00:22<00:00,  6.90it/s]\n",
            "100%|██████████| 40/40 [00:04<00:00,  9.31it/s]\n",
            "  1%|          | 1/157 [00:00<00:23,  6.55it/s]"
          ],
          "name": "stderr"
        },
        {
          "output_type": "stream",
          "text": [
            "\n",
            "Epoch 19 of 100, 27.04 s, with average training loss: 0.12725845, and validation loss: 1.14564743, validation accuracy: 73.45\n",
            "Epoch 20 starting at: 19:44:44\n"
          ],
          "name": "stdout"
        },
        {
          "output_type": "stream",
          "text": [
            "100%|██████████| 157/157 [00:22<00:00,  6.97it/s]\n",
            "100%|██████████| 40/40 [00:04<00:00,  9.24it/s]\n",
            "  1%|          | 1/157 [00:00<00:23,  6.61it/s]"
          ],
          "name": "stderr"
        },
        {
          "output_type": "stream",
          "text": [
            "\n",
            "Epoch 20 of 100, 26.85 s, with average training loss: 0.10659160, and validation loss: 1.15387419, validation accuracy: 73.29\n",
            "Epoch 21 starting at: 19:45:11\n"
          ],
          "name": "stdout"
        },
        {
          "output_type": "stream",
          "text": [
            "100%|██████████| 157/157 [00:22<00:00,  6.83it/s]\n",
            "100%|██████████| 40/40 [00:04<00:00,  9.12it/s]\n",
            "  1%|          | 1/157 [00:00<00:22,  6.80it/s]"
          ],
          "name": "stderr"
        },
        {
          "output_type": "stream",
          "text": [
            "\n",
            "Epoch 21 of 100, 27.39 s, with average training loss: 0.09550639, and validation loss: 1.25611356, validation accuracy: 72.10\n",
            "Epoch 22 starting at: 19:45:38\n"
          ],
          "name": "stdout"
        },
        {
          "output_type": "stream",
          "text": [
            "100%|██████████| 157/157 [00:23<00:00,  6.79it/s]\n",
            "100%|██████████| 40/40 [00:04<00:00,  9.09it/s]\n",
            "  1%|          | 1/157 [00:00<00:24,  6.34it/s]"
          ],
          "name": "stderr"
        },
        {
          "output_type": "stream",
          "text": [
            "\n",
            "Epoch 22 of 100, 27.52 s, with average training loss: 0.09635178, and validation loss: 1.20320727, validation accuracy: 73.86\n",
            "Epoch 23 starting at: 19:46:05\n"
          ],
          "name": "stdout"
        },
        {
          "output_type": "stream",
          "text": [
            "100%|██████████| 157/157 [00:23<00:00,  6.78it/s]\n",
            "100%|██████████| 40/40 [00:04<00:00,  9.25it/s]\n",
            "  1%|          | 1/157 [00:00<00:23,  6.68it/s]"
          ],
          "name": "stderr"
        },
        {
          "output_type": "stream",
          "text": [
            "\n",
            "Epoch 23 of 100, 27.49 s, with average training loss: 0.08411649, and validation loss: 1.19953563, validation accuracy: 74.21\n",
            "Epoch 24 starting at: 19:46:33\n"
          ],
          "name": "stdout"
        },
        {
          "output_type": "stream",
          "text": [
            "100%|██████████| 157/157 [00:23<00:00,  6.80it/s]\n",
            "100%|██████████| 40/40 [00:04<00:00,  9.17it/s]\n",
            "  1%|          | 1/157 [00:00<00:23,  6.75it/s]"
          ],
          "name": "stderr"
        },
        {
          "output_type": "stream",
          "text": [
            "\n",
            "Epoch 24 of 100, 27.45 s, with average training loss: 0.07279703, and validation loss: 1.24735846, validation accuracy: 74.15\n",
            "Epoch 25 starting at: 19:47:00\n"
          ],
          "name": "stdout"
        },
        {
          "output_type": "stream",
          "text": [
            "100%|██████████| 157/157 [00:22<00:00,  6.85it/s]\n",
            "100%|██████████| 40/40 [00:04<00:00,  9.13it/s]\n",
            "  1%|          | 1/157 [00:00<00:23,  6.77it/s]"
          ],
          "name": "stderr"
        },
        {
          "output_type": "stream",
          "text": [
            "\n",
            "Epoch 25 of 100, 27.31 s, with average training loss: 0.08183876, and validation loss: 1.25392941, validation accuracy: 74.11\n",
            "Epoch 26 starting at: 19:47:28\n"
          ],
          "name": "stdout"
        },
        {
          "output_type": "stream",
          "text": [
            "100%|██████████| 157/157 [00:22<00:00,  6.88it/s]\n",
            "100%|██████████| 40/40 [00:04<00:00,  9.23it/s]\n",
            "  1%|          | 1/157 [00:00<00:24,  6.45it/s]"
          ],
          "name": "stderr"
        },
        {
          "output_type": "stream",
          "text": [
            "\n",
            "Epoch 26 of 100, 27.18 s, with average training loss: 0.07880478, and validation loss: 1.15237862, validation accuracy: 74.68\n",
            "Epoch 27 starting at: 19:47:55\n"
          ],
          "name": "stdout"
        },
        {
          "output_type": "stream",
          "text": [
            "100%|██████████| 157/157 [00:22<00:00,  6.86it/s]\n",
            "100%|██████████| 40/40 [00:04<00:00,  9.32it/s]\n",
            "  1%|          | 1/157 [00:00<00:23,  6.76it/s]"
          ],
          "name": "stderr"
        },
        {
          "output_type": "stream",
          "text": [
            "\n",
            "Epoch 27 of 100, 27.19 s, with average training loss: 0.05989803, and validation loss: 1.28744331, validation accuracy: 74.36\n",
            "Epoch 28 starting at: 19:48:22\n"
          ],
          "name": "stdout"
        },
        {
          "output_type": "stream",
          "text": [
            "100%|██████████| 157/157 [00:23<00:00,  6.81it/s]\n",
            "100%|██████████| 40/40 [00:04<00:00,  9.25it/s]\n",
            "  1%|          | 1/157 [00:00<00:24,  6.28it/s]"
          ],
          "name": "stderr"
        },
        {
          "output_type": "stream",
          "text": [
            "\n",
            "Epoch 28 of 100, 27.40 s, with average training loss: 0.05919700, and validation loss: 1.42058808, validation accuracy: 72.87\n",
            "Epoch 29 starting at: 19:48:49\n"
          ],
          "name": "stdout"
        },
        {
          "output_type": "stream",
          "text": [
            "100%|██████████| 157/157 [00:23<00:00,  6.82it/s]\n",
            "100%|██████████| 40/40 [00:04<00:00,  9.30it/s]\n",
            "  1%|          | 1/157 [00:00<00:23,  6.65it/s]"
          ],
          "name": "stderr"
        },
        {
          "output_type": "stream",
          "text": [
            "\n",
            "Epoch 29 of 100, 27.32 s, with average training loss: 0.05035091, and validation loss: 1.27597415, validation accuracy: 75.06\n",
            "Epoch 30 starting at: 19:49:17\n"
          ],
          "name": "stdout"
        },
        {
          "output_type": "stream",
          "text": [
            "100%|██████████| 157/157 [00:22<00:00,  6.99it/s]\n",
            "100%|██████████| 40/40 [00:04<00:00,  9.35it/s]\n",
            "  1%|          | 1/157 [00:00<00:23,  6.56it/s]"
          ],
          "name": "stderr"
        },
        {
          "output_type": "stream",
          "text": [
            "\n",
            "Epoch 30 of 100, 26.74 s, with average training loss: 0.04423672, and validation loss: 1.25282506, validation accuracy: 75.52\n",
            "Epoch 31 starting at: 19:49:44\n"
          ],
          "name": "stdout"
        },
        {
          "output_type": "stream",
          "text": [
            "100%|██████████| 157/157 [00:22<00:00,  6.96it/s]\n",
            "100%|██████████| 40/40 [00:04<00:00,  9.32it/s]\n",
            "  1%|          | 1/157 [00:00<00:22,  6.98it/s]"
          ],
          "name": "stderr"
        },
        {
          "output_type": "stream",
          "text": [
            "\n",
            "Epoch 31 of 100, 26.86 s, with average training loss: 0.05925138, and validation loss: 1.29999506, validation accuracy: 75.01\n",
            "Epoch 32 starting at: 19:50:10\n"
          ],
          "name": "stdout"
        },
        {
          "output_type": "stream",
          "text": [
            "100%|██████████| 157/157 [00:22<00:00,  6.97it/s]\n",
            "100%|██████████| 40/40 [00:04<00:00,  9.34it/s]\n",
            "  1%|          | 1/157 [00:00<00:23,  6.73it/s]"
          ],
          "name": "stderr"
        },
        {
          "output_type": "stream",
          "text": [
            "\n",
            "Epoch 32 of 100, 26.82 s, with average training loss: 0.05639346, and validation loss: 1.24987071, validation accuracy: 75.20\n",
            "Epoch 33 starting at: 19:50:37\n"
          ],
          "name": "stdout"
        },
        {
          "output_type": "stream",
          "text": [
            "100%|██████████| 157/157 [00:22<00:00,  6.94it/s]\n",
            "100%|██████████| 40/40 [00:04<00:00,  9.52it/s]\n",
            "  1%|          | 1/157 [00:00<00:24,  6.49it/s]"
          ],
          "name": "stderr"
        },
        {
          "output_type": "stream",
          "text": [
            "\n",
            "Epoch 33 of 100, 26.82 s, with average training loss: 0.03809150, and validation loss: 1.32366786, validation accuracy: 75.63\n",
            "Epoch 34 starting at: 19:51:04\n"
          ],
          "name": "stdout"
        },
        {
          "output_type": "stream",
          "text": [
            "100%|██████████| 157/157 [00:22<00:00,  6.97it/s]\n",
            "100%|██████████| 40/40 [00:04<00:00,  9.42it/s]\n",
            "  1%|          | 1/157 [00:00<00:23,  6.71it/s]"
          ],
          "name": "stderr"
        },
        {
          "output_type": "stream",
          "text": [
            "\n",
            "Epoch 34 of 100, 26.78 s, with average training loss: 0.03657580, and validation loss: 1.26468400, validation accuracy: 76.35\n",
            "Epoch 35 starting at: 19:51:31\n"
          ],
          "name": "stdout"
        },
        {
          "output_type": "stream",
          "text": [
            "100%|██████████| 157/157 [00:22<00:00,  6.96it/s]\n",
            "100%|██████████| 40/40 [00:04<00:00,  9.36it/s]\n",
            "  1%|          | 1/157 [00:00<00:23,  6.65it/s]"
          ],
          "name": "stderr"
        },
        {
          "output_type": "stream",
          "text": [
            "\n",
            "Epoch 35 of 100, 26.85 s, with average training loss: 0.03762586, and validation loss: 1.25091829, validation accuracy: 76.40\n",
            "Epoch 36 starting at: 19:51:58\n"
          ],
          "name": "stdout"
        },
        {
          "output_type": "stream",
          "text": [
            "100%|██████████| 157/157 [00:22<00:00,  6.98it/s]\n",
            "100%|██████████| 40/40 [00:04<00:00,  9.29it/s]\n",
            "  1%|          | 1/157 [00:00<00:23,  6.56it/s]"
          ],
          "name": "stderr"
        },
        {
          "output_type": "stream",
          "text": [
            "\n",
            "Epoch 36 of 100, 26.80 s, with average training loss: 0.03019887, and validation loss: 1.34007600, validation accuracy: 75.22\n",
            "Epoch 37 starting at: 19:52:24\n"
          ],
          "name": "stdout"
        },
        {
          "output_type": "stream",
          "text": [
            "100%|██████████| 157/157 [00:22<00:00,  6.96it/s]\n",
            "100%|██████████| 40/40 [00:04<00:00,  9.43it/s]\n",
            "  1%|          | 1/157 [00:00<00:22,  6.97it/s]"
          ],
          "name": "stderr"
        },
        {
          "output_type": "stream",
          "text": [
            "\n",
            "Epoch 37 of 100, 26.81 s, with average training loss: 0.03105420, and validation loss: 1.31527685, validation accuracy: 76.16\n",
            "Epoch 38 starting at: 19:52:51\n"
          ],
          "name": "stdout"
        },
        {
          "output_type": "stream",
          "text": [
            "100%|██████████| 157/157 [00:22<00:00,  6.93it/s]\n",
            "100%|██████████| 40/40 [00:04<00:00,  9.16it/s]\n",
            "  1%|          | 1/157 [00:00<00:23,  6.58it/s]"
          ],
          "name": "stderr"
        },
        {
          "output_type": "stream",
          "text": [
            "\n",
            "Epoch 38 of 100, 27.01 s, with average training loss: 0.03057705, and validation loss: 1.44211053, validation accuracy: 74.41\n",
            "Epoch 39 starting at: 19:53:18\n"
          ],
          "name": "stdout"
        },
        {
          "output_type": "stream",
          "text": [
            "100%|██████████| 157/157 [00:23<00:00,  6.77it/s]\n",
            "100%|██████████| 40/40 [00:04<00:00,  9.15it/s]\n",
            "  1%|          | 1/157 [00:00<00:22,  6.84it/s]"
          ],
          "name": "stderr"
        },
        {
          "output_type": "stream",
          "text": [
            "\n",
            "Epoch 39 of 100, 27.58 s, with average training loss: 0.03931671, and validation loss: 1.34484837, validation accuracy: 74.68\n",
            "Epoch 40 starting at: 19:53:46\n"
          ],
          "name": "stdout"
        },
        {
          "output_type": "stream",
          "text": [
            "100%|██████████| 157/157 [00:22<00:00,  6.92it/s]\n",
            "100%|██████████| 40/40 [00:04<00:00,  9.26it/s]\n",
            "  1%|          | 1/157 [00:00<00:23,  6.61it/s]"
          ],
          "name": "stderr"
        },
        {
          "output_type": "stream",
          "text": [
            "\n",
            "Epoch 40 of 100, 27.00 s, with average training loss: 0.05084666, and validation loss: 1.32939416, validation accuracy: 75.49\n",
            "Epoch 41 starting at: 19:54:13\n"
          ],
          "name": "stdout"
        },
        {
          "output_type": "stream",
          "text": [
            "100%|██████████| 157/157 [00:22<00:00,  6.98it/s]\n",
            "100%|██████████| 40/40 [00:04<00:00,  9.32it/s]\n",
            "  1%|          | 1/157 [00:00<00:22,  6.83it/s]"
          ],
          "name": "stderr"
        },
        {
          "output_type": "stream",
          "text": [
            "Epoch    41: reducing learning rate of group 0 to 1.0000e-03.\n",
            "\n",
            "Epoch 41 of 100, 26.79 s, with average training loss: 0.02794728, and validation loss: 1.32497433, validation accuracy: 75.17\n",
            "Epoch 42 starting at: 19:54:40\n"
          ],
          "name": "stdout"
        },
        {
          "output_type": "stream",
          "text": [
            "100%|██████████| 157/157 [00:22<00:00,  6.90it/s]\n",
            "100%|██████████| 40/40 [00:04<00:00,  9.18it/s]\n",
            "  1%|          | 1/157 [00:00<00:23,  6.61it/s]"
          ],
          "name": "stderr"
        },
        {
          "output_type": "stream",
          "text": [
            "\n",
            "Epoch 42 of 100, 27.12 s, with average training loss: 0.01104790, and validation loss: 1.23628018, validation accuracy: 77.16\n",
            "Epoch 43 starting at: 19:55:07\n"
          ],
          "name": "stdout"
        },
        {
          "output_type": "stream",
          "text": [
            "100%|██████████| 157/157 [00:22<00:00,  6.91it/s]\n",
            "100%|██████████| 40/40 [00:04<00:00,  9.33it/s]\n",
            "  1%|          | 1/157 [00:00<00:23,  6.74it/s]"
          ],
          "name": "stderr"
        },
        {
          "output_type": "stream",
          "text": [
            "\n",
            "Epoch 43 of 100, 27.00 s, with average training loss: 0.00506653, and validation loss: 1.19489158, validation accuracy: 77.56\n",
            "Epoch 44 starting at: 19:55:34\n"
          ],
          "name": "stdout"
        },
        {
          "output_type": "stream",
          "text": [
            "100%|██████████| 157/157 [00:22<00:00,  6.90it/s]\n",
            "100%|██████████| 40/40 [00:04<00:00,  9.21it/s]\n",
            "  1%|          | 1/157 [00:00<00:23,  6.56it/s]"
          ],
          "name": "stderr"
        },
        {
          "output_type": "stream",
          "text": [
            "\n",
            "Epoch 44 of 100, 27.11 s, with average training loss: 0.00351409, and validation loss: 1.20191682, validation accuracy: 77.62\n",
            "Epoch 45 starting at: 19:56:01\n"
          ],
          "name": "stdout"
        },
        {
          "output_type": "stream",
          "text": [
            "100%|██████████| 157/157 [00:22<00:00,  6.92it/s]\n",
            "100%|██████████| 40/40 [00:04<00:00,  9.40it/s]\n",
            "  1%|          | 1/157 [00:00<00:23,  6.75it/s]"
          ],
          "name": "stderr"
        },
        {
          "output_type": "stream",
          "text": [
            "\n",
            "Epoch 45 of 100, 26.95 s, with average training loss: 0.00226111, and validation loss: 1.21471285, validation accuracy: 77.27\n",
            "Epoch 46 starting at: 19:56:28\n"
          ],
          "name": "stdout"
        },
        {
          "output_type": "stream",
          "text": [
            "100%|██████████| 157/157 [00:22<00:00,  6.95it/s]\n",
            "100%|██████████| 40/40 [00:04<00:00,  9.24it/s]\n",
            "  1%|          | 1/157 [00:00<00:22,  6.82it/s]"
          ],
          "name": "stderr"
        },
        {
          "output_type": "stream",
          "text": [
            "\n",
            "Epoch 46 of 100, 26.92 s, with average training loss: 0.00178660, and validation loss: 1.20543657, validation accuracy: 77.85\n",
            "Epoch 47 starting at: 19:56:55\n"
          ],
          "name": "stdout"
        },
        {
          "output_type": "stream",
          "text": [
            "100%|██████████| 157/157 [00:22<00:00,  6.92it/s]\n",
            "100%|██████████| 40/40 [00:04<00:00,  9.34it/s]\n",
            "  1%|          | 1/157 [00:00<00:23,  6.72it/s]"
          ],
          "name": "stderr"
        },
        {
          "output_type": "stream",
          "text": [
            "\n",
            "Epoch 47 of 100, 26.98 s, with average training loss: 0.00135411, and validation loss: 1.21590029, validation accuracy: 77.60\n",
            "Epoch 48 starting at: 19:57:22\n"
          ],
          "name": "stdout"
        },
        {
          "output_type": "stream",
          "text": [
            "100%|██████████| 157/157 [00:22<00:00,  6.97it/s]\n",
            "100%|██████████| 40/40 [00:04<00:00,  9.30it/s]\n",
            "  1%|          | 1/157 [00:00<00:24,  6.40it/s]"
          ],
          "name": "stderr"
        },
        {
          "output_type": "stream",
          "text": [
            "\n",
            "Epoch 48 of 100, 26.83 s, with average training loss: 0.00119596, and validation loss: 1.23471078, validation accuracy: 77.74\n",
            "Epoch 49 starting at: 19:57:49\n"
          ],
          "name": "stdout"
        },
        {
          "output_type": "stream",
          "text": [
            "100%|██████████| 157/157 [00:22<00:00,  6.91it/s]\n",
            "100%|██████████| 40/40 [00:04<00:00,  9.38it/s]\n",
            "  1%|          | 1/157 [00:00<00:22,  6.83it/s]"
          ],
          "name": "stderr"
        },
        {
          "output_type": "stream",
          "text": [
            "\n",
            "Epoch 49 of 100, 27.00 s, with average training loss: 0.00118805, and validation loss: 1.22987239, validation accuracy: 77.87\n",
            "Epoch 50 starting at: 19:58:16\n"
          ],
          "name": "stdout"
        },
        {
          "output_type": "stream",
          "text": [
            "100%|██████████| 157/157 [00:22<00:00,  6.91it/s]\n",
            "100%|██████████| 40/40 [00:04<00:00,  9.25it/s]\n",
            "  1%|          | 1/157 [00:00<00:23,  6.60it/s]"
          ],
          "name": "stderr"
        },
        {
          "output_type": "stream",
          "text": [
            "\n",
            "Epoch 50 of 100, 27.06 s, with average training loss: 0.00115151, and validation loss: 1.26688522, validation accuracy: 77.70\n",
            "Epoch 51 starting at: 19:58:43\n"
          ],
          "name": "stdout"
        },
        {
          "output_type": "stream",
          "text": [
            "100%|██████████| 157/157 [00:22<00:00,  6.89it/s]\n",
            "100%|██████████| 40/40 [00:04<00:00,  9.40it/s]\n",
            "  1%|          | 1/157 [00:00<00:22,  6.86it/s]"
          ],
          "name": "stderr"
        },
        {
          "output_type": "stream",
          "text": [
            "\n",
            "Epoch 51 of 100, 27.04 s, with average training loss: 0.00105498, and validation loss: 1.27079951, validation accuracy: 77.70\n",
            "Epoch 52 starting at: 19:59:10\n"
          ],
          "name": "stdout"
        },
        {
          "output_type": "stream",
          "text": [
            "100%|██████████| 157/157 [00:22<00:00,  6.92it/s]\n",
            "100%|██████████| 40/40 [00:04<00:00,  9.09it/s]\n",
            "  1%|          | 1/157 [00:00<00:24,  6.30it/s]"
          ],
          "name": "stderr"
        },
        {
          "output_type": "stream",
          "text": [
            "\n",
            "Epoch 52 of 100, 27.09 s, with average training loss: 0.00091241, and validation loss: 1.23555577, validation accuracy: 77.94\n",
            "Epoch 53 starting at: 19:59:37\n"
          ],
          "name": "stdout"
        },
        {
          "output_type": "stream",
          "text": [
            "100%|██████████| 157/157 [00:22<00:00,  6.86it/s]\n",
            "100%|██████████| 40/40 [00:04<00:00,  9.26it/s]\n",
            "  1%|          | 1/157 [00:00<00:22,  6.80it/s]"
          ],
          "name": "stderr"
        },
        {
          "output_type": "stream",
          "text": [
            "\n",
            "Epoch 53 of 100, 27.20 s, with average training loss: 0.00091670, and validation loss: 1.24501803, validation accuracy: 77.60\n",
            "Epoch 54 starting at: 20:00:04\n"
          ],
          "name": "stdout"
        },
        {
          "output_type": "stream",
          "text": [
            "100%|██████████| 157/157 [00:22<00:00,  6.92it/s]\n",
            "100%|██████████| 40/40 [00:04<00:00,  9.10it/s]\n",
            "  1%|          | 1/157 [00:00<00:24,  6.47it/s]"
          ],
          "name": "stderr"
        },
        {
          "output_type": "stream",
          "text": [
            "\n",
            "Epoch 54 of 100, 27.08 s, with average training loss: 0.00083924, and validation loss: 1.23868442, validation accuracy: 77.78\n",
            "Epoch 55 starting at: 20:00:31\n"
          ],
          "name": "stdout"
        },
        {
          "output_type": "stream",
          "text": [
            "100%|██████████| 157/157 [00:23<00:00,  6.76it/s]\n",
            "100%|██████████| 40/40 [00:04<00:00,  9.11it/s]\n",
            "  1%|          | 1/157 [00:00<00:23,  6.70it/s]"
          ],
          "name": "stderr"
        },
        {
          "output_type": "stream",
          "text": [
            "\n",
            "Epoch 55 of 100, 27.62 s, with average training loss: 0.00083378, and validation loss: 1.25799587, validation accuracy: 77.84\n",
            "Epoch 56 starting at: 20:00:59\n"
          ],
          "name": "stdout"
        },
        {
          "output_type": "stream",
          "text": [
            "100%|██████████| 157/157 [00:23<00:00,  6.75it/s]\n",
            "100%|██████████| 40/40 [00:04<00:00,  9.05it/s]\n",
            "  1%|          | 1/157 [00:00<00:23,  6.62it/s]"
          ],
          "name": "stderr"
        },
        {
          "output_type": "stream",
          "text": [
            "\n",
            "Epoch 56 of 100, 27.68 s, with average training loss: 0.00078106, and validation loss: 1.20245537, validation accuracy: 78.24\n",
            "Epoch 57 starting at: 20:01:26\n"
          ],
          "name": "stdout"
        },
        {
          "output_type": "stream",
          "text": [
            "100%|██████████| 157/157 [00:23<00:00,  6.76it/s]\n",
            "100%|██████████| 40/40 [00:04<00:00,  9.19it/s]\n",
            "  1%|          | 1/157 [00:00<00:23,  6.51it/s]"
          ],
          "name": "stderr"
        },
        {
          "output_type": "stream",
          "text": [
            "\n",
            "Epoch 57 of 100, 27.58 s, with average training loss: 0.00076078, and validation loss: 1.21111868, validation accuracy: 77.82\n",
            "Epoch 58 starting at: 20:01:54\n"
          ],
          "name": "stdout"
        },
        {
          "output_type": "stream",
          "text": [
            "100%|██████████| 157/157 [00:23<00:00,  6.82it/s]\n",
            "100%|██████████| 40/40 [00:04<00:00,  9.07it/s]\n",
            "  1%|          | 1/157 [00:00<00:23,  6.63it/s]"
          ],
          "name": "stderr"
        },
        {
          "output_type": "stream",
          "text": [
            "\n",
            "Epoch 58 of 100, 27.42 s, with average training loss: 0.00074121, and validation loss: 1.27494701, validation accuracy: 77.85\n",
            "Epoch 59 starting at: 20:02:21\n"
          ],
          "name": "stdout"
        },
        {
          "output_type": "stream",
          "text": [
            "100%|██████████| 157/157 [00:23<00:00,  6.83it/s]\n",
            "100%|██████████| 40/40 [00:04<00:00,  9.14it/s]\n",
            "  1%|          | 1/157 [00:00<00:24,  6.49it/s]"
          ],
          "name": "stderr"
        },
        {
          "output_type": "stream",
          "text": [
            "\n",
            "Epoch 59 of 100, 27.39 s, with average training loss: 0.00076479, and validation loss: 1.21445210, validation accuracy: 77.89\n",
            "Epoch 60 starting at: 20:02:49\n"
          ],
          "name": "stdout"
        },
        {
          "output_type": "stream",
          "text": [
            "100%|██████████| 157/157 [00:22<00:00,  6.89it/s]\n",
            "100%|██████████| 40/40 [00:04<00:00,  9.06it/s]\n",
            "  1%|          | 1/157 [00:00<00:24,  6.49it/s]"
          ],
          "name": "stderr"
        },
        {
          "output_type": "stream",
          "text": [
            "\n",
            "Epoch 60 of 100, 27.21 s, with average training loss: 0.00066499, and validation loss: 1.20065858, validation accuracy: 77.63\n",
            "Epoch 61 starting at: 20:03:16\n"
          ],
          "name": "stdout"
        },
        {
          "output_type": "stream",
          "text": [
            "100%|██████████| 157/157 [00:23<00:00,  6.80it/s]\n",
            "100%|██████████| 40/40 [00:04<00:00,  8.82it/s]\n",
            "  1%|          | 1/157 [00:00<00:23,  6.54it/s]"
          ],
          "name": "stderr"
        },
        {
          "output_type": "stream",
          "text": [
            "\n",
            "Epoch 61 of 100, 27.63 s, with average training loss: 0.00062734, and validation loss: 1.21080074, validation accuracy: 78.12\n",
            "Epoch 62 starting at: 20:03:44\n"
          ],
          "name": "stdout"
        },
        {
          "output_type": "stream",
          "text": [
            "100%|██████████| 157/157 [00:23<00:00,  6.77it/s]\n",
            "100%|██████████| 40/40 [00:04<00:00,  9.00it/s]\n",
            "  1%|          | 1/157 [00:00<00:24,  6.42it/s]"
          ],
          "name": "stderr"
        },
        {
          "output_type": "stream",
          "text": [
            "Epoch    62: reducing learning rate of group 0 to 1.0000e-04.\n",
            "\n",
            "Epoch 62 of 100, 27.63 s, with average training loss: 0.00056936, and validation loss: 1.23616374, validation accuracy: 78.08\n",
            "Epoch 63 starting at: 20:04:11\n"
          ],
          "name": "stdout"
        },
        {
          "output_type": "stream",
          "text": [
            "100%|██████████| 157/157 [00:22<00:00,  6.84it/s]\n",
            "100%|██████████| 40/40 [00:04<00:00,  9.04it/s]\n",
            "  1%|          | 1/157 [00:00<00:23,  6.55it/s]"
          ],
          "name": "stderr"
        },
        {
          "output_type": "stream",
          "text": [
            "\n",
            "Epoch 63 of 100, 27.39 s, with average training loss: 0.00056659, and validation loss: 1.24959313, validation accuracy: 78.38\n",
            "Epoch 64 starting at: 20:04:39\n"
          ],
          "name": "stdout"
        },
        {
          "output_type": "stream",
          "text": [
            "100%|██████████| 157/157 [00:23<00:00,  6.82it/s]\n",
            "100%|██████████| 40/40 [00:04<00:00,  9.08it/s]\n",
            "  1%|          | 1/157 [00:00<00:23,  6.50it/s]"
          ],
          "name": "stderr"
        },
        {
          "output_type": "stream",
          "text": [
            "\n",
            "Epoch 64 of 100, 27.44 s, with average training loss: 0.00055838, and validation loss: 1.23052817, validation accuracy: 77.91\n",
            "Epoch 65 starting at: 20:05:06\n"
          ],
          "name": "stdout"
        },
        {
          "output_type": "stream",
          "text": [
            "100%|██████████| 157/157 [00:22<00:00,  6.90it/s]\n",
            "100%|██████████| 40/40 [00:04<00:00,  9.24it/s]\n",
            "  1%|          | 1/157 [00:00<00:23,  6.66it/s]"
          ],
          "name": "stderr"
        },
        {
          "output_type": "stream",
          "text": [
            "\n",
            "Epoch 65 of 100, 27.11 s, with average training loss: 0.00055451, and validation loss: 1.22981075, validation accuracy: 77.60\n",
            "Epoch 66 starting at: 20:05:33\n"
          ],
          "name": "stdout"
        },
        {
          "output_type": "stream",
          "text": [
            "100%|██████████| 157/157 [00:22<00:00,  6.89it/s]\n",
            "100%|██████████| 40/40 [00:04<00:00,  9.12it/s]\n",
            "  1%|          | 1/157 [00:00<00:24,  6.40it/s]"
          ],
          "name": "stderr"
        },
        {
          "output_type": "stream",
          "text": [
            "\n",
            "Epoch 66 of 100, 27.19 s, with average training loss: 0.00062482, and validation loss: 1.23062630, validation accuracy: 77.79\n",
            "Epoch 67 starting at: 20:06:00\n"
          ],
          "name": "stdout"
        },
        {
          "output_type": "stream",
          "text": [
            "100%|██████████| 157/157 [00:22<00:00,  6.84it/s]\n",
            "100%|██████████| 40/40 [00:04<00:00,  9.29it/s]\n",
            "  1%|          | 1/157 [00:00<00:23,  6.71it/s]"
          ],
          "name": "stderr"
        },
        {
          "output_type": "stream",
          "text": [
            "\n",
            "Epoch 67 of 100, 27.26 s, with average training loss: 0.00056012, and validation loss: 1.24669732, validation accuracy: 78.24\n",
            "Epoch 68 starting at: 20:06:28\n"
          ],
          "name": "stdout"
        },
        {
          "output_type": "stream",
          "text": [
            "100%|██████████| 157/157 [00:22<00:00,  6.92it/s]\n",
            "100%|██████████| 40/40 [00:04<00:00,  9.23it/s]\n",
            "  1%|          | 1/157 [00:00<00:24,  6.44it/s]"
          ],
          "name": "stderr"
        },
        {
          "output_type": "stream",
          "text": [
            "\n",
            "Epoch 68 of 100, 27.02 s, with average training loss: 0.00058363, and validation loss: 1.20830131, validation accuracy: 78.10\n",
            "Epoch 69 starting at: 20:06:55\n"
          ],
          "name": "stdout"
        },
        {
          "output_type": "stream",
          "text": [
            "100%|██████████| 157/157 [00:22<00:00,  6.85it/s]\n",
            "100%|██████████| 40/40 [00:04<00:00,  9.22it/s]\n",
            "  1%|          | 1/157 [00:00<00:22,  6.92it/s]"
          ],
          "name": "stderr"
        },
        {
          "output_type": "stream",
          "text": [
            "Epoch    69: reducing learning rate of group 0 to 1.0000e-05.\n",
            "\n",
            "Epoch 69 of 100, 27.26 s, with average training loss: 0.00053379, and validation loss: 1.19563083, validation accuracy: 78.16\n",
            "Epoch 70 starting at: 20:07:22\n"
          ],
          "name": "stdout"
        },
        {
          "output_type": "stream",
          "text": [
            "100%|██████████| 157/157 [00:22<00:00,  6.90it/s]\n",
            "100%|██████████| 40/40 [00:04<00:00,  9.13it/s]\n",
            "  1%|          | 1/157 [00:00<00:24,  6.32it/s]"
          ],
          "name": "stderr"
        },
        {
          "output_type": "stream",
          "text": [
            "\n",
            "Epoch 70 of 100, 27.13 s, with average training loss: 0.00054810, and validation loss: 1.23932606, validation accuracy: 78.01\n",
            "Epoch 71 starting at: 20:07:49\n"
          ],
          "name": "stdout"
        },
        {
          "output_type": "stream",
          "text": [
            "100%|██████████| 157/157 [00:22<00:00,  6.91it/s]\n",
            "100%|██████████| 40/40 [00:04<00:00,  9.24it/s]\n",
            "  1%|          | 1/157 [00:00<00:23,  6.72it/s]"
          ],
          "name": "stderr"
        },
        {
          "output_type": "stream",
          "text": [
            "\n",
            "Epoch 71 of 100, 27.07 s, with average training loss: 0.00058493, and validation loss: 1.24547852, validation accuracy: 78.05\n",
            "Epoch 72 starting at: 20:08:16\n"
          ],
          "name": "stdout"
        },
        {
          "output_type": "stream",
          "text": [
            "100%|██████████| 157/157 [00:22<00:00,  6.86it/s]\n",
            "100%|██████████| 40/40 [00:04<00:00,  9.06it/s]\n",
            "  1%|          | 1/157 [00:00<00:23,  6.62it/s]"
          ],
          "name": "stderr"
        },
        {
          "output_type": "stream",
          "text": [
            "\n",
            "Epoch 72 of 100, 27.32 s, with average training loss: 0.00051185, and validation loss: 1.20523973, validation accuracy: 78.18\n",
            "Epoch 73 starting at: 20:08:43\n"
          ],
          "name": "stdout"
        },
        {
          "output_type": "stream",
          "text": [
            "100%|██████████| 157/157 [00:23<00:00,  6.82it/s]\n",
            "100%|██████████| 40/40 [00:04<00:00,  9.22it/s]\n",
            "  1%|          | 1/157 [00:00<00:22,  6.93it/s]"
          ],
          "name": "stderr"
        },
        {
          "output_type": "stream",
          "text": [
            "\n",
            "Epoch 73 of 100, 27.36 s, with average training loss: 0.00055460, and validation loss: 1.24730413, validation accuracy: 78.01\n",
            "Epoch 74 starting at: 20:09:11\n"
          ],
          "name": "stdout"
        },
        {
          "output_type": "stream",
          "text": [
            "100%|██████████| 157/157 [00:22<00:00,  6.90it/s]\n",
            "100%|██████████| 40/40 [00:04<00:00,  9.08it/s]\n",
            "  1%|          | 1/157 [00:00<00:24,  6.34it/s]"
          ],
          "name": "stderr"
        },
        {
          "output_type": "stream",
          "text": [
            "\n",
            "Epoch 74 of 100, 27.15 s, with average training loss: 0.00056378, and validation loss: 1.23015901, validation accuracy: 77.87\n",
            "Epoch 75 starting at: 20:09:38\n"
          ],
          "name": "stdout"
        },
        {
          "output_type": "stream",
          "text": [
            "100%|██████████| 157/157 [00:22<00:00,  6.85it/s]\n",
            "100%|██████████| 40/40 [00:04<00:00,  9.12it/s]\n",
            "  1%|          | 1/157 [00:00<00:22,  6.86it/s]"
          ],
          "name": "stderr"
        },
        {
          "output_type": "stream",
          "text": [
            "Epoch    75: reducing learning rate of group 0 to 1.0000e-06.\n",
            "\n",
            "Epoch 75 of 100, 27.32 s, with average training loss: 0.00053094, and validation loss: 1.26724249, validation accuracy: 77.93\n",
            "Epoch 76 starting at: 20:10:05\n"
          ],
          "name": "stdout"
        },
        {
          "output_type": "stream",
          "text": [
            "100%|██████████| 157/157 [00:22<00:00,  6.87it/s]\n",
            "100%|██████████| 40/40 [00:04<00:00,  9.02it/s]\n",
            "  1%|          | 1/157 [00:00<00:24,  6.29it/s]"
          ],
          "name": "stderr"
        },
        {
          "output_type": "stream",
          "text": [
            "\n",
            "Epoch 76 of 100, 27.30 s, with average training loss: 0.00052498, and validation loss: 1.21617847, validation accuracy: 77.96\n",
            "Epoch 77 starting at: 20:10:32\n"
          ],
          "name": "stdout"
        },
        {
          "output_type": "stream",
          "text": [
            "100%|██████████| 157/157 [00:22<00:00,  6.86it/s]\n",
            "100%|██████████| 40/40 [00:04<00:00,  9.26it/s]\n",
            "  1%|          | 1/157 [00:00<00:22,  6.81it/s]"
          ],
          "name": "stderr"
        },
        {
          "output_type": "stream",
          "text": [
            "\n",
            "Epoch 77 of 100, 27.22 s, with average training loss: 0.00055185, and validation loss: 1.25254122, validation accuracy: 77.94\n",
            "Epoch 78 starting at: 20:11:00\n"
          ],
          "name": "stdout"
        },
        {
          "output_type": "stream",
          "text": [
            "100%|██████████| 157/157 [00:22<00:00,  6.83it/s]\n",
            "100%|██████████| 40/40 [00:04<00:00,  9.13it/s]\n",
            "  1%|          | 1/157 [00:00<00:24,  6.42it/s]"
          ],
          "name": "stderr"
        },
        {
          "output_type": "stream",
          "text": [
            "\n",
            "Epoch 78 of 100, 27.38 s, with average training loss: 0.00054105, and validation loss: 1.21615855, validation accuracy: 78.29\n",
            "Epoch 79 starting at: 20:11:27\n"
          ],
          "name": "stdout"
        },
        {
          "output_type": "stream",
          "text": [
            "100%|██████████| 157/157 [00:22<00:00,  6.87it/s]\n",
            "100%|██████████| 40/40 [00:04<00:00,  9.39it/s]\n",
            "  1%|          | 1/157 [00:00<00:22,  6.95it/s]"
          ],
          "name": "stderr"
        },
        {
          "output_type": "stream",
          "text": [
            "\n",
            "Epoch 79 of 100, 27.11 s, with average training loss: 0.00055470, and validation loss: 1.26573196, validation accuracy: 77.81\n",
            "Epoch 80 starting at: 20:11:54\n"
          ],
          "name": "stdout"
        },
        {
          "output_type": "stream",
          "text": [
            "100%|██████████| 157/157 [00:22<00:00,  6.88it/s]\n",
            "100%|██████████| 40/40 [00:04<00:00,  8.98it/s]\n",
            "  1%|          | 1/157 [00:00<00:25,  6.21it/s]"
          ],
          "name": "stderr"
        },
        {
          "output_type": "stream",
          "text": [
            "\n",
            "Epoch 80 of 100, 27.29 s, with average training loss: 0.00052943, and validation loss: 1.26083829, validation accuracy: 77.74\n",
            "Epoch 81 starting at: 20:12:21\n"
          ],
          "name": "stdout"
        },
        {
          "output_type": "stream",
          "text": [
            "100%|██████████| 157/157 [00:22<00:00,  6.86it/s]\n",
            "100%|██████████| 40/40 [00:04<00:00,  9.02it/s]\n",
            "  1%|          | 1/157 [00:00<00:24,  6.34it/s]"
          ],
          "name": "stderr"
        },
        {
          "output_type": "stream",
          "text": [
            "Epoch    81: reducing learning rate of group 0 to 1.0000e-07.\n",
            "\n",
            "Epoch 81 of 100, 27.33 s, with average training loss: 0.00055304, and validation loss: 1.20680555, validation accuracy: 77.95\n",
            "Epoch 82 starting at: 20:12:49\n"
          ],
          "name": "stdout"
        },
        {
          "output_type": "stream",
          "text": [
            "100%|██████████| 157/157 [00:22<00:00,  6.88it/s]\n",
            "100%|██████████| 40/40 [00:04<00:00,  9.19it/s]\n",
            "  1%|          | 1/157 [00:00<00:24,  6.50it/s]"
          ],
          "name": "stderr"
        },
        {
          "output_type": "stream",
          "text": [
            "\n",
            "Epoch 82 of 100, 27.17 s, with average training loss: 0.00057300, and validation loss: 1.25199339, validation accuracy: 77.49\n",
            "Epoch 83 starting at: 20:13:16\n"
          ],
          "name": "stdout"
        },
        {
          "output_type": "stream",
          "text": [
            "100%|██████████| 157/157 [00:22<00:00,  6.92it/s]\n",
            "100%|██████████| 40/40 [00:04<00:00,  9.33it/s]\n",
            "  1%|          | 1/157 [00:00<00:22,  6.98it/s]"
          ],
          "name": "stderr"
        },
        {
          "output_type": "stream",
          "text": [
            "\n",
            "Epoch 83 of 100, 26.97 s, with average training loss: 0.00055249, and validation loss: 1.22640376, validation accuracy: 77.89\n",
            "Epoch 84 starting at: 20:13:43\n"
          ],
          "name": "stdout"
        },
        {
          "output_type": "stream",
          "text": [
            "100%|██████████| 157/157 [00:22<00:00,  6.94it/s]\n",
            "100%|██████████| 40/40 [00:04<00:00,  9.28it/s]\n",
            "  1%|          | 1/157 [00:00<00:24,  6.45it/s]"
          ],
          "name": "stderr"
        },
        {
          "output_type": "stream",
          "text": [
            "\n",
            "Epoch 84 of 100, 26.93 s, with average training loss: 0.00051682, and validation loss: 1.28358689, validation accuracy: 77.66\n",
            "Epoch 85 starting at: 20:14:10\n"
          ],
          "name": "stdout"
        },
        {
          "output_type": "stream",
          "text": [
            "100%|██████████| 157/157 [00:22<00:00,  6.94it/s]\n",
            "100%|██████████| 40/40 [00:04<00:00,  9.22it/s]\n",
            "  1%|          | 1/157 [00:00<00:23,  6.59it/s]"
          ],
          "name": "stderr"
        },
        {
          "output_type": "stream",
          "text": [
            "\n",
            "Epoch 85 of 100, 26.98 s, with average training loss: 0.00055275, and validation loss: 1.22248438, validation accuracy: 77.91\n",
            "Epoch 86 starting at: 20:14:37\n"
          ],
          "name": "stdout"
        },
        {
          "output_type": "stream",
          "text": [
            "100%|██████████| 157/157 [00:22<00:00,  6.95it/s]\n",
            "100%|██████████| 40/40 [00:04<00:00,  9.14it/s]\n",
            "  1%|          | 1/157 [00:00<00:23,  6.71it/s]"
          ],
          "name": "stderr"
        },
        {
          "output_type": "stream",
          "text": [
            "\n",
            "Epoch 86 of 100, 26.98 s, with average training loss: 0.00059047, and validation loss: 1.24171774, validation accuracy: 77.99\n",
            "Epoch 87 starting at: 20:15:04\n"
          ],
          "name": "stdout"
        },
        {
          "output_type": "stream",
          "text": [
            "100%|██████████| 157/157 [00:22<00:00,  6.92it/s]\n",
            "100%|██████████| 40/40 [00:04<00:00,  9.18it/s]\n",
            "  1%|          | 1/157 [00:00<00:23,  6.73it/s]"
          ],
          "name": "stderr"
        },
        {
          "output_type": "stream",
          "text": [
            "Epoch    87: reducing learning rate of group 0 to 1.0000e-08.\n",
            "\n",
            "Epoch 87 of 100, 27.07 s, with average training loss: 0.00054148, and validation loss: 1.20881944, validation accuracy: 77.75\n",
            "Epoch 88 starting at: 20:15:31\n"
          ],
          "name": "stdout"
        },
        {
          "output_type": "stream",
          "text": [
            "100%|██████████| 157/157 [00:22<00:00,  6.94it/s]\n",
            "100%|██████████| 40/40 [00:04<00:00,  9.33it/s]\n",
            "  1%|          | 1/157 [00:00<00:23,  6.53it/s]"
          ],
          "name": "stderr"
        },
        {
          "output_type": "stream",
          "text": [
            "\n",
            "Epoch 88 of 100, 26.93 s, with average training loss: 0.00056230, and validation loss: 1.24576260, validation accuracy: 78.36\n",
            "Epoch 89 starting at: 20:15:58\n"
          ],
          "name": "stdout"
        },
        {
          "output_type": "stream",
          "text": [
            "100%|██████████| 157/157 [00:22<00:00,  6.95it/s]\n",
            "100%|██████████| 40/40 [00:04<00:00,  9.45it/s]\n",
            "  1%|          | 1/157 [00:00<00:23,  6.66it/s]"
          ],
          "name": "stderr"
        },
        {
          "output_type": "stream",
          "text": [
            "\n",
            "Epoch 89 of 100, 26.81 s, with average training loss: 0.00059006, and validation loss: 1.22444405, validation accuracy: 78.02\n",
            "Epoch 90 starting at: 20:16:25\n"
          ],
          "name": "stdout"
        },
        {
          "output_type": "stream",
          "text": [
            "100%|██████████| 157/157 [00:22<00:00,  6.89it/s]\n",
            "100%|██████████| 40/40 [00:04<00:00,  9.23it/s]\n",
            "  1%|          | 1/157 [00:00<00:24,  6.49it/s]"
          ],
          "name": "stderr"
        },
        {
          "output_type": "stream",
          "text": [
            "\n",
            "Epoch 90 of 100, 27.11 s, with average training loss: 0.00050466, and validation loss: 1.23195054, validation accuracy: 77.93\n",
            "Epoch 91 starting at: 20:16:52\n"
          ],
          "name": "stdout"
        },
        {
          "output_type": "stream",
          "text": [
            "100%|██████████| 157/157 [00:22<00:00,  6.88it/s]\n",
            "100%|██████████| 40/40 [00:04<00:00,  9.34it/s]\n",
            "  1%|          | 1/157 [00:00<00:22,  6.82it/s]"
          ],
          "name": "stderr"
        },
        {
          "output_type": "stream",
          "text": [
            "\n",
            "Epoch 91 of 100, 27.13 s, with average training loss: 0.00056799, and validation loss: 1.23793533, validation accuracy: 77.82\n",
            "Epoch 92 starting at: 20:17:19\n"
          ],
          "name": "stdout"
        },
        {
          "output_type": "stream",
          "text": [
            "100%|██████████| 157/157 [00:22<00:00,  6.92it/s]\n",
            "100%|██████████| 40/40 [00:04<00:00,  9.16it/s]\n",
            "  1%|          | 1/157 [00:00<00:23,  6.50it/s]"
          ],
          "name": "stderr"
        },
        {
          "output_type": "stream",
          "text": [
            "\n",
            "Epoch 92 of 100, 27.07 s, with average training loss: 0.00056633, and validation loss: 1.19678041, validation accuracy: 78.09\n",
            "Epoch 93 starting at: 20:17:46\n"
          ],
          "name": "stdout"
        },
        {
          "output_type": "stream",
          "text": [
            "100%|██████████| 157/157 [00:22<00:00,  6.94it/s]\n",
            "100%|██████████| 40/40 [00:04<00:00,  9.22it/s]\n",
            "  1%|          | 1/157 [00:00<00:24,  6.41it/s]"
          ],
          "name": "stderr"
        },
        {
          "output_type": "stream",
          "text": [
            "\n",
            "Epoch 93 of 100, 26.98 s, with average training loss: 0.00053684, and validation loss: 1.20217374, validation accuracy: 78.12\n",
            "Epoch 94 starting at: 20:18:13\n"
          ],
          "name": "stdout"
        },
        {
          "output_type": "stream",
          "text": [
            "100%|██████████| 157/157 [00:22<00:00,  6.88it/s]\n",
            "100%|██████████| 40/40 [00:04<00:00,  8.99it/s]\n",
            "  1%|          | 1/157 [00:00<00:24,  6.28it/s]"
          ],
          "name": "stderr"
        },
        {
          "output_type": "stream",
          "text": [
            "\n",
            "Epoch 94 of 100, 27.27 s, with average training loss: 0.00057916, and validation loss: 1.23706018, validation accuracy: 78.14\n",
            "Epoch 95 starting at: 20:18:40\n"
          ],
          "name": "stdout"
        },
        {
          "output_type": "stream",
          "text": [
            "100%|██████████| 157/157 [00:23<00:00,  6.78it/s]\n",
            "100%|██████████| 40/40 [00:04<00:00,  9.21it/s]\n",
            "  1%|          | 1/157 [00:00<00:24,  6.47it/s]"
          ],
          "name": "stderr"
        },
        {
          "output_type": "stream",
          "text": [
            "\n",
            "Epoch 95 of 100, 27.51 s, with average training loss: 0.00054350, and validation loss: 1.21738127, validation accuracy: 78.24\n",
            "Epoch 96 starting at: 20:19:08\n"
          ],
          "name": "stdout"
        },
        {
          "output_type": "stream",
          "text": [
            "100%|██████████| 157/157 [00:23<00:00,  6.82it/s]\n",
            "100%|██████████| 40/40 [00:04<00:00,  8.97it/s]\n",
            "  1%|          | 1/157 [00:00<00:23,  6.52it/s]"
          ],
          "name": "stderr"
        },
        {
          "output_type": "stream",
          "text": [
            "\n",
            "Epoch 96 of 100, 27.48 s, with average training loss: 0.00055330, and validation loss: 1.26779492, validation accuracy: 77.67\n",
            "Epoch 97 starting at: 20:19:35\n"
          ],
          "name": "stdout"
        },
        {
          "output_type": "stream",
          "text": [
            "100%|██████████| 157/157 [00:22<00:00,  6.89it/s]\n",
            "100%|██████████| 40/40 [00:04<00:00,  9.24it/s]\n",
            "  1%|          | 1/157 [00:00<00:23,  6.71it/s]"
          ],
          "name": "stderr"
        },
        {
          "output_type": "stream",
          "text": [
            "\n",
            "Epoch 97 of 100, 27.14 s, with average training loss: 0.00056180, and validation loss: 1.20429694, validation accuracy: 78.38\n",
            "Epoch 98 starting at: 20:20:02\n"
          ],
          "name": "stdout"
        },
        {
          "output_type": "stream",
          "text": [
            "100%|██████████| 157/157 [00:22<00:00,  6.87it/s]\n",
            "100%|██████████| 40/40 [00:04<00:00,  8.90it/s]\n",
            "  1%|          | 1/157 [00:00<00:25,  6.08it/s]"
          ],
          "name": "stderr"
        },
        {
          "output_type": "stream",
          "text": [
            "\n",
            "Epoch 98 of 100, 27.34 s, with average training loss: 0.00058561, and validation loss: 1.21767228, validation accuracy: 78.10\n",
            "Epoch 99 starting at: 20:20:30\n"
          ],
          "name": "stdout"
        },
        {
          "output_type": "stream",
          "text": [
            "100%|██████████| 157/157 [00:22<00:00,  6.84it/s]\n",
            "100%|██████████| 40/40 [00:04<00:00,  9.22it/s]\n",
            "  1%|          | 1/157 [00:00<00:22,  6.91it/s]"
          ],
          "name": "stderr"
        },
        {
          "output_type": "stream",
          "text": [
            "\n",
            "Epoch 99 of 100, 27.31 s, with average training loss: 0.00057145, and validation loss: 1.20509507, validation accuracy: 78.42\n",
            "Epoch 100 starting at: 20:20:57\n"
          ],
          "name": "stdout"
        },
        {
          "output_type": "stream",
          "text": [
            "100%|██████████| 157/157 [00:22<00:00,  6.90it/s]\n",
            "100%|██████████| 40/40 [00:04<00:00,  9.16it/s]\n"
          ],
          "name": "stderr"
        },
        {
          "output_type": "stream",
          "text": [
            "\n",
            "Epoch 100 of 100, 27.13 s, with average training loss: 0.00056574, and validation loss: 1.25492236, validation accuracy: 77.75\n",
            "Finished Training  10/05/2021 20:21:24\n",
            "Avg per epoch ptime: 27.14, total 100 epochs ptime: 2713.96\n"
          ],
          "name": "stdout"
        }
      ]
    },
    {
      "cell_type": "markdown",
      "metadata": {
        "id": "Cts6FevpUEhu"
      },
      "source": [
        "### GoogLeNet Training"
      ]
    },
    {
      "cell_type": "code",
      "metadata": {
        "colab": {
          "base_uri": "https://localhost:8080/"
        },
        "id": "TZI9FoipPBO7",
        "outputId": "13d7ac37-d482-445b-ea39-5bed44f48ee9"
      },
      "source": [
        "# Load and train GoogLeNet\n",
        "net, optimizer, scheduler = LoadGLNet(device)\n",
        "TrainGLNet(net, optimizer, scheduler, criterion, epochs, train_loader)\n",
        "torch.save(net.state_dict(), model_dir + '/GoogLeNet_CIFAR10_model.pth')\n",
        "del net\n",
        "del optimizer\n",
        "del scheduler"
      ],
      "execution_count": null,
      "outputs": [
        {
          "output_type": "stream",
          "text": [
            "Using cache found in /root/.cache/torch/hub/pytorch_vision_v0.9.0\n",
            "/usr/local/lib/python3.7/dist-packages/torchvision/models/googlenet.py:79: FutureWarning: The default weight initialization of GoogleNet will be changed in future releases of torchvision. If you wish to keep the old behavior (which leads to long initialization times due to scipy/scipy#11299), please set init_weights=True.\n",
            "  ' due to scipy/scipy#11299), please set init_weights=True.', FutureWarning)\n",
            "  1%|          | 1/157 [00:00<00:20,  7.51it/s]"
          ],
          "name": "stderr"
        },
        {
          "output_type": "stream",
          "text": [
            "Adjusting learning rate of group 0 to 1.0000e-02.\n",
            "\n",
            "Training GoogLeNet\n",
            "Training starting  10/05/2021 20:23:13\n",
            "Epoch 1 starting at: 20:23:13\n"
          ],
          "name": "stdout"
        },
        {
          "output_type": "stream",
          "text": [
            "100%|██████████| 157/157 [00:20<00:00,  7.57it/s]\n",
            "100%|██████████| 40/40 [00:04<00:00,  9.44it/s]\n",
            "/usr/local/lib/python3.7/dist-packages/numpy/core/fromnumeric.py:3373: RuntimeWarning: Mean of empty slice.\n",
            "  out=out, **kwargs)\n",
            "/usr/local/lib/python3.7/dist-packages/numpy/core/_methods.py:170: RuntimeWarning: invalid value encountered in double_scalars\n",
            "  ret = ret.dtype.type(ret / rcount)\n",
            "  1%|          | 1/157 [00:00<00:22,  7.06it/s]"
          ],
          "name": "stderr"
        },
        {
          "output_type": "stream",
          "text": [
            "Adjusting learning rate of group 0 to 1.0000e-02.\n",
            "\n",
            "Epoch 1 of 100, 24.99 s, with average training loss: 1.77926491, and validation loss: nan, validation accuracy: 45.90\n",
            "Epoch 2 starting at: 20:23:38\n"
          ],
          "name": "stdout"
        },
        {
          "output_type": "stream",
          "text": [
            "100%|██████████| 157/157 [00:20<00:00,  7.55it/s]\n",
            "100%|██████████| 40/40 [00:04<00:00,  9.99it/s]\n",
            "  1%|          | 1/157 [00:00<00:21,  7.23it/s]"
          ],
          "name": "stderr"
        },
        {
          "output_type": "stream",
          "text": [
            "Adjusting learning rate of group 0 to 1.0000e-02.\n",
            "\n",
            "Epoch 2 of 100, 24.81 s, with average training loss: 1.17002009, and validation loss: nan, validation accuracy: 58.07\n",
            "Epoch 3 starting at: 20:24:03\n"
          ],
          "name": "stdout"
        },
        {
          "output_type": "stream",
          "text": [
            "100%|██████████| 157/157 [00:20<00:00,  7.63it/s]\n",
            "100%|██████████| 40/40 [00:04<00:00,  9.80it/s]\n",
            "  1%|          | 1/157 [00:00<00:21,  7.11it/s]"
          ],
          "name": "stderr"
        },
        {
          "output_type": "stream",
          "text": [
            "Adjusting learning rate of group 0 to 1.0000e-02.\n",
            "\n",
            "Epoch 3 of 100, 24.65 s, with average training loss: 0.96291114, and validation loss: nan, validation accuracy: 64.12\n",
            "Epoch 4 starting at: 20:24:27\n"
          ],
          "name": "stdout"
        },
        {
          "output_type": "stream",
          "text": [
            "100%|██████████| 157/157 [00:20<00:00,  7.66it/s]\n",
            "100%|██████████| 40/40 [00:04<00:00,  9.89it/s]\n",
            "  1%|          | 1/157 [00:00<00:20,  7.79it/s]"
          ],
          "name": "stderr"
        },
        {
          "output_type": "stream",
          "text": [
            "Adjusting learning rate of group 0 to 1.0000e-02.\n",
            "\n",
            "Epoch 4 of 100, 24.55 s, with average training loss: 0.80705745, and validation loss: nan, validation accuracy: 65.00\n",
            "Epoch 5 starting at: 20:24:52\n"
          ],
          "name": "stdout"
        },
        {
          "output_type": "stream",
          "text": [
            "100%|██████████| 157/157 [00:20<00:00,  7.64it/s]\n",
            "100%|██████████| 40/40 [00:04<00:00,  9.96it/s]\n",
            "  1%|          | 1/157 [00:00<00:20,  7.48it/s]"
          ],
          "name": "stderr"
        },
        {
          "output_type": "stream",
          "text": [
            "Adjusting learning rate of group 0 to 1.0000e-02.\n",
            "\n",
            "Epoch 5 of 100, 24.57 s, with average training loss: 0.70087487, and validation loss: nan, validation accuracy: 70.81\n",
            "Epoch 6 starting at: 20:25:16\n"
          ],
          "name": "stdout"
        },
        {
          "output_type": "stream",
          "text": [
            "100%|██████████| 157/157 [00:20<00:00,  7.63it/s]\n",
            "100%|██████████| 40/40 [00:04<00:00,  9.75it/s]\n",
            "  1%|          | 1/157 [00:00<00:21,  7.38it/s]"
          ],
          "name": "stderr"
        },
        {
          "output_type": "stream",
          "text": [
            "Adjusting learning rate of group 0 to 1.0000e-02.\n",
            "\n",
            "Epoch 6 of 100, 24.70 s, with average training loss: 0.61120508, and validation loss: nan, validation accuracy: 72.26\n",
            "Epoch 7 starting at: 20:25:41\n"
          ],
          "name": "stdout"
        },
        {
          "output_type": "stream",
          "text": [
            "100%|██████████| 157/157 [00:20<00:00,  7.66it/s]\n",
            "100%|██████████| 40/40 [00:04<00:00,  9.73it/s]\n",
            "  1%|          | 1/157 [00:00<00:21,  7.43it/s]"
          ],
          "name": "stderr"
        },
        {
          "output_type": "stream",
          "text": [
            "Adjusting learning rate of group 0 to 1.0000e-02.\n",
            "\n",
            "Epoch 7 of 100, 24.61 s, with average training loss: 0.53962046, and validation loss: nan, validation accuracy: 73.97\n",
            "Epoch 8 starting at: 20:26:06\n"
          ],
          "name": "stdout"
        },
        {
          "output_type": "stream",
          "text": [
            "100%|██████████| 157/157 [00:20<00:00,  7.58it/s]\n",
            "100%|██████████| 40/40 [00:04<00:00,  9.97it/s]\n",
            "  1%|          | 1/157 [00:00<00:20,  7.61it/s]"
          ],
          "name": "stderr"
        },
        {
          "output_type": "stream",
          "text": [
            "Adjusting learning rate of group 0 to 9.6000e-03.\n",
            "\n",
            "Epoch 8 of 100, 24.74 s, with average training loss: 0.47188631, and validation loss: nan, validation accuracy: 75.00\n",
            "Epoch 9 starting at: 20:26:30\n"
          ],
          "name": "stdout"
        },
        {
          "output_type": "stream",
          "text": [
            "100%|██████████| 157/157 [00:20<00:00,  7.66it/s]\n",
            "100%|██████████| 40/40 [00:04<00:00,  9.87it/s]\n",
            "  1%|          | 1/157 [00:00<00:21,  7.18it/s]"
          ],
          "name": "stderr"
        },
        {
          "output_type": "stream",
          "text": [
            "Adjusting learning rate of group 0 to 9.6000e-03.\n",
            "\n",
            "Epoch 9 of 100, 24.55 s, with average training loss: 0.41777021, and validation loss: nan, validation accuracy: 77.87\n",
            "Epoch 10 starting at: 20:26:55\n"
          ],
          "name": "stdout"
        },
        {
          "output_type": "stream",
          "text": [
            "100%|██████████| 157/157 [00:20<00:00,  7.62it/s]\n",
            "100%|██████████| 40/40 [00:04<00:00,  9.79it/s]\n",
            "  1%|          | 1/157 [00:00<00:20,  7.75it/s]"
          ],
          "name": "stderr"
        },
        {
          "output_type": "stream",
          "text": [
            "Adjusting learning rate of group 0 to 9.6000e-03.\n",
            "\n",
            "Epoch 10 of 100, 24.70 s, with average training loss: 0.36611014, and validation loss: nan, validation accuracy: 79.16\n",
            "Epoch 11 starting at: 20:27:20\n"
          ],
          "name": "stdout"
        },
        {
          "output_type": "stream",
          "text": [
            "100%|██████████| 157/157 [00:20<00:00,  7.67it/s]\n",
            "100%|██████████| 40/40 [00:04<00:00,  9.86it/s]\n",
            "  1%|          | 1/157 [00:00<00:22,  7.01it/s]"
          ],
          "name": "stderr"
        },
        {
          "output_type": "stream",
          "text": [
            "Adjusting learning rate of group 0 to 9.6000e-03.\n",
            "\n",
            "Epoch 11 of 100, 24.53 s, with average training loss: 0.32820261, and validation loss: nan, validation accuracy: 77.68\n",
            "Epoch 12 starting at: 20:27:44\n"
          ],
          "name": "stdout"
        },
        {
          "output_type": "stream",
          "text": [
            "100%|██████████| 157/157 [00:20<00:00,  7.65it/s]\n",
            "100%|██████████| 40/40 [00:04<00:00, 10.00it/s]\n",
            "  1%|          | 1/157 [00:00<00:20,  7.74it/s]"
          ],
          "name": "stderr"
        },
        {
          "output_type": "stream",
          "text": [
            "Adjusting learning rate of group 0 to 9.6000e-03.\n",
            "\n",
            "Epoch 12 of 100, 24.52 s, with average training loss: 0.29514022, and validation loss: nan, validation accuracy: 80.10\n",
            "Epoch 13 starting at: 20:28:09\n"
          ],
          "name": "stdout"
        },
        {
          "output_type": "stream",
          "text": [
            "100%|██████████| 157/157 [00:20<00:00,  7.59it/s]\n",
            "100%|██████████| 40/40 [00:04<00:00,  9.91it/s]\n",
            "  1%|          | 1/157 [00:00<00:21,  7.14it/s]"
          ],
          "name": "stderr"
        },
        {
          "output_type": "stream",
          "text": [
            "Adjusting learning rate of group 0 to 9.6000e-03.\n",
            "\n",
            "Epoch 13 of 100, 24.74 s, with average training loss: 0.27299994, and validation loss: nan, validation accuracy: 81.02\n",
            "Epoch 14 starting at: 20:28:33\n"
          ],
          "name": "stdout"
        },
        {
          "output_type": "stream",
          "text": [
            "100%|██████████| 157/157 [00:20<00:00,  7.60it/s]\n",
            "100%|██████████| 40/40 [00:04<00:00,  9.96it/s]\n",
            "  1%|          | 1/157 [00:00<00:20,  7.59it/s]"
          ],
          "name": "stderr"
        },
        {
          "output_type": "stream",
          "text": [
            "Adjusting learning rate of group 0 to 9.6000e-03.\n",
            "\n",
            "Epoch 14 of 100, 24.70 s, with average training loss: 0.23659157, and validation loss: nan, validation accuracy: 81.55\n",
            "Epoch 15 starting at: 20:28:58\n"
          ],
          "name": "stdout"
        },
        {
          "output_type": "stream",
          "text": [
            "100%|██████████| 157/157 [00:20<00:00,  7.62it/s]\n",
            "100%|██████████| 40/40 [00:04<00:00,  9.94it/s]\n",
            "  1%|          | 1/157 [00:00<00:20,  7.48it/s]"
          ],
          "name": "stderr"
        },
        {
          "output_type": "stream",
          "text": [
            "Adjusting learning rate of group 0 to 9.6000e-03.\n",
            "\n",
            "Epoch 15 of 100, 24.64 s, with average training loss: 0.22721398, and validation loss: nan, validation accuracy: 80.79\n",
            "Epoch 16 starting at: 20:29:23\n"
          ],
          "name": "stdout"
        },
        {
          "output_type": "stream",
          "text": [
            "100%|██████████| 157/157 [00:20<00:00,  7.69it/s]\n",
            "100%|██████████| 40/40 [00:04<00:00,  9.98it/s]\n",
            "  1%|          | 1/157 [00:00<00:20,  7.72it/s]"
          ],
          "name": "stderr"
        },
        {
          "output_type": "stream",
          "text": [
            "Adjusting learning rate of group 0 to 9.2160e-03.\n",
            "\n",
            "Epoch 16 of 100, 24.43 s, with average training loss: 0.19727295, and validation loss: nan, validation accuracy: 80.23\n",
            "Epoch 17 starting at: 20:29:47\n"
          ],
          "name": "stdout"
        },
        {
          "output_type": "stream",
          "text": [
            "100%|██████████| 157/157 [00:20<00:00,  7.70it/s]\n",
            "100%|██████████| 40/40 [00:04<00:00,  9.82it/s]\n",
            "  1%|          | 1/157 [00:00<00:21,  7.16it/s]"
          ],
          "name": "stderr"
        },
        {
          "output_type": "stream",
          "text": [
            "Adjusting learning rate of group 0 to 9.2160e-03.\n",
            "\n",
            "Epoch 17 of 100, 24.47 s, with average training loss: 0.16604842, and validation loss: nan, validation accuracy: 82.45\n",
            "Epoch 18 starting at: 20:30:12\n"
          ],
          "name": "stdout"
        },
        {
          "output_type": "stream",
          "text": [
            "100%|██████████| 157/157 [00:20<00:00,  7.63it/s]\n",
            "100%|██████████| 40/40 [00:03<00:00, 10.04it/s]\n",
            "  1%|          | 1/157 [00:00<00:19,  7.87it/s]"
          ],
          "name": "stderr"
        },
        {
          "output_type": "stream",
          "text": [
            "Adjusting learning rate of group 0 to 9.2160e-03.\n",
            "\n",
            "Epoch 18 of 100, 24.58 s, with average training loss: 0.15498298, and validation loss: nan, validation accuracy: 81.96\n",
            "Epoch 19 starting at: 20:30:36\n"
          ],
          "name": "stdout"
        },
        {
          "output_type": "stream",
          "text": [
            "100%|██████████| 157/157 [00:20<00:00,  7.58it/s]\n",
            "100%|██████████| 40/40 [00:04<00:00,  9.96it/s]\n",
            "  1%|          | 1/157 [00:00<00:22,  7.04it/s]"
          ],
          "name": "stderr"
        },
        {
          "output_type": "stream",
          "text": [
            "Adjusting learning rate of group 0 to 9.2160e-03.\n",
            "\n",
            "Epoch 19 of 100, 24.73 s, with average training loss: 0.13979738, and validation loss: nan, validation accuracy: 80.98\n",
            "Epoch 20 starting at: 20:31:01\n"
          ],
          "name": "stdout"
        },
        {
          "output_type": "stream",
          "text": [
            "100%|██████████| 157/157 [00:20<00:00,  7.70it/s]\n",
            "100%|██████████| 40/40 [00:03<00:00, 10.02it/s]\n",
            "  1%|          | 1/157 [00:00<00:20,  7.56it/s]"
          ],
          "name": "stderr"
        },
        {
          "output_type": "stream",
          "text": [
            "Adjusting learning rate of group 0 to 9.2160e-03.\n",
            "\n",
            "Epoch 20 of 100, 24.39 s, with average training loss: 0.11560827, and validation loss: nan, validation accuracy: 80.27\n",
            "Epoch 21 starting at: 20:31:25\n"
          ],
          "name": "stdout"
        },
        {
          "output_type": "stream",
          "text": [
            "100%|██████████| 157/157 [00:20<00:00,  7.64it/s]\n",
            "100%|██████████| 40/40 [00:04<00:00,  9.71it/s]\n",
            "  1%|          | 1/157 [00:00<00:21,  7.43it/s]"
          ],
          "name": "stderr"
        },
        {
          "output_type": "stream",
          "text": [
            "Adjusting learning rate of group 0 to 9.2160e-03.\n",
            "\n",
            "Epoch 21 of 100, 24.67 s, with average training loss: 0.11009142, and validation loss: nan, validation accuracy: 82.83\n",
            "Epoch 22 starting at: 20:31:50\n"
          ],
          "name": "stdout"
        },
        {
          "output_type": "stream",
          "text": [
            "100%|██████████| 157/157 [00:20<00:00,  7.56it/s]\n",
            "100%|██████████| 40/40 [00:04<00:00,  9.91it/s]\n",
            "  1%|          | 1/157 [00:00<00:20,  7.72it/s]"
          ],
          "name": "stderr"
        },
        {
          "output_type": "stream",
          "text": [
            "Adjusting learning rate of group 0 to 9.2160e-03.\n",
            "\n",
            "Epoch 22 of 100, 24.82 s, with average training loss: 0.10509784, and validation loss: nan, validation accuracy: 80.16\n",
            "Epoch 23 starting at: 20:32:15\n"
          ],
          "name": "stdout"
        },
        {
          "output_type": "stream",
          "text": [
            "100%|██████████| 157/157 [00:20<00:00,  7.67it/s]\n",
            "100%|██████████| 40/40 [00:04<00:00,  9.73it/s]\n",
            "  1%|          | 1/157 [00:00<00:23,  6.74it/s]"
          ],
          "name": "stderr"
        },
        {
          "output_type": "stream",
          "text": [
            "Adjusting learning rate of group 0 to 9.2160e-03.\n",
            "\n",
            "Epoch 23 of 100, 24.58 s, with average training loss: 0.08965660, and validation loss: nan, validation accuracy: 82.02\n",
            "Epoch 24 starting at: 20:32:39\n"
          ],
          "name": "stdout"
        },
        {
          "output_type": "stream",
          "text": [
            "100%|██████████| 157/157 [00:20<00:00,  7.51it/s]\n",
            "100%|██████████| 40/40 [00:04<00:00,  9.58it/s]\n",
            "  1%|          | 1/157 [00:00<00:22,  6.96it/s]"
          ],
          "name": "stderr"
        },
        {
          "output_type": "stream",
          "text": [
            "Adjusting learning rate of group 0 to 8.8474e-03.\n",
            "\n",
            "Epoch 24 of 100, 25.10 s, with average training loss: 0.08513015, and validation loss: nan, validation accuracy: 82.32\n",
            "Epoch 25 starting at: 20:33:05\n"
          ],
          "name": "stdout"
        },
        {
          "output_type": "stream",
          "text": [
            "100%|██████████| 157/157 [00:21<00:00,  7.47it/s]\n",
            "100%|██████████| 40/40 [00:04<00:00,  9.65it/s]\n",
            "  1%|          | 1/157 [00:00<00:22,  6.80it/s]"
          ],
          "name": "stderr"
        },
        {
          "output_type": "stream",
          "text": [
            "Adjusting learning rate of group 0 to 8.8474e-03.\n",
            "\n",
            "Epoch 25 of 100, 25.18 s, with average training loss: 0.08183573, and validation loss: nan, validation accuracy: 82.46\n",
            "Epoch 26 starting at: 20:33:30\n"
          ],
          "name": "stdout"
        },
        {
          "output_type": "stream",
          "text": [
            "100%|██████████| 157/157 [00:21<00:00,  7.39it/s]\n",
            "100%|██████████| 40/40 [00:04<00:00,  9.91it/s]\n",
            "  1%|          | 1/157 [00:00<00:20,  7.50it/s]"
          ],
          "name": "stderr"
        },
        {
          "output_type": "stream",
          "text": [
            "Adjusting learning rate of group 0 to 8.8474e-03.\n",
            "\n",
            "Epoch 26 of 100, 25.30 s, with average training loss: 0.06702776, and validation loss: nan, validation accuracy: 82.90\n",
            "Epoch 27 starting at: 20:33:55\n"
          ],
          "name": "stdout"
        },
        {
          "output_type": "stream",
          "text": [
            "100%|██████████| 157/157 [00:20<00:00,  7.60it/s]\n",
            "100%|██████████| 40/40 [00:04<00:00,  9.62it/s]\n",
            "  1%|          | 1/157 [00:00<00:23,  6.75it/s]"
          ],
          "name": "stderr"
        },
        {
          "output_type": "stream",
          "text": [
            "Adjusting learning rate of group 0 to 8.8474e-03.\n",
            "\n",
            "Epoch 27 of 100, 24.81 s, with average training loss: 0.07292310, and validation loss: nan, validation accuracy: 83.21\n",
            "Epoch 28 starting at: 20:34:20\n"
          ],
          "name": "stdout"
        },
        {
          "output_type": "stream",
          "text": [
            "100%|██████████| 157/157 [00:20<00:00,  7.49it/s]\n",
            "100%|██████████| 40/40 [00:04<00:00,  9.90it/s]\n",
            "  1%|          | 1/157 [00:00<00:21,  7.42it/s]"
          ],
          "name": "stderr"
        },
        {
          "output_type": "stream",
          "text": [
            "Adjusting learning rate of group 0 to 8.8474e-03.\n",
            "\n",
            "Epoch 28 of 100, 25.00 s, with average training loss: 0.05370587, and validation loss: nan, validation accuracy: 83.71\n",
            "Epoch 29 starting at: 20:34:45\n"
          ],
          "name": "stdout"
        },
        {
          "output_type": "stream",
          "text": [
            "100%|██████████| 157/157 [00:20<00:00,  7.66it/s]\n",
            "100%|██████████| 40/40 [00:04<00:00,  9.85it/s]\n",
            "  1%|          | 1/157 [00:00<00:22,  6.93it/s]"
          ],
          "name": "stderr"
        },
        {
          "output_type": "stream",
          "text": [
            "Adjusting learning rate of group 0 to 8.8474e-03.\n",
            "\n",
            "Epoch 29 of 100, 24.55 s, with average training loss: 0.05216369, and validation loss: nan, validation accuracy: 83.30\n",
            "Epoch 30 starting at: 20:35:09\n"
          ],
          "name": "stdout"
        },
        {
          "output_type": "stream",
          "text": [
            "100%|██████████| 157/157 [00:20<00:00,  7.60it/s]\n",
            "100%|██████████| 40/40 [00:04<00:00,  9.74it/s]\n",
            "  1%|          | 1/157 [00:00<00:20,  7.44it/s]"
          ],
          "name": "stderr"
        },
        {
          "output_type": "stream",
          "text": [
            "Adjusting learning rate of group 0 to 8.8474e-03.\n",
            "\n",
            "Epoch 30 of 100, 24.76 s, with average training loss: 0.05751041, and validation loss: nan, validation accuracy: 83.08\n",
            "Epoch 31 starting at: 20:35:34\n"
          ],
          "name": "stdout"
        },
        {
          "output_type": "stream",
          "text": [
            "100%|██████████| 157/157 [00:20<00:00,  7.56it/s]\n",
            "100%|██████████| 40/40 [00:04<00:00,  9.72it/s]\n",
            "  1%|          | 1/157 [00:00<00:22,  6.89it/s]"
          ],
          "name": "stderr"
        },
        {
          "output_type": "stream",
          "text": [
            "Adjusting learning rate of group 0 to 8.8474e-03.\n",
            "\n",
            "Epoch 31 of 100, 24.89 s, with average training loss: 0.04403416, and validation loss: nan, validation accuracy: 84.40\n",
            "Epoch 32 starting at: 20:35:59\n"
          ],
          "name": "stdout"
        },
        {
          "output_type": "stream",
          "text": [
            "100%|██████████| 157/157 [00:20<00:00,  7.59it/s]\n",
            "100%|██████████| 40/40 [00:04<00:00,  9.77it/s]\n",
            "  1%|          | 1/157 [00:00<00:21,  7.35it/s]"
          ],
          "name": "stderr"
        },
        {
          "output_type": "stream",
          "text": [
            "Adjusting learning rate of group 0 to 8.4935e-03.\n",
            "\n",
            "Epoch 32 of 100, 24.79 s, with average training loss: 0.04061037, and validation loss: nan, validation accuracy: 84.15\n",
            "Epoch 33 starting at: 20:36:24\n"
          ],
          "name": "stdout"
        },
        {
          "output_type": "stream",
          "text": [
            "100%|██████████| 157/157 [00:20<00:00,  7.55it/s]\n",
            "100%|██████████| 40/40 [00:04<00:00,  9.79it/s]\n",
            "  1%|          | 1/157 [00:00<00:21,  7.11it/s]"
          ],
          "name": "stderr"
        },
        {
          "output_type": "stream",
          "text": [
            "Adjusting learning rate of group 0 to 8.4935e-03.\n",
            "\n",
            "Epoch 33 of 100, 24.89 s, with average training loss: 0.04294774, and validation loss: nan, validation accuracy: 83.23\n",
            "Epoch 34 starting at: 20:36:49\n"
          ],
          "name": "stdout"
        },
        {
          "output_type": "stream",
          "text": [
            "100%|██████████| 157/157 [00:20<00:00,  7.52it/s]\n",
            "100%|██████████| 40/40 [00:04<00:00,  9.80it/s]\n",
            "  1%|          | 1/157 [00:00<00:21,  7.23it/s]"
          ],
          "name": "stderr"
        },
        {
          "output_type": "stream",
          "text": [
            "Adjusting learning rate of group 0 to 8.4935e-03.\n",
            "\n",
            "Epoch 34 of 100, 24.96 s, with average training loss: 0.03477103, and validation loss: nan, validation accuracy: 84.30\n",
            "Epoch 35 starting at: 20:37:14\n"
          ],
          "name": "stdout"
        },
        {
          "output_type": "stream",
          "text": [
            "100%|██████████| 157/157 [00:20<00:00,  7.57it/s]\n",
            "100%|██████████| 40/40 [00:04<00:00,  9.85it/s]\n",
            "  1%|          | 1/157 [00:00<00:21,  7.21it/s]"
          ],
          "name": "stderr"
        },
        {
          "output_type": "stream",
          "text": [
            "Adjusting learning rate of group 0 to 8.4935e-03.\n",
            "\n",
            "Epoch 35 of 100, 24.82 s, with average training loss: 0.03309377, and validation loss: nan, validation accuracy: 84.21\n",
            "Epoch 36 starting at: 20:37:39\n"
          ],
          "name": "stdout"
        },
        {
          "output_type": "stream",
          "text": [
            "100%|██████████| 157/157 [00:20<00:00,  7.52it/s]\n",
            "100%|██████████| 40/40 [00:04<00:00,  9.73it/s]\n",
            "  1%|          | 1/157 [00:00<00:20,  7.58it/s]"
          ],
          "name": "stderr"
        },
        {
          "output_type": "stream",
          "text": [
            "Adjusting learning rate of group 0 to 8.4935e-03.\n",
            "\n",
            "Epoch 36 of 100, 24.99 s, with average training loss: 0.03273865, and validation loss: nan, validation accuracy: 84.61\n",
            "Epoch 37 starting at: 20:38:04\n"
          ],
          "name": "stdout"
        },
        {
          "output_type": "stream",
          "text": [
            "100%|██████████| 157/157 [00:20<00:00,  7.57it/s]\n",
            "100%|██████████| 40/40 [00:04<00:00,  9.65it/s]\n",
            "  1%|          | 1/157 [00:00<00:21,  7.11it/s]"
          ],
          "name": "stderr"
        },
        {
          "output_type": "stream",
          "text": [
            "Adjusting learning rate of group 0 to 8.4935e-03.\n",
            "\n",
            "Epoch 37 of 100, 24.89 s, with average training loss: 0.02332517, and validation loss: nan, validation accuracy: 84.47\n",
            "Epoch 38 starting at: 20:38:28\n"
          ],
          "name": "stdout"
        },
        {
          "output_type": "stream",
          "text": [
            "100%|██████████| 157/157 [00:21<00:00,  7.47it/s]\n",
            "100%|██████████| 40/40 [00:04<00:00,  9.72it/s]\n",
            "  1%|          | 1/157 [00:00<00:21,  7.20it/s]"
          ],
          "name": "stderr"
        },
        {
          "output_type": "stream",
          "text": [
            "Adjusting learning rate of group 0 to 8.4935e-03.\n",
            "\n",
            "Epoch 38 of 100, 25.15 s, with average training loss: 0.02639828, and validation loss: nan, validation accuracy: 84.00\n",
            "Epoch 39 starting at: 20:38:54\n"
          ],
          "name": "stdout"
        },
        {
          "output_type": "stream",
          "text": [
            "100%|██████████| 157/157 [00:20<00:00,  7.54it/s]\n",
            "100%|██████████| 40/40 [00:04<00:00,  9.67it/s]\n",
            "  1%|          | 1/157 [00:00<00:22,  6.95it/s]"
          ],
          "name": "stderr"
        },
        {
          "output_type": "stream",
          "text": [
            "Adjusting learning rate of group 0 to 8.4935e-03.\n",
            "\n",
            "Epoch 39 of 100, 24.96 s, with average training loss: 0.02517295, and validation loss: nan, validation accuracy: 83.53\n",
            "Epoch 40 starting at: 20:39:19\n"
          ],
          "name": "stdout"
        },
        {
          "output_type": "stream",
          "text": [
            "100%|██████████| 157/157 [00:20<00:00,  7.54it/s]\n",
            "100%|██████████| 40/40 [00:04<00:00,  9.74it/s]\n",
            "  1%|          | 1/157 [00:00<00:20,  7.52it/s]"
          ],
          "name": "stderr"
        },
        {
          "output_type": "stream",
          "text": [
            "Adjusting learning rate of group 0 to 8.1537e-03.\n",
            "\n",
            "Epoch 40 of 100, 24.94 s, with average training loss: 0.02714525, and validation loss: nan, validation accuracy: 84.11\n",
            "Epoch 41 starting at: 20:39:44\n"
          ],
          "name": "stdout"
        },
        {
          "output_type": "stream",
          "text": [
            "100%|██████████| 157/157 [00:20<00:00,  7.55it/s]\n",
            "100%|██████████| 40/40 [00:04<00:00,  9.87it/s]\n",
            "  1%|          | 1/157 [00:00<00:21,  7.27it/s]"
          ],
          "name": "stderr"
        },
        {
          "output_type": "stream",
          "text": [
            "Adjusting learning rate of group 0 to 8.1537e-03.\n",
            "\n",
            "Epoch 41 of 100, 24.87 s, with average training loss: 0.02638860, and validation loss: nan, validation accuracy: 84.76\n",
            "Epoch 42 starting at: 20:40:08\n"
          ],
          "name": "stdout"
        },
        {
          "output_type": "stream",
          "text": [
            "100%|██████████| 157/157 [00:20<00:00,  7.60it/s]\n",
            "100%|██████████| 40/40 [00:04<00:00, 10.00it/s]\n",
            "  1%|          | 1/157 [00:00<00:22,  7.02it/s]"
          ],
          "name": "stderr"
        },
        {
          "output_type": "stream",
          "text": [
            "Adjusting learning rate of group 0 to 8.1537e-03.\n",
            "\n",
            "Epoch 42 of 100, 24.66 s, with average training loss: 0.03086391, and validation loss: nan, validation accuracy: 84.81\n",
            "Epoch 43 starting at: 20:40:33\n"
          ],
          "name": "stdout"
        },
        {
          "output_type": "stream",
          "text": [
            "100%|██████████| 157/157 [00:20<00:00,  7.69it/s]\n",
            "100%|██████████| 40/40 [00:04<00:00,  9.88it/s]\n",
            "  1%|          | 1/157 [00:00<00:21,  7.32it/s]"
          ],
          "name": "stderr"
        },
        {
          "output_type": "stream",
          "text": [
            "Adjusting learning rate of group 0 to 8.1537e-03.\n",
            "\n",
            "Epoch 43 of 100, 24.48 s, with average training loss: 0.02152350, and validation loss: nan, validation accuracy: 84.65\n",
            "Epoch 44 starting at: 20:40:58\n"
          ],
          "name": "stdout"
        },
        {
          "output_type": "stream",
          "text": [
            "100%|██████████| 157/157 [00:20<00:00,  7.68it/s]\n",
            "100%|██████████| 40/40 [00:03<00:00, 10.00it/s]\n",
            "  1%|          | 1/157 [00:00<00:21,  7.24it/s]"
          ],
          "name": "stderr"
        },
        {
          "output_type": "stream",
          "text": [
            "Adjusting learning rate of group 0 to 8.1537e-03.\n",
            "\n",
            "Epoch 44 of 100, 24.45 s, with average training loss: 0.01711014, and validation loss: nan, validation accuracy: 84.76\n",
            "Epoch 45 starting at: 20:41:22\n"
          ],
          "name": "stdout"
        },
        {
          "output_type": "stream",
          "text": [
            "100%|██████████| 157/157 [00:20<00:00,  7.66it/s]\n",
            "100%|██████████| 40/40 [00:04<00:00,  9.99it/s]\n",
            "  1%|          | 1/157 [00:00<00:21,  7.33it/s]"
          ],
          "name": "stderr"
        },
        {
          "output_type": "stream",
          "text": [
            "Adjusting learning rate of group 0 to 8.1537e-03.\n",
            "\n",
            "Epoch 45 of 100, 24.52 s, with average training loss: 0.01325572, and validation loss: nan, validation accuracy: 86.12\n",
            "Epoch 46 starting at: 20:41:46\n"
          ],
          "name": "stdout"
        },
        {
          "output_type": "stream",
          "text": [
            "100%|██████████| 157/157 [00:20<00:00,  7.60it/s]\n",
            "100%|██████████| 40/40 [00:03<00:00, 10.02it/s]\n",
            "  1%|          | 1/157 [00:00<00:20,  7.52it/s]"
          ],
          "name": "stderr"
        },
        {
          "output_type": "stream",
          "text": [
            "Adjusting learning rate of group 0 to 8.1537e-03.\n",
            "\n",
            "Epoch 46 of 100, 24.66 s, with average training loss: 0.01729230, and validation loss: nan, validation accuracy: 84.96\n",
            "Epoch 47 starting at: 20:42:11\n"
          ],
          "name": "stdout"
        },
        {
          "output_type": "stream",
          "text": [
            "100%|██████████| 157/157 [00:20<00:00,  7.65it/s]\n",
            "100%|██████████| 40/40 [00:04<00:00,  9.74it/s]\n",
            "  1%|          | 1/157 [00:00<00:21,  7.31it/s]"
          ],
          "name": "stderr"
        },
        {
          "output_type": "stream",
          "text": [
            "Adjusting learning rate of group 0 to 8.1537e-03.\n",
            "\n",
            "Epoch 47 of 100, 24.64 s, with average training loss: 0.01574497, and validation loss: nan, validation accuracy: 85.18\n",
            "Epoch 48 starting at: 20:42:36\n"
          ],
          "name": "stdout"
        },
        {
          "output_type": "stream",
          "text": [
            "100%|██████████| 157/157 [00:20<00:00,  7.71it/s]\n",
            "100%|██████████| 40/40 [00:04<00:00, 10.00it/s]\n",
            "  1%|          | 1/157 [00:00<00:20,  7.60it/s]"
          ],
          "name": "stderr"
        },
        {
          "output_type": "stream",
          "text": [
            "Adjusting learning rate of group 0 to 7.8276e-03.\n",
            "\n",
            "Epoch 48 of 100, 24.37 s, with average training loss: 0.01765847, and validation loss: nan, validation accuracy: 84.76\n",
            "Epoch 49 starting at: 20:43:00\n"
          ],
          "name": "stdout"
        },
        {
          "output_type": "stream",
          "text": [
            "100%|██████████| 157/157 [00:20<00:00,  7.72it/s]\n",
            "100%|██████████| 40/40 [00:03<00:00, 10.03it/s]\n",
            "  1%|          | 1/157 [00:00<00:21,  7.19it/s]"
          ],
          "name": "stderr"
        },
        {
          "output_type": "stream",
          "text": [
            "Adjusting learning rate of group 0 to 7.8276e-03.\n",
            "\n",
            "Epoch 49 of 100, 24.34 s, with average training loss: 0.01538539, and validation loss: nan, validation accuracy: 85.60\n",
            "Epoch 50 starting at: 20:43:24\n"
          ],
          "name": "stdout"
        },
        {
          "output_type": "stream",
          "text": [
            "100%|██████████| 157/157 [00:20<00:00,  7.66it/s]\n",
            "100%|██████████| 40/40 [00:03<00:00, 10.05it/s]\n",
            "  1%|          | 1/157 [00:00<00:21,  7.34it/s]"
          ],
          "name": "stderr"
        },
        {
          "output_type": "stream",
          "text": [
            "Adjusting learning rate of group 0 to 7.8276e-03.\n",
            "\n",
            "Epoch 50 of 100, 24.49 s, with average training loss: 0.01209512, and validation loss: nan, validation accuracy: 85.30\n",
            "Epoch 51 starting at: 20:43:49\n"
          ],
          "name": "stdout"
        },
        {
          "output_type": "stream",
          "text": [
            "100%|██████████| 157/157 [00:20<00:00,  7.67it/s]\n",
            "100%|██████████| 40/40 [00:04<00:00,  9.97it/s]\n",
            "  1%|          | 1/157 [00:00<00:21,  7.27it/s]"
          ],
          "name": "stderr"
        },
        {
          "output_type": "stream",
          "text": [
            "Adjusting learning rate of group 0 to 7.8276e-03.\n",
            "\n",
            "Epoch 51 of 100, 24.49 s, with average training loss: 0.01025430, and validation loss: nan, validation accuracy: 85.17\n",
            "Epoch 52 starting at: 20:44:13\n"
          ],
          "name": "stdout"
        },
        {
          "output_type": "stream",
          "text": [
            "100%|██████████| 157/157 [00:20<00:00,  7.66it/s]\n",
            "100%|██████████| 40/40 [00:04<00:00,  9.88it/s]\n",
            "  1%|          | 1/157 [00:00<00:21,  7.23it/s]"
          ],
          "name": "stderr"
        },
        {
          "output_type": "stream",
          "text": [
            "Adjusting learning rate of group 0 to 7.8276e-03.\n",
            "\n",
            "Epoch 52 of 100, 24.55 s, with average training loss: 0.00701980, and validation loss: nan, validation accuracy: 85.90\n",
            "Epoch 53 starting at: 20:44:38\n"
          ],
          "name": "stdout"
        },
        {
          "output_type": "stream",
          "text": [
            "100%|██████████| 157/157 [00:20<00:00,  7.52it/s]\n",
            "100%|██████████| 40/40 [00:04<00:00,  9.68it/s]\n",
            "  1%|          | 1/157 [00:00<00:21,  7.22it/s]"
          ],
          "name": "stderr"
        },
        {
          "output_type": "stream",
          "text": [
            "Adjusting learning rate of group 0 to 7.8276e-03.\n",
            "\n",
            "Epoch 53 of 100, 25.03 s, with average training loss: 0.00663262, and validation loss: nan, validation accuracy: 85.34\n",
            "Epoch 54 starting at: 20:45:03\n"
          ],
          "name": "stdout"
        },
        {
          "output_type": "stream",
          "text": [
            "100%|██████████| 157/157 [00:21<00:00,  7.22it/s]\n",
            "100%|██████████| 40/40 [00:04<00:00,  9.32it/s]\n",
            "  1%|          | 1/157 [00:00<00:22,  6.96it/s]"
          ],
          "name": "stderr"
        },
        {
          "output_type": "stream",
          "text": [
            "Adjusting learning rate of group 0 to 7.8276e-03.\n",
            "\n",
            "Epoch 54 of 100, 26.05 s, with average training loss: 0.00916425, and validation loss: nan, validation accuracy: 85.20\n",
            "Epoch 55 starting at: 20:45:29\n"
          ],
          "name": "stdout"
        },
        {
          "output_type": "stream",
          "text": [
            "100%|██████████| 157/157 [00:21<00:00,  7.20it/s]\n",
            "100%|██████████| 40/40 [00:04<00:00,  9.31it/s]\n",
            "  1%|          | 1/157 [00:00<00:22,  7.06it/s]"
          ],
          "name": "stderr"
        },
        {
          "output_type": "stream",
          "text": [
            "Adjusting learning rate of group 0 to 7.8276e-03.\n",
            "\n",
            "Epoch 55 of 100, 26.11 s, with average training loss: 0.00654661, and validation loss: nan, validation accuracy: 85.63\n",
            "Epoch 56 starting at: 20:45:55\n"
          ],
          "name": "stdout"
        },
        {
          "output_type": "stream",
          "text": [
            "100%|██████████| 157/157 [00:21<00:00,  7.43it/s]\n",
            "100%|██████████| 40/40 [00:04<00:00,  9.68it/s]\n",
            "  1%|          | 1/157 [00:00<00:22,  7.02it/s]"
          ],
          "name": "stderr"
        },
        {
          "output_type": "stream",
          "text": [
            "Adjusting learning rate of group 0 to 7.5145e-03.\n",
            "\n",
            "Epoch 56 of 100, 25.26 s, with average training loss: 0.00940578, and validation loss: nan, validation accuracy: 85.14\n",
            "Epoch 57 starting at: 20:46:20\n"
          ],
          "name": "stdout"
        },
        {
          "output_type": "stream",
          "text": [
            "100%|██████████| 157/157 [00:21<00:00,  7.47it/s]\n",
            "100%|██████████| 40/40 [00:04<00:00,  9.65it/s]\n",
            "  1%|          | 1/157 [00:00<00:22,  6.87it/s]"
          ],
          "name": "stderr"
        },
        {
          "output_type": "stream",
          "text": [
            "Adjusting learning rate of group 0 to 7.5145e-03.\n",
            "\n",
            "Epoch 57 of 100, 25.17 s, with average training loss: 0.01483526, and validation loss: nan, validation accuracy: 85.52\n",
            "Epoch 58 starting at: 20:46:46\n"
          ],
          "name": "stdout"
        },
        {
          "output_type": "stream",
          "text": [
            "100%|██████████| 157/157 [00:21<00:00,  7.41it/s]\n",
            "100%|██████████| 40/40 [00:04<00:00,  9.49it/s]\n",
            "  1%|          | 1/157 [00:00<00:21,  7.25it/s]"
          ],
          "name": "stderr"
        },
        {
          "output_type": "stream",
          "text": [
            "Adjusting learning rate of group 0 to 7.5145e-03.\n",
            "\n",
            "Epoch 58 of 100, 25.42 s, with average training loss: 0.01631076, and validation loss: nan, validation accuracy: 84.57\n",
            "Epoch 59 starting at: 20:47:11\n"
          ],
          "name": "stdout"
        },
        {
          "output_type": "stream",
          "text": [
            "100%|██████████| 157/157 [00:21<00:00,  7.32it/s]\n",
            "100%|██████████| 40/40 [00:04<00:00,  9.15it/s]\n",
            "  1%|          | 1/157 [00:00<00:22,  7.06it/s]"
          ],
          "name": "stderr"
        },
        {
          "output_type": "stream",
          "text": [
            "Adjusting learning rate of group 0 to 7.5145e-03.\n",
            "\n",
            "Epoch 59 of 100, 25.83 s, with average training loss: 0.01426215, and validation loss: nan, validation accuracy: 85.28\n",
            "Epoch 60 starting at: 20:47:37\n"
          ],
          "name": "stdout"
        },
        {
          "output_type": "stream",
          "text": [
            "100%|██████████| 157/157 [00:21<00:00,  7.16it/s]\n",
            "100%|██████████| 40/40 [00:04<00:00,  9.14it/s]\n",
            "  1%|          | 1/157 [00:00<00:23,  6.66it/s]"
          ],
          "name": "stderr"
        },
        {
          "output_type": "stream",
          "text": [
            "Adjusting learning rate of group 0 to 7.5145e-03.\n",
            "\n",
            "Epoch 60 of 100, 26.31 s, with average training loss: 0.01229877, and validation loss: nan, validation accuracy: 85.30\n",
            "Epoch 61 starting at: 20:48:03\n"
          ],
          "name": "stdout"
        },
        {
          "output_type": "stream",
          "text": [
            "100%|██████████| 157/157 [00:21<00:00,  7.24it/s]\n",
            "100%|██████████| 40/40 [00:04<00:00,  9.32it/s]\n",
            "  1%|          | 1/157 [00:00<00:22,  7.03it/s]"
          ],
          "name": "stderr"
        },
        {
          "output_type": "stream",
          "text": [
            "Adjusting learning rate of group 0 to 7.5145e-03.\n",
            "\n",
            "Epoch 61 of 100, 25.98 s, with average training loss: 0.00808870, and validation loss: nan, validation accuracy: 85.63\n",
            "Epoch 62 starting at: 20:48:29\n"
          ],
          "name": "stdout"
        },
        {
          "output_type": "stream",
          "text": [
            "100%|██████████| 157/157 [00:21<00:00,  7.28it/s]\n",
            "100%|██████████| 40/40 [00:04<00:00,  9.46it/s]\n",
            "  1%|          | 1/157 [00:00<00:21,  7.16it/s]"
          ],
          "name": "stderr"
        },
        {
          "output_type": "stream",
          "text": [
            "Adjusting learning rate of group 0 to 7.5145e-03.\n",
            "\n",
            "Epoch 62 of 100, 25.81 s, with average training loss: 0.00428285, and validation loss: nan, validation accuracy: 85.55\n",
            "Epoch 63 starting at: 20:48:55\n"
          ],
          "name": "stdout"
        },
        {
          "output_type": "stream",
          "text": [
            "100%|██████████| 157/157 [00:21<00:00,  7.33it/s]\n",
            "100%|██████████| 40/40 [00:04<00:00,  9.62it/s]\n",
            "  1%|          | 1/157 [00:00<00:22,  6.79it/s]"
          ],
          "name": "stderr"
        },
        {
          "output_type": "stream",
          "text": [
            "Adjusting learning rate of group 0 to 7.5145e-03.\n",
            "\n",
            "Epoch 63 of 100, 25.59 s, with average training loss: 0.00297193, and validation loss: nan, validation accuracy: 85.70\n",
            "Epoch 64 starting at: 20:49:21\n"
          ],
          "name": "stdout"
        },
        {
          "output_type": "stream",
          "text": [
            "100%|██████████| 157/157 [00:21<00:00,  7.41it/s]\n",
            "100%|██████████| 40/40 [00:04<00:00,  9.50it/s]\n",
            "  1%|          | 1/157 [00:00<00:22,  6.92it/s]"
          ],
          "name": "stderr"
        },
        {
          "output_type": "stream",
          "text": [
            "Adjusting learning rate of group 0 to 7.2139e-03.\n",
            "\n",
            "Epoch 64 of 100, 25.41 s, with average training loss: 0.00520750, and validation loss: nan, validation accuracy: 85.35\n",
            "Epoch 65 starting at: 20:49:46\n"
          ],
          "name": "stdout"
        },
        {
          "output_type": "stream",
          "text": [
            "100%|██████████| 157/157 [00:20<00:00,  7.50it/s]\n",
            "100%|██████████| 40/40 [00:04<00:00,  9.64it/s]\n",
            "  1%|          | 1/157 [00:00<00:22,  6.80it/s]"
          ],
          "name": "stderr"
        },
        {
          "output_type": "stream",
          "text": [
            "Adjusting learning rate of group 0 to 7.2139e-03.\n",
            "\n",
            "Epoch 65 of 100, 25.09 s, with average training loss: 0.00389922, and validation loss: nan, validation accuracy: 86.07\n",
            "Epoch 66 starting at: 20:50:11\n"
          ],
          "name": "stdout"
        },
        {
          "output_type": "stream",
          "text": [
            "100%|██████████| 157/157 [00:20<00:00,  7.52it/s]\n",
            "100%|██████████| 40/40 [00:04<00:00,  9.77it/s]\n",
            "  1%|          | 1/157 [00:00<00:21,  7.18it/s]"
          ],
          "name": "stderr"
        },
        {
          "output_type": "stream",
          "text": [
            "Adjusting learning rate of group 0 to 7.2139e-03.\n",
            "\n",
            "Epoch 66 of 100, 24.98 s, with average training loss: 0.00264758, and validation loss: nan, validation accuracy: 86.16\n",
            "Epoch 67 starting at: 20:50:36\n"
          ],
          "name": "stdout"
        },
        {
          "output_type": "stream",
          "text": [
            "100%|██████████| 157/157 [00:20<00:00,  7.53it/s]\n",
            "100%|██████████| 40/40 [00:04<00:00,  9.75it/s]\n",
            "  1%|          | 1/157 [00:00<00:21,  7.21it/s]"
          ],
          "name": "stderr"
        },
        {
          "output_type": "stream",
          "text": [
            "Adjusting learning rate of group 0 to 7.2139e-03.\n",
            "\n",
            "Epoch 67 of 100, 24.96 s, with average training loss: 0.00215860, and validation loss: nan, validation accuracy: 86.01\n",
            "Epoch 68 starting at: 20:51:01\n"
          ],
          "name": "stdout"
        },
        {
          "output_type": "stream",
          "text": [
            "100%|██████████| 157/157 [00:20<00:00,  7.57it/s]\n",
            "100%|██████████| 40/40 [00:04<00:00,  9.72it/s]\n",
            "  1%|          | 1/157 [00:00<00:20,  7.73it/s]"
          ],
          "name": "stderr"
        },
        {
          "output_type": "stream",
          "text": [
            "Adjusting learning rate of group 0 to 7.2139e-03.\n",
            "\n",
            "Epoch 68 of 100, 24.86 s, with average training loss: 0.00228518, and validation loss: nan, validation accuracy: 85.95\n",
            "Epoch 69 starting at: 20:51:26\n"
          ],
          "name": "stdout"
        },
        {
          "output_type": "stream",
          "text": [
            "100%|██████████| 157/157 [00:20<00:00,  7.48it/s]\n",
            "100%|██████████| 40/40 [00:04<00:00,  9.53it/s]\n",
            "  1%|          | 1/157 [00:00<00:24,  6.44it/s]"
          ],
          "name": "stderr"
        },
        {
          "output_type": "stream",
          "text": [
            "Adjusting learning rate of group 0 to 7.2139e-03.\n",
            "\n",
            "Epoch 69 of 100, 25.20 s, with average training loss: 0.00121928, and validation loss: nan, validation accuracy: 86.00\n",
            "Epoch 70 starting at: 20:51:51\n"
          ],
          "name": "stdout"
        },
        {
          "output_type": "stream",
          "text": [
            "100%|██████████| 157/157 [00:21<00:00,  7.39it/s]\n",
            "100%|██████████| 40/40 [00:04<00:00,  9.40it/s]\n",
            "  1%|          | 1/157 [00:00<00:21,  7.35it/s]"
          ],
          "name": "stderr"
        },
        {
          "output_type": "stream",
          "text": [
            "Adjusting learning rate of group 0 to 7.2139e-03.\n",
            "\n",
            "Epoch 70 of 100, 25.51 s, with average training loss: 0.00122905, and validation loss: nan, validation accuracy: 85.94\n",
            "Epoch 71 starting at: 20:52:17\n"
          ],
          "name": "stdout"
        },
        {
          "output_type": "stream",
          "text": [
            "100%|██████████| 157/157 [00:21<00:00,  7.39it/s]\n",
            "100%|██████████| 40/40 [00:04<00:00,  9.45it/s]\n",
            "  1%|          | 1/157 [00:00<00:22,  6.90it/s]"
          ],
          "name": "stderr"
        },
        {
          "output_type": "stream",
          "text": [
            "Adjusting learning rate of group 0 to 7.2139e-03.\n",
            "\n",
            "Epoch 71 of 100, 25.48 s, with average training loss: 0.00185455, and validation loss: nan, validation accuracy: 85.42\n",
            "Epoch 72 starting at: 20:52:42\n"
          ],
          "name": "stdout"
        },
        {
          "output_type": "stream",
          "text": [
            "100%|██████████| 157/157 [00:21<00:00,  7.28it/s]\n",
            "100%|██████████| 40/40 [00:04<00:00,  9.37it/s]\n",
            "  1%|          | 1/157 [00:00<00:21,  7.17it/s]"
          ],
          "name": "stderr"
        },
        {
          "output_type": "stream",
          "text": [
            "Adjusting learning rate of group 0 to 6.9253e-03.\n",
            "\n",
            "Epoch 72 of 100, 25.85 s, with average training loss: 0.00134437, and validation loss: nan, validation accuracy: 86.18\n",
            "Epoch 73 starting at: 20:53:08\n"
          ],
          "name": "stdout"
        },
        {
          "output_type": "stream",
          "text": [
            "100%|██████████| 157/157 [00:21<00:00,  7.18it/s]\n",
            "100%|██████████| 40/40 [00:04<00:00,  9.19it/s]\n",
            "  1%|          | 1/157 [00:00<00:23,  6.65it/s]"
          ],
          "name": "stderr"
        },
        {
          "output_type": "stream",
          "text": [
            "Adjusting learning rate of group 0 to 6.9253e-03.\n",
            "\n",
            "Epoch 73 of 100, 26.24 s, with average training loss: 0.00120494, and validation loss: nan, validation accuracy: 85.58\n",
            "Epoch 74 starting at: 20:53:34\n"
          ],
          "name": "stdout"
        },
        {
          "output_type": "stream",
          "text": [
            "100%|██████████| 157/157 [00:22<00:00,  7.02it/s]\n",
            "100%|██████████| 40/40 [00:04<00:00,  9.06it/s]\n",
            "  1%|          | 1/157 [00:00<00:22,  6.95it/s]"
          ],
          "name": "stderr"
        },
        {
          "output_type": "stream",
          "text": [
            "Adjusting learning rate of group 0 to 6.9253e-03.\n",
            "\n",
            "Epoch 74 of 100, 26.78 s, with average training loss: 0.00164046, and validation loss: nan, validation accuracy: 86.13\n",
            "Epoch 75 starting at: 20:54:01\n"
          ],
          "name": "stdout"
        },
        {
          "output_type": "stream",
          "text": [
            "100%|██████████| 157/157 [00:22<00:00,  7.08it/s]\n",
            "100%|██████████| 40/40 [00:04<00:00,  9.19it/s]\n",
            "  1%|          | 1/157 [00:00<00:24,  6.46it/s]"
          ],
          "name": "stderr"
        },
        {
          "output_type": "stream",
          "text": [
            "Adjusting learning rate of group 0 to 6.9253e-03.\n",
            "\n",
            "Epoch 75 of 100, 26.53 s, with average training loss: 0.00177937, and validation loss: nan, validation accuracy: 85.57\n",
            "Epoch 76 starting at: 20:54:27\n"
          ],
          "name": "stdout"
        },
        {
          "output_type": "stream",
          "text": [
            "100%|██████████| 157/157 [00:22<00:00,  7.07it/s]\n",
            "100%|██████████| 40/40 [00:04<00:00,  9.29it/s]\n",
            "  1%|          | 1/157 [00:00<00:22,  6.94it/s]"
          ],
          "name": "stderr"
        },
        {
          "output_type": "stream",
          "text": [
            "Adjusting learning rate of group 0 to 6.9253e-03.\n",
            "\n",
            "Epoch 76 of 100, 26.51 s, with average training loss: 0.00214070, and validation loss: nan, validation accuracy: 85.80\n",
            "Epoch 77 starting at: 20:54:54\n"
          ],
          "name": "stdout"
        },
        {
          "output_type": "stream",
          "text": [
            "100%|██████████| 157/157 [00:21<00:00,  7.18it/s]\n",
            "100%|██████████| 40/40 [00:04<00:00,  9.22it/s]\n",
            "  1%|          | 1/157 [00:00<00:22,  6.95it/s]"
          ],
          "name": "stderr"
        },
        {
          "output_type": "stream",
          "text": [
            "Adjusting learning rate of group 0 to 6.9253e-03.\n",
            "\n",
            "Epoch 77 of 100, 26.20 s, with average training loss: 0.00218109, and validation loss: nan, validation accuracy: 86.24\n",
            "Epoch 78 starting at: 20:55:20\n"
          ],
          "name": "stdout"
        },
        {
          "output_type": "stream",
          "text": [
            "100%|██████████| 157/157 [00:22<00:00,  7.12it/s]\n",
            "100%|██████████| 40/40 [00:04<00:00,  9.33it/s]\n",
            "  1%|          | 1/157 [00:00<00:22,  6.84it/s]"
          ],
          "name": "stderr"
        },
        {
          "output_type": "stream",
          "text": [
            "Adjusting learning rate of group 0 to 6.9253e-03.\n",
            "\n",
            "Epoch 78 of 100, 26.34 s, with average training loss: 0.00120099, and validation loss: nan, validation accuracy: 86.47\n",
            "Epoch 79 starting at: 20:55:47\n"
          ],
          "name": "stdout"
        },
        {
          "output_type": "stream",
          "text": [
            "100%|██████████| 157/157 [00:21<00:00,  7.25it/s]\n",
            "100%|██████████| 40/40 [00:04<00:00,  9.30it/s]\n",
            "  1%|          | 1/157 [00:00<00:22,  6.99it/s]"
          ],
          "name": "stderr"
        },
        {
          "output_type": "stream",
          "text": [
            "Adjusting learning rate of group 0 to 6.9253e-03.\n",
            "\n",
            "Epoch 79 of 100, 25.98 s, with average training loss: 0.00043838, and validation loss: nan, validation accuracy: 86.72\n",
            "Epoch 80 starting at: 20:56:13\n"
          ],
          "name": "stdout"
        },
        {
          "output_type": "stream",
          "text": [
            "100%|██████████| 157/157 [00:21<00:00,  7.19it/s]\n",
            "100%|██████████| 40/40 [00:04<00:00,  9.35it/s]\n",
            "  1%|          | 1/157 [00:00<00:22,  6.91it/s]"
          ],
          "name": "stderr"
        },
        {
          "output_type": "stream",
          "text": [
            "Adjusting learning rate of group 0 to 6.6483e-03.\n",
            "\n",
            "Epoch 80 of 100, 26.12 s, with average training loss: 0.00027539, and validation loss: nan, validation accuracy: 86.53\n",
            "Epoch 81 starting at: 20:56:39\n"
          ],
          "name": "stdout"
        },
        {
          "output_type": "stream",
          "text": [
            "100%|██████████| 157/157 [00:21<00:00,  7.18it/s]\n",
            "100%|██████████| 40/40 [00:04<00:00,  9.16it/s]\n",
            "  1%|          | 1/157 [00:00<00:22,  6.82it/s]"
          ],
          "name": "stderr"
        },
        {
          "output_type": "stream",
          "text": [
            "Adjusting learning rate of group 0 to 6.6483e-03.\n",
            "\n",
            "Epoch 81 of 100, 26.24 s, with average training loss: 0.00039729, and validation loss: nan, validation accuracy: 86.24\n",
            "Epoch 82 starting at: 20:57:05\n"
          ],
          "name": "stdout"
        },
        {
          "output_type": "stream",
          "text": [
            "100%|██████████| 157/157 [00:22<00:00,  7.13it/s]\n",
            "100%|██████████| 40/40 [00:04<00:00,  9.22it/s]\n",
            "  1%|          | 1/157 [00:00<00:22,  7.03it/s]"
          ],
          "name": "stderr"
        },
        {
          "output_type": "stream",
          "text": [
            "Adjusting learning rate of group 0 to 6.6483e-03.\n",
            "\n",
            "Epoch 82 of 100, 26.36 s, with average training loss: 0.00037620, and validation loss: nan, validation accuracy: 86.51\n",
            "Epoch 83 starting at: 20:57:31\n"
          ],
          "name": "stdout"
        },
        {
          "output_type": "stream",
          "text": [
            "100%|██████████| 157/157 [00:21<00:00,  7.19it/s]\n",
            "100%|██████████| 40/40 [00:04<00:00,  9.18it/s]\n",
            "  1%|          | 1/157 [00:00<00:24,  6.49it/s]"
          ],
          "name": "stderr"
        },
        {
          "output_type": "stream",
          "text": [
            "Adjusting learning rate of group 0 to 6.6483e-03.\n",
            "\n",
            "Epoch 83 of 100, 26.19 s, with average training loss: 0.00045664, and validation loss: nan, validation accuracy: 85.93\n",
            "Epoch 84 starting at: 20:57:57\n"
          ],
          "name": "stdout"
        },
        {
          "output_type": "stream",
          "text": [
            "100%|██████████| 157/157 [00:22<00:00,  7.07it/s]\n",
            "100%|██████████| 40/40 [00:04<00:00,  9.24it/s]\n",
            "  1%|          | 1/157 [00:00<00:21,  7.12it/s]"
          ],
          "name": "stderr"
        },
        {
          "output_type": "stream",
          "text": [
            "Adjusting learning rate of group 0 to 6.6483e-03.\n",
            "\n",
            "Epoch 84 of 100, 26.53 s, with average training loss: 0.00044139, and validation loss: nan, validation accuracy: 86.33\n",
            "Epoch 85 starting at: 20:58:24\n"
          ],
          "name": "stdout"
        },
        {
          "output_type": "stream",
          "text": [
            "100%|██████████| 157/157 [00:21<00:00,  7.14it/s]\n",
            "100%|██████████| 40/40 [00:04<00:00,  9.10it/s]\n",
            "  1%|          | 1/157 [00:00<00:23,  6.71it/s]"
          ],
          "name": "stderr"
        },
        {
          "output_type": "stream",
          "text": [
            "Adjusting learning rate of group 0 to 6.6483e-03.\n",
            "\n",
            "Epoch 85 of 100, 26.39 s, with average training loss: 0.00026408, and validation loss: nan, validation accuracy: 86.53\n",
            "Epoch 86 starting at: 20:58:50\n"
          ],
          "name": "stdout"
        },
        {
          "output_type": "stream",
          "text": [
            "100%|██████████| 157/157 [00:22<00:00,  7.08it/s]\n",
            "100%|██████████| 40/40 [00:04<00:00,  9.15it/s]\n",
            "  1%|          | 1/157 [00:00<00:21,  7.12it/s]"
          ],
          "name": "stderr"
        },
        {
          "output_type": "stream",
          "text": [
            "Adjusting learning rate of group 0 to 6.6483e-03.\n",
            "\n",
            "Epoch 86 of 100, 26.57 s, with average training loss: 0.00016703, and validation loss: nan, validation accuracy: 86.54\n",
            "Epoch 87 starting at: 20:59:17\n"
          ],
          "name": "stdout"
        },
        {
          "output_type": "stream",
          "text": [
            "100%|██████████| 157/157 [00:21<00:00,  7.15it/s]\n",
            "100%|██████████| 40/40 [00:04<00:00,  9.15it/s]\n",
            "  1%|          | 1/157 [00:00<00:21,  7.16it/s]"
          ],
          "name": "stderr"
        },
        {
          "output_type": "stream",
          "text": [
            "Adjusting learning rate of group 0 to 6.6483e-03.\n",
            "\n",
            "Epoch 87 of 100, 26.33 s, with average training loss: 0.00018402, and validation loss: nan, validation accuracy: 86.38\n",
            "Epoch 88 starting at: 20:59:43\n"
          ],
          "name": "stdout"
        },
        {
          "output_type": "stream",
          "text": [
            "100%|██████████| 157/157 [00:21<00:00,  7.14it/s]\n",
            "100%|██████████| 40/40 [00:04<00:00,  9.14it/s]\n",
            "  1%|          | 1/157 [00:00<00:22,  7.03it/s]"
          ],
          "name": "stderr"
        },
        {
          "output_type": "stream",
          "text": [
            "Adjusting learning rate of group 0 to 6.3824e-03.\n",
            "\n",
            "Epoch 88 of 100, 26.36 s, with average training loss: 0.00021948, and validation loss: nan, validation accuracy: 86.75\n",
            "Epoch 89 starting at: 21:00:10\n"
          ],
          "name": "stdout"
        },
        {
          "output_type": "stream",
          "text": [
            "100%|██████████| 157/157 [00:21<00:00,  7.21it/s]\n",
            "100%|██████████| 40/40 [00:04<00:00,  9.14it/s]\n",
            "  1%|          | 1/157 [00:00<00:22,  6.92it/s]"
          ],
          "name": "stderr"
        },
        {
          "output_type": "stream",
          "text": [
            "Adjusting learning rate of group 0 to 6.3824e-03.\n",
            "\n",
            "Epoch 89 of 100, 26.17 s, with average training loss: 0.00025733, and validation loss: nan, validation accuracy: 86.51\n",
            "Epoch 90 starting at: 21:00:36\n"
          ],
          "name": "stdout"
        },
        {
          "output_type": "stream",
          "text": [
            "100%|██████████| 157/157 [00:22<00:00,  7.11it/s]\n",
            "100%|██████████| 40/40 [00:04<00:00,  9.28it/s]\n",
            "  1%|          | 1/157 [00:00<00:22,  7.06it/s]"
          ],
          "name": "stderr"
        },
        {
          "output_type": "stream",
          "text": [
            "Adjusting learning rate of group 0 to 6.3824e-03.\n",
            "\n",
            "Epoch 90 of 100, 26.40 s, with average training loss: 0.00011630, and validation loss: nan, validation accuracy: 86.75\n",
            "Epoch 91 starting at: 21:01:02\n"
          ],
          "name": "stdout"
        },
        {
          "output_type": "stream",
          "text": [
            "100%|██████████| 157/157 [00:21<00:00,  7.29it/s]\n",
            "100%|██████████| 40/40 [00:04<00:00,  9.31it/s]\n",
            "  1%|          | 1/157 [00:00<00:22,  6.82it/s]"
          ],
          "name": "stderr"
        },
        {
          "output_type": "stream",
          "text": [
            "Adjusting learning rate of group 0 to 6.3824e-03.\n",
            "\n",
            "Epoch 91 of 100, 25.85 s, with average training loss: 0.00012736, and validation loss: nan, validation accuracy: 86.33\n",
            "Epoch 92 starting at: 21:01:28\n"
          ],
          "name": "stdout"
        },
        {
          "output_type": "stream",
          "text": [
            "100%|██████████| 157/157 [00:21<00:00,  7.25it/s]\n",
            "100%|██████████| 40/40 [00:04<00:00,  9.33it/s]\n",
            "  1%|          | 1/157 [00:00<00:23,  6.69it/s]"
          ],
          "name": "stderr"
        },
        {
          "output_type": "stream",
          "text": [
            "Adjusting learning rate of group 0 to 6.3824e-03.\n",
            "\n",
            "Epoch 92 of 100, 25.96 s, with average training loss: 0.00009377, and validation loss: nan, validation accuracy: 86.46\n",
            "Epoch 93 starting at: 21:01:54\n"
          ],
          "name": "stdout"
        },
        {
          "output_type": "stream",
          "text": [
            "100%|██████████| 157/157 [00:21<00:00,  7.29it/s]\n",
            "100%|██████████| 40/40 [00:04<00:00,  9.39it/s]\n",
            "  1%|          | 1/157 [00:00<00:23,  6.72it/s]"
          ],
          "name": "stderr"
        },
        {
          "output_type": "stream",
          "text": [
            "Adjusting learning rate of group 0 to 6.3824e-03.\n",
            "\n",
            "Epoch 93 of 100, 25.82 s, with average training loss: 0.00007966, and validation loss: nan, validation accuracy: 86.47\n",
            "Epoch 94 starting at: 21:02:20\n"
          ],
          "name": "stdout"
        },
        {
          "output_type": "stream",
          "text": [
            "100%|██████████| 157/157 [00:21<00:00,  7.26it/s]\n",
            "100%|██████████| 40/40 [00:04<00:00,  9.36it/s]\n",
            "  1%|          | 1/157 [00:00<00:23,  6.78it/s]"
          ],
          "name": "stderr"
        },
        {
          "output_type": "stream",
          "text": [
            "Adjusting learning rate of group 0 to 6.3824e-03.\n",
            "\n",
            "Epoch 94 of 100, 25.90 s, with average training loss: 0.00005818, and validation loss: nan, validation accuracy: 86.72\n",
            "Epoch 95 starting at: 21:02:46\n"
          ],
          "name": "stdout"
        },
        {
          "output_type": "stream",
          "text": [
            "100%|██████████| 157/157 [00:21<00:00,  7.31it/s]\n",
            "100%|██████████| 40/40 [00:04<00:00,  9.27it/s]\n",
            "  1%|          | 1/157 [00:00<00:22,  6.86it/s]"
          ],
          "name": "stderr"
        },
        {
          "output_type": "stream",
          "text": [
            "Adjusting learning rate of group 0 to 6.3824e-03.\n",
            "\n",
            "Epoch 95 of 100, 25.81 s, with average training loss: 0.00006859, and validation loss: nan, validation accuracy: 86.75\n",
            "Epoch 96 starting at: 21:03:12\n"
          ],
          "name": "stdout"
        },
        {
          "output_type": "stream",
          "text": [
            "100%|██████████| 157/157 [00:21<00:00,  7.16it/s]\n",
            "100%|██████████| 40/40 [00:04<00:00,  9.39it/s]\n",
            "  1%|          | 1/157 [00:00<00:21,  7.25it/s]"
          ],
          "name": "stderr"
        },
        {
          "output_type": "stream",
          "text": [
            "Adjusting learning rate of group 0 to 6.1271e-03.\n",
            "\n",
            "Epoch 96 of 100, 26.19 s, with average training loss: 0.00038729, and validation loss: nan, validation accuracy: 86.59\n",
            "Epoch 97 starting at: 21:03:38\n"
          ],
          "name": "stdout"
        },
        {
          "output_type": "stream",
          "text": [
            "100%|██████████| 157/157 [00:22<00:00,  7.08it/s]\n",
            "100%|██████████| 40/40 [00:04<00:00,  8.94it/s]\n",
            "  1%|          | 1/157 [00:00<00:23,  6.70it/s]"
          ],
          "name": "stderr"
        },
        {
          "output_type": "stream",
          "text": [
            "Adjusting learning rate of group 0 to 6.1271e-03.\n",
            "\n",
            "Epoch 97 of 100, 26.65 s, with average training loss: 0.00536521, and validation loss: nan, validation accuracy: 85.80\n",
            "Epoch 98 starting at: 21:04:04\n"
          ],
          "name": "stdout"
        },
        {
          "output_type": "stream",
          "text": [
            "100%|██████████| 157/157 [00:22<00:00,  6.93it/s]\n",
            "100%|██████████| 40/40 [00:04<00:00,  9.03it/s]\n",
            "  1%|          | 1/157 [00:00<00:23,  6.61it/s]"
          ],
          "name": "stderr"
        },
        {
          "output_type": "stream",
          "text": [
            "Adjusting learning rate of group 0 to 6.1271e-03.\n",
            "\n",
            "Epoch 98 of 100, 27.09 s, with average training loss: 0.00165373, and validation loss: nan, validation accuracy: 86.06\n",
            "Epoch 99 starting at: 21:04:31\n"
          ],
          "name": "stdout"
        },
        {
          "output_type": "stream",
          "text": [
            "100%|██████████| 157/157 [00:22<00:00,  6.98it/s]\n",
            "100%|██████████| 40/40 [00:04<00:00,  9.12it/s]\n",
            "  1%|          | 1/157 [00:00<00:22,  6.89it/s]"
          ],
          "name": "stderr"
        },
        {
          "output_type": "stream",
          "text": [
            "Adjusting learning rate of group 0 to 6.1271e-03.\n",
            "\n",
            "Epoch 99 of 100, 26.89 s, with average training loss: 0.00227215, and validation loss: nan, validation accuracy: 85.55\n",
            "Epoch 100 starting at: 21:04:58\n"
          ],
          "name": "stdout"
        },
        {
          "output_type": "stream",
          "text": [
            "100%|██████████| 157/157 [00:22<00:00,  7.07it/s]\n",
            "100%|██████████| 40/40 [00:04<00:00,  9.25it/s]\n"
          ],
          "name": "stderr"
        },
        {
          "output_type": "stream",
          "text": [
            "Adjusting learning rate of group 0 to 6.1271e-03.\n",
            "\n",
            "Epoch 100 of 100, 26.52 s, with average training loss: 0.00802837, and validation loss: nan, validation accuracy: 85.05\n",
            "Finished Training  10/05/2021 21:05:25\n",
            "Avg per epoch ptime: 25.32, total 100 epochs ptime: 2532.01\n"
          ],
          "name": "stdout"
        }
      ]
    },
    {
      "cell_type": "markdown",
      "metadata": {
        "id": "w8GyvdFeUH0z"
      },
      "source": [
        "### Save training results"
      ]
    },
    {
      "cell_type": "code",
      "metadata": {
        "id": "goDJtDhxPDVv"
      },
      "source": [
        "# Show training results\n",
        "show_train_hist(train_hist, save=True, path=save_dir + '/CIFAR10_train_hist.png')\n",
        "\n",
        "# Add zeros at the beginning of data for graph 'smoothness'\n",
        "train_hist['VGG_accuracy'].insert(0, 0)\n",
        "train_hist['ResNet_accuracy'].insert(0, 0)\n",
        "train_hist['GGL_Net_accuracy'].insert(0, 0)\n",
        "# Show accuracy results\n",
        "show_accuracy_plot(train_hist, save=True, path=save_dir + '/CIFAR10_accuracy_hist.png')"
      ],
      "execution_count": null,
      "outputs": []
    },
    {
      "cell_type": "markdown",
      "metadata": {
        "id": "HSySclCr75mn"
      },
      "source": [
        "# Model testing"
      ]
    },
    {
      "cell_type": "code",
      "metadata": {
        "id": "FBTqh7zX1tEI"
      },
      "source": [
        ""
      ],
      "execution_count": null,
      "outputs": []
    }
  ]
}